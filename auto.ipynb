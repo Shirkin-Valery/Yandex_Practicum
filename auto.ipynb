{
 "cells": [
  {
   "cell_type": "markdown",
   "id": "7a96a4e0",
   "metadata": {},
   "source": [
    "# Определение стоимости автомобилей"
   ]
  },
  {
   "cell_type": "markdown",
   "id": "e0567cbc",
   "metadata": {},
   "source": [
    "Сервис по продаже автомобилей с пробегом «Не бит, не крашен» разрабатывает приложение для привлечения новых клиентов. В нём можно быстро узнать рыночную стоимость своего автомобиля. В вашем распоряжении исторические данные: технические характеристики, комплектации и цены автомобилей. Вам нужно построить модель для определения стоимости. \n",
    "\n",
    "Заказчику важны:\n",
    "\n",
    "- качество предсказания;\n",
    "- скорость предсказания;\n",
    "- время обучения."
   ]
  },
  {
   "cell_type": "markdown",
   "id": "d9c58960",
   "metadata": {},
   "source": [
    "## Подготовка данных"
   ]
  },
  {
   "cell_type": "code",
   "execution_count": 1,
   "id": "d1713a1c",
   "metadata": {},
   "outputs": [],
   "source": [
    "import pandas as pd\n",
    "import matplotlib\n",
    "import matplotlib.pyplot as plt\n",
    "import seaborn as sns\n",
    "import numpy as np\n",
    "import time\n",
    "\n",
    "from sklearn.tree import DecisionTreeRegressor\n",
    "from sklearn.preprocessing import StandardScaler\n",
    "from sklearn.model_selection import train_test_split, GridSearchCV\n",
    "from sklearn.ensemble import RandomForestRegressor\n",
    "from sklearn.datasets import make_regression\n",
    "from catboost import Pool, CatBoostRegressor, cv\n",
    "from sklearn.model_selection import cross_val_score\n",
    "from sklearn.linear_model import LinearRegression\n",
    "from lightgbm import LGBMRegressor\n",
    "from sklearn.dummy import DummyRegressor\n",
    "from sklearn.preprocessing import OneHotEncoder\n",
    "\n",
    "from sklearn.metrics import mean_squared_error\n",
    "\n",
    "pd.options.display.float_format = '{:,.2f}'.format\n",
    "sns.set_style(\"darkgrid\")\n",
    "matplotlib.style.use('ggplot')\n",
    "pd.options.display.max_rows = 30"
   ]
  },
  {
   "cell_type": "code",
   "execution_count": 2,
   "id": "8c5af522",
   "metadata": {},
   "outputs": [
    {
     "data": {
      "text/html": [
       "<div>\n",
       "<style scoped>\n",
       "    .dataframe tbody tr th:only-of-type {\n",
       "        vertical-align: middle;\n",
       "    }\n",
       "\n",
       "    .dataframe tbody tr th {\n",
       "        vertical-align: top;\n",
       "    }\n",
       "\n",
       "    .dataframe thead th {\n",
       "        text-align: right;\n",
       "    }\n",
       "</style>\n",
       "<table border=\"1\" class=\"dataframe\">\n",
       "  <thead>\n",
       "    <tr style=\"text-align: right;\">\n",
       "      <th></th>\n",
       "      <th>DateCrawled</th>\n",
       "      <th>Price</th>\n",
       "      <th>VehicleType</th>\n",
       "      <th>RegistrationYear</th>\n",
       "      <th>Gearbox</th>\n",
       "      <th>Power</th>\n",
       "      <th>Model</th>\n",
       "      <th>Kilometer</th>\n",
       "      <th>RegistrationMonth</th>\n",
       "      <th>FuelType</th>\n",
       "      <th>Brand</th>\n",
       "      <th>NotRepaired</th>\n",
       "      <th>DateCreated</th>\n",
       "      <th>NumberOfPictures</th>\n",
       "      <th>PostalCode</th>\n",
       "      <th>LastSeen</th>\n",
       "    </tr>\n",
       "  </thead>\n",
       "  <tbody>\n",
       "    <tr>\n",
       "      <td>0</td>\n",
       "      <td>2016-03-24 11:52:17</td>\n",
       "      <td>480</td>\n",
       "      <td>NaN</td>\n",
       "      <td>1993</td>\n",
       "      <td>manual</td>\n",
       "      <td>0</td>\n",
       "      <td>golf</td>\n",
       "      <td>150000</td>\n",
       "      <td>0</td>\n",
       "      <td>petrol</td>\n",
       "      <td>volkswagen</td>\n",
       "      <td>NaN</td>\n",
       "      <td>2016-03-24 00:00:00</td>\n",
       "      <td>0</td>\n",
       "      <td>70435</td>\n",
       "      <td>2016-04-07 03:16:57</td>\n",
       "    </tr>\n",
       "    <tr>\n",
       "      <td>1</td>\n",
       "      <td>2016-03-24 10:58:45</td>\n",
       "      <td>18300</td>\n",
       "      <td>coupe</td>\n",
       "      <td>2011</td>\n",
       "      <td>manual</td>\n",
       "      <td>190</td>\n",
       "      <td>NaN</td>\n",
       "      <td>125000</td>\n",
       "      <td>5</td>\n",
       "      <td>gasoline</td>\n",
       "      <td>audi</td>\n",
       "      <td>yes</td>\n",
       "      <td>2016-03-24 00:00:00</td>\n",
       "      <td>0</td>\n",
       "      <td>66954</td>\n",
       "      <td>2016-04-07 01:46:50</td>\n",
       "    </tr>\n",
       "    <tr>\n",
       "      <td>2</td>\n",
       "      <td>2016-03-14 12:52:21</td>\n",
       "      <td>9800</td>\n",
       "      <td>suv</td>\n",
       "      <td>2004</td>\n",
       "      <td>auto</td>\n",
       "      <td>163</td>\n",
       "      <td>grand</td>\n",
       "      <td>125000</td>\n",
       "      <td>8</td>\n",
       "      <td>gasoline</td>\n",
       "      <td>jeep</td>\n",
       "      <td>NaN</td>\n",
       "      <td>2016-03-14 00:00:00</td>\n",
       "      <td>0</td>\n",
       "      <td>90480</td>\n",
       "      <td>2016-04-05 12:47:46</td>\n",
       "    </tr>\n",
       "    <tr>\n",
       "      <td>3</td>\n",
       "      <td>2016-03-17 16:54:04</td>\n",
       "      <td>1500</td>\n",
       "      <td>small</td>\n",
       "      <td>2001</td>\n",
       "      <td>manual</td>\n",
       "      <td>75</td>\n",
       "      <td>golf</td>\n",
       "      <td>150000</td>\n",
       "      <td>6</td>\n",
       "      <td>petrol</td>\n",
       "      <td>volkswagen</td>\n",
       "      <td>no</td>\n",
       "      <td>2016-03-17 00:00:00</td>\n",
       "      <td>0</td>\n",
       "      <td>91074</td>\n",
       "      <td>2016-03-17 17:40:17</td>\n",
       "    </tr>\n",
       "    <tr>\n",
       "      <td>4</td>\n",
       "      <td>2016-03-31 17:25:20</td>\n",
       "      <td>3600</td>\n",
       "      <td>small</td>\n",
       "      <td>2008</td>\n",
       "      <td>manual</td>\n",
       "      <td>69</td>\n",
       "      <td>fabia</td>\n",
       "      <td>90000</td>\n",
       "      <td>7</td>\n",
       "      <td>gasoline</td>\n",
       "      <td>skoda</td>\n",
       "      <td>no</td>\n",
       "      <td>2016-03-31 00:00:00</td>\n",
       "      <td>0</td>\n",
       "      <td>60437</td>\n",
       "      <td>2016-04-06 10:17:21</td>\n",
       "    </tr>\n",
       "  </tbody>\n",
       "</table>\n",
       "</div>"
      ],
      "text/plain": [
       "           DateCrawled  Price VehicleType  RegistrationYear Gearbox  Power  \\\n",
       "0  2016-03-24 11:52:17    480         NaN              1993  manual      0   \n",
       "1  2016-03-24 10:58:45  18300       coupe              2011  manual    190   \n",
       "2  2016-03-14 12:52:21   9800         suv              2004    auto    163   \n",
       "3  2016-03-17 16:54:04   1500       small              2001  manual     75   \n",
       "4  2016-03-31 17:25:20   3600       small              2008  manual     69   \n",
       "\n",
       "   Model  Kilometer  RegistrationMonth  FuelType       Brand NotRepaired  \\\n",
       "0   golf     150000                  0    petrol  volkswagen         NaN   \n",
       "1    NaN     125000                  5  gasoline        audi         yes   \n",
       "2  grand     125000                  8  gasoline        jeep         NaN   \n",
       "3   golf     150000                  6    petrol  volkswagen          no   \n",
       "4  fabia      90000                  7  gasoline       skoda          no   \n",
       "\n",
       "           DateCreated  NumberOfPictures  PostalCode             LastSeen  \n",
       "0  2016-03-24 00:00:00                 0       70435  2016-04-07 03:16:57  \n",
       "1  2016-03-24 00:00:00                 0       66954  2016-04-07 01:46:50  \n",
       "2  2016-03-14 00:00:00                 0       90480  2016-04-05 12:47:46  \n",
       "3  2016-03-17 00:00:00                 0       91074  2016-03-17 17:40:17  \n",
       "4  2016-03-31 00:00:00                 0       60437  2016-04-06 10:17:21  "
      ]
     },
     "execution_count": 2,
     "metadata": {},
     "output_type": "execute_result"
    }
   ],
   "source": [
    "data = pd.read_csv('/datasets/autos.csv')\n",
    "data.head()"
   ]
  },
  {
   "cell_type": "markdown",
   "id": "159ab022",
   "metadata": {},
   "source": [
    "Преобразуем заголовки столбцов в формат нижнего регистра с символом подчеркивания между словами"
   ]
  },
  {
   "cell_type": "code",
   "execution_count": 3,
   "id": "b6d27906",
   "metadata": {},
   "outputs": [],
   "source": [
    "def split_word(text): \n",
    "    list_=[]\n",
    "    for i in range(len(text)):\n",
    "        if text[i].isupper():\n",
    "            list_.append(' '+ text[i])\n",
    "        else:\n",
    "            list_.append(text[i])\n",
    "    return ((''.join(list_).lower().strip()).replace(' ','_'))\n",
    "\n",
    "data.columns = [split_word(i) for i in data.columns]"
   ]
  },
  {
   "cell_type": "code",
   "execution_count": 4,
   "id": "a4566a46",
   "metadata": {},
   "outputs": [
    {
     "name": "stdout",
     "output_type": "stream",
     "text": [
      "<class 'pandas.core.frame.DataFrame'>\n",
      "RangeIndex: 354369 entries, 0 to 354368\n",
      "Data columns (total 16 columns):\n",
      "date_crawled          354369 non-null object\n",
      "price                 354369 non-null int64\n",
      "vehicle_type          316879 non-null object\n",
      "registration_year     354369 non-null int64\n",
      "gearbox               334536 non-null object\n",
      "power                 354369 non-null int64\n",
      "model                 334664 non-null object\n",
      "kilometer             354369 non-null int64\n",
      "registration_month    354369 non-null int64\n",
      "fuel_type             321474 non-null object\n",
      "brand                 354369 non-null object\n",
      "not_repaired          283215 non-null object\n",
      "date_created          354369 non-null object\n",
      "number_of_pictures    354369 non-null int64\n",
      "postal_code           354369 non-null int64\n",
      "last_seen             354369 non-null object\n",
      "dtypes: int64(7), object(9)\n",
      "memory usage: 43.3+ MB\n"
     ]
    }
   ],
   "source": [
    "data.info()"
   ]
  },
  {
   "cell_type": "code",
   "execution_count": 5,
   "id": "f9f449f2",
   "metadata": {},
   "outputs": [
    {
     "data": {
      "text/html": [
       "<div>\n",
       "<style scoped>\n",
       "    .dataframe tbody tr th:only-of-type {\n",
       "        vertical-align: middle;\n",
       "    }\n",
       "\n",
       "    .dataframe tbody tr th {\n",
       "        vertical-align: top;\n",
       "    }\n",
       "\n",
       "    .dataframe thead th {\n",
       "        text-align: right;\n",
       "    }\n",
       "</style>\n",
       "<table border=\"1\" class=\"dataframe\">\n",
       "  <thead>\n",
       "    <tr style=\"text-align: right;\">\n",
       "      <th></th>\n",
       "      <th>count</th>\n",
       "      <th>mean</th>\n",
       "      <th>std</th>\n",
       "      <th>min</th>\n",
       "      <th>25%</th>\n",
       "      <th>50%</th>\n",
       "      <th>75%</th>\n",
       "      <th>max</th>\n",
       "    </tr>\n",
       "  </thead>\n",
       "  <tbody>\n",
       "    <tr>\n",
       "      <td>price</td>\n",
       "      <td>354,369.00</td>\n",
       "      <td>4,416.66</td>\n",
       "      <td>4,514.16</td>\n",
       "      <td>0.00</td>\n",
       "      <td>1,050.00</td>\n",
       "      <td>2,700.00</td>\n",
       "      <td>6,400.00</td>\n",
       "      <td>20,000.00</td>\n",
       "    </tr>\n",
       "    <tr>\n",
       "      <td>registration_year</td>\n",
       "      <td>354,369.00</td>\n",
       "      <td>2,004.23</td>\n",
       "      <td>90.23</td>\n",
       "      <td>1,000.00</td>\n",
       "      <td>1,999.00</td>\n",
       "      <td>2,003.00</td>\n",
       "      <td>2,008.00</td>\n",
       "      <td>9,999.00</td>\n",
       "    </tr>\n",
       "    <tr>\n",
       "      <td>power</td>\n",
       "      <td>354,369.00</td>\n",
       "      <td>110.09</td>\n",
       "      <td>189.85</td>\n",
       "      <td>0.00</td>\n",
       "      <td>69.00</td>\n",
       "      <td>105.00</td>\n",
       "      <td>143.00</td>\n",
       "      <td>20,000.00</td>\n",
       "    </tr>\n",
       "    <tr>\n",
       "      <td>kilometer</td>\n",
       "      <td>354,369.00</td>\n",
       "      <td>128,211.17</td>\n",
       "      <td>37,905.34</td>\n",
       "      <td>5,000.00</td>\n",
       "      <td>125,000.00</td>\n",
       "      <td>150,000.00</td>\n",
       "      <td>150,000.00</td>\n",
       "      <td>150,000.00</td>\n",
       "    </tr>\n",
       "    <tr>\n",
       "      <td>registration_month</td>\n",
       "      <td>354,369.00</td>\n",
       "      <td>5.71</td>\n",
       "      <td>3.73</td>\n",
       "      <td>0.00</td>\n",
       "      <td>3.00</td>\n",
       "      <td>6.00</td>\n",
       "      <td>9.00</td>\n",
       "      <td>12.00</td>\n",
       "    </tr>\n",
       "    <tr>\n",
       "      <td>number_of_pictures</td>\n",
       "      <td>354,369.00</td>\n",
       "      <td>0.00</td>\n",
       "      <td>0.00</td>\n",
       "      <td>0.00</td>\n",
       "      <td>0.00</td>\n",
       "      <td>0.00</td>\n",
       "      <td>0.00</td>\n",
       "      <td>0.00</td>\n",
       "    </tr>\n",
       "    <tr>\n",
       "      <td>postal_code</td>\n",
       "      <td>354,369.00</td>\n",
       "      <td>50,508.69</td>\n",
       "      <td>25,783.10</td>\n",
       "      <td>1,067.00</td>\n",
       "      <td>30,165.00</td>\n",
       "      <td>49,413.00</td>\n",
       "      <td>71,083.00</td>\n",
       "      <td>99,998.00</td>\n",
       "    </tr>\n",
       "  </tbody>\n",
       "</table>\n",
       "</div>"
      ],
      "text/plain": [
       "                        count       mean       std      min        25%  \\\n",
       "price              354,369.00   4,416.66  4,514.16     0.00   1,050.00   \n",
       "registration_year  354,369.00   2,004.23     90.23 1,000.00   1,999.00   \n",
       "power              354,369.00     110.09    189.85     0.00      69.00   \n",
       "kilometer          354,369.00 128,211.17 37,905.34 5,000.00 125,000.00   \n",
       "registration_month 354,369.00       5.71      3.73     0.00       3.00   \n",
       "number_of_pictures 354,369.00       0.00      0.00     0.00       0.00   \n",
       "postal_code        354,369.00  50,508.69 25,783.10 1,067.00  30,165.00   \n",
       "\n",
       "                          50%        75%        max  \n",
       "price                2,700.00   6,400.00  20,000.00  \n",
       "registration_year    2,003.00   2,008.00   9,999.00  \n",
       "power                  105.00     143.00  20,000.00  \n",
       "kilometer          150,000.00 150,000.00 150,000.00  \n",
       "registration_month       6.00       9.00      12.00  \n",
       "number_of_pictures       0.00       0.00       0.00  \n",
       "postal_code         49,413.00  71,083.00  99,998.00  "
      ]
     },
     "execution_count": 5,
     "metadata": {},
     "output_type": "execute_result"
    }
   ],
   "source": [
    "data.describe().T"
   ]
  },
  {
   "cell_type": "markdown",
   "id": "053f4f27",
   "metadata": {},
   "source": [
    "**Комментарий:** Так как для оценки качества моделей применяйте метрику RMSE, требуется посмотреть выбросы. Плюс есть пропуски, которые требуют обратботки, а также оценка дубликатов."
   ]
  },
  {
   "cell_type": "markdown",
   "id": "9d5b9ed6",
   "metadata": {},
   "source": [
    "### Проверка дубликатов"
   ]
  },
  {
   "cell_type": "code",
   "execution_count": 6,
   "id": "4e071018",
   "metadata": {},
   "outputs": [
    {
     "data": {
      "text/html": [
       "<div>\n",
       "<style scoped>\n",
       "    .dataframe tbody tr th:only-of-type {\n",
       "        vertical-align: middle;\n",
       "    }\n",
       "\n",
       "    .dataframe tbody tr th {\n",
       "        vertical-align: top;\n",
       "    }\n",
       "\n",
       "    .dataframe thead th {\n",
       "        text-align: right;\n",
       "    }\n",
       "</style>\n",
       "<table border=\"1\" class=\"dataframe\">\n",
       "  <thead>\n",
       "    <tr style=\"text-align: right;\">\n",
       "      <th></th>\n",
       "      <th>date_crawled</th>\n",
       "      <th>price</th>\n",
       "      <th>vehicle_type</th>\n",
       "      <th>registration_year</th>\n",
       "      <th>gearbox</th>\n",
       "      <th>power</th>\n",
       "      <th>model</th>\n",
       "      <th>kilometer</th>\n",
       "      <th>registration_month</th>\n",
       "      <th>fuel_type</th>\n",
       "      <th>brand</th>\n",
       "      <th>not_repaired</th>\n",
       "      <th>date_created</th>\n",
       "      <th>number_of_pictures</th>\n",
       "      <th>postal_code</th>\n",
       "      <th>last_seen</th>\n",
       "    </tr>\n",
       "  </thead>\n",
       "  <tbody>\n",
       "    <tr>\n",
       "      <td>41529</td>\n",
       "      <td>2016-03-18 18:46:15</td>\n",
       "      <td>1999</td>\n",
       "      <td>wagon</td>\n",
       "      <td>2001</td>\n",
       "      <td>manual</td>\n",
       "      <td>131</td>\n",
       "      <td>passat</td>\n",
       "      <td>150000</td>\n",
       "      <td>7</td>\n",
       "      <td>gasoline</td>\n",
       "      <td>volkswagen</td>\n",
       "      <td>no</td>\n",
       "      <td>2016-03-18 00:00:00</td>\n",
       "      <td>0</td>\n",
       "      <td>36391</td>\n",
       "      <td>2016-03-18 18:46:15</td>\n",
       "    </tr>\n",
       "    <tr>\n",
       "      <td>88087</td>\n",
       "      <td>2016-03-08 18:42:48</td>\n",
       "      <td>1799</td>\n",
       "      <td>coupe</td>\n",
       "      <td>1999</td>\n",
       "      <td>auto</td>\n",
       "      <td>193</td>\n",
       "      <td>clk</td>\n",
       "      <td>20000</td>\n",
       "      <td>7</td>\n",
       "      <td>petrol</td>\n",
       "      <td>mercedes_benz</td>\n",
       "      <td>no</td>\n",
       "      <td>2016-03-08 00:00:00</td>\n",
       "      <td>0</td>\n",
       "      <td>89518</td>\n",
       "      <td>2016-03-09 09:46:57</td>\n",
       "    </tr>\n",
       "    <tr>\n",
       "      <td>90964</td>\n",
       "      <td>2016-03-28 00:56:10</td>\n",
       "      <td>1000</td>\n",
       "      <td>small</td>\n",
       "      <td>2002</td>\n",
       "      <td>manual</td>\n",
       "      <td>83</td>\n",
       "      <td>other</td>\n",
       "      <td>150000</td>\n",
       "      <td>1</td>\n",
       "      <td>petrol</td>\n",
       "      <td>suzuki</td>\n",
       "      <td>no</td>\n",
       "      <td>2016-03-28 00:00:00</td>\n",
       "      <td>0</td>\n",
       "      <td>66589</td>\n",
       "      <td>2016-03-28 08:46:21</td>\n",
       "    </tr>\n",
       "    <tr>\n",
       "      <td>171088</td>\n",
       "      <td>2016-03-08 18:42:48</td>\n",
       "      <td>1799</td>\n",
       "      <td>coupe</td>\n",
       "      <td>1999</td>\n",
       "      <td>auto</td>\n",
       "      <td>193</td>\n",
       "      <td>clk</td>\n",
       "      <td>20000</td>\n",
       "      <td>7</td>\n",
       "      <td>petrol</td>\n",
       "      <td>mercedes_benz</td>\n",
       "      <td>no</td>\n",
       "      <td>2016-03-08 00:00:00</td>\n",
       "      <td>0</td>\n",
       "      <td>89518</td>\n",
       "      <td>2016-03-09 09:46:57</td>\n",
       "    </tr>\n",
       "    <tr>\n",
       "      <td>187735</td>\n",
       "      <td>2016-04-03 09:01:15</td>\n",
       "      <td>4699</td>\n",
       "      <td>coupe</td>\n",
       "      <td>2003</td>\n",
       "      <td>auto</td>\n",
       "      <td>218</td>\n",
       "      <td>clk</td>\n",
       "      <td>125000</td>\n",
       "      <td>6</td>\n",
       "      <td>petrol</td>\n",
       "      <td>mercedes_benz</td>\n",
       "      <td>yes</td>\n",
       "      <td>2016-04-03 00:00:00</td>\n",
       "      <td>0</td>\n",
       "      <td>75196</td>\n",
       "      <td>2016-04-07 09:44:54</td>\n",
       "    </tr>\n",
       "    <tr>\n",
       "      <td>231258</td>\n",
       "      <td>2016-03-28 00:56:10</td>\n",
       "      <td>1000</td>\n",
       "      <td>small</td>\n",
       "      <td>2002</td>\n",
       "      <td>manual</td>\n",
       "      <td>83</td>\n",
       "      <td>other</td>\n",
       "      <td>150000</td>\n",
       "      <td>1</td>\n",
       "      <td>petrol</td>\n",
       "      <td>suzuki</td>\n",
       "      <td>no</td>\n",
       "      <td>2016-03-28 00:00:00</td>\n",
       "      <td>0</td>\n",
       "      <td>66589</td>\n",
       "      <td>2016-03-28 08:46:21</td>\n",
       "    </tr>\n",
       "    <tr>\n",
       "      <td>258109</td>\n",
       "      <td>2016-04-03 09:01:15</td>\n",
       "      <td>4699</td>\n",
       "      <td>coupe</td>\n",
       "      <td>2003</td>\n",
       "      <td>auto</td>\n",
       "      <td>218</td>\n",
       "      <td>clk</td>\n",
       "      <td>125000</td>\n",
       "      <td>6</td>\n",
       "      <td>petrol</td>\n",
       "      <td>mercedes_benz</td>\n",
       "      <td>yes</td>\n",
       "      <td>2016-04-03 00:00:00</td>\n",
       "      <td>0</td>\n",
       "      <td>75196</td>\n",
       "      <td>2016-04-07 09:44:54</td>\n",
       "    </tr>\n",
       "    <tr>\n",
       "      <td>325651</td>\n",
       "      <td>2016-03-18 18:46:15</td>\n",
       "      <td>1999</td>\n",
       "      <td>wagon</td>\n",
       "      <td>2001</td>\n",
       "      <td>manual</td>\n",
       "      <td>131</td>\n",
       "      <td>passat</td>\n",
       "      <td>150000</td>\n",
       "      <td>7</td>\n",
       "      <td>gasoline</td>\n",
       "      <td>volkswagen</td>\n",
       "      <td>no</td>\n",
       "      <td>2016-03-18 00:00:00</td>\n",
       "      <td>0</td>\n",
       "      <td>36391</td>\n",
       "      <td>2016-03-18 18:46:15</td>\n",
       "    </tr>\n",
       "  </tbody>\n",
       "</table>\n",
       "</div>"
      ],
      "text/plain": [
       "               date_crawled  price vehicle_type  registration_year gearbox  \\\n",
       "41529   2016-03-18 18:46:15   1999        wagon               2001  manual   \n",
       "88087   2016-03-08 18:42:48   1799        coupe               1999    auto   \n",
       "90964   2016-03-28 00:56:10   1000        small               2002  manual   \n",
       "171088  2016-03-08 18:42:48   1799        coupe               1999    auto   \n",
       "187735  2016-04-03 09:01:15   4699        coupe               2003    auto   \n",
       "231258  2016-03-28 00:56:10   1000        small               2002  manual   \n",
       "258109  2016-04-03 09:01:15   4699        coupe               2003    auto   \n",
       "325651  2016-03-18 18:46:15   1999        wagon               2001  manual   \n",
       "\n",
       "        power   model  kilometer  registration_month fuel_type          brand  \\\n",
       "41529     131  passat     150000                   7  gasoline     volkswagen   \n",
       "88087     193     clk      20000                   7    petrol  mercedes_benz   \n",
       "90964      83   other     150000                   1    petrol         suzuki   \n",
       "171088    193     clk      20000                   7    petrol  mercedes_benz   \n",
       "187735    218     clk     125000                   6    petrol  mercedes_benz   \n",
       "231258     83   other     150000                   1    petrol         suzuki   \n",
       "258109    218     clk     125000                   6    petrol  mercedes_benz   \n",
       "325651    131  passat     150000                   7  gasoline     volkswagen   \n",
       "\n",
       "       not_repaired         date_created  number_of_pictures  postal_code  \\\n",
       "41529            no  2016-03-18 00:00:00                   0        36391   \n",
       "88087            no  2016-03-08 00:00:00                   0        89518   \n",
       "90964            no  2016-03-28 00:00:00                   0        66589   \n",
       "171088           no  2016-03-08 00:00:00                   0        89518   \n",
       "187735          yes  2016-04-03 00:00:00                   0        75196   \n",
       "231258           no  2016-03-28 00:00:00                   0        66589   \n",
       "258109          yes  2016-04-03 00:00:00                   0        75196   \n",
       "325651           no  2016-03-18 00:00:00                   0        36391   \n",
       "\n",
       "                  last_seen  \n",
       "41529   2016-03-18 18:46:15  \n",
       "88087   2016-03-09 09:46:57  \n",
       "90964   2016-03-28 08:46:21  \n",
       "171088  2016-03-09 09:46:57  \n",
       "187735  2016-04-07 09:44:54  \n",
       "231258  2016-03-28 08:46:21  \n",
       "258109  2016-04-07 09:44:54  \n",
       "325651  2016-03-18 18:46:15  "
      ]
     },
     "metadata": {},
     "output_type": "display_data"
    }
   ],
   "source": [
    "duplicates = data[data.duplicated(keep=False)] \n",
    "display(duplicates)"
   ]
  },
  {
   "cell_type": "code",
   "execution_count": 7,
   "id": "957534b5",
   "metadata": {},
   "outputs": [],
   "source": [
    "data = data.drop_duplicates().reset_index(drop=True)"
   ]
  },
  {
   "cell_type": "markdown",
   "id": "6e429ee0",
   "metadata": {},
   "source": [
    "**Комментарий:** Выявлено 4 полных дубликата, удалены"
   ]
  },
  {
   "cell_type": "markdown",
   "id": "613ff0a9",
   "metadata": {},
   "source": [
    "### Оценка пропусков"
   ]
  },
  {
   "cell_type": "markdown",
   "id": "19aa5cfa",
   "metadata": {},
   "source": [
    "- из массовых пропусков значений (NaN) можно  отменить такие поля : vehicle_type, fuel_type, not_repaired. Признаки категориальные поэтому замена с помощью статистических методов оценки (mean,median,moda т.д.) затруднительна.\n",
    "- в таргете поле price пропусков нет\n",
    "- заменим отсутствующие значения по категориям на значения \"not defined\" - не определено"
   ]
  },
  {
   "cell_type": "code",
   "execution_count": 8,
   "id": "c77ae18f",
   "metadata": {},
   "outputs": [],
   "source": [
    "data[['vehicle_type','not_repaired','fuel_type','model','gearbox']] =data[['vehicle_type','not_repaired','fuel_type','model','gearbox']].fillna('not defined')"
   ]
  },
  {
   "cell_type": "markdown",
   "id": "98178954",
   "metadata": {},
   "source": [
    "### Оценка  выбросов и аномальных значений"
   ]
  },
  {
   "cell_type": "markdown",
   "id": "2f90580a",
   "metadata": {},
   "source": [
    "#### Оценка поля registration_year (год регистрации автомобиля)"
   ]
  },
  {
   "cell_type": "markdown",
   "id": "cc47929f",
   "metadata": {},
   "source": [
    "**Комментарий:** поле **registration_year**  присутвуют значения , которые отличаются  от привычного летоисчисления"
   ]
  },
  {
   "cell_type": "code",
   "execution_count": 9,
   "id": "12ca2ccb",
   "metadata": {},
   "outputs": [
    {
     "data": {
      "text/plain": [
       "array([1000, 1001, 1039, 1111, 1200, 1234, 1253, 1255, 1300, 1400, 1500,\n",
       "       1600, 1602, 1688, 1800, 1910, 1915, 1919, 1920, 1923, 1925, 1927,\n",
       "       1928, 1929, 1930, 1931, 1932, 1933, 1934, 1935, 1936, 1937, 1938,\n",
       "       1940, 1941, 1942, 1943, 1944, 1945, 1946, 1947, 1948, 1949, 1950,\n",
       "       1951, 1952, 1953, 1954, 1955, 1956, 1957, 1958, 1959, 1960, 1961,\n",
       "       1962, 1963, 1964, 1965, 1966, 1967, 1968, 1969, 1970, 1971, 1972,\n",
       "       1973, 1974, 1975, 1976, 1977, 1978, 1979, 1980, 1981, 1982, 1983,\n",
       "       1984, 1985, 1986, 1987, 1988, 1989, 1990, 1991, 1992, 1993, 1994,\n",
       "       1995, 1996, 1997, 1998, 1999, 2000, 2001, 2002, 2003, 2004, 2005,\n",
       "       2006, 2007, 2008, 2009, 2010, 2011, 2012, 2013, 2014, 2015, 2016,\n",
       "       2017, 2018, 2019, 2066, 2200, 2222, 2290, 2500, 2800, 2900, 3000,\n",
       "       3200, 3500, 3700, 3800, 4000, 4100, 4500, 4800, 5000, 5300, 5555,\n",
       "       5600, 5900, 5911, 6000, 6500, 7000, 7100, 7500, 7800, 8000, 8200,\n",
       "       8455, 8500, 8888, 9000, 9229, 9450, 9996, 9999])"
      ]
     },
     "execution_count": 9,
     "metadata": {},
     "output_type": "execute_result"
    }
   ],
   "source": [
    "data['registration_year'].sort_values().unique()"
   ]
  },
  {
   "cell_type": "code",
   "execution_count": 10,
   "id": "dec3010a",
   "metadata": {},
   "outputs": [
    {
     "data": {
      "image/png": "[encoded data removed]",
      "text/plain": [
       "<Figure size 1080x360 with 1 Axes>"
      ]
     },
     "metadata": {},
     "output_type": "display_data"
    }
   ],
   "source": [
    "data.query('1899 < registration_year < 2017')['registration_year'].hist(bins=50, figsize=(15,5),density = True,edgecolor='black');"
   ]
  },
  {
   "cell_type": "markdown",
   "id": "ff3e92eb",
   "metadata": {},
   "source": [
    "**Комментарий:**  целесообразно оставить данные в период 1960-2019, остальное отбросить."
   ]
  },
  {
   "cell_type": "code",
   "execution_count": 11,
   "id": "54fecbdf",
   "metadata": {},
   "outputs": [],
   "source": [
    "data = data.drop(index = data.loc[ 1960 < (data['registration_year']  ) & (data['registration_year']<2019)].index).reset_index(drop=True) # дропнули года"
   ]
  },
  {
   "cell_type": "markdown",
   "id": "a8d085b5",
   "metadata": {},
   "source": [
    "#### Оценка поле power (мощность двигателя (л. с.))"
   ]
  },
  {
   "cell_type": "markdown",
   "id": "3ad2deeb",
   "metadata": {},
   "source": [
    "**Комментарий:** поле **power** имеет нулевые и аномальные высокие мощности. Целесообразно такие значения  менять на медианные по моделям машин. Общепринятыми мощностями будем  считать диапазон от 5 до 500 ЛС. Для усреднения будем брать медиану  по связке полей brand+model+vehicle_type+registration_year, что более реалистично отразить мощность автомобиля. "
   ]
  },
  {
   "cell_type": "code",
   "execution_count": 12,
   "id": "e975aec1",
   "metadata": {},
   "outputs": [
    {
     "data": {
      "image/png": "[encoded data removed]",
      "text/plain": [
       "<Figure size 2520x360 with 2 Axes>"
      ]
     },
     "metadata": {},
     "output_type": "display_data"
    }
   ],
   "source": [
    "fig, axes = plt.subplots(1, 2,figsize=(35, 5));\n",
    "axes[0].boxplot(x= data['power'],showfliers = True, vert =False);\n",
    "axes[1].boxplot(x= data['power'],showfliers = False , vert =False);\n",
    "\n",
    "axes[0].set_title('Отражение аномальных значений распределения машин по мощности', fontsize=22)\n",
    "axes[0].set_xlabel('Мощность авто, ЛС');\n",
    "axes[1].set_title('Основная совокупность распределения машин по мощности', fontsize=22)\n",
    "axes[1].set_xlabel('Мощность авто, ЛС');"
   ]
  },
  {
   "cell_type": "markdown",
   "id": "f5bd435c",
   "metadata": {},
   "source": [
    "Заменим медианой"
   ]
  },
  {
   "cell_type": "code",
   "execution_count": 13,
   "id": "c997af2b",
   "metadata": {},
   "outputs": [],
   "source": [
    "data['power_correct'] = round(data.groupby(['brand','model','vehicle_type','registration_year'])['power'].transform('median'),2)\n",
    "data['power'] = np.where((500 > data['power']) & (data['power']<5), data['power_correct'], data['power'])"
   ]
  },
  {
   "cell_type": "code",
   "execution_count": 14,
   "id": "b7299ea5",
   "metadata": {},
   "outputs": [],
   "source": [
    "data = data.drop(index = data.loc[(data['power_correct'] <= 1)&(data['power']==0)&(data['vehicle_type'] == 'not defined')].index).reset_index(drop=True) #это можно удалить, слишком много отсутствующих значений.\n",
    "# data.loc[(data['power_correct'] <= 1)&(data['power']==0)&(data['vehicle_type'] == 'not defined')&(data['not_repaired'] == 'not defined')&(data['model'] == 'not defined')] #это можно удалить, счлишком много отсутствующих значений."
   ]
  },
  {
   "cell_type": "markdown",
   "id": "a4b4919b",
   "metadata": {},
   "source": [
    "**Комментарий:**  также выявлены экземпляры с нулевой мощьностью, по которым мощьность невозможно усреднить из-за единичных случаев. Плюс по этим  данным отсутствуют прочие критерии, данны достаточно грязные, целесообразно не принимать их в модель. Поэтому - drop."
   ]
  },
  {
   "cell_type": "markdown",
   "id": "3ab9748c",
   "metadata": {},
   "source": [
    "#### Оценка поле price"
   ]
  },
  {
   "cell_type": "code",
   "execution_count": 15,
   "id": "23936df6",
   "metadata": {},
   "outputs": [
    {
     "data": {
      "image/png": "[encoded data removed]",
      "text/plain": [
       "<Figure size 2520x360 with 2 Axes>"
      ]
     },
     "metadata": {},
     "output_type": "display_data"
    }
   ],
   "source": [
    "fig, axes = plt.subplots(1, 2,figsize=(35, 5));\n",
    "axes[0].hist(data['price'],bins = 50 ,density = False,edgecolor='black');\n",
    "axes[1].boxplot(x= data['price'],showfliers = True, vert =False);\n",
    "\n",
    "axes[0].set_title('Частотное распределение цены', fontsize=22)\n",
    "axes[0].set_xlabel('Цена, Евро');\n",
    "axes[1].set_title('Частотное распределение цены, вид \"сверху\"', fontsize=22)\n",
    "axes[1].set_xlabel('Цена, Евро');"
   ]
  },
  {
   "cell_type": "markdown",
   "id": "2ff5aa45",
   "metadata": {},
   "source": [
    "**Комментарий:** поле **price** есть нулевые значения. Заменим нулевые значения на медианную цену в связке brand+model+registration_year, в  такой связке цена будет более корректно отражать стоимость авто. Также отбросим цену свыше 14000 евро, так эти данные ухудшают качество модели."
   ]
  },
  {
   "cell_type": "code",
   "execution_count": 16,
   "id": "cae1fc34",
   "metadata": {},
   "outputs": [],
   "source": [
    "data['price_correct'] = round(data.groupby(['brand','model','vehicle_type','registration_year'])['price'].transform('median'),2) # возьмем медиану значение цены исходя из группы признаков.\n",
    "data = data.drop(index = data.loc[(data['price_correct'] <= 1)&(data['price']==0)| (data['price_correct']>14000)].index).reset_index(drop=True)"
   ]
  },
  {
   "cell_type": "markdown",
   "id": "111cb637",
   "metadata": {},
   "source": [
    "**Комментарий:**  также выявлены экземпляры с нулевой ценой, по которым цену невозможно усреднить из-за единичных случаев. Аналогично, как и по полю **power** по этим  данным отсутствуют прочие критерии, данны достаточно грязные, целесообразно не принимать их в модель. Поэтому - drop."
   ]
  },
  {
   "cell_type": "code",
   "execution_count": 17,
   "id": "76edcba1",
   "metadata": {},
   "outputs": [
    {
     "name": "stdout",
     "output_type": "stream",
     "text": [
      "<class 'pandas.core.frame.DataFrame'>\n",
      "RangeIndex: 331870 entries, 0 to 331869\n",
      "Data columns (total 18 columns):\n",
      "date_crawled          331870 non-null object\n",
      "price                 331870 non-null int64\n",
      "vehicle_type          331870 non-null object\n",
      "registration_year     331870 non-null int64\n",
      "gearbox               331870 non-null object\n",
      "power                 331870 non-null float64\n",
      "model                 331870 non-null object\n",
      "kilometer             331870 non-null int64\n",
      "registration_month    331870 non-null int64\n",
      "fuel_type             331870 non-null object\n",
      "brand                 331870 non-null object\n",
      "not_repaired          331870 non-null object\n",
      "date_created          331870 non-null object\n",
      "number_of_pictures    331870 non-null int64\n",
      "postal_code           331870 non-null int64\n",
      "last_seen             331870 non-null object\n",
      "power_correct         331870 non-null float64\n",
      "price_correct         331870 non-null float64\n",
      "dtypes: float64(3), int64(6), object(9)\n",
      "memory usage: 45.6+ MB\n"
     ]
    }
   ],
   "source": [
    "data.info()"
   ]
  },
  {
   "cell_type": "markdown",
   "id": "15c515cc",
   "metadata": {},
   "source": [
    "### Оценка признаков, которые влияют на модель."
   ]
  },
  {
   "cell_type": "markdown",
   "id": "f9e0b6a7",
   "metadata": {},
   "source": [
    "Такие поля  как:  date_crawled, registration_month, date_created, postal_code,last_seen не имеют смыслового значения для  решения задачи, поле number_of_pictures - все значения нули, поэтому эти столбцы удалим из расчетов в модели."
   ]
  },
  {
   "cell_type": "code",
   "execution_count": 18,
   "id": "3c2ff424",
   "metadata": {},
   "outputs": [],
   "source": [
    "data.drop(['date_crawled', 'registration_month', 'date_created', 'postal_code','last_seen','number_of_pictures','power_correct','price_correct'],axis =1, inplace = True)"
   ]
  },
  {
   "cell_type": "code",
   "execution_count": 27,
   "id": "679d82ba",
   "metadata": {},
   "outputs": [],
   "source": [
    "list_categ = ['vehicle_type', 'gearbox','fuel_type','model','brand', 'not_repaired']\n",
    "features_train = data.drop(['price'], axis=1)\n",
    "target_train = data['price']\n",
    "features_train,features_test, target_train,target_test = train_test_split(features_train,target_train, test_size=0.25, random_state=393)"
   ]
  },
  {
   "cell_type": "code",
   "execution_count": 28,
   "id": "dd3e8eb6",
   "metadata": {},
   "outputs": [],
   "source": [
    "numeric_list = ['registration_year','power','kilometer']\n",
    "scaler = StandardScaler()\n",
    "scaler.fit(features_train[numeric_list])\n",
    "features_train[numeric_list] = scaler.transform(features_train[numeric_list])\n",
    "features_test[numeric_list] = scaler.transform(features_test[numeric_list])\n",
    "features_train_numeric = np.array(features_train[numeric_list])\n",
    "features_test_numeric = np.array(features_test[numeric_list])"
   ]
  },
  {
   "cell_type": "code",
   "execution_count": 29,
   "id": "3b120216",
   "metadata": {},
   "outputs": [],
   "source": [
    "enc = OneHotEncoder()\n",
    "enc.fit(features_train[list_categ])\n",
    "features_train_cat =enc.transform(features_train[list_categ]).toarray()\n",
    "features_test_cat=enc.transform(features_test[list_categ]).toarray()"
   ]
  },
  {
   "cell_type": "code",
   "execution_count": 30,
   "id": "e0c73c30",
   "metadata": {},
   "outputs": [],
   "source": [
    "features_train = np.column_stack((features_train_numeric,features_train_cat))\n",
    "features_test = np.column_stack((features_test_numeric,features_test_cat))"
   ]
  },
  {
   "cell_type": "code",
   "execution_count": 31,
   "id": "17f27557",
   "metadata": {},
   "outputs": [
    {
     "name": "stdout",
     "output_type": "stream",
     "text": [
      "CPU times: user 25.3 ms, sys: 16.4 ms, total: 41.7 ms\n",
      "Wall time: 33.1 ms\n"
     ]
    },
    {
     "data": {
      "text/plain": [
       "3643.675304136917"
      ]
     },
     "execution_count": 31,
     "metadata": {},
     "output_type": "execute_result"
    }
   ],
   "source": [
    "%%time\n",
    "lr = LinearRegression().fit(features_train_numeric, np.array(target_train))\n",
    "predict = lr.predict(features_test_numeric)\n",
    "rmse = mean_squared_error(np.array(target_test), predict)**0.5\n",
    "rmse"
   ]
  },
  {
   "cell_type": "code",
   "execution_count": 50,
   "id": "99717084",
   "metadata": {},
   "outputs": [
    {
     "data": {
      "text/plain": [
       "(248902, 316)"
      ]
     },
     "execution_count": 50,
     "metadata": {},
     "output_type": "execute_result"
    }
   ],
   "source": [
    "features_train.shape"
   ]
  },
  {
   "cell_type": "markdown",
   "id": "f9209160",
   "metadata": {},
   "source": [
    "### Кодирование категориальных признаков"
   ]
  },
  {
   "cell_type": "markdown",
   "id": "560bc902",
   "metadata": {},
   "source": [
    "Как мы видим есть категориальные признаки в столбцах  brand, model, vehicle_type, not_repaired и так далее . Принадлежность к категории логистическая регрессия вычисляет по формуле, состоящей из признаков. Они могут быть только численные. Поэтому применим технику прямого кодирования One-Hot Encoding путем создания фиктивных переменных, используем функцию pd.get_dummies()"
   ]
  },
  {
   "cell_type": "code",
   "execution_count": 41,
   "id": "2084c925",
   "metadata": {},
   "outputs": [
    {
     "data": {
      "text/html": [
       "<div>\n",
       "<style scoped>\n",
       "    .dataframe tbody tr th:only-of-type {\n",
       "        vertical-align: middle;\n",
       "    }\n",
       "\n",
       "    .dataframe tbody tr th {\n",
       "        vertical-align: top;\n",
       "    }\n",
       "\n",
       "    .dataframe thead th {\n",
       "        text-align: right;\n",
       "    }\n",
       "</style>\n",
       "<table border=\"1\" class=\"dataframe\">\n",
       "  <thead>\n",
       "    <tr style=\"text-align: right;\">\n",
       "      <th></th>\n",
       "      <th>price</th>\n",
       "      <th>registration_year</th>\n",
       "      <th>power</th>\n",
       "      <th>kilometer</th>\n",
       "      <th>vehicle_type_convertible</th>\n",
       "      <th>vehicle_type_coupe</th>\n",
       "      <th>vehicle_type_not defined</th>\n",
       "      <th>vehicle_type_other</th>\n",
       "      <th>vehicle_type_sedan</th>\n",
       "      <th>vehicle_type_small</th>\n",
       "      <th>...</th>\n",
       "      <th>brand_smart</th>\n",
       "      <th>brand_sonstige_autos</th>\n",
       "      <th>brand_subaru</th>\n",
       "      <th>brand_suzuki</th>\n",
       "      <th>brand_toyota</th>\n",
       "      <th>brand_trabant</th>\n",
       "      <th>brand_volkswagen</th>\n",
       "      <th>brand_volvo</th>\n",
       "      <th>not_repaired_not defined</th>\n",
       "      <th>not_repaired_yes</th>\n",
       "    </tr>\n",
       "  </thead>\n",
       "  <tbody>\n",
       "    <tr>\n",
       "      <td>0</td>\n",
       "      <td>480</td>\n",
       "      <td>1993</td>\n",
       "      <td>75.00</td>\n",
       "      <td>150000</td>\n",
       "      <td>0</td>\n",
       "      <td>0</td>\n",
       "      <td>1</td>\n",
       "      <td>0</td>\n",
       "      <td>0</td>\n",
       "      <td>0</td>\n",
       "      <td>...</td>\n",
       "      <td>0</td>\n",
       "      <td>0</td>\n",
       "      <td>0</td>\n",
       "      <td>0</td>\n",
       "      <td>0</td>\n",
       "      <td>0</td>\n",
       "      <td>1</td>\n",
       "      <td>0</td>\n",
       "      <td>1</td>\n",
       "      <td>0</td>\n",
       "    </tr>\n",
       "    <tr>\n",
       "      <td>1</td>\n",
       "      <td>9800</td>\n",
       "      <td>2004</td>\n",
       "      <td>163.00</td>\n",
       "      <td>125000</td>\n",
       "      <td>0</td>\n",
       "      <td>0</td>\n",
       "      <td>0</td>\n",
       "      <td>0</td>\n",
       "      <td>0</td>\n",
       "      <td>0</td>\n",
       "      <td>...</td>\n",
       "      <td>0</td>\n",
       "      <td>0</td>\n",
       "      <td>0</td>\n",
       "      <td>0</td>\n",
       "      <td>0</td>\n",
       "      <td>0</td>\n",
       "      <td>0</td>\n",
       "      <td>0</td>\n",
       "      <td>1</td>\n",
       "      <td>0</td>\n",
       "    </tr>\n",
       "    <tr>\n",
       "      <td>2</td>\n",
       "      <td>1500</td>\n",
       "      <td>2001</td>\n",
       "      <td>75.00</td>\n",
       "      <td>150000</td>\n",
       "      <td>0</td>\n",
       "      <td>0</td>\n",
       "      <td>0</td>\n",
       "      <td>0</td>\n",
       "      <td>0</td>\n",
       "      <td>1</td>\n",
       "      <td>...</td>\n",
       "      <td>0</td>\n",
       "      <td>0</td>\n",
       "      <td>0</td>\n",
       "      <td>0</td>\n",
       "      <td>0</td>\n",
       "      <td>0</td>\n",
       "      <td>1</td>\n",
       "      <td>0</td>\n",
       "      <td>0</td>\n",
       "      <td>0</td>\n",
       "    </tr>\n",
       "    <tr>\n",
       "      <td>3</td>\n",
       "      <td>3600</td>\n",
       "      <td>2008</td>\n",
       "      <td>69.00</td>\n",
       "      <td>90000</td>\n",
       "      <td>0</td>\n",
       "      <td>0</td>\n",
       "      <td>0</td>\n",
       "      <td>0</td>\n",
       "      <td>0</td>\n",
       "      <td>1</td>\n",
       "      <td>...</td>\n",
       "      <td>0</td>\n",
       "      <td>0</td>\n",
       "      <td>0</td>\n",
       "      <td>0</td>\n",
       "      <td>0</td>\n",
       "      <td>0</td>\n",
       "      <td>0</td>\n",
       "      <td>0</td>\n",
       "      <td>0</td>\n",
       "      <td>0</td>\n",
       "    </tr>\n",
       "    <tr>\n",
       "      <td>4</td>\n",
       "      <td>650</td>\n",
       "      <td>1995</td>\n",
       "      <td>102.00</td>\n",
       "      <td>150000</td>\n",
       "      <td>0</td>\n",
       "      <td>0</td>\n",
       "      <td>0</td>\n",
       "      <td>0</td>\n",
       "      <td>1</td>\n",
       "      <td>0</td>\n",
       "      <td>...</td>\n",
       "      <td>0</td>\n",
       "      <td>0</td>\n",
       "      <td>0</td>\n",
       "      <td>0</td>\n",
       "      <td>0</td>\n",
       "      <td>0</td>\n",
       "      <td>0</td>\n",
       "      <td>0</td>\n",
       "      <td>0</td>\n",
       "      <td>1</td>\n",
       "    </tr>\n",
       "  </tbody>\n",
       "</table>\n",
       "<p>5 rows × 311 columns</p>\n",
       "</div>"
      ],
      "text/plain": [
       "   price  registration_year  power  kilometer  vehicle_type_convertible  \\\n",
       "0    480               1993  75.00     150000                         0   \n",
       "1   9800               2004 163.00     125000                         0   \n",
       "2   1500               2001  75.00     150000                         0   \n",
       "3   3600               2008  69.00      90000                         0   \n",
       "4    650               1995 102.00     150000                         0   \n",
       "\n",
       "   vehicle_type_coupe  vehicle_type_not defined  vehicle_type_other  \\\n",
       "0                   0                         1                   0   \n",
       "1                   0                         0                   0   \n",
       "2                   0                         0                   0   \n",
       "3                   0                         0                   0   \n",
       "4                   0                         0                   0   \n",
       "\n",
       "   vehicle_type_sedan  vehicle_type_small  ...  brand_smart  \\\n",
       "0                   0                   0  ...            0   \n",
       "1                   0                   0  ...            0   \n",
       "2                   0                   1  ...            0   \n",
       "3                   0                   1  ...            0   \n",
       "4                   1                   0  ...            0   \n",
       "\n",
       "   brand_sonstige_autos  brand_subaru  brand_suzuki  brand_toyota  \\\n",
       "0                     0             0             0             0   \n",
       "1                     0             0             0             0   \n",
       "2                     0             0             0             0   \n",
       "3                     0             0             0             0   \n",
       "4                     0             0             0             0   \n",
       "\n",
       "   brand_trabant  brand_volkswagen  brand_volvo  not_repaired_not defined  \\\n",
       "0              0                 1            0                         1   \n",
       "1              0                 0            0                         1   \n",
       "2              0                 1            0                         0   \n",
       "3              0                 0            0                         0   \n",
       "4              0                 0            0                         0   \n",
       "\n",
       "   not_repaired_yes  \n",
       "0                 0  \n",
       "1                 0  \n",
       "2                 0  \n",
       "3                 0  \n",
       "4                 1  \n",
       "\n",
       "[5 rows x 311 columns]"
      ]
     },
     "execution_count": 41,
     "metadata": {},
     "output_type": "execute_result"
    }
   ],
   "source": [
    "list_categ = ['vehicle_type', 'gearbox','fuel_type','model','brand', 'not_repaired']# дропнем в том числе power_correct, price_correct\n",
    "list_ohe = pd.get_dummies(data[list_categ],drop_first=True)\n",
    "data_ohe = pd.concat([data,list_ohe],axis = 1)\n",
    "data_ohe.drop(data_ohe[list_categ],axis=1, inplace = True)\n",
    "data_ohe.head()"
   ]
  },
  {
   "cell_type": "markdown",
   "id": "127d9ea1",
   "metadata": {
    "tags": []
   },
   "source": [
    "## Обучение моделей"
   ]
  },
  {
   "cell_type": "markdown",
   "id": "3e82f4ff",
   "metadata": {},
   "source": [
    "Рассмотрим  несколько моделей для обучения:\n",
    "- LinearRegression\n",
    "- RandomForestRegressor\n",
    "- CatBoostRegressor\n",
    "- LGBMRegressor"
   ]
  },
  {
   "cell_type": "markdown",
   "id": "1f48dd1c",
   "metadata": {},
   "source": [
    "### Разделени выборок на обучающую и  тестовую."
   ]
  },
  {
   "cell_type": "markdown",
   "id": "c8cf2e2e",
   "metadata": {},
   "source": [
    "Выделим  целевой признак - price"
   ]
  },
  {
   "cell_type": "code",
   "execution_count": 42,
   "id": "7c75f760",
   "metadata": {},
   "outputs": [],
   "source": [
    "features_train_ohe = data_ohe.drop(['price'], axis=1)\n",
    "target_train_ohe = data_ohe['price']"
   ]
  },
  {
   "cell_type": "markdown",
   "id": "f77cfa8d",
   "metadata": {},
   "source": [
    "Разделим выборки на обучающую тестовую в  соотношении 75/25"
   ]
  },
  {
   "cell_type": "code",
   "execution_count": 43,
   "id": "b8a1913f",
   "metadata": {},
   "outputs": [],
   "source": [
    "features_train_ohe,features_test_ohe, target_train_ohe,target_test_ohe = train_test_split(features_train_ohe,target_train_ohe, test_size=0.25, random_state=393)"
   ]
  },
  {
   "cell_type": "code",
   "execution_count": 44,
   "id": "1803adf3",
   "metadata": {},
   "outputs": [
    {
     "data": {
      "text/plain": [
       "(248902, 310)"
      ]
     },
     "metadata": {},
     "output_type": "display_data"
    },
    {
     "data": {
      "text/plain": [
       "(248902,)"
      ]
     },
     "metadata": {},
     "output_type": "display_data"
    },
    {
     "data": {
      "text/plain": [
       "(82968, 310)"
      ]
     },
     "metadata": {},
     "output_type": "display_data"
    },
    {
     "data": {
      "text/plain": [
       "(82968,)"
      ]
     },
     "metadata": {},
     "output_type": "display_data"
    }
   ],
   "source": [
    "display(\n",
    "    features_train_ohe.shape,\n",
    "    target_train_ohe.shape,\n",
    "    features_test_ohe.shape,\n",
    "    target_test_ohe.shape\n",
    ")"
   ]
  },
  {
   "cell_type": "markdown",
   "id": "2bc6292c",
   "metadata": {
    "tags": []
   },
   "source": [
    "### Масштабирование данных"
   ]
  },
  {
   "cell_type": "markdown",
   "id": "41d83d5b",
   "metadata": {},
   "source": [
    "Так как будем использовать линейную регрессию LinearRegression , то потребуется  масштабирование данных."
   ]
  },
  {
   "cell_type": "code",
   "execution_count": 45,
   "id": "036819bf",
   "metadata": {
    "tags": []
   },
   "outputs": [
    {
     "data": {
      "text/html": [
       "<div>\n",
       "<style scoped>\n",
       "    .dataframe tbody tr th:only-of-type {\n",
       "        vertical-align: middle;\n",
       "    }\n",
       "\n",
       "    .dataframe tbody tr th {\n",
       "        vertical-align: top;\n",
       "    }\n",
       "\n",
       "    .dataframe thead th {\n",
       "        text-align: right;\n",
       "    }\n",
       "</style>\n",
       "<table border=\"1\" class=\"dataframe\">\n",
       "  <thead>\n",
       "    <tr style=\"text-align: right;\">\n",
       "      <th></th>\n",
       "      <th>registration_year</th>\n",
       "      <th>power</th>\n",
       "      <th>kilometer</th>\n",
       "      <th>vehicle_type_convertible</th>\n",
       "      <th>vehicle_type_coupe</th>\n",
       "      <th>vehicle_type_not defined</th>\n",
       "      <th>vehicle_type_other</th>\n",
       "      <th>vehicle_type_sedan</th>\n",
       "      <th>vehicle_type_small</th>\n",
       "      <th>vehicle_type_suv</th>\n",
       "      <th>...</th>\n",
       "      <th>brand_smart</th>\n",
       "      <th>brand_sonstige_autos</th>\n",
       "      <th>brand_subaru</th>\n",
       "      <th>brand_suzuki</th>\n",
       "      <th>brand_toyota</th>\n",
       "      <th>brand_trabant</th>\n",
       "      <th>brand_volkswagen</th>\n",
       "      <th>brand_volvo</th>\n",
       "      <th>not_repaired_not defined</th>\n",
       "      <th>not_repaired_yes</th>\n",
       "    </tr>\n",
       "  </thead>\n",
       "  <tbody>\n",
       "    <tr>\n",
       "      <td>211066</td>\n",
       "      <td>0.23</td>\n",
       "      <td>-0.09</td>\n",
       "      <td>-3.10</td>\n",
       "      <td>0</td>\n",
       "      <td>0</td>\n",
       "      <td>0</td>\n",
       "      <td>0</td>\n",
       "      <td>0</td>\n",
       "      <td>1</td>\n",
       "      <td>0</td>\n",
       "      <td>...</td>\n",
       "      <td>1</td>\n",
       "      <td>0</td>\n",
       "      <td>0</td>\n",
       "      <td>0</td>\n",
       "      <td>0</td>\n",
       "      <td>0</td>\n",
       "      <td>0</td>\n",
       "      <td>0</td>\n",
       "      <td>0</td>\n",
       "      <td>0</td>\n",
       "    </tr>\n",
       "    <tr>\n",
       "      <td>240487</td>\n",
       "      <td>-0.08</td>\n",
       "      <td>0.13</td>\n",
       "      <td>0.55</td>\n",
       "      <td>0</td>\n",
       "      <td>0</td>\n",
       "      <td>0</td>\n",
       "      <td>0</td>\n",
       "      <td>1</td>\n",
       "      <td>0</td>\n",
       "      <td>0</td>\n",
       "      <td>...</td>\n",
       "      <td>0</td>\n",
       "      <td>0</td>\n",
       "      <td>0</td>\n",
       "      <td>0</td>\n",
       "      <td>0</td>\n",
       "      <td>0</td>\n",
       "      <td>0</td>\n",
       "      <td>0</td>\n",
       "      <td>1</td>\n",
       "      <td>0</td>\n",
       "    </tr>\n",
       "    <tr>\n",
       "      <td>45958</td>\n",
       "      <td>0.31</td>\n",
       "      <td>-0.09</td>\n",
       "      <td>0.55</td>\n",
       "      <td>0</td>\n",
       "      <td>0</td>\n",
       "      <td>0</td>\n",
       "      <td>0</td>\n",
       "      <td>0</td>\n",
       "      <td>0</td>\n",
       "      <td>0</td>\n",
       "      <td>...</td>\n",
       "      <td>0</td>\n",
       "      <td>0</td>\n",
       "      <td>0</td>\n",
       "      <td>0</td>\n",
       "      <td>0</td>\n",
       "      <td>0</td>\n",
       "      <td>0</td>\n",
       "      <td>0</td>\n",
       "      <td>0</td>\n",
       "      <td>0</td>\n",
       "    </tr>\n",
       "    <tr>\n",
       "      <td>273974</td>\n",
       "      <td>-0.06</td>\n",
       "      <td>0.12</td>\n",
       "      <td>0.55</td>\n",
       "      <td>0</td>\n",
       "      <td>0</td>\n",
       "      <td>0</td>\n",
       "      <td>0</td>\n",
       "      <td>0</td>\n",
       "      <td>0</td>\n",
       "      <td>0</td>\n",
       "      <td>...</td>\n",
       "      <td>0</td>\n",
       "      <td>0</td>\n",
       "      <td>0</td>\n",
       "      <td>0</td>\n",
       "      <td>0</td>\n",
       "      <td>0</td>\n",
       "      <td>0</td>\n",
       "      <td>0</td>\n",
       "      <td>0</td>\n",
       "      <td>1</td>\n",
       "    </tr>\n",
       "    <tr>\n",
       "      <td>123966</td>\n",
       "      <td>-0.00</td>\n",
       "      <td>0.38</td>\n",
       "      <td>0.55</td>\n",
       "      <td>0</td>\n",
       "      <td>1</td>\n",
       "      <td>0</td>\n",
       "      <td>0</td>\n",
       "      <td>0</td>\n",
       "      <td>0</td>\n",
       "      <td>0</td>\n",
       "      <td>...</td>\n",
       "      <td>0</td>\n",
       "      <td>0</td>\n",
       "      <td>0</td>\n",
       "      <td>0</td>\n",
       "      <td>0</td>\n",
       "      <td>0</td>\n",
       "      <td>0</td>\n",
       "      <td>0</td>\n",
       "      <td>1</td>\n",
       "      <td>0</td>\n",
       "    </tr>\n",
       "  </tbody>\n",
       "</table>\n",
       "<p>5 rows × 310 columns</p>\n",
       "</div>"
      ],
      "text/plain": [
       "        registration_year  power  kilometer  vehicle_type_convertible  \\\n",
       "211066               0.23  -0.09      -3.10                         0   \n",
       "240487              -0.08   0.13       0.55                         0   \n",
       "45958                0.31  -0.09       0.55                         0   \n",
       "273974              -0.06   0.12       0.55                         0   \n",
       "123966              -0.00   0.38       0.55                         0   \n",
       "\n",
       "        vehicle_type_coupe  vehicle_type_not defined  vehicle_type_other  \\\n",
       "211066                   0                         0                   0   \n",
       "240487                   0                         0                   0   \n",
       "45958                    0                         0                   0   \n",
       "273974                   0                         0                   0   \n",
       "123966                   1                         0                   0   \n",
       "\n",
       "        vehicle_type_sedan  vehicle_type_small  vehicle_type_suv  ...  \\\n",
       "211066                   0                   1                 0  ...   \n",
       "240487                   1                   0                 0  ...   \n",
       "45958                    0                   0                 0  ...   \n",
       "273974                   0                   0                 0  ...   \n",
       "123966                   0                   0                 0  ...   \n",
       "\n",
       "        brand_smart  brand_sonstige_autos  brand_subaru  brand_suzuki  \\\n",
       "211066            1                     0             0             0   \n",
       "240487            0                     0             0             0   \n",
       "45958             0                     0             0             0   \n",
       "273974            0                     0             0             0   \n",
       "123966            0                     0             0             0   \n",
       "\n",
       "        brand_toyota  brand_trabant  brand_volkswagen  brand_volvo  \\\n",
       "211066             0              0                 0            0   \n",
       "240487             0              0                 0            0   \n",
       "45958              0              0                 0            0   \n",
       "273974             0              0                 0            0   \n",
       "123966             0              0                 0            0   \n",
       "\n",
       "        not_repaired_not defined  not_repaired_yes  \n",
       "211066                         0                 0  \n",
       "240487                         1                 0  \n",
       "45958                          0                 0  \n",
       "273974                         0                 1  \n",
       "123966                         1                 0  \n",
       "\n",
       "[5 rows x 310 columns]"
      ]
     },
     "execution_count": 45,
     "metadata": {},
     "output_type": "execute_result"
    }
   ],
   "source": [
    "numeric_list = ['registration_year','power','kilometer']\n",
    "scaler = StandardScaler()\n",
    "scaler.fit(features_train_ohe[numeric_list])\n",
    "features_train_ohe[numeric_list] = scaler.transform(features_train_ohe[numeric_list])\n",
    "features_test_ohe[numeric_list] = scaler.transform(features_test_ohe[numeric_list])\n",
    "features_test_ohe.head(5)"
   ]
  },
  {
   "cell_type": "markdown",
   "id": "622c8948",
   "metadata": {},
   "source": [
    "### DecisionTreeRegressor"
   ]
  },
  {
   "cell_type": "markdown",
   "id": "32173a22",
   "metadata": {},
   "source": [
    "Обучим модель дерево решений"
   ]
  },
  {
   "cell_type": "code",
   "execution_count": 48,
   "id": "4894bb2d",
   "metadata": {},
   "outputs": [
    {
     "name": "stdout",
     "output_type": "stream",
     "text": [
      "Время обучения: 0m 35s\n",
      "Корень среднего квадрата ошибки 2007.23\n"
     ]
    }
   ],
   "source": [
    "start_time = time.time()\n",
    "dtr = DecisionTreeRegressor(random_state=393)\n",
    "dtr.fit(features_train_ohe,target_train_ohe)\n",
    "rmse_dtr_cv= cross_val_score(dtr, features_train_ohe,target_train_ohe,n_jobs = -1, cv=3,scoring = 'neg_mean_squared_error').mean()*(-1)\n",
    "rmse_dtr_cv = rmse_dtr_cv**0.5\n",
    "time_dtr_fit = time.time() - start_time\n",
    "print('Время обучения: {:.0f}m {:.0f}s'.format(time_dtr_fit//60,time_dtr_fit%60))\n",
    "print('Корень среднего квадрата ошибки {:.2f}'.format(rmse_dtr_cv))"
   ]
  },
  {
   "cell_type": "code",
   "execution_count": 37,
   "id": "b9ef9708",
   "metadata": {},
   "outputs": [
    {
     "name": "stdout",
     "output_type": "stream",
     "text": [
      "Время обучения: 0m 53s\n",
      "Корень среднего квадрата ошибки 2007.69\n"
     ]
    }
   ],
   "source": [
    "start_time = time.time()\n",
    "dtr = DecisionTreeRegressor(random_state=393)\n",
    "dtr.fit(features_train,target_train)\n",
    "rmse_dtr_cv= cross_val_score(dtr, features_train,target_train,n_jobs = -1, cv=3, scoring = 'neg_mean_squared_error').mean()*(-1)\n",
    "rmse_dtr_cv = rmse_dtr_cv**0.5\n",
    "time_dtr_fit = time.time() - start_time\n",
    "print('Время обучения: {:.0f}m {:.0f}s'.format(time_dtr_fit//60,time_dtr_fit%60))\n",
    "print('Корень среднего квадрата ошибки {:.2f}'.format(rmse_dtr_cv))"
   ]
  },
  {
   "cell_type": "code",
   "execution_count": 25,
   "id": "031d0a7f",
   "metadata": {},
   "outputs": [
    {
     "name": "stdout",
     "output_type": "stream",
     "text": [
      "Время обучения: 0m 6.39s\n",
      "Время предсказания: 0m 0.29s\n",
      "Корень квадрата ошибки 1955.01\n"
     ]
    }
   ],
   "source": [
    "start_time = time.time()\n",
    "dtr = DecisionTreeRegressor(random_state=393,criterion ='squared_error', max_depth = 10).fit(features_train_ohe,target_train_ohe)\n",
    "time_dtr_fit = time.time() - start_time\n",
    "predict = dtr.predict(features_test_ohe)\n",
    "time_dtr_predict = time.time() - start_time-time_dtr_fit\n",
    "\n",
    "rmse_dtr_dtr = mean_squared_error(target_test_ohe, predict, squared=False)\n",
    "\n",
    "print('Время обучения: {:.0f}m {:.2f}s'.format(time_dtr_fit//60,time_dtr_fit%60))\n",
    "print('Время предсказания: {:.0f}m {:.2f}s'.format(time_dtr_predict//60,time_dtr_predict%60))\n",
    "print('Корень квадрата ошибки {:.2f}'.format(rmse_dtr_dtr))"
   ]
  },
  {
   "cell_type": "markdown",
   "id": "dca3fac1",
   "metadata": {},
   "source": [
    "### LinearRegression"
   ]
  },
  {
   "cell_type": "markdown",
   "id": "f86273ae",
   "metadata": {},
   "source": [
    "Обучим модель линейную регрессию"
   ]
  },
  {
   "cell_type": "code",
   "execution_count": 26,
   "id": "c53eda29",
   "metadata": {},
   "outputs": [
    {
     "name": "stdout",
     "output_type": "stream",
     "text": [
      "Время обучения: 15.67s\n",
      "Корень среднего квадрата ошибки 2848.07\n"
     ]
    }
   ],
   "source": [
    "start_time = time.time()\n",
    "\n",
    "lr = LinearRegression()\n",
    "rmse_lr_cv = cross_val_score(lr,features_train_ohe,target_train_ohe,n_jobs = -1,cv = 3, scoring = 'neg_root_mean_squared_error').mean()*(-1)\n",
    "time_lr_fit = time.time() - start_time\n",
    "\n",
    "print('Время обучения: {:.2f}s'.format(time_lr_fit))\n",
    "print('Корень среднего квадрата ошибки {:.2f}'.format(rmse_lr_cv))"
   ]
  },
  {
   "cell_type": "code",
   "execution_count": null,
   "id": "27f47725",
   "metadata": {},
   "outputs": [],
   "source": []
  },
  {
   "cell_type": "code",
   "execution_count": 27,
   "id": "366118f1",
   "metadata": {},
   "outputs": [
    {
     "name": "stdout",
     "output_type": "stream",
     "text": [
      "Время обучения: 0m 6.93s\n",
      "Время предсказания: 0m 0.20s\n",
      "Корень квадрата ошибки 2845.37\n"
     ]
    }
   ],
   "source": [
    "start_time = time.time()\n",
    "lr = LinearRegression().fit(features_train_ohe,target_train_ohe)\n",
    "time_lr_fit = time.time() - start_time\n",
    "predict = lr.predict(features_test_ohe)\n",
    "time_lr_predict = time.time() - start_time -time_lr_fit\n",
    "\n",
    "rmse_lr = mean_squared_error(target_test_ohe, predict, squared=False)\n",
    "\n",
    "print('Время обучения: {:.0f}m {:.2f}s'.format(time_lr_fit//60,time_lr_fit%60))\n",
    "print('Время предсказания: {:.0f}m {:.2f}s'.format(time_lr_predict//60,time_lr_predict%60))\n",
    "print('Корень квадрата ошибки {:.2f}'.format(rmse_lr))"
   ]
  },
  {
   "cell_type": "markdown",
   "id": "e117e755",
   "metadata": {},
   "source": [
    "### CatBoostRegressor"
   ]
  },
  {
   "cell_type": "markdown",
   "id": "ef26eca3",
   "metadata": {},
   "source": [
    "Разделим выборку на обучающую и на тестовую, выделим  целевой признак"
   ]
  },
  {
   "cell_type": "code",
   "execution_count": 28,
   "id": "798f6a8a",
   "metadata": {},
   "outputs": [],
   "source": [
    "features_train = data.drop(['price'], axis=1)\n",
    "target_train = data['price']\n",
    "features_train,features_test, target_train,target_test = train_test_split(features_train,target_train, test_size=0.25, random_state=393)"
   ]
  },
  {
   "cell_type": "markdown",
   "id": "505b4e0f",
   "metadata": {},
   "source": [
    "Выделим поля с категориальными признаками"
   ]
  },
  {
   "cell_type": "code",
   "execution_count": 29,
   "id": "f7eb614c",
   "metadata": {},
   "outputs": [],
   "source": [
    "list_categ = ['vehicle_type', 'gearbox','fuel_type','model','brand', 'not_repaired']"
   ]
  },
  {
   "cell_type": "markdown",
   "id": "018f087d",
   "metadata": {},
   "source": [
    "Применим GridSearchCV для подбора параметров для модели CatBoostRegressor, не будем рассматривать поиск значений по умолчанию модели CatBoostRegressor, так как  расчеты происходят долго."
   ]
  },
  {
   "cell_type": "code",
   "execution_count": 30,
   "id": "9d3da3f6",
   "metadata": {},
   "outputs": [
    {
     "name": "stdout",
     "output_type": "stream",
     "text": [
      "Ожидайте, идет подгонка лучших параметров, около 5 минут\n",
      "Лучшие параметры: {'depth': 6, 'iterations': 200, 'learning_rate': 0.4}\n",
      "Наименшая ошибка лучшей модели, евро 1647.8928184526728\n",
      "Время подгонки факт: 5m 22s\n"
     ]
    }
   ],
   "source": [
    "grid = {'iterations': [100, 200],\n",
    "        'learning_rate': [0.1, 0.4],\n",
    "        'depth': [ 4, 6]}\n",
    "start_time = time.time()\n",
    "regressor = CatBoostRegressor(random_state=393,cat_features=list_categ,logging_level='Silent') \n",
    "print('Ожидайте, идет подгонка лучших параметров, около 5 минут')\n",
    "clf = GridSearchCV(regressor, grid, scoring='neg_root_mean_squared_error',n_jobs = -1,cv=3)\n",
    "clf.fit(features_train,target_train)\n",
    "time_clf = time.time() - start_time\n",
    "print(\"Лучшие параметры:\",clf.best_params_)\n",
    "print('Наименшая ошибка лучшей модели, евро', clf.best_score_*-1)\n",
    "print('Время подгонки факт: {:.0f}m {:.0f}s'.format(time_clf//60,time_clf%60))"
   ]
  },
  {
   "cell_type": "code",
   "execution_count": 31,
   "id": "1963fc22",
   "metadata": {},
   "outputs": [
    {
     "name": "stdout",
     "output_type": "stream",
     "text": [
      "Время обучения: 0m 39s\n",
      "Время предсказания: 0m 0.19s\n",
      "Корень квадрата ошибки 1625.03\n"
     ]
    }
   ],
   "source": [
    "start_time = time.time()\n",
    "\n",
    "model_cat = CatBoostRegressor(random_seed=393,loss_function='RMSE',logging_level='Silent',learning_rate=0.4,cat_features = list_categ,depth =6, iterations= 200)\n",
    "model_cat.fit(features_train,target_train)\n",
    "\n",
    "time_cbr_fit = time.time() - start_time\n",
    "predict = model_cat.predict(features_test)\n",
    "time_cbr_predict = time.time() - start_time -time_cbr_fit\n",
    "\n",
    "rmse_cbr = mean_squared_error(target_test, predict, squared=False)\n",
    "\n",
    "print('Время обучения: {:.0f}m {:.0f}s'.format(time_cbr_fit//60,time_cbr_fit%60))\n",
    "print('Время предсказания: {:.0f}m {:.2f}s'.format(time_cbr_predict//60,time_cbr_predict%60))\n",
    "print('Корень квадрата ошибки {:.2f}'.format(rmse_cbr))"
   ]
  },
  {
   "cell_type": "markdown",
   "id": "b92ae032",
   "metadata": {},
   "source": [
    "### LightGBM"
   ]
  },
  {
   "cell_type": "markdown",
   "id": "924f96ec",
   "metadata": {},
   "source": [
    "Трансформируем категриальные признаки\n"
   ]
  },
  {
   "cell_type": "code",
   "execution_count": 33,
   "id": "3a9084ef",
   "metadata": {},
   "outputs": [],
   "source": [
    "list_categ_gbm = ['vehicle_type', 'gearbox','fuel_type','model','brand', 'not_repaired']\n",
    "data[list_categ_gbm] = data[list_categ_gbm].astype('category')\n",
    "features_train = data.drop(['price'], axis=1)\n",
    "target_train = data['price']\n",
    "features_train,features_test, target_train,target_test = train_test_split(features_train,target_train, test_size=0.25, random_state=393)"
   ]
  },
  {
   "cell_type": "markdown",
   "id": "4a565280",
   "metadata": {},
   "source": [
    "Обучим модель без параметров"
   ]
  },
  {
   "cell_type": "code",
   "execution_count": 34,
   "id": "7bcfdc84",
   "metadata": {},
   "outputs": [
    {
     "name": "stdout",
     "output_type": "stream",
     "text": [
      "Время обучения: 0m 3s\n",
      "Корень квадрата ошибки 1643.06\n"
     ]
    }
   ],
   "source": [
    "start_time = time.time()\n",
    "\n",
    "lgbm_reg = LGBMRegressor(random_state=393, num_leaves=30,categorical_feature=list_categ_gbm)\n",
    "rmse_lgbm_cv= cross_val_score(lgbm_reg, features_train,target_train,n_jobs = -1, cv=3,scoring = 'neg_root_mean_squared_error').mean()*(-1)\n",
    "\n",
    "time_lgbm = time.time() - start_time\n",
    "\n",
    "print('Время обучения: {:.0f}m {:.0f}s'.format(time_lgbm//60,time_lgbm%60))\n",
    "print('Корень квадрата ошибки {:.2f}'.format(rmse_lgbm_cv))"
   ]
  },
  {
   "cell_type": "markdown",
   "id": "90d82c39",
   "metadata": {},
   "source": [
    "Подберем параметры"
   ]
  },
  {
   "cell_type": "code",
   "execution_count": 35,
   "id": "f37adec3",
   "metadata": {},
   "outputs": [
    {
     "name": "stdout",
     "output_type": "stream",
     "text": [
      "Ожидайте, идет подгонка лучших параметров\n"
     ]
    },
    {
     "name": "stderr",
     "output_type": "stream",
     "text": [
      "c:\\users\\integro\\appdata\\local\\programs\\python\\python39\\lib\\site-packages\\lightgbm\\basic.py:1487: UserWarning: categorical_feature keyword has been found in `params` and will be ignored.\n",
      "Please use categorical_feature argument of the Dataset constructor to pass this parameter.\n",
      "  _log_warning(f'{key} keyword has been found in `params` and will be ignored.\\n'\n",
      "c:\\users\\integro\\appdata\\local\\programs\\python\\python39\\lib\\site-packages\\lightgbm\\basic.py:1513: UserWarning: categorical_feature in param dict is overridden.\n",
      "  _log_warning(f'{cat_alias} in param dict is overridden.')\n"
     ]
    },
    {
     "name": "stdout",
     "output_type": "stream",
     "text": [
      "Лучшие параметры: {'learning_rate': 0.3, 'n_estimators': 300, 'num_leaves': 30}\n",
      "Наименшая ошибка лучшей модели, евро 1605.1637988838258\n"
     ]
    }
   ],
   "source": [
    "regressor = LGBMRegressor(random_state=393,categorical_feature=list_categ_gbm) \n",
    "params = [{'n_estimators':[100,200,300], \n",
    "                'learning_rate':[0.01,0.1, 0.3, 0.5],\n",
    "                'num_leaves':[10,20,30]}]\n",
    "    \n",
    "print('Ожидайте, идет подгонка лучших параметров')\n",
    "clf = GridSearchCV(regressor, params, scoring='neg_root_mean_squared_error',n_jobs = -1,cv=3)\n",
    "clf.fit(features_train,target_train)\n",
    "print(\"Лучшие параметры:\",clf.best_params_)\n",
    "print('Наименшая ошибка лучшей модели, евро', clf.best_score_*-1)\n"
   ]
  },
  {
   "cell_type": "code",
   "execution_count": 36,
   "id": "1e826e76",
   "metadata": {},
   "outputs": [
    {
     "name": "stdout",
     "output_type": "stream",
     "text": [
      "Время обучения: 0m 1.45s\n",
      "Время предсказания: 0m 0.50s\n",
      "Корень квадрата ошибки 1578.54\n"
     ]
    }
   ],
   "source": [
    "\n",
    "\n",
    "start_time = time.time()\n",
    "lgbm_reg = LGBMRegressor(random_state=393,categorical_feature=list_categ,n_estimators = 300,learning_rate=0.3,num_leaves=30)\n",
    "lgbm_reg.fit(features_train,target_train)\n",
    "\n",
    "time_lgbm_fit = time.time() - start_time\n",
    "\n",
    "predict = lgbm_reg.predict(features_test)\n",
    "\n",
    "time_lgbm_predict = time.time() - start_time-time_lgbm_fit\n",
    "rmse_lgbm_reg = mean_squared_error(target_test, predict, squared=False)\n",
    "\n",
    "print('Время обучения: {:.0f}m {:.2f}s'.format(time_lgbm_fit//60,time_lgbm_fit%60))\n",
    "print('Время предсказания: {:.0f}m {:.2f}s'.format(time_lgbm_predict//60,time_lgbm_predict%60))\n",
    "print('Корень квадрата ошибки {:.2f}'.format(rmse_lgbm_reg))"
   ]
  },
  {
   "cell_type": "markdown",
   "id": "7a4181b4",
   "metadata": {},
   "source": [
    "## Анализ моделей"
   ]
  },
  {
   "cell_type": "markdown",
   "id": "9172c7be",
   "metadata": {},
   "source": [
    "Предварительно проверим модель на адекватность, сделаем предсказния по среднему значению."
   ]
  },
  {
   "cell_type": "code",
   "execution_count": 37,
   "id": "67be7c8f",
   "metadata": {},
   "outputs": [
    {
     "data": {
      "text/plain": [
       "3883.5315882348627"
      ]
     },
     "execution_count": 37,
     "metadata": {},
     "output_type": "execute_result"
    }
   ],
   "source": [
    "start_time = time.time()\n",
    "dummy_regr = DummyRegressor(strategy=\"mean\").fit(features_train, target_train)\n",
    "time_dummy_fit = time.time() - start_time\n",
    "preds = dummy_regr.predict(features_test)\n",
    "time_dummy_predict = time.time() - start_time- time_dummy_fit\n",
    "dummy_rmse = mean_squared_error(target_test, preds, squared=False)\n",
    "dummy_rmse"
   ]
  },
  {
   "cell_type": "markdown",
   "id": "363b504d",
   "metadata": {},
   "source": [
    "**Вывод:** в констаной  модели, действительно имеем большую ошибку, 4525 евро."
   ]
  },
  {
   "cell_type": "code",
   "execution_count": 38,
   "id": "00911285",
   "metadata": {},
   "outputs": [],
   "source": [
    "dtr_list = [rmse_dtr_dtr,time_dtr_fit,time_dtr_predict]\n",
    "lr_list = [rmse_lr,time_lr_fit,time_lr_predict]\n",
    "lgbm_list = [rmse_lgbm_reg,time_lgbm_fit,time_lgbm_predict]\n",
    "cbr_list = [rmse_cbr, time_cbr_fit,time_cbr_predict]\n",
    "dummy_list = [dummy_rmse,time_dummy_fit,time_dummy_predict]"
   ]
  },
  {
   "cell_type": "code",
   "execution_count": 39,
   "id": "d3823c80",
   "metadata": {},
   "outputs": [
    {
     "data": {
      "text/html": [
       "<div>\n",
       "<style scoped>\n",
       "    .dataframe tbody tr th:only-of-type {\n",
       "        vertical-align: middle;\n",
       "    }\n",
       "\n",
       "    .dataframe tbody tr th {\n",
       "        vertical-align: top;\n",
       "    }\n",
       "\n",
       "    .dataframe thead th {\n",
       "        text-align: right;\n",
       "    }\n",
       "</style>\n",
       "<table border=\"1\" class=\"dataframe\">\n",
       "  <thead>\n",
       "    <tr style=\"text-align: right;\">\n",
       "      <th></th>\n",
       "      <th>RMSE_евро</th>\n",
       "      <th>Время обучения</th>\n",
       "      <th>Время предсказания</th>\n",
       "    </tr>\n",
       "  </thead>\n",
       "  <tbody>\n",
       "    <tr>\n",
       "      <th>Light_GBM</th>\n",
       "      <td>1,578.54</td>\n",
       "      <td>1.45</td>\n",
       "      <td>0.50</td>\n",
       "    </tr>\n",
       "    <tr>\n",
       "      <th>CatBoost</th>\n",
       "      <td>1,625.03</td>\n",
       "      <td>39.46</td>\n",
       "      <td>0.19</td>\n",
       "    </tr>\n",
       "    <tr>\n",
       "      <th>Дерево решений</th>\n",
       "      <td>1,955.01</td>\n",
       "      <td>6.39</td>\n",
       "      <td>0.29</td>\n",
       "    </tr>\n",
       "    <tr>\n",
       "      <th>Линейная_регрессия</th>\n",
       "      <td>2,845.37</td>\n",
       "      <td>6.93</td>\n",
       "      <td>0.20</td>\n",
       "    </tr>\n",
       "    <tr>\n",
       "      <th>Константная_mean</th>\n",
       "      <td>3,883.53</td>\n",
       "      <td>0.00</td>\n",
       "      <td>0.00</td>\n",
       "    </tr>\n",
       "  </tbody>\n",
       "</table>\n",
       "</div>"
      ],
      "text/plain": [
       "                    RMSE_евро  Время обучения  Время предсказания\n",
       "Light_GBM            1,578.54            1.45                0.50\n",
       "CatBoost             1,625.03           39.46                0.19\n",
       "Дерево решений       1,955.01            6.39                0.29\n",
       "Линейная_регрессия   2,845.37            6.93                0.20\n",
       "Константная_mean     3,883.53            0.00                0.00"
      ]
     },
     "execution_count": 39,
     "metadata": {},
     "output_type": "execute_result"
    }
   ],
   "source": [
    "final_table = pd.DataFrame(data=[dtr_list,lr_list, lgbm_list, cbr_list,dummy_list],\n",
    "                       columns=['RMSE_евро', 'Время обучения','Время предсказания'],\n",
    "                      index=['Дерево решений','Линейная_регрессия', 'Light_GBM', 'CatBoost','Константная_mean'])\n",
    "final_table.sort_values('RMSE_евро')"
   ]
  },
  {
   "cell_type": "markdown",
   "id": "b8ccd87f",
   "metadata": {},
   "source": [
    "# Итог"
   ]
  },
  {
   "cell_type": "markdown",
   "id": "f3206828",
   "metadata": {},
   "source": [
    "По результатам формирования моделей предсказания стоимости авто:\n",
    "- наилучшее время обучения и RMSE показала  Light_GBM \n",
    "- наилучшее время предсказания показала модель CatBoost\n",
    "- остальные модели показали качество предсказания значительно хуже, а также более долгое обучение.\n",
    "\n",
    "На основании этого бизнесу на обсуждение будет предложена модель  Light_GBM и CatBoost. Решение целесообразно принимать в зависимости, что будет приоритетнее скорость предсказаний или точность ."
   ]
  }
 ],
 "metadata": {
  "ExecuteTimeLog": [
   {
    "duration": 1713,
    "start_time": "2021-12-28T06:38:02.053Z"
   },
   {
    "duration": 1172,
    "start_time": "2021-12-28T06:38:03.768Z"
   },
   {
    "duration": 5,
    "start_time": "2021-12-28T06:38:04.943Z"
   },
   {
    "duration": 173,
    "start_time": "2021-12-28T06:38:04.951Z"
   },
   {
    "duration": 136,
    "start_time": "2021-12-28T06:38:05.126Z"
   },
   {
    "duration": 729,
    "start_time": "2021-12-28T06:38:05.265Z"
   },
   {
    "duration": 843,
    "start_time": "2021-12-28T06:38:05.996Z"
   },
   {
    "duration": 239,
    "start_time": "2021-12-28T06:38:06.842Z"
   },
   {
    "duration": 41,
    "start_time": "2021-12-28T06:38:07.084Z"
   },
   {
    "duration": 752,
    "start_time": "2021-12-28T06:38:07.127Z"
   },
   {
    "duration": 185,
    "start_time": "2021-12-28T06:38:07.882Z"
   },
   {
    "duration": 1028,
    "start_time": "2021-12-28T06:38:08.254Z"
   },
   {
    "duration": 161,
    "start_time": "2021-12-28T06:38:09.285Z"
   },
   {
    "duration": 215,
    "start_time": "2021-12-28T06:38:09.449Z"
   },
   {
    "duration": 1301,
    "start_time": "2021-12-28T06:38:10.327Z"
   },
   {
    "duration": 297,
    "start_time": "2021-12-28T06:38:11.631Z"
   },
   {
    "duration": 151,
    "start_time": "2021-12-28T06:38:12.518Z"
   },
   {
    "duration": 50,
    "start_time": "2021-12-28T06:38:13.710Z"
   },
   {
    "duration": 1875,
    "start_time": "2021-12-28T06:38:15.230Z"
   },
   {
    "duration": 120,
    "start_time": "2021-12-28T06:55:12.535Z"
   },
   {
    "duration": 1521,
    "start_time": "2021-12-28T06:55:13.367Z"
   },
   {
    "duration": 1085,
    "start_time": "2021-12-28T06:55:36.825Z"
   },
   {
    "duration": 11,
    "start_time": "2021-12-28T06:55:42.464Z"
   },
   {
    "duration": 169,
    "start_time": "2021-12-28T07:00:03.380Z"
   },
   {
    "duration": 298,
    "start_time": "2021-12-28T07:10:03.776Z"
   },
   {
    "duration": 8,
    "start_time": "2021-12-28T07:10:14.400Z"
   },
   {
    "duration": 302,
    "start_time": "2021-12-28T07:11:14.305Z"
   },
   {
    "duration": 1625,
    "start_time": "2021-12-28T07:12:51.737Z"
   },
   {
    "duration": 1125,
    "start_time": "2021-12-28T07:12:53.365Z"
   },
   {
    "duration": 7,
    "start_time": "2021-12-28T07:12:54.493Z"
   },
   {
    "duration": 173,
    "start_time": "2021-12-28T07:12:54.503Z"
   },
   {
    "duration": 126,
    "start_time": "2021-12-28T07:12:54.679Z"
   },
   {
    "duration": 633,
    "start_time": "2021-12-28T07:12:54.807Z"
   },
   {
    "duration": 739,
    "start_time": "2021-12-28T07:12:55.442Z"
   },
   {
    "duration": 229,
    "start_time": "2021-12-28T07:12:56.185Z"
   },
   {
    "duration": 49,
    "start_time": "2021-12-28T07:12:56.417Z"
   },
   {
    "duration": 712,
    "start_time": "2021-12-28T07:12:56.468Z"
   },
   {
    "duration": 181,
    "start_time": "2021-12-28T07:12:57.182Z"
   },
   {
    "duration": 981,
    "start_time": "2021-12-28T07:12:57.365Z"
   },
   {
    "duration": 156,
    "start_time": "2021-12-28T07:12:58.348Z"
   },
   {
    "duration": 212,
    "start_time": "2021-12-28T07:12:58.506Z"
   },
   {
    "duration": 1284,
    "start_time": "2021-12-28T07:12:58.720Z"
   },
   {
    "duration": 297,
    "start_time": "2021-12-28T07:13:00.006Z"
   },
   {
    "duration": 156,
    "start_time": "2021-12-28T07:13:00.306Z"
   },
   {
    "duration": 49,
    "start_time": "2021-12-28T07:13:00.465Z"
   },
   {
    "duration": 1829,
    "start_time": "2021-12-28T07:13:00.517Z"
   },
   {
    "duration": 4,
    "start_time": "2021-12-28T07:13:02.348Z"
   },
   {
    "duration": 142,
    "start_time": "2021-12-28T07:13:02.354Z"
   },
   {
    "duration": 1085,
    "start_time": "2021-12-28T07:13:02.498Z"
   },
   {
    "duration": 11,
    "start_time": "2021-12-28T07:13:03.587Z"
   },
   {
    "duration": 194,
    "start_time": "2021-12-28T07:13:03.601Z"
   },
   {
    "duration": 435,
    "start_time": "2021-12-28T07:13:03.798Z"
   },
   {
    "duration": 2880,
    "start_time": "2021-12-28T07:13:01.356Z"
   },
   {
    "duration": 2860,
    "start_time": "2021-12-28T07:13:01.377Z"
   },
   {
    "duration": 2851,
    "start_time": "2021-12-28T07:13:01.388Z"
   },
   {
    "duration": 2845,
    "start_time": "2021-12-28T07:13:01.396Z"
   },
   {
    "duration": 2840,
    "start_time": "2021-12-28T07:13:01.402Z"
   },
   {
    "duration": 2836,
    "start_time": "2021-12-28T07:13:01.408Z"
   },
   {
    "duration": 2831,
    "start_time": "2021-12-28T07:13:01.414Z"
   },
   {
    "duration": 2828,
    "start_time": "2021-12-28T07:13:01.419Z"
   },
   {
    "duration": 2825,
    "start_time": "2021-12-28T07:13:01.425Z"
   },
   {
    "duration": 1204,
    "start_time": "2021-12-28T07:13:43.867Z"
   },
   {
    "duration": 1205,
    "start_time": "2021-12-28T07:14:41.614Z"
   },
   {
    "duration": 1593,
    "start_time": "2021-12-29T16:07:24.783Z"
   },
   {
    "duration": 1166,
    "start_time": "2021-12-29T16:07:30.694Z"
   },
   {
    "duration": 1159,
    "start_time": "2021-12-29T16:07:36.070Z"
   },
   {
    "duration": 8,
    "start_time": "2021-12-29T16:07:37.231Z"
   },
   {
    "duration": 204,
    "start_time": "2021-12-29T16:07:37.242Z"
   },
   {
    "duration": 135,
    "start_time": "2021-12-29T16:07:37.449Z"
   },
   {
    "duration": 604,
    "start_time": "2021-12-29T16:07:38.413Z"
   },
   {
    "duration": 728,
    "start_time": "2021-12-29T16:07:39.637Z"
   },
   {
    "duration": 217,
    "start_time": "2021-12-29T16:07:40.694Z"
   },
   {
    "duration": 40,
    "start_time": "2021-12-29T16:07:42.436Z"
   },
   {
    "duration": 825,
    "start_time": "2021-12-29T16:07:45.686Z"
   },
   {
    "duration": 189,
    "start_time": "2021-12-29T16:07:46.514Z"
   },
   {
    "duration": 954,
    "start_time": "2021-12-29T16:07:46.878Z"
   },
   {
    "duration": 140,
    "start_time": "2021-12-29T16:07:47.835Z"
   },
   {
    "duration": 209,
    "start_time": "2021-12-29T16:07:47.978Z"
   },
   {
    "duration": 1536,
    "start_time": "2021-12-29T16:07:53.757Z"
   },
   {
    "duration": 297,
    "start_time": "2021-12-29T16:07:55.837Z"
   },
   {
    "duration": 142,
    "start_time": "2021-12-29T16:07:57.830Z"
   },
   {
    "duration": 60,
    "start_time": "2021-12-29T16:08:06.005Z"
   },
   {
    "duration": 524,
    "start_time": "2021-12-29T16:12:39.664Z"
   },
   {
    "duration": 158,
    "start_time": "2021-12-29T16:12:47.056Z"
   },
   {
    "duration": 810,
    "start_time": "2021-12-29T16:13:28.865Z"
   },
   {
    "duration": 1337,
    "start_time": "2021-12-29T16:16:47.467Z"
   },
   {
    "duration": 127,
    "start_time": "2021-12-29T16:19:19.091Z"
   },
   {
    "duration": 576,
    "start_time": "2021-12-29T16:19:22.819Z"
   },
   {
    "duration": 38,
    "start_time": "2021-12-29T16:19:45.908Z"
   },
   {
    "duration": 2296,
    "start_time": "2021-12-29T16:20:19.293Z"
   },
   {
    "duration": 7,
    "start_time": "2021-12-29T16:23:14.166Z"
   },
   {
    "duration": 8,
    "start_time": "2021-12-29T16:23:47.478Z"
   },
   {
    "duration": 8,
    "start_time": "2021-12-29T16:26:10.296Z"
   },
   {
    "duration": 166,
    "start_time": "2021-12-29T16:27:32.345Z"
   },
   {
    "duration": 1801,
    "start_time": "2021-12-29T16:29:06.945Z"
   },
   {
    "duration": 35,
    "start_time": "2021-12-29T16:29:39.146Z"
   },
   {
    "duration": 155,
    "start_time": "2021-12-29T16:30:03.849Z"
   },
   {
    "duration": 127,
    "start_time": "2021-12-29T16:30:37.066Z"
   },
   {
    "duration": 492,
    "start_time": "2021-12-29T16:30:53.210Z"
   },
   {
    "duration": 117,
    "start_time": "2021-12-29T16:31:12.379Z"
   },
   {
    "duration": 132,
    "start_time": "2021-12-29T16:32:15.563Z"
   },
   {
    "duration": 132,
    "start_time": "2021-12-29T16:32:19.402Z"
   },
   {
    "duration": 126,
    "start_time": "2021-12-29T16:33:36.091Z"
   },
   {
    "duration": 15,
    "start_time": "2021-12-29T16:33:45.404Z"
   },
   {
    "duration": 125,
    "start_time": "2021-12-29T16:34:03.971Z"
   },
   {
    "duration": 720,
    "start_time": "2021-12-29T16:34:50.148Z"
   },
   {
    "duration": 496,
    "start_time": "2021-12-29T16:34:55.356Z"
   },
   {
    "duration": 530,
    "start_time": "2021-12-29T16:35:41.852Z"
   },
   {
    "duration": 589,
    "start_time": "2021-12-29T16:35:53.159Z"
   },
   {
    "duration": 608,
    "start_time": "2021-12-29T16:36:19.245Z"
   },
   {
    "duration": 141,
    "start_time": "2021-12-29T16:37:18.256Z"
   },
   {
    "duration": 127,
    "start_time": "2021-12-29T16:42:06.617Z"
   },
   {
    "duration": 130,
    "start_time": "2021-12-29T16:42:18.168Z"
   },
   {
    "duration": 122,
    "start_time": "2021-12-29T16:44:43.865Z"
   },
   {
    "duration": 128,
    "start_time": "2021-12-29T16:54:04.125Z"
   },
   {
    "duration": 193,
    "start_time": "2021-12-29T16:54:52.837Z"
   },
   {
    "duration": 665,
    "start_time": "2021-12-29T16:54:54.309Z"
   },
   {
    "duration": 71213,
    "start_time": "2021-12-29T16:58:57.990Z"
   },
   {
    "duration": 378,
    "start_time": "2021-12-29T17:02:38.784Z"
   },
   {
    "duration": 178,
    "start_time": "2021-12-29T17:03:08.401Z"
   },
   {
    "duration": 1812,
    "start_time": "2021-12-29T17:03:09.144Z"
   },
   {
    "duration": 29304,
    "start_time": "2021-12-29T17:03:16.066Z"
   },
   {
    "duration": 30010,
    "start_time": "2021-12-29T17:04:53.753Z"
   },
   {
    "duration": 229,
    "start_time": "2021-12-29T17:15:30.976Z"
   },
   {
    "duration": 389,
    "start_time": "2021-12-29T17:15:31.279Z"
   },
   {
    "duration": 5985,
    "start_time": "2021-12-29T17:15:25.685Z"
   },
   {
    "duration": 321,
    "start_time": "2021-12-29T17:15:31.824Z"
   },
   {
    "duration": 465,
    "start_time": "2021-12-29T17:15:45.520Z"
   },
   {
    "duration": 391,
    "start_time": "2021-12-29T17:15:52.507Z"
   },
   {
    "duration": 199,
    "start_time": "2021-12-29T17:16:01.664Z"
   },
   {
    "duration": 2062,
    "start_time": "2021-12-29T17:16:03.727Z"
   },
   {
    "duration": 236,
    "start_time": "2021-12-29T17:16:58.616Z"
   },
   {
    "duration": 196,
    "start_time": "2021-12-29T17:16:59.680Z"
   },
   {
    "duration": 1824,
    "start_time": "2021-12-29T17:17:00.608Z"
   },
   {
    "duration": 29934,
    "start_time": "2021-12-29T17:17:02.435Z"
   },
   {
    "duration": 8,
    "start_time": "2021-12-29T17:19:26.210Z"
   },
   {
    "duration": 9,
    "start_time": "2021-12-29T17:20:28.426Z"
   },
   {
    "duration": 449,
    "start_time": "2021-12-29T17:22:10.580Z"
   },
   {
    "duration": 380,
    "start_time": "2021-12-29T17:22:41.391Z"
   },
   {
    "duration": 373,
    "start_time": "2021-12-29T17:22:51.275Z"
   },
   {
    "duration": 6,
    "start_time": "2021-12-29T17:24:06.941Z"
   },
   {
    "duration": 179,
    "start_time": "2021-12-29T17:24:25.939Z"
   },
   {
    "duration": 193,
    "start_time": "2021-12-29T17:24:26.956Z"
   },
   {
    "duration": 19,
    "start_time": "2021-12-29T17:24:33.307Z"
   },
   {
    "duration": 28,
    "start_time": "2021-12-29T17:24:44.390Z"
   },
   {
    "duration": 390,
    "start_time": "2021-12-29T17:27:09.558Z"
   },
   {
    "duration": 486,
    "start_time": "2021-12-29T17:27:19.093Z"
   },
   {
    "duration": 10,
    "start_time": "2021-12-29T17:27:43.070Z"
   },
   {
    "duration": 192,
    "start_time": "2021-12-29T17:29:14.742Z"
   },
   {
    "duration": 606,
    "start_time": "2021-12-29T17:29:15.587Z"
   },
   {
    "duration": 392,
    "start_time": "2021-12-29T17:29:41.239Z"
   },
   {
    "duration": 379,
    "start_time": "2021-12-29T17:30:16.680Z"
   },
   {
    "duration": 191,
    "start_time": "2021-12-29T17:30:28.966Z"
   },
   {
    "duration": 200,
    "start_time": "2021-12-29T17:30:30.183Z"
   },
   {
    "duration": 14,
    "start_time": "2021-12-29T17:30:52.711Z"
   },
   {
    "duration": 197,
    "start_time": "2021-12-29T17:31:06.873Z"
   },
   {
    "duration": 183,
    "start_time": "2021-12-29T17:34:58.617Z"
   },
   {
    "duration": 199,
    "start_time": "2021-12-29T17:34:59.145Z"
   },
   {
    "duration": 1914,
    "start_time": "2021-12-29T17:35:00.299Z"
   },
   {
    "duration": 2826,
    "start_time": "2021-12-29T17:35:03.040Z"
   },
   {
    "duration": 745,
    "start_time": "2021-12-29T17:35:29.289Z"
   },
   {
    "duration": 717,
    "start_time": "2021-12-29T17:35:34.362Z"
   },
   {
    "duration": 682,
    "start_time": "2021-12-29T17:35:53.100Z"
   },
   {
    "duration": 274,
    "start_time": "2021-12-29T17:38:11.805Z"
   },
   {
    "duration": 1668,
    "start_time": "2021-12-29T17:38:57.881Z"
   },
   {
    "duration": 8,
    "start_time": "2021-12-29T17:39:18.340Z"
   },
   {
    "duration": 1141,
    "start_time": "2021-12-29T17:39:18.351Z"
   },
   {
    "duration": 7,
    "start_time": "2021-12-29T17:39:19.496Z"
   },
   {
    "duration": 186,
    "start_time": "2021-12-29T17:39:19.506Z"
   },
   {
    "duration": 139,
    "start_time": "2021-12-29T17:39:19.695Z"
   },
   {
    "duration": 751,
    "start_time": "2021-12-29T17:39:19.837Z"
   },
   {
    "duration": 802,
    "start_time": "2021-12-29T17:39:20.590Z"
   },
   {
    "duration": 230,
    "start_time": "2021-12-29T17:39:21.396Z"
   },
   {
    "duration": 49,
    "start_time": "2021-12-29T17:39:21.628Z"
   },
   {
    "duration": 749,
    "start_time": "2021-12-29T17:39:21.680Z"
   },
   {
    "duration": 192,
    "start_time": "2021-12-29T17:39:22.431Z"
   },
   {
    "duration": 1029,
    "start_time": "2021-12-29T17:39:22.625Z"
   },
   {
    "duration": 150,
    "start_time": "2021-12-29T17:39:23.660Z"
   },
   {
    "duration": 211,
    "start_time": "2021-12-29T17:39:23.813Z"
   },
   {
    "duration": 1352,
    "start_time": "2021-12-29T17:39:24.027Z"
   },
   {
    "duration": 291,
    "start_time": "2021-12-29T17:39:25.381Z"
   },
   {
    "duration": 160,
    "start_time": "2021-12-29T17:39:25.675Z"
   },
   {
    "duration": 56,
    "start_time": "2021-12-29T17:39:25.838Z"
   },
   {
    "duration": 214,
    "start_time": "2021-12-29T17:39:25.897Z"
   },
   {
    "duration": 317,
    "start_time": "2021-12-29T17:39:26.114Z"
   },
   {
    "duration": 1826,
    "start_time": "2021-12-29T17:39:26.433Z"
   },
   {
    "duration": 799,
    "start_time": "2021-12-29T17:39:33.176Z"
   },
   {
    "duration": 185,
    "start_time": "2021-12-29T17:40:07.890Z"
   },
   {
    "duration": 222,
    "start_time": "2021-12-29T17:40:09.143Z"
   },
   {
    "duration": 1870,
    "start_time": "2021-12-29T17:40:10.233Z"
   },
   {
    "duration": 376,
    "start_time": "2021-12-29T17:40:12.106Z"
   },
   {
    "duration": 264,
    "start_time": "2021-12-29T17:40:13.914Z"
   },
   {
    "duration": 7,
    "start_time": "2021-12-29T17:41:09.869Z"
   },
   {
    "duration": 7,
    "start_time": "2021-12-29T17:41:27.395Z"
   },
   {
    "duration": 11,
    "start_time": "2021-12-29T17:42:58.548Z"
   },
   {
    "duration": 259,
    "start_time": "2021-12-29T17:44:43.702Z"
   },
   {
    "duration": 281,
    "start_time": "2021-12-29T17:44:56.894Z"
   },
   {
    "duration": 6,
    "start_time": "2021-12-29T17:45:07.733Z"
   },
   {
    "duration": 383,
    "start_time": "2021-12-29T17:45:32.366Z"
   },
   {
    "duration": 7,
    "start_time": "2021-12-29T17:46:00.412Z"
   },
   {
    "duration": 276,
    "start_time": "2021-12-29T17:46:54.510Z"
   },
   {
    "duration": 128,
    "start_time": "2021-12-29T17:49:53.951Z"
   },
   {
    "duration": 368,
    "start_time": "2021-12-29T17:50:14.136Z"
   },
   {
    "duration": 6,
    "start_time": "2021-12-29T17:50:22.016Z"
   },
   {
    "duration": 322,
    "start_time": "2021-12-29T17:50:38.977Z"
   },
   {
    "duration": 344,
    "start_time": "2021-12-29T17:51:13.659Z"
   },
   {
    "duration": 347,
    "start_time": "2021-12-29T17:51:48.537Z"
   },
   {
    "duration": 7,
    "start_time": "2021-12-29T17:54:18.307Z"
   },
   {
    "duration": 25,
    "start_time": "2021-12-29T17:55:04.955Z"
   },
   {
    "duration": 275,
    "start_time": "2021-12-29T17:55:13.299Z"
   },
   {
    "duration": 286,
    "start_time": "2021-12-29T17:55:48.957Z"
   },
   {
    "duration": 291,
    "start_time": "2021-12-29T17:56:00.628Z"
   },
   {
    "duration": 280,
    "start_time": "2021-12-29T17:56:05.636Z"
   },
   {
    "duration": 28,
    "start_time": "2021-12-29T17:56:16.244Z"
   },
   {
    "duration": 301,
    "start_time": "2021-12-29T17:56:28.900Z"
   },
   {
    "duration": 326,
    "start_time": "2021-12-29T17:56:52.038Z"
   },
   {
    "duration": 293,
    "start_time": "2021-12-29T17:56:59.265Z"
   },
   {
    "duration": 397,
    "start_time": "2021-12-29T17:56:59.636Z"
   },
   {
    "duration": 1957,
    "start_time": "2021-12-29T17:57:00.121Z"
   },
   {
    "duration": 384,
    "start_time": "2021-12-29T17:57:02.080Z"
   },
   {
    "duration": 369,
    "start_time": "2021-12-29T17:57:04.346Z"
   },
   {
    "duration": 7,
    "start_time": "2021-12-29T17:57:19.668Z"
   },
   {
    "duration": 27,
    "start_time": "2021-12-29T17:57:55.007Z"
   },
   {
    "duration": 640,
    "start_time": "2021-12-29T17:57:59.796Z"
   },
   {
    "duration": 36,
    "start_time": "2021-12-29T17:58:52.632Z"
   },
   {
    "duration": 51,
    "start_time": "2021-12-29T17:58:58.413Z"
   },
   {
    "duration": 5,
    "start_time": "2021-12-29T17:59:31.511Z"
   },
   {
    "duration": 7,
    "start_time": "2021-12-29T17:59:37.911Z"
   },
   {
    "duration": 63,
    "start_time": "2021-12-29T17:59:53.695Z"
   },
   {
    "duration": 6,
    "start_time": "2021-12-29T18:00:04.880Z"
   },
   {
    "duration": 1014,
    "start_time": "2021-12-29T18:00:20.439Z"
   },
   {
    "duration": 264,
    "start_time": "2021-12-29T18:00:39.097Z"
   },
   {
    "duration": 205,
    "start_time": "2021-12-29T18:04:55.894Z"
   },
   {
    "duration": 212,
    "start_time": "2021-12-29T18:04:56.312Z"
   },
   {
    "duration": 1899,
    "start_time": "2021-12-29T18:04:57.206Z"
   },
   {
    "duration": 378,
    "start_time": "2021-12-29T18:05:03.383Z"
   },
   {
    "duration": 6,
    "start_time": "2021-12-29T18:05:14.591Z"
   },
   {
    "duration": 5,
    "start_time": "2021-12-29T18:06:21.825Z"
   },
   {
    "duration": 6,
    "start_time": "2021-12-29T18:06:51.049Z"
   },
   {
    "duration": 6,
    "start_time": "2021-12-29T18:07:30.801Z"
   },
   {
    "duration": 5,
    "start_time": "2021-12-29T18:07:56.961Z"
   },
   {
    "duration": 5,
    "start_time": "2021-12-29T18:08:05.801Z"
   },
   {
    "duration": 5,
    "start_time": "2021-12-29T18:08:17.058Z"
   },
   {
    "duration": 6,
    "start_time": "2021-12-29T18:08:30.881Z"
   },
   {
    "duration": 829,
    "start_time": "2021-12-29T18:10:58.427Z"
   },
   {
    "duration": 951,
    "start_time": "2021-12-29T18:11:35.259Z"
   },
   {
    "duration": 2867,
    "start_time": "2021-12-29T18:12:56.134Z"
   },
   {
    "duration": 1132,
    "start_time": "2021-12-29T18:12:59.004Z"
   },
   {
    "duration": 6,
    "start_time": "2021-12-29T18:13:00.139Z"
   },
   {
    "duration": 176,
    "start_time": "2021-12-29T18:13:00.148Z"
   },
   {
    "duration": 141,
    "start_time": "2021-12-29T18:13:00.327Z"
   },
   {
    "duration": 812,
    "start_time": "2021-12-29T18:13:00.471Z"
   },
   {
    "duration": 738,
    "start_time": "2021-12-29T18:13:01.285Z"
   },
   {
    "duration": 228,
    "start_time": "2021-12-29T18:13:02.026Z"
   },
   {
    "duration": 40,
    "start_time": "2021-12-29T18:13:02.260Z"
   },
   {
    "duration": 729,
    "start_time": "2021-12-29T18:13:02.302Z"
   },
   {
    "duration": 181,
    "start_time": "2021-12-29T18:13:03.033Z"
   },
   {
    "duration": 994,
    "start_time": "2021-12-29T18:13:03.217Z"
   },
   {
    "duration": 155,
    "start_time": "2021-12-29T18:13:04.214Z"
   },
   {
    "duration": 260,
    "start_time": "2021-12-29T18:13:04.371Z"
   },
   {
    "duration": 1403,
    "start_time": "2021-12-29T18:13:04.637Z"
   },
   {
    "duration": 305,
    "start_time": "2021-12-29T18:13:06.043Z"
   },
   {
    "duration": 151,
    "start_time": "2021-12-29T18:13:06.350Z"
   },
   {
    "duration": 57,
    "start_time": "2021-12-29T18:13:06.503Z"
   },
   {
    "duration": 185,
    "start_time": "2021-12-29T18:13:06.563Z"
   },
   {
    "duration": 213,
    "start_time": "2021-12-29T18:13:06.750Z"
   },
   {
    "duration": 1836,
    "start_time": "2021-12-29T18:13:06.967Z"
   },
   {
    "duration": 329,
    "start_time": "2021-12-29T18:14:15.077Z"
   },
   {
    "duration": 6,
    "start_time": "2021-12-29T18:14:25.469Z"
   },
   {
    "duration": 5,
    "start_time": "2021-12-29T18:14:36.150Z"
   },
   {
    "duration": 435,
    "start_time": "2021-12-29T18:14:54.430Z"
   },
   {
    "duration": 53,
    "start_time": "2021-12-29T18:14:58.406Z"
   },
   {
    "duration": 185,
    "start_time": "2021-12-29T18:15:06.902Z"
   },
   {
    "duration": 202,
    "start_time": "2021-12-29T18:15:07.167Z"
   },
   {
    "duration": 1901,
    "start_time": "2021-12-29T18:15:07.372Z"
   },
   {
    "duration": 446,
    "start_time": "2021-12-29T18:15:09.276Z"
   },
   {
    "duration": 41,
    "start_time": "2021-12-29T18:15:09.725Z"
   },
   {
    "duration": 19319,
    "start_time": "2021-12-29T18:29:18.761Z"
   },
   {
    "duration": 54899,
    "start_time": "2021-12-29T18:30:14.588Z"
   },
   {
    "duration": 53398,
    "start_time": "2021-12-29T18:31:43.393Z"
   },
   {
    "duration": 56473,
    "start_time": "2021-12-29T18:33:59.022Z"
   },
   {
    "duration": 5990,
    "start_time": "2021-12-29T18:34:49.978Z"
   },
   {
    "duration": 5970,
    "start_time": "2021-12-29T18:34:49.999Z"
   },
   {
    "duration": 5944,
    "start_time": "2021-12-29T18:34:50.026Z"
   },
   {
    "duration": 5931,
    "start_time": "2021-12-29T18:34:50.041Z"
   },
   {
    "duration": 53327,
    "start_time": "2021-12-29T18:35:49.504Z"
   },
   {
    "duration": 460,
    "start_time": "2021-12-29T18:36:42.834Z"
   },
   {
    "duration": 387,
    "start_time": "2021-12-29T18:36:56.856Z"
   },
   {
    "duration": 422,
    "start_time": "2021-12-29T18:36:57.448Z"
   },
   {
    "duration": 1286,
    "start_time": "2021-12-29T18:37:07.833Z"
   },
   {
    "duration": 116,
    "start_time": "2021-12-29T18:37:12.238Z"
   },
   {
    "duration": 1061,
    "start_time": "2021-12-29T18:37:13.874Z"
   },
   {
    "duration": 23,
    "start_time": "2021-12-29T18:37:14.938Z"
   },
   {
    "duration": 212,
    "start_time": "2021-12-29T18:37:19.648Z"
   },
   {
    "duration": 11675,
    "start_time": "2021-12-29T18:37:22.768Z"
   },
   {
    "duration": 35944,
    "start_time": "2021-12-29T18:38:04.740Z"
   },
   {
    "duration": 35457,
    "start_time": "2021-12-29T18:39:13.177Z"
   },
   {
    "duration": 7,
    "start_time": "2021-12-29T18:42:18.785Z"
   },
   {
    "duration": 5,
    "start_time": "2021-12-29T18:42:31.938Z"
   }
  ],
  "kernelspec": {
   "display_name": "Python 3 (ipykernel)",
   "language": "python",
   "name": "python3"
  },
  "language_info": {
   "codemirror_mode": {
    "name": "ipython",
    "version": 3
   },
   "file_extension": ".py",
   "mimetype": "text/x-python",
   "name": "python",
   "nbconvert_exporter": "python",
   "pygments_lexer": "ipython3",
   "version": "3.9.6"
  },
  "toc": {
   "base_numbering": 1,
   "nav_menu": {},
   "number_sections": true,
   "sideBar": true,
   "skip_h1_title": true,
   "title_cell": "Table of Contents",
   "title_sidebar": "Contents",
   "toc_cell": false,
   "toc_position": {},
   "toc_section_display": true,
   "toc_window_display": false
  }
 },
 "nbformat": 4,
 "nbformat_minor": 5
}
