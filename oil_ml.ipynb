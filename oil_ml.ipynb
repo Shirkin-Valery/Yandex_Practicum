{
 "cells": [
  {
   "cell_type": "markdown",
   "metadata": {},
   "source": [
    "# Задача: Определить выбор локации для скважины"
   ]
  },
  {
   "cell_type": "markdown",
   "metadata": {},
   "source": [
    "Общий прицип  для выбора локации:\n",
    "\n",
    "- В избранном регионе ищут месторождения, для каждого определяют значения признаков;\n",
    "- Строят модель и оценивают объём запасов;\n",
    "- Выбирают месторождения с самым высокими оценками значений. Количество месторождений зависит от бюджета компании и стоимости разработки одной скважины;\n",
    "- Прибыль равна суммарной прибыли отобранных месторождений."
   ]
  },
  {
   "cell_type": "code",
   "execution_count": 1,
   "metadata": {},
   "outputs": [],
   "source": [
    "import pandas as pd\n",
    "import matplotlib\n",
    "import matplotlib.pyplot as plt\n",
    "import numpy as np\n",
    "import seaborn as sns\n",
    "\n",
    "from sklearn.linear_model import LinearRegression\n",
    "from sklearn.metrics import mean_absolute_error\n",
    "from sklearn.metrics import mean_squared_error\n",
    "from sklearn.metrics import r2_score\n",
    "from sklearn.model_selection import train_test_split\n",
    "from sklearn.preprocessing import StandardScaler\n",
    "from scipy import stats as st\n",
    "\n",
    "sns.set_style(\"darkgrid\")\n",
    "pd.options.display.float_format = '{:,.2f}'.format\n",
    "matplotlib.style.use('ggplot')\n",
    "%matplotlib inline"
   ]
  },
  {
   "cell_type": "code",
   "execution_count": 2,
   "metadata": {},
   "outputs": [],
   "source": [
    "BUDGET=10**10  #Бюджет на разработку скважин в регионе — 10 млрд рублей.\n",
    "NUMBER_WELL = 200 #c помощью машинного обучения выбирают 200 лучших для разработки\n",
    "GROSS_INCOME = 450*1000 #доход с каждой единицы продукта составляет 450 тыс. рублей\n",
    "SEARCH_WELL = 500 #при разведке региона исследуют 500 точек"
   ]
  },
  {
   "cell_type": "markdown",
   "metadata": {},
   "source": [
    "## Загрузка и подготовка данных"
   ]
  },
  {
   "cell_type": "markdown",
   "metadata": {},
   "source": [
    "###  Взгляд на данные, структура и пропуски"
   ]
  },
  {
   "cell_type": "code",
   "execution_count": 3,
   "metadata": {},
   "outputs": [
    {
     "data": {
      "text/html": [
       "<div>\n",
       "<style scoped>\n",
       "    .dataframe tbody tr th:only-of-type {\n",
       "        vertical-align: middle;\n",
       "    }\n",
       "\n",
       "    .dataframe tbody tr th {\n",
       "        vertical-align: top;\n",
       "    }\n",
       "\n",
       "    .dataframe thead th {\n",
       "        text-align: right;\n",
       "    }\n",
       "</style>\n",
       "<table border=\"1\" class=\"dataframe\">\n",
       "  <thead>\n",
       "    <tr style=\"text-align: right;\">\n",
       "      <th></th>\n",
       "      <th>id</th>\n",
       "      <th>f0</th>\n",
       "      <th>f1</th>\n",
       "      <th>f2</th>\n",
       "      <th>product</th>\n",
       "    </tr>\n",
       "  </thead>\n",
       "  <tbody>\n",
       "    <tr>\n",
       "      <td>0</td>\n",
       "      <td>txEyH</td>\n",
       "      <td>0.71</td>\n",
       "      <td>-0.50</td>\n",
       "      <td>1.22</td>\n",
       "      <td>105.28</td>\n",
       "    </tr>\n",
       "    <tr>\n",
       "      <td>1</td>\n",
       "      <td>2acmU</td>\n",
       "      <td>1.33</td>\n",
       "      <td>-0.34</td>\n",
       "      <td>4.37</td>\n",
       "      <td>73.04</td>\n",
       "    </tr>\n",
       "    <tr>\n",
       "      <td>2</td>\n",
       "      <td>409Wp</td>\n",
       "      <td>1.02</td>\n",
       "      <td>0.15</td>\n",
       "      <td>1.42</td>\n",
       "      <td>85.27</td>\n",
       "    </tr>\n",
       "    <tr>\n",
       "      <td>3</td>\n",
       "      <td>iJLyR</td>\n",
       "      <td>-0.03</td>\n",
       "      <td>0.14</td>\n",
       "      <td>2.98</td>\n",
       "      <td>168.62</td>\n",
       "    </tr>\n",
       "    <tr>\n",
       "      <td>4</td>\n",
       "      <td>Xdl7t</td>\n",
       "      <td>1.99</td>\n",
       "      <td>0.16</td>\n",
       "      <td>4.75</td>\n",
       "      <td>154.04</td>\n",
       "    </tr>\n",
       "  </tbody>\n",
       "</table>\n",
       "</div>"
      ],
      "text/plain": [
       "      id    f0    f1   f2  product\n",
       "0  txEyH  0.71 -0.50 1.22   105.28\n",
       "1  2acmU  1.33 -0.34 4.37    73.04\n",
       "2  409Wp  1.02  0.15 1.42    85.27\n",
       "3  iJLyR -0.03  0.14 2.98   168.62\n",
       "4  Xdl7t  1.99  0.16 4.75   154.04"
      ]
     },
     "metadata": {},
     "output_type": "display_data"
    },
    {
     "name": "stdout",
     "output_type": "stream",
     "text": [
      "<class 'pandas.core.frame.DataFrame'>\n",
      "RangeIndex: 100000 entries, 0 to 99999\n",
      "Data columns (total 5 columns):\n",
      "id         100000 non-null object\n",
      "f0         100000 non-null float64\n",
      "f1         100000 non-null float64\n",
      "f2         100000 non-null float64\n",
      "product    100000 non-null float64\n",
      "dtypes: float64(4), object(1)\n",
      "memory usage: 3.8+ MB\n",
      "\n",
      " ==================================================================================================== \n",
      "\n"
     ]
    },
    {
     "data": {
      "text/html": [
       "<div>\n",
       "<style scoped>\n",
       "    .dataframe tbody tr th:only-of-type {\n",
       "        vertical-align: middle;\n",
       "    }\n",
       "\n",
       "    .dataframe tbody tr th {\n",
       "        vertical-align: top;\n",
       "    }\n",
       "\n",
       "    .dataframe thead th {\n",
       "        text-align: right;\n",
       "    }\n",
       "</style>\n",
       "<table border=\"1\" class=\"dataframe\">\n",
       "  <thead>\n",
       "    <tr style=\"text-align: right;\">\n",
       "      <th></th>\n",
       "      <th>id</th>\n",
       "      <th>f0</th>\n",
       "      <th>f1</th>\n",
       "      <th>f2</th>\n",
       "      <th>product</th>\n",
       "    </tr>\n",
       "  </thead>\n",
       "  <tbody>\n",
       "    <tr>\n",
       "      <td>0</td>\n",
       "      <td>kBEdx</td>\n",
       "      <td>-15.00</td>\n",
       "      <td>-8.28</td>\n",
       "      <td>-0.01</td>\n",
       "      <td>3.18</td>\n",
       "    </tr>\n",
       "    <tr>\n",
       "      <td>1</td>\n",
       "      <td>62mP7</td>\n",
       "      <td>14.27</td>\n",
       "      <td>-3.48</td>\n",
       "      <td>1.00</td>\n",
       "      <td>26.95</td>\n",
       "    </tr>\n",
       "    <tr>\n",
       "      <td>2</td>\n",
       "      <td>vyE1P</td>\n",
       "      <td>6.26</td>\n",
       "      <td>-5.95</td>\n",
       "      <td>5.00</td>\n",
       "      <td>134.77</td>\n",
       "    </tr>\n",
       "    <tr>\n",
       "      <td>3</td>\n",
       "      <td>KcrkZ</td>\n",
       "      <td>-13.08</td>\n",
       "      <td>-11.51</td>\n",
       "      <td>5.00</td>\n",
       "      <td>137.95</td>\n",
       "    </tr>\n",
       "    <tr>\n",
       "      <td>4</td>\n",
       "      <td>AHL4O</td>\n",
       "      <td>12.70</td>\n",
       "      <td>-8.15</td>\n",
       "      <td>5.00</td>\n",
       "      <td>134.77</td>\n",
       "    </tr>\n",
       "  </tbody>\n",
       "</table>\n",
       "</div>"
      ],
      "text/plain": [
       "      id     f0     f1    f2  product\n",
       "0  kBEdx -15.00  -8.28 -0.01     3.18\n",
       "1  62mP7  14.27  -3.48  1.00    26.95\n",
       "2  vyE1P   6.26  -5.95  5.00   134.77\n",
       "3  KcrkZ -13.08 -11.51  5.00   137.95\n",
       "4  AHL4O  12.70  -8.15  5.00   134.77"
      ]
     },
     "metadata": {},
     "output_type": "display_data"
    },
    {
     "name": "stdout",
     "output_type": "stream",
     "text": [
      "<class 'pandas.core.frame.DataFrame'>\n",
      "RangeIndex: 100000 entries, 0 to 99999\n",
      "Data columns (total 5 columns):\n",
      "id         100000 non-null object\n",
      "f0         100000 non-null float64\n",
      "f1         100000 non-null float64\n",
      "f2         100000 non-null float64\n",
      "product    100000 non-null float64\n",
      "dtypes: float64(4), object(1)\n",
      "memory usage: 3.8+ MB\n",
      "\n",
      " ==================================================================================================== \n",
      "\n"
     ]
    },
    {
     "data": {
      "text/html": [
       "<div>\n",
       "<style scoped>\n",
       "    .dataframe tbody tr th:only-of-type {\n",
       "        vertical-align: middle;\n",
       "    }\n",
       "\n",
       "    .dataframe tbody tr th {\n",
       "        vertical-align: top;\n",
       "    }\n",
       "\n",
       "    .dataframe thead th {\n",
       "        text-align: right;\n",
       "    }\n",
       "</style>\n",
       "<table border=\"1\" class=\"dataframe\">\n",
       "  <thead>\n",
       "    <tr style=\"text-align: right;\">\n",
       "      <th></th>\n",
       "      <th>id</th>\n",
       "      <th>f0</th>\n",
       "      <th>f1</th>\n",
       "      <th>f2</th>\n",
       "      <th>product</th>\n",
       "    </tr>\n",
       "  </thead>\n",
       "  <tbody>\n",
       "    <tr>\n",
       "      <td>0</td>\n",
       "      <td>fwXo0</td>\n",
       "      <td>-1.15</td>\n",
       "      <td>0.96</td>\n",
       "      <td>-0.83</td>\n",
       "      <td>27.76</td>\n",
       "    </tr>\n",
       "    <tr>\n",
       "      <td>1</td>\n",
       "      <td>WJtFt</td>\n",
       "      <td>0.26</td>\n",
       "      <td>0.27</td>\n",
       "      <td>-2.53</td>\n",
       "      <td>56.07</td>\n",
       "    </tr>\n",
       "    <tr>\n",
       "      <td>2</td>\n",
       "      <td>ovLUW</td>\n",
       "      <td>0.19</td>\n",
       "      <td>0.29</td>\n",
       "      <td>-5.59</td>\n",
       "      <td>62.87</td>\n",
       "    </tr>\n",
       "    <tr>\n",
       "      <td>3</td>\n",
       "      <td>q6cA6</td>\n",
       "      <td>2.24</td>\n",
       "      <td>-0.55</td>\n",
       "      <td>0.93</td>\n",
       "      <td>114.57</td>\n",
       "    </tr>\n",
       "    <tr>\n",
       "      <td>4</td>\n",
       "      <td>WPMUX</td>\n",
       "      <td>-0.52</td>\n",
       "      <td>1.72</td>\n",
       "      <td>5.90</td>\n",
       "      <td>149.60</td>\n",
       "    </tr>\n",
       "  </tbody>\n",
       "</table>\n",
       "</div>"
      ],
      "text/plain": [
       "      id    f0    f1    f2  product\n",
       "0  fwXo0 -1.15  0.96 -0.83    27.76\n",
       "1  WJtFt  0.26  0.27 -2.53    56.07\n",
       "2  ovLUW  0.19  0.29 -5.59    62.87\n",
       "3  q6cA6  2.24 -0.55  0.93   114.57\n",
       "4  WPMUX -0.52  1.72  5.90   149.60"
      ]
     },
     "metadata": {},
     "output_type": "display_data"
    },
    {
     "name": "stdout",
     "output_type": "stream",
     "text": [
      "<class 'pandas.core.frame.DataFrame'>\n",
      "RangeIndex: 100000 entries, 0 to 99999\n",
      "Data columns (total 5 columns):\n",
      "id         100000 non-null object\n",
      "f0         100000 non-null float64\n",
      "f1         100000 non-null float64\n",
      "f2         100000 non-null float64\n",
      "product    100000 non-null float64\n",
      "dtypes: float64(4), object(1)\n",
      "memory usage: 3.8+ MB\n",
      "\n",
      " ==================================================================================================== \n",
      "\n"
     ]
    }
   ],
   "source": [
    "data_list=[]\n",
    "for i in range(3):\n",
    "    exec('data_'+str(i)+ \"=pd.read_csv('/datasets/geo_data_\"+str(i)+\".csv')\")\n",
    "    exec(f'display(data_{i}.head())')\n",
    "    exec(f'data_{i}.info()')\n",
    "    exec(f'data_list.append(data_{i})')\n",
    "    print('\\n', '====='*20, '\\n')"
   ]
  },
  {
   "cell_type": "markdown",
   "metadata": {},
   "source": [
    "**Вывод:** с данными все окей, предварительно чистые и не имеют пропусков, имеют одинаковый размер"
   ]
  },
  {
   "cell_type": "markdown",
   "metadata": {},
   "source": [
    "### Оценка частотного распределения данных"
   ]
  },
  {
   "cell_type": "markdown",
   "metadata": {},
   "source": [
    "Оценим, как распределились частоты по критериям, так как предполагаем, что выбросы могут сильно влиять на среднее значение."
   ]
  },
  {
   "cell_type": "code",
   "execution_count": 4,
   "metadata": {},
   "outputs": [],
   "source": [
    "title_hist = ['Регион_1','Регион_2','Регион_3']\n",
    "list_columns = data_list[1].columns \n",
    "list_columns = list_columns.drop('id')"
   ]
  },
  {
   "cell_type": "code",
   "execution_count": 5,
   "metadata": {},
   "outputs": [
    {
     "data": {
      "image/png": "[encoded data removed]",
      "text/plain": [
       "<Figure size 1440x288 with 4 Axes>"
      ]
     },
     "metadata": {
      "needs_background": "light"
     },
     "output_type": "display_data"
    }
   ],
   "source": [
    "region = 0\n",
    "num_bins = 50\n",
    "fig, ax = plt.subplots(1,4, figsize=(20, 4))\n",
    "fig.suptitle(title_hist[region] ,y = 1.05,fontsize = 30)\n",
    "\n",
    "for i in range(4):\n",
    "    ax[i].hist(data_list[region][list_columns[i]], num_bins, density=True);\n",
    "    ax[i].set_title(list_columns[i])    "
   ]
  },
  {
   "cell_type": "code",
   "execution_count": 6,
   "metadata": {},
   "outputs": [
    {
     "data": {
      "image/png": "[encoded data removed]",
      "text/plain": [
       "<Figure size 1440x288 with 4 Axes>"
      ]
     },
     "metadata": {
      "needs_background": "light"
     },
     "output_type": "display_data"
    }
   ],
   "source": [
    "region = 1\n",
    "num_bins = 50\n",
    "fig, ax = plt.subplots(1,4, figsize=(20, 4))\n",
    "fig.suptitle(title_hist[region] ,y = 1.05,fontsize = 30)\n",
    "\n",
    "for i in range(4):\n",
    "    ax[i].hist(data_list[region][list_columns[i]], num_bins, density=True);\n",
    "    ax[i].set_title(list_columns[i])    "
   ]
  },
  {
   "cell_type": "code",
   "execution_count": 7,
   "metadata": {},
   "outputs": [
    {
     "data": {
      "image/png": "[encoded data removed]",
      "text/plain": [
       "<Figure size 1440x288 with 4 Axes>"
      ]
     },
     "metadata": {
      "needs_background": "light"
     },
     "output_type": "display_data"
    }
   ],
   "source": [
    "region = 2\n",
    "num_bins = 50\n",
    "fig, ax = plt.subplots(1,4, figsize=(20, 4))\n",
    "fig.suptitle(title_hist[region] ,y = 1.05,fontsize = 30)\n",
    "\n",
    "for i in range(4):\n",
    "    ax[i].hist(data_list[region][list_columns[i]], num_bins, density=True);\n",
    "    ax[i].set_title(list_columns[i])    "
   ]
  },
  {
   "cell_type": "markdown",
   "metadata": {},
   "source": [
    "**Вывод:**  Распределения достаточно равномерные, но по некоторым признакам наблюдается  мультимодальность. Плюс данные  имеют разный масштаб, требуется масштабирование данных "
   ]
  },
  {
   "cell_type": "markdown",
   "metadata": {},
   "source": [
    "### Оценка линейной корреляции данных"
   ]
  },
  {
   "cell_type": "code",
   "execution_count": 8,
   "metadata": {},
   "outputs": [
    {
     "data": {
      "image/png": "[encoded data removed]",
      "text/plain": [
       "<Figure size 1440x360 with 6 Axes>"
      ]
     },
     "metadata": {
      "needs_background": "light"
     },
     "output_type": "display_data"
    }
   ],
   "source": [
    "fig, axes = plt.subplots(1, 3,figsize=(20, 5))\n",
    "title_heatmap = ['Регион_1','Регион_2','Регион_3']\n",
    "for i in range(3):\n",
    "    sns.heatmap(data_list[i].corr(), vmin=-1, vmax=1, annot=True, cmap='BrBG', ax=axes[i])\n",
    "    axes[i].set_title(title_heatmap[i], loc = 'center')    "
   ]
  },
  {
   "cell_type": "markdown",
   "metadata": {},
   "source": [
    "**Вывод:** Видны линейные  корреляции в особенности по критерию f2, и в  особенности в регионе 2"
   ]
  },
  {
   "cell_type": "markdown",
   "metadata": {},
   "source": [
    "## Обучение и проверка модели"
   ]
  },
  {
   "cell_type": "markdown",
   "metadata": {},
   "source": [
    "По условию задачи необходимо предсказать средний запас сырья, а это задача регрессии. Также по условию задачи подходит только линейная регрессия, так как прочие недостаточно предсказуемы."
   ]
  },
  {
   "cell_type": "markdown",
   "metadata": {},
   "source": [
    "### Разделение данных на обучающую и валидационную выборки в соотношении 75:25."
   ]
  },
  {
   "cell_type": "code",
   "execution_count": 9,
   "metadata": {},
   "outputs": [],
   "source": [
    "data_train_list = []\n",
    "data_valid_list = []\n",
    "for i in range(3):\n",
    "    exec(f'data_train_{i},data_valid_{i} = train_test_split(data_list[{i}], test_size=0.25, random_state=393)')\n",
    "    exec(f'data_train_list.append(data_train_{i})')\n",
    "    exec(f'data_valid_list.append(data_valid_{i})')"
   ]
  },
  {
   "cell_type": "code",
   "execution_count": 10,
   "metadata": {},
   "outputs": [
    {
     "name": "stdout",
     "output_type": "stream",
     "text": [
      "(75000, 5)\n",
      "(25000, 5)\n",
      "(75000, 5)\n",
      "(25000, 5)\n",
      "(75000, 5)\n",
      "(25000, 5)\n"
     ]
    }
   ],
   "source": [
    "for i in range(3):\n",
    "    print (data_train_list[i].shape)\n",
    "    print (data_valid_list[i].shape)\n"
   ]
  },
  {
   "cell_type": "markdown",
   "metadata": {},
   "source": [
    "**Комментарий:** разбиение корректное"
   ]
  },
  {
   "cell_type": "markdown",
   "metadata": {},
   "source": [
    "### Выделение целевого  признака Product"
   ]
  },
  {
   "cell_type": "code",
   "execution_count": 11,
   "metadata": {},
   "outputs": [],
   "source": [
    "for i in range(3):\n",
    "    exec(f'features_train_{i} = data_train_list[{i}].drop([\"product\",\"id\"], axis=1)')\n",
    "    exec(f'features_valid_{i} = data_valid_list[{i}].drop([\"product\",\"id\"], axis=1)')\n",
    "    exec(f'target_train_{i} = data_train_list[{i}][\"product\"]')     \n",
    "    exec(f'target_valid_{i} = data_valid_list[{i}][\"product\"]')"
   ]
  },
  {
   "cell_type": "markdown",
   "metadata": {},
   "source": [
    "### Масштабирование  данных"
   ]
  },
  {
   "cell_type": "markdown",
   "metadata": {},
   "source": [
    "Так  как работаем с линейной моделью и признаки имеют разный масштаб, то требуется масштабировать данные."
   ]
  },
  {
   "cell_type": "code",
   "execution_count": 12,
   "metadata": {},
   "outputs": [],
   "source": [
    "numeric = list_columns[0:3]\n",
    "scaler = StandardScaler()\n",
    "for i in range(3):\n",
    "    exec(f'scaler.fit(features_train_{i}[numeric])')\n",
    "    exec(f'features_train_{i}[numeric] = scaler.transform(features_train_{i}[numeric])')\n",
    "    exec(f'features_valid_{i}[numeric] = scaler.transform(features_valid_{i}[numeric])')"
   ]
  },
  {
   "cell_type": "markdown",
   "metadata": {},
   "source": [
    "### Обучение моделей"
   ]
  },
  {
   "cell_type": "markdown",
   "metadata": {},
   "source": [
    "Обучим модели и сделаем предсказания на валидационной выборке"
   ]
  },
  {
   "cell_type": "code",
   "execution_count": 13,
   "metadata": {},
   "outputs": [],
   "source": [
    "def LinearRegression_calculation(features_train,target_train,features_valid,target_valid): \n",
    "     \n",
    "    model = LinearRegression()\n",
    "    model.fit(features_train, target_train)\n",
    "    predictions_valid = model.predict(features_valid)\n",
    "    \n",
    "    mean = target_train.mean()\n",
    "    mse = mean_squared_error(target_valid,predictions_valid)\n",
    "    r2 = r2_score(target_valid,predictions_valid)\n",
    "    rmse = mean_squared_error(target_valid,predictions_valid) ** 0.5\n",
    "    \n",
    "    predicted_valid = pd.Series(target_train.mean(), index=target_valid.index)\n",
    "    mean_const_model = target_valid.mean()\n",
    "    mse_const_model = mean_squared_error(target_valid, predicted_valid)   \n",
    "    rmse_const_model = mse_const_model**0.5\n",
    "    \n",
    "    return mean,mse,r2,rmse,mean_const_model,mse_const_model,rmse_const_model,predictions_valid"
   ]
  },
  {
   "cell_type": "markdown",
   "metadata": {},
   "source": [
    "Запустим работу функции"
   ]
  },
  {
   "cell_type": "code",
   "execution_count": 14,
   "metadata": {},
   "outputs": [],
   "source": [
    "list_of_mse = []\n",
    "list_of_r2 = []\n",
    "list_of_rmse = []\n",
    "predict_valid_list =[]\n",
    "for i in range (3):\n",
    "    exec(f'mean,mse,r2,rmse,mean_const_model,mse_const_model,rmse_const_model,predictions_valid_{i}=LinearRegression_calculation(features_train_{i},target_train_{i},features_valid_{i},target_valid_{i})')\n",
    "    list_of_mse.append (mse)\n",
    "    list_of_r2.append (r2)\n",
    "    list_of_rmse.append (rmse)\n",
    "    exec(f'predict_valid_list.append(predictions_valid_{i})')"
   ]
  },
  {
   "cell_type": "markdown",
   "metadata": {},
   "source": [
    "Отобразим итоги предсказаний "
   ]
  },
  {
   "cell_type": "code",
   "execution_count": 15,
   "metadata": {},
   "outputs": [
    {
     "data": {
      "text/html": [
       "<div>\n",
       "<style scoped>\n",
       "    .dataframe tbody tr th:only-of-type {\n",
       "        vertical-align: middle;\n",
       "    }\n",
       "\n",
       "    .dataframe tbody tr th {\n",
       "        vertical-align: top;\n",
       "    }\n",
       "\n",
       "    .dataframe thead th {\n",
       "        text-align: right;\n",
       "    }\n",
       "</style>\n",
       "<table border=\"1\" class=\"dataframe\">\n",
       "  <thead>\n",
       "    <tr style=\"text-align: right;\">\n",
       "      <th></th>\n",
       "      <th>Регион</th>\n",
       "      <th>Коэффициент детерминации</th>\n",
       "      <th>Cредняя квадратичная ошибка</th>\n",
       "      <th>Квадратный корень из средней квадратичной ошибки</th>\n",
       "    </tr>\n",
       "  </thead>\n",
       "  <tbody>\n",
       "    <tr>\n",
       "      <td>0</td>\n",
       "      <td>Регион 1</td>\n",
       "      <td>0.27</td>\n",
       "      <td>1,424.07</td>\n",
       "      <td>37.74</td>\n",
       "    </tr>\n",
       "    <tr>\n",
       "      <td>1</td>\n",
       "      <td>Регион 2</td>\n",
       "      <td>1.00</td>\n",
       "      <td>0.79</td>\n",
       "      <td>0.89</td>\n",
       "    </tr>\n",
       "    <tr>\n",
       "      <td>2</td>\n",
       "      <td>Регион 3</td>\n",
       "      <td>0.20</td>\n",
       "      <td>1,604.16</td>\n",
       "      <td>40.05</td>\n",
       "    </tr>\n",
       "  </tbody>\n",
       "</table>\n",
       "</div>"
      ],
      "text/plain": [
       "     Регион  Коэффициент детерминации  Cредняя квадратичная ошибка  \\\n",
       "0  Регион 1                      0.27                     1,424.07   \n",
       "1  Регион 2                      1.00                         0.79   \n",
       "2  Регион 3                      0.20                     1,604.16   \n",
       "\n",
       "   Квадратный корень из средней квадратичной ошибки  \n",
       "0                                             37.74  \n",
       "1                                              0.89  \n",
       "2                                             40.05  "
      ]
     },
     "execution_count": 15,
     "metadata": {},
     "output_type": "execute_result"
    }
   ],
   "source": [
    "table_of_region = ['Регион 1','Регион 2','Регион 3']\n",
    "pivot_table = (pd.DataFrame({'Регион':table_of_region,'Коэффициент детерминации': list_of_r2 ,\n",
    "                             'Cредняя квадратичная ошибка':list_of_mse,\n",
    "                             'Квадратный корень из средней квадратичной ошибки':list_of_rmse}))\n",
    "pivot_table"
   ]
  },
  {
   "cell_type": "markdown",
   "metadata": {},
   "source": [
    "**Вывод:** Регион 2 коэффициент детерминации почти = 1, это говорит этом что там есть сильная линейная зависимость, это было видно по матрице корреляций. По остальным регионам  LinearRegression достаточно с низким качеством описывает зависимость."
   ]
  },
  {
   "cell_type": "markdown",
   "metadata": {},
   "source": [
    "## Подготовка к расчёту прибыли"
   ]
  },
  {
   "cell_type": "markdown",
   "metadata": {},
   "source": [
    "### Расчет точки безубыточности"
   ]
  },
  {
   "cell_type": "code",
   "execution_count": 16,
   "metadata": {},
   "outputs": [
    {
     "name": "stdout",
     "output_type": "stream",
     "text": [
      "Точка безубыточности:111.11\n"
     ]
    }
   ],
   "source": [
    "break_even_point = BUDGET/NUMBER_WELL/GROSS_INCOME\n",
    "print ('Точка безубыточности:{:,.2f}'.format(break_even_point))"
   ]
  },
  {
   "cell_type": "markdown",
   "metadata": {},
   "source": [
    "Для безубыточной добычи требуются скважины с запасом более более **111,11** тыс .баррелей"
   ]
  },
  {
   "cell_type": "markdown",
   "metadata": {},
   "source": [
    "### Расчет среднего количества тыс баррелей на одну скважину по регионам"
   ]
  },
  {
   "cell_type": "code",
   "execution_count": 17,
   "metadata": {
    "scrolled": true
   },
   "outputs": [
    {
     "name": "stdout",
     "output_type": "stream",
     "text": [
      "Среденее количество баррелей на одну скважину Регион_1 92.5\n",
      "Среденее количество баррелей на одну скважину Регион_2 68.83\n",
      "Среденее количество баррелей на одну скважину Регион_3 95.0\n",
      "Необходимое среденее количество баррелей на одну скважину, чтобы  уложиться в бюджет 111.11\n"
     ]
    }
   ],
   "source": [
    "for i in range(3):\n",
    "    print ('Среденее количество баррелей на одну скважину',title_hist[i],round(data_list[i]['product'].mean(),2))\n",
    "print ('Необходимое среденее количество баррелей на одну скважину, чтобы  уложиться в бюджет',round(break_even_point,2)) "
   ]
  },
  {
   "cell_type": "markdown",
   "metadata": {},
   "source": [
    "**Вывод:** В среднем, в регионах недостаточно количества баррелей на  одну скважину, чтобы  уложиться в  бюджет"
   ]
  },
  {
   "cell_type": "markdown",
   "metadata": {},
   "source": [
    "## Расчёт прибыли и рисков "
   ]
  },
  {
   "cell_type": "markdown",
   "metadata": {},
   "source": [
    "### Составление  функцию расчета прибыли \n",
    "Принцип расчета - сумма по 200 скважинам с максимальным объемом добычи * доход каждой единице продукта составляет  -  бюджет на разработку"
   ]
  },
  {
   "cell_type": "code",
   "execution_count": 18,
   "metadata": {},
   "outputs": [],
   "source": [
    "def revenue(target, probabilities, number_well):\n",
    "    probs_sorted = probabilities.sort_values(ascending=False)\n",
    "    selected = target[probs_sorted.index][:number_well]\n",
    "    return GROSS_INCOME * selected.sum()-BUDGET"
   ]
  },
  {
   "cell_type": "code",
   "execution_count": 19,
   "metadata": {},
   "outputs": [
    {
     "name": "stdout",
     "output_type": "stream",
     "text": [
      "Предсказания прибыли ТОП 200 скважин по объему сырья Регион_1 : 3,272,699,817.54\n",
      "Предсказания прибыли ТОП 200 скважин по объему сырья Регион_2 : 2,415,086,696.68\n",
      "Предсказания прибыли ТОП 200 скважин по объему сырья Регион_3 : 2,704,296,096.60\n"
     ]
    }
   ],
   "source": [
    "target_valid_list = [target_valid_0,target_valid_1,target_valid_2]\n",
    "\n",
    "for i in range(3):\n",
    "    exec(f'predict_valid_list[i] = pd.Series(predictions_valid_{i})')\n",
    "    print ('Предсказания прибыли ТОП 200 скважин по объему сырья',title_hist[i],': {:,.2f}'.format(revenue(target_valid_list[i].reset_index(drop=True),predict_valid_list[i], NUMBER_WELL)))\n"
   ]
  },
  {
   "cell_type": "markdown",
   "metadata": {},
   "source": [
    "### Использование  Bootstrap с 1000 выборок, чтобы для нахождения  распределение прибыли"
   ]
  },
  {
   "cell_type": "code",
   "execution_count": 20,
   "metadata": {},
   "outputs": [],
   "source": [
    "def profit_calculation(target_valid,predict_valid):\n",
    "    state = np.random.RandomState(393)\n",
    "    profit = []\n",
    "    for i in range(1000):\n",
    "        target_sample = target_valid.sample(SEARCH_WELL,replace=True, random_state=state)\n",
    "        probs_sample = pd.Series(predict_valid)[target_sample.index]\n",
    "        profits = revenue(target_sample, probs_sample, NUMBER_WELL)\n",
    "        profit.append(profits)\n",
    "   \n",
    "    profit = pd.Series(profit)\n",
    "    mean_profit = profit.mean()\n",
    "    lower_edge = profit.quantile(0.025)\n",
    "    upper_edge = profit.quantile(0.975)\n",
    "    \n",
    "    losses = profit[profit < 0]\n",
    "    loss_probaility = len(losses) / len(profit)\n",
    "    \n",
    "    return mean_profit,upper_edge,lower_edge,loss_probaility#confidence_interval"
   ]
  },
  {
   "cell_type": "markdown",
   "metadata": {},
   "source": [
    "### Расчет показатели распредения прибыли по регионам"
   ]
  },
  {
   "cell_type": "code",
   "execution_count": 21,
   "metadata": {},
   "outputs": [],
   "source": [
    "profit_mean_list=[]\n",
    "loss_probaility_list=[]\n",
    "lower_edge_list=[]\n",
    "upper_edge_list =[]\n",
    "for i in range(3):\n",
    "    exec(f'mean_profit,upper_edge,lower_edge, loss_probaility = profit_calculation(target_valid_{i}.reset_index(drop=True),predictions_valid_{i})')\n",
    "    profit_mean_list.append(mean_profit)\n",
    "    loss_probaility_list.append(loss_probaility)\n",
    "    lower_edge_list.append(lower_edge)\n",
    "    upper_edge_list.append(upper_edge)"
   ]
  },
  {
   "cell_type": "code",
   "execution_count": 22,
   "metadata": {},
   "outputs": [
    {
     "data": {
      "text/html": [
       "<style  type=\"text/css\" >\n",
       "</style><table id=\"T_81eb2462_4b5f_11ec_a560_02420a39526d\" ><thead>    <tr>        <th class=\"blank level0\" ></th>        <th class=\"col_heading level0 col0\" >Регион</th>        <th class=\"col_heading level0 col1\" >Средняя прибыль, руб.</th>        <th class=\"col_heading level0 col2\" >Риск убытков</th>        <th class=\"col_heading level0 col3\" >Нижняя граница довертильного интервала, руб.</th>        <th class=\"col_heading level0 col4\" >Верхняя граница довертильного интервала, руб.</th>    </tr></thead><tbody>\n",
       "                <tr>\n",
       "                        <th id=\"T_81eb2462_4b5f_11ec_a560_02420a39526dlevel0_row0\" class=\"row_heading level0 row0\" >0</th>\n",
       "                        <td id=\"T_81eb2462_4b5f_11ec_a560_02420a39526drow0_col0\" class=\"data row0 col0\" >Регион 1</td>\n",
       "                        <td id=\"T_81eb2462_4b5f_11ec_a560_02420a39526drow0_col1\" class=\"data row0 col1\" >447,014,792.83</td>\n",
       "                        <td id=\"T_81eb2462_4b5f_11ec_a560_02420a39526drow0_col2\" class=\"data row0 col2\" >5.70%</td>\n",
       "                        <td id=\"T_81eb2462_4b5f_11ec_a560_02420a39526drow0_col3\" class=\"data row0 col3\" >-96,158,554.36</td>\n",
       "                        <td id=\"T_81eb2462_4b5f_11ec_a560_02420a39526drow0_col4\" class=\"data row0 col4\" >966,896,718.98</td>\n",
       "            </tr>\n",
       "            <tr>\n",
       "                        <th id=\"T_81eb2462_4b5f_11ec_a560_02420a39526dlevel0_row1\" class=\"row_heading level0 row1\" >1</th>\n",
       "                        <td id=\"T_81eb2462_4b5f_11ec_a560_02420a39526drow1_col0\" class=\"data row1 col0\" >Регион 2</td>\n",
       "                        <td id=\"T_81eb2462_4b5f_11ec_a560_02420a39526drow1_col1\" class=\"data row1 col1\" >508,103,815.94</td>\n",
       "                        <td id=\"T_81eb2462_4b5f_11ec_a560_02420a39526drow1_col2\" class=\"data row1 col2\" >1.10%</td>\n",
       "                        <td id=\"T_81eb2462_4b5f_11ec_a560_02420a39526drow1_col3\" class=\"data row1 col3\" >88,136,513.70</td>\n",
       "                        <td id=\"T_81eb2462_4b5f_11ec_a560_02420a39526drow1_col4\" class=\"data row1 col4\" >917,963,147.70</td>\n",
       "            </tr>\n",
       "            <tr>\n",
       "                        <th id=\"T_81eb2462_4b5f_11ec_a560_02420a39526dlevel0_row2\" class=\"row_heading level0 row2\" >2</th>\n",
       "                        <td id=\"T_81eb2462_4b5f_11ec_a560_02420a39526drow2_col0\" class=\"data row2 col0\" >Регион 3</td>\n",
       "                        <td id=\"T_81eb2462_4b5f_11ec_a560_02420a39526drow2_col1\" class=\"data row2 col1\" >421,089,889.29</td>\n",
       "                        <td id=\"T_81eb2462_4b5f_11ec_a560_02420a39526drow2_col2\" class=\"data row2 col2\" >7.30%</td>\n",
       "                        <td id=\"T_81eb2462_4b5f_11ec_a560_02420a39526drow2_col3\" class=\"data row2 col3\" >-123,018,699.31</td>\n",
       "                        <td id=\"T_81eb2462_4b5f_11ec_a560_02420a39526drow2_col4\" class=\"data row2 col4\" >977,865,666.86</td>\n",
       "            </tr>\n",
       "    </tbody></table>"
      ],
      "text/plain": [
       "<pandas.io.formats.style.Styler at 0x7fef1e46f450>"
      ]
     },
     "execution_count": 22,
     "metadata": {},
     "output_type": "execute_result"
    }
   ],
   "source": [
    "table_of_region = ['Регион 1','Регион 2','Регион 3']\n",
    "pivot_table_final = (pd.DataFrame({'Регион':table_of_region,'Средняя прибыль, руб.': profit_mean_list ,\n",
    "                                   'Риск убытков':loss_probaility_list,\n",
    "                                   'Нижняя граница довертильного интервала, руб.': lower_edge_list,\n",
    "                                   'Верхняя граница довертильного интервала, руб.': upper_edge_list}))\n",
    "pivot_table_final.style.format({'Средняя прибыль, руб.':'{:,.2f}',\n",
    "                                'Риск убытков': '{:.2%}',\n",
    "                                'Нижняя граница довертильного интервала, руб.':'{:,.2f}',\n",
    "                                'Верхняя граница довертильного интервала, руб.': '{:,.2f}'})\n"
   ]
  },
  {
   "cell_type": "markdown",
   "metadata": {},
   "source": [
    "# Вывод: \n",
    "Исходя из прогнозируемой средней прибыли целесообразно вкладываться в разработку скважин. Наиболее интересным с точки зрения соотношения риск- прибыль является регион номер 2.  "
   ]
  },
  {
   "cell_type": "markdown",
   "metadata": {},
   "source": [
    "Поставьте 'x' в выполненных пунктах. Далее нажмите Shift+Enter."
   ]
  },
  {
   "cell_type": "markdown",
   "metadata": {},
   "source": [
    "- [x]  Jupyter Notebook открыт\n",
    "- [x]  Весь код выполняется без ошибок\n",
    "- [x]  Ячейки с кодом расположены в порядке исполнения\n",
    "- [x]  Выполнен шаг 1: данные подготовлены\n",
    "- [x]  Выполнен шаг 2: модели обучены и проверены\n",
    "    - [x]  Данные корректно разбиты на обучающую и валидационную выборки\n",
    "    - [x]  Модели обучены, предсказания сделаны\n",
    "    - [x]  Предсказания и правильные ответы на валидационной выборке сохранены\n",
    "    - [x]  На экране напечатаны результаты\n",
    "    - [x]  Сделаны выводы\n",
    "- [x]  Выполнен шаг 3: проведена подготовка к расчёту прибыли\n",
    "    - [x]  Для всех ключевых значений созданы константы Python\n",
    "    - [x]  Посчитано минимальное среднее количество продукта в месторождениях региона, достаточное для разработки\n",
    "    - [x]  По предыдущему пункту сделаны выводы\n",
    "    - [x]  Написана функция расчёта прибыли\n",
    "- [x]  Выполнен шаг 4: посчитаны риски и прибыль\n",
    "    - [x]  Проведена процедура *Bootstrap*\n",
    "    - [x]  Все параметры бутстрепа соответствуют условию\n",
    "    - [x]  Найдены все нужные величины\n",
    "    - [x]  Предложен регион для разработки месторождения\n",
    "    - [x]  Выбор региона обоснован"
   ]
  }
 ],
 "metadata": {
  "ExecuteTimeLog": [
   {
    "duration": 330,
    "start_time": "2021-11-11T04:48:40.003Z"
   },
   {
    "duration": 730,
    "start_time": "2021-11-11T04:48:52.657Z"
   },
   {
    "duration": 190,
    "start_time": "2021-11-11T04:48:53.390Z"
   },
   {
    "duration": 160,
    "start_time": "2021-11-11T04:49:12.438Z"
   },
   {
    "duration": 171,
    "start_time": "2021-11-11T04:49:29.120Z"
   },
   {
    "duration": 111,
    "start_time": "2021-11-11T04:58:18.245Z"
   },
   {
    "duration": 96,
    "start_time": "2021-11-11T04:58:28.017Z"
   },
   {
    "duration": 303,
    "start_time": "2021-11-11T05:13:17.508Z"
   },
   {
    "duration": 263,
    "start_time": "2021-11-11T05:13:48.850Z"
   },
   {
    "duration": 219,
    "start_time": "2021-11-11T05:14:05.611Z"
   },
   {
    "duration": 415,
    "start_time": "2021-11-11T05:16:25.864Z"
   },
   {
    "duration": 164,
    "start_time": "2021-11-11T05:16:41.475Z"
   },
   {
    "duration": 169,
    "start_time": "2021-11-11T05:17:32.549Z"
   },
   {
    "duration": 156,
    "start_time": "2021-11-11T05:18:29.566Z"
   },
   {
    "duration": 172,
    "start_time": "2021-11-11T05:18:46.973Z"
   },
   {
    "duration": 160,
    "start_time": "2021-11-11T05:19:15.713Z"
   },
   {
    "duration": 275,
    "start_time": "2021-11-11T06:17:54.557Z"
   },
   {
    "duration": 316,
    "start_time": "2021-11-11T06:18:09.172Z"
   },
   {
    "duration": 339,
    "start_time": "2021-11-11T06:18:28.114Z"
   },
   {
    "duration": 471,
    "start_time": "2021-11-11T06:18:44.393Z"
   },
   {
    "duration": 2422,
    "start_time": "2021-11-11T06:19:03.487Z"
   },
   {
    "duration": 494,
    "start_time": "2021-11-11T06:19:22.802Z"
   },
   {
    "duration": 5,
    "start_time": "2021-11-11T06:21:15.742Z"
   },
   {
    "duration": 4,
    "start_time": "2021-11-11T06:21:21.828Z"
   },
   {
    "duration": 6,
    "start_time": "2021-11-11T06:21:30.081Z"
   },
   {
    "duration": 525,
    "start_time": "2021-11-11T06:21:53.090Z"
   },
   {
    "duration": 515,
    "start_time": "2021-11-11T06:28:10.862Z"
   },
   {
    "duration": 748,
    "start_time": "2021-11-11T06:53:49.720Z"
   },
   {
    "duration": 505,
    "start_time": "2021-11-11T06:53:52.144Z"
   },
   {
    "duration": 96,
    "start_time": "2021-11-11T06:57:13.987Z"
   },
   {
    "duration": 2815,
    "start_time": "2021-11-11T06:57:49.545Z"
   },
   {
    "duration": 2145,
    "start_time": "2021-11-11T06:58:32.438Z"
   },
   {
    "duration": 1994,
    "start_time": "2021-11-11T07:00:03.750Z"
   },
   {
    "duration": 2098,
    "start_time": "2021-11-11T07:00:27.165Z"
   },
   {
    "duration": 16,
    "start_time": "2021-11-11T07:00:44.278Z"
   },
   {
    "duration": 379,
    "start_time": "2021-11-11T07:05:14.233Z"
   },
   {
    "duration": 5,
    "start_time": "2021-11-11T07:05:23.676Z"
   },
   {
    "duration": 4,
    "start_time": "2021-11-11T07:06:01.505Z"
   },
   {
    "duration": 482,
    "start_time": "2021-11-11T07:12:34.789Z"
   },
   {
    "duration": 530,
    "start_time": "2021-11-11T07:12:45.483Z"
   },
   {
    "duration": 2091,
    "start_time": "2021-11-11T07:12:55.696Z"
   },
   {
    "duration": 512,
    "start_time": "2021-11-11T07:13:25.863Z"
   },
   {
    "duration": 270,
    "start_time": "2021-11-11T07:32:20.923Z"
   },
   {
    "duration": 569,
    "start_time": "2021-11-11T07:35:00.188Z"
   },
   {
    "duration": 85,
    "start_time": "2021-11-11T07:35:23.156Z"
   },
   {
    "duration": 85,
    "start_time": "2021-11-11T07:36:04.388Z"
   },
   {
    "duration": 526,
    "start_time": "2021-11-11T07:36:18.622Z"
   },
   {
    "duration": 437,
    "start_time": "2021-11-11T07:36:43.244Z"
   },
   {
    "duration": 730,
    "start_time": "2021-11-11T07:37:27.475Z"
   },
   {
    "duration": 5,
    "start_time": "2021-11-11T07:37:40.800Z"
   },
   {
    "duration": 4,
    "start_time": "2021-11-11T07:38:45.947Z"
   },
   {
    "duration": 6,
    "start_time": "2021-11-11T07:39:00.605Z"
   },
   {
    "duration": 5,
    "start_time": "2021-11-11T07:39:48.753Z"
   },
   {
    "duration": 6,
    "start_time": "2021-11-11T07:40:08.204Z"
   },
   {
    "duration": 510,
    "start_time": "2021-11-11T07:43:25.660Z"
   },
   {
    "duration": 6,
    "start_time": "2021-11-11T07:43:44.515Z"
   },
   {
    "duration": 348,
    "start_time": "2021-11-11T07:44:10.667Z"
   },
   {
    "duration": 307,
    "start_time": "2021-11-11T07:45:37.973Z"
   },
   {
    "duration": 284,
    "start_time": "2021-11-11T07:47:06.265Z"
   },
   {
    "duration": 4,
    "start_time": "2021-11-11T07:47:51.511Z"
   },
   {
    "duration": 5,
    "start_time": "2021-11-11T07:48:15.052Z"
   },
   {
    "duration": 270,
    "start_time": "2021-11-11T07:48:42.066Z"
   },
   {
    "duration": 114,
    "start_time": "2021-11-11T07:49:49.806Z"
   },
   {
    "duration": 5,
    "start_time": "2021-11-11T07:54:32.461Z"
   },
   {
    "duration": 5,
    "start_time": "2021-11-11T07:55:02.017Z"
   },
   {
    "duration": 6,
    "start_time": "2021-11-11T07:55:07.294Z"
   },
   {
    "duration": 5,
    "start_time": "2021-11-11T07:56:59.736Z"
   },
   {
    "duration": 99,
    "start_time": "2021-11-11T07:57:27.484Z"
   },
   {
    "duration": 691,
    "start_time": "2021-11-11T07:57:53.422Z"
   },
   {
    "duration": 197,
    "start_time": "2021-11-11T07:58:14.417Z"
   },
   {
    "duration": 182,
    "start_time": "2021-11-11T07:58:53.729Z"
   },
   {
    "duration": 90,
    "start_time": "2021-11-11T08:00:28.554Z"
   },
   {
    "duration": 86,
    "start_time": "2021-11-11T08:00:36.933Z"
   },
   {
    "duration": 5,
    "start_time": "2021-11-11T08:01:09.090Z"
   },
   {
    "duration": 7,
    "start_time": "2021-11-11T08:01:22.771Z"
   },
   {
    "duration": 5,
    "start_time": "2021-11-11T08:01:32.387Z"
   },
   {
    "duration": 795,
    "start_time": "2021-11-11T08:02:24.534Z"
   },
   {
    "duration": 90,
    "start_time": "2021-11-11T08:03:28.675Z"
   },
   {
    "duration": 90,
    "start_time": "2021-11-11T08:04:03.869Z"
   },
   {
    "duration": 565,
    "start_time": "2021-11-11T08:04:42.469Z"
   },
   {
    "duration": 18,
    "start_time": "2021-11-11T08:05:47.754Z"
   },
   {
    "duration": 16,
    "start_time": "2021-11-11T08:06:00.804Z"
   },
   {
    "duration": 277,
    "start_time": "2021-11-11T08:06:09.786Z"
   },
   {
    "duration": 15,
    "start_time": "2021-11-11T08:06:14.667Z"
   },
   {
    "duration": 88,
    "start_time": "2021-11-11T08:11:03.421Z"
   },
   {
    "duration": 119,
    "start_time": "2021-11-11T08:11:15.086Z"
   },
   {
    "duration": 606,
    "start_time": "2021-11-11T08:11:25.555Z"
   },
   {
    "duration": 314,
    "start_time": "2021-11-11T08:11:37.389Z"
   },
   {
    "duration": 254,
    "start_time": "2021-11-11T08:13:17.972Z"
   },
   {
    "duration": 112,
    "start_time": "2021-11-11T08:13:32.705Z"
   },
   {
    "duration": 493,
    "start_time": "2021-11-11T08:13:45.693Z"
   },
   {
    "duration": 509,
    "start_time": "2021-11-11T08:14:45.798Z"
   },
   {
    "duration": 110,
    "start_time": "2021-11-11T08:23:10.932Z"
   },
   {
    "duration": 2142,
    "start_time": "2021-11-11T08:23:22.513Z"
   },
   {
    "duration": 5,
    "start_time": "2021-11-11T08:25:13.314Z"
   },
   {
    "duration": 525,
    "start_time": "2021-11-11T08:26:00.318Z"
   },
   {
    "duration": 5,
    "start_time": "2021-11-11T08:26:09.882Z"
   },
   {
    "duration": 279,
    "start_time": "2021-11-11T08:26:22.062Z"
   },
   {
    "duration": 270,
    "start_time": "2021-11-11T08:26:27.122Z"
   },
   {
    "duration": 5,
    "start_time": "2021-11-11T08:26:37.899Z"
   },
   {
    "duration": 289,
    "start_time": "2021-11-11T08:26:59.256Z"
   },
   {
    "duration": 2139,
    "start_time": "2021-11-11T08:27:25.205Z"
   },
   {
    "duration": 2006,
    "start_time": "2021-11-11T08:27:41.247Z"
   },
   {
    "duration": 2187,
    "start_time": "2021-11-11T08:27:49.482Z"
   },
   {
    "duration": 277,
    "start_time": "2021-11-11T08:29:48.076Z"
   },
   {
    "duration": 700,
    "start_time": "2021-11-11T08:32:44.706Z"
   },
   {
    "duration": 94,
    "start_time": "2021-11-11T08:34:10.572Z"
   },
   {
    "duration": 460,
    "start_time": "2021-11-11T08:34:35.777Z"
   },
   {
    "duration": 6310,
    "start_time": "2021-11-11T08:34:51.598Z"
   },
   {
    "duration": 8302,
    "start_time": "2021-11-11T08:49:42.358Z"
   },
   {
    "duration": 7016,
    "start_time": "2021-11-11T08:52:02.463Z"
   },
   {
    "duration": 6318,
    "start_time": "2021-11-11T08:52:39.963Z"
   },
   {
    "duration": 94,
    "start_time": "2021-11-11T08:59:43.780Z"
   },
   {
    "duration": 7813,
    "start_time": "2021-11-11T09:00:18.837Z"
   },
   {
    "duration": 7193,
    "start_time": "2021-11-11T09:01:47.515Z"
   },
   {
    "duration": 7034,
    "start_time": "2021-11-11T09:01:58.539Z"
   },
   {
    "duration": 86,
    "start_time": "2021-11-11T09:03:48.682Z"
   },
   {
    "duration": 103,
    "start_time": "2021-11-11T09:04:12.513Z"
   },
   {
    "duration": 2795,
    "start_time": "2021-11-11T09:04:22.840Z"
   },
   {
    "duration": 483,
    "start_time": "2021-11-11T09:05:22.969Z"
   },
   {
    "duration": 120,
    "start_time": "2021-11-11T09:06:13.679Z"
   },
   {
    "duration": 102,
    "start_time": "2021-11-11T09:06:27.314Z"
   },
   {
    "duration": 87,
    "start_time": "2021-11-11T09:06:43.596Z"
   },
   {
    "duration": 107,
    "start_time": "2021-11-11T09:07:06.734Z"
   },
   {
    "duration": 3,
    "start_time": "2021-11-11T09:07:22.053Z"
   },
   {
    "duration": 6,
    "start_time": "2021-11-11T09:07:26.020Z"
   },
   {
    "duration": 1007,
    "start_time": "2021-11-11T09:08:03.792Z"
   },
   {
    "duration": 95,
    "start_time": "2021-11-11T09:08:16.977Z"
   },
   {
    "duration": 82,
    "start_time": "2021-11-11T09:08:21.885Z"
   },
   {
    "duration": 84,
    "start_time": "2021-11-11T09:08:36.209Z"
   },
   {
    "duration": 87,
    "start_time": "2021-11-11T09:08:42.298Z"
   },
   {
    "duration": 99,
    "start_time": "2021-11-11T09:08:48.460Z"
   },
   {
    "duration": 7188,
    "start_time": "2021-11-11T09:09:18.828Z"
   },
   {
    "duration": 86,
    "start_time": "2021-11-11T09:11:15.860Z"
   },
   {
    "duration": 7109,
    "start_time": "2021-11-11T09:11:22.790Z"
   },
   {
    "duration": 622,
    "start_time": "2021-11-11T09:50:32.870Z"
   },
   {
    "duration": 617,
    "start_time": "2021-11-11T09:51:10.287Z"
   },
   {
    "duration": 614,
    "start_time": "2021-11-11T09:51:26.959Z"
   },
   {
    "duration": 287,
    "start_time": "2021-11-11T09:53:22.490Z"
   },
   {
    "duration": 6,
    "start_time": "2021-11-11T09:53:38.528Z"
   },
   {
    "duration": 475,
    "start_time": "2021-11-11T09:54:29.613Z"
   },
   {
    "duration": 5,
    "start_time": "2021-11-11T09:54:58.556Z"
   },
   {
    "duration": 282,
    "start_time": "2021-11-11T09:57:29.407Z"
   },
   {
    "duration": 296,
    "start_time": "2021-11-11T09:58:11.162Z"
   },
   {
    "duration": 5,
    "start_time": "2021-11-11T09:58:17.896Z"
   },
   {
    "duration": 97,
    "start_time": "2021-11-11T09:59:31.978Z"
   },
   {
    "duration": 365,
    "start_time": "2021-11-11T10:00:17.031Z"
   },
   {
    "duration": 5,
    "start_time": "2021-11-11T10:00:32.944Z"
   },
   {
    "duration": 363,
    "start_time": "2021-11-11T10:01:33.235Z"
   },
   {
    "duration": 315,
    "start_time": "2021-11-11T10:03:28.679Z"
   },
   {
    "duration": 5,
    "start_time": "2021-11-11T10:03:36.952Z"
   },
   {
    "duration": 139,
    "start_time": "2021-11-11T10:03:51.318Z"
   },
   {
    "duration": 5,
    "start_time": "2021-11-11T10:04:17.431Z"
   },
   {
    "duration": 87,
    "start_time": "2021-11-11T10:05:36.772Z"
   },
   {
    "duration": 110,
    "start_time": "2021-11-11T10:05:53.408Z"
   },
   {
    "duration": 99,
    "start_time": "2021-11-11T10:06:02.071Z"
   },
   {
    "duration": 92,
    "start_time": "2021-11-11T10:06:51.523Z"
   },
   {
    "duration": 298,
    "start_time": "2021-11-11T10:08:20.499Z"
   },
   {
    "duration": 82,
    "start_time": "2021-11-11T10:08:56.702Z"
   },
   {
    "duration": 6,
    "start_time": "2021-11-11T10:09:12.681Z"
   },
   {
    "duration": 4,
    "start_time": "2021-11-11T10:09:34.092Z"
   },
   {
    "duration": 5,
    "start_time": "2021-11-11T10:09:45.958Z"
   },
   {
    "duration": 129,
    "start_time": "2021-11-11T10:09:54.354Z"
   },
   {
    "duration": 269,
    "start_time": "2021-11-11T10:10:01.524Z"
   },
   {
    "duration": 18,
    "start_time": "2021-11-11T10:15:28.440Z"
   },
   {
    "duration": 18,
    "start_time": "2021-11-11T10:16:51.444Z"
   },
   {
    "duration": 5,
    "start_time": "2021-11-11T10:17:21.524Z"
   },
   {
    "duration": 6,
    "start_time": "2021-11-11T10:17:45.087Z"
   },
   {
    "duration": 5,
    "start_time": "2021-11-11T10:17:50.472Z"
   },
   {
    "duration": 297,
    "start_time": "2021-11-11T10:19:06.798Z"
   },
   {
    "duration": 8667,
    "start_time": "2021-11-11T13:39:32.065Z"
   },
   {
    "duration": 221,
    "start_time": "2021-11-11T13:40:54.949Z"
   },
   {
    "duration": 5,
    "start_time": "2021-11-11T13:41:13.590Z"
   },
   {
    "duration": 503,
    "start_time": "2021-11-11T13:41:34.655Z"
   },
   {
    "duration": 299,
    "start_time": "2021-11-11T13:42:12.890Z"
   },
   {
    "duration": 310,
    "start_time": "2021-11-11T13:47:43.472Z"
   },
   {
    "duration": 291,
    "start_time": "2021-11-11T13:47:59.905Z"
   },
   {
    "duration": 17,
    "start_time": "2021-11-11T13:48:05.288Z"
   },
   {
    "duration": 518,
    "start_time": "2021-11-11T13:48:52.588Z"
   },
   {
    "duration": 552,
    "start_time": "2021-11-11T13:49:59.427Z"
   },
   {
    "duration": 297,
    "start_time": "2021-11-11T13:50:36.347Z"
   },
   {
    "duration": 97,
    "start_time": "2021-11-11T13:50:51.596Z"
   },
   {
    "duration": 101,
    "start_time": "2021-11-11T13:50:55.986Z"
   },
   {
    "duration": 711,
    "start_time": "2021-11-11T13:51:02.621Z"
   },
   {
    "duration": 960,
    "start_time": "2021-11-11T13:51:22.245Z"
   },
   {
    "duration": 1097,
    "start_time": "2021-11-11T13:51:30.117Z"
   },
   {
    "duration": 19,
    "start_time": "2021-11-11T13:52:22.825Z"
   },
   {
    "duration": 1028,
    "start_time": "2021-11-11T13:54:54.058Z"
   },
   {
    "duration": 301,
    "start_time": "2021-11-11T13:58:16.471Z"
   },
   {
    "duration": 59,
    "start_time": "2021-11-11T13:59:02.241Z"
   },
   {
    "duration": 46,
    "start_time": "2021-11-11T13:59:18.267Z"
   },
   {
    "duration": 102,
    "start_time": "2021-11-11T14:00:07.558Z"
   },
   {
    "duration": 97,
    "start_time": "2021-11-11T14:00:15.854Z"
   },
   {
    "duration": 519,
    "start_time": "2021-11-11T14:00:51.282Z"
   },
   {
    "duration": 292,
    "start_time": "2021-11-11T14:02:32.697Z"
   },
   {
    "duration": 537,
    "start_time": "2021-11-11T14:02:51.729Z"
   },
   {
    "duration": 105,
    "start_time": "2021-11-11T14:03:04.666Z"
   },
   {
    "duration": 20,
    "start_time": "2021-11-11T14:03:31.187Z"
   },
   {
    "duration": 100,
    "start_time": "2021-11-11T14:04:51.610Z"
   },
   {
    "duration": 91,
    "start_time": "2021-11-11T14:05:06.769Z"
   },
   {
    "duration": 7100,
    "start_time": "2021-11-11T14:05:18.379Z"
   },
   {
    "duration": 7069,
    "start_time": "2021-11-11T14:05:47.748Z"
   },
   {
    "duration": 961,
    "start_time": "2021-11-11T14:07:04.754Z"
   },
   {
    "duration": 286,
    "start_time": "2021-11-11T14:19:09.040Z"
   },
   {
    "duration": 1727,
    "start_time": "2021-11-11T14:21:09.704Z"
   },
   {
    "duration": 1620,
    "start_time": "2021-11-11T14:25:01.580Z"
   },
   {
    "duration": 2107,
    "start_time": "2021-11-11T14:25:19.751Z"
   },
   {
    "duration": 5100,
    "start_time": "2021-11-11T14:26:16.253Z"
   },
   {
    "duration": 1925,
    "start_time": "2021-11-11T14:27:06.959Z"
   },
   {
    "duration": 1340,
    "start_time": "2021-11-11T14:27:25.936Z"
   },
   {
    "duration": 6975,
    "start_time": "2021-11-11T14:27:42.088Z"
   },
   {
    "duration": 1607,
    "start_time": "2021-11-11T14:29:41.601Z"
   },
   {
    "duration": 1620,
    "start_time": "2021-11-11T14:30:11.986Z"
   },
   {
    "duration": 1536,
    "start_time": "2021-11-11T14:30:47.421Z"
   },
   {
    "duration": 1367,
    "start_time": "2021-11-11T14:31:03.683Z"
   },
   {
    "duration": 1623,
    "start_time": "2021-11-11T14:33:23.439Z"
   },
   {
    "duration": 1449,
    "start_time": "2021-11-11T14:33:44.288Z"
   },
   {
    "duration": 1603,
    "start_time": "2021-11-11T14:33:57.568Z"
   },
   {
    "duration": 1454,
    "start_time": "2021-11-11T14:34:02.761Z"
   },
   {
    "duration": 1993,
    "start_time": "2021-11-11T14:34:43.709Z"
   },
   {
    "duration": 1556,
    "start_time": "2021-11-11T14:34:57.108Z"
   },
   {
    "duration": 2022,
    "start_time": "2021-11-11T14:38:44.572Z"
   },
   {
    "duration": 1792,
    "start_time": "2021-11-11T14:41:26.829Z"
   },
   {
    "duration": 1566,
    "start_time": "2021-11-11T14:42:09.392Z"
   },
   {
    "duration": 1568,
    "start_time": "2021-11-11T14:44:03.293Z"
   },
   {
    "duration": 1745,
    "start_time": "2021-11-11T14:44:11.888Z"
   },
   {
    "duration": 1786,
    "start_time": "2021-11-11T14:44:37.538Z"
   },
   {
    "duration": 1829,
    "start_time": "2021-11-11T14:45:02.372Z"
   },
   {
    "duration": 1851,
    "start_time": "2021-11-11T14:46:50.237Z"
   },
   {
    "duration": 1749,
    "start_time": "2021-11-11T14:47:00.228Z"
   },
   {
    "duration": 1459,
    "start_time": "2021-11-11T14:47:29.070Z"
   },
   {
    "duration": 316,
    "start_time": "2021-11-11T14:47:42.943Z"
   },
   {
    "duration": 4468,
    "start_time": "2021-11-11T14:47:52.915Z"
   },
   {
    "duration": 1232,
    "start_time": "2021-11-11T14:49:05.124Z"
   },
   {
    "duration": 1746,
    "start_time": "2021-11-11T14:49:17.476Z"
   },
   {
    "duration": 1571,
    "start_time": "2021-11-11T14:49:37.590Z"
   },
   {
    "duration": 1804,
    "start_time": "2021-11-11T14:52:31.249Z"
   },
   {
    "duration": 2194,
    "start_time": "2021-11-11T14:52:45.337Z"
   },
   {
    "duration": 1720,
    "start_time": "2021-11-11T14:53:02.971Z"
   },
   {
    "duration": 1570,
    "start_time": "2021-11-11T14:53:15.963Z"
   },
   {
    "duration": 1882,
    "start_time": "2021-11-11T14:59:26.501Z"
   },
   {
    "duration": 94,
    "start_time": "2021-11-11T14:59:38.268Z"
   },
   {
    "duration": 1922,
    "start_time": "2021-11-11T14:59:45.860Z"
   },
   {
    "duration": 1904,
    "start_time": "2021-11-11T14:59:54.769Z"
   },
   {
    "duration": 1750,
    "start_time": "2021-11-11T15:00:12.238Z"
   },
   {
    "duration": 1733,
    "start_time": "2021-11-11T15:00:23.927Z"
   },
   {
    "duration": 1972,
    "start_time": "2021-11-11T15:00:43.473Z"
   },
   {
    "duration": 1701,
    "start_time": "2021-11-11T15:00:54.913Z"
   },
   {
    "duration": 1755,
    "start_time": "2021-11-11T15:01:08.058Z"
   },
   {
    "duration": 1572,
    "start_time": "2021-11-11T15:01:16.803Z"
   },
   {
    "duration": 1662,
    "start_time": "2021-11-11T15:01:46.925Z"
   },
   {
    "duration": 1544,
    "start_time": "2021-11-11T15:02:05.287Z"
   },
   {
    "duration": 1559,
    "start_time": "2021-11-11T15:02:16.478Z"
   },
   {
    "duration": 1565,
    "start_time": "2021-11-11T15:15:49.203Z"
   },
   {
    "duration": 1803,
    "start_time": "2021-11-11T15:15:59.996Z"
   },
   {
    "duration": 1915,
    "start_time": "2021-11-11T15:16:10.917Z"
   },
   {
    "duration": 1596,
    "start_time": "2021-11-11T15:16:28.294Z"
   },
   {
    "duration": 1612,
    "start_time": "2021-11-11T15:16:34.669Z"
   },
   {
    "duration": 1732,
    "start_time": "2021-11-11T15:17:50.891Z"
   },
   {
    "duration": 1775,
    "start_time": "2021-11-11T15:18:01.566Z"
   },
   {
    "duration": 1623,
    "start_time": "2021-11-11T15:18:07.540Z"
   },
   {
    "duration": 1706,
    "start_time": "2021-11-11T15:18:17.429Z"
   },
   {
    "duration": 1964,
    "start_time": "2021-11-11T15:18:36.781Z"
   },
   {
    "duration": 1977,
    "start_time": "2021-11-11T15:19:31.810Z"
   },
   {
    "duration": 1729,
    "start_time": "2021-11-11T15:19:37.497Z"
   },
   {
    "duration": 1722,
    "start_time": "2021-11-11T15:19:49.571Z"
   },
   {
    "duration": 332,
    "start_time": "2021-11-11T15:22:28.685Z"
   },
   {
    "duration": 1596,
    "start_time": "2021-11-11T15:22:37.303Z"
   },
   {
    "duration": 2025,
    "start_time": "2021-11-11T15:25:01.498Z"
   },
   {
    "duration": 1573,
    "start_time": "2021-11-11T15:25:20.496Z"
   },
   {
    "duration": 2444,
    "start_time": "2021-11-11T15:25:49.138Z"
   },
   {
    "duration": 1624,
    "start_time": "2021-11-11T15:26:00.731Z"
   },
   {
    "duration": 1553,
    "start_time": "2021-11-11T15:28:15.483Z"
   },
   {
    "duration": 98,
    "start_time": "2021-11-11T15:28:48.685Z"
   },
   {
    "duration": 1591,
    "start_time": "2021-11-11T15:28:57.958Z"
   },
   {
    "duration": 1604,
    "start_time": "2021-11-11T15:29:32.543Z"
   },
   {
    "duration": 94,
    "start_time": "2021-11-11T15:29:38.968Z"
   },
   {
    "duration": 107,
    "start_time": "2021-11-11T15:29:42.192Z"
   },
   {
    "duration": 1690,
    "start_time": "2021-11-11T15:30:13.850Z"
   },
   {
    "duration": 101,
    "start_time": "2021-11-11T15:30:36.212Z"
   },
   {
    "duration": 1633,
    "start_time": "2021-11-11T15:30:59.533Z"
   },
   {
    "duration": 1877,
    "start_time": "2021-11-11T15:31:46.872Z"
   },
   {
    "duration": 1597,
    "start_time": "2021-11-11T15:32:14.834Z"
   },
   {
    "duration": 2513,
    "start_time": "2021-11-11T15:33:59.305Z"
   },
   {
    "duration": 2714,
    "start_time": "2021-11-11T15:34:10.218Z"
   },
   {
    "duration": 7338,
    "start_time": "2021-11-11T15:34:17.082Z"
   },
   {
    "duration": 8437,
    "start_time": "2021-11-11T15:35:39.448Z"
   },
   {
    "duration": 3438,
    "start_time": "2021-11-11T15:37:09.405Z"
   },
   {
    "duration": 1531,
    "start_time": "2021-11-11T15:38:43.043Z"
   },
   {
    "duration": 1594,
    "start_time": "2021-11-11T15:40:22.354Z"
   },
   {
    "duration": 2355,
    "start_time": "2021-11-11T15:40:35.218Z"
   },
   {
    "duration": 1091,
    "start_time": "2021-11-11T15:40:46.346Z"
   },
   {
    "duration": 1041,
    "start_time": "2021-11-11T15:40:59.139Z"
   },
   {
    "duration": 1010,
    "start_time": "2021-11-11T15:41:24.671Z"
   },
   {
    "duration": 318,
    "start_time": "2021-11-11T15:41:30.390Z"
   },
   {
    "duration": 302,
    "start_time": "2021-11-11T15:41:59.486Z"
   },
   {
    "duration": 1873,
    "start_time": "2021-11-11T15:54:32.335Z"
   },
   {
    "duration": 1790,
    "start_time": "2021-11-11T15:57:48.116Z"
   },
   {
    "duration": 1654,
    "start_time": "2021-11-11T15:58:57.673Z"
   },
   {
    "duration": 87,
    "start_time": "2021-11-11T15:59:33.019Z"
   },
   {
    "duration": 1952,
    "start_time": "2021-11-11T15:59:53.724Z"
   },
   {
    "duration": 6583,
    "start_time": "2021-11-11T16:00:54.153Z"
   },
   {
    "duration": 283,
    "start_time": "2021-11-11T16:01:58.701Z"
   },
   {
    "duration": 7588,
    "start_time": "2021-11-11T16:02:12.245Z"
   },
   {
    "duration": 1136,
    "start_time": "2021-11-11T16:04:15.468Z"
   },
   {
    "duration": 1035,
    "start_time": "2021-11-11T16:04:27.630Z"
   },
   {
    "duration": 1014,
    "start_time": "2021-11-11T16:04:44.470Z"
   },
   {
    "duration": 1022,
    "start_time": "2021-11-11T16:29:57.336Z"
   },
   {
    "duration": 1301,
    "start_time": "2021-11-11T16:30:42.035Z"
   },
   {
    "duration": 21,
    "start_time": "2021-11-11T16:31:59.183Z"
   },
   {
    "duration": 17,
    "start_time": "2021-11-11T16:32:05.343Z"
   },
   {
    "duration": 1508,
    "start_time": "2021-11-11T16:32:19.696Z"
   },
   {
    "duration": 1850,
    "start_time": "2021-11-11T16:32:40.826Z"
   },
   {
    "duration": 2225,
    "start_time": "2021-11-11T16:33:00.190Z"
   },
   {
    "duration": 2393,
    "start_time": "2021-11-11T16:33:29.774Z"
   },
   {
    "duration": 1892,
    "start_time": "2021-11-11T16:33:50.319Z"
   },
   {
    "duration": 1285,
    "start_time": "2021-11-11T16:34:16.257Z"
   },
   {
    "duration": 1056,
    "start_time": "2021-11-11T16:34:29.409Z"
   },
   {
    "duration": 1102,
    "start_time": "2021-11-11T16:34:46.698Z"
   },
   {
    "duration": 1360,
    "start_time": "2021-11-11T16:35:03.964Z"
   },
   {
    "duration": 1022,
    "start_time": "2021-11-11T16:36:11.153Z"
   },
   {
    "duration": 410,
    "start_time": "2021-11-11T16:36:58.130Z"
   },
   {
    "duration": 2891,
    "start_time": "2021-11-11T16:37:52.630Z"
   },
   {
    "duration": 2865,
    "start_time": "2021-11-11T16:39:19.124Z"
   },
   {
    "duration": 267,
    "start_time": "2021-11-11T16:40:20.096Z"
   },
   {
    "duration": 2883,
    "start_time": "2021-11-11T16:40:29.063Z"
   },
   {
    "duration": 6740,
    "start_time": "2021-11-11T16:41:38.589Z"
   },
   {
    "duration": 2038,
    "start_time": "2021-11-11T16:43:56.309Z"
   },
   {
    "duration": 2028,
    "start_time": "2021-11-11T16:44:45.330Z"
   },
   {
    "duration": 2461,
    "start_time": "2021-11-11T16:46:04.790Z"
   },
   {
    "duration": 2079,
    "start_time": "2021-11-11T16:46:38.344Z"
   },
   {
    "duration": 2057,
    "start_time": "2021-11-11T16:46:51.432Z"
   },
   {
    "duration": 2432,
    "start_time": "2021-11-11T16:47:29.331Z"
   },
   {
    "duration": 1013,
    "start_time": "2021-11-11T16:54:36.212Z"
   },
   {
    "duration": 988,
    "start_time": "2021-11-11T16:54:56.073Z"
   },
   {
    "duration": 1949,
    "start_time": "2021-11-11T16:55:07.697Z"
   },
   {
    "duration": 2079,
    "start_time": "2021-11-11T16:55:37.434Z"
   },
   {
    "duration": 6520,
    "start_time": "2021-11-11T16:55:51.188Z"
   },
   {
    "duration": 2334,
    "start_time": "2021-11-11T16:56:38.495Z"
   },
   {
    "duration": 7373,
    "start_time": "2021-11-11T16:56:49.471Z"
   },
   {
    "duration": 6384,
    "start_time": "2021-11-11T16:57:52.003Z"
   },
   {
    "duration": 7127,
    "start_time": "2021-11-11T16:58:34.718Z"
   },
   {
    "duration": 94,
    "start_time": "2021-11-11T17:00:10.492Z"
   },
   {
    "duration": 4,
    "start_time": "2021-11-11T17:02:22.164Z"
   },
   {
    "duration": 140,
    "start_time": "2021-11-11T17:02:24.364Z"
   },
   {
    "duration": 90,
    "start_time": "2021-11-11T17:02:39.558Z"
   },
   {
    "duration": 100,
    "start_time": "2021-11-11T17:03:19.465Z"
   },
   {
    "duration": 695,
    "start_time": "2021-11-11T17:05:41.065Z"
   },
   {
    "duration": 670,
    "start_time": "2021-11-11T17:06:16.355Z"
   },
   {
    "duration": 6872,
    "start_time": "2021-11-11T17:06:35.997Z"
   },
   {
    "duration": 7477,
    "start_time": "2021-11-11T17:07:06.735Z"
   },
   {
    "duration": 501,
    "start_time": "2021-11-11T17:33:01.596Z"
   },
   {
    "duration": 4,
    "start_time": "2021-11-11T17:34:56.346Z"
   },
   {
    "duration": 309,
    "start_time": "2021-11-12T06:10:08.689Z"
   },
   {
    "duration": 1568,
    "start_time": "2021-11-12T06:10:24.852Z"
   },
   {
    "duration": 528,
    "start_time": "2021-11-12T06:10:26.423Z"
   },
   {
    "duration": 26,
    "start_time": "2021-11-12T06:10:26.954Z"
   },
   {
    "duration": 1605,
    "start_time": "2021-11-12T06:10:26.983Z"
   },
   {
    "duration": 405,
    "start_time": "2021-11-12T06:10:40.844Z"
   },
   {
    "duration": 17,
    "start_time": "2021-11-12T06:10:48.580Z"
   },
   {
    "duration": 311,
    "start_time": "2021-11-12T06:11:05.765Z"
   },
   {
    "duration": 15,
    "start_time": "2021-11-12T06:11:18.373Z"
   },
   {
    "duration": 489,
    "start_time": "2021-11-12T06:12:00.780Z"
   },
   {
    "duration": 8,
    "start_time": "2021-11-12T06:12:17.433Z"
   },
   {
    "duration": 6684,
    "start_time": "2021-11-12T06:13:14.709Z"
   },
   {
    "duration": 16,
    "start_time": "2021-11-12T06:14:14.696Z"
   },
   {
    "duration": 6630,
    "start_time": "2021-11-12T06:15:12.804Z"
   },
   {
    "duration": 275,
    "start_time": "2021-11-12T06:17:59.695Z"
   },
   {
    "duration": 7062,
    "start_time": "2021-11-12T06:18:57.451Z"
   },
   {
    "duration": 6371,
    "start_time": "2021-11-12T06:19:36.358Z"
   },
   {
    "duration": 287,
    "start_time": "2021-11-12T06:19:43.526Z"
   },
   {
    "duration": 277,
    "start_time": "2021-11-12T06:20:08.320Z"
   },
   {
    "duration": 22,
    "start_time": "2021-11-12T06:20:59.515Z"
   },
   {
    "duration": 6511,
    "start_time": "2021-11-12T06:21:25.428Z"
   },
   {
    "duration": 8,
    "start_time": "2021-11-12T06:21:41.406Z"
   },
   {
    "duration": 6,
    "start_time": "2021-11-12T06:21:49.214Z"
   },
   {
    "duration": 6444,
    "start_time": "2021-11-12T06:22:16.320Z"
   },
   {
    "duration": 273,
    "start_time": "2021-11-12T06:22:40.858Z"
   },
   {
    "duration": 16,
    "start_time": "2021-11-12T06:22:52.973Z"
   },
   {
    "duration": 1086,
    "start_time": "2021-11-12T06:24:53.347Z"
   },
   {
    "duration": 155,
    "start_time": "2021-11-12T06:27:18.132Z"
   },
   {
    "duration": 24,
    "start_time": "2021-11-12T06:27:22.172Z"
   },
   {
    "duration": 23,
    "start_time": "2021-11-12T06:27:27.150Z"
   },
   {
    "duration": 14,
    "start_time": "2021-11-12T06:27:40.925Z"
   },
   {
    "duration": 7,
    "start_time": "2021-11-12T06:29:38.693Z"
   },
   {
    "duration": 5,
    "start_time": "2021-11-12T06:29:50.245Z"
   },
   {
    "duration": 5,
    "start_time": "2021-11-12T06:29:59.366Z"
   },
   {
    "duration": 344,
    "start_time": "2021-11-12T06:30:04.334Z"
   },
   {
    "duration": 24,
    "start_time": "2021-11-12T06:30:36.584Z"
   },
   {
    "duration": 8,
    "start_time": "2021-11-12T06:30:50.065Z"
   },
   {
    "duration": 7689,
    "start_time": "2021-11-12T06:31:27.596Z"
   },
   {
    "duration": 377,
    "start_time": "2021-11-12T06:31:54.238Z"
   },
   {
    "duration": 504,
    "start_time": "2021-11-12T06:36:27.226Z"
   },
   {
    "duration": 493,
    "start_time": "2021-11-12T06:36:27.238Z"
   },
   {
    "duration": 8,
    "start_time": "2021-11-12T06:36:31.415Z"
   },
   {
    "duration": 779,
    "start_time": "2021-11-12T06:46:21.663Z"
   },
   {
    "duration": 1080,
    "start_time": "2021-11-12T06:47:03.337Z"
   },
   {
    "duration": 1910,
    "start_time": "2021-11-12T06:50:37.125Z"
   },
   {
    "duration": 1828,
    "start_time": "2021-11-12T06:50:49.199Z"
   },
   {
    "duration": 1884,
    "start_time": "2021-11-12T06:50:58.700Z"
   },
   {
    "duration": 1874,
    "start_time": "2021-11-12T06:51:05.607Z"
   },
   {
    "duration": 1877,
    "start_time": "2021-11-12T06:52:07.876Z"
   },
   {
    "duration": 1904,
    "start_time": "2021-11-12T06:52:37.800Z"
   },
   {
    "duration": 2231,
    "start_time": "2021-11-12T06:53:13.448Z"
   },
   {
    "duration": 1762,
    "start_time": "2021-11-12T06:54:08.997Z"
   },
   {
    "duration": 2416,
    "start_time": "2021-11-12T06:54:20.676Z"
   },
   {
    "duration": 1899,
    "start_time": "2021-11-12T06:54:43.398Z"
   },
   {
    "duration": 1901,
    "start_time": "2021-11-12T06:55:16.080Z"
   },
   {
    "duration": 1880,
    "start_time": "2021-11-12T06:55:22.632Z"
   },
   {
    "duration": 2034,
    "start_time": "2021-11-12T06:55:32.940Z"
   },
   {
    "duration": 1922,
    "start_time": "2021-11-12T06:56:03.466Z"
   },
   {
    "duration": 1896,
    "start_time": "2021-11-12T06:56:34.173Z"
   },
   {
    "duration": 1979,
    "start_time": "2021-11-12T06:57:37.490Z"
   },
   {
    "duration": 8968,
    "start_time": "2021-11-12T06:57:58.899Z"
   },
   {
    "duration": 7961,
    "start_time": "2021-11-12T06:59:11.671Z"
   },
   {
    "duration": 95,
    "start_time": "2021-11-12T06:59:32.513Z"
   },
   {
    "duration": 1938,
    "start_time": "2021-11-12T07:00:11.796Z"
   },
   {
    "duration": 4005,
    "start_time": "2021-11-12T07:00:21.748Z"
   },
   {
    "duration": 4182,
    "start_time": "2021-11-12T07:00:32.300Z"
   },
   {
    "duration": 8453,
    "start_time": "2021-11-12T07:00:46.118Z"
   },
   {
    "duration": 8195,
    "start_time": "2021-11-12T07:01:00.135Z"
   },
   {
    "duration": 1872,
    "start_time": "2021-11-12T07:01:24.059Z"
   },
   {
    "duration": 4123,
    "start_time": "2021-11-12T07:01:29.984Z"
   },
   {
    "duration": 4411,
    "start_time": "2021-11-12T07:01:52.625Z"
   },
   {
    "duration": 2242,
    "start_time": "2021-11-12T07:02:15.363Z"
   },
   {
    "duration": 2013,
    "start_time": "2021-11-12T07:05:11.655Z"
   },
   {
    "duration": 15,
    "start_time": "2021-11-12T07:05:32.583Z"
   },
   {
    "duration": 6666,
    "start_time": "2021-11-12T07:05:39.936Z"
   },
   {
    "duration": 7,
    "start_time": "2021-11-12T07:06:03.938Z"
   },
   {
    "duration": 1930,
    "start_time": "2021-11-12T07:06:15.682Z"
   },
   {
    "duration": 7,
    "start_time": "2021-11-12T07:06:29.754Z"
   },
   {
    "duration": 486,
    "start_time": "2021-11-12T07:06:35.939Z"
   },
   {
    "duration": 1967,
    "start_time": "2021-11-12T07:06:52.268Z"
   },
   {
    "duration": 2088,
    "start_time": "2021-11-12T07:07:10.837Z"
   },
   {
    "duration": 2010,
    "start_time": "2021-11-12T07:07:39.984Z"
   },
   {
    "duration": 1711,
    "start_time": "2021-11-12T07:07:45.399Z"
   },
   {
    "duration": 1942,
    "start_time": "2021-11-12T07:08:08.401Z"
   },
   {
    "duration": 1910,
    "start_time": "2021-11-12T07:08:17.114Z"
   },
   {
    "duration": 1834,
    "start_time": "2021-11-12T07:10:31.275Z"
   },
   {
    "duration": 1965,
    "start_time": "2021-11-12T07:11:03.812Z"
   },
   {
    "duration": 1943,
    "start_time": "2021-11-12T07:11:17.382Z"
   },
   {
    "duration": 800,
    "start_time": "2021-11-12T07:11:30.879Z"
   },
   {
    "duration": 1942,
    "start_time": "2021-11-12T07:11:48.912Z"
   },
   {
    "duration": 707,
    "start_time": "2021-11-12T07:12:03.536Z"
   },
   {
    "duration": 2069,
    "start_time": "2021-11-12T07:20:27.706Z"
   },
   {
    "duration": 2036,
    "start_time": "2021-11-12T07:21:06.854Z"
   },
   {
    "duration": 1931,
    "start_time": "2021-11-12T07:21:24.325Z"
   },
   {
    "duration": 476,
    "start_time": "2021-11-12T07:25:31.320Z"
   },
   {
    "duration": 1876,
    "start_time": "2021-11-12T07:26:16.183Z"
   },
   {
    "duration": 3252,
    "start_time": "2021-11-12T07:26:32.016Z"
   },
   {
    "duration": 267,
    "start_time": "2021-11-12T07:27:19.188Z"
   },
   {
    "duration": 621,
    "start_time": "2021-11-12T07:27:41.150Z"
   },
   {
    "duration": 650,
    "start_time": "2021-11-12T07:29:33.948Z"
   },
   {
    "duration": 633,
    "start_time": "2021-11-12T07:29:43.117Z"
   },
   {
    "duration": 1035,
    "start_time": "2021-11-12T07:30:02.366Z"
   },
   {
    "duration": 744,
    "start_time": "2021-11-12T07:30:23.064Z"
   },
   {
    "duration": 650,
    "start_time": "2021-11-12T07:30:37.121Z"
   },
   {
    "duration": 1069,
    "start_time": "2021-11-12T07:31:26.019Z"
   },
   {
    "duration": 983,
    "start_time": "2021-11-12T07:31:37.556Z"
   },
   {
    "duration": 1137,
    "start_time": "2021-11-12T07:31:45.588Z"
   },
   {
    "duration": 1918,
    "start_time": "2021-11-12T07:32:35.951Z"
   },
   {
    "duration": 1854,
    "start_time": "2021-11-12T07:32:44.144Z"
   },
   {
    "duration": 1889,
    "start_time": "2021-11-12T07:32:51.497Z"
   },
   {
    "duration": 2025,
    "start_time": "2021-11-12T07:33:14.346Z"
   },
   {
    "duration": 274,
    "start_time": "2021-11-12T07:33:32.669Z"
   },
   {
    "duration": 1895,
    "start_time": "2021-11-12T07:33:41.029Z"
   },
   {
    "duration": 1911,
    "start_time": "2021-11-12T07:33:59.692Z"
   },
   {
    "duration": 2544,
    "start_time": "2021-11-12T07:34:55.988Z"
   },
   {
    "duration": 2724,
    "start_time": "2021-11-12T07:35:07.100Z"
   },
   {
    "duration": 2618,
    "start_time": "2021-11-12T07:36:05.269Z"
   },
   {
    "duration": 42978,
    "start_time": "2021-11-12T07:36:18.423Z"
   },
   {
    "duration": 536,
    "start_time": "2021-11-12T07:37:00.871Z"
   },
   {
    "duration": 8,
    "start_time": "2021-11-12T07:37:04.929Z"
   },
   {
    "duration": 2887,
    "start_time": "2021-11-12T07:38:25.050Z"
   },
   {
    "duration": 2406,
    "start_time": "2021-11-12T07:40:27.399Z"
   },
   {
    "duration": 6,
    "start_time": "2021-11-12T07:41:06.683Z"
   },
   {
    "duration": 7,
    "start_time": "2021-11-12T07:42:17.092Z"
   },
   {
    "duration": 2507,
    "start_time": "2021-11-12T07:42:37.679Z"
   },
   {
    "duration": 2223,
    "start_time": "2021-11-12T07:44:11.748Z"
   },
   {
    "duration": 2689,
    "start_time": "2021-11-12T07:44:21.660Z"
   },
   {
    "duration": 4008,
    "start_time": "2021-11-12T07:44:58.901Z"
   },
   {
    "duration": 2652,
    "start_time": "2021-11-12T07:45:12.872Z"
   },
   {
    "duration": 3419,
    "start_time": "2021-11-12T07:45:27.265Z"
   },
   {
    "duration": 108,
    "start_time": "2021-11-12T07:47:33.873Z"
   },
   {
    "duration": 2549,
    "start_time": "2021-11-12T07:48:08.700Z"
   },
   {
    "duration": 313,
    "start_time": "2021-11-12T07:48:25.140Z"
   },
   {
    "duration": 2690,
    "start_time": "2021-11-12T07:48:32.293Z"
   },
   {
    "duration": 2551,
    "start_time": "2021-11-12T07:49:17.904Z"
   },
   {
    "duration": 1988,
    "start_time": "2021-11-12T07:50:11.155Z"
   },
   {
    "duration": 3958,
    "start_time": "2021-11-12T07:50:20.900Z"
   },
   {
    "duration": 2519,
    "start_time": "2021-11-12T07:52:11.740Z"
   },
   {
    "duration": 273,
    "start_time": "2021-11-12T07:53:45.609Z"
   },
   {
    "duration": 278,
    "start_time": "2021-11-12T07:54:18.276Z"
   },
   {
    "duration": 265,
    "start_time": "2021-11-12T07:54:35.885Z"
   },
   {
    "duration": 286,
    "start_time": "2021-11-12T07:55:18.611Z"
   },
   {
    "duration": 2808,
    "start_time": "2021-11-12T07:55:43.633Z"
   },
   {
    "duration": 2687,
    "start_time": "2021-11-12T07:55:55.914Z"
   },
   {
    "duration": 2879,
    "start_time": "2021-11-12T07:56:12.931Z"
   },
   {
    "duration": 3209,
    "start_time": "2021-11-12T07:56:22.267Z"
   },
   {
    "duration": 2647,
    "start_time": "2021-11-12T07:56:48.789Z"
   },
   {
    "duration": 2574,
    "start_time": "2021-11-12T07:59:05.134Z"
   },
   {
    "duration": 2679,
    "start_time": "2021-11-12T08:00:51.309Z"
   },
   {
    "duration": 2537,
    "start_time": "2021-11-12T08:01:05.590Z"
   },
   {
    "duration": 2444,
    "start_time": "2021-11-12T08:01:22.240Z"
   },
   {
    "duration": 1535,
    "start_time": "2021-11-12T08:02:28.784Z"
   },
   {
    "duration": 548,
    "start_time": "2021-11-12T08:02:30.322Z"
   },
   {
    "duration": 4,
    "start_time": "2021-11-12T08:02:30.873Z"
   },
   {
    "duration": 2532,
    "start_time": "2021-11-12T08:02:30.880Z"
   },
   {
    "duration": 2667,
    "start_time": "2021-11-12T08:02:33.415Z"
   },
   {
    "duration": 2486,
    "start_time": "2021-11-12T08:02:36.084Z"
   },
   {
    "duration": 1837,
    "start_time": "2021-11-12T08:02:38.572Z"
   },
   {
    "duration": 93,
    "start_time": "2021-11-12T08:04:16.994Z"
   },
   {
    "duration": 26,
    "start_time": "2021-11-12T09:28:10.187Z"
   },
   {
    "duration": 6,
    "start_time": "2021-11-12T09:28:11.059Z"
   },
   {
    "duration": 5,
    "start_time": "2021-11-12T09:28:29.838Z"
   },
   {
    "duration": 79,
    "start_time": "2021-11-12T09:32:12.476Z"
   },
   {
    "duration": 410,
    "start_time": "2021-11-12T09:32:29.580Z"
   },
   {
    "duration": 308,
    "start_time": "2021-11-12T09:32:44.765Z"
   },
   {
    "duration": 5,
    "start_time": "2021-11-12T10:05:36.899Z"
   },
   {
    "duration": 6,
    "start_time": "2021-11-12T10:05:54.228Z"
   },
   {
    "duration": 6,
    "start_time": "2021-11-12T10:06:35.799Z"
   },
   {
    "duration": 149,
    "start_time": "2021-11-12T10:06:47.392Z"
   },
   {
    "duration": 6,
    "start_time": "2021-11-12T10:07:54.100Z"
   },
   {
    "duration": 674,
    "start_time": "2021-11-12T10:09:01.809Z"
   },
   {
    "duration": 711,
    "start_time": "2021-11-12T10:10:01.869Z"
   },
   {
    "duration": 693,
    "start_time": "2021-11-12T10:11:08.762Z"
   },
   {
    "duration": 60,
    "start_time": "2021-11-12T10:11:54.709Z"
   },
   {
    "duration": 6,
    "start_time": "2021-11-12T10:13:14.635Z"
   },
   {
    "duration": 60,
    "start_time": "2021-11-12T10:16:06.324Z"
   },
   {
    "duration": 5,
    "start_time": "2021-11-12T10:17:56.379Z"
   },
   {
    "duration": 261,
    "start_time": "2021-11-12T10:18:29.573Z"
   },
   {
    "duration": 6,
    "start_time": "2021-11-12T10:18:35.229Z"
   },
   {
    "duration": 93,
    "start_time": "2021-11-12T10:19:21.170Z"
   },
   {
    "duration": 21,
    "start_time": "2021-11-12T11:58:47.356Z"
   },
   {
    "duration": 90,
    "start_time": "2021-11-12T12:00:37.898Z"
   },
   {
    "duration": 21,
    "start_time": "2021-11-12T12:02:58.846Z"
   },
   {
    "duration": 279,
    "start_time": "2021-11-12T12:03:19.218Z"
   },
   {
    "duration": 279,
    "start_time": "2021-11-12T12:03:24.488Z"
   },
   {
    "duration": 260,
    "start_time": "2021-11-12T12:03:24.825Z"
   },
   {
    "duration": 264,
    "start_time": "2021-11-12T12:03:27.569Z"
   },
   {
    "duration": 257,
    "start_time": "2021-11-12T12:04:13.476Z"
   },
   {
    "duration": 21,
    "start_time": "2021-11-12T12:04:32.799Z"
   },
   {
    "duration": 5,
    "start_time": "2021-11-12T12:05:17.105Z"
   },
   {
    "duration": 5,
    "start_time": "2021-11-12T12:06:00.235Z"
   },
   {
    "duration": 5,
    "start_time": "2021-11-12T12:06:05.060Z"
   },
   {
    "duration": 4,
    "start_time": "2021-11-12T12:06:14.324Z"
   },
   {
    "duration": 6,
    "start_time": "2021-11-12T12:06:16.547Z"
   },
   {
    "duration": 278,
    "start_time": "2021-11-12T12:10:09.008Z"
   },
   {
    "duration": 9,
    "start_time": "2021-11-12T12:10:15.476Z"
   },
   {
    "duration": 265,
    "start_time": "2021-11-12T12:10:22.364Z"
   },
   {
    "duration": 313,
    "start_time": "2021-11-12T12:10:45.670Z"
   },
   {
    "duration": 66,
    "start_time": "2021-11-12T12:11:03.823Z"
   },
   {
    "duration": 2482,
    "start_time": "2021-11-12T12:13:52.363Z"
   },
   {
    "duration": 2681,
    "start_time": "2021-11-12T12:14:02.730Z"
   },
   {
    "duration": 2466,
    "start_time": "2021-11-12T12:14:10.474Z"
   },
   {
    "duration": 68,
    "start_time": "2021-11-12T12:14:26.252Z"
   },
   {
    "duration": 22,
    "start_time": "2021-11-12T12:17:08.495Z"
   },
   {
    "duration": 23,
    "start_time": "2021-11-12T12:17:21.566Z"
   },
   {
    "duration": 28,
    "start_time": "2021-11-12T12:21:24.662Z"
   },
   {
    "duration": 24,
    "start_time": "2021-11-12T12:21:36.982Z"
   },
   {
    "duration": 273,
    "start_time": "2021-11-12T12:21:52.128Z"
   },
   {
    "duration": 23,
    "start_time": "2021-11-12T12:22:04.153Z"
   },
   {
    "duration": 18,
    "start_time": "2021-11-12T12:28:53.092Z"
   },
   {
    "duration": 15,
    "start_time": "2021-11-12T12:29:05.419Z"
   },
   {
    "duration": 262,
    "start_time": "2021-11-12T12:36:25.040Z"
   },
   {
    "duration": 21,
    "start_time": "2021-11-12T12:36:40.810Z"
   },
   {
    "duration": 16,
    "start_time": "2021-11-12T12:37:09.579Z"
   },
   {
    "duration": 83,
    "start_time": "2021-11-12T12:44:59.777Z"
   },
   {
    "duration": 104,
    "start_time": "2021-11-12T12:45:12.123Z"
   },
   {
    "duration": 82,
    "start_time": "2021-11-12T12:45:24.673Z"
   },
   {
    "duration": 101,
    "start_time": "2021-11-12T12:45:49.467Z"
   },
   {
    "duration": 98,
    "start_time": "2021-11-12T12:46:25.999Z"
   },
   {
    "duration": 288,
    "start_time": "2021-11-12T12:46:35.807Z"
   },
   {
    "duration": 37,
    "start_time": "2021-11-12T12:46:47.688Z"
   },
   {
    "duration": 95,
    "start_time": "2021-11-12T12:46:58.902Z"
   },
   {
    "duration": 86,
    "start_time": "2021-11-12T12:47:07.873Z"
   },
   {
    "duration": 43,
    "start_time": "2021-11-12T12:50:34.270Z"
   },
   {
    "duration": 33,
    "start_time": "2021-11-12T12:51:05.281Z"
   },
   {
    "duration": 64,
    "start_time": "2021-11-12T12:52:53.935Z"
   },
   {
    "duration": 153,
    "start_time": "2021-11-12T13:05:06.383Z"
   },
   {
    "duration": 236,
    "start_time": "2021-11-12T13:05:29.279Z"
   },
   {
    "duration": 552,
    "start_time": "2021-11-12T13:06:02.203Z"
   },
   {
    "duration": 279,
    "start_time": "2021-11-12T13:06:10.027Z"
   },
   {
    "duration": 207,
    "start_time": "2021-11-12T13:06:34.692Z"
   },
   {
    "duration": 4,
    "start_time": "2021-11-12T13:11:15.746Z"
   },
   {
    "duration": 102,
    "start_time": "2021-11-12T13:17:07.549Z"
   },
   {
    "duration": 372,
    "start_time": "2021-11-12T13:17:16.253Z"
   },
   {
    "duration": 18,
    "start_time": "2021-11-12T13:19:15.013Z"
   },
   {
    "duration": 49,
    "start_time": "2021-11-12T13:19:19.109Z"
   },
   {
    "duration": 3,
    "start_time": "2021-11-12T13:19:20.437Z"
   },
   {
    "duration": 86,
    "start_time": "2021-11-12T13:19:21.805Z"
   },
   {
    "duration": 282,
    "start_time": "2021-11-12T13:19:22.862Z"
   },
   {
    "duration": 279,
    "start_time": "2021-11-12T13:19:54.681Z"
   },
   {
    "duration": 310,
    "start_time": "2021-11-12T13:21:37.974Z"
   },
   {
    "duration": 264,
    "start_time": "2021-11-12T13:21:43.367Z"
   },
   {
    "duration": 15,
    "start_time": "2021-11-12T13:22:33.666Z"
   },
   {
    "duration": 6,
    "start_time": "2021-11-12T13:22:42.834Z"
   },
   {
    "duration": 3,
    "start_time": "2021-11-12T13:25:48.631Z"
   },
   {
    "duration": 93,
    "start_time": "2021-11-12T13:28:12.416Z"
   },
   {
    "duration": 88,
    "start_time": "2021-11-12T13:28:48.946Z"
   },
   {
    "duration": 273,
    "start_time": "2021-11-12T13:29:00.906Z"
   },
   {
    "duration": 9,
    "start_time": "2021-11-12T13:34:02.896Z"
   },
   {
    "duration": 269,
    "start_time": "2021-11-12T13:35:03.363Z"
   },
   {
    "duration": 339,
    "start_time": "2021-11-12T13:35:16.410Z"
   },
   {
    "duration": 20,
    "start_time": "2021-11-12T13:35:38.137Z"
   },
   {
    "duration": 9,
    "start_time": "2021-11-12T13:37:56.310Z"
   },
   {
    "duration": 21,
    "start_time": "2021-11-12T13:39:39.084Z"
   },
   {
    "duration": 90,
    "start_time": "2021-11-12T13:46:52.694Z"
   },
   {
    "duration": 85,
    "start_time": "2021-11-12T13:47:06.329Z"
   },
   {
    "duration": 356,
    "start_time": "2021-11-12T13:47:15.593Z"
   },
   {
    "duration": 333,
    "start_time": "2021-11-12T13:47:34.834Z"
   },
   {
    "duration": 319,
    "start_time": "2021-11-12T13:47:49.843Z"
   },
   {
    "duration": 287,
    "start_time": "2021-11-12T13:48:31.085Z"
   },
   {
    "duration": 91,
    "start_time": "2021-11-12T13:49:18.288Z"
   },
   {
    "duration": 103,
    "start_time": "2021-11-12T13:50:18.869Z"
   },
   {
    "duration": 89,
    "start_time": "2021-11-12T13:50:47.731Z"
   },
   {
    "duration": 23,
    "start_time": "2021-11-12T13:51:02.383Z"
   },
   {
    "duration": 333,
    "start_time": "2021-11-12T13:57:14.327Z"
   },
   {
    "duration": 9,
    "start_time": "2021-11-12T13:58:24.828Z"
   },
   {
    "duration": 69,
    "start_time": "2021-11-12T13:58:34.501Z"
   },
   {
    "duration": 114,
    "start_time": "2021-11-12T13:59:14.856Z"
   },
   {
    "duration": 286,
    "start_time": "2021-11-12T14:23:24.492Z"
   },
   {
    "duration": 113,
    "start_time": "2021-11-12T14:23:46.157Z"
   },
   {
    "duration": 59,
    "start_time": "2021-11-12T14:28:32.512Z"
   },
   {
    "duration": 100,
    "start_time": "2021-11-12T14:29:27.171Z"
   },
   {
    "duration": 150,
    "start_time": "2021-11-12T14:29:52.716Z"
   },
   {
    "duration": 104,
    "start_time": "2021-11-12T14:30:16.566Z"
   },
   {
    "duration": 255,
    "start_time": "2021-11-12T14:33:37.931Z"
   },
   {
    "duration": 99,
    "start_time": "2021-11-12T14:35:50.180Z"
   },
   {
    "duration": 66,
    "start_time": "2021-11-12T14:37:34.010Z"
   },
   {
    "duration": 116,
    "start_time": "2021-11-12T14:40:25.653Z"
   },
   {
    "duration": 74,
    "start_time": "2021-11-12T14:42:21.101Z"
   },
   {
    "duration": 100,
    "start_time": "2021-11-12T14:43:50.675Z"
   },
   {
    "duration": 119,
    "start_time": "2021-11-12T15:14:46.050Z"
   },
   {
    "duration": 71,
    "start_time": "2021-11-12T15:18:43.400Z"
   },
   {
    "duration": 72,
    "start_time": "2021-11-12T15:19:13.803Z"
   },
   {
    "duration": 333,
    "start_time": "2021-11-12T15:19:26.155Z"
   },
   {
    "duration": 74,
    "start_time": "2021-11-12T15:19:39.101Z"
   },
   {
    "duration": 10,
    "start_time": "2021-11-12T17:17:41.803Z"
   },
   {
    "duration": 268,
    "start_time": "2021-11-12T17:17:50.291Z"
   },
   {
    "duration": 8,
    "start_time": "2021-11-12T17:18:13.916Z"
   },
   {
    "duration": 7,
    "start_time": "2021-11-12T17:18:28.734Z"
   },
   {
    "duration": 7,
    "start_time": "2021-11-12T17:19:18.577Z"
   },
   {
    "duration": 9,
    "start_time": "2021-11-12T17:20:04.956Z"
   },
   {
    "duration": 9,
    "start_time": "2021-11-12T17:23:28.945Z"
   },
   {
    "duration": 14,
    "start_time": "2021-11-12T17:23:37.105Z"
   },
   {
    "duration": 310,
    "start_time": "2021-11-12T17:47:47.791Z"
   },
   {
    "duration": 303,
    "start_time": "2021-11-14T06:08:39.264Z"
   },
   {
    "duration": 1062,
    "start_time": "2021-11-14T06:08:50.540Z"
   },
   {
    "duration": 399,
    "start_time": "2021-11-14T06:08:51.604Z"
   },
   {
    "duration": 4,
    "start_time": "2021-11-14T06:08:52.005Z"
   },
   {
    "duration": 1417,
    "start_time": "2021-11-14T06:08:52.010Z"
   },
   {
    "duration": 1537,
    "start_time": "2021-11-14T06:08:53.428Z"
   },
   {
    "duration": 1416,
    "start_time": "2021-11-14T06:08:54.967Z"
   },
   {
    "duration": 1083,
    "start_time": "2021-11-14T06:08:56.385Z"
   },
   {
    "duration": 55,
    "start_time": "2021-11-14T06:08:57.471Z"
   },
   {
    "duration": 4,
    "start_time": "2021-11-14T06:08:57.528Z"
   },
   {
    "duration": 15,
    "start_time": "2021-11-14T06:08:57.533Z"
   },
   {
    "duration": 58,
    "start_time": "2021-11-14T06:08:57.549Z"
   },
   {
    "duration": 3,
    "start_time": "2021-11-14T06:08:57.608Z"
   },
   {
    "duration": 8,
    "start_time": "2021-11-14T06:08:57.612Z"
   },
   {
    "duration": 73,
    "start_time": "2021-11-14T06:08:57.621Z"
   },
   {
    "duration": 197,
    "start_time": "2021-11-14T06:08:57.697Z"
   },
   {
    "duration": 111,
    "start_time": "2021-11-14T06:08:57.896Z"
   },
   {
    "duration": 104,
    "start_time": "2021-11-14T06:08:58.093Z"
   },
   {
    "duration": 17,
    "start_time": "2021-11-14T06:08:58.199Z"
   },
   {
    "duration": 16,
    "start_time": "2021-11-14T06:08:58.218Z"
   },
   {
    "duration": 2,
    "start_time": "2021-11-14T06:08:58.236Z"
   },
   {
    "duration": 71,
    "start_time": "2021-11-14T06:10:34.850Z"
   },
   {
    "duration": 7,
    "start_time": "2021-11-14T06:11:36.383Z"
   },
   {
    "duration": 1627,
    "start_time": "2021-11-14T12:20:47.506Z"
   },
   {
    "duration": 529,
    "start_time": "2021-11-14T12:20:49.135Z"
   },
   {
    "duration": 5,
    "start_time": "2021-11-14T12:20:49.668Z"
   },
   {
    "duration": 2623,
    "start_time": "2021-11-14T12:20:49.677Z"
   },
   {
    "duration": 2515,
    "start_time": "2021-11-14T12:20:52.302Z"
   },
   {
    "duration": 2400,
    "start_time": "2021-11-14T12:20:54.820Z"
   },
   {
    "duration": 1696,
    "start_time": "2021-11-14T12:20:57.224Z"
   },
   {
    "duration": 82,
    "start_time": "2021-11-14T12:20:58.925Z"
   },
   {
    "duration": 5,
    "start_time": "2021-11-14T12:20:59.011Z"
   },
   {
    "duration": 21,
    "start_time": "2021-11-14T12:20:59.019Z"
   },
   {
    "duration": 91,
    "start_time": "2021-11-14T12:20:59.043Z"
   },
   {
    "duration": 3,
    "start_time": "2021-11-14T12:20:59.137Z"
   },
   {
    "duration": 68,
    "start_time": "2021-11-14T12:20:59.143Z"
   },
   {
    "duration": 109,
    "start_time": "2021-11-14T12:20:59.302Z"
   },
   {
    "duration": 199,
    "start_time": "2021-11-14T12:20:59.502Z"
   },
   {
    "duration": 13,
    "start_time": "2021-11-14T12:20:59.705Z"
   },
   {
    "duration": 128,
    "start_time": "2021-11-14T12:20:59.721Z"
   },
   {
    "duration": 3403,
    "start_time": "2021-11-14T12:20:56.448Z"
   },
   {
    "duration": 3402,
    "start_time": "2021-11-14T12:20:56.451Z"
   },
   {
    "duration": 3401,
    "start_time": "2021-11-14T12:20:56.453Z"
   },
   {
    "duration": 3401,
    "start_time": "2021-11-14T12:20:56.455Z"
   },
   {
    "duration": 3399,
    "start_time": "2021-11-14T12:20:56.459Z"
   },
   {
    "duration": 3394,
    "start_time": "2021-11-14T12:20:56.465Z"
   },
   {
    "duration": 3346,
    "start_time": "2021-11-14T12:20:56.515Z"
   },
   {
    "duration": 3334,
    "start_time": "2021-11-14T12:20:56.528Z"
   },
   {
    "duration": 3331,
    "start_time": "2021-11-14T12:20:56.533Z"
   },
   {
    "duration": 581,
    "start_time": "2021-11-14T12:21:13.749Z"
   },
   {
    "duration": 3405,
    "start_time": "2021-11-14T12:21:10.927Z"
   },
   {
    "duration": 3400,
    "start_time": "2021-11-14T12:21:10.934Z"
   },
   {
    "duration": 3398,
    "start_time": "2021-11-14T12:21:10.938Z"
   },
   {
    "duration": 3333,
    "start_time": "2021-11-14T12:21:11.004Z"
   },
   {
    "duration": 3327,
    "start_time": "2021-11-14T12:21:11.012Z"
   },
   {
    "duration": 3325,
    "start_time": "2021-11-14T12:21:11.015Z"
   },
   {
    "duration": 3324,
    "start_time": "2021-11-14T12:21:11.018Z"
   },
   {
    "duration": 3322,
    "start_time": "2021-11-14T12:21:11.021Z"
   },
   {
    "duration": 5,
    "start_time": "2021-11-14T12:21:40.331Z"
   },
   {
    "duration": 130,
    "start_time": "2021-11-14T12:21:40.987Z"
   },
   {
    "duration": 11,
    "start_time": "2021-11-14T12:21:47.467Z"
   },
   {
    "duration": 4,
    "start_time": "2021-11-14T12:21:49.044Z"
   },
   {
    "duration": 372,
    "start_time": "2021-11-14T12:21:49.555Z"
   },
   {
    "duration": 391,
    "start_time": "2021-11-14T12:21:50.100Z"
   },
   {
    "duration": 21,
    "start_time": "2021-11-14T12:24:21.302Z"
   },
   {
    "duration": 21,
    "start_time": "2021-11-14T12:25:46.428Z"
   },
   {
    "duration": 469,
    "start_time": "2021-11-14T12:33:39.513Z"
   },
   {
    "duration": 375,
    "start_time": "2021-11-14T12:34:22.313Z"
   },
   {
    "duration": 8,
    "start_time": "2021-11-14T12:34:28.012Z"
   },
   {
    "duration": 7,
    "start_time": "2021-11-14T12:34:50.383Z"
   },
   {
    "duration": 452,
    "start_time": "2021-11-14T12:35:22.944Z"
   },
   {
    "duration": 7,
    "start_time": "2021-11-14T12:35:56.651Z"
   },
   {
    "duration": 368,
    "start_time": "2021-11-14T12:36:08.109Z"
   },
   {
    "duration": 5,
    "start_time": "2021-11-14T12:36:46.255Z"
   },
   {
    "duration": 1857,
    "start_time": "2021-11-14T12:37:01.359Z"
   },
   {
    "duration": 7,
    "start_time": "2021-11-14T12:37:39.785Z"
   },
   {
    "duration": 7,
    "start_time": "2021-11-14T12:37:54.794Z"
   },
   {
    "duration": 445,
    "start_time": "2021-11-14T12:38:04.238Z"
   },
   {
    "duration": 11,
    "start_time": "2021-11-14T12:38:18.692Z"
   },
   {
    "duration": 396,
    "start_time": "2021-11-14T12:39:57.017Z"
   },
   {
    "duration": 3151,
    "start_time": "2021-11-14T12:40:05.269Z"
   },
   {
    "duration": 3764,
    "start_time": "2021-11-14T12:41:46.411Z"
   },
   {
    "duration": 3766,
    "start_time": "2021-11-14T12:42:00.866Z"
   },
   {
    "duration": 3535,
    "start_time": "2021-11-14T12:42:23.076Z"
   },
   {
    "duration": 3182,
    "start_time": "2021-11-14T12:42:49.589Z"
   },
   {
    "duration": 3288,
    "start_time": "2021-11-14T12:44:54.325Z"
   },
   {
    "duration": 3513,
    "start_time": "2021-11-14T12:47:22.048Z"
   },
   {
    "duration": 3254,
    "start_time": "2021-11-14T12:52:31.963Z"
   },
   {
    "duration": 390,
    "start_time": "2021-11-14T14:23:09.932Z"
   },
   {
    "duration": 5,
    "start_time": "2021-11-14T14:23:41.863Z"
   },
   {
    "duration": 1436,
    "start_time": "2021-11-14T14:24:14.675Z"
   },
   {
    "duration": 1951,
    "start_time": "2021-11-14T14:24:59.767Z"
   },
   {
    "duration": 1985,
    "start_time": "2021-11-14T14:40:38.953Z"
   },
   {
    "duration": 10,
    "start_time": "2021-11-14T14:47:34.088Z"
   },
   {
    "duration": 1418,
    "start_time": "2021-11-14T14:47:40.584Z"
   },
   {
    "duration": 21,
    "start_time": "2021-11-14T14:48:02.104Z"
   },
   {
    "duration": 23,
    "start_time": "2021-11-14T14:48:13.080Z"
   },
   {
    "duration": 1457,
    "start_time": "2021-11-14T14:48:19.200Z"
   },
   {
    "duration": 5,
    "start_time": "2021-11-14T14:48:20.660Z"
   },
   {
    "duration": 1554,
    "start_time": "2021-11-14T14:49:01.057Z"
   },
   {
    "duration": 2054,
    "start_time": "2021-11-14T14:49:37.137Z"
   },
   {
    "duration": 1825,
    "start_time": "2021-11-14T14:49:55.145Z"
   },
   {
    "duration": 1852,
    "start_time": "2021-11-14T14:50:31.115Z"
   },
   {
    "duration": 1618,
    "start_time": "2021-11-14T14:51:12.004Z"
   },
   {
    "duration": 1444,
    "start_time": "2021-11-14T14:51:49.380Z"
   },
   {
    "duration": 1718,
    "start_time": "2021-11-14T14:55:16.285Z"
   },
   {
    "duration": 1484,
    "start_time": "2021-11-14T14:55:26.029Z"
   },
   {
    "duration": 1904,
    "start_time": "2021-11-14T14:56:01.630Z"
   },
   {
    "duration": 1533,
    "start_time": "2021-11-14T14:56:11.901Z"
   },
   {
    "duration": 1968,
    "start_time": "2021-11-14T14:56:30.125Z"
   },
   {
    "duration": 1837,
    "start_time": "2021-11-14T14:56:39.782Z"
   },
   {
    "duration": 1457,
    "start_time": "2021-11-14T14:56:47.486Z"
   },
   {
    "duration": 375,
    "start_time": "2021-11-14T14:58:08.067Z"
   },
   {
    "duration": 1859,
    "start_time": "2021-11-14T14:58:30.776Z"
   },
   {
    "duration": 3304,
    "start_time": "2021-11-14T14:58:29.334Z"
   },
   {
    "duration": 1497,
    "start_time": "2021-11-14T14:58:47.439Z"
   },
   {
    "duration": 5,
    "start_time": "2021-11-14T14:58:48.939Z"
   },
   {
    "duration": 1883,
    "start_time": "2021-11-14T15:02:17.273Z"
   },
   {
    "duration": 1623,
    "start_time": "2021-11-14T15:02:43.880Z"
   },
   {
    "duration": 1471,
    "start_time": "2021-11-14T15:02:57.986Z"
   },
   {
    "duration": 135,
    "start_time": "2021-11-14T15:03:43.355Z"
   },
   {
    "duration": 1878,
    "start_time": "2021-11-14T15:03:49.952Z"
   },
   {
    "duration": 137,
    "start_time": "2021-11-14T15:03:56.137Z"
   },
   {
    "duration": 2100,
    "start_time": "2021-11-14T15:04:07.353Z"
   },
   {
    "duration": 2091,
    "start_time": "2021-11-14T15:04:20.857Z"
   },
   {
    "duration": 6,
    "start_time": "2021-11-14T15:08:23.019Z"
   },
   {
    "duration": 1823,
    "start_time": "2021-11-14T15:08:25.370Z"
   },
   {
    "duration": 1875,
    "start_time": "2021-11-14T15:08:40.804Z"
   },
   {
    "duration": 1468,
    "start_time": "2021-11-14T15:08:53.827Z"
   },
   {
    "duration": 1910,
    "start_time": "2021-11-14T15:09:11.268Z"
   },
   {
    "duration": 1685,
    "start_time": "2021-11-14T15:09:19.816Z"
   },
   {
    "duration": 1556,
    "start_time": "2021-11-14T15:09:31.051Z"
   },
   {
    "duration": 2018,
    "start_time": "2021-11-14T15:09:39.260Z"
   },
   {
    "duration": 6,
    "start_time": "2021-11-14T15:10:08.891Z"
   },
   {
    "duration": 1649,
    "start_time": "2021-11-14T15:44:31.751Z"
   },
   {
    "duration": 2448,
    "start_time": "2021-11-14T15:45:37.215Z"
   },
   {
    "duration": 6,
    "start_time": "2021-11-14T15:45:44.158Z"
   },
   {
    "duration": 1493,
    "start_time": "2021-11-14T15:45:53.775Z"
   },
   {
    "duration": 2000,
    "start_time": "2021-11-14T15:46:05.295Z"
   },
   {
    "duration": 626,
    "start_time": "2021-11-14T15:51:37.394Z"
   },
   {
    "duration": 663,
    "start_time": "2021-11-14T15:51:59.042Z"
   },
   {
    "duration": 1384,
    "start_time": "2021-11-14T15:52:38.882Z"
   },
   {
    "duration": 1377,
    "start_time": "2021-11-14T15:52:53.802Z"
   },
   {
    "duration": 1371,
    "start_time": "2021-11-14T15:53:07.274Z"
   },
   {
    "duration": 1384,
    "start_time": "2021-11-14T15:55:02.787Z"
   },
   {
    "duration": 5,
    "start_time": "2021-11-14T15:55:48.422Z"
   },
   {
    "duration": 148,
    "start_time": "2021-11-14T15:56:00.037Z"
   },
   {
    "duration": 1365,
    "start_time": "2021-11-14T15:56:02.748Z"
   },
   {
    "duration": 138,
    "start_time": "2021-11-14T15:56:32.220Z"
   },
   {
    "duration": 1371,
    "start_time": "2021-11-14T15:56:36.130Z"
   },
   {
    "duration": 1533,
    "start_time": "2021-11-14T15:56:43.374Z"
   },
   {
    "duration": 1844,
    "start_time": "2021-11-14T15:57:29.725Z"
   },
   {
    "duration": 4,
    "start_time": "2021-11-14T16:04:24.584Z"
   },
   {
    "duration": 369,
    "start_time": "2021-11-14T16:04:25.328Z"
   },
   {
    "duration": 827,
    "start_time": "2021-11-14T16:04:36.448Z"
   },
   {
    "duration": 4,
    "start_time": "2021-11-14T16:04:42.881Z"
   },
   {
    "duration": 775,
    "start_time": "2021-11-14T16:04:43.417Z"
   },
   {
    "duration": 5,
    "start_time": "2021-11-14T16:05:21.049Z"
   },
   {
    "duration": 4,
    "start_time": "2021-11-14T16:05:30.017Z"
   },
   {
    "duration": 812,
    "start_time": "2021-11-14T16:05:32.584Z"
   },
   {
    "duration": 4,
    "start_time": "2021-11-14T16:05:41.489Z"
   },
   {
    "duration": 22,
    "start_time": "2021-11-14T16:05:42.153Z"
   },
   {
    "duration": 461,
    "start_time": "2021-11-14T16:06:04.730Z"
   },
   {
    "duration": 4,
    "start_time": "2021-11-14T16:06:08.580Z"
   },
   {
    "duration": 30,
    "start_time": "2021-11-14T16:06:09.178Z"
   },
   {
    "duration": 5,
    "start_time": "2021-11-14T16:09:03.012Z"
   },
   {
    "duration": 21,
    "start_time": "2021-11-14T16:09:04.348Z"
   },
   {
    "duration": 11,
    "start_time": "2021-11-14T16:09:37.675Z"
   },
   {
    "duration": 476,
    "start_time": "2021-11-14T16:10:03.513Z"
   },
   {
    "duration": 393,
    "start_time": "2021-11-14T16:10:28.684Z"
   },
   {
    "duration": 529,
    "start_time": "2021-11-14T16:10:53.908Z"
   },
   {
    "duration": 12,
    "start_time": "2021-11-14T16:12:20.653Z"
   },
   {
    "duration": 13,
    "start_time": "2021-11-14T16:12:29.365Z"
   },
   {
    "duration": 13,
    "start_time": "2021-11-14T16:12:47.325Z"
   },
   {
    "duration": 445,
    "start_time": "2021-11-14T16:13:26.446Z"
   },
   {
    "duration": 387,
    "start_time": "2021-11-14T16:13:34.902Z"
   },
   {
    "duration": 420,
    "start_time": "2021-11-14T16:13:44.517Z"
   },
   {
    "duration": 3345,
    "start_time": "2021-11-14T16:13:41.596Z"
   },
   {
    "duration": 4,
    "start_time": "2021-11-14T16:13:52.421Z"
   },
   {
    "duration": 5,
    "start_time": "2021-11-14T16:13:56.261Z"
   },
   {
    "duration": 471,
    "start_time": "2021-11-14T16:13:57.093Z"
   },
   {
    "duration": 12,
    "start_time": "2021-11-14T16:14:02.085Z"
   },
   {
    "duration": 14,
    "start_time": "2021-11-14T16:14:20.406Z"
   },
   {
    "duration": 13,
    "start_time": "2021-11-14T16:14:46.085Z"
   },
   {
    "duration": 12,
    "start_time": "2021-11-14T16:15:33.254Z"
   },
   {
    "duration": 11,
    "start_time": "2021-11-14T16:15:50.767Z"
   },
   {
    "duration": 11,
    "start_time": "2021-11-14T16:16:04.849Z"
   },
   {
    "duration": 12,
    "start_time": "2021-11-14T16:16:12.438Z"
   },
   {
    "duration": 12,
    "start_time": "2021-11-14T16:16:42.414Z"
   },
   {
    "duration": 12,
    "start_time": "2021-11-14T16:16:53.760Z"
   },
   {
    "duration": 22,
    "start_time": "2021-11-14T16:17:04.912Z"
   },
   {
    "duration": 1555,
    "start_time": "2021-11-14T16:17:38.040Z"
   },
   {
    "duration": 1409,
    "start_time": "2021-11-14T16:20:04.121Z"
   },
   {
    "duration": 1482,
    "start_time": "2021-11-14T16:20:12.721Z"
   },
   {
    "duration": 1551,
    "start_time": "2021-11-14T16:20:53.946Z"
   },
   {
    "duration": 412,
    "start_time": "2021-11-14T16:23:56.715Z"
   },
   {
    "duration": 1949,
    "start_time": "2021-11-14T16:24:06.676Z"
   },
   {
    "duration": 1856,
    "start_time": "2021-11-14T16:24:20.564Z"
   },
   {
    "duration": 2123,
    "start_time": "2021-11-14T16:24:32.732Z"
   },
   {
    "duration": 1647,
    "start_time": "2021-11-14T16:25:06.253Z"
   },
   {
    "duration": 1498,
    "start_time": "2021-11-14T16:25:18.772Z"
   },
   {
    "duration": 1549,
    "start_time": "2021-11-14T16:25:31.078Z"
   },
   {
    "duration": 1571,
    "start_time": "2021-11-14T16:25:46.740Z"
   },
   {
    "duration": 2382,
    "start_time": "2021-11-14T16:25:53.325Z"
   },
   {
    "duration": 2357,
    "start_time": "2021-11-14T16:25:58.668Z"
   },
   {
    "duration": 136,
    "start_time": "2021-11-14T16:35:12.769Z"
   },
   {
    "duration": 186,
    "start_time": "2021-11-14T16:35:38.498Z"
   },
   {
    "duration": 658,
    "start_time": "2021-11-14T16:35:48.962Z"
   },
   {
    "duration": 770,
    "start_time": "2021-11-14T16:36:11.673Z"
   },
   {
    "duration": 133,
    "start_time": "2021-11-14T16:42:45.781Z"
   },
   {
    "duration": 127,
    "start_time": "2021-11-14T16:42:55.445Z"
   },
   {
    "duration": 867,
    "start_time": "2021-11-14T16:43:09.005Z"
   },
   {
    "duration": 4,
    "start_time": "2021-11-14T16:43:36.381Z"
   },
   {
    "duration": 4,
    "start_time": "2021-11-14T16:43:49.101Z"
   },
   {
    "duration": 4,
    "start_time": "2021-11-14T16:44:43.918Z"
   },
   {
    "duration": 135,
    "start_time": "2021-11-14T16:46:32.952Z"
   },
   {
    "duration": 116,
    "start_time": "2021-11-14T16:46:37.167Z"
   },
   {
    "duration": 128,
    "start_time": "2021-11-14T16:46:50.583Z"
   },
   {
    "duration": 153,
    "start_time": "2021-11-14T16:47:35.311Z"
   },
   {
    "duration": 146,
    "start_time": "2021-11-14T16:47:58.560Z"
   },
   {
    "duration": 129,
    "start_time": "2021-11-14T17:01:48.392Z"
   },
   {
    "duration": 983,
    "start_time": "2021-11-14T17:02:36.880Z"
   },
   {
    "duration": 1021,
    "start_time": "2021-11-14T17:03:18.584Z"
   },
   {
    "duration": 642,
    "start_time": "2021-11-14T17:03:45.256Z"
   },
   {
    "duration": 4967,
    "start_time": "2021-11-14T17:05:12.722Z"
   },
   {
    "duration": 2270,
    "start_time": "2021-11-14T17:36:40.562Z"
   },
   {
    "duration": 4835,
    "start_time": "2021-11-14T17:37:10.595Z"
   },
   {
    "duration": 126,
    "start_time": "2021-11-14T17:40:11.012Z"
   },
   {
    "duration": 5070,
    "start_time": "2021-11-14T17:40:27.467Z"
   },
   {
    "duration": 138,
    "start_time": "2021-11-14T18:02:01.161Z"
   },
   {
    "duration": 13,
    "start_time": "2021-11-14T18:02:23.600Z"
   },
   {
    "duration": 171,
    "start_time": "2021-11-14T18:16:58.599Z"
   },
   {
    "duration": 129,
    "start_time": "2021-11-14T18:17:12.487Z"
   },
   {
    "duration": 1102,
    "start_time": "2021-11-14T18:17:17.447Z"
   },
   {
    "duration": 405,
    "start_time": "2021-11-14T18:17:48.912Z"
   },
   {
    "duration": 13,
    "start_time": "2021-11-14T18:18:14.784Z"
   },
   {
    "duration": 404,
    "start_time": "2021-11-14T18:18:30.520Z"
   },
   {
    "duration": 433,
    "start_time": "2021-11-14T18:18:47.081Z"
   },
   {
    "duration": 10,
    "start_time": "2021-11-14T18:19:53.737Z"
   },
   {
    "duration": 41,
    "start_time": "2021-11-14T18:21:07.953Z"
   },
   {
    "duration": 29,
    "start_time": "2021-11-14T18:21:38.514Z"
   },
   {
    "duration": 3385,
    "start_time": "2021-11-14T18:23:02.503Z"
   },
   {
    "duration": 29,
    "start_time": "2021-11-14T18:23:19.003Z"
   },
   {
    "duration": 27,
    "start_time": "2021-11-14T18:24:02.996Z"
   },
   {
    "duration": 12,
    "start_time": "2021-11-14T18:24:24.147Z"
   },
   {
    "duration": 139,
    "start_time": "2021-11-14T18:24:45.843Z"
   },
   {
    "duration": 13,
    "start_time": "2021-11-14T18:27:14.980Z"
   },
   {
    "duration": 13,
    "start_time": "2021-11-14T18:29:59.694Z"
   },
   {
    "duration": 11,
    "start_time": "2021-11-14T18:31:01.519Z"
   },
   {
    "duration": 745,
    "start_time": "2021-11-14T18:37:12.944Z"
   },
   {
    "duration": 382,
    "start_time": "2021-11-14T18:37:25.074Z"
   },
   {
    "duration": 199,
    "start_time": "2021-11-14T18:38:41.514Z"
   },
   {
    "duration": 399,
    "start_time": "2021-11-14T18:39:32.595Z"
   },
   {
    "duration": 575,
    "start_time": "2021-11-14T18:39:47.645Z"
   },
   {
    "duration": 590,
    "start_time": "2021-11-14T18:40:31.156Z"
   },
   {
    "duration": 443,
    "start_time": "2021-11-14T18:40:38.475Z"
   },
   {
    "duration": 382,
    "start_time": "2021-11-14T18:41:06.499Z"
   },
   {
    "duration": 373,
    "start_time": "2021-11-14T18:46:52.815Z"
   },
   {
    "duration": 5519,
    "start_time": "2021-11-14T18:51:09.226Z"
   },
   {
    "duration": 5655,
    "start_time": "2021-11-14T18:52:02.548Z"
   },
   {
    "duration": 5657,
    "start_time": "2021-11-14T18:52:17.793Z"
   },
   {
    "duration": 5680,
    "start_time": "2021-11-14T18:52:49.675Z"
   },
   {
    "duration": 5573,
    "start_time": "2021-11-14T18:53:04.335Z"
   },
   {
    "duration": 129,
    "start_time": "2021-11-14T18:53:35.531Z"
   },
   {
    "duration": 5860,
    "start_time": "2021-11-14T18:53:58.347Z"
   },
   {
    "duration": 5703,
    "start_time": "2021-11-14T18:58:30.070Z"
   },
   {
    "duration": 31,
    "start_time": "2021-11-14T19:04:53.960Z"
   },
   {
    "duration": 373,
    "start_time": "2021-11-14T19:06:41.065Z"
   },
   {
    "duration": 369,
    "start_time": "2021-11-14T19:06:51.097Z"
   },
   {
    "duration": 396,
    "start_time": "2021-11-14T19:07:31.449Z"
   },
   {
    "duration": 15,
    "start_time": "2021-11-14T19:07:43.442Z"
   },
   {
    "duration": 16,
    "start_time": "2021-11-14T19:07:53.862Z"
   },
   {
    "duration": 16,
    "start_time": "2021-11-14T19:08:30.699Z"
   },
   {
    "duration": 16,
    "start_time": "2021-11-14T19:09:14.763Z"
   },
   {
    "duration": 132,
    "start_time": "2021-11-14T19:09:29.490Z"
   },
   {
    "duration": 20,
    "start_time": "2021-11-14T19:09:35.091Z"
   },
   {
    "duration": 966,
    "start_time": "2021-11-14T19:10:06.082Z"
   },
   {
    "duration": 403,
    "start_time": "2021-11-14T19:10:19.138Z"
   },
   {
    "duration": 18,
    "start_time": "2021-11-14T19:10:33.083Z"
   },
   {
    "duration": 18,
    "start_time": "2021-11-14T19:10:57.946Z"
   },
   {
    "duration": 21,
    "start_time": "2021-11-14T19:11:21.451Z"
   },
   {
    "duration": 396,
    "start_time": "2021-11-14T19:11:38.427Z"
   },
   {
    "duration": 21,
    "start_time": "2021-11-14T19:11:49.021Z"
   },
   {
    "duration": 115,
    "start_time": "2021-11-14T19:12:08.540Z"
   },
   {
    "duration": 417,
    "start_time": "2021-11-14T19:12:18.644Z"
   },
   {
    "duration": 15,
    "start_time": "2021-11-14T19:13:07.260Z"
   },
   {
    "duration": 15,
    "start_time": "2021-11-14T19:14:30.789Z"
   },
   {
    "duration": 16,
    "start_time": "2021-11-14T19:14:47.470Z"
   },
   {
    "duration": 16,
    "start_time": "2021-11-14T19:15:14.303Z"
   },
   {
    "duration": 16,
    "start_time": "2021-11-14T19:15:29.037Z"
   },
   {
    "duration": 110,
    "start_time": "2021-11-15T01:49:18.153Z"
   },
   {
    "duration": 338,
    "start_time": "2021-11-15T01:49:24.828Z"
   },
   {
    "duration": 1555,
    "start_time": "2021-11-15T01:49:33.585Z"
   },
   {
    "duration": 532,
    "start_time": "2021-11-15T01:49:35.143Z"
   },
   {
    "duration": 5,
    "start_time": "2021-11-15T01:49:35.678Z"
   },
   {
    "duration": 2364,
    "start_time": "2021-11-15T01:49:35.686Z"
   },
   {
    "duration": 2434,
    "start_time": "2021-11-15T01:49:38.053Z"
   },
   {
    "duration": 2311,
    "start_time": "2021-11-15T01:49:40.490Z"
   },
   {
    "duration": 1828,
    "start_time": "2021-11-15T01:49:42.804Z"
   },
   {
    "duration": 59,
    "start_time": "2021-11-15T01:49:44.636Z"
   },
   {
    "duration": 24,
    "start_time": "2021-11-15T01:49:44.698Z"
   },
   {
    "duration": 19,
    "start_time": "2021-11-15T01:49:44.725Z"
   },
   {
    "duration": 88,
    "start_time": "2021-11-15T01:49:44.747Z"
   },
   {
    "duration": 91,
    "start_time": "2021-11-15T01:49:44.837Z"
   },
   {
    "duration": 293,
    "start_time": "2021-11-15T01:49:44.931Z"
   },
   {
    "duration": 197,
    "start_time": "2021-11-15T01:49:45.226Z"
   },
   {
    "duration": 14,
    "start_time": "2021-11-15T01:49:45.427Z"
   },
   {
    "duration": 5,
    "start_time": "2021-11-15T01:49:45.443Z"
   },
   {
    "duration": 9,
    "start_time": "2021-11-15T01:49:45.450Z"
   },
   {
    "duration": 5,
    "start_time": "2021-11-15T01:49:45.462Z"
   },
   {
    "duration": 71,
    "start_time": "2021-11-15T01:49:45.470Z"
   },
   {
    "duration": 4608,
    "start_time": "2021-11-15T01:49:45.544Z"
   },
   {
    "duration": 5204,
    "start_time": "2021-11-15T01:49:50.155Z"
   },
   {
    "duration": 29,
    "start_time": "2021-11-15T01:49:55.362Z"
   },
   {
    "duration": 38,
    "start_time": "2021-11-15T01:49:55.396Z"
   },
   {
    "duration": 680,
    "start_time": "2021-11-15T01:49:55.437Z"
   },
   {
    "duration": 362,
    "start_time": "2021-11-15T10:24:32.152Z"
   },
   {
    "duration": 1181,
    "start_time": "2021-11-15T10:24:38.950Z"
   },
   {
    "duration": 396,
    "start_time": "2021-11-15T10:24:40.133Z"
   },
   {
    "duration": 3,
    "start_time": "2021-11-15T10:24:40.531Z"
   },
   {
    "duration": 1329,
    "start_time": "2021-11-15T10:24:40.545Z"
   },
   {
    "duration": 1478,
    "start_time": "2021-11-15T10:24:41.875Z"
   },
   {
    "duration": 1567,
    "start_time": "2021-11-15T10:24:43.354Z"
   },
   {
    "duration": 1100,
    "start_time": "2021-11-15T10:24:44.923Z"
   },
   {
    "duration": 57,
    "start_time": "2021-11-15T10:24:46.026Z"
   },
   {
    "duration": 4,
    "start_time": "2021-11-15T10:24:46.085Z"
   },
   {
    "duration": 14,
    "start_time": "2021-11-15T10:24:46.092Z"
   },
   {
    "duration": 63,
    "start_time": "2021-11-15T10:24:46.108Z"
   },
   {
    "duration": 177,
    "start_time": "2021-11-15T10:24:46.172Z"
   },
   {
    "duration": 193,
    "start_time": "2021-11-15T10:24:46.351Z"
   },
   {
    "duration": 98,
    "start_time": "2021-11-15T10:24:46.547Z"
   },
   {
    "duration": 101,
    "start_time": "2021-11-15T10:24:46.648Z"
   },
   {
    "duration": 3,
    "start_time": "2021-11-15T10:24:46.751Z"
   },
   {
    "duration": 16,
    "start_time": "2021-11-15T10:24:46.756Z"
   },
   {
    "duration": 3,
    "start_time": "2021-11-15T10:24:46.774Z"
   },
   {
    "duration": 22,
    "start_time": "2021-11-15T10:24:46.779Z"
   },
   {
    "duration": 3197,
    "start_time": "2021-11-15T10:24:46.803Z"
   },
   {
    "duration": 5296,
    "start_time": "2021-11-15T10:24:50.002Z"
   },
   {
    "duration": 25,
    "start_time": "2021-11-15T10:24:55.301Z"
   },
   {
    "duration": 21,
    "start_time": "2021-11-15T10:24:55.329Z"
   },
   {
    "duration": 606,
    "start_time": "2021-11-15T10:24:55.352Z"
   },
   {
    "duration": 11,
    "start_time": "2021-11-15T10:27:34.612Z"
   },
   {
    "duration": 11,
    "start_time": "2021-11-15T10:32:59.271Z"
   },
   {
    "duration": 12,
    "start_time": "2021-11-15T10:33:04.782Z"
   },
   {
    "duration": 14,
    "start_time": "2021-11-15T10:33:17.919Z"
   },
   {
    "duration": 17,
    "start_time": "2021-11-15T10:38:45.650Z"
   },
   {
    "duration": 15,
    "start_time": "2021-11-15T10:39:12.945Z"
   },
   {
    "duration": 3,
    "start_time": "2021-11-15T10:56:21.226Z"
   },
   {
    "duration": 739,
    "start_time": "2021-11-15T10:56:23.025Z"
   },
   {
    "duration": 591,
    "start_time": "2021-11-15T10:56:46.706Z"
   },
   {
    "duration": 3,
    "start_time": "2021-11-15T10:57:29.034Z"
   },
   {
    "duration": 289,
    "start_time": "2021-11-15T10:57:30.866Z"
   },
   {
    "duration": 10686,
    "start_time": "2021-11-15T10:57:32.827Z"
   },
   {
    "duration": 322,
    "start_time": "2021-11-15T11:01:41.524Z"
   },
   {
    "duration": 322,
    "start_time": "2021-11-15T11:02:34.396Z"
   },
   {
    "duration": 575,
    "start_time": "2021-11-15T11:02:41.844Z"
   },
   {
    "duration": 8,
    "start_time": "2021-11-15T11:03:38.493Z"
   },
   {
    "duration": 5,
    "start_time": "2021-11-15T11:03:49.661Z"
   },
   {
    "duration": 5426,
    "start_time": "2021-11-15T11:05:40.854Z"
   },
   {
    "duration": 17331,
    "start_time": "2021-11-15T11:06:51.951Z"
   },
   {
    "duration": 3371,
    "start_time": "2021-11-15T11:07:27.240Z"
   },
   {
    "duration": 21,
    "start_time": "2021-11-15T11:07:32.070Z"
   },
   {
    "duration": 23,
    "start_time": "2021-11-15T11:08:00.919Z"
   },
   {
    "duration": 21,
    "start_time": "2021-11-15T11:08:37.511Z"
   },
   {
    "duration": 609,
    "start_time": "2021-11-15T11:09:20.224Z"
   },
   {
    "duration": 4,
    "start_time": "2021-11-15T12:03:58.127Z"
   },
   {
    "duration": 24,
    "start_time": "2021-11-15T12:03:59.518Z"
   },
   {
    "duration": 24,
    "start_time": "2021-11-15T12:04:23.956Z"
   },
   {
    "duration": 5,
    "start_time": "2021-11-15T12:04:25.303Z"
   },
   {
    "duration": 4,
    "start_time": "2021-11-15T12:04:27.711Z"
   },
   {
    "duration": 23,
    "start_time": "2021-11-15T12:04:27.953Z"
   },
   {
    "duration": 124,
    "start_time": "2021-11-15T12:06:28.729Z"
   },
   {
    "duration": 294,
    "start_time": "2021-11-15T12:06:43.965Z"
   },
   {
    "duration": 15,
    "start_time": "2021-11-15T12:07:30.706Z"
   },
   {
    "duration": 14,
    "start_time": "2021-11-15T12:07:41.777Z"
   },
   {
    "duration": 14,
    "start_time": "2021-11-15T12:08:38.580Z"
   },
   {
    "duration": 3305,
    "start_time": "2021-11-15T12:08:50.746Z"
   },
   {
    "duration": 732,
    "start_time": "2021-11-15T12:08:54.053Z"
   },
   {
    "duration": 595,
    "start_time": "2021-11-15T12:09:06.131Z"
   },
   {
    "duration": 15,
    "start_time": "2021-11-15T12:09:08.378Z"
   },
   {
    "duration": 15,
    "start_time": "2021-11-15T12:09:10.978Z"
   },
   {
    "duration": 307,
    "start_time": "2021-11-15T12:09:28.155Z"
   },
   {
    "duration": 15,
    "start_time": "2021-11-15T12:09:36.343Z"
   },
   {
    "duration": 4235,
    "start_time": "2021-11-15T12:10:05.581Z"
   },
   {
    "duration": 4385,
    "start_time": "2021-11-15T12:10:25.739Z"
   },
   {
    "duration": 11385,
    "start_time": "2021-11-15T12:11:13.695Z"
   },
   {
    "duration": 129,
    "start_time": "2021-11-15T12:12:48.622Z"
   },
   {
    "duration": 3,
    "start_time": "2021-11-15T12:13:36.965Z"
   },
   {
    "duration": 25,
    "start_time": "2021-11-15T12:13:37.540Z"
   },
   {
    "duration": 3,
    "start_time": "2021-11-15T12:13:49.164Z"
   },
   {
    "duration": 24,
    "start_time": "2021-11-15T12:13:50.116Z"
   },
   {
    "duration": 11651,
    "start_time": "2021-11-15T12:14:07.725Z"
   },
   {
    "duration": 11619,
    "start_time": "2021-11-15T12:15:44.534Z"
   },
   {
    "duration": 762,
    "start_time": "2021-11-15T12:17:26.334Z"
   },
   {
    "duration": 3566,
    "start_time": "2021-11-15T12:18:00.157Z"
   },
   {
    "duration": 711,
    "start_time": "2021-11-15T12:18:07.014Z"
   },
   {
    "duration": 6,
    "start_time": "2021-11-15T12:49:56.912Z"
   },
   {
    "duration": 274,
    "start_time": "2021-11-15T12:50:35.208Z"
   },
   {
    "duration": 280,
    "start_time": "2021-11-15T12:51:05.025Z"
   },
   {
    "duration": 6,
    "start_time": "2021-11-15T12:51:08.544Z"
   },
   {
    "duration": 584,
    "start_time": "2021-11-15T12:52:26.794Z"
   },
   {
    "duration": 968,
    "start_time": "2021-11-15T12:52:45.481Z"
   },
   {
    "duration": 549,
    "start_time": "2021-11-15T12:52:46.745Z"
   },
   {
    "duration": 6,
    "start_time": "2021-11-15T12:53:03.409Z"
   },
   {
    "duration": 1114,
    "start_time": "2021-11-15T12:53:03.825Z"
   },
   {
    "duration": 5,
    "start_time": "2021-11-15T12:53:38.387Z"
   },
   {
    "duration": 6,
    "start_time": "2021-11-15T12:54:22.515Z"
   },
   {
    "duration": 599,
    "start_time": "2021-11-15T12:54:22.867Z"
   },
   {
    "duration": 7,
    "start_time": "2021-11-15T12:54:34.227Z"
   },
   {
    "duration": 542,
    "start_time": "2021-11-15T12:54:38.289Z"
   },
   {
    "duration": 5,
    "start_time": "2021-11-15T12:55:18.188Z"
   },
   {
    "duration": 733,
    "start_time": "2021-11-15T12:55:18.434Z"
   },
   {
    "duration": 6,
    "start_time": "2021-11-15T12:55:49.595Z"
   },
   {
    "duration": 3139,
    "start_time": "2021-11-15T12:55:49.931Z"
   },
   {
    "duration": 2820,
    "start_time": "2021-11-15T12:56:35.724Z"
   },
   {
    "duration": 2755,
    "start_time": "2021-11-15T12:56:49.924Z"
   },
   {
    "duration": 5,
    "start_time": "2021-11-15T13:11:45.307Z"
   },
   {
    "duration": 5,
    "start_time": "2021-11-15T13:12:31.851Z"
   },
   {
    "duration": 290,
    "start_time": "2021-11-15T13:12:57.355Z"
   },
   {
    "duration": 4,
    "start_time": "2021-11-15T13:13:08.199Z"
   },
   {
    "duration": 3,
    "start_time": "2021-11-15T13:14:35.725Z"
   },
   {
    "duration": 25,
    "start_time": "2021-11-15T13:14:36.284Z"
   },
   {
    "duration": 6,
    "start_time": "2021-11-15T13:32:19.784Z"
   },
   {
    "duration": 355,
    "start_time": "2021-11-15T13:39:36.664Z"
   },
   {
    "duration": 5,
    "start_time": "2021-11-15T13:39:39.762Z"
   },
   {
    "duration": 296,
    "start_time": "2021-11-15T13:39:40.763Z"
   },
   {
    "duration": 3971,
    "start_time": "2021-11-15T13:39:53.907Z"
   },
   {
    "duration": 5,
    "start_time": "2021-11-15T13:40:09.931Z"
   },
   {
    "duration": 3911,
    "start_time": "2021-11-15T13:40:10.235Z"
   },
   {
    "duration": 5,
    "start_time": "2021-11-15T13:40:30.731Z"
   },
   {
    "duration": 4067,
    "start_time": "2021-11-15T13:40:30.985Z"
   },
   {
    "duration": 5,
    "start_time": "2021-11-15T13:40:44.883Z"
   },
   {
    "duration": 3367,
    "start_time": "2021-11-15T13:40:45.123Z"
   },
   {
    "duration": 3345,
    "start_time": "2021-11-15T13:41:26.292Z"
   },
   {
    "duration": 3487,
    "start_time": "2021-11-15T13:41:46.661Z"
   },
   {
    "duration": 5592,
    "start_time": "2021-11-15T13:49:30.704Z"
   },
   {
    "duration": 97,
    "start_time": "2021-11-15T13:50:02.896Z"
   },
   {
    "duration": 5848,
    "start_time": "2021-11-15T13:50:12.023Z"
   },
   {
    "duration": 5748,
    "start_time": "2021-11-15T13:50:27.064Z"
   },
   {
    "duration": 3487,
    "start_time": "2021-11-15T13:51:21.731Z"
   },
   {
    "duration": 3312,
    "start_time": "2021-11-15T13:52:01.033Z"
   },
   {
    "duration": 3404,
    "start_time": "2021-11-15T13:52:48.665Z"
   },
   {
    "duration": 6,
    "start_time": "2021-11-15T13:53:19.865Z"
   },
   {
    "duration": 3490,
    "start_time": "2021-11-15T13:53:21.106Z"
   },
   {
    "duration": 3285,
    "start_time": "2021-11-15T13:54:48.314Z"
   },
   {
    "duration": 4,
    "start_time": "2021-11-15T13:55:28.371Z"
   },
   {
    "duration": 3238,
    "start_time": "2021-11-15T13:55:28.722Z"
   },
   {
    "duration": 3458,
    "start_time": "2021-11-15T13:55:33.761Z"
   },
   {
    "duration": 5,
    "start_time": "2021-11-15T13:55:45.137Z"
   },
   {
    "duration": 3272,
    "start_time": "2021-11-15T13:55:45.419Z"
   },
   {
    "duration": 3259,
    "start_time": "2021-11-15T13:55:48.693Z"
   },
   {
    "duration": 5,
    "start_time": "2021-11-15T13:56:11.739Z"
   },
   {
    "duration": 3235,
    "start_time": "2021-11-15T13:56:12.020Z"
   },
   {
    "duration": 3275,
    "start_time": "2021-11-15T13:56:17.579Z"
   },
   {
    "duration": 3420,
    "start_time": "2021-11-15T14:03:04.550Z"
   },
   {
    "duration": 4,
    "start_time": "2021-11-15T14:05:28.928Z"
   },
   {
    "duration": 3331,
    "start_time": "2021-11-15T14:05:30.679Z"
   },
   {
    "duration": 4,
    "start_time": "2021-11-15T14:06:47.905Z"
   },
   {
    "duration": 3338,
    "start_time": "2021-11-15T14:06:48.240Z"
   },
   {
    "duration": 5,
    "start_time": "2021-11-15T14:08:52.837Z"
   },
   {
    "duration": 3414,
    "start_time": "2021-11-15T14:08:56.010Z"
   },
   {
    "duration": 283,
    "start_time": "2021-11-15T14:09:33.218Z"
   },
   {
    "duration": 103,
    "start_time": "2021-11-15T14:10:27.231Z"
   },
   {
    "duration": 283,
    "start_time": "2021-11-15T14:10:34.302Z"
   },
   {
    "duration": 3319,
    "start_time": "2021-11-15T14:11:02.331Z"
   },
   {
    "duration": 4,
    "start_time": "2021-11-15T14:11:12.443Z"
   },
   {
    "duration": 4,
    "start_time": "2021-11-15T14:11:17.434Z"
   },
   {
    "duration": 5,
    "start_time": "2021-11-15T14:11:25.402Z"
   },
   {
    "duration": 3594,
    "start_time": "2021-11-15T14:11:59.930Z"
   },
   {
    "duration": 861,
    "start_time": "2021-11-15T14:12:02.666Z"
   },
   {
    "duration": 3560,
    "start_time": "2021-11-15T14:12:38.555Z"
   },
   {
    "duration": 3389,
    "start_time": "2021-11-15T14:12:48.547Z"
   },
   {
    "duration": 5,
    "start_time": "2021-11-15T14:12:54.547Z"
   },
   {
    "duration": 5,
    "start_time": "2021-11-15T14:13:37.828Z"
   },
   {
    "duration": 3336,
    "start_time": "2021-11-15T14:15:01.725Z"
   },
   {
    "duration": 4,
    "start_time": "2021-11-15T14:15:09.614Z"
   },
   {
    "duration": 5,
    "start_time": "2021-11-15T14:15:56.712Z"
   },
   {
    "duration": 5,
    "start_time": "2021-11-15T14:16:19.989Z"
   },
   {
    "duration": 3250,
    "start_time": "2021-11-15T14:16:22.541Z"
   },
   {
    "duration": 3,
    "start_time": "2021-11-15T14:23:41.569Z"
   },
   {
    "duration": 821,
    "start_time": "2021-11-15T14:23:53.940Z"
   },
   {
    "duration": 276,
    "start_time": "2021-11-15T14:23:57.385Z"
   },
   {
    "duration": 97,
    "start_time": "2021-11-15T14:27:58.885Z"
   },
   {
    "duration": 4,
    "start_time": "2021-11-15T14:28:05.316Z"
   },
   {
    "duration": 3,
    "start_time": "2021-11-15T14:28:35.893Z"
   },
   {
    "duration": 278,
    "start_time": "2021-11-15T14:28:51.125Z"
   },
   {
    "duration": 302,
    "start_time": "2021-11-15T14:29:00.485Z"
   },
   {
    "duration": 3527,
    "start_time": "2021-11-15T14:30:52.286Z"
   },
   {
    "duration": 4,
    "start_time": "2021-11-15T14:31:13.598Z"
   },
   {
    "duration": 3624,
    "start_time": "2021-11-15T14:31:29.262Z"
   },
   {
    "duration": 3334,
    "start_time": "2021-11-15T14:31:48.094Z"
   },
   {
    "duration": 3330,
    "start_time": "2021-11-15T14:32:21.582Z"
   },
   {
    "duration": 3474,
    "start_time": "2021-11-15T14:32:59.159Z"
   },
   {
    "duration": 90,
    "start_time": "2021-11-15T14:42:55.899Z"
   },
   {
    "duration": 10257,
    "start_time": "2021-11-15T14:43:20.179Z"
   },
   {
    "duration": 9921,
    "start_time": "2021-11-15T14:47:16.886Z"
   },
   {
    "duration": 9,
    "start_time": "2021-11-15T14:56:07.545Z"
   },
   {
    "duration": 5,
    "start_time": "2021-11-15T15:02:57.397Z"
   },
   {
    "duration": 12,
    "start_time": "2021-11-15T15:02:57.404Z"
   },
   {
    "duration": 16,
    "start_time": "2021-11-15T15:02:57.418Z"
   },
   {
    "duration": 45,
    "start_time": "2021-11-15T15:02:57.436Z"
   },
   {
    "duration": 6,
    "start_time": "2021-11-15T15:02:57.483Z"
   },
   {
    "duration": 9528,
    "start_time": "2021-11-15T15:02:57.491Z"
   },
   {
    "duration": 7,
    "start_time": "2021-11-15T15:03:07.021Z"
   },
   {
    "duration": 4,
    "start_time": "2021-11-15T15:05:27.517Z"
   },
   {
    "duration": 16,
    "start_time": "2021-11-15T15:05:27.523Z"
   },
   {
    "duration": 6,
    "start_time": "2021-11-15T15:05:27.541Z"
   },
   {
    "duration": 25,
    "start_time": "2021-11-15T15:05:27.549Z"
   },
   {
    "duration": 4,
    "start_time": "2021-11-15T15:05:27.576Z"
   },
   {
    "duration": 9766,
    "start_time": "2021-11-15T15:05:27.582Z"
   },
   {
    "duration": 8,
    "start_time": "2021-11-15T15:05:37.350Z"
   },
   {
    "duration": 4,
    "start_time": "2021-11-15T15:06:12.484Z"
   },
   {
    "duration": 16,
    "start_time": "2021-11-15T15:06:12.489Z"
   },
   {
    "duration": 7,
    "start_time": "2021-11-15T15:06:12.507Z"
   },
   {
    "duration": 32,
    "start_time": "2021-11-15T15:06:12.516Z"
   },
   {
    "duration": 32,
    "start_time": "2021-11-15T15:06:12.550Z"
   },
   {
    "duration": 9609,
    "start_time": "2021-11-15T15:06:12.584Z"
   },
   {
    "duration": 8,
    "start_time": "2021-11-15T15:06:22.195Z"
   },
   {
    "duration": 4,
    "start_time": "2021-11-15T15:06:43.107Z"
   },
   {
    "duration": 9,
    "start_time": "2021-11-15T15:06:43.112Z"
   },
   {
    "duration": 10,
    "start_time": "2021-11-15T15:06:43.123Z"
   },
   {
    "duration": 26,
    "start_time": "2021-11-15T15:06:43.134Z"
   },
   {
    "duration": 5,
    "start_time": "2021-11-15T15:06:43.162Z"
   },
   {
    "duration": 9785,
    "start_time": "2021-11-15T15:06:43.169Z"
   },
   {
    "duration": 7,
    "start_time": "2021-11-15T15:06:52.956Z"
   },
   {
    "duration": 272,
    "start_time": "2021-11-15T15:07:35.793Z"
   },
   {
    "duration": 918,
    "start_time": "2021-11-15T15:07:35.149Z"
   },
   {
    "duration": 863,
    "start_time": "2021-11-15T15:07:35.205Z"
   },
   {
    "duration": 861,
    "start_time": "2021-11-15T15:07:35.208Z"
   },
   {
    "duration": 859,
    "start_time": "2021-11-15T15:07:35.211Z"
   },
   {
    "duration": 858,
    "start_time": "2021-11-15T15:07:35.213Z"
   },
   {
    "duration": 856,
    "start_time": "2021-11-15T15:07:35.216Z"
   },
   {
    "duration": 4,
    "start_time": "2021-11-15T15:08:20.080Z"
   },
   {
    "duration": 42,
    "start_time": "2021-11-15T15:08:20.086Z"
   },
   {
    "duration": 39,
    "start_time": "2021-11-15T15:08:20.130Z"
   },
   {
    "duration": 55,
    "start_time": "2021-11-15T15:08:20.171Z"
   },
   {
    "duration": 5,
    "start_time": "2021-11-15T15:08:20.228Z"
   },
   {
    "duration": 9756,
    "start_time": "2021-11-15T15:08:20.235Z"
   },
   {
    "duration": 7,
    "start_time": "2021-11-15T15:08:29.993Z"
   },
   {
    "duration": 269,
    "start_time": "2021-11-15T15:10:00.939Z"
   },
   {
    "duration": 913,
    "start_time": "2021-11-15T15:10:00.298Z"
   },
   {
    "duration": 863,
    "start_time": "2021-11-15T15:10:00.349Z"
   },
   {
    "duration": 858,
    "start_time": "2021-11-15T15:10:00.356Z"
   },
   {
    "duration": 856,
    "start_time": "2021-11-15T15:10:00.360Z"
   },
   {
    "duration": 854,
    "start_time": "2021-11-15T15:10:00.363Z"
   },
   {
    "duration": 854,
    "start_time": "2021-11-15T15:10:00.365Z"
   },
   {
    "duration": 4,
    "start_time": "2021-11-15T15:10:30.124Z"
   },
   {
    "duration": 16,
    "start_time": "2021-11-15T15:10:30.131Z"
   },
   {
    "duration": 10,
    "start_time": "2021-11-15T15:10:30.150Z"
   },
   {
    "duration": 42,
    "start_time": "2021-11-15T15:10:30.162Z"
   },
   {
    "duration": 4,
    "start_time": "2021-11-15T15:10:30.206Z"
   },
   {
    "duration": 10171,
    "start_time": "2021-11-15T15:10:30.212Z"
   },
   {
    "duration": 9,
    "start_time": "2021-11-15T15:10:40.386Z"
   },
   {
    "duration": 274,
    "start_time": "2021-11-15T15:13:43.498Z"
   },
   {
    "duration": 8,
    "start_time": "2021-11-15T15:13:56.779Z"
   },
   {
    "duration": 7,
    "start_time": "2021-11-15T15:14:08.471Z"
   },
   {
    "duration": 9,
    "start_time": "2021-11-15T15:14:30.843Z"
   },
   {
    "duration": 8,
    "start_time": "2021-11-15T15:14:44.631Z"
   },
   {
    "duration": 8,
    "start_time": "2021-11-15T15:14:56.131Z"
   },
   {
    "duration": 1200,
    "start_time": "2021-11-15T15:35:26.827Z"
   },
   {
    "duration": 405,
    "start_time": "2021-11-15T15:35:28.029Z"
   },
   {
    "duration": 9,
    "start_time": "2021-11-15T15:35:28.436Z"
   },
   {
    "duration": 1386,
    "start_time": "2021-11-15T15:35:28.446Z"
   },
   {
    "duration": 1497,
    "start_time": "2021-11-15T15:35:29.834Z"
   },
   {
    "duration": 1396,
    "start_time": "2021-11-15T15:35:31.333Z"
   },
   {
    "duration": 1054,
    "start_time": "2021-11-15T15:35:32.731Z"
   },
   {
    "duration": 45,
    "start_time": "2021-11-15T15:35:33.787Z"
   },
   {
    "duration": 12,
    "start_time": "2021-11-15T15:35:33.834Z"
   },
   {
    "duration": 13,
    "start_time": "2021-11-15T15:35:33.848Z"
   },
   {
    "duration": 65,
    "start_time": "2021-11-15T15:35:33.862Z"
   },
   {
    "duration": 116,
    "start_time": "2021-11-15T15:35:33.929Z"
   },
   {
    "duration": 195,
    "start_time": "2021-11-15T15:35:34.051Z"
   },
   {
    "duration": 110,
    "start_time": "2021-11-15T15:35:34.248Z"
   },
   {
    "duration": 91,
    "start_time": "2021-11-15T15:35:34.460Z"
   },
   {
    "duration": 9,
    "start_time": "2021-11-15T15:35:34.553Z"
   },
   {
    "duration": 13,
    "start_time": "2021-11-15T15:35:34.563Z"
   },
   {
    "duration": 4,
    "start_time": "2021-11-15T15:35:34.578Z"
   },
   {
    "duration": 32,
    "start_time": "2021-11-15T15:35:34.583Z"
   },
   {
    "duration": 5,
    "start_time": "2021-11-15T15:35:34.617Z"
   },
   {
    "duration": 9730,
    "start_time": "2021-11-15T15:35:34.623Z"
   },
   {
    "duration": 541,
    "start_time": "2021-11-15T15:35:44.355Z"
   },
   {
    "duration": 8,
    "start_time": "2021-11-15T15:35:44.900Z"
   },
   {
    "duration": 4,
    "start_time": "2021-11-15T15:38:35.269Z"
   },
   {
    "duration": 6,
    "start_time": "2021-11-15T15:38:41.628Z"
   },
   {
    "duration": 548,
    "start_time": "2021-11-15T15:39:11.452Z"
   },
   {
    "duration": 23,
    "start_time": "2021-11-15T15:39:28.075Z"
   },
   {
    "duration": 6,
    "start_time": "2021-11-15T16:12:07.726Z"
   },
   {
    "duration": 4,
    "start_time": "2021-11-15T16:12:30.587Z"
   },
   {
    "duration": 27,
    "start_time": "2021-11-15T16:13:03.352Z"
   },
   {
    "duration": 1228,
    "start_time": "2021-11-15T16:13:20.243Z"
   },
   {
    "duration": 438,
    "start_time": "2021-11-15T16:13:21.474Z"
   },
   {
    "duration": 3,
    "start_time": "2021-11-15T16:13:21.915Z"
   },
   {
    "duration": 1447,
    "start_time": "2021-11-15T16:13:21.920Z"
   },
   {
    "duration": 1681,
    "start_time": "2021-11-15T16:13:23.370Z"
   },
   {
    "duration": 1564,
    "start_time": "2021-11-15T16:13:25.053Z"
   },
   {
    "duration": 1227,
    "start_time": "2021-11-15T16:13:26.619Z"
   },
   {
    "duration": 54,
    "start_time": "2021-11-15T16:13:27.850Z"
   },
   {
    "duration": 4,
    "start_time": "2021-11-15T16:13:27.906Z"
   },
   {
    "duration": 33,
    "start_time": "2021-11-15T16:13:27.912Z"
   },
   {
    "duration": 65,
    "start_time": "2021-11-15T16:13:27.948Z"
   },
   {
    "duration": 135,
    "start_time": "2021-11-15T16:13:28.016Z"
   },
   {
    "duration": 204,
    "start_time": "2021-11-15T16:13:28.157Z"
   },
   {
    "duration": 204,
    "start_time": "2021-11-15T16:13:28.445Z"
   },
   {
    "duration": 97,
    "start_time": "2021-11-15T16:13:28.652Z"
   },
   {
    "duration": 6,
    "start_time": "2021-11-15T16:13:28.751Z"
   },
   {
    "duration": 20,
    "start_time": "2021-11-15T16:13:28.760Z"
   },
   {
    "duration": 10,
    "start_time": "2021-11-15T16:13:28.782Z"
   },
   {
    "duration": 40,
    "start_time": "2021-11-15T16:13:28.794Z"
   },
   {
    "duration": 10,
    "start_time": "2021-11-15T16:13:28.835Z"
   },
   {
    "duration": 12596,
    "start_time": "2021-11-15T16:13:28.848Z"
   },
   {
    "duration": 808,
    "start_time": "2021-11-15T16:13:41.446Z"
   },
   {
    "duration": 13,
    "start_time": "2021-11-15T16:13:42.258Z"
   },
   {
    "duration": 32,
    "start_time": "2021-11-15T16:13:47.043Z"
   },
   {
    "duration": 1237,
    "start_time": "2021-11-15T16:14:09.877Z"
   },
   {
    "duration": 463,
    "start_time": "2021-11-15T16:14:11.116Z"
   },
   {
    "duration": 4,
    "start_time": "2021-11-15T16:14:11.582Z"
   },
   {
    "duration": 1528,
    "start_time": "2021-11-15T16:14:11.588Z"
   },
   {
    "duration": 1669,
    "start_time": "2021-11-15T16:14:13.118Z"
   },
   {
    "duration": 1518,
    "start_time": "2021-11-15T16:14:14.789Z"
   },
   {
    "duration": 1218,
    "start_time": "2021-11-15T16:14:16.309Z"
   },
   {
    "duration": 68,
    "start_time": "2021-11-15T16:14:17.530Z"
   },
   {
    "duration": 4,
    "start_time": "2021-11-15T16:14:17.601Z"
   },
   {
    "duration": 24,
    "start_time": "2021-11-15T16:14:17.606Z"
   },
   {
    "duration": 68,
    "start_time": "2021-11-15T16:14:17.633Z"
   },
   {
    "duration": 49,
    "start_time": "2021-11-15T16:14:17.703Z"
   },
   {
    "duration": 205,
    "start_time": "2021-11-15T16:14:17.755Z"
   },
   {
    "duration": 112,
    "start_time": "2021-11-15T16:14:18.044Z"
   },
   {
    "duration": 16,
    "start_time": "2021-11-15T16:14:18.243Z"
   },
   {
    "duration": 28,
    "start_time": "2021-11-15T16:14:18.261Z"
   },
   {
    "duration": 17,
    "start_time": "2021-11-15T16:14:18.291Z"
   },
   {
    "duration": 11,
    "start_time": "2021-11-15T16:14:18.310Z"
   },
   {
    "duration": 36,
    "start_time": "2021-11-15T16:14:18.323Z"
   },
   {
    "duration": 7,
    "start_time": "2021-11-15T16:14:18.362Z"
   },
   {
    "duration": 11137,
    "start_time": "2021-11-15T16:14:18.371Z"
   },
   {
    "duration": 584,
    "start_time": "2021-11-15T16:14:29.510Z"
   },
   {
    "duration": 8,
    "start_time": "2021-11-15T16:14:30.098Z"
   },
   {
    "duration": 27,
    "start_time": "2021-11-15T16:15:14.248Z"
   },
   {
    "duration": 5,
    "start_time": "2021-11-15T16:15:31.896Z"
   },
   {
    "duration": 8,
    "start_time": "2021-11-15T16:15:49.975Z"
   },
   {
    "duration": 5,
    "start_time": "2021-11-15T16:16:09.480Z"
   },
   {
    "duration": 6,
    "start_time": "2021-11-15T16:16:23.496Z"
   },
   {
    "duration": 27,
    "start_time": "2021-11-15T16:16:38.857Z"
   },
   {
    "duration": 25,
    "start_time": "2021-11-15T16:16:47.344Z"
   },
   {
    "duration": 1212,
    "start_time": "2021-11-15T16:16:59.446Z"
   },
   {
    "duration": 431,
    "start_time": "2021-11-15T16:17:00.662Z"
   },
   {
    "duration": 3,
    "start_time": "2021-11-15T16:17:01.095Z"
   },
   {
    "duration": 1685,
    "start_time": "2021-11-15T16:17:01.100Z"
   },
   {
    "duration": 1581,
    "start_time": "2021-11-15T16:17:02.787Z"
   },
   {
    "duration": 1577,
    "start_time": "2021-11-15T16:17:04.371Z"
   },
   {
    "duration": 1109,
    "start_time": "2021-11-15T16:17:05.950Z"
   },
   {
    "duration": 48,
    "start_time": "2021-11-15T16:17:07.063Z"
   },
   {
    "duration": 3,
    "start_time": "2021-11-15T16:17:07.113Z"
   },
   {
    "duration": 35,
    "start_time": "2021-11-15T16:17:07.118Z"
   },
   {
    "duration": 48,
    "start_time": "2021-11-15T16:17:07.156Z"
   },
   {
    "duration": 138,
    "start_time": "2021-11-15T16:17:07.206Z"
   },
   {
    "duration": 104,
    "start_time": "2021-11-15T16:17:07.346Z"
   },
   {
    "duration": 201,
    "start_time": "2021-11-15T16:17:07.452Z"
   },
   {
    "duration": 93,
    "start_time": "2021-11-15T16:17:07.658Z"
   },
   {
    "duration": 10,
    "start_time": "2021-11-15T16:17:07.754Z"
   },
   {
    "duration": 12,
    "start_time": "2021-11-15T16:17:07.767Z"
   },
   {
    "duration": 6,
    "start_time": "2021-11-15T16:17:07.781Z"
   },
   {
    "duration": 42,
    "start_time": "2021-11-15T16:17:07.789Z"
   },
   {
    "duration": 14,
    "start_time": "2021-11-15T16:17:07.832Z"
   },
   {
    "duration": 13,
    "start_time": "2021-11-15T16:17:07.848Z"
   },
   {
    "duration": 10797,
    "start_time": "2021-11-15T16:17:07.863Z"
   },
   {
    "duration": 885,
    "start_time": "2021-11-15T16:17:18.663Z"
   },
   {
    "duration": 10,
    "start_time": "2021-11-15T16:17:19.551Z"
   },
   {
    "duration": 100,
    "start_time": "2021-11-15T16:18:24.666Z"
   },
   {
    "duration": 98,
    "start_time": "2021-11-15T16:18:29.506Z"
   },
   {
    "duration": 32,
    "start_time": "2021-11-15T16:19:17.946Z"
   },
   {
    "duration": 375,
    "start_time": "2021-11-15T16:21:21.540Z"
   },
   {
    "duration": 22,
    "start_time": "2021-11-15T16:22:27.156Z"
   },
   {
    "duration": 11,
    "start_time": "2021-11-15T16:23:07.350Z"
   },
   {
    "duration": 1345,
    "start_time": "2021-11-15T16:23:24.055Z"
   },
   {
    "duration": 429,
    "start_time": "2021-11-15T16:23:25.403Z"
   },
   {
    "duration": 12,
    "start_time": "2021-11-15T16:23:25.834Z"
   },
   {
    "duration": 1485,
    "start_time": "2021-11-15T16:23:25.849Z"
   },
   {
    "duration": 1568,
    "start_time": "2021-11-15T16:23:27.343Z"
   },
   {
    "duration": 1433,
    "start_time": "2021-11-15T16:23:28.913Z"
   },
   {
    "duration": 1110,
    "start_time": "2021-11-15T16:23:30.348Z"
   },
   {
    "duration": 51,
    "start_time": "2021-11-15T16:23:31.460Z"
   },
   {
    "duration": 4,
    "start_time": "2021-11-15T16:23:31.514Z"
   },
   {
    "duration": 60,
    "start_time": "2021-11-15T16:23:31.520Z"
   },
   {
    "duration": 70,
    "start_time": "2021-11-15T16:23:31.582Z"
   },
   {
    "duration": 92,
    "start_time": "2021-11-15T16:23:31.653Z"
   },
   {
    "duration": 200,
    "start_time": "2021-11-15T16:23:31.748Z"
   },
   {
    "duration": 198,
    "start_time": "2021-11-15T16:23:31.951Z"
   },
   {
    "duration": 95,
    "start_time": "2021-11-15T16:23:32.151Z"
   },
   {
    "duration": 13,
    "start_time": "2021-11-15T16:23:32.248Z"
   },
   {
    "duration": 19,
    "start_time": "2021-11-15T16:23:32.263Z"
   },
   {
    "duration": 14,
    "start_time": "2021-11-15T16:23:32.283Z"
   },
   {
    "duration": 53,
    "start_time": "2021-11-15T16:23:32.299Z"
   },
   {
    "duration": 10,
    "start_time": "2021-11-15T16:23:32.354Z"
   },
   {
    "duration": 26,
    "start_time": "2021-11-15T16:23:32.366Z"
   },
   {
    "duration": 10208,
    "start_time": "2021-11-15T16:23:32.393Z"
   },
   {
    "duration": 542,
    "start_time": "2021-11-15T16:23:42.603Z"
   },
   {
    "duration": 9,
    "start_time": "2021-11-15T16:23:43.147Z"
   },
   {
    "duration": 3,
    "start_time": "2021-11-15T16:28:21.247Z"
   },
   {
    "duration": 416,
    "start_time": "2021-11-15T16:28:22.375Z"
   },
   {
    "duration": 272,
    "start_time": "2021-11-15T16:28:29.654Z"
   },
   {
    "duration": 3,
    "start_time": "2021-11-15T16:28:47.680Z"
   },
   {
    "duration": 23,
    "start_time": "2021-11-15T16:28:48.056Z"
   },
   {
    "duration": 270,
    "start_time": "2021-11-15T16:28:49.495Z"
   },
   {
    "duration": 273,
    "start_time": "2021-11-15T16:29:07.951Z"
   },
   {
    "duration": 281,
    "start_time": "2021-11-15T16:29:22.768Z"
   },
   {
    "duration": 12,
    "start_time": "2021-11-15T16:29:56.480Z"
   },
   {
    "duration": 45,
    "start_time": "2021-11-15T16:30:39.721Z"
   },
   {
    "duration": 45,
    "start_time": "2021-11-15T16:30:51.792Z"
   },
   {
    "duration": 35,
    "start_time": "2021-11-15T16:31:00.657Z"
   },
   {
    "duration": 35,
    "start_time": "2021-11-15T16:31:11.064Z"
   },
   {
    "duration": 277,
    "start_time": "2021-11-15T16:32:40.945Z"
   },
   {
    "duration": 30,
    "start_time": "2021-11-15T16:33:26.976Z"
   },
   {
    "duration": 30,
    "start_time": "2021-11-15T16:33:36.849Z"
   },
   {
    "duration": 26,
    "start_time": "2021-11-15T16:33:41.886Z"
   },
   {
    "duration": 28,
    "start_time": "2021-11-15T16:33:45.993Z"
   },
   {
    "duration": 18,
    "start_time": "2021-11-15T16:33:52.321Z"
   },
   {
    "duration": 27,
    "start_time": "2021-11-15T16:34:25.794Z"
   },
   {
    "duration": 264,
    "start_time": "2021-11-15T16:34:34.506Z"
   },
   {
    "duration": 12,
    "start_time": "2021-11-15T16:34:52.793Z"
   },
   {
    "duration": 5,
    "start_time": "2021-11-15T16:35:10.347Z"
   },
   {
    "duration": 12,
    "start_time": "2021-11-15T16:36:02.228Z"
   },
   {
    "duration": 44,
    "start_time": "2021-11-15T16:37:18.539Z"
   },
   {
    "duration": 44,
    "start_time": "2021-11-15T16:37:29.764Z"
   },
   {
    "duration": 43,
    "start_time": "2021-11-15T16:37:40.612Z"
   },
   {
    "duration": 22,
    "start_time": "2021-11-15T16:39:35.004Z"
   },
   {
    "duration": 18,
    "start_time": "2021-11-15T16:39:52.236Z"
   },
   {
    "duration": 435,
    "start_time": "2021-11-15T16:40:31.757Z"
   },
   {
    "duration": 276,
    "start_time": "2021-11-15T16:40:42.245Z"
   },
   {
    "duration": 11,
    "start_time": "2021-11-15T16:40:52.589Z"
   },
   {
    "duration": 266,
    "start_time": "2021-11-15T16:41:31.858Z"
   },
   {
    "duration": 90,
    "start_time": "2021-11-15T16:42:38.990Z"
   },
   {
    "duration": 90,
    "start_time": "2021-11-15T16:43:21.589Z"
   },
   {
    "duration": 93,
    "start_time": "2021-11-15T16:44:42.718Z"
   },
   {
    "duration": 277,
    "start_time": "2021-11-15T16:44:53.039Z"
   },
   {
    "duration": 24,
    "start_time": "2021-11-15T16:45:15.888Z"
   },
   {
    "duration": 263,
    "start_time": "2021-11-15T16:45:17.791Z"
   },
   {
    "duration": 269,
    "start_time": "2021-11-15T16:45:20.198Z"
   },
   {
    "duration": 89,
    "start_time": "2021-11-15T16:46:07.463Z"
   },
   {
    "duration": 3,
    "start_time": "2021-11-15T16:46:28.280Z"
   },
   {
    "duration": 7,
    "start_time": "2021-11-15T16:46:35.648Z"
   },
   {
    "duration": 28,
    "start_time": "2021-11-15T16:46:49.400Z"
   },
   {
    "duration": 274,
    "start_time": "2021-11-15T16:47:02.432Z"
   },
   {
    "duration": 1241,
    "start_time": "2021-11-15T16:47:21.399Z"
   },
   {
    "duration": 445,
    "start_time": "2021-11-15T16:47:22.642Z"
   },
   {
    "duration": 4,
    "start_time": "2021-11-15T16:47:23.090Z"
   },
   {
    "duration": 1436,
    "start_time": "2021-11-15T16:47:23.096Z"
   },
   {
    "duration": 1529,
    "start_time": "2021-11-15T16:47:24.534Z"
   },
   {
    "duration": 1482,
    "start_time": "2021-11-15T16:47:26.065Z"
   },
   {
    "duration": 1064,
    "start_time": "2021-11-15T16:47:27.549Z"
   },
   {
    "duration": 60,
    "start_time": "2021-11-15T16:47:28.616Z"
   },
   {
    "duration": 4,
    "start_time": "2021-11-15T16:47:28.677Z"
   },
   {
    "duration": 13,
    "start_time": "2021-11-15T16:47:28.683Z"
   },
   {
    "duration": 59,
    "start_time": "2021-11-15T16:47:28.698Z"
   },
   {
    "duration": 90,
    "start_time": "2021-11-15T16:47:28.759Z"
   },
   {
    "duration": 195,
    "start_time": "2021-11-15T16:47:28.851Z"
   },
   {
    "duration": 198,
    "start_time": "2021-11-15T16:47:29.048Z"
   },
   {
    "duration": 100,
    "start_time": "2021-11-15T16:47:29.249Z"
   },
   {
    "duration": 3,
    "start_time": "2021-11-15T16:47:29.351Z"
   },
   {
    "duration": 10,
    "start_time": "2021-11-15T16:47:29.356Z"
   },
   {
    "duration": 3,
    "start_time": "2021-11-15T16:47:29.368Z"
   },
   {
    "duration": 32,
    "start_time": "2021-11-15T16:47:29.373Z"
   },
   {
    "duration": 2,
    "start_time": "2021-11-15T16:47:29.407Z"
   },
   {
    "duration": 40,
    "start_time": "2021-11-15T16:47:29.411Z"
   },
   {
    "duration": 5,
    "start_time": "2021-11-15T16:47:29.453Z"
   },
   {
    "duration": 9751,
    "start_time": "2021-11-15T16:47:29.460Z"
   },
   {
    "duration": 551,
    "start_time": "2021-11-15T16:47:39.213Z"
   },
   {
    "duration": 9,
    "start_time": "2021-11-15T16:47:39.766Z"
   },
   {
    "duration": 414,
    "start_time": "2021-11-15T16:48:29.600Z"
   },
   {
    "duration": 5,
    "start_time": "2021-11-15T16:48:37.895Z"
   },
   {
    "duration": 263,
    "start_time": "2021-11-15T16:48:40.448Z"
   },
   {
    "duration": 276,
    "start_time": "2021-11-15T16:48:42.296Z"
   },
   {
    "duration": 7,
    "start_time": "2021-11-15T16:48:42.690Z"
   },
   {
    "duration": 265,
    "start_time": "2021-11-15T16:48:50.930Z"
   },
   {
    "duration": 13,
    "start_time": "2021-11-15T16:49:27.440Z"
   },
   {
    "duration": 11,
    "start_time": "2021-11-15T16:50:21.170Z"
   },
   {
    "duration": 14,
    "start_time": "2021-11-15T16:51:34.482Z"
   },
   {
    "duration": 6,
    "start_time": "2021-11-15T16:52:45.274Z"
   },
   {
    "duration": 4,
    "start_time": "2021-11-15T16:54:38.339Z"
   },
   {
    "duration": 6,
    "start_time": "2021-11-15T16:55:42.195Z"
   },
   {
    "duration": 45,
    "start_time": "2021-11-15T17:00:52.527Z"
   },
   {
    "duration": 44,
    "start_time": "2021-11-15T17:01:19.159Z"
   },
   {
    "duration": 48,
    "start_time": "2021-11-15T17:01:25.551Z"
   },
   {
    "duration": 46,
    "start_time": "2021-11-15T17:01:50.856Z"
   },
   {
    "duration": 11,
    "start_time": "2021-11-15T17:02:03.792Z"
   },
   {
    "duration": 4,
    "start_time": "2021-11-15T17:03:02.130Z"
   },
   {
    "duration": 6,
    "start_time": "2021-11-15T17:03:16.320Z"
   },
   {
    "duration": 5,
    "start_time": "2021-11-15T17:03:57.568Z"
   },
   {
    "duration": 4,
    "start_time": "2021-11-15T17:05:15.710Z"
   },
   {
    "duration": 11,
    "start_time": "2021-11-15T17:05:35.284Z"
   },
   {
    "duration": 87,
    "start_time": "2021-11-15T17:05:37.545Z"
   },
   {
    "duration": 5,
    "start_time": "2021-11-15T17:05:39.386Z"
   },
   {
    "duration": 4,
    "start_time": "2021-11-15T17:05:44.762Z"
   },
   {
    "duration": 4,
    "start_time": "2021-11-15T17:06:47.466Z"
   },
   {
    "duration": 4,
    "start_time": "2021-11-15T17:07:09.179Z"
   },
   {
    "duration": 4521,
    "start_time": "2021-11-15T17:07:16.625Z"
   },
   {
    "duration": 939,
    "start_time": "2021-11-15T17:07:20.210Z"
   },
   {
    "duration": 4,
    "start_time": "2021-11-15T17:07:30.203Z"
   },
   {
    "duration": 44,
    "start_time": "2021-11-15T17:08:06.416Z"
   },
   {
    "duration": 86,
    "start_time": "2021-11-15T17:08:06.746Z"
   },
   {
    "duration": 7,
    "start_time": "2021-11-15T17:08:14.946Z"
   },
   {
    "duration": 4773,
    "start_time": "2021-11-15T17:08:18.323Z"
   },
   {
    "duration": 935,
    "start_time": "2021-11-15T17:08:22.163Z"
   },
   {
    "duration": 4,
    "start_time": "2021-11-15T17:08:33.843Z"
   },
   {
    "duration": 4506,
    "start_time": "2021-11-15T17:08:46.443Z"
   },
   {
    "duration": 8695,
    "start_time": "2021-11-15T17:08:59.908Z"
   },
   {
    "duration": 6,
    "start_time": "2021-11-15T17:09:38.349Z"
   },
   {
    "duration": 4,
    "start_time": "2021-11-15T17:10:52.181Z"
   },
   {
    "duration": 5,
    "start_time": "2021-11-15T17:11:10.732Z"
   },
   {
    "duration": 4,
    "start_time": "2021-11-15T17:11:26.365Z"
   },
   {
    "duration": 5,
    "start_time": "2021-11-15T17:11:27.540Z"
   },
   {
    "duration": 4351,
    "start_time": "2021-11-15T17:11:41.013Z"
   },
   {
    "duration": 4,
    "start_time": "2021-11-15T17:11:49.061Z"
   },
   {
    "duration": 11,
    "start_time": "2021-11-15T17:12:04.301Z"
   },
   {
    "duration": 4,
    "start_time": "2021-11-15T17:12:33.253Z"
   },
   {
    "duration": 22,
    "start_time": "2021-11-15T17:12:33.845Z"
   },
   {
    "duration": 3,
    "start_time": "2021-11-15T17:13:51.631Z"
   },
   {
    "duration": 22,
    "start_time": "2021-11-15T17:13:52.039Z"
   },
   {
    "duration": 1215,
    "start_time": "2021-11-15T17:14:13.023Z"
   },
   {
    "duration": 400,
    "start_time": "2021-11-15T17:14:14.240Z"
   },
   {
    "duration": 3,
    "start_time": "2021-11-15T17:14:14.645Z"
   },
   {
    "duration": 1381,
    "start_time": "2021-11-15T17:14:14.650Z"
   },
   {
    "duration": 1488,
    "start_time": "2021-11-15T17:14:16.033Z"
   },
   {
    "duration": 1361,
    "start_time": "2021-11-15T17:14:17.523Z"
   },
   {
    "duration": 1094,
    "start_time": "2021-11-15T17:14:18.887Z"
   },
   {
    "duration": 64,
    "start_time": "2021-11-15T17:14:19.985Z"
   },
   {
    "duration": 5,
    "start_time": "2021-11-15T17:14:20.052Z"
   },
   {
    "duration": 17,
    "start_time": "2021-11-15T17:14:20.058Z"
   },
   {
    "duration": 51,
    "start_time": "2021-11-15T17:14:20.077Z"
   },
   {
    "duration": 115,
    "start_time": "2021-11-15T17:14:20.129Z"
   },
   {
    "duration": 198,
    "start_time": "2021-11-15T17:14:20.248Z"
   },
   {
    "duration": 297,
    "start_time": "2021-11-15T17:14:20.448Z"
   },
   {
    "duration": 9,
    "start_time": "2021-11-15T17:14:20.747Z"
   },
   {
    "duration": 21,
    "start_time": "2021-11-15T17:14:20.758Z"
   },
   {
    "duration": 21,
    "start_time": "2021-11-15T17:14:20.781Z"
   },
   {
    "duration": 3,
    "start_time": "2021-11-15T17:14:20.804Z"
   },
   {
    "duration": 30,
    "start_time": "2021-11-15T17:14:20.809Z"
   },
   {
    "duration": 11,
    "start_time": "2021-11-15T17:14:20.841Z"
   },
   {
    "duration": 6,
    "start_time": "2021-11-15T17:14:20.854Z"
   },
   {
    "duration": 7,
    "start_time": "2021-11-15T17:14:20.861Z"
   },
   {
    "duration": 10,
    "start_time": "2021-11-15T17:14:20.870Z"
   },
   {
    "duration": 7,
    "start_time": "2021-11-15T17:14:20.881Z"
   },
   {
    "duration": 30993,
    "start_time": "2021-11-15T17:14:20.890Z"
   },
   {
    "duration": 609,
    "start_time": "2021-11-15T17:14:51.885Z"
   },
   {
    "duration": 9,
    "start_time": "2021-11-15T17:14:52.496Z"
   },
   {
    "duration": 4,
    "start_time": "2021-11-15T17:16:05.597Z"
   },
   {
    "duration": 32969,
    "start_time": "2021-11-15T17:16:07.989Z"
   },
   {
    "duration": 4,
    "start_time": "2021-11-15T17:24:11.449Z"
   },
   {
    "duration": 97,
    "start_time": "2021-11-15T17:24:12.065Z"
   },
   {
    "duration": 900,
    "start_time": "2021-11-15T17:24:23.473Z"
   },
   {
    "duration": 6,
    "start_time": "2021-11-15T17:24:44.234Z"
   },
   {
    "duration": 703,
    "start_time": "2021-11-15T17:24:47.097Z"
   },
   {
    "duration": 5,
    "start_time": "2021-11-15T17:25:00.434Z"
   },
   {
    "duration": 725,
    "start_time": "2021-11-15T17:25:02.761Z"
   },
   {
    "duration": 5,
    "start_time": "2021-11-15T17:25:32.202Z"
   },
   {
    "duration": 689,
    "start_time": "2021-11-15T17:25:34.226Z"
   },
   {
    "duration": 4,
    "start_time": "2021-11-15T17:26:08.659Z"
   },
   {
    "duration": 32504,
    "start_time": "2021-11-15T17:26:10.874Z"
   },
   {
    "duration": 286,
    "start_time": "2021-11-15T17:28:25.492Z"
   },
   {
    "duration": 304,
    "start_time": "2021-11-15T17:28:53.213Z"
   },
   {
    "duration": 270,
    "start_time": "2021-11-15T17:29:05.068Z"
   },
   {
    "duration": 17,
    "start_time": "2021-11-15T17:29:18.909Z"
   },
   {
    "duration": 347,
    "start_time": "2021-11-15T17:29:52.317Z"
   },
   {
    "duration": 16,
    "start_time": "2021-11-15T17:30:16.716Z"
   },
   {
    "duration": 18,
    "start_time": "2021-11-15T17:30:23.972Z"
   },
   {
    "duration": 423,
    "start_time": "2021-11-15T17:30:38.637Z"
   },
   {
    "duration": 269,
    "start_time": "2021-11-15T17:31:49.837Z"
   },
   {
    "duration": 5,
    "start_time": "2021-11-15T17:32:18.174Z"
   },
   {
    "duration": 573,
    "start_time": "2021-11-15T17:32:48.046Z"
   },
   {
    "duration": 618,
    "start_time": "2021-11-15T17:33:02.103Z"
   },
   {
    "duration": 1204,
    "start_time": "2021-11-15T17:35:43.940Z"
   },
   {
    "duration": 441,
    "start_time": "2021-11-15T17:35:45.146Z"
   },
   {
    "duration": 3,
    "start_time": "2021-11-15T17:35:45.589Z"
   },
   {
    "duration": 1429,
    "start_time": "2021-11-15T17:35:45.594Z"
   },
   {
    "duration": 1668,
    "start_time": "2021-11-15T17:35:47.024Z"
   },
   {
    "duration": 1476,
    "start_time": "2021-11-15T17:35:48.693Z"
   },
   {
    "duration": 1084,
    "start_time": "2021-11-15T17:35:50.171Z"
   },
   {
    "duration": 45,
    "start_time": "2021-11-15T17:35:51.258Z"
   },
   {
    "duration": 3,
    "start_time": "2021-11-15T17:35:51.306Z"
   },
   {
    "duration": 22,
    "start_time": "2021-11-15T17:35:51.311Z"
   },
   {
    "duration": 66,
    "start_time": "2021-11-15T17:35:51.335Z"
   },
   {
    "duration": 142,
    "start_time": "2021-11-15T17:35:51.403Z"
   },
   {
    "duration": 99,
    "start_time": "2021-11-15T17:35:51.547Z"
   },
   {
    "duration": 108,
    "start_time": "2021-11-15T17:35:51.649Z"
   },
   {
    "duration": 187,
    "start_time": "2021-11-15T17:35:51.759Z"
   },
   {
    "duration": 4,
    "start_time": "2021-11-15T17:35:51.948Z"
   },
   {
    "duration": 11,
    "start_time": "2021-11-15T17:35:51.954Z"
   },
   {
    "duration": 3,
    "start_time": "2021-11-15T17:35:51.967Z"
   },
   {
    "duration": 29,
    "start_time": "2021-11-15T17:35:51.971Z"
   },
   {
    "duration": 6,
    "start_time": "2021-11-15T17:35:52.003Z"
   },
   {
    "duration": 30839,
    "start_time": "2021-11-15T17:35:52.011Z"
   },
   {
    "duration": 497,
    "start_time": "2021-11-15T17:36:22.852Z"
   },
   {
    "duration": 9,
    "start_time": "2021-11-15T17:36:23.353Z"
   },
   {
    "duration": 11237,
    "start_time": "2021-11-15T17:39:02.769Z"
   },
   {
    "duration": 11528,
    "start_time": "2021-11-15T17:39:32.161Z"
   },
   {
    "duration": 11577,
    "start_time": "2021-11-15T17:40:22.498Z"
   },
   {
    "duration": 33518,
    "start_time": "2021-11-15T17:40:44.186Z"
   },
   {
    "duration": 4,
    "start_time": "2021-11-15T17:41:30.033Z"
   },
   {
    "duration": 8,
    "start_time": "2021-11-15T17:41:59.891Z"
   },
   {
    "duration": 1141,
    "start_time": "2021-11-15T17:42:40.297Z"
   },
   {
    "duration": 413,
    "start_time": "2021-11-15T17:42:41.440Z"
   },
   {
    "duration": 3,
    "start_time": "2021-11-15T17:42:41.855Z"
   },
   {
    "duration": 1388,
    "start_time": "2021-11-15T17:42:41.860Z"
   },
   {
    "duration": 1549,
    "start_time": "2021-11-15T17:42:43.250Z"
   },
   {
    "duration": 1368,
    "start_time": "2021-11-15T17:42:44.800Z"
   },
   {
    "duration": 1092,
    "start_time": "2021-11-15T17:42:46.170Z"
   },
   {
    "duration": 63,
    "start_time": "2021-11-15T17:42:47.265Z"
   },
   {
    "duration": 15,
    "start_time": "2021-11-15T17:42:47.330Z"
   },
   {
    "duration": 16,
    "start_time": "2021-11-15T17:42:47.347Z"
   },
   {
    "duration": 48,
    "start_time": "2021-11-15T17:42:47.364Z"
   },
   {
    "duration": 131,
    "start_time": "2021-11-15T17:42:47.414Z"
   },
   {
    "duration": 199,
    "start_time": "2021-11-15T17:42:47.547Z"
   },
   {
    "duration": 199,
    "start_time": "2021-11-15T17:42:47.748Z"
   },
   {
    "duration": 100,
    "start_time": "2021-11-15T17:42:47.949Z"
   },
   {
    "duration": 5,
    "start_time": "2021-11-15T17:42:48.051Z"
   },
   {
    "duration": 10,
    "start_time": "2021-11-15T17:42:48.058Z"
   },
   {
    "duration": 5,
    "start_time": "2021-11-15T17:42:48.070Z"
   },
   {
    "duration": 29,
    "start_time": "2021-11-15T17:42:48.077Z"
   },
   {
    "duration": 4,
    "start_time": "2021-11-15T17:42:48.108Z"
   },
   {
    "duration": 31520,
    "start_time": "2021-11-15T17:42:48.114Z"
   },
   {
    "duration": 8,
    "start_time": "2021-11-15T17:43:19.636Z"
   },
   {
    "duration": 510,
    "start_time": "2021-11-15T17:43:19.647Z"
   },
   {
    "duration": 8,
    "start_time": "2021-11-15T17:43:20.159Z"
   },
   {
    "duration": 1554,
    "start_time": "2021-11-15T19:59:16.947Z"
   },
   {
    "duration": 525,
    "start_time": "2021-11-15T19:59:20.327Z"
   },
   {
    "duration": 4,
    "start_time": "2021-11-15T19:59:21.812Z"
   },
   {
    "duration": 2295,
    "start_time": "2021-11-15T19:59:22.026Z"
   },
   {
    "duration": 2478,
    "start_time": "2021-11-15T19:59:24.323Z"
   },
   {
    "duration": 2755,
    "start_time": "2021-11-15T19:59:26.804Z"
   },
   {
    "duration": 1657,
    "start_time": "2021-11-15T19:59:29.561Z"
   },
   {
    "duration": 61,
    "start_time": "2021-11-15T19:59:43.959Z"
   },
   {
    "duration": 6,
    "start_time": "2021-11-15T19:59:44.125Z"
   },
   {
    "duration": 16,
    "start_time": "2021-11-15T19:59:45.370Z"
   },
   {
    "duration": 58,
    "start_time": "2021-11-15T19:59:47.918Z"
   },
   {
    "duration": 88,
    "start_time": "2021-11-15T19:59:53.601Z"
   },
   {
    "duration": 35,
    "start_time": "2021-11-15T19:59:53.960Z"
   },
   {
    "duration": 64,
    "start_time": "2021-11-15T19:59:54.423Z"
   },
   {
    "duration": 13,
    "start_time": "2021-11-15T19:59:54.754Z"
   },
   {
    "duration": 9,
    "start_time": "2021-11-15T20:01:02.742Z"
   },
   {
    "duration": 570,
    "start_time": "2021-11-15T20:01:03.179Z"
   },
   {
    "duration": 5,
    "start_time": "2021-11-15T20:01:17.698Z"
   },
   {
    "duration": 387,
    "start_time": "2021-11-15T20:01:19.543Z"
   },
   {
    "duration": 766,
    "start_time": "2021-11-15T20:01:32.224Z"
   },
   {
    "duration": 6,
    "start_time": "2021-11-15T20:01:57.431Z"
   },
   {
    "duration": 33,
    "start_time": "2021-11-15T20:01:58.920Z"
   },
   {
    "duration": 7,
    "start_time": "2021-11-15T20:02:03.398Z"
   },
   {
    "duration": 34,
    "start_time": "2021-11-15T20:02:05.511Z"
   },
   {
    "duration": 7,
    "start_time": "2021-11-15T20:02:22.723Z"
   },
   {
    "duration": 33,
    "start_time": "2021-11-15T20:02:22.997Z"
   },
   {
    "duration": 8,
    "start_time": "2021-11-15T20:02:28.702Z"
   },
   {
    "duration": 26,
    "start_time": "2021-11-15T20:02:29.707Z"
   },
   {
    "duration": 5,
    "start_time": "2021-11-15T20:02:39.119Z"
   },
   {
    "duration": 25,
    "start_time": "2021-11-15T20:02:39.595Z"
   },
   {
    "duration": 4,
    "start_time": "2021-11-15T20:05:18.783Z"
   },
   {
    "duration": 30,
    "start_time": "2021-11-15T20:05:19.596Z"
   },
   {
    "duration": 5,
    "start_time": "2021-11-15T20:05:41.707Z"
   },
   {
    "duration": 29,
    "start_time": "2021-11-15T20:05:41.997Z"
   },
   {
    "duration": 10,
    "start_time": "2021-11-15T20:05:48.658Z"
   },
   {
    "duration": 7,
    "start_time": "2021-11-15T20:05:52.218Z"
   },
   {
    "duration": 8,
    "start_time": "2021-11-15T20:06:02.405Z"
   },
   {
    "duration": 9,
    "start_time": "2021-11-15T20:06:16.368Z"
   },
   {
    "duration": 5,
    "start_time": "2021-11-15T20:06:33.049Z"
   },
   {
    "duration": 35,
    "start_time": "2021-11-15T20:06:33.624Z"
   },
   {
    "duration": 4,
    "start_time": "2021-11-15T20:06:46.615Z"
   },
   {
    "duration": 26,
    "start_time": "2021-11-15T20:06:47.939Z"
   },
   {
    "duration": 1570,
    "start_time": "2021-11-16T08:56:49.449Z"
   },
   {
    "duration": 4,
    "start_time": "2021-11-16T08:56:51.021Z"
   },
   {
    "duration": 554,
    "start_time": "2021-11-16T08:56:51.028Z"
   },
   {
    "duration": 4,
    "start_time": "2021-11-16T08:56:51.584Z"
   },
   {
    "duration": 2443,
    "start_time": "2021-11-16T08:56:51.591Z"
   },
   {
    "duration": 4119,
    "start_time": "2021-11-16T08:56:54.038Z"
   },
   {
    "duration": 2486,
    "start_time": "2021-11-16T08:56:58.160Z"
   },
   {
    "duration": 1705,
    "start_time": "2021-11-16T08:57:00.650Z"
   },
   {
    "duration": 72,
    "start_time": "2021-11-16T08:57:02.358Z"
   },
   {
    "duration": 7,
    "start_time": "2021-11-16T08:57:02.433Z"
   },
   {
    "duration": 51,
    "start_time": "2021-11-16T08:57:02.442Z"
   },
   {
    "duration": 102,
    "start_time": "2021-11-16T08:57:02.497Z"
   },
   {
    "duration": 181,
    "start_time": "2021-11-16T08:57:02.602Z"
   },
   {
    "duration": 101,
    "start_time": "2021-11-16T08:57:02.786Z"
   },
   {
    "duration": 110,
    "start_time": "2021-11-16T08:57:02.890Z"
   },
   {
    "duration": 100,
    "start_time": "2021-11-16T08:57:03.084Z"
   },
   {
    "duration": 9,
    "start_time": "2021-11-16T08:57:03.186Z"
   },
   {
    "duration": 12,
    "start_time": "2021-11-16T08:57:03.197Z"
   },
   {
    "duration": 9,
    "start_time": "2021-11-16T08:57:03.211Z"
   },
   {
    "duration": 825,
    "start_time": "2021-11-16T08:57:03.223Z"
   },
   {
    "duration": 1152,
    "start_time": "2021-11-16T08:57:02.899Z"
   },
   {
    "duration": 1150,
    "start_time": "2021-11-16T08:57:02.902Z"
   },
   {
    "duration": 1117,
    "start_time": "2021-11-16T08:57:02.936Z"
   },
   {
    "duration": 1110,
    "start_time": "2021-11-16T08:57:02.945Z"
   },
   {
    "duration": 10,
    "start_time": "2021-11-16T08:58:21.883Z"
   },
   {
    "duration": 15,
    "start_time": "2021-11-16T08:58:21.896Z"
   },
   {
    "duration": 560,
    "start_time": "2021-11-16T08:58:21.914Z"
   },
   {
    "duration": 5,
    "start_time": "2021-11-16T08:58:22.477Z"
   },
   {
    "duration": 2454,
    "start_time": "2021-11-16T08:58:22.484Z"
   },
   {
    "duration": 2845,
    "start_time": "2021-11-16T08:58:24.940Z"
   },
   {
    "duration": 2475,
    "start_time": "2021-11-16T08:58:27.787Z"
   },
   {
    "duration": 1618,
    "start_time": "2021-11-16T08:58:30.266Z"
   },
   {
    "duration": 76,
    "start_time": "2021-11-16T08:58:31.887Z"
   },
   {
    "duration": 6,
    "start_time": "2021-11-16T08:58:31.982Z"
   },
   {
    "duration": 21,
    "start_time": "2021-11-16T08:58:31.991Z"
   },
   {
    "duration": 99,
    "start_time": "2021-11-16T08:58:32.015Z"
   },
   {
    "duration": 78,
    "start_time": "2021-11-16T08:58:32.117Z"
   },
   {
    "duration": 200,
    "start_time": "2021-11-16T08:58:32.284Z"
   },
   {
    "duration": 102,
    "start_time": "2021-11-16T08:58:32.487Z"
   },
   {
    "duration": 100,
    "start_time": "2021-11-16T08:58:32.592Z"
   },
   {
    "duration": 18,
    "start_time": "2021-11-16T08:58:32.695Z"
   },
   {
    "duration": 26,
    "start_time": "2021-11-16T08:58:32.715Z"
   },
   {
    "duration": 5,
    "start_time": "2021-11-16T08:59:03.043Z"
   },
   {
    "duration": 49,
    "start_time": "2021-11-16T08:59:03.672Z"
   },
   {
    "duration": 10,
    "start_time": "2021-11-16T08:59:08.680Z"
   },
   {
    "duration": 28229,
    "start_time": "2021-11-16T08:59:11.264Z"
   },
   {
    "duration": 881,
    "start_time": "2021-11-16T08:59:39.496Z"
   },
   {
    "duration": 8,
    "start_time": "2021-11-16T09:13:47.466Z"
   },
   {
    "duration": 6,
    "start_time": "2021-11-16T09:14:22.215Z"
   },
   {
    "duration": 6,
    "start_time": "2021-11-16T09:17:02.228Z"
   },
   {
    "duration": 660,
    "start_time": "2021-11-16T09:17:02.921Z"
   },
   {
    "duration": 653,
    "start_time": "2021-11-16T09:19:23.754Z"
   },
   {
    "duration": 5,
    "start_time": "2021-11-16T09:20:52.723Z"
   },
   {
    "duration": 765,
    "start_time": "2021-11-16T09:20:55.114Z"
   },
   {
    "duration": 429,
    "start_time": "2021-11-16T09:21:19.180Z"
   },
   {
    "duration": 14,
    "start_time": "2021-11-16T09:21:48.756Z"
   },
   {
    "duration": 340,
    "start_time": "2021-11-16T09:22:19.692Z"
   },
   {
    "duration": 5,
    "start_time": "2021-11-16T09:22:22.700Z"
   },
   {
    "duration": 642,
    "start_time": "2021-11-16T09:22:23.244Z"
   },
   {
    "duration": 6,
    "start_time": "2021-11-16T09:23:30.406Z"
   },
   {
    "duration": 700,
    "start_time": "2021-11-16T09:23:31.715Z"
   },
   {
    "duration": 4,
    "start_time": "2021-11-16T09:24:10.685Z"
   },
   {
    "duration": 1181,
    "start_time": "2021-11-16T09:24:11.181Z"
   },
   {
    "duration": 1562,
    "start_time": "2021-11-16T09:24:22.652Z"
   },
   {
    "duration": 3,
    "start_time": "2021-11-16T09:24:24.217Z"
   },
   {
    "duration": 562,
    "start_time": "2021-11-16T09:24:24.223Z"
   },
   {
    "duration": 5,
    "start_time": "2021-11-16T09:24:24.789Z"
   },
   {
    "duration": 2542,
    "start_time": "2021-11-16T09:24:24.798Z"
   },
   {
    "duration": 2656,
    "start_time": "2021-11-16T09:24:27.343Z"
   },
   {
    "duration": 2445,
    "start_time": "2021-11-16T09:24:30.002Z"
   },
   {
    "duration": 1864,
    "start_time": "2021-11-16T09:24:32.451Z"
   },
   {
    "duration": 80,
    "start_time": "2021-11-16T09:24:34.319Z"
   },
   {
    "duration": 6,
    "start_time": "2021-11-16T09:24:34.402Z"
   },
   {
    "duration": 19,
    "start_time": "2021-11-16T09:24:34.411Z"
   },
   {
    "duration": 93,
    "start_time": "2021-11-16T09:24:34.432Z"
   },
   {
    "duration": 5,
    "start_time": "2021-11-16T09:24:34.527Z"
   },
   {
    "duration": 53,
    "start_time": "2021-11-16T09:24:34.534Z"
   },
   {
    "duration": 193,
    "start_time": "2021-11-16T09:24:34.592Z"
   },
   {
    "duration": 204,
    "start_time": "2021-11-16T09:24:34.789Z"
   },
   {
    "duration": 193,
    "start_time": "2021-11-16T09:24:34.996Z"
   },
   {
    "duration": 100,
    "start_time": "2021-11-16T09:24:35.192Z"
   },
   {
    "duration": 12,
    "start_time": "2021-11-16T09:24:35.295Z"
   },
   {
    "duration": 13,
    "start_time": "2021-11-16T09:24:35.310Z"
   },
   {
    "duration": 5,
    "start_time": "2021-11-16T09:24:35.325Z"
   },
   {
    "duration": 72,
    "start_time": "2021-11-16T09:24:35.332Z"
   },
   {
    "duration": 7,
    "start_time": "2021-11-16T09:24:35.410Z"
   },
   {
    "duration": 16881,
    "start_time": "2021-11-16T09:24:35.420Z"
   },
   {
    "duration": 730,
    "start_time": "2021-11-16T09:24:52.304Z"
   },
   {
    "duration": 16,
    "start_time": "2021-11-16T09:24:53.038Z"
   },
   {
    "duration": 21,
    "start_time": "2021-11-16T09:25:46.891Z"
   },
   {
    "duration": 5,
    "start_time": "2021-11-16T09:26:33.584Z"
   },
   {
    "duration": 473,
    "start_time": "2021-11-16T09:26:34.118Z"
   },
   {
    "duration": 12,
    "start_time": "2021-11-16T09:26:45.391Z"
   },
   {
    "duration": 4,
    "start_time": "2021-11-16T09:26:51.928Z"
   },
   {
    "duration": 15,
    "start_time": "2021-11-16T09:26:52.463Z"
   },
   {
    "duration": 9,
    "start_time": "2021-11-16T09:26:59.159Z"
   },
   {
    "duration": 114,
    "start_time": "2021-11-16T09:26:59.768Z"
   },
   {
    "duration": 9,
    "start_time": "2021-11-16T09:27:06.152Z"
   },
   {
    "duration": 20,
    "start_time": "2021-11-16T09:27:06.591Z"
   },
   {
    "duration": 6,
    "start_time": "2021-11-16T09:27:11.130Z"
   },
   {
    "duration": 99,
    "start_time": "2021-11-16T09:27:11.583Z"
   },
   {
    "duration": 23,
    "start_time": "2021-11-16T09:28:23.001Z"
   },
   {
    "duration": 154,
    "start_time": "2021-11-16T09:32:41.452Z"
   },
   {
    "duration": 7,
    "start_time": "2021-11-16T09:32:48.588Z"
   },
   {
    "duration": 115,
    "start_time": "2021-11-16T09:38:16.633Z"
   },
   {
    "duration": 106,
    "start_time": "2021-11-16T09:38:23.543Z"
   },
   {
    "duration": 554,
    "start_time": "2021-11-16T09:38:44.015Z"
   },
   {
    "duration": 599,
    "start_time": "2021-11-16T09:39:11.887Z"
   },
   {
    "duration": 563,
    "start_time": "2021-11-16T09:40:56.120Z"
   },
   {
    "duration": 252,
    "start_time": "2021-11-16T09:50:11.941Z"
   },
   {
    "duration": 13,
    "start_time": "2021-11-16T09:50:16.117Z"
   },
   {
    "duration": 7,
    "start_time": "2021-11-16T10:16:23.555Z"
   },
   {
    "duration": 109,
    "start_time": "2021-11-16T10:16:26.651Z"
   },
   {
    "duration": 7691,
    "start_time": "2021-11-16T10:16:48.492Z"
   },
   {
    "duration": 16775,
    "start_time": "2021-11-16T10:18:12.628Z"
   },
   {
    "duration": 16879,
    "start_time": "2021-11-16T10:18:43.603Z"
   },
   {
    "duration": 1502,
    "start_time": "2021-11-16T10:23:02.809Z"
   },
   {
    "duration": 4,
    "start_time": "2021-11-16T10:23:04.314Z"
   },
   {
    "duration": 673,
    "start_time": "2021-11-16T10:23:04.320Z"
   },
   {
    "duration": 5,
    "start_time": "2021-11-16T10:23:04.996Z"
   },
   {
    "duration": 2469,
    "start_time": "2021-11-16T10:23:05.004Z"
   },
   {
    "duration": 2620,
    "start_time": "2021-11-16T10:23:07.482Z"
   },
   {
    "duration": 2345,
    "start_time": "2021-11-16T10:23:10.105Z"
   },
   {
    "duration": 1666,
    "start_time": "2021-11-16T10:23:12.454Z"
   },
   {
    "duration": 74,
    "start_time": "2021-11-16T10:23:14.124Z"
   },
   {
    "duration": 5,
    "start_time": "2021-11-16T10:23:14.201Z"
   },
   {
    "duration": 18,
    "start_time": "2021-11-16T10:23:14.209Z"
   },
   {
    "duration": 100,
    "start_time": "2021-11-16T10:23:14.229Z"
   },
   {
    "duration": 7,
    "start_time": "2021-11-16T10:23:14.331Z"
   },
   {
    "duration": 542,
    "start_time": "2021-11-16T10:23:14.341Z"
   },
   {
    "duration": 236,
    "start_time": "2021-11-16T10:23:14.886Z"
   },
   {
    "duration": 13,
    "start_time": "2021-11-16T10:23:15.124Z"
   },
   {
    "duration": 11,
    "start_time": "2021-11-16T10:23:15.140Z"
   },
   {
    "duration": 5,
    "start_time": "2021-11-16T10:23:15.153Z"
   },
   {
    "duration": 562,
    "start_time": "2021-11-16T10:23:15.160Z"
   },
   {
    "duration": 1226,
    "start_time": "2021-11-16T10:23:14.499Z"
   },
   {
    "duration": 1224,
    "start_time": "2021-11-16T10:23:14.502Z"
   },
   {
    "duration": 1223,
    "start_time": "2021-11-16T10:23:14.505Z"
   },
   {
    "duration": 1220,
    "start_time": "2021-11-16T10:23:14.509Z"
   },
   {
    "duration": 5,
    "start_time": "2021-11-16T10:25:46.453Z"
   },
   {
    "duration": 342,
    "start_time": "2021-11-16T10:25:47.589Z"
   },
   {
    "duration": 334,
    "start_time": "2021-11-16T10:26:42.677Z"
   },
   {
    "duration": 7,
    "start_time": "2021-11-16T10:28:14.205Z"
   },
   {
    "duration": 235,
    "start_time": "2021-11-16T10:29:05.047Z"
   },
   {
    "duration": 13,
    "start_time": "2021-11-16T10:29:06.007Z"
   },
   {
    "duration": 5,
    "start_time": "2021-11-16T10:29:08.509Z"
   },
   {
    "duration": 10,
    "start_time": "2021-11-16T10:29:09.414Z"
   },
   {
    "duration": 5,
    "start_time": "2021-11-16T10:29:11.469Z"
   },
   {
    "duration": 445,
    "start_time": "2021-11-16T10:29:11.950Z"
   },
   {
    "duration": 6,
    "start_time": "2021-11-16T10:30:13.984Z"
   },
   {
    "duration": 543,
    "start_time": "2021-11-16T10:31:23.937Z"
   },
   {
    "duration": 5,
    "start_time": "2021-11-16T10:32:43.145Z"
   },
   {
    "duration": 5,
    "start_time": "2021-11-16T10:32:48.088Z"
   },
   {
    "duration": 7,
    "start_time": "2021-11-16T10:32:57.977Z"
   },
   {
    "duration": 6,
    "start_time": "2021-11-16T10:33:43.080Z"
   },
   {
    "duration": 269,
    "start_time": "2021-11-16T10:34:08.624Z"
   },
   {
    "duration": 6,
    "start_time": "2021-11-16T10:34:09.953Z"
   },
   {
    "duration": 324,
    "start_time": "2021-11-16T10:36:05.459Z"
   },
   {
    "duration": 476,
    "start_time": "2021-11-16T10:36:22.642Z"
   },
   {
    "duration": 9,
    "start_time": "2021-11-16T11:34:17.520Z"
   },
   {
    "duration": 7,
    "start_time": "2021-11-16T11:34:49.359Z"
   },
   {
    "duration": 113,
    "start_time": "2021-11-16T11:35:19.384Z"
   },
   {
    "duration": 8,
    "start_time": "2021-11-16T11:35:24.776Z"
   },
   {
    "duration": 318,
    "start_time": "2021-11-16T11:35:30.944Z"
   },
   {
    "duration": 9,
    "start_time": "2021-11-16T11:35:35.519Z"
   },
   {
    "duration": 8,
    "start_time": "2021-11-16T11:35:41.951Z"
   },
   {
    "duration": 439,
    "start_time": "2021-11-16T11:40:29.666Z"
   },
   {
    "duration": 424,
    "start_time": "2021-11-16T11:40:58.732Z"
   },
   {
    "duration": 169,
    "start_time": "2021-11-16T11:42:13.715Z"
   },
   {
    "duration": 109,
    "start_time": "2021-11-16T11:42:21.691Z"
   },
   {
    "duration": 230,
    "start_time": "2021-11-16T11:42:29.860Z"
   },
   {
    "duration": 9,
    "start_time": "2021-11-16T11:42:31.299Z"
   },
   {
    "duration": 8,
    "start_time": "2021-11-16T11:42:40.884Z"
   },
   {
    "duration": 42,
    "start_time": "2021-11-16T11:43:49.260Z"
   },
   {
    "duration": 1556,
    "start_time": "2021-11-16T11:44:04.481Z"
   },
   {
    "duration": 4,
    "start_time": "2021-11-16T11:44:06.039Z"
   },
   {
    "duration": 567,
    "start_time": "2021-11-16T11:44:06.046Z"
   },
   {
    "duration": 5,
    "start_time": "2021-11-16T11:44:06.616Z"
   },
   {
    "duration": 3102,
    "start_time": "2021-11-16T11:44:06.623Z"
   },
   {
    "duration": 3561,
    "start_time": "2021-11-16T11:44:09.728Z"
   },
   {
    "duration": 2599,
    "start_time": "2021-11-16T11:44:13.292Z"
   },
   {
    "duration": 1969,
    "start_time": "2021-11-16T11:44:15.896Z"
   },
   {
    "duration": 67,
    "start_time": "2021-11-16T11:44:17.868Z"
   },
   {
    "duration": 4,
    "start_time": "2021-11-16T11:44:17.938Z"
   },
   {
    "duration": 48,
    "start_time": "2021-11-16T11:44:17.944Z"
   },
   {
    "duration": 62,
    "start_time": "2021-11-16T11:44:17.996Z"
   },
   {
    "duration": 21,
    "start_time": "2021-11-16T11:44:18.061Z"
   },
   {
    "duration": 297,
    "start_time": "2021-11-16T11:44:18.086Z"
   },
   {
    "duration": 95,
    "start_time": "2021-11-16T11:44:18.388Z"
   },
   {
    "duration": 17,
    "start_time": "2021-11-16T11:44:18.486Z"
   },
   {
    "duration": 6,
    "start_time": "2021-11-16T11:44:18.506Z"
   },
   {
    "duration": 14,
    "start_time": "2021-11-16T11:44:18.514Z"
   },
   {
    "duration": 5,
    "start_time": "2021-11-16T11:44:18.530Z"
   },
   {
    "duration": 83,
    "start_time": "2021-11-16T11:44:18.537Z"
   },
   {
    "duration": 517,
    "start_time": "2021-11-16T11:44:18.622Z"
   },
   {
    "duration": 1352,
    "start_time": "2021-11-16T11:44:17.790Z"
   },
   {
    "duration": 1349,
    "start_time": "2021-11-16T11:44:17.794Z"
   },
   {
    "duration": 1347,
    "start_time": "2021-11-16T11:44:17.798Z"
   },
   {
    "duration": 1344,
    "start_time": "2021-11-16T11:44:17.802Z"
   },
   {
    "duration": 368,
    "start_time": "2021-11-16T11:46:36.589Z"
   },
   {
    "duration": 334,
    "start_time": "2021-11-16T11:46:43.486Z"
   },
   {
    "duration": 549,
    "start_time": "2021-11-16T11:46:55.972Z"
   },
   {
    "duration": 17,
    "start_time": "2021-11-16T11:47:16.525Z"
   },
   {
    "duration": 33,
    "start_time": "2021-11-16T11:47:44.443Z"
   },
   {
    "duration": 23,
    "start_time": "2021-11-16T11:47:44.479Z"
   },
   {
    "duration": 5,
    "start_time": "2021-11-16T11:47:44.506Z"
   },
   {
    "duration": 18422,
    "start_time": "2021-11-16T11:47:44.514Z"
   },
   {
    "duration": 1299,
    "start_time": "2021-11-16T11:48:02.939Z"
   },
   {
    "duration": 12,
    "start_time": "2021-11-16T11:48:04.242Z"
   },
   {
    "duration": 24,
    "start_time": "2021-11-16T12:26:33.009Z"
   },
   {
    "duration": 24,
    "start_time": "2021-11-16T12:27:34.530Z"
   },
   {
    "duration": 17,
    "start_time": "2021-11-16T12:41:38.826Z"
   },
   {
    "duration": 312,
    "start_time": "2021-11-16T12:44:04.432Z"
   },
   {
    "duration": 314,
    "start_time": "2021-11-16T12:44:11.338Z"
   },
   {
    "duration": 20,
    "start_time": "2021-11-16T12:44:20.099Z"
   },
   {
    "duration": 17,
    "start_time": "2021-11-16T12:44:44.846Z"
   },
   {
    "duration": 17,
    "start_time": "2021-11-16T12:45:17.035Z"
   },
   {
    "duration": 17,
    "start_time": "2021-11-16T12:45:21.914Z"
   },
   {
    "duration": 16,
    "start_time": "2021-11-16T12:46:01.148Z"
   },
   {
    "duration": 1513,
    "start_time": "2021-11-16T13:03:43.124Z"
   },
   {
    "duration": 4,
    "start_time": "2021-11-16T13:03:44.639Z"
   },
   {
    "duration": 510,
    "start_time": "2021-11-16T13:03:44.646Z"
   },
   {
    "duration": 4,
    "start_time": "2021-11-16T13:03:45.159Z"
   },
   {
    "duration": 2277,
    "start_time": "2021-11-16T13:03:45.165Z"
   },
   {
    "duration": 2804,
    "start_time": "2021-11-16T13:03:47.444Z"
   },
   {
    "duration": 3604,
    "start_time": "2021-11-16T13:03:50.250Z"
   },
   {
    "duration": 2388,
    "start_time": "2021-11-16T13:03:53.859Z"
   },
   {
    "duration": 99,
    "start_time": "2021-11-16T13:03:56.251Z"
   },
   {
    "duration": 6,
    "start_time": "2021-11-16T13:03:56.353Z"
   },
   {
    "duration": 35,
    "start_time": "2021-11-16T13:03:56.361Z"
   },
   {
    "duration": 62,
    "start_time": "2021-11-16T13:03:56.399Z"
   },
   {
    "duration": 23,
    "start_time": "2021-11-16T13:03:56.463Z"
   },
   {
    "duration": 296,
    "start_time": "2021-11-16T13:03:56.489Z"
   },
   {
    "duration": 96,
    "start_time": "2021-11-16T13:03:56.789Z"
   },
   {
    "duration": 16,
    "start_time": "2021-11-16T13:03:56.888Z"
   },
   {
    "duration": 10,
    "start_time": "2021-11-16T13:03:56.906Z"
   },
   {
    "duration": 12,
    "start_time": "2021-11-16T13:03:56.919Z"
   },
   {
    "duration": 52,
    "start_time": "2021-11-16T13:03:56.934Z"
   },
   {
    "duration": 39,
    "start_time": "2021-11-16T13:03:56.989Z"
   },
   {
    "duration": 18,
    "start_time": "2021-11-16T13:03:57.031Z"
   },
   {
    "duration": 16,
    "start_time": "2021-11-16T13:03:57.083Z"
   },
   {
    "duration": 6,
    "start_time": "2021-11-16T13:03:57.103Z"
   },
   {
    "duration": 441,
    "start_time": "2021-11-16T13:03:57.112Z"
   },
   {
    "duration": 1374,
    "start_time": "2021-11-16T13:03:56.182Z"
   },
   {
    "duration": 1370,
    "start_time": "2021-11-16T13:03:56.187Z"
   },
   {
    "duration": 1368,
    "start_time": "2021-11-16T13:03:56.190Z"
   },
   {
    "duration": 544,
    "start_time": "2021-11-16T13:04:31.021Z"
   },
   {
    "duration": 16459,
    "start_time": "2021-11-16T13:05:13.917Z"
   },
   {
    "duration": 765,
    "start_time": "2021-11-16T13:05:30.383Z"
   },
   {
    "duration": 425,
    "start_time": "2021-11-16T13:05:37.070Z"
   },
   {
    "duration": 26428,
    "start_time": "2021-11-16T13:06:00.582Z"
   },
   {
    "duration": 16,
    "start_time": "2021-11-16T13:06:27.014Z"
   },
   {
    "duration": 10,
    "start_time": "2021-11-16T13:07:28.574Z"
   },
   {
    "duration": 21596,
    "start_time": "2021-11-16T13:07:48.679Z"
   },
   {
    "duration": 102,
    "start_time": "2021-11-16T13:08:16.871Z"
   },
   {
    "duration": 118,
    "start_time": "2021-11-16T13:08:48.798Z"
   },
   {
    "duration": 16573,
    "start_time": "2021-11-16T13:09:07.232Z"
   },
   {
    "duration": 12,
    "start_time": "2021-11-16T13:09:23.807Z"
   },
   {
    "duration": 17159,
    "start_time": "2021-11-16T13:09:51.615Z"
   },
   {
    "duration": 1559,
    "start_time": "2021-11-16T13:11:10.547Z"
   },
   {
    "duration": 4,
    "start_time": "2021-11-16T13:11:12.109Z"
   },
   {
    "duration": 525,
    "start_time": "2021-11-16T13:11:12.116Z"
   },
   {
    "duration": 5,
    "start_time": "2021-11-16T13:11:12.643Z"
   },
   {
    "duration": 2277,
    "start_time": "2021-11-16T13:11:12.650Z"
   },
   {
    "duration": 2504,
    "start_time": "2021-11-16T13:11:14.930Z"
   },
   {
    "duration": 2316,
    "start_time": "2021-11-16T13:11:17.437Z"
   },
   {
    "duration": 1627,
    "start_time": "2021-11-16T13:11:19.757Z"
   },
   {
    "duration": 63,
    "start_time": "2021-11-16T13:11:21.387Z"
   },
   {
    "duration": 6,
    "start_time": "2021-11-16T13:11:21.453Z"
   },
   {
    "duration": 17,
    "start_time": "2021-11-16T13:11:21.481Z"
   },
   {
    "duration": 83,
    "start_time": "2021-11-16T13:11:21.501Z"
   },
   {
    "duration": 6,
    "start_time": "2021-11-16T13:11:21.587Z"
   },
   {
    "duration": 195,
    "start_time": "2021-11-16T13:11:21.595Z"
   },
   {
    "duration": 189,
    "start_time": "2021-11-16T13:11:21.794Z"
   },
   {
    "duration": 12,
    "start_time": "2021-11-16T13:11:21.986Z"
   },
   {
    "duration": 11,
    "start_time": "2021-11-16T13:11:22.001Z"
   },
   {
    "duration": 13,
    "start_time": "2021-11-16T13:11:22.015Z"
   },
   {
    "duration": 6,
    "start_time": "2021-11-16T13:11:22.031Z"
   },
   {
    "duration": 73,
    "start_time": "2021-11-16T13:11:22.040Z"
   },
   {
    "duration": 18,
    "start_time": "2021-11-16T13:11:22.116Z"
   },
   {
    "duration": 51,
    "start_time": "2021-11-16T13:11:22.137Z"
   },
   {
    "duration": 6,
    "start_time": "2021-11-16T13:11:22.195Z"
   },
   {
    "duration": 16645,
    "start_time": "2021-11-16T13:11:22.205Z"
   },
   {
    "duration": 940,
    "start_time": "2021-11-16T13:11:38.854Z"
   },
   {
    "duration": 26666,
    "start_time": "2021-11-16T13:11:39.798Z"
   },
   {
    "duration": 18,
    "start_time": "2021-11-16T13:12:06.467Z"
   },
   {
    "duration": 26135,
    "start_time": "2021-11-16T13:12:36.643Z"
   },
   {
    "duration": 14,
    "start_time": "2021-11-16T13:13:02.783Z"
   },
   {
    "duration": 1668,
    "start_time": "2021-11-16T13:13:48.741Z"
   },
   {
    "duration": 5,
    "start_time": "2021-11-16T13:13:50.412Z"
   },
   {
    "duration": 545,
    "start_time": "2021-11-16T13:13:50.420Z"
   },
   {
    "duration": 5,
    "start_time": "2021-11-16T13:13:50.968Z"
   },
   {
    "duration": 2459,
    "start_time": "2021-11-16T13:13:50.983Z"
   },
   {
    "duration": 3889,
    "start_time": "2021-11-16T13:13:53.445Z"
   },
   {
    "duration": 3773,
    "start_time": "2021-11-16T13:13:57.337Z"
   },
   {
    "duration": 2333,
    "start_time": "2021-11-16T13:14:01.116Z"
   },
   {
    "duration": 75,
    "start_time": "2021-11-16T13:14:03.454Z"
   },
   {
    "duration": 7,
    "start_time": "2021-11-16T13:14:03.531Z"
   },
   {
    "duration": 40,
    "start_time": "2021-11-16T13:14:03.542Z"
   },
   {
    "duration": 81,
    "start_time": "2021-11-16T13:14:03.586Z"
   },
   {
    "duration": 9,
    "start_time": "2021-11-16T13:14:03.683Z"
   },
   {
    "duration": 587,
    "start_time": "2021-11-16T13:14:03.695Z"
   },
   {
    "duration": 14,
    "start_time": "2021-11-16T13:14:04.285Z"
   },
   {
    "duration": 31,
    "start_time": "2021-11-16T13:14:04.302Z"
   },
   {
    "duration": 11,
    "start_time": "2021-11-16T13:14:04.336Z"
   },
   {
    "duration": 35,
    "start_time": "2021-11-16T13:14:04.350Z"
   },
   {
    "duration": 9,
    "start_time": "2021-11-16T13:14:04.388Z"
   },
   {
    "duration": 35,
    "start_time": "2021-11-16T13:14:04.400Z"
   },
   {
    "duration": 48,
    "start_time": "2021-11-16T13:14:04.438Z"
   },
   {
    "duration": 19,
    "start_time": "2021-11-16T13:14:04.489Z"
   },
   {
    "duration": 7,
    "start_time": "2021-11-16T13:14:04.512Z"
   },
   {
    "duration": 16960,
    "start_time": "2021-11-16T13:14:04.522Z"
   },
   {
    "duration": 999,
    "start_time": "2021-11-16T13:14:21.484Z"
   },
   {
    "duration": 1697,
    "start_time": "2021-11-16T13:14:22.486Z"
   },
   {
    "duration": 1330,
    "start_time": "2021-11-16T13:14:22.856Z"
   },
   {
    "duration": 18078,
    "start_time": "2021-11-16T13:19:19.792Z"
   },
   {
    "duration": 16,
    "start_time": "2021-11-16T13:19:37.873Z"
   },
   {
    "duration": 6468,
    "start_time": "2021-11-16T13:20:07.813Z"
   },
   {
    "duration": 1384,
    "start_time": "2021-11-16T13:20:12.900Z"
   },
   {
    "duration": 1561,
    "start_time": "2021-11-16T13:20:28.874Z"
   },
   {
    "duration": 5,
    "start_time": "2021-11-16T13:20:30.438Z"
   },
   {
    "duration": 840,
    "start_time": "2021-11-16T13:20:30.446Z"
   },
   {
    "duration": 7,
    "start_time": "2021-11-16T13:20:31.289Z"
   },
   {
    "duration": 2594,
    "start_time": "2021-11-16T13:20:31.299Z"
   },
   {
    "duration": 2654,
    "start_time": "2021-11-16T13:20:33.895Z"
   },
   {
    "duration": 2426,
    "start_time": "2021-11-16T13:20:36.552Z"
   },
   {
    "duration": 1865,
    "start_time": "2021-11-16T13:20:38.984Z"
   },
   {
    "duration": 71,
    "start_time": "2021-11-16T13:20:40.852Z"
   },
   {
    "duration": 6,
    "start_time": "2021-11-16T13:20:40.925Z"
   },
   {
    "duration": 20,
    "start_time": "2021-11-16T13:20:40.933Z"
   },
   {
    "duration": 87,
    "start_time": "2021-11-16T13:20:40.955Z"
   },
   {
    "duration": 6,
    "start_time": "2021-11-16T13:20:41.045Z"
   },
   {
    "duration": 427,
    "start_time": "2021-11-16T13:20:41.054Z"
   },
   {
    "duration": 100,
    "start_time": "2021-11-16T13:20:41.488Z"
   },
   {
    "duration": 13,
    "start_time": "2021-11-16T13:20:41.591Z"
   },
   {
    "duration": 15,
    "start_time": "2021-11-16T13:20:41.606Z"
   },
   {
    "duration": 12,
    "start_time": "2021-11-16T13:20:41.624Z"
   },
   {
    "duration": 4,
    "start_time": "2021-11-16T13:20:41.683Z"
   },
   {
    "duration": 36,
    "start_time": "2021-11-16T13:20:41.690Z"
   },
   {
    "duration": 16,
    "start_time": "2021-11-16T13:20:41.728Z"
   },
   {
    "duration": 16,
    "start_time": "2021-11-16T13:20:41.746Z"
   },
   {
    "duration": 16,
    "start_time": "2021-11-16T13:20:41.766Z"
   },
   {
    "duration": 19397,
    "start_time": "2021-11-16T13:20:41.784Z"
   },
   {
    "duration": 738,
    "start_time": "2021-11-16T13:21:01.183Z"
   },
   {
    "duration": 16379,
    "start_time": "2021-11-16T13:21:01.924Z"
   },
   {
    "duration": 10,
    "start_time": "2021-11-16T13:21:18.306Z"
   },
   {
    "duration": 16729,
    "start_time": "2021-11-16T13:21:59.455Z"
   },
   {
    "duration": 9,
    "start_time": "2021-11-16T13:22:16.187Z"
   },
   {
    "duration": 11,
    "start_time": "2021-11-16T13:24:43.459Z"
   },
   {
    "duration": 71,
    "start_time": "2021-11-16T13:26:07.185Z"
   },
   {
    "duration": 69,
    "start_time": "2021-11-16T13:26:25.489Z"
   },
   {
    "duration": 21,
    "start_time": "2021-11-16T13:31:11.900Z"
   },
   {
    "duration": 8,
    "start_time": "2021-11-16T13:31:51.859Z"
   },
   {
    "duration": 16,
    "start_time": "2021-11-16T13:34:59.619Z"
   },
   {
    "duration": 10,
    "start_time": "2021-11-16T13:35:00.806Z"
   },
   {
    "duration": 9,
    "start_time": "2021-11-16T13:35:24.312Z"
   },
   {
    "duration": 115,
    "start_time": "2021-11-16T13:37:15.527Z"
   },
   {
    "duration": 116,
    "start_time": "2021-11-16T13:37:24.385Z"
   },
   {
    "duration": 492,
    "start_time": "2021-11-16T13:37:51.471Z"
   },
   {
    "duration": 337,
    "start_time": "2021-11-16T13:38:06.928Z"
   },
   {
    "duration": 346,
    "start_time": "2021-11-16T13:38:15.384Z"
   },
   {
    "duration": 326,
    "start_time": "2021-11-16T13:38:26.896Z"
   },
   {
    "duration": 18,
    "start_time": "2021-11-16T13:38:43.171Z"
   },
   {
    "duration": 19,
    "start_time": "2021-11-16T13:39:16.500Z"
   },
   {
    "duration": 18,
    "start_time": "2021-11-16T13:39:51.793Z"
   },
   {
    "duration": 68,
    "start_time": "2021-11-16T13:40:14.800Z"
   },
   {
    "duration": 16,
    "start_time": "2021-11-16T13:40:36.665Z"
   },
   {
    "duration": 83,
    "start_time": "2021-11-16T13:40:57.856Z"
   },
   {
    "duration": 22,
    "start_time": "2021-11-16T13:41:05.481Z"
   },
   {
    "duration": 13,
    "start_time": "2021-11-16T13:41:41.490Z"
   },
   {
    "duration": 10,
    "start_time": "2021-11-16T13:41:46.185Z"
   },
   {
    "duration": 17,
    "start_time": "2021-11-16T13:46:04.708Z"
   },
   {
    "duration": 16,
    "start_time": "2021-11-16T13:46:34.956Z"
   },
   {
    "duration": 21,
    "start_time": "2021-11-16T13:47:00.192Z"
   },
   {
    "duration": 16,
    "start_time": "2021-11-16T13:50:45.558Z"
   },
   {
    "duration": 12,
    "start_time": "2021-11-16T13:53:06.799Z"
   },
   {
    "duration": 6,
    "start_time": "2021-11-16T13:53:07.247Z"
   },
   {
    "duration": 12,
    "start_time": "2021-11-16T13:53:37.856Z"
   },
   {
    "duration": 7,
    "start_time": "2021-11-16T13:53:47.770Z"
   },
   {
    "duration": 6,
    "start_time": "2021-11-16T13:54:08.872Z"
   },
   {
    "duration": 13,
    "start_time": "2021-11-16T13:54:34.352Z"
   },
   {
    "duration": 10,
    "start_time": "2021-11-16T13:54:34.600Z"
   },
   {
    "duration": 24,
    "start_time": "2021-11-16T13:55:07.481Z"
   },
   {
    "duration": 24,
    "start_time": "2021-11-16T13:55:25.689Z"
   },
   {
    "duration": 116,
    "start_time": "2021-11-16T13:55:49.041Z"
   },
   {
    "duration": 12,
    "start_time": "2021-11-16T13:56:19.225Z"
   },
   {
    "duration": 7,
    "start_time": "2021-11-16T13:56:30.394Z"
   },
   {
    "duration": 28,
    "start_time": "2021-11-16T13:57:21.057Z"
   },
   {
    "duration": 11,
    "start_time": "2021-11-16T13:57:23.123Z"
   },
   {
    "duration": 19,
    "start_time": "2021-11-16T13:57:34.218Z"
   },
   {
    "duration": 27,
    "start_time": "2021-11-16T14:59:51.163Z"
   },
   {
    "duration": 19,
    "start_time": "2021-11-16T15:03:32.757Z"
   },
   {
    "duration": 16,
    "start_time": "2021-11-16T15:03:46.148Z"
   },
   {
    "duration": 15,
    "start_time": "2021-11-16T15:05:03.399Z"
   },
   {
    "duration": 16,
    "start_time": "2021-11-16T15:05:17.206Z"
   },
   {
    "duration": 113,
    "start_time": "2021-11-16T15:07:28.696Z"
   },
   {
    "duration": 8,
    "start_time": "2021-11-16T15:07:51.255Z"
   },
   {
    "duration": 9,
    "start_time": "2021-11-16T15:07:57.062Z"
   },
   {
    "duration": 316,
    "start_time": "2021-11-16T15:09:47.152Z"
   },
   {
    "duration": 315,
    "start_time": "2021-11-16T15:10:00.760Z"
   },
   {
    "duration": 312,
    "start_time": "2021-11-16T15:11:01.272Z"
   },
   {
    "duration": 13,
    "start_time": "2021-11-16T15:11:11.873Z"
   },
   {
    "duration": 322,
    "start_time": "2021-11-16T15:11:22.040Z"
   },
   {
    "duration": 9,
    "start_time": "2021-11-16T15:11:33.449Z"
   },
   {
    "duration": 14,
    "start_time": "2021-11-16T15:13:06.987Z"
   },
   {
    "duration": 14,
    "start_time": "2021-11-16T15:13:12.587Z"
   },
   {
    "duration": 12,
    "start_time": "2021-11-16T15:15:38.906Z"
   },
   {
    "duration": 13,
    "start_time": "2021-11-16T15:16:11.820Z"
   },
   {
    "duration": 20,
    "start_time": "2021-11-16T15:16:46.699Z"
   },
   {
    "duration": 25,
    "start_time": "2021-11-16T15:17:37.780Z"
   },
   {
    "duration": 13,
    "start_time": "2021-11-16T15:18:49.029Z"
   },
   {
    "duration": 17,
    "start_time": "2021-11-16T15:19:33.709Z"
   },
   {
    "duration": 125,
    "start_time": "2021-11-16T15:19:49.021Z"
   },
   {
    "duration": 27,
    "start_time": "2021-11-16T15:19:52.892Z"
   },
   {
    "duration": 16,
    "start_time": "2021-11-16T15:20:04.760Z"
   },
   {
    "duration": 22,
    "start_time": "2021-11-16T15:21:57.888Z"
   },
   {
    "duration": 25,
    "start_time": "2021-11-16T15:22:08.774Z"
   },
   {
    "duration": 17,
    "start_time": "2021-11-16T15:22:40.462Z"
   },
   {
    "duration": 17,
    "start_time": "2021-11-16T15:22:56.455Z"
   },
   {
    "duration": 10,
    "start_time": "2021-11-16T15:24:47.632Z"
   },
   {
    "duration": 15,
    "start_time": "2021-11-16T15:24:53.559Z"
   },
   {
    "duration": 17,
    "start_time": "2021-11-16T15:26:10.033Z"
   },
   {
    "duration": 18,
    "start_time": "2021-11-16T15:33:45.052Z"
   },
   {
    "duration": 20,
    "start_time": "2021-11-16T15:34:03.626Z"
   },
   {
    "duration": 16,
    "start_time": "2021-11-16T15:34:08.925Z"
   },
   {
    "duration": 15,
    "start_time": "2021-11-16T15:34:15.613Z"
   },
   {
    "duration": 16,
    "start_time": "2021-11-16T15:34:40.022Z"
   },
   {
    "duration": 23,
    "start_time": "2021-11-16T15:35:14.887Z"
   },
   {
    "duration": 26,
    "start_time": "2021-11-16T15:36:17.782Z"
   },
   {
    "duration": 16,
    "start_time": "2021-11-16T15:37:57.063Z"
   },
   {
    "duration": 17,
    "start_time": "2021-11-16T15:39:17.527Z"
   },
   {
    "duration": 16,
    "start_time": "2021-11-16T15:40:18.184Z"
   },
   {
    "duration": 363,
    "start_time": "2021-11-16T15:41:10.361Z"
   },
   {
    "duration": 18,
    "start_time": "2021-11-16T15:41:25.281Z"
   },
   {
    "duration": 244,
    "start_time": "2021-11-16T15:42:28.258Z"
   },
   {
    "duration": 15,
    "start_time": "2021-11-16T15:42:35.506Z"
   },
   {
    "duration": 15,
    "start_time": "2021-11-16T15:42:54.106Z"
   },
   {
    "duration": 21,
    "start_time": "2021-11-16T15:43:06.530Z"
   },
   {
    "duration": 15,
    "start_time": "2021-11-16T15:44:00.034Z"
   },
   {
    "duration": 19,
    "start_time": "2021-11-16T15:44:00.803Z"
   },
   {
    "duration": 5,
    "start_time": "2021-11-16T15:51:04.173Z"
   },
   {
    "duration": 765,
    "start_time": "2021-11-16T15:51:04.734Z"
   },
   {
    "duration": 6,
    "start_time": "2021-11-16T15:52:22.103Z"
   },
   {
    "duration": 30,
    "start_time": "2021-11-16T15:52:22.598Z"
   },
   {
    "duration": 2095,
    "start_time": "2021-11-16T15:56:22.840Z"
   },
   {
    "duration": 4,
    "start_time": "2021-11-16T15:56:24.939Z"
   },
   {
    "duration": 529,
    "start_time": "2021-11-16T15:56:24.948Z"
   },
   {
    "duration": 5,
    "start_time": "2021-11-16T15:56:25.479Z"
   },
   {
    "duration": 2277,
    "start_time": "2021-11-16T15:56:25.487Z"
   },
   {
    "duration": 2454,
    "start_time": "2021-11-16T15:56:27.767Z"
   },
   {
    "duration": 2376,
    "start_time": "2021-11-16T15:56:30.223Z"
   },
   {
    "duration": 1729,
    "start_time": "2021-11-16T15:56:32.602Z"
   },
   {
    "duration": 81,
    "start_time": "2021-11-16T15:56:34.335Z"
   },
   {
    "duration": 6,
    "start_time": "2021-11-16T15:56:34.419Z"
   },
   {
    "duration": 23,
    "start_time": "2021-11-16T15:56:34.427Z"
   },
   {
    "duration": 85,
    "start_time": "2021-11-16T15:56:34.453Z"
   },
   {
    "duration": 6,
    "start_time": "2021-11-16T15:56:34.541Z"
   },
   {
    "duration": 244,
    "start_time": "2021-11-16T15:56:34.550Z"
   },
   {
    "duration": 15,
    "start_time": "2021-11-16T15:56:34.881Z"
   },
   {
    "duration": 13,
    "start_time": "2021-11-16T15:56:34.984Z"
   },
   {
    "duration": 12,
    "start_time": "2021-11-16T15:56:34.999Z"
   },
   {
    "duration": 21,
    "start_time": "2021-11-16T15:56:35.014Z"
   },
   {
    "duration": 6,
    "start_time": "2021-11-16T15:56:35.038Z"
   },
   {
    "duration": 71,
    "start_time": "2021-11-16T15:56:35.046Z"
   },
   {
    "duration": 6,
    "start_time": "2021-11-16T15:56:35.120Z"
   },
   {
    "duration": 1767,
    "start_time": "2021-11-16T15:56:35.129Z"
   },
   {
    "duration": 1371,
    "start_time": "2021-11-16T15:56:35.528Z"
   },
   {
    "duration": 1367,
    "start_time": "2021-11-16T15:56:35.533Z"
   },
   {
    "duration": 1364,
    "start_time": "2021-11-16T15:56:35.537Z"
   },
   {
    "duration": 1682,
    "start_time": "2021-11-16T16:00:28.974Z"
   },
   {
    "duration": 5,
    "start_time": "2021-11-16T16:00:30.659Z"
   },
   {
    "duration": 559,
    "start_time": "2021-11-16T16:00:30.667Z"
   },
   {
    "duration": 4,
    "start_time": "2021-11-16T16:00:31.229Z"
   },
   {
    "duration": 2409,
    "start_time": "2021-11-16T16:00:31.235Z"
   },
   {
    "duration": 2447,
    "start_time": "2021-11-16T16:00:33.647Z"
   },
   {
    "duration": 2415,
    "start_time": "2021-11-16T16:00:36.096Z"
   },
   {
    "duration": 2610,
    "start_time": "2021-11-16T16:00:38.517Z"
   },
   {
    "duration": 111,
    "start_time": "2021-11-16T16:00:41.131Z"
   },
   {
    "duration": 6,
    "start_time": "2021-11-16T16:00:41.245Z"
   },
   {
    "duration": 36,
    "start_time": "2021-11-16T16:00:41.254Z"
   },
   {
    "duration": 89,
    "start_time": "2021-11-16T16:00:41.293Z"
   },
   {
    "duration": 9,
    "start_time": "2021-11-16T16:00:41.385Z"
   },
   {
    "duration": 297,
    "start_time": "2021-11-16T16:00:41.397Z"
   },
   {
    "duration": 92,
    "start_time": "2021-11-16T16:00:41.697Z"
   },
   {
    "duration": 102,
    "start_time": "2021-11-16T16:00:41.792Z"
   },
   {
    "duration": 13,
    "start_time": "2021-11-16T16:00:41.897Z"
   },
   {
    "duration": 15,
    "start_time": "2021-11-16T16:00:41.912Z"
   },
   {
    "duration": 5,
    "start_time": "2021-11-16T16:00:41.929Z"
   },
   {
    "duration": 54,
    "start_time": "2021-11-16T16:00:41.936Z"
   },
   {
    "duration": 6,
    "start_time": "2021-11-16T16:00:41.993Z"
   },
   {
    "duration": 2131,
    "start_time": "2021-11-16T16:00:42.001Z"
   },
   {
    "duration": 1492,
    "start_time": "2021-11-16T16:00:42.643Z"
   },
   {
    "duration": 1491,
    "start_time": "2021-11-16T16:00:42.646Z"
   },
   {
    "duration": 1488,
    "start_time": "2021-11-16T16:00:42.650Z"
   },
   {
    "duration": 6,
    "start_time": "2021-11-16T16:02:52.587Z"
   },
   {
    "duration": 44,
    "start_time": "2021-11-16T16:02:52.596Z"
   },
   {
    "duration": 9,
    "start_time": "2021-11-16T16:02:52.644Z"
   },
   {
    "duration": 16438,
    "start_time": "2021-11-16T16:02:52.656Z"
   },
   {
    "duration": 751,
    "start_time": "2021-11-16T16:03:09.097Z"
   },
   {
    "duration": 16458,
    "start_time": "2021-11-16T16:03:09.852Z"
   },
   {
    "duration": 10,
    "start_time": "2021-11-16T16:03:26.312Z"
   },
   {
    "duration": 5,
    "start_time": "2021-11-16T16:05:42.066Z"
   },
   {
    "duration": 41,
    "start_time": "2021-11-16T16:05:42.706Z"
   },
   {
    "duration": 15,
    "start_time": "2021-11-16T16:07:17.919Z"
   },
   {
    "duration": 7,
    "start_time": "2021-11-16T16:07:17.937Z"
   },
   {
    "duration": 792,
    "start_time": "2021-11-16T16:07:17.947Z"
   },
   {
    "duration": 5,
    "start_time": "2021-11-16T16:07:18.743Z"
   },
   {
    "duration": 3617,
    "start_time": "2021-11-16T16:07:18.751Z"
   },
   {
    "duration": 4160,
    "start_time": "2021-11-16T16:07:22.371Z"
   },
   {
    "duration": 3755,
    "start_time": "2021-11-16T16:07:26.534Z"
   },
   {
    "duration": 2604,
    "start_time": "2021-11-16T16:07:30.294Z"
   },
   {
    "duration": 129,
    "start_time": "2021-11-16T16:07:32.901Z"
   },
   {
    "duration": 7,
    "start_time": "2021-11-16T16:07:33.033Z"
   },
   {
    "duration": 39,
    "start_time": "2021-11-16T16:07:33.043Z"
   },
   {
    "duration": 73,
    "start_time": "2021-11-16T16:07:33.085Z"
   },
   {
    "duration": 8,
    "start_time": "2021-11-16T16:07:33.161Z"
   },
   {
    "duration": 311,
    "start_time": "2021-11-16T16:07:33.172Z"
   },
   {
    "duration": 105,
    "start_time": "2021-11-16T16:07:33.486Z"
   },
   {
    "duration": 9,
    "start_time": "2021-11-16T16:07:33.594Z"
   },
   {
    "duration": 16,
    "start_time": "2021-11-16T16:07:33.606Z"
   },
   {
    "duration": 1518,
    "start_time": "2021-11-16T16:08:09.396Z"
   },
   {
    "duration": 3,
    "start_time": "2021-11-16T16:08:10.917Z"
   },
   {
    "duration": 536,
    "start_time": "2021-11-16T16:08:10.923Z"
   },
   {
    "duration": 5,
    "start_time": "2021-11-16T16:08:11.462Z"
   },
   {
    "duration": 2323,
    "start_time": "2021-11-16T16:08:11.469Z"
   },
   {
    "duration": 2552,
    "start_time": "2021-11-16T16:08:13.795Z"
   },
   {
    "duration": 2440,
    "start_time": "2021-11-16T16:08:16.350Z"
   },
   {
    "duration": 1672,
    "start_time": "2021-11-16T16:08:18.794Z"
   },
   {
    "duration": 67,
    "start_time": "2021-11-16T16:08:20.469Z"
   },
   {
    "duration": 6,
    "start_time": "2021-11-16T16:08:20.538Z"
   },
   {
    "duration": 47,
    "start_time": "2021-11-16T16:08:20.547Z"
   },
   {
    "duration": 69,
    "start_time": "2021-11-16T16:08:20.597Z"
   },
   {
    "duration": 19,
    "start_time": "2021-11-16T16:08:20.668Z"
   },
   {
    "duration": 299,
    "start_time": "2021-11-16T16:08:20.689Z"
   },
   {
    "duration": 95,
    "start_time": "2021-11-16T16:08:20.992Z"
   },
   {
    "duration": 11,
    "start_time": "2021-11-16T16:08:21.090Z"
   },
   {
    "duration": 12,
    "start_time": "2021-11-16T16:08:21.103Z"
   },
   {
    "duration": 16,
    "start_time": "2021-11-16T16:08:21.118Z"
   },
   {
    "duration": 76,
    "start_time": "2021-11-16T16:08:21.136Z"
   },
   {
    "duration": 7,
    "start_time": "2021-11-16T16:08:21.214Z"
   },
   {
    "duration": 16284,
    "start_time": "2021-11-16T16:08:21.223Z"
   },
   {
    "duration": 726,
    "start_time": "2021-11-16T16:08:37.510Z"
   },
   {
    "duration": 16551,
    "start_time": "2021-11-16T16:08:38.241Z"
   },
   {
    "duration": 12,
    "start_time": "2021-11-16T16:08:54.795Z"
   },
   {
    "duration": 1548,
    "start_time": "2021-11-16T16:11:55.663Z"
   },
   {
    "duration": 4,
    "start_time": "2021-11-16T16:11:57.214Z"
   },
   {
    "duration": 528,
    "start_time": "2021-11-16T16:11:57.221Z"
   },
   {
    "duration": 4,
    "start_time": "2021-11-16T16:11:57.752Z"
   },
   {
    "duration": 2284,
    "start_time": "2021-11-16T16:11:57.759Z"
   },
   {
    "duration": 2529,
    "start_time": "2021-11-16T16:12:00.046Z"
   },
   {
    "duration": 2354,
    "start_time": "2021-11-16T16:12:02.583Z"
   },
   {
    "duration": 1661,
    "start_time": "2021-11-16T16:12:04.941Z"
   },
   {
    "duration": 76,
    "start_time": "2021-11-16T16:12:06.605Z"
   },
   {
    "duration": 6,
    "start_time": "2021-11-16T16:12:06.684Z"
   },
   {
    "duration": 19,
    "start_time": "2021-11-16T16:12:06.692Z"
   },
   {
    "duration": 88,
    "start_time": "2021-11-16T16:12:06.713Z"
   },
   {
    "duration": 6,
    "start_time": "2021-11-16T16:12:06.804Z"
   },
   {
    "duration": 272,
    "start_time": "2021-11-16T16:12:06.813Z"
   },
   {
    "duration": 101,
    "start_time": "2021-11-16T16:12:07.088Z"
   },
   {
    "duration": 6,
    "start_time": "2021-11-16T16:12:07.192Z"
   },
   {
    "duration": 11,
    "start_time": "2021-11-16T16:12:07.201Z"
   },
   {
    "duration": 4,
    "start_time": "2021-11-16T16:12:07.215Z"
   },
   {
    "duration": 84,
    "start_time": "2021-11-16T16:12:07.221Z"
   },
   {
    "duration": 7,
    "start_time": "2021-11-16T16:12:07.307Z"
   },
   {
    "duration": 16363,
    "start_time": "2021-11-16T16:12:07.316Z"
   },
   {
    "duration": 704,
    "start_time": "2021-11-16T16:12:23.683Z"
   },
   {
    "duration": 16437,
    "start_time": "2021-11-16T16:12:24.393Z"
   },
   {
    "duration": 11,
    "start_time": "2021-11-16T16:12:40.832Z"
   },
   {
    "duration": 32,
    "start_time": "2021-11-16T16:13:49.940Z"
   },
   {
    "duration": 5,
    "start_time": "2021-11-16T16:14:03.115Z"
   },
   {
    "duration": 32,
    "start_time": "2021-11-16T16:14:03.932Z"
   },
   {
    "duration": 5,
    "start_time": "2021-11-16T16:14:06.739Z"
   },
   {
    "duration": 30,
    "start_time": "2021-11-16T16:14:07.444Z"
   },
   {
    "duration": 4,
    "start_time": "2021-11-16T16:14:09.843Z"
   },
   {
    "duration": 41,
    "start_time": "2021-11-16T16:14:10.204Z"
   },
   {
    "duration": 6,
    "start_time": "2021-11-16T16:14:30.952Z"
   },
   {
    "duration": 58,
    "start_time": "2021-11-16T16:14:30.961Z"
   },
   {
    "duration": 7,
    "start_time": "2021-11-16T16:14:31.023Z"
   },
   {
    "duration": 1761,
    "start_time": "2021-11-16T16:14:31.034Z"
   },
   {
    "duration": 1440,
    "start_time": "2021-11-16T16:14:31.359Z"
   },
   {
    "duration": 1440,
    "start_time": "2021-11-16T16:14:31.361Z"
   },
   {
    "duration": 1440,
    "start_time": "2021-11-16T16:14:31.363Z"
   },
   {
    "duration": 6,
    "start_time": "2021-11-16T16:15:28.573Z"
   },
   {
    "duration": 29,
    "start_time": "2021-11-16T16:15:29.828Z"
   },
   {
    "duration": 8,
    "start_time": "2021-11-16T16:15:32.899Z"
   },
   {
    "duration": 1570,
    "start_time": "2021-11-16T16:15:34.172Z"
   },
   {
    "duration": 1403,
    "start_time": "2021-11-16T16:15:34.343Z"
   },
   {
    "duration": 1401,
    "start_time": "2021-11-16T16:15:34.347Z"
   },
   {
    "duration": 167,
    "start_time": "2021-11-16T16:16:07.837Z"
   },
   {
    "duration": 29,
    "start_time": "2021-11-16T16:16:08.244Z"
   },
   {
    "duration": 5,
    "start_time": "2021-11-16T16:16:14.245Z"
   },
   {
    "duration": 31,
    "start_time": "2021-11-16T16:16:14.459Z"
   },
   {
    "duration": 7,
    "start_time": "2021-11-16T16:16:15.835Z"
   },
   {
    "duration": 16637,
    "start_time": "2021-11-16T16:16:17.334Z"
   },
   {
    "duration": 14,
    "start_time": "2021-11-16T16:16:33.974Z"
   },
   {
    "duration": 17128,
    "start_time": "2021-11-16T16:16:33.990Z"
   },
   {
    "duration": 10,
    "start_time": "2021-11-16T16:16:51.120Z"
   },
   {
    "duration": 2084,
    "start_time": "2021-11-16T16:17:04.436Z"
   },
   {
    "duration": 5,
    "start_time": "2021-11-16T16:17:06.523Z"
   },
   {
    "duration": 823,
    "start_time": "2021-11-16T16:17:06.532Z"
   },
   {
    "duration": 5,
    "start_time": "2021-11-16T16:17:07.358Z"
   },
   {
    "duration": 2527,
    "start_time": "2021-11-16T16:17:07.383Z"
   },
   {
    "duration": 3245,
    "start_time": "2021-11-16T16:17:09.914Z"
   },
   {
    "duration": 2909,
    "start_time": "2021-11-16T16:17:13.163Z"
   },
   {
    "duration": 2062,
    "start_time": "2021-11-16T16:17:16.085Z"
   },
   {
    "duration": 83,
    "start_time": "2021-11-16T16:17:18.150Z"
   },
   {
    "duration": 5,
    "start_time": "2021-11-16T16:17:18.236Z"
   },
   {
    "duration": 26,
    "start_time": "2021-11-16T16:17:18.244Z"
   },
   {
    "duration": 84,
    "start_time": "2021-11-16T16:17:18.283Z"
   },
   {
    "duration": 18,
    "start_time": "2021-11-16T16:17:18.370Z"
   },
   {
    "duration": 298,
    "start_time": "2021-11-16T16:17:18.392Z"
   },
   {
    "duration": 101,
    "start_time": "2021-11-16T16:17:18.697Z"
   },
   {
    "duration": 84,
    "start_time": "2021-11-16T16:17:18.801Z"
   },
   {
    "duration": 15,
    "start_time": "2021-11-16T16:17:18.888Z"
   },
   {
    "duration": 5,
    "start_time": "2021-11-16T16:17:18.910Z"
   },
   {
    "duration": 87,
    "start_time": "2021-11-16T16:17:18.919Z"
   },
   {
    "duration": 10,
    "start_time": "2021-11-16T16:17:19.009Z"
   },
   {
    "duration": 24544,
    "start_time": "2021-11-16T16:17:19.022Z"
   },
   {
    "duration": 731,
    "start_time": "2021-11-16T16:17:43.568Z"
   },
   {
    "duration": 18278,
    "start_time": "2021-11-16T16:17:44.304Z"
   },
   {
    "duration": 12,
    "start_time": "2021-11-16T16:18:02.586Z"
   },
   {
    "duration": 33,
    "start_time": "2021-11-16T16:19:11.911Z"
   },
   {
    "duration": 31,
    "start_time": "2021-11-16T16:19:18.523Z"
   },
   {
    "duration": 33,
    "start_time": "2021-11-16T16:19:40.156Z"
   },
   {
    "duration": 34,
    "start_time": "2021-11-16T16:19:50.812Z"
   },
   {
    "duration": 31,
    "start_time": "2021-11-16T16:19:59.884Z"
   },
   {
    "duration": 25991,
    "start_time": "2021-11-16T16:20:46.605Z"
   },
   {
    "duration": 1584,
    "start_time": "2021-11-16T16:24:23.320Z"
   },
   {
    "duration": 11,
    "start_time": "2021-11-16T16:24:24.908Z"
   },
   {
    "duration": 693,
    "start_time": "2021-11-16T16:24:24.923Z"
   },
   {
    "duration": 5,
    "start_time": "2021-11-16T16:24:25.620Z"
   },
   {
    "duration": 2480,
    "start_time": "2021-11-16T16:24:25.628Z"
   },
   {
    "duration": 2694,
    "start_time": "2021-11-16T16:24:28.113Z"
   },
   {
    "duration": 2390,
    "start_time": "2021-11-16T16:24:30.809Z"
   },
   {
    "duration": 2718,
    "start_time": "2021-11-16T16:24:33.206Z"
   },
   {
    "duration": 107,
    "start_time": "2021-11-16T16:24:35.928Z"
   },
   {
    "duration": 8,
    "start_time": "2021-11-16T16:24:36.038Z"
   },
   {
    "duration": 43,
    "start_time": "2021-11-16T16:24:36.049Z"
   },
   {
    "duration": 89,
    "start_time": "2021-11-16T16:24:36.095Z"
   },
   {
    "duration": 8,
    "start_time": "2021-11-16T16:24:36.187Z"
   },
   {
    "duration": 198,
    "start_time": "2021-11-16T16:24:36.198Z"
   },
   {
    "duration": 100,
    "start_time": "2021-11-16T16:24:36.484Z"
   },
   {
    "duration": 4,
    "start_time": "2021-11-16T16:24:36.587Z"
   },
   {
    "duration": 16,
    "start_time": "2021-11-16T16:24:36.594Z"
   },
   {
    "duration": 5,
    "start_time": "2021-11-16T16:24:36.613Z"
   },
   {
    "duration": 77,
    "start_time": "2021-11-16T16:24:36.621Z"
   },
   {
    "duration": 7,
    "start_time": "2021-11-16T16:24:36.701Z"
   },
   {
    "duration": 18807,
    "start_time": "2021-11-16T16:24:36.711Z"
   },
   {
    "duration": 1016,
    "start_time": "2021-11-16T16:24:55.521Z"
   },
   {
    "duration": 16485,
    "start_time": "2021-11-16T16:24:56.542Z"
   },
   {
    "duration": 12,
    "start_time": "2021-11-16T16:25:13.030Z"
   },
   {
    "duration": 5,
    "start_time": "2021-11-16T16:34:16.941Z"
   },
   {
    "duration": 45,
    "start_time": "2021-11-16T16:34:17.309Z"
   },
   {
    "duration": 4,
    "start_time": "2021-11-16T16:34:39.302Z"
   },
   {
    "duration": 44,
    "start_time": "2021-11-16T16:34:40.486Z"
   },
   {
    "duration": 1557,
    "start_time": "2021-11-16T16:41:12.935Z"
   },
   {
    "duration": 5,
    "start_time": "2021-11-16T16:41:14.495Z"
   },
   {
    "duration": 578,
    "start_time": "2021-11-16T16:41:14.504Z"
   },
   {
    "duration": 5,
    "start_time": "2021-11-16T16:41:15.085Z"
   },
   {
    "duration": 2435,
    "start_time": "2021-11-16T16:41:15.093Z"
   },
   {
    "duration": 2494,
    "start_time": "2021-11-16T16:41:17.532Z"
   },
   {
    "duration": 2461,
    "start_time": "2021-11-16T16:41:20.031Z"
   },
   {
    "duration": 2446,
    "start_time": "2021-11-16T16:41:22.497Z"
   },
   {
    "duration": 115,
    "start_time": "2021-11-16T16:41:24.948Z"
   },
   {
    "duration": 17,
    "start_time": "2021-11-16T16:41:25.066Z"
   },
   {
    "duration": 21,
    "start_time": "2021-11-16T16:41:25.087Z"
   },
   {
    "duration": 94,
    "start_time": "2021-11-16T16:41:25.111Z"
   },
   {
    "duration": 6,
    "start_time": "2021-11-16T16:41:25.208Z"
   },
   {
    "duration": 566,
    "start_time": "2021-11-16T16:41:25.218Z"
   },
   {
    "duration": 13,
    "start_time": "2021-11-16T16:41:25.786Z"
   },
   {
    "duration": 7,
    "start_time": "2021-11-16T16:41:25.801Z"
   },
   {
    "duration": 12,
    "start_time": "2021-11-16T16:41:25.811Z"
   },
   {
    "duration": 6,
    "start_time": "2021-11-16T16:41:25.825Z"
   },
   {
    "duration": 71,
    "start_time": "2021-11-16T16:41:25.834Z"
   },
   {
    "duration": 7,
    "start_time": "2021-11-16T16:41:25.907Z"
   },
   {
    "duration": 1592,
    "start_time": "2021-11-16T16:41:25.916Z"
   },
   {
    "duration": 1425,
    "start_time": "2021-11-16T16:41:26.086Z"
   },
   {
    "duration": 1419,
    "start_time": "2021-11-16T16:41:26.093Z"
   },
   {
    "duration": 1417,
    "start_time": "2021-11-16T16:41:26.097Z"
   },
   {
    "duration": 5,
    "start_time": "2021-11-16T16:43:00.212Z"
   },
   {
    "duration": 38,
    "start_time": "2021-11-16T16:43:00.570Z"
   },
   {
    "duration": 10,
    "start_time": "2021-11-16T16:43:21.556Z"
   },
   {
    "duration": 10,
    "start_time": "2021-11-16T16:43:21.569Z"
   },
   {
    "duration": 631,
    "start_time": "2021-11-16T16:43:21.582Z"
   },
   {
    "duration": 5,
    "start_time": "2021-11-16T16:43:22.216Z"
   },
   {
    "duration": 2432,
    "start_time": "2021-11-16T16:43:22.223Z"
   },
   {
    "duration": 2493,
    "start_time": "2021-11-16T16:43:24.658Z"
   },
   {
    "duration": 2550,
    "start_time": "2021-11-16T16:43:27.154Z"
   },
   {
    "duration": 1620,
    "start_time": "2021-11-16T16:43:29.711Z"
   },
   {
    "duration": 92,
    "start_time": "2021-11-16T16:43:31.334Z"
   },
   {
    "duration": 6,
    "start_time": "2021-11-16T16:43:31.429Z"
   },
   {
    "duration": 21,
    "start_time": "2021-11-16T16:43:31.438Z"
   },
   {
    "duration": 81,
    "start_time": "2021-11-16T16:43:31.462Z"
   },
   {
    "duration": 8,
    "start_time": "2021-11-16T16:43:31.546Z"
   },
   {
    "duration": 238,
    "start_time": "2021-11-16T16:43:31.557Z"
   },
   {
    "duration": 104,
    "start_time": "2021-11-16T16:43:31.883Z"
   },
   {
    "duration": 6,
    "start_time": "2021-11-16T16:43:31.990Z"
   },
   {
    "duration": 13,
    "start_time": "2021-11-16T16:43:31.999Z"
   },
   {
    "duration": 2105,
    "start_time": "2021-11-16T16:43:35.848Z"
   },
   {
    "duration": 8,
    "start_time": "2021-11-16T16:43:37.957Z"
   },
   {
    "duration": 593,
    "start_time": "2021-11-16T16:43:37.969Z"
   },
   {
    "duration": 17,
    "start_time": "2021-11-16T16:43:38.565Z"
   },
   {
    "duration": 2921,
    "start_time": "2021-11-16T16:43:38.584Z"
   },
   {
    "duration": 2795,
    "start_time": "2021-11-16T16:43:41.508Z"
   },
   {
    "duration": 2487,
    "start_time": "2021-11-16T16:43:44.306Z"
   },
   {
    "duration": 2491,
    "start_time": "2021-11-16T16:43:46.797Z"
   },
   {
    "duration": 106,
    "start_time": "2021-11-16T16:43:49.292Z"
   },
   {
    "duration": 7,
    "start_time": "2021-11-16T16:43:49.401Z"
   },
   {
    "duration": 23,
    "start_time": "2021-11-16T16:43:49.411Z"
   },
   {
    "duration": 114,
    "start_time": "2021-11-16T16:43:49.437Z"
   },
   {
    "duration": 9,
    "start_time": "2021-11-16T16:43:49.554Z"
   },
   {
    "duration": 229,
    "start_time": "2021-11-16T16:43:49.566Z"
   },
   {
    "duration": 104,
    "start_time": "2021-11-16T16:43:49.882Z"
   },
   {
    "duration": 6,
    "start_time": "2021-11-16T16:43:49.989Z"
   },
   {
    "duration": 18,
    "start_time": "2021-11-16T16:43:49.998Z"
   },
   {
    "duration": 9,
    "start_time": "2021-11-16T16:43:50.019Z"
   },
   {
    "duration": 84,
    "start_time": "2021-11-16T16:43:50.032Z"
   },
   {
    "duration": 7,
    "start_time": "2021-11-16T16:43:50.119Z"
   },
   {
    "duration": 48182,
    "start_time": "2021-11-16T16:43:50.129Z"
   },
   {
    "duration": 716,
    "start_time": "2021-11-16T16:44:38.314Z"
   },
   {
    "duration": 1976,
    "start_time": "2021-11-16T16:45:30.664Z"
   },
   {
    "duration": 4,
    "start_time": "2021-11-16T16:45:32.643Z"
   },
   {
    "duration": 684,
    "start_time": "2021-11-16T16:45:32.650Z"
   },
   {
    "duration": 5,
    "start_time": "2021-11-16T16:45:33.337Z"
   },
   {
    "duration": 2335,
    "start_time": "2021-11-16T16:45:33.344Z"
   },
   {
    "duration": 2568,
    "start_time": "2021-11-16T16:45:35.682Z"
   },
   {
    "duration": 4043,
    "start_time": "2021-11-16T16:45:38.254Z"
   },
   {
    "duration": 2742,
    "start_time": "2021-11-16T16:45:42.303Z"
   },
   {
    "duration": 100,
    "start_time": "2021-11-16T16:45:45.049Z"
   },
   {
    "duration": 6,
    "start_time": "2021-11-16T16:45:45.152Z"
   },
   {
    "duration": 37,
    "start_time": "2021-11-16T16:45:45.161Z"
   },
   {
    "duration": 81,
    "start_time": "2021-11-16T16:45:45.201Z"
   },
   {
    "duration": 7,
    "start_time": "2021-11-16T16:45:45.284Z"
   },
   {
    "duration": 488,
    "start_time": "2021-11-16T16:45:45.294Z"
   },
   {
    "duration": 13,
    "start_time": "2021-11-16T16:45:45.785Z"
   },
   {
    "duration": 10,
    "start_time": "2021-11-16T16:45:45.800Z"
   },
   {
    "duration": 13,
    "start_time": "2021-11-16T16:45:45.813Z"
   },
   {
    "duration": 7,
    "start_time": "2021-11-16T16:45:45.829Z"
   },
   {
    "duration": 74,
    "start_time": "2021-11-16T16:45:45.838Z"
   },
   {
    "duration": 8,
    "start_time": "2021-11-16T16:45:45.914Z"
   },
   {
    "duration": 16715,
    "start_time": "2021-11-16T16:45:45.924Z"
   },
   {
    "duration": 720,
    "start_time": "2021-11-16T16:46:02.642Z"
   },
   {
    "duration": 29072,
    "start_time": "2021-11-16T16:46:03.370Z"
   },
   {
    "duration": 17,
    "start_time": "2021-11-16T16:46:32.445Z"
   },
   {
    "duration": 5,
    "start_time": "2021-11-16T16:48:42.835Z"
   },
   {
    "duration": 286,
    "start_time": "2021-11-16T16:48:42.843Z"
   },
   {
    "duration": 5,
    "start_time": "2021-11-16T16:49:01.144Z"
   },
   {
    "duration": 33,
    "start_time": "2021-11-16T16:49:01.515Z"
   },
   {
    "duration": 5,
    "start_time": "2021-11-16T16:49:12.658Z"
   },
   {
    "duration": 35,
    "start_time": "2021-11-16T16:49:13.444Z"
   },
   {
    "duration": 6,
    "start_time": "2021-11-16T16:50:43.909Z"
   },
   {
    "duration": 1466,
    "start_time": "2021-11-16T16:50:44.578Z"
   },
   {
    "duration": 6,
    "start_time": "2021-11-16T16:50:56.219Z"
   },
   {
    "duration": 40,
    "start_time": "2021-11-16T16:50:56.468Z"
   },
   {
    "duration": 5,
    "start_time": "2021-11-16T16:51:53.372Z"
   },
   {
    "duration": 34,
    "start_time": "2021-11-16T16:51:53.748Z"
   },
   {
    "duration": 7,
    "start_time": "2021-11-16T16:51:57.523Z"
   },
   {
    "duration": 19212,
    "start_time": "2021-11-16T16:52:00.772Z"
   },
   {
    "duration": 10,
    "start_time": "2021-11-16T16:52:22.523Z"
   },
   {
    "duration": 20179,
    "start_time": "2021-11-16T16:52:23.324Z"
   },
   {
    "duration": 13,
    "start_time": "2021-11-16T16:52:43.506Z"
   },
   {
    "duration": 5,
    "start_time": "2021-11-16T16:56:30.343Z"
   },
   {
    "duration": 26,
    "start_time": "2021-11-16T16:56:30.718Z"
   },
   {
    "duration": 7,
    "start_time": "2021-11-16T16:56:35.326Z"
   },
   {
    "duration": 11365,
    "start_time": "2021-11-16T16:56:44.451Z"
   },
   {
    "duration": 14,
    "start_time": "2021-11-16T16:57:01.438Z"
   },
   {
    "duration": 10517,
    "start_time": "2021-11-16T16:57:02.150Z"
   },
   {
    "duration": 15,
    "start_time": "2021-11-16T16:57:12.670Z"
   },
   {
    "duration": 4,
    "start_time": "2021-11-16T17:00:35.648Z"
   },
   {
    "duration": 629,
    "start_time": "2021-11-16T17:00:36.164Z"
   },
   {
    "duration": 5,
    "start_time": "2021-11-16T17:06:49.196Z"
   },
   {
    "duration": 26,
    "start_time": "2021-11-16T17:06:50.227Z"
   },
   {
    "duration": 7,
    "start_time": "2021-11-16T17:07:03.131Z"
   },
   {
    "duration": 1385,
    "start_time": "2021-11-16T17:07:05.396Z"
   },
   {
    "duration": 6,
    "start_time": "2021-11-16T17:07:26.884Z"
   },
   {
    "duration": 22,
    "start_time": "2021-11-16T17:07:27.707Z"
   },
   {
    "duration": 7,
    "start_time": "2021-11-16T17:07:34.595Z"
   },
   {
    "duration": 10159,
    "start_time": "2021-11-16T17:07:36.164Z"
   },
   {
    "duration": 6,
    "start_time": "2021-11-16T17:11:05.382Z"
   },
   {
    "duration": 25,
    "start_time": "2021-11-16T17:11:06.102Z"
   },
   {
    "duration": 1564,
    "start_time": "2021-11-16T17:12:16.950Z"
   },
   {
    "duration": 6,
    "start_time": "2021-11-16T17:12:18.518Z"
   },
   {
    "duration": 558,
    "start_time": "2021-11-16T17:12:18.528Z"
   },
   {
    "duration": 4,
    "start_time": "2021-11-16T17:12:19.089Z"
   },
   {
    "duration": 2399,
    "start_time": "2021-11-16T17:12:19.096Z"
   },
   {
    "duration": 2684,
    "start_time": "2021-11-16T17:12:21.498Z"
   },
   {
    "duration": 2374,
    "start_time": "2021-11-16T17:12:24.184Z"
   },
   {
    "duration": 1634,
    "start_time": "2021-11-16T17:12:26.562Z"
   },
   {
    "duration": 60,
    "start_time": "2021-11-16T17:12:28.199Z"
   },
   {
    "duration": 23,
    "start_time": "2021-11-16T17:12:28.261Z"
   },
   {
    "duration": 16,
    "start_time": "2021-11-16T17:12:28.286Z"
   },
   {
    "duration": 78,
    "start_time": "2021-11-16T17:12:28.304Z"
   },
   {
    "duration": 6,
    "start_time": "2021-11-16T17:12:28.385Z"
   },
   {
    "duration": 490,
    "start_time": "2021-11-16T17:12:28.393Z"
   },
   {
    "duration": 101,
    "start_time": "2021-11-16T17:12:28.893Z"
   },
   {
    "duration": 7,
    "start_time": "2021-11-16T17:12:28.996Z"
   },
   {
    "duration": 12,
    "start_time": "2021-11-16T17:12:29.006Z"
   },
   {
    "duration": 5,
    "start_time": "2021-11-16T17:12:29.021Z"
   },
   {
    "duration": 61,
    "start_time": "2021-11-16T17:12:29.028Z"
   },
   {
    "duration": 6,
    "start_time": "2021-11-16T17:12:29.092Z"
   },
   {
    "duration": 1514,
    "start_time": "2021-11-16T17:12:29.100Z"
   },
   {
    "duration": 1422,
    "start_time": "2021-11-16T17:12:29.195Z"
   },
   {
    "duration": 1419,
    "start_time": "2021-11-16T17:12:29.199Z"
   },
   {
    "duration": 1418,
    "start_time": "2021-11-16T17:12:29.202Z"
   },
   {
    "duration": 18,
    "start_time": "2021-11-16T17:14:30.187Z"
   },
   {
    "duration": 16,
    "start_time": "2021-11-16T17:14:47.339Z"
   },
   {
    "duration": 17,
    "start_time": "2021-11-16T17:15:20.372Z"
   },
   {
    "duration": 17,
    "start_time": "2021-11-16T17:15:25.131Z"
   },
   {
    "duration": 27,
    "start_time": "2021-11-16T17:15:47.109Z"
   },
   {
    "duration": 17,
    "start_time": "2021-11-16T17:16:09.796Z"
   },
   {
    "duration": 17,
    "start_time": "2021-11-16T17:16:18.228Z"
   },
   {
    "duration": 17,
    "start_time": "2021-11-16T17:16:27.556Z"
   },
   {
    "duration": 17,
    "start_time": "2021-11-16T17:16:40.212Z"
   },
   {
    "duration": 15,
    "start_time": "2021-11-16T17:16:50.068Z"
   },
   {
    "duration": 5,
    "start_time": "2021-11-16T17:21:02.410Z"
   },
   {
    "duration": 646,
    "start_time": "2021-11-16T17:21:03.313Z"
   },
   {
    "duration": 5,
    "start_time": "2021-11-16T17:21:21.199Z"
   },
   {
    "duration": 28,
    "start_time": "2021-11-16T17:21:21.822Z"
   },
   {
    "duration": 318,
    "start_time": "2021-11-16T17:21:59.544Z"
   },
   {
    "duration": 16,
    "start_time": "2021-11-16T17:22:15.847Z"
   },
   {
    "duration": 10,
    "start_time": "2021-11-16T17:22:32.527Z"
   },
   {
    "duration": 9681,
    "start_time": "2021-11-16T17:22:33.625Z"
   },
   {
    "duration": 764,
    "start_time": "2021-11-16T17:22:47.967Z"
   },
   {
    "duration": 14511,
    "start_time": "2021-11-16T17:22:48.735Z"
   },
   {
    "duration": 16,
    "start_time": "2021-11-16T17:23:03.250Z"
   },
   {
    "duration": 6,
    "start_time": "2021-11-16T17:24:40.161Z"
   },
   {
    "duration": 30,
    "start_time": "2021-11-16T17:24:40.593Z"
   },
   {
    "duration": 20,
    "start_time": "2021-11-16T17:24:44.889Z"
   },
   {
    "duration": 5,
    "start_time": "2021-11-16T17:28:08.267Z"
   },
   {
    "duration": 679,
    "start_time": "2021-11-16T17:28:08.882Z"
   },
   {
    "duration": 7,
    "start_time": "2021-11-16T17:28:42.882Z"
   },
   {
    "duration": 30,
    "start_time": "2021-11-16T17:28:42.893Z"
   },
   {
    "duration": 26,
    "start_time": "2021-11-16T17:28:48.578Z"
   },
   {
    "duration": 6,
    "start_time": "2021-11-16T17:28:58.706Z"
   },
   {
    "duration": 14066,
    "start_time": "2021-11-16T17:29:01.518Z"
   },
   {
    "duration": 11,
    "start_time": "2021-11-16T17:29:19.923Z"
   },
   {
    "duration": 14793,
    "start_time": "2021-11-16T17:29:20.563Z"
   },
   {
    "duration": 13,
    "start_time": "2021-11-16T17:29:35.360Z"
   },
   {
    "duration": 1596,
    "start_time": "2021-11-16T17:30:21.848Z"
   },
   {
    "duration": 4,
    "start_time": "2021-11-16T17:30:23.447Z"
   },
   {
    "duration": 588,
    "start_time": "2021-11-16T17:30:23.454Z"
   },
   {
    "duration": 5,
    "start_time": "2021-11-16T17:30:24.046Z"
   },
   {
    "duration": 2382,
    "start_time": "2021-11-16T17:30:24.054Z"
   },
   {
    "duration": 2543,
    "start_time": "2021-11-16T17:30:26.439Z"
   },
   {
    "duration": 2533,
    "start_time": "2021-11-16T17:30:28.984Z"
   },
   {
    "duration": 2134,
    "start_time": "2021-11-16T17:30:31.523Z"
   },
   {
    "duration": 73,
    "start_time": "2021-11-16T17:30:33.660Z"
   },
   {
    "duration": 5,
    "start_time": "2021-11-16T17:30:33.735Z"
   },
   {
    "duration": 26,
    "start_time": "2021-11-16T17:30:33.742Z"
   },
   {
    "duration": 75,
    "start_time": "2021-11-16T17:30:33.771Z"
   },
   {
    "duration": 6,
    "start_time": "2021-11-16T17:30:33.848Z"
   },
   {
    "duration": 333,
    "start_time": "2021-11-16T17:30:33.857Z"
   },
   {
    "duration": 18,
    "start_time": "2021-11-16T17:30:34.197Z"
   },
   {
    "duration": 6,
    "start_time": "2021-11-16T17:30:34.218Z"
   },
   {
    "duration": 80,
    "start_time": "2021-11-16T17:30:34.227Z"
   },
   {
    "duration": 7,
    "start_time": "2021-11-16T17:30:34.309Z"
   },
   {
    "duration": 28,
    "start_time": "2021-11-16T17:30:34.318Z"
   },
   {
    "duration": 54,
    "start_time": "2021-11-16T17:30:34.349Z"
   },
   {
    "duration": 7,
    "start_time": "2021-11-16T17:30:34.405Z"
   },
   {
    "duration": 14629,
    "start_time": "2021-11-16T17:30:34.415Z"
   },
   {
    "duration": 764,
    "start_time": "2021-11-16T17:30:49.048Z"
   },
   {
    "duration": 14160,
    "start_time": "2021-11-16T17:30:49.816Z"
   },
   {
    "duration": 11,
    "start_time": "2021-11-16T17:31:03.985Z"
   },
   {
    "duration": 118,
    "start_time": "2021-11-16T17:34:24.452Z"
   },
   {
    "duration": 26,
    "start_time": "2021-11-16T17:34:24.915Z"
   },
   {
    "duration": 5,
    "start_time": "2021-11-16T17:34:29.115Z"
   },
   {
    "duration": 26,
    "start_time": "2021-11-16T17:34:29.443Z"
   },
   {
    "duration": 107,
    "start_time": "2021-11-16T17:34:51.988Z"
   },
   {
    "duration": 26,
    "start_time": "2021-11-16T17:34:52.635Z"
   },
   {
    "duration": 5,
    "start_time": "2021-11-16T17:35:00.101Z"
   },
   {
    "duration": 25,
    "start_time": "2021-11-16T17:35:00.324Z"
   },
   {
    "duration": 110,
    "start_time": "2021-11-16T17:36:21.893Z"
   },
   {
    "duration": 145,
    "start_time": "2021-11-16T17:36:32.917Z"
   },
   {
    "duration": 174,
    "start_time": "2021-11-16T17:37:14.998Z"
   },
   {
    "duration": 24,
    "start_time": "2021-11-16T17:37:16.214Z"
   },
   {
    "duration": 143,
    "start_time": "2021-11-16T17:37:17.077Z"
   },
   {
    "duration": 694,
    "start_time": "2021-11-16T17:38:11.622Z"
   },
   {
    "duration": 101,
    "start_time": "2021-11-16T17:38:16.901Z"
   },
   {
    "duration": 16,
    "start_time": "2021-11-16T17:38:32.149Z"
   },
   {
    "duration": 18,
    "start_time": "2021-11-16T17:39:04.678Z"
   },
   {
    "duration": 18,
    "start_time": "2021-11-16T17:39:22.670Z"
   },
   {
    "duration": 496,
    "start_time": "2021-11-16T17:40:13.671Z"
   },
   {
    "duration": 318,
    "start_time": "2021-11-16T17:40:19.942Z"
   },
   {
    "duration": 21,
    "start_time": "2021-11-16T17:40:25.447Z"
   },
   {
    "duration": 37,
    "start_time": "2021-11-16T17:40:43.856Z"
   },
   {
    "duration": 23,
    "start_time": "2021-11-16T17:40:45.511Z"
   },
   {
    "duration": 10,
    "start_time": "2021-11-16T17:40:46.296Z"
   },
   {
    "duration": 23875,
    "start_time": "2021-11-16T17:40:47.327Z"
   },
   {
    "duration": 11,
    "start_time": "2021-11-16T17:41:11.206Z"
   },
   {
    "duration": 13517,
    "start_time": "2021-11-16T17:41:11.221Z"
   },
   {
    "duration": 10,
    "start_time": "2021-11-16T17:41:24.740Z"
   },
   {
    "duration": 325,
    "start_time": "2021-11-16T17:42:09.511Z"
   },
   {
    "duration": 319,
    "start_time": "2021-11-16T17:42:18.208Z"
   },
   {
    "duration": 17,
    "start_time": "2021-11-16T17:42:23.824Z"
   },
   {
    "duration": 325,
    "start_time": "2021-11-16T17:42:31.496Z"
   },
   {
    "duration": 26,
    "start_time": "2021-11-16T17:43:30.330Z"
   },
   {
    "duration": 28,
    "start_time": "2021-11-16T17:44:20.242Z"
   },
   {
    "duration": 24,
    "start_time": "2021-11-16T17:45:02.203Z"
   },
   {
    "duration": 469,
    "start_time": "2021-11-16T17:45:14.674Z"
   },
   {
    "duration": 20,
    "start_time": "2021-11-16T17:45:27.984Z"
   },
   {
    "duration": 78,
    "start_time": "2021-11-16T17:45:37.274Z"
   },
   {
    "duration": 18,
    "start_time": "2021-11-16T17:46:53.883Z"
   },
   {
    "duration": 17,
    "start_time": "2021-11-16T17:47:55.460Z"
   },
   {
    "duration": 25,
    "start_time": "2021-11-16T17:48:09.315Z"
   },
   {
    "duration": 17,
    "start_time": "2021-11-16T17:48:57.739Z"
   },
   {
    "duration": 17,
    "start_time": "2021-11-16T17:49:33.300Z"
   },
   {
    "duration": 7,
    "start_time": "2021-11-16T17:50:53.021Z"
   },
   {
    "duration": 26,
    "start_time": "2021-11-16T17:50:53.876Z"
   },
   {
    "duration": 5,
    "start_time": "2021-11-16T17:51:13.572Z"
   },
   {
    "duration": 23,
    "start_time": "2021-11-16T17:51:14.053Z"
   },
   {
    "duration": 5,
    "start_time": "2021-11-16T17:51:32.262Z"
   },
   {
    "duration": 39,
    "start_time": "2021-11-16T17:51:32.789Z"
   },
   {
    "duration": 16,
    "start_time": "2021-11-16T17:51:34.716Z"
   },
   {
    "duration": 22,
    "start_time": "2021-11-16T17:51:35.644Z"
   },
   {
    "duration": 9,
    "start_time": "2021-11-16T17:51:37.251Z"
   },
   {
    "duration": 3847,
    "start_time": "2021-11-16T17:51:38.301Z"
   },
   {
    "duration": 1314,
    "start_time": "2021-11-16T17:51:40.837Z"
   },
   {
    "duration": 1307,
    "start_time": "2021-11-16T17:51:40.846Z"
   },
   {
    "duration": 1302,
    "start_time": "2021-11-16T17:51:40.853Z"
   },
   {
    "duration": 4,
    "start_time": "2021-11-16T17:52:22.559Z"
   },
   {
    "duration": 25,
    "start_time": "2021-11-16T17:52:22.806Z"
   },
   {
    "duration": 17,
    "start_time": "2021-11-16T17:52:23.036Z"
   },
   {
    "duration": 18,
    "start_time": "2021-11-16T17:52:23.213Z"
   },
   {
    "duration": 6,
    "start_time": "2021-11-16T17:52:23.774Z"
   },
   {
    "duration": 13892,
    "start_time": "2021-11-16T17:52:24.590Z"
   },
   {
    "duration": 10,
    "start_time": "2021-11-16T17:52:38.484Z"
   },
   {
    "duration": 13907,
    "start_time": "2021-11-16T17:52:38.498Z"
   },
   {
    "duration": 10,
    "start_time": "2021-11-16T17:52:52.408Z"
   },
   {
    "duration": 3,
    "start_time": "2021-11-16T17:56:05.032Z"
   },
   {
    "duration": 2179,
    "start_time": "2021-11-16T17:56:24.160Z"
   },
   {
    "duration": 6,
    "start_time": "2021-11-16T17:56:26.342Z"
   },
   {
    "duration": 813,
    "start_time": "2021-11-16T17:56:26.352Z"
   },
   {
    "duration": 15,
    "start_time": "2021-11-16T17:56:27.168Z"
   },
   {
    "duration": 2510,
    "start_time": "2021-11-16T17:56:27.186Z"
   },
   {
    "duration": 2580,
    "start_time": "2021-11-16T17:56:29.698Z"
   },
   {
    "duration": 2458,
    "start_time": "2021-11-16T17:56:32.283Z"
   },
   {
    "duration": 2877,
    "start_time": "2021-11-16T17:56:34.746Z"
   },
   {
    "duration": 102,
    "start_time": "2021-11-16T17:56:37.628Z"
   },
   {
    "duration": 8,
    "start_time": "2021-11-16T17:56:37.733Z"
   },
   {
    "duration": 43,
    "start_time": "2021-11-16T17:56:37.744Z"
   },
   {
    "duration": 64,
    "start_time": "2021-11-16T17:56:37.790Z"
   },
   {
    "duration": 7,
    "start_time": "2021-11-16T17:56:37.856Z"
   },
   {
    "duration": 301,
    "start_time": "2021-11-16T17:56:37.882Z"
   },
   {
    "duration": 98,
    "start_time": "2021-11-16T17:56:38.189Z"
   },
   {
    "duration": 5,
    "start_time": "2021-11-16T17:56:38.290Z"
   },
   {
    "duration": 13,
    "start_time": "2021-11-16T17:56:38.299Z"
   },
   {
    "duration": 6,
    "start_time": "2021-11-16T17:56:38.315Z"
   },
   {
    "duration": 75,
    "start_time": "2021-11-16T17:56:38.324Z"
   },
   {
    "duration": 3,
    "start_time": "2021-11-16T17:56:38.403Z"
   },
   {
    "duration": 9,
    "start_time": "2021-11-16T17:56:38.410Z"
   },
   {
    "duration": 17993,
    "start_time": "2021-11-16T17:56:38.422Z"
   },
   {
    "duration": 1015,
    "start_time": "2021-11-16T17:56:56.422Z"
   },
   {
    "duration": 19510,
    "start_time": "2021-11-16T17:56:57.441Z"
   },
   {
    "duration": 16,
    "start_time": "2021-11-16T17:57:16.954Z"
   },
   {
    "duration": 1745,
    "start_time": "2021-11-16T18:01:10.911Z"
   },
   {
    "duration": 6,
    "start_time": "2021-11-16T18:01:12.659Z"
   },
   {
    "duration": 539,
    "start_time": "2021-11-16T18:01:12.668Z"
   },
   {
    "duration": 5,
    "start_time": "2021-11-16T18:01:13.210Z"
   },
   {
    "duration": 3712,
    "start_time": "2021-11-16T18:01:13.218Z"
   },
   {
    "duration": 2589,
    "start_time": "2021-11-16T18:01:16.933Z"
   },
   {
    "duration": 2458,
    "start_time": "2021-11-16T18:01:19.524Z"
   },
   {
    "duration": 1682,
    "start_time": "2021-11-16T18:01:21.985Z"
   },
   {
    "duration": 68,
    "start_time": "2021-11-16T18:01:23.670Z"
   },
   {
    "duration": 5,
    "start_time": "2021-11-16T18:01:23.741Z"
   },
   {
    "duration": 49,
    "start_time": "2021-11-16T18:01:23.750Z"
   },
   {
    "duration": 79,
    "start_time": "2021-11-16T18:01:23.803Z"
   },
   {
    "duration": 8,
    "start_time": "2021-11-16T18:01:23.884Z"
   },
   {
    "duration": 197,
    "start_time": "2021-11-16T18:01:23.895Z"
   },
   {
    "duration": 98,
    "start_time": "2021-11-16T18:01:24.096Z"
   },
   {
    "duration": 86,
    "start_time": "2021-11-16T18:01:24.198Z"
   },
   {
    "duration": 11,
    "start_time": "2021-11-16T18:01:24.287Z"
   },
   {
    "duration": 4,
    "start_time": "2021-11-16T18:01:24.301Z"
   },
   {
    "duration": 29,
    "start_time": "2021-11-16T18:01:24.308Z"
   },
   {
    "duration": 60,
    "start_time": "2021-11-16T18:01:24.339Z"
   },
   {
    "duration": 10,
    "start_time": "2021-11-16T18:01:24.402Z"
   },
   {
    "duration": 13567,
    "start_time": "2021-11-16T18:01:24.416Z"
   },
   {
    "duration": 978,
    "start_time": "2021-11-16T18:01:37.988Z"
   },
   {
    "duration": 14245,
    "start_time": "2021-11-16T18:01:38.970Z"
   },
   {
    "duration": 12,
    "start_time": "2021-11-16T18:01:53.218Z"
   },
   {
    "duration": 1589,
    "start_time": "2021-11-16T19:27:45.948Z"
   },
   {
    "duration": 4,
    "start_time": "2021-11-16T19:27:47.539Z"
   },
   {
    "duration": 609,
    "start_time": "2021-11-16T19:27:47.546Z"
   },
   {
    "duration": 4,
    "start_time": "2021-11-16T19:27:48.158Z"
   },
   {
    "duration": 2384,
    "start_time": "2021-11-16T19:27:48.164Z"
   },
   {
    "duration": 2495,
    "start_time": "2021-11-16T19:27:50.551Z"
   },
   {
    "duration": 2556,
    "start_time": "2021-11-16T19:27:53.048Z"
   },
   {
    "duration": 1703,
    "start_time": "2021-11-16T19:27:55.606Z"
   },
   {
    "duration": 58,
    "start_time": "2021-11-16T19:27:57.313Z"
   },
   {
    "duration": 5,
    "start_time": "2021-11-16T19:27:57.374Z"
   },
   {
    "duration": 16,
    "start_time": "2021-11-16T19:27:57.401Z"
   },
   {
    "duration": 81,
    "start_time": "2021-11-16T19:27:57.419Z"
   },
   {
    "duration": 7,
    "start_time": "2021-11-16T19:27:57.502Z"
   },
   {
    "duration": 200,
    "start_time": "2021-11-16T19:27:57.512Z"
   },
   {
    "duration": 187,
    "start_time": "2021-11-16T19:27:57.715Z"
   },
   {
    "duration": 4,
    "start_time": "2021-11-16T19:27:57.904Z"
   },
   {
    "duration": 24,
    "start_time": "2021-11-16T19:27:57.911Z"
   },
   {
    "duration": 5,
    "start_time": "2021-11-16T19:27:57.938Z"
   },
   {
    "duration": 67,
    "start_time": "2021-11-16T19:27:57.947Z"
   },
   {
    "duration": 6,
    "start_time": "2021-11-16T19:29:29.460Z"
   },
   {
    "duration": 7,
    "start_time": "2021-11-16T19:29:32.594Z"
   },
   {
    "duration": 525,
    "start_time": "2021-11-16T19:30:15.643Z"
   },
   {
    "duration": 12,
    "start_time": "2021-11-16T19:30:19.022Z"
   },
   {
    "duration": 13,
    "start_time": "2021-11-16T19:30:23.164Z"
   },
   {
    "duration": 10,
    "start_time": "2021-11-16T19:30:53.064Z"
   },
   {
    "duration": 382,
    "start_time": "2021-11-16T19:31:07.198Z"
   },
   {
    "duration": 10,
    "start_time": "2021-11-16T19:31:11.454Z"
   },
   {
    "duration": 8,
    "start_time": "2021-11-16T19:31:26.551Z"
   },
   {
    "duration": 27,
    "start_time": "2021-11-16T19:32:10.583Z"
   },
   {
    "duration": 25,
    "start_time": "2021-11-16T19:32:12.446Z"
   },
   {
    "duration": 30,
    "start_time": "2021-11-16T19:32:21.865Z"
   },
   {
    "duration": 110,
    "start_time": "2021-11-16T19:32:34.305Z"
   },
   {
    "duration": 28,
    "start_time": "2021-11-16T19:32:36.330Z"
   },
   {
    "duration": 28,
    "start_time": "2021-11-16T19:32:39.063Z"
   },
   {
    "duration": 26,
    "start_time": "2021-11-16T19:32:46.015Z"
   },
   {
    "duration": 27,
    "start_time": "2021-11-16T19:32:49.656Z"
   },
   {
    "duration": 7,
    "start_time": "2021-11-16T19:33:46.985Z"
   },
   {
    "duration": 4,
    "start_time": "2021-11-16T19:34:20.136Z"
   },
   {
    "duration": 7,
    "start_time": "2021-11-16T19:34:22.669Z"
   },
   {
    "duration": 13,
    "start_time": "2021-11-16T19:34:32.371Z"
   },
   {
    "duration": 12,
    "start_time": "2021-11-16T19:35:04.454Z"
   },
   {
    "duration": 9,
    "start_time": "2021-11-16T19:35:18.936Z"
   },
   {
    "duration": 8,
    "start_time": "2021-11-16T19:35:36.313Z"
   },
   {
    "duration": 8,
    "start_time": "2021-11-16T19:35:38.661Z"
   },
   {
    "duration": 3,
    "start_time": "2021-11-16T19:35:39.262Z"
   },
   {
    "duration": 10,
    "start_time": "2021-11-16T19:35:41.333Z"
   },
   {
    "duration": 7,
    "start_time": "2021-11-16T19:35:41.832Z"
   },
   {
    "duration": 5,
    "start_time": "2021-11-16T19:36:04.787Z"
   },
   {
    "duration": 24,
    "start_time": "2021-11-16T19:36:06.359Z"
   },
   {
    "duration": 8,
    "start_time": "2021-11-16T19:36:33.122Z"
   },
   {
    "duration": 8,
    "start_time": "2021-11-16T19:36:33.524Z"
   },
   {
    "duration": 8,
    "start_time": "2021-11-16T19:36:43.738Z"
   },
   {
    "duration": 9,
    "start_time": "2021-11-16T19:36:44.182Z"
   },
   {
    "duration": 9,
    "start_time": "2021-11-16T19:36:47.273Z"
   },
   {
    "duration": 11,
    "start_time": "2021-11-16T19:36:47.285Z"
   },
   {
    "duration": 7,
    "start_time": "2021-11-16T19:36:58.326Z"
   },
   {
    "duration": 5,
    "start_time": "2021-11-16T19:37:29.264Z"
   },
   {
    "duration": 25,
    "start_time": "2021-11-16T19:37:29.857Z"
   },
   {
    "duration": 35,
    "start_time": "2021-11-16T19:38:18.353Z"
   },
   {
    "duration": 24,
    "start_time": "2021-11-16T19:38:21.708Z"
   },
   {
    "duration": 10,
    "start_time": "2021-11-16T19:38:31.203Z"
   },
   {
    "duration": 7,
    "start_time": "2021-11-16T19:38:33.296Z"
   },
   {
    "duration": 8,
    "start_time": "2021-11-16T19:38:40.483Z"
   },
   {
    "duration": 9,
    "start_time": "2021-11-16T19:38:43.561Z"
   },
   {
    "duration": 6,
    "start_time": "2021-11-16T19:38:54.820Z"
   },
   {
    "duration": 403,
    "start_time": "2021-11-16T19:39:03.509Z"
   },
   {
    "duration": 8,
    "start_time": "2021-11-16T19:39:08.096Z"
   },
   {
    "duration": 8,
    "start_time": "2021-11-16T19:39:13.684Z"
   },
   {
    "duration": 28,
    "start_time": "2021-11-16T19:39:31.544Z"
   },
   {
    "duration": 8,
    "start_time": "2021-11-16T19:39:49.939Z"
   },
   {
    "duration": 7,
    "start_time": "2021-11-16T19:39:54.200Z"
   },
   {
    "duration": 25,
    "start_time": "2021-11-16T19:40:21.790Z"
   },
   {
    "duration": 26,
    "start_time": "2021-11-16T19:40:23.161Z"
   },
   {
    "duration": 24,
    "start_time": "2021-11-16T19:40:41.411Z"
   },
   {
    "duration": 24,
    "start_time": "2021-11-16T19:40:52.082Z"
   },
   {
    "duration": 25,
    "start_time": "2021-11-16T19:40:54.436Z"
   },
   {
    "duration": 6,
    "start_time": "2021-11-16T19:41:44.422Z"
   },
   {
    "duration": 25,
    "start_time": "2021-11-16T19:41:57.602Z"
   },
   {
    "duration": 25,
    "start_time": "2021-11-16T19:41:59.248Z"
   },
   {
    "duration": 26,
    "start_time": "2021-11-16T19:42:00.437Z"
   },
   {
    "duration": 25,
    "start_time": "2021-11-16T19:42:01.559Z"
   },
   {
    "duration": 4,
    "start_time": "2021-11-16T19:42:31.775Z"
   },
   {
    "duration": 9,
    "start_time": "2021-11-16T19:42:33.412Z"
   },
   {
    "duration": 6,
    "start_time": "2021-11-16T19:42:39.705Z"
   },
   {
    "duration": 299,
    "start_time": "2021-11-16T19:43:18.563Z"
   },
   {
    "duration": 11,
    "start_time": "2021-11-16T19:43:21.208Z"
   },
   {
    "duration": 9,
    "start_time": "2021-11-16T19:43:39.436Z"
   },
   {
    "duration": 10,
    "start_time": "2021-11-16T19:43:43.389Z"
   },
   {
    "duration": 11,
    "start_time": "2021-11-16T19:44:11.090Z"
   },
   {
    "duration": 11,
    "start_time": "2021-11-16T19:44:11.103Z"
   },
   {
    "duration": 564,
    "start_time": "2021-11-16T19:44:11.118Z"
   },
   {
    "duration": 4,
    "start_time": "2021-11-16T19:44:11.685Z"
   },
   {
    "duration": 2404,
    "start_time": "2021-11-16T19:44:11.701Z"
   },
   {
    "duration": 2702,
    "start_time": "2021-11-16T19:44:14.107Z"
   },
   {
    "duration": 2537,
    "start_time": "2021-11-16T19:44:16.811Z"
   },
   {
    "duration": 1703,
    "start_time": "2021-11-16T19:44:19.350Z"
   },
   {
    "duration": 85,
    "start_time": "2021-11-16T19:44:21.057Z"
   },
   {
    "duration": 4,
    "start_time": "2021-11-16T19:44:21.145Z"
   },
   {
    "duration": 19,
    "start_time": "2021-11-16T19:44:21.152Z"
   },
   {
    "duration": 70,
    "start_time": "2021-11-16T19:44:21.174Z"
   },
   {
    "duration": 5,
    "start_time": "2021-11-16T19:44:21.247Z"
   },
   {
    "duration": 347,
    "start_time": "2021-11-16T19:44:21.255Z"
   },
   {
    "duration": 103,
    "start_time": "2021-11-16T19:44:21.605Z"
   },
   {
    "duration": 13,
    "start_time": "2021-11-16T19:44:21.710Z"
   },
   {
    "duration": 12,
    "start_time": "2021-11-16T19:44:21.725Z"
   },
   {
    "duration": 5,
    "start_time": "2021-11-16T19:44:21.739Z"
   },
   {
    "duration": 64,
    "start_time": "2021-11-16T19:44:21.747Z"
   },
   {
    "duration": 3,
    "start_time": "2021-11-16T19:44:21.814Z"
   },
   {
    "duration": 13,
    "start_time": "2021-11-16T19:44:21.819Z"
   },
   {
    "duration": 14405,
    "start_time": "2021-11-16T19:44:21.835Z"
   },
   {
    "duration": 110918,
    "start_time": "2021-11-16T19:44:36.243Z"
   },
   {
    "duration": 14136,
    "start_time": "2021-11-16T19:46:27.164Z"
   },
   {
    "duration": 13,
    "start_time": "2021-11-16T19:46:41.303Z"
   },
   {
    "duration": 1564,
    "start_time": "2021-11-17T00:23:32.978Z"
   },
   {
    "duration": 3,
    "start_time": "2021-11-17T00:23:34.545Z"
   },
   {
    "duration": 556,
    "start_time": "2021-11-17T00:23:34.552Z"
   },
   {
    "duration": 4,
    "start_time": "2021-11-17T00:23:35.111Z"
   },
   {
    "duration": 2408,
    "start_time": "2021-11-17T00:23:35.118Z"
   },
   {
    "duration": 2571,
    "start_time": "2021-11-17T00:23:37.529Z"
   },
   {
    "duration": 2591,
    "start_time": "2021-11-17T00:23:40.102Z"
   },
   {
    "duration": 1732,
    "start_time": "2021-11-17T00:23:42.697Z"
   },
   {
    "duration": 85,
    "start_time": "2021-11-17T00:23:44.434Z"
   },
   {
    "duration": 7,
    "start_time": "2021-11-17T00:23:44.522Z"
   },
   {
    "duration": 20,
    "start_time": "2021-11-17T00:23:44.532Z"
   },
   {
    "duration": 93,
    "start_time": "2021-11-17T00:23:44.555Z"
   },
   {
    "duration": 8,
    "start_time": "2021-11-17T00:23:44.651Z"
   },
   {
    "duration": 341,
    "start_time": "2021-11-17T00:23:44.662Z"
   },
   {
    "duration": 101,
    "start_time": "2021-11-17T00:23:45.007Z"
   },
   {
    "duration": 5,
    "start_time": "2021-11-17T00:23:45.110Z"
   },
   {
    "duration": 23,
    "start_time": "2021-11-17T00:23:45.118Z"
   },
   {
    "duration": 5,
    "start_time": "2021-11-17T00:23:45.143Z"
   },
   {
    "duration": 63,
    "start_time": "2021-11-17T00:23:45.150Z"
   },
   {
    "duration": 2,
    "start_time": "2021-11-17T00:23:45.216Z"
   },
   {
    "duration": 7,
    "start_time": "2021-11-17T00:23:45.221Z"
   },
   {
    "duration": 13863,
    "start_time": "2021-11-17T00:23:45.231Z"
   },
   {
    "duration": 723,
    "start_time": "2021-11-17T00:23:59.102Z"
   },
   {
    "duration": 14049,
    "start_time": "2021-11-17T00:23:59.828Z"
   },
   {
    "duration": 10,
    "start_time": "2021-11-17T00:24:13.880Z"
   },
   {
    "duration": 19,
    "start_time": "2021-11-17T00:25:35.264Z"
   },
   {
    "duration": 136,
    "start_time": "2021-11-17T00:29:00.050Z"
   },
   {
    "duration": 28,
    "start_time": "2021-11-17T00:29:06.402Z"
   },
   {
    "duration": 17,
    "start_time": "2021-11-17T00:29:08.098Z"
   },
   {
    "duration": 5,
    "start_time": "2021-11-17T00:29:11.626Z"
   },
   {
    "duration": 26,
    "start_time": "2021-11-17T00:29:12.017Z"
   },
   {
    "duration": 18,
    "start_time": "2021-11-17T00:29:13.497Z"
   },
   {
    "duration": 10,
    "start_time": "2021-11-17T00:29:15.097Z"
   },
   {
    "duration": 13806,
    "start_time": "2021-11-17T00:29:18.801Z"
   },
   {
    "duration": 10,
    "start_time": "2021-11-17T00:29:39.114Z"
   },
   {
    "duration": 14226,
    "start_time": "2021-11-17T00:29:40.753Z"
   },
   {
    "duration": 23,
    "start_time": "2021-11-17T00:29:54.982Z"
   },
   {
    "duration": 1628,
    "start_time": "2021-11-17T00:30:09.610Z"
   },
   {
    "duration": 4,
    "start_time": "2021-11-17T00:30:11.241Z"
   },
   {
    "duration": 541,
    "start_time": "2021-11-17T00:30:11.248Z"
   },
   {
    "duration": 9,
    "start_time": "2021-11-17T00:30:11.792Z"
   },
   {
    "duration": 2383,
    "start_time": "2021-11-17T00:30:11.803Z"
   },
   {
    "duration": 2527,
    "start_time": "2021-11-17T00:30:14.189Z"
   },
   {
    "duration": 2585,
    "start_time": "2021-11-17T00:30:16.719Z"
   },
   {
    "duration": 1768,
    "start_time": "2021-11-17T00:30:19.308Z"
   },
   {
    "duration": 66,
    "start_time": "2021-11-17T00:30:21.080Z"
   },
   {
    "duration": 6,
    "start_time": "2021-11-17T00:30:21.200Z"
   },
   {
    "duration": 18,
    "start_time": "2021-11-17T00:30:21.208Z"
   },
   {
    "duration": 117,
    "start_time": "2021-11-17T00:30:21.228Z"
   },
   {
    "duration": 7,
    "start_time": "2021-11-17T00:30:21.347Z"
   },
   {
    "duration": 350,
    "start_time": "2021-11-17T00:30:21.356Z"
   },
   {
    "duration": 100,
    "start_time": "2021-11-17T00:30:21.710Z"
   },
   {
    "duration": 9,
    "start_time": "2021-11-17T00:30:21.812Z"
   },
   {
    "duration": 10,
    "start_time": "2021-11-17T00:30:21.824Z"
   },
   {
    "duration": 5,
    "start_time": "2021-11-17T00:30:21.837Z"
   },
   {
    "duration": 65,
    "start_time": "2021-11-17T00:30:21.844Z"
   },
   {
    "duration": 16,
    "start_time": "2021-11-17T00:30:21.911Z"
   },
   {
    "duration": 7,
    "start_time": "2021-11-17T00:30:21.929Z"
   },
   {
    "duration": 13729,
    "start_time": "2021-11-17T00:30:21.938Z"
   },
   {
    "duration": 753,
    "start_time": "2021-11-17T00:30:35.671Z"
   },
   {
    "duration": 13359,
    "start_time": "2021-11-17T00:30:36.427Z"
   },
   {
    "duration": 14,
    "start_time": "2021-11-17T00:30:49.788Z"
   },
   {
    "duration": 16,
    "start_time": "2021-11-17T00:31:17.859Z"
   },
   {
    "duration": 14,
    "start_time": "2021-11-17T00:31:30.219Z"
   },
   {
    "duration": 15,
    "start_time": "2021-11-17T00:31:42.092Z"
   },
   {
    "duration": 28,
    "start_time": "2021-11-17T00:32:03.261Z"
   },
   {
    "duration": 17,
    "start_time": "2021-11-17T00:32:05.900Z"
   },
   {
    "duration": 7,
    "start_time": "2021-11-17T00:33:07.651Z"
   },
   {
    "duration": 8,
    "start_time": "2021-11-17T00:33:16.492Z"
   },
   {
    "duration": 14,
    "start_time": "2021-11-17T00:34:18.005Z"
   },
   {
    "duration": 9,
    "start_time": "2021-11-17T00:35:12.326Z"
   },
   {
    "duration": 7,
    "start_time": "2021-11-17T00:36:12.278Z"
   },
   {
    "duration": 7,
    "start_time": "2021-11-17T00:36:20.673Z"
   },
   {
    "duration": 8,
    "start_time": "2021-11-17T00:36:45.558Z"
   },
   {
    "duration": 30,
    "start_time": "2021-11-17T00:36:49.725Z"
   },
   {
    "duration": 7,
    "start_time": "2021-11-17T00:36:51.318Z"
   },
   {
    "duration": 8,
    "start_time": "2021-11-17T00:37:20.606Z"
   },
   {
    "duration": 1693,
    "start_time": "2021-11-17T00:37:31.372Z"
   },
   {
    "duration": 4,
    "start_time": "2021-11-17T00:37:33.068Z"
   },
   {
    "duration": 565,
    "start_time": "2021-11-17T00:37:33.075Z"
   },
   {
    "duration": 5,
    "start_time": "2021-11-17T00:37:33.643Z"
   },
   {
    "duration": 2487,
    "start_time": "2021-11-17T00:37:33.651Z"
   },
   {
    "duration": 2730,
    "start_time": "2021-11-17T00:37:36.140Z"
   },
   {
    "duration": 2485,
    "start_time": "2021-11-17T00:37:38.873Z"
   },
   {
    "duration": 1745,
    "start_time": "2021-11-17T00:37:41.361Z"
   },
   {
    "duration": 65,
    "start_time": "2021-11-17T00:37:43.109Z"
   },
   {
    "duration": 6,
    "start_time": "2021-11-17T00:37:43.177Z"
   },
   {
    "duration": 20,
    "start_time": "2021-11-17T00:37:43.202Z"
   },
   {
    "duration": 100,
    "start_time": "2021-11-17T00:37:43.226Z"
   },
   {
    "duration": 8,
    "start_time": "2021-11-17T00:37:43.328Z"
   },
   {
    "duration": 264,
    "start_time": "2021-11-17T00:37:43.339Z"
   },
   {
    "duration": 98,
    "start_time": "2021-11-17T00:37:43.606Z"
   },
   {
    "duration": 7,
    "start_time": "2021-11-17T00:37:43.707Z"
   },
   {
    "duration": 12,
    "start_time": "2021-11-17T00:37:43.717Z"
   },
   {
    "duration": 7,
    "start_time": "2021-11-17T00:37:43.732Z"
   },
   {
    "duration": 80,
    "start_time": "2021-11-17T00:37:43.742Z"
   },
   {
    "duration": 8,
    "start_time": "2021-11-17T00:37:43.825Z"
   },
   {
    "duration": 20,
    "start_time": "2021-11-17T00:37:43.836Z"
   },
   {
    "duration": 7,
    "start_time": "2021-11-17T00:37:43.902Z"
   },
   {
    "duration": 14428,
    "start_time": "2021-11-17T00:37:43.916Z"
   },
   {
    "duration": 729,
    "start_time": "2021-11-17T00:37:58.347Z"
   },
   {
    "duration": 13924,
    "start_time": "2021-11-17T00:37:59.079Z"
   },
   {
    "duration": 10,
    "start_time": "2021-11-17T00:38:13.006Z"
   },
   {
    "duration": 17,
    "start_time": "2021-11-17T00:41:22.427Z"
   },
   {
    "duration": 128,
    "start_time": "2021-11-17T00:42:59.580Z"
   },
   {
    "duration": 546,
    "start_time": "2021-11-17T00:43:04.827Z"
   },
   {
    "duration": 396,
    "start_time": "2021-11-17T00:43:16.052Z"
   },
   {
    "duration": 16,
    "start_time": "2021-11-17T00:43:29.275Z"
   },
   {
    "duration": 29,
    "start_time": "2021-11-17T00:44:29.268Z"
   },
   {
    "duration": 8,
    "start_time": "2021-11-17T00:44:30.812Z"
   },
   {
    "duration": 18,
    "start_time": "2021-11-17T00:44:31.100Z"
   },
   {
    "duration": 7,
    "start_time": "2021-11-17T00:44:32.493Z"
   },
   {
    "duration": 14085,
    "start_time": "2021-11-17T00:44:35.037Z"
   },
   {
    "duration": 14245,
    "start_time": "2021-11-17T00:45:43.998Z"
   },
   {
    "duration": 12,
    "start_time": "2021-11-17T00:46:13.869Z"
   },
   {
    "duration": 5,
    "start_time": "2021-11-17T00:51:07.064Z"
   },
   {
    "duration": 31,
    "start_time": "2021-11-17T00:51:07.600Z"
   },
   {
    "duration": 7,
    "start_time": "2021-11-17T00:51:16.993Z"
   },
   {
    "duration": 17,
    "start_time": "2021-11-17T00:51:19.512Z"
   },
   {
    "duration": 17,
    "start_time": "2021-11-17T00:51:54.184Z"
   },
   {
    "duration": 7,
    "start_time": "2021-11-17T00:51:55.776Z"
   },
   {
    "duration": 1424,
    "start_time": "2021-11-17T00:51:58.064Z"
   },
   {
    "duration": 401,
    "start_time": "2021-11-17T00:52:02.789Z"
   },
   {
    "duration": 1402,
    "start_time": "2021-11-17T00:52:04.056Z"
   },
   {
    "duration": 402,
    "start_time": "2021-11-17T00:52:06.177Z"
   },
   {
    "duration": 4,
    "start_time": "2021-11-17T00:53:06.850Z"
   },
   {
    "duration": 24,
    "start_time": "2021-11-17T00:53:08.312Z"
   },
   {
    "duration": 7,
    "start_time": "2021-11-17T00:53:11.640Z"
   },
   {
    "duration": 17,
    "start_time": "2021-11-17T00:53:12.789Z"
   },
   {
    "duration": 16,
    "start_time": "2021-11-17T00:53:17.584Z"
   },
   {
    "duration": 9,
    "start_time": "2021-11-17T00:53:19.489Z"
   },
   {
    "duration": 17,
    "start_time": "2021-11-17T00:53:37.833Z"
   },
   {
    "duration": 198,
    "start_time": "2021-11-17T00:54:56.593Z"
   },
   {
    "duration": 15,
    "start_time": "2021-11-17T00:55:02.121Z"
   },
   {
    "duration": 15,
    "start_time": "2021-11-17T00:55:31.362Z"
   },
   {
    "duration": 16,
    "start_time": "2021-11-17T00:56:03.124Z"
   },
   {
    "duration": 4,
    "start_time": "2021-11-17T00:56:14.698Z"
   },
   {
    "duration": 24,
    "start_time": "2021-11-17T00:56:15.314Z"
   },
   {
    "duration": 7,
    "start_time": "2021-11-17T00:56:18.666Z"
   },
   {
    "duration": 7,
    "start_time": "2021-11-17T00:56:36.995Z"
   },
   {
    "duration": 7,
    "start_time": "2021-11-17T00:57:23.041Z"
   },
   {
    "duration": 1545,
    "start_time": "2021-11-17T00:57:52.990Z"
   },
   {
    "duration": 4,
    "start_time": "2021-11-17T00:57:54.538Z"
   },
   {
    "duration": 566,
    "start_time": "2021-11-17T00:57:54.544Z"
   },
   {
    "duration": 6,
    "start_time": "2021-11-17T00:57:55.114Z"
   },
   {
    "duration": 2423,
    "start_time": "2021-11-17T00:57:55.122Z"
   },
   {
    "duration": 2602,
    "start_time": "2021-11-17T00:57:57.547Z"
   },
   {
    "duration": 2465,
    "start_time": "2021-11-17T00:58:00.151Z"
   },
   {
    "duration": 1763,
    "start_time": "2021-11-17T00:58:02.618Z"
   },
   {
    "duration": 70,
    "start_time": "2021-11-17T00:58:04.385Z"
   },
   {
    "duration": 5,
    "start_time": "2021-11-17T00:58:04.458Z"
   },
   {
    "duration": 40,
    "start_time": "2021-11-17T00:58:04.465Z"
   },
   {
    "duration": 64,
    "start_time": "2021-11-17T00:58:04.508Z"
   },
   {
    "duration": 6,
    "start_time": "2021-11-17T00:58:04.575Z"
   },
   {
    "duration": 318,
    "start_time": "2021-11-17T00:58:04.583Z"
   },
   {
    "duration": 98,
    "start_time": "2021-11-17T00:58:04.905Z"
   },
   {
    "duration": 9,
    "start_time": "2021-11-17T00:58:05.006Z"
   },
   {
    "duration": 11,
    "start_time": "2021-11-17T00:58:05.018Z"
   },
   {
    "duration": 5,
    "start_time": "2021-11-17T00:58:56.861Z"
   },
   {
    "duration": 28,
    "start_time": "2021-11-17T00:58:57.965Z"
   },
   {
    "duration": 27,
    "start_time": "2021-11-17T01:00:28.638Z"
   },
   {
    "duration": 15,
    "start_time": "2021-11-17T01:01:20.456Z"
   },
   {
    "duration": 8,
    "start_time": "2021-11-17T01:01:21.861Z"
   },
   {
    "duration": 13790,
    "start_time": "2021-11-17T01:01:23.918Z"
   },
   {
    "duration": 12,
    "start_time": "2021-11-17T01:06:43.014Z"
   },
   {
    "duration": 530,
    "start_time": "2021-11-17T01:07:08.170Z"
   },
   {
    "duration": 26,
    "start_time": "2021-11-17T01:07:35.714Z"
   },
   {
    "duration": 27,
    "start_time": "2021-11-17T01:07:57.026Z"
   },
   {
    "duration": 43,
    "start_time": "2021-11-17T01:08:09.698Z"
   },
   {
    "duration": 28,
    "start_time": "2021-11-17T01:09:17.245Z"
   },
   {
    "duration": 44,
    "start_time": "2021-11-17T01:09:42.330Z"
   },
   {
    "duration": 862,
    "start_time": "2021-11-17T01:10:13.035Z"
   },
   {
    "duration": 23839,
    "start_time": "2021-11-17T01:10:16.100Z"
   },
   {
    "duration": 16,
    "start_time": "2021-11-17T01:10:39.943Z"
   },
   {
    "duration": 12,
    "start_time": "2021-11-17T01:11:13.235Z"
   },
   {
    "duration": 10,
    "start_time": "2021-11-17T01:12:00.156Z"
   },
   {
    "duration": 59,
    "start_time": "2021-11-17T01:12:39.180Z"
   },
   {
    "duration": 2236,
    "start_time": "2021-11-17T01:12:53.734Z"
   },
   {
    "duration": 5,
    "start_time": "2021-11-17T01:12:55.973Z"
   },
   {
    "duration": 850,
    "start_time": "2021-11-17T01:12:55.983Z"
   },
   {
    "duration": 6,
    "start_time": "2021-11-17T01:12:56.838Z"
   },
   {
    "duration": 3858,
    "start_time": "2021-11-17T01:12:56.847Z"
   },
   {
    "duration": 2583,
    "start_time": "2021-11-17T01:13:00.708Z"
   },
   {
    "duration": 2543,
    "start_time": "2021-11-17T01:13:03.300Z"
   },
   {
    "duration": 1815,
    "start_time": "2021-11-17T01:13:05.847Z"
   },
   {
    "duration": 70,
    "start_time": "2021-11-17T01:13:07.668Z"
   },
   {
    "duration": 5,
    "start_time": "2021-11-17T01:13:07.742Z"
   },
   {
    "duration": 29,
    "start_time": "2021-11-17T01:13:07.749Z"
   },
   {
    "duration": 72,
    "start_time": "2021-11-17T01:13:07.780Z"
   },
   {
    "duration": 6,
    "start_time": "2021-11-17T01:13:07.855Z"
   },
   {
    "duration": 250,
    "start_time": "2021-11-17T01:13:07.863Z"
   },
   {
    "duration": 103,
    "start_time": "2021-11-17T01:13:08.201Z"
   },
   {
    "duration": 5,
    "start_time": "2021-11-17T01:13:08.306Z"
   },
   {
    "duration": 14,
    "start_time": "2021-11-17T01:13:08.313Z"
   },
   {
    "duration": 5,
    "start_time": "2021-11-17T01:13:08.330Z"
   },
   {
    "duration": 533,
    "start_time": "2021-11-17T01:13:08.338Z"
   },
   {
    "duration": 2520,
    "start_time": "2021-11-17T01:13:06.355Z"
   },
   {
    "duration": 2485,
    "start_time": "2021-11-17T01:13:06.391Z"
   },
   {
    "duration": 2475,
    "start_time": "2021-11-17T01:13:06.402Z"
   },
   {
    "duration": 2472,
    "start_time": "2021-11-17T01:13:06.407Z"
   },
   {
    "duration": 2471,
    "start_time": "2021-11-17T01:13:06.409Z"
   },
   {
    "duration": 2470,
    "start_time": "2021-11-17T01:13:06.412Z"
   },
   {
    "duration": 2468,
    "start_time": "2021-11-17T01:13:06.415Z"
   },
   {
    "duration": 2467,
    "start_time": "2021-11-17T01:13:06.418Z"
   },
   {
    "duration": 49,
    "start_time": "2021-11-17T01:14:17.262Z"
   },
   {
    "duration": 8,
    "start_time": "2021-11-17T01:14:27.262Z"
   },
   {
    "duration": 15,
    "start_time": "2021-11-17T01:14:34.854Z"
   },
   {
    "duration": 69,
    "start_time": "2021-11-17T01:15:03.439Z"
   },
   {
    "duration": 1630,
    "start_time": "2021-11-17T01:17:03.072Z"
   },
   {
    "duration": 4,
    "start_time": "2021-11-17T01:17:04.705Z"
   },
   {
    "duration": 568,
    "start_time": "2021-11-17T01:17:04.712Z"
   },
   {
    "duration": 4,
    "start_time": "2021-11-17T01:17:05.283Z"
   },
   {
    "duration": 2324,
    "start_time": "2021-11-17T01:17:05.300Z"
   },
   {
    "duration": 2503,
    "start_time": "2021-11-17T01:17:07.626Z"
   },
   {
    "duration": 2491,
    "start_time": "2021-11-17T01:17:10.131Z"
   },
   {
    "duration": 1736,
    "start_time": "2021-11-17T01:17:12.626Z"
   },
   {
    "duration": 82,
    "start_time": "2021-11-17T01:17:14.366Z"
   },
   {
    "duration": 5,
    "start_time": "2021-11-17T01:17:14.450Z"
   },
   {
    "duration": 20,
    "start_time": "2021-11-17T01:17:14.457Z"
   },
   {
    "duration": 73,
    "start_time": "2021-11-17T01:17:14.479Z"
   },
   {
    "duration": 6,
    "start_time": "2021-11-17T01:17:14.555Z"
   },
   {
    "duration": 345,
    "start_time": "2021-11-17T01:17:14.564Z"
   },
   {
    "duration": 101,
    "start_time": "2021-11-17T01:17:15.001Z"
   },
   {
    "duration": 12,
    "start_time": "2021-11-17T01:17:15.106Z"
   },
   {
    "duration": 17,
    "start_time": "2021-11-17T01:17:15.122Z"
   },
   {
    "duration": 6,
    "start_time": "2021-11-17T01:17:15.142Z"
   },
   {
    "duration": 643,
    "start_time": "2021-11-17T01:17:15.150Z"
   },
   {
    "duration": 2480,
    "start_time": "2021-11-17T01:17:13.317Z"
   },
   {
    "duration": 2473,
    "start_time": "2021-11-17T01:17:13.326Z"
   },
   {
    "duration": 2468,
    "start_time": "2021-11-17T01:17:13.333Z"
   },
   {
    "duration": 2463,
    "start_time": "2021-11-17T01:17:13.341Z"
   },
   {
    "duration": 2460,
    "start_time": "2021-11-17T01:17:13.346Z"
   },
   {
    "duration": 2459,
    "start_time": "2021-11-17T01:17:13.349Z"
   },
   {
    "duration": 2458,
    "start_time": "2021-11-17T01:17:13.352Z"
   },
   {
    "duration": 2457,
    "start_time": "2021-11-17T01:17:13.355Z"
   },
   {
    "duration": 47,
    "start_time": "2021-11-17T01:18:01.380Z"
   },
   {
    "duration": 45,
    "start_time": "2021-11-17T01:18:31.635Z"
   },
   {
    "duration": 52,
    "start_time": "2021-11-17T01:19:23.372Z"
   },
   {
    "duration": 1646,
    "start_time": "2021-11-17T01:19:37.375Z"
   },
   {
    "duration": 4,
    "start_time": "2021-11-17T01:19:39.024Z"
   },
   {
    "duration": 670,
    "start_time": "2021-11-17T01:19:39.031Z"
   },
   {
    "duration": 6,
    "start_time": "2021-11-17T01:19:39.705Z"
   },
   {
    "duration": 4300,
    "start_time": "2021-11-17T01:19:39.714Z"
   },
   {
    "duration": 2684,
    "start_time": "2021-11-17T01:19:44.016Z"
   },
   {
    "duration": 2505,
    "start_time": "2021-11-17T01:19:46.703Z"
   },
   {
    "duration": 1813,
    "start_time": "2021-11-17T01:19:49.212Z"
   },
   {
    "duration": 74,
    "start_time": "2021-11-17T01:19:51.029Z"
   },
   {
    "duration": 6,
    "start_time": "2021-11-17T01:19:51.106Z"
   },
   {
    "duration": 21,
    "start_time": "2021-11-17T01:19:51.115Z"
   },
   {
    "duration": 82,
    "start_time": "2021-11-17T01:19:51.139Z"
   },
   {
    "duration": 7,
    "start_time": "2021-11-17T01:19:51.224Z"
   },
   {
    "duration": 366,
    "start_time": "2021-11-17T01:19:51.235Z"
   },
   {
    "duration": 100,
    "start_time": "2021-11-17T01:19:51.605Z"
   },
   {
    "duration": 7,
    "start_time": "2021-11-17T01:19:51.708Z"
   },
   {
    "duration": 15,
    "start_time": "2021-11-17T01:19:51.718Z"
   },
   {
    "duration": 7,
    "start_time": "2021-11-17T01:19:51.736Z"
   },
   {
    "duration": 98,
    "start_time": "2021-11-17T01:19:51.746Z"
   },
   {
    "duration": 11,
    "start_time": "2021-11-17T01:19:51.847Z"
   },
   {
    "duration": 542,
    "start_time": "2021-11-17T01:19:51.861Z"
   },
   {
    "duration": 2515,
    "start_time": "2021-11-17T01:19:49.891Z"
   },
   {
    "duration": 2507,
    "start_time": "2021-11-17T01:19:49.900Z"
   },
   {
    "duration": 2505,
    "start_time": "2021-11-17T01:19:49.904Z"
   },
   {
    "duration": 2501,
    "start_time": "2021-11-17T01:19:49.909Z"
   },
   {
    "duration": 2497,
    "start_time": "2021-11-17T01:19:49.914Z"
   },
   {
    "duration": 2496,
    "start_time": "2021-11-17T01:19:49.917Z"
   },
   {
    "duration": 7,
    "start_time": "2021-11-17T01:21:19.350Z"
   },
   {
    "duration": 47,
    "start_time": "2021-11-17T01:21:20.110Z"
   },
   {
    "duration": 55,
    "start_time": "2021-11-17T01:21:51.382Z"
   },
   {
    "duration": 10,
    "start_time": "2021-11-17T01:22:51.103Z"
   },
   {
    "duration": 381,
    "start_time": "2021-11-17T01:22:51.822Z"
   },
   {
    "duration": 15,
    "start_time": "2021-11-17T01:22:52.414Z"
   },
   {
    "duration": 423,
    "start_time": "2021-11-17T04:07:21.198Z"
   },
   {
    "duration": 16,
    "start_time": "2021-11-17T04:07:34.208Z"
   },
   {
    "duration": 14,
    "start_time": "2021-11-17T04:08:44.418Z"
   },
   {
    "duration": 18,
    "start_time": "2021-11-17T04:09:00.887Z"
   },
   {
    "duration": 139,
    "start_time": "2021-11-17T04:15:35.731Z"
   },
   {
    "duration": 701,
    "start_time": "2021-11-17T04:15:40.658Z"
   },
   {
    "duration": 7,
    "start_time": "2021-11-17T04:17:06.964Z"
   },
   {
    "duration": 13538,
    "start_time": "2021-11-17T04:17:11.323Z"
   },
   {
    "duration": 4,
    "start_time": "2021-11-17T04:22:10.678Z"
   },
   {
    "duration": 429,
    "start_time": "2021-11-17T04:22:17.709Z"
   },
   {
    "duration": 48,
    "start_time": "2021-11-17T04:22:27.702Z"
   },
   {
    "duration": 7,
    "start_time": "2021-11-17T04:30:21.979Z"
   },
   {
    "duration": 7,
    "start_time": "2021-11-17T04:30:27.913Z"
   },
   {
    "duration": 773,
    "start_time": "2021-11-17T04:30:30.274Z"
   },
   {
    "duration": 420,
    "start_time": "2021-11-17T04:30:31.129Z"
   },
   {
    "duration": 13521,
    "start_time": "2021-11-17T04:30:45.314Z"
   },
   {
    "duration": 13650,
    "start_time": "2021-11-17T04:30:58.838Z"
   },
   {
    "duration": 1562,
    "start_time": "2021-11-17T04:38:03.076Z"
   },
   {
    "duration": 5,
    "start_time": "2021-11-17T04:38:04.641Z"
   },
   {
    "duration": 585,
    "start_time": "2021-11-17T04:38:04.649Z"
   },
   {
    "duration": 5,
    "start_time": "2021-11-17T04:38:05.238Z"
   },
   {
    "duration": 2378,
    "start_time": "2021-11-17T04:38:05.245Z"
   },
   {
    "duration": 2514,
    "start_time": "2021-11-17T04:38:07.626Z"
   },
   {
    "duration": 2381,
    "start_time": "2021-11-17T04:38:10.143Z"
   },
   {
    "duration": 1681,
    "start_time": "2021-11-17T04:38:12.528Z"
   },
   {
    "duration": 60,
    "start_time": "2021-11-17T04:38:14.212Z"
   },
   {
    "duration": 5,
    "start_time": "2021-11-17T04:38:14.275Z"
   },
   {
    "duration": 19,
    "start_time": "2021-11-17T04:38:14.302Z"
   },
   {
    "duration": 92,
    "start_time": "2021-11-17T04:38:14.324Z"
   },
   {
    "duration": 8,
    "start_time": "2021-11-17T04:38:14.419Z"
   },
   {
    "duration": 279,
    "start_time": "2021-11-17T04:38:14.430Z"
   },
   {
    "duration": 12,
    "start_time": "2021-11-17T04:38:14.801Z"
   },
   {
    "duration": 13,
    "start_time": "2021-11-17T04:38:14.816Z"
   },
   {
    "duration": 11,
    "start_time": "2021-11-17T04:38:14.832Z"
   },
   {
    "duration": 5,
    "start_time": "2021-11-17T04:38:14.900Z"
   },
   {
    "duration": 545,
    "start_time": "2021-11-17T04:38:14.908Z"
   },
   {
    "duration": 42,
    "start_time": "2021-11-17T04:38:15.414Z"
   },
   {
    "duration": 20,
    "start_time": "2021-11-17T04:38:15.437Z"
   },
   {
    "duration": 17,
    "start_time": "2021-11-17T04:38:15.441Z"
   },
   {
    "duration": 15,
    "start_time": "2021-11-17T04:38:15.445Z"
   },
   {
    "duration": 12,
    "start_time": "2021-11-17T04:38:15.449Z"
   },
   {
    "duration": 10,
    "start_time": "2021-11-17T04:38:15.452Z"
   },
   {
    "duration": 6,
    "start_time": "2021-11-17T04:38:15.457Z"
   },
   {
    "duration": 3,
    "start_time": "2021-11-17T04:38:15.461Z"
   },
   {
    "duration": 2,
    "start_time": "2021-11-17T04:38:15.464Z"
   },
   {
    "duration": 423,
    "start_time": "2021-11-17T04:42:37.192Z"
   },
   {
    "duration": 7,
    "start_time": "2021-11-17T04:46:00.137Z"
   },
   {
    "duration": 7,
    "start_time": "2021-11-17T04:46:04.578Z"
   },
   {
    "duration": 12,
    "start_time": "2021-11-17T04:46:23.347Z"
   },
   {
    "duration": 382,
    "start_time": "2021-11-17T04:49:40.507Z"
   },
   {
    "duration": 9,
    "start_time": "2021-11-17T04:49:52.987Z"
   },
   {
    "duration": 388,
    "start_time": "2021-11-17T04:50:29.396Z"
   },
   {
    "duration": 381,
    "start_time": "2021-11-17T04:50:50.131Z"
   },
   {
    "duration": 14,
    "start_time": "2021-11-17T04:51:06.948Z"
   },
   {
    "duration": 12,
    "start_time": "2021-11-17T04:51:50.558Z"
   },
   {
    "duration": 18,
    "start_time": "2021-11-17T04:52:45.371Z"
   },
   {
    "duration": 37,
    "start_time": "2021-11-17T04:54:41.190Z"
   },
   {
    "duration": 493,
    "start_time": "2021-11-17T04:55:54.463Z"
   },
   {
    "duration": 393,
    "start_time": "2021-11-17T04:57:40.368Z"
   },
   {
    "duration": 20,
    "start_time": "2021-11-17T04:58:13.999Z"
   },
   {
    "duration": 25,
    "start_time": "2021-11-17T04:58:21.897Z"
   },
   {
    "duration": 491,
    "start_time": "2021-11-17T05:00:02.490Z"
   },
   {
    "duration": 503,
    "start_time": "2021-11-17T05:32:44.555Z"
   },
   {
    "duration": 27,
    "start_time": "2021-11-17T05:34:21.943Z"
   },
   {
    "duration": 6,
    "start_time": "2021-11-17T05:36:07.780Z"
   },
   {
    "duration": 13873,
    "start_time": "2021-11-17T05:36:16.828Z"
   },
   {
    "duration": 5,
    "start_time": "2021-11-17T05:37:47.276Z"
   },
   {
    "duration": 27,
    "start_time": "2021-11-17T05:37:47.668Z"
   },
   {
    "duration": 7,
    "start_time": "2021-11-17T05:37:53.308Z"
   },
   {
    "duration": 13923,
    "start_time": "2021-11-17T05:37:55.172Z"
   },
   {
    "duration": 5,
    "start_time": "2021-11-17T05:41:28.446Z"
   },
   {
    "duration": 31,
    "start_time": "2021-11-17T05:41:28.958Z"
   },
   {
    "duration": 4,
    "start_time": "2021-11-17T05:41:38.102Z"
   },
   {
    "duration": 31,
    "start_time": "2021-11-17T05:41:38.998Z"
   },
   {
    "duration": 17766,
    "start_time": "2021-11-17T05:46:00.545Z"
   },
   {
    "duration": 9,
    "start_time": "2021-11-17T05:46:18.315Z"
   },
   {
    "duration": 4,
    "start_time": "2021-11-17T05:46:23.425Z"
   },
   {
    "duration": 10,
    "start_time": "2021-11-17T05:46:26.465Z"
   },
   {
    "duration": 21957,
    "start_time": "2021-11-17T05:46:30.496Z"
   },
   {
    "duration": 23498,
    "start_time": "2021-11-17T05:47:35.682Z"
   },
   {
    "duration": 16431,
    "start_time": "2021-11-17T05:48:40.298Z"
   },
   {
    "duration": 1098,
    "start_time": "2021-11-17T05:51:02.651Z"
   },
   {
    "duration": 131,
    "start_time": "2021-11-17T06:03:05.305Z"
   },
   {
    "duration": 169,
    "start_time": "2021-11-17T06:03:13.900Z"
   },
   {
    "duration": 1479,
    "start_time": "2021-11-17T06:03:29.762Z"
   },
   {
    "duration": 18456,
    "start_time": "2021-11-17T06:03:35.793Z"
   },
   {
    "duration": 33,
    "start_time": "2021-11-17T06:04:04.684Z"
   },
   {
    "duration": 22,
    "start_time": "2021-11-17T06:04:56.763Z"
   },
   {
    "duration": 20,
    "start_time": "2021-11-17T06:05:45.037Z"
   },
   {
    "duration": 23,
    "start_time": "2021-11-17T06:05:52.491Z"
   },
   {
    "duration": 15,
    "start_time": "2021-11-17T06:06:18.613Z"
   },
   {
    "duration": 12,
    "start_time": "2021-11-17T06:06:36.548Z"
   },
   {
    "duration": 21,
    "start_time": "2021-11-17T06:07:00.990Z"
   },
   {
    "duration": 16,
    "start_time": "2021-11-17T06:07:08.045Z"
   },
   {
    "duration": 202,
    "start_time": "2021-11-17T06:08:16.494Z"
   },
   {
    "duration": 130,
    "start_time": "2021-11-17T06:08:22.109Z"
   },
   {
    "duration": 17,
    "start_time": "2021-11-17T06:08:32.834Z"
   },
   {
    "duration": 1838,
    "start_time": "2021-11-17T06:09:25.540Z"
   },
   {
    "duration": 4,
    "start_time": "2021-11-17T06:09:27.381Z"
   },
   {
    "duration": 588,
    "start_time": "2021-11-17T06:09:27.405Z"
   },
   {
    "duration": 6,
    "start_time": "2021-11-17T06:09:28.000Z"
   },
   {
    "duration": 2770,
    "start_time": "2021-11-17T06:09:28.010Z"
   },
   {
    "duration": 3055,
    "start_time": "2021-11-17T06:09:30.783Z"
   },
   {
    "duration": 2741,
    "start_time": "2021-11-17T06:09:33.841Z"
   },
   {
    "duration": 2027,
    "start_time": "2021-11-17T06:09:36.588Z"
   },
   {
    "duration": 66,
    "start_time": "2021-11-17T06:09:38.619Z"
   },
   {
    "duration": 8,
    "start_time": "2021-11-17T06:09:38.701Z"
   },
   {
    "duration": 28,
    "start_time": "2021-11-17T06:09:38.713Z"
   },
   {
    "duration": 97,
    "start_time": "2021-11-17T06:09:38.745Z"
   },
   {
    "duration": 7,
    "start_time": "2021-11-17T06:09:38.844Z"
   },
   {
    "duration": 463,
    "start_time": "2021-11-17T06:09:38.853Z"
   },
   {
    "duration": 91,
    "start_time": "2021-11-17T06:09:39.336Z"
   },
   {
    "duration": 12,
    "start_time": "2021-11-17T06:09:39.432Z"
   },
   {
    "duration": 12,
    "start_time": "2021-11-17T06:09:39.446Z"
   },
   {
    "duration": 5,
    "start_time": "2021-11-17T06:09:39.460Z"
   },
   {
    "duration": 5,
    "start_time": "2021-11-17T06:09:39.468Z"
   },
   {
    "duration": 54,
    "start_time": "2021-11-17T06:09:39.476Z"
   },
   {
    "duration": 7,
    "start_time": "2021-11-17T06:09:39.533Z"
   },
   {
    "duration": 19417,
    "start_time": "2021-11-17T06:09:39.543Z"
   },
   {
    "duration": 840,
    "start_time": "2021-11-17T06:09:58.964Z"
   },
   {
    "duration": 1783,
    "start_time": "2021-11-17T06:11:35.410Z"
   },
   {
    "duration": 9,
    "start_time": "2021-11-17T06:11:37.196Z"
   },
   {
    "duration": 583,
    "start_time": "2021-11-17T06:11:37.209Z"
   },
   {
    "duration": 8,
    "start_time": "2021-11-17T06:11:37.800Z"
   },
   {
    "duration": 2743,
    "start_time": "2021-11-17T06:11:37.813Z"
   },
   {
    "duration": 2853,
    "start_time": "2021-11-17T06:11:40.559Z"
   },
   {
    "duration": 2675,
    "start_time": "2021-11-17T06:11:43.415Z"
   },
   {
    "duration": 1876,
    "start_time": "2021-11-17T06:11:46.103Z"
   },
   {
    "duration": 77,
    "start_time": "2021-11-17T06:11:47.982Z"
   },
   {
    "duration": 6,
    "start_time": "2021-11-17T06:11:48.061Z"
   },
   {
    "duration": 39,
    "start_time": "2021-11-17T06:11:48.069Z"
   },
   {
    "duration": 79,
    "start_time": "2021-11-17T06:11:48.111Z"
   },
   {
    "duration": 15,
    "start_time": "2021-11-17T06:11:48.193Z"
   },
   {
    "duration": 389,
    "start_time": "2021-11-17T06:11:48.211Z"
   },
   {
    "duration": 105,
    "start_time": "2021-11-17T06:11:48.607Z"
   },
   {
    "duration": 6,
    "start_time": "2021-11-17T06:11:48.715Z"
   },
   {
    "duration": 14,
    "start_time": "2021-11-17T06:11:48.725Z"
   },
   {
    "duration": 4,
    "start_time": "2021-11-17T06:11:48.741Z"
   },
   {
    "duration": 13,
    "start_time": "2021-11-17T06:11:48.747Z"
   },
   {
    "duration": 75,
    "start_time": "2021-11-17T06:11:48.762Z"
   },
   {
    "duration": 6,
    "start_time": "2021-11-17T06:11:48.840Z"
   },
   {
    "duration": 18756,
    "start_time": "2021-11-17T06:11:48.849Z"
   },
   {
    "duration": 823,
    "start_time": "2021-11-17T06:12:07.611Z"
   },
   {
    "duration": 16,
    "start_time": "2021-11-17T06:12:37.919Z"
   },
   {
    "duration": 1733,
    "start_time": "2021-11-17T06:23:33.175Z"
   },
   {
    "duration": 5,
    "start_time": "2021-11-17T06:23:34.912Z"
   },
   {
    "duration": 625,
    "start_time": "2021-11-17T06:23:34.921Z"
   },
   {
    "duration": 4,
    "start_time": "2021-11-17T06:23:35.549Z"
   },
   {
    "duration": 2824,
    "start_time": "2021-11-17T06:23:35.556Z"
   },
   {
    "duration": 3088,
    "start_time": "2021-11-17T06:23:38.383Z"
   },
   {
    "duration": 2840,
    "start_time": "2021-11-17T06:23:41.473Z"
   },
   {
    "duration": 1930,
    "start_time": "2021-11-17T06:23:44.319Z"
   },
   {
    "duration": 77,
    "start_time": "2021-11-17T06:23:46.252Z"
   },
   {
    "duration": 6,
    "start_time": "2021-11-17T06:23:46.332Z"
   },
   {
    "duration": 18,
    "start_time": "2021-11-17T06:23:46.341Z"
   },
   {
    "duration": 85,
    "start_time": "2021-11-17T06:23:46.362Z"
   },
   {
    "duration": 6,
    "start_time": "2021-11-17T06:23:46.449Z"
   },
   {
    "duration": 350,
    "start_time": "2021-11-17T06:23:46.458Z"
   },
   {
    "duration": 107,
    "start_time": "2021-11-17T06:23:46.812Z"
   },
   {
    "duration": 5,
    "start_time": "2021-11-17T06:23:46.922Z"
   },
   {
    "duration": 18,
    "start_time": "2021-11-17T06:23:46.930Z"
   },
   {
    "duration": 13,
    "start_time": "2021-11-17T06:23:46.950Z"
   },
   {
    "duration": 63,
    "start_time": "2021-11-17T06:23:46.965Z"
   },
   {
    "duration": 7,
    "start_time": "2021-11-17T06:23:47.031Z"
   },
   {
    "duration": 17697,
    "start_time": "2021-11-17T06:23:47.040Z"
   },
   {
    "duration": 787,
    "start_time": "2021-11-17T06:24:04.739Z"
   },
   {
    "duration": 19359,
    "start_time": "2021-11-17T06:37:41.214Z"
   },
   {
    "duration": 12,
    "start_time": "2021-11-17T06:38:00.576Z"
   },
   {
    "duration": 1947,
    "start_time": "2021-11-17T06:39:47.322Z"
   },
   {
    "duration": 3,
    "start_time": "2021-11-17T06:39:49.272Z"
   },
   {
    "duration": 653,
    "start_time": "2021-11-17T06:39:49.280Z"
   },
   {
    "duration": 5,
    "start_time": "2021-11-17T06:39:49.936Z"
   },
   {
    "duration": 2748,
    "start_time": "2021-11-17T06:39:49.943Z"
   },
   {
    "duration": 3007,
    "start_time": "2021-11-17T06:39:52.702Z"
   },
   {
    "duration": 2661,
    "start_time": "2021-11-17T06:39:55.712Z"
   },
   {
    "duration": 1979,
    "start_time": "2021-11-17T06:39:58.376Z"
   },
   {
    "duration": 93,
    "start_time": "2021-11-17T06:40:00.358Z"
   },
   {
    "duration": 6,
    "start_time": "2021-11-17T06:40:00.453Z"
   },
   {
    "duration": 33,
    "start_time": "2021-11-17T06:40:00.461Z"
   },
   {
    "duration": 78,
    "start_time": "2021-11-17T06:40:00.504Z"
   },
   {
    "duration": 21,
    "start_time": "2021-11-17T06:40:00.584Z"
   },
   {
    "duration": 200,
    "start_time": "2021-11-17T06:40:00.616Z"
   },
   {
    "duration": 101,
    "start_time": "2021-11-17T06:40:00.902Z"
   },
   {
    "duration": 10,
    "start_time": "2021-11-17T06:40:01.008Z"
   },
   {
    "duration": 22,
    "start_time": "2021-11-17T06:40:01.020Z"
   },
   {
    "duration": 12,
    "start_time": "2021-11-17T06:40:01.045Z"
   },
   {
    "duration": 67,
    "start_time": "2021-11-17T06:40:01.059Z"
   },
   {
    "duration": 7,
    "start_time": "2021-11-17T06:40:01.129Z"
   },
   {
    "duration": 18534,
    "start_time": "2021-11-17T06:40:01.138Z"
   },
   {
    "duration": 2235,
    "start_time": "2021-11-17T06:40:19.674Z"
   },
   {
    "duration": 13,
    "start_time": "2021-11-17T06:51:40.374Z"
   },
   {
    "duration": 12,
    "start_time": "2021-11-17T06:52:43.623Z"
   },
   {
    "duration": 1665,
    "start_time": "2021-11-17T06:54:55.383Z"
   },
   {
    "duration": 4,
    "start_time": "2021-11-17T06:54:57.050Z"
   },
   {
    "duration": 534,
    "start_time": "2021-11-17T06:54:57.057Z"
   },
   {
    "duration": 5,
    "start_time": "2021-11-17T06:54:57.601Z"
   },
   {
    "duration": 2371,
    "start_time": "2021-11-17T06:54:57.608Z"
   },
   {
    "duration": 2602,
    "start_time": "2021-11-17T06:54:59.982Z"
   },
   {
    "duration": 2453,
    "start_time": "2021-11-17T06:55:02.587Z"
   },
   {
    "duration": 1745,
    "start_time": "2021-11-17T06:55:05.044Z"
   },
   {
    "duration": 67,
    "start_time": "2021-11-17T06:55:06.792Z"
   },
   {
    "duration": 6,
    "start_time": "2021-11-17T06:55:06.861Z"
   },
   {
    "duration": 42,
    "start_time": "2021-11-17T06:55:06.869Z"
   },
   {
    "duration": 73,
    "start_time": "2021-11-17T06:55:06.914Z"
   },
   {
    "duration": 11,
    "start_time": "2021-11-17T06:55:06.989Z"
   },
   {
    "duration": 405,
    "start_time": "2021-11-17T06:55:07.002Z"
   },
   {
    "duration": 101,
    "start_time": "2021-11-17T06:55:07.410Z"
   },
   {
    "duration": 9,
    "start_time": "2021-11-17T06:55:07.514Z"
   },
   {
    "duration": 11,
    "start_time": "2021-11-17T06:55:07.525Z"
   },
   {
    "duration": 5,
    "start_time": "2021-11-17T06:55:07.538Z"
   },
   {
    "duration": 75,
    "start_time": "2021-11-17T06:55:07.545Z"
   },
   {
    "duration": 7,
    "start_time": "2021-11-17T06:55:07.622Z"
   },
   {
    "duration": 17383,
    "start_time": "2021-11-17T06:55:07.632Z"
   },
   {
    "duration": 784,
    "start_time": "2021-11-17T06:55:25.018Z"
   },
   {
    "duration": 14,
    "start_time": "2021-11-17T06:56:36.731Z"
   },
   {
    "duration": 6,
    "start_time": "2021-11-17T07:01:23.299Z"
   },
   {
    "duration": 41,
    "start_time": "2021-11-17T07:01:24.910Z"
   },
   {
    "duration": 11,
    "start_time": "2021-11-17T07:01:28.748Z"
   },
   {
    "duration": 18303,
    "start_time": "2021-11-17T07:01:30.506Z"
   },
   {
    "duration": 13,
    "start_time": "2021-11-17T07:01:48.812Z"
   },
   {
    "duration": 1516,
    "start_time": "2021-11-22T06:43:02.692Z"
   },
   {
    "duration": 4,
    "start_time": "2021-11-22T06:43:04.211Z"
   },
   {
    "duration": 530,
    "start_time": "2021-11-22T06:43:04.218Z"
   },
   {
    "duration": 5,
    "start_time": "2021-11-22T06:43:04.751Z"
   },
   {
    "duration": 2316,
    "start_time": "2021-11-22T06:43:04.767Z"
   },
   {
    "duration": 2513,
    "start_time": "2021-11-22T06:43:07.086Z"
   },
   {
    "duration": 2383,
    "start_time": "2021-11-22T06:43:09.602Z"
   },
   {
    "duration": 1679,
    "start_time": "2021-11-22T06:43:11.991Z"
   },
   {
    "duration": 62,
    "start_time": "2021-11-22T06:43:13.674Z"
   },
   {
    "duration": 6,
    "start_time": "2021-11-22T06:43:13.738Z"
   },
   {
    "duration": 37,
    "start_time": "2021-11-22T06:43:13.747Z"
   },
   {
    "duration": 95,
    "start_time": "2021-11-22T06:43:13.787Z"
   },
   {
    "duration": 7,
    "start_time": "2021-11-22T06:43:13.885Z"
   },
   {
    "duration": 181,
    "start_time": "2021-11-22T06:43:13.896Z"
   },
   {
    "duration": 102,
    "start_time": "2021-11-22T06:43:14.169Z"
   },
   {
    "duration": 6,
    "start_time": "2021-11-22T06:43:14.275Z"
   },
   {
    "duration": 12,
    "start_time": "2021-11-22T06:43:14.284Z"
   },
   {
    "duration": 5,
    "start_time": "2021-11-22T06:43:14.300Z"
   },
   {
    "duration": 79,
    "start_time": "2021-11-22T06:43:14.307Z"
   },
   {
    "duration": 7,
    "start_time": "2021-11-22T06:43:14.388Z"
   },
   {
    "duration": 16526,
    "start_time": "2021-11-22T06:43:14.397Z"
   },
   {
    "duration": 611,
    "start_time": "2021-11-22T06:43:30.926Z"
   },
   {
    "duration": 467,
    "start_time": "2021-11-22T06:43:59.074Z"
   },
   {
    "duration": 5488,
    "start_time": "2021-11-22T06:44:28.186Z"
   },
   {
    "duration": 8,
    "start_time": "2021-11-22T06:46:04.305Z"
   },
   {
    "duration": 5,
    "start_time": "2021-11-22T06:46:28.441Z"
   },
   {
    "duration": 7,
    "start_time": "2021-11-22T06:46:38.792Z"
   },
   {
    "duration": 7,
    "start_time": "2021-11-22T06:46:52.841Z"
   },
   {
    "duration": 7,
    "start_time": "2021-11-22T06:47:15.041Z"
   },
   {
    "duration": 10,
    "start_time": "2021-11-22T06:47:26.451Z"
   },
   {
    "duration": 6,
    "start_time": "2021-11-22T06:47:40.948Z"
   },
   {
    "duration": 7,
    "start_time": "2021-11-22T06:48:40.562Z"
   }
  ],
  "kernelspec": {
   "display_name": "Python 3 (ipykernel)",
   "language": "python",
   "name": "python3"
  },
  "language_info": {
   "codemirror_mode": {
    "name": "ipython",
    "version": 3
   },
   "file_extension": ".py",
   "mimetype": "text/x-python",
   "name": "python",
   "nbconvert_exporter": "python",
   "pygments_lexer": "ipython3",
   "version": "3.9.6"
  },
  "toc": {
   "base_numbering": 1,
   "nav_menu": {},
   "number_sections": true,
   "sideBar": true,
   "skip_h1_title": true,
   "title_cell": "Table of Contents",
   "title_sidebar": "Contents",
   "toc_cell": false,
   "toc_position": {},
   "toc_section_display": true,
   "toc_window_display": false
  }
 },
 "nbformat": 4,
 "nbformat_minor": 4
}
