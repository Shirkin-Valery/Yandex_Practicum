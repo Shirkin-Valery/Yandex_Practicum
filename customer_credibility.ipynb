{
 "cells": [
  {
   "cell_type": "markdown",
   "metadata": {},
   "source": [
    "# Исследование надёжности заёмщиков\n",
    "\n",
    "Заказчик — кредитный отдел банка. Нужно разобраться, влияет ли семейное положение и количество детей клиента на факт погашения кредита в срок. Входные данные от банка — статистика о платёжеспособности клиентов.\n",
    "\n",
    "Результаты исследования будут учтены при построении модели **кредитного скоринга** — специальной системы, которая оценивает способность потенциального заёмщика вернуть кредит банку."
   ]
  },
  {
   "cell_type": "markdown",
   "metadata": {},
   "source": [
    "## Шаг 1. Открытие датасета"
   ]
  },
  {
   "cell_type": "code",
   "execution_count": 1,
   "metadata": {},
   "outputs": [
    {
     "data": {
      "text/html": [
       "<div>\n",
       "<style scoped>\n",
       "    .dataframe tbody tr th:only-of-type {\n",
       "        vertical-align: middle;\n",
       "    }\n",
       "\n",
       "    .dataframe tbody tr th {\n",
       "        vertical-align: top;\n",
       "    }\n",
       "\n",
       "    .dataframe thead th {\n",
       "        text-align: right;\n",
       "    }\n",
       "</style>\n",
       "<table border=\"1\" class=\"dataframe\">\n",
       "  <thead>\n",
       "    <tr style=\"text-align: right;\">\n",
       "      <th></th>\n",
       "      <th>children</th>\n",
       "      <th>days_employed</th>\n",
       "      <th>dob_years</th>\n",
       "      <th>education</th>\n",
       "      <th>education_id</th>\n",
       "      <th>family_status</th>\n",
       "      <th>family_status_id</th>\n",
       "      <th>gender</th>\n",
       "      <th>income_type</th>\n",
       "      <th>debt</th>\n",
       "      <th>total_income</th>\n",
       "      <th>purpose</th>\n",
       "    </tr>\n",
       "  </thead>\n",
       "  <tbody>\n",
       "    <tr>\n",
       "      <td>0</td>\n",
       "      <td>1</td>\n",
       "      <td>-8437.67</td>\n",
       "      <td>42</td>\n",
       "      <td>высшее</td>\n",
       "      <td>0</td>\n",
       "      <td>женат / замужем</td>\n",
       "      <td>0</td>\n",
       "      <td>F</td>\n",
       "      <td>сотрудник</td>\n",
       "      <td>0</td>\n",
       "      <td>253875.64</td>\n",
       "      <td>покупка жилья</td>\n",
       "    </tr>\n",
       "    <tr>\n",
       "      <td>1</td>\n",
       "      <td>1</td>\n",
       "      <td>-4024.80</td>\n",
       "      <td>36</td>\n",
       "      <td>среднее</td>\n",
       "      <td>1</td>\n",
       "      <td>женат / замужем</td>\n",
       "      <td>0</td>\n",
       "      <td>F</td>\n",
       "      <td>сотрудник</td>\n",
       "      <td>0</td>\n",
       "      <td>112080.01</td>\n",
       "      <td>приобретение автомобиля</td>\n",
       "    </tr>\n",
       "    <tr>\n",
       "      <td>2</td>\n",
       "      <td>0</td>\n",
       "      <td>-5623.42</td>\n",
       "      <td>33</td>\n",
       "      <td>Среднее</td>\n",
       "      <td>1</td>\n",
       "      <td>женат / замужем</td>\n",
       "      <td>0</td>\n",
       "      <td>M</td>\n",
       "      <td>сотрудник</td>\n",
       "      <td>0</td>\n",
       "      <td>145885.95</td>\n",
       "      <td>покупка жилья</td>\n",
       "    </tr>\n",
       "    <tr>\n",
       "      <td>3</td>\n",
       "      <td>3</td>\n",
       "      <td>-4124.75</td>\n",
       "      <td>32</td>\n",
       "      <td>среднее</td>\n",
       "      <td>1</td>\n",
       "      <td>женат / замужем</td>\n",
       "      <td>0</td>\n",
       "      <td>M</td>\n",
       "      <td>сотрудник</td>\n",
       "      <td>0</td>\n",
       "      <td>267628.55</td>\n",
       "      <td>дополнительное образование</td>\n",
       "    </tr>\n",
       "    <tr>\n",
       "      <td>4</td>\n",
       "      <td>0</td>\n",
       "      <td>340266.07</td>\n",
       "      <td>53</td>\n",
       "      <td>среднее</td>\n",
       "      <td>1</td>\n",
       "      <td>гражданский брак</td>\n",
       "      <td>1</td>\n",
       "      <td>F</td>\n",
       "      <td>пенсионер</td>\n",
       "      <td>0</td>\n",
       "      <td>158616.08</td>\n",
       "      <td>сыграть свадьбу</td>\n",
       "    </tr>\n",
       "  </tbody>\n",
       "</table>\n",
       "</div>"
      ],
      "text/plain": [
       "   children  days_employed  dob_years education  education_id  \\\n",
       "0         1       -8437.67         42    высшее             0   \n",
       "1         1       -4024.80         36   среднее             1   \n",
       "2         0       -5623.42         33   Среднее             1   \n",
       "3         3       -4124.75         32   среднее             1   \n",
       "4         0      340266.07         53   среднее             1   \n",
       "\n",
       "      family_status  family_status_id gender income_type  debt  total_income  \\\n",
       "0   женат / замужем                 0      F   сотрудник     0     253875.64   \n",
       "1   женат / замужем                 0      F   сотрудник     0     112080.01   \n",
       "2   женат / замужем                 0      M   сотрудник     0     145885.95   \n",
       "3   женат / замужем                 0      M   сотрудник     0     267628.55   \n",
       "4  гражданский брак                 1      F   пенсионер     0     158616.08   \n",
       "\n",
       "                      purpose  \n",
       "0               покупка жилья  \n",
       "1     приобретение автомобиля  \n",
       "2               покупка жилья  \n",
       "3  дополнительное образование  \n",
       "4             сыграть свадьбу  "
      ]
     },
     "execution_count": 1,
     "metadata": {},
     "output_type": "execute_result"
    }
   ],
   "source": [
    "import pandas as pd\n",
    "from pymystem3 import Mystem\n",
    "from collections import Counter\n",
    "pd.set_option('display.float_format', '{:.2f}'.format)\n",
    "m=Mystem()\n",
    "\n",
    "data = pd.read_csv('/datasets/data.csv') # Входные данные от банка — статистика о платёжеспособности клиентов.\n",
    "data.head() #осмотр датасета\n"
   ]
  },
  {
   "cell_type": "code",
   "execution_count": 2,
   "metadata": {},
   "outputs": [
    {
     "name": "stdout",
     "output_type": "stream",
     "text": [
      "<class 'pandas.core.frame.DataFrame'>\n",
      "RangeIndex: 21525 entries, 0 to 21524\n",
      "Data columns (total 12 columns):\n",
      "children            21525 non-null int64\n",
      "days_employed       19351 non-null float64\n",
      "dob_years           21525 non-null int64\n",
      "education           21525 non-null object\n",
      "education_id        21525 non-null int64\n",
      "family_status       21525 non-null object\n",
      "family_status_id    21525 non-null int64\n",
      "gender              21525 non-null object\n",
      "income_type         21525 non-null object\n",
      "debt                21525 non-null int64\n",
      "total_income        19351 non-null float64\n",
      "purpose             21525 non-null object\n",
      "dtypes: float64(2), int64(5), object(5)\n",
      "memory usage: 2.0+ MB\n"
     ]
    }
   ],
   "source": [
    "data.info() #"
   ]
  },
  {
   "cell_type": "code",
   "execution_count": 3,
   "metadata": {},
   "outputs": [
    {
     "data": {
      "text/plain": [
       "children             0%\n",
       "days_employed       11%\n",
       "dob_years            0%\n",
       "education            0%\n",
       "education_id         0%\n",
       "family_status        0%\n",
       "family_status_id     0%\n",
       "gender               0%\n",
       "income_type          0%\n",
       "debt                 0%\n",
       "total_income        11%\n",
       "purpose              0%\n",
       "dtype: object"
      ]
     },
     "execution_count": 3,
     "metadata": {},
     "output_type": "execute_result"
    }
   ],
   "source": [
    "(data.isnull().sum()/data.count()).apply('{:.0%}'.format)"
   ]
  },
  {
   "cell_type": "markdown",
   "metadata": {},
   "source": [
    "**Вывод**  в столбцах total_income(ежемесячный доход) и days_employed (общий трудовой стаж в днях), есть пропущенные  значения их 11 %, чтобы это могло значить ? Возможно, что это безработные или пенсионеры, все же проверим."
   ]
  },
  {
   "cell_type": "markdown",
   "metadata": {},
   "source": [
    "## Шаг 2. Предобработка данных"
   ]
  },
  {
   "cell_type": "markdown",
   "metadata": {},
   "source": [
    "### Обработка пропусков"
   ]
  },
  {
   "cell_type": "markdown",
   "metadata": {},
   "source": [
    "Посмотрим, что за строки содержат пропуски"
   ]
  },
  {
   "cell_type": "code",
   "execution_count": 4,
   "metadata": {},
   "outputs": [
    {
     "data": {
      "text/html": [
       "<div>\n",
       "<style scoped>\n",
       "    .dataframe tbody tr th:only-of-type {\n",
       "        vertical-align: middle;\n",
       "    }\n",
       "\n",
       "    .dataframe tbody tr th {\n",
       "        vertical-align: top;\n",
       "    }\n",
       "\n",
       "    .dataframe thead th {\n",
       "        text-align: right;\n",
       "    }\n",
       "</style>\n",
       "<table border=\"1\" class=\"dataframe\">\n",
       "  <thead>\n",
       "    <tr style=\"text-align: right;\">\n",
       "      <th></th>\n",
       "      <th>children</th>\n",
       "      <th>days_employed</th>\n",
       "      <th>dob_years</th>\n",
       "      <th>education</th>\n",
       "      <th>education_id</th>\n",
       "      <th>family_status</th>\n",
       "      <th>family_status_id</th>\n",
       "      <th>gender</th>\n",
       "      <th>income_type</th>\n",
       "      <th>debt</th>\n",
       "      <th>total_income</th>\n",
       "      <th>purpose</th>\n",
       "    </tr>\n",
       "  </thead>\n",
       "  <tbody>\n",
       "    <tr>\n",
       "      <td>12</td>\n",
       "      <td>0</td>\n",
       "      <td>nan</td>\n",
       "      <td>65</td>\n",
       "      <td>среднее</td>\n",
       "      <td>1</td>\n",
       "      <td>гражданский брак</td>\n",
       "      <td>1</td>\n",
       "      <td>M</td>\n",
       "      <td>пенсионер</td>\n",
       "      <td>0</td>\n",
       "      <td>nan</td>\n",
       "      <td>сыграть свадьбу</td>\n",
       "    </tr>\n",
       "    <tr>\n",
       "      <td>26</td>\n",
       "      <td>0</td>\n",
       "      <td>nan</td>\n",
       "      <td>41</td>\n",
       "      <td>среднее</td>\n",
       "      <td>1</td>\n",
       "      <td>женат / замужем</td>\n",
       "      <td>0</td>\n",
       "      <td>M</td>\n",
       "      <td>госслужащий</td>\n",
       "      <td>0</td>\n",
       "      <td>nan</td>\n",
       "      <td>образование</td>\n",
       "    </tr>\n",
       "    <tr>\n",
       "      <td>29</td>\n",
       "      <td>0</td>\n",
       "      <td>nan</td>\n",
       "      <td>63</td>\n",
       "      <td>среднее</td>\n",
       "      <td>1</td>\n",
       "      <td>Не женат / не замужем</td>\n",
       "      <td>4</td>\n",
       "      <td>F</td>\n",
       "      <td>пенсионер</td>\n",
       "      <td>0</td>\n",
       "      <td>nan</td>\n",
       "      <td>строительство жилой недвижимости</td>\n",
       "    </tr>\n",
       "    <tr>\n",
       "      <td>41</td>\n",
       "      <td>0</td>\n",
       "      <td>nan</td>\n",
       "      <td>50</td>\n",
       "      <td>среднее</td>\n",
       "      <td>1</td>\n",
       "      <td>женат / замужем</td>\n",
       "      <td>0</td>\n",
       "      <td>F</td>\n",
       "      <td>госслужащий</td>\n",
       "      <td>0</td>\n",
       "      <td>nan</td>\n",
       "      <td>сделка с подержанным автомобилем</td>\n",
       "    </tr>\n",
       "    <tr>\n",
       "      <td>55</td>\n",
       "      <td>0</td>\n",
       "      <td>nan</td>\n",
       "      <td>54</td>\n",
       "      <td>среднее</td>\n",
       "      <td>1</td>\n",
       "      <td>гражданский брак</td>\n",
       "      <td>1</td>\n",
       "      <td>F</td>\n",
       "      <td>пенсионер</td>\n",
       "      <td>1</td>\n",
       "      <td>nan</td>\n",
       "      <td>сыграть свадьбу</td>\n",
       "    </tr>\n",
       "    <tr>\n",
       "      <td>65</td>\n",
       "      <td>0</td>\n",
       "      <td>nan</td>\n",
       "      <td>21</td>\n",
       "      <td>среднее</td>\n",
       "      <td>1</td>\n",
       "      <td>Не женат / не замужем</td>\n",
       "      <td>4</td>\n",
       "      <td>M</td>\n",
       "      <td>компаньон</td>\n",
       "      <td>0</td>\n",
       "      <td>nan</td>\n",
       "      <td>операции с коммерческой недвижимостью</td>\n",
       "    </tr>\n",
       "    <tr>\n",
       "      <td>67</td>\n",
       "      <td>0</td>\n",
       "      <td>nan</td>\n",
       "      <td>52</td>\n",
       "      <td>высшее</td>\n",
       "      <td>0</td>\n",
       "      <td>женат / замужем</td>\n",
       "      <td>0</td>\n",
       "      <td>F</td>\n",
       "      <td>пенсионер</td>\n",
       "      <td>0</td>\n",
       "      <td>nan</td>\n",
       "      <td>покупка жилья для семьи</td>\n",
       "    </tr>\n",
       "    <tr>\n",
       "      <td>72</td>\n",
       "      <td>1</td>\n",
       "      <td>nan</td>\n",
       "      <td>32</td>\n",
       "      <td>высшее</td>\n",
       "      <td>0</td>\n",
       "      <td>женат / замужем</td>\n",
       "      <td>0</td>\n",
       "      <td>M</td>\n",
       "      <td>госслужащий</td>\n",
       "      <td>0</td>\n",
       "      <td>nan</td>\n",
       "      <td>операции с коммерческой недвижимостью</td>\n",
       "    </tr>\n",
       "    <tr>\n",
       "      <td>82</td>\n",
       "      <td>2</td>\n",
       "      <td>nan</td>\n",
       "      <td>50</td>\n",
       "      <td>высшее</td>\n",
       "      <td>0</td>\n",
       "      <td>женат / замужем</td>\n",
       "      <td>0</td>\n",
       "      <td>F</td>\n",
       "      <td>сотрудник</td>\n",
       "      <td>0</td>\n",
       "      <td>nan</td>\n",
       "      <td>жилье</td>\n",
       "    </tr>\n",
       "    <tr>\n",
       "      <td>83</td>\n",
       "      <td>0</td>\n",
       "      <td>nan</td>\n",
       "      <td>52</td>\n",
       "      <td>среднее</td>\n",
       "      <td>1</td>\n",
       "      <td>женат / замужем</td>\n",
       "      <td>0</td>\n",
       "      <td>M</td>\n",
       "      <td>сотрудник</td>\n",
       "      <td>0</td>\n",
       "      <td>nan</td>\n",
       "      <td>жилье</td>\n",
       "    </tr>\n",
       "  </tbody>\n",
       "</table>\n",
       "</div>"
      ],
      "text/plain": [
       "    children  days_employed  dob_years education  education_id  \\\n",
       "12         0            nan         65   среднее             1   \n",
       "26         0            nan         41   среднее             1   \n",
       "29         0            nan         63   среднее             1   \n",
       "41         0            nan         50   среднее             1   \n",
       "55         0            nan         54   среднее             1   \n",
       "65         0            nan         21   среднее             1   \n",
       "67         0            nan         52    высшее             0   \n",
       "72         1            nan         32    высшее             0   \n",
       "82         2            nan         50    высшее             0   \n",
       "83         0            nan         52   среднее             1   \n",
       "\n",
       "            family_status  family_status_id gender  income_type  debt  \\\n",
       "12       гражданский брак                 1      M    пенсионер     0   \n",
       "26        женат / замужем                 0      M  госслужащий     0   \n",
       "29  Не женат / не замужем                 4      F    пенсионер     0   \n",
       "41        женат / замужем                 0      F  госслужащий     0   \n",
       "55       гражданский брак                 1      F    пенсионер     1   \n",
       "65  Не женат / не замужем                 4      M    компаньон     0   \n",
       "67        женат / замужем                 0      F    пенсионер     0   \n",
       "72        женат / замужем                 0      M  госслужащий     0   \n",
       "82        женат / замужем                 0      F    сотрудник     0   \n",
       "83        женат / замужем                 0      M    сотрудник     0   \n",
       "\n",
       "    total_income                                purpose  \n",
       "12           nan                        сыграть свадьбу  \n",
       "26           nan                            образование  \n",
       "29           nan       строительство жилой недвижимости  \n",
       "41           nan       сделка с подержанным автомобилем  \n",
       "55           nan                        сыграть свадьбу  \n",
       "65           nan  операции с коммерческой недвижимостью  \n",
       "67           nan                покупка жилья для семьи  \n",
       "72           nan  операции с коммерческой недвижимостью  \n",
       "82           nan                                  жилье  \n",
       "83           nan                                  жилье  "
      ]
     },
     "execution_count": 4,
     "metadata": {},
     "output_type": "execute_result"
    }
   ],
   "source": [
    "data[data['total_income'].isna()].head(10)"
   ]
  },
  {
   "cell_type": "markdown",
   "metadata": {},
   "source": [
    "**Вывод:** Гипотеза о том , что NaN ,безработные или пенсионеры не подтверждается, в поле  income_type  стоят значения  работающих категорий.  Оставим строки с NaN как есть , хоть значения и  отсутсвуют. Исходим из основной цели  \"влияет ли семейное положение и количество детей клиента на факт погашения кредита в срок\" столбцы total_income(ежемесячный доход) и days_employed (общий трудовой стаж в днях) не участвуют в основном выводе. Выкинуть 11% данных может быть опасно. Если что, удалим потом."
   ]
  },
  {
   "cell_type": "code",
   "execution_count": 5,
   "metadata": {},
   "outputs": [
    {
     "data": {
      "text/html": [
       "<div>\n",
       "<style scoped>\n",
       "    .dataframe tbody tr th:only-of-type {\n",
       "        vertical-align: middle;\n",
       "    }\n",
       "\n",
       "    .dataframe tbody tr th {\n",
       "        vertical-align: top;\n",
       "    }\n",
       "\n",
       "    .dataframe thead th {\n",
       "        text-align: right;\n",
       "    }\n",
       "</style>\n",
       "<table border=\"1\" class=\"dataframe\">\n",
       "  <thead>\n",
       "    <tr style=\"text-align: right;\">\n",
       "      <th></th>\n",
       "      <th>children</th>\n",
       "      <th>days_employed</th>\n",
       "      <th>dob_years</th>\n",
       "      <th>education</th>\n",
       "      <th>education_id</th>\n",
       "      <th>family_status</th>\n",
       "      <th>family_status_id</th>\n",
       "      <th>gender</th>\n",
       "      <th>income_type</th>\n",
       "      <th>debt</th>\n",
       "      <th>total_income</th>\n",
       "      <th>purpose</th>\n",
       "      <th>median_replace_NaN</th>\n",
       "      <th>median_replace_NaN_group</th>\n",
       "    </tr>\n",
       "  </thead>\n",
       "  <tbody>\n",
       "    <tr>\n",
       "      <td>12</td>\n",
       "      <td>0</td>\n",
       "      <td>nan</td>\n",
       "      <td>65</td>\n",
       "      <td>среднее</td>\n",
       "      <td>1</td>\n",
       "      <td>гражданский брак</td>\n",
       "      <td>1</td>\n",
       "      <td>M</td>\n",
       "      <td>пенсионер</td>\n",
       "      <td>0</td>\n",
       "      <td>nan</td>\n",
       "      <td>сыграть свадьбу</td>\n",
       "      <td>145017</td>\n",
       "      <td>157560</td>\n",
       "    </tr>\n",
       "    <tr>\n",
       "      <td>26</td>\n",
       "      <td>0</td>\n",
       "      <td>nan</td>\n",
       "      <td>41</td>\n",
       "      <td>среднее</td>\n",
       "      <td>1</td>\n",
       "      <td>женат / замужем</td>\n",
       "      <td>0</td>\n",
       "      <td>M</td>\n",
       "      <td>госслужащий</td>\n",
       "      <td>0</td>\n",
       "      <td>nan</td>\n",
       "      <td>образование</td>\n",
       "      <td>145017</td>\n",
       "      <td>161549</td>\n",
       "    </tr>\n",
       "    <tr>\n",
       "      <td>29</td>\n",
       "      <td>0</td>\n",
       "      <td>nan</td>\n",
       "      <td>63</td>\n",
       "      <td>среднее</td>\n",
       "      <td>1</td>\n",
       "      <td>Не женат / не замужем</td>\n",
       "      <td>4</td>\n",
       "      <td>F</td>\n",
       "      <td>пенсионер</td>\n",
       "      <td>0</td>\n",
       "      <td>nan</td>\n",
       "      <td>строительство жилой недвижимости</td>\n",
       "      <td>145017</td>\n",
       "      <td>129126</td>\n",
       "    </tr>\n",
       "    <tr>\n",
       "      <td>41</td>\n",
       "      <td>0</td>\n",
       "      <td>nan</td>\n",
       "      <td>50</td>\n",
       "      <td>среднее</td>\n",
       "      <td>1</td>\n",
       "      <td>женат / замужем</td>\n",
       "      <td>0</td>\n",
       "      <td>F</td>\n",
       "      <td>госслужащий</td>\n",
       "      <td>0</td>\n",
       "      <td>nan</td>\n",
       "      <td>сделка с подержанным автомобилем</td>\n",
       "      <td>145017</td>\n",
       "      <td>122687</td>\n",
       "    </tr>\n",
       "    <tr>\n",
       "      <td>55</td>\n",
       "      <td>0</td>\n",
       "      <td>nan</td>\n",
       "      <td>54</td>\n",
       "      <td>среднее</td>\n",
       "      <td>1</td>\n",
       "      <td>гражданский брак</td>\n",
       "      <td>1</td>\n",
       "      <td>F</td>\n",
       "      <td>пенсионер</td>\n",
       "      <td>1</td>\n",
       "      <td>nan</td>\n",
       "      <td>сыграть свадьбу</td>\n",
       "      <td>145017</td>\n",
       "      <td>128241</td>\n",
       "    </tr>\n",
       "    <tr>\n",
       "      <td>...</td>\n",
       "      <td>...</td>\n",
       "      <td>...</td>\n",
       "      <td>...</td>\n",
       "      <td>...</td>\n",
       "      <td>...</td>\n",
       "      <td>...</td>\n",
       "      <td>...</td>\n",
       "      <td>...</td>\n",
       "      <td>...</td>\n",
       "      <td>...</td>\n",
       "      <td>...</td>\n",
       "      <td>...</td>\n",
       "      <td>...</td>\n",
       "      <td>...</td>\n",
       "    </tr>\n",
       "    <tr>\n",
       "      <td>21489</td>\n",
       "      <td>2</td>\n",
       "      <td>nan</td>\n",
       "      <td>47</td>\n",
       "      <td>Среднее</td>\n",
       "      <td>1</td>\n",
       "      <td>женат / замужем</td>\n",
       "      <td>0</td>\n",
       "      <td>M</td>\n",
       "      <td>компаньон</td>\n",
       "      <td>0</td>\n",
       "      <td>nan</td>\n",
       "      <td>сделка с автомобилем</td>\n",
       "      <td>145017</td>\n",
       "      <td>161549</td>\n",
       "    </tr>\n",
       "    <tr>\n",
       "      <td>21495</td>\n",
       "      <td>1</td>\n",
       "      <td>nan</td>\n",
       "      <td>50</td>\n",
       "      <td>среднее</td>\n",
       "      <td>1</td>\n",
       "      <td>гражданский брак</td>\n",
       "      <td>1</td>\n",
       "      <td>F</td>\n",
       "      <td>сотрудник</td>\n",
       "      <td>0</td>\n",
       "      <td>nan</td>\n",
       "      <td>свадьба</td>\n",
       "      <td>145017</td>\n",
       "      <td>128241</td>\n",
       "    </tr>\n",
       "    <tr>\n",
       "      <td>21497</td>\n",
       "      <td>0</td>\n",
       "      <td>nan</td>\n",
       "      <td>48</td>\n",
       "      <td>ВЫСШЕЕ</td>\n",
       "      <td>0</td>\n",
       "      <td>женат / замужем</td>\n",
       "      <td>0</td>\n",
       "      <td>F</td>\n",
       "      <td>компаньон</td>\n",
       "      <td>0</td>\n",
       "      <td>nan</td>\n",
       "      <td>строительство недвижимости</td>\n",
       "      <td>145017</td>\n",
       "      <td>162822</td>\n",
       "    </tr>\n",
       "    <tr>\n",
       "      <td>21502</td>\n",
       "      <td>1</td>\n",
       "      <td>nan</td>\n",
       "      <td>42</td>\n",
       "      <td>среднее</td>\n",
       "      <td>1</td>\n",
       "      <td>женат / замужем</td>\n",
       "      <td>0</td>\n",
       "      <td>F</td>\n",
       "      <td>сотрудник</td>\n",
       "      <td>0</td>\n",
       "      <td>nan</td>\n",
       "      <td>строительство жилой недвижимости</td>\n",
       "      <td>145017</td>\n",
       "      <td>122687</td>\n",
       "    </tr>\n",
       "    <tr>\n",
       "      <td>21510</td>\n",
       "      <td>2</td>\n",
       "      <td>nan</td>\n",
       "      <td>28</td>\n",
       "      <td>среднее</td>\n",
       "      <td>1</td>\n",
       "      <td>женат / замужем</td>\n",
       "      <td>0</td>\n",
       "      <td>F</td>\n",
       "      <td>сотрудник</td>\n",
       "      <td>0</td>\n",
       "      <td>nan</td>\n",
       "      <td>приобретение автомобиля</td>\n",
       "      <td>145017</td>\n",
       "      <td>122687</td>\n",
       "    </tr>\n",
       "  </tbody>\n",
       "</table>\n",
       "<p>2174 rows × 14 columns</p>\n",
       "</div>"
      ],
      "text/plain": [
       "       children  days_employed  dob_years education  education_id  \\\n",
       "12            0            nan         65   среднее             1   \n",
       "26            0            nan         41   среднее             1   \n",
       "29            0            nan         63   среднее             1   \n",
       "41            0            nan         50   среднее             1   \n",
       "55            0            nan         54   среднее             1   \n",
       "...         ...            ...        ...       ...           ...   \n",
       "21489         2            nan         47   Среднее             1   \n",
       "21495         1            nan         50   среднее             1   \n",
       "21497         0            nan         48    ВЫСШЕЕ             0   \n",
       "21502         1            nan         42   среднее             1   \n",
       "21510         2            nan         28   среднее             1   \n",
       "\n",
       "               family_status  family_status_id gender  income_type  debt  \\\n",
       "12          гражданский брак                 1      M    пенсионер     0   \n",
       "26           женат / замужем                 0      M  госслужащий     0   \n",
       "29     Не женат / не замужем                 4      F    пенсионер     0   \n",
       "41           женат / замужем                 0      F  госслужащий     0   \n",
       "55          гражданский брак                 1      F    пенсионер     1   \n",
       "...                      ...               ...    ...          ...   ...   \n",
       "21489        женат / замужем                 0      M    компаньон     0   \n",
       "21495       гражданский брак                 1      F    сотрудник     0   \n",
       "21497        женат / замужем                 0      F    компаньон     0   \n",
       "21502        женат / замужем                 0      F    сотрудник     0   \n",
       "21510        женат / замужем                 0      F    сотрудник     0   \n",
       "\n",
       "       total_income                           purpose  median_replace_NaN  \\\n",
       "12              nan                   сыграть свадьбу              145017   \n",
       "26              nan                       образование              145017   \n",
       "29              nan  строительство жилой недвижимости              145017   \n",
       "41              nan  сделка с подержанным автомобилем              145017   \n",
       "55              nan                   сыграть свадьбу              145017   \n",
       "...             ...                               ...                 ...   \n",
       "21489           nan              сделка с автомобилем              145017   \n",
       "21495           nan                           свадьба              145017   \n",
       "21497           nan        строительство недвижимости              145017   \n",
       "21502           nan  строительство жилой недвижимости              145017   \n",
       "21510           nan           приобретение автомобиля              145017   \n",
       "\n",
       "       median_replace_NaN_group  \n",
       "12                       157560  \n",
       "26                       161549  \n",
       "29                       129126  \n",
       "41                       122687  \n",
       "55                       128241  \n",
       "...                         ...  \n",
       "21489                    161549  \n",
       "21495                    128241  \n",
       "21497                    162822  \n",
       "21502                    122687  \n",
       "21510                    122687  \n",
       "\n",
       "[2174 rows x 14 columns]"
      ]
     },
     "execution_count": 5,
     "metadata": {},
     "output_type": "execute_result"
    }
   ],
   "source": [
    "data ['median_replace_NaN']= data['total_income'].fillna(data['total_income'].median()).astype(int)#просто медиана\n",
    "med = data.groupby(['family_status','education_id','gender'])['total_income'].transform('median').astype(int)\n",
    "data ['median_replace_NaN_group']= data['total_income'].fillna(med).astype(int)# медиана по структуре семейный статус, образование, пол/гендер\n",
    "\n",
    "\n",
    "data[data ['total_income'].isna()] # смотрим значения NAN и медиан в последних столбцах\n",
    "                           \n"
   ]
  },
  {
   "cell_type": "markdown",
   "metadata": {},
   "source": [
    "### Обработка дубляжей "
   ]
  },
  {
   "cell_type": "markdown",
   "metadata": {},
   "source": [
    "#### Оценка влияния образования на платежную дисциплину"
   ]
  },
  {
   "cell_type": "markdown",
   "metadata": {},
   "source": [
    "Поле образование скорректируем и приведем к единому стандарту категорий. "
   ]
  },
  {
   "cell_type": "code",
   "execution_count": 6,
   "metadata": {},
   "outputs": [
    {
     "data": {
      "text/plain": [
       "среднее                15233\n",
       "высшее                  5260\n",
       "неоконченное высшее      744\n",
       "начальное                282\n",
       "ученая степень             6\n",
       "Name: education, dtype: int64"
      ]
     },
     "execution_count": 6,
     "metadata": {},
     "output_type": "execute_result"
    }
   ],
   "source": [
    "data['education'] = data['education'].str.lower()\n",
    "data['education'].value_counts()"
   ]
  },
  {
   "cell_type": "code",
   "execution_count": 7,
   "metadata": {},
   "outputs": [
    {
     "data": {
      "text/plain": [
       "{0: 'высшее',\n",
       " 1: 'среднее',\n",
       " 2: 'неоконченное высшее',\n",
       " 3: 'начальное',\n",
       " 4: 'ученая степень'}"
      ]
     },
     "execution_count": 7,
     "metadata": {},
     "output_type": "execute_result"
    }
   ],
   "source": [
    "dict_educat = data.set_index('education_id').to_dict()['education']\n",
    "dict_educat"
   ]
  },
  {
   "cell_type": "code",
   "execution_count": 8,
   "metadata": {},
   "outputs": [
    {
     "data": {
      "text/plain": [
       "{0: 'высшее',\n",
       " 1: 'среднее',\n",
       " 2: 'неоконченное высшее',\n",
       " 3: 'начальное',\n",
       " 4: 'ученая степень'}"
      ]
     },
     "execution_count": 8,
     "metadata": {},
     "output_type": "execute_result"
    }
   ],
   "source": [
    "dict(zip(data['education_id'], data['education']))"
   ]
  },
  {
   "cell_type": "markdown",
   "metadata": {},
   "source": [
    "Сгруппируем данные. Замениим значение единица и нуль в столбце debt (имел ли задолженность по возврату кредитов) на значения \"имел ли задолженность по кредиту\", \"платил в срок\" , так табличка будет читабельнее."
   ]
  },
  {
   "cell_type": "code",
   "execution_count": 9,
   "metadata": {},
   "outputs": [],
   "source": [
    "data.loc[data['debt'] == 0, 'debt_1'] = 'Платил в срок' # добаил новый столбец debt_1 для более понятного восприятия\n",
    "data.loc[data['debt'] == 1, 'debt_1'] = 'Имел задолженность кредиту' # добавил новый столбец debt_1 для более понятного восприятия\n"
   ]
  },
  {
   "cell_type": "code",
   "execution_count": 12,
   "metadata": {},
   "outputs": [
    {
     "data": {
      "text/html": [
       "<style  type=\"text/css\" >\n",
       "</style><table id=\"T_c7338cf4_8060_11ec_bfe6_02420a391070\" ><thead>    <tr>        <th class=\"blank level0\" ></th>        <th class=\"col_heading level0 col0\" >Структура клиентов с просрочкой</th>        <th class=\"col_heading level0 col1\" >Структура клиентов без просрочки</th>        <th class=\"col_heading level0 col2\" >Структурный свдиг</th>        <th class=\"col_heading level0 col3\" >%% клиентов, имевших просрочку платежа</th>    </tr>    <tr>        <th class=\"index_name level0\" >education</th>        <th class=\"blank\" ></th>        <th class=\"blank\" ></th>        <th class=\"blank\" ></th>        <th class=\"blank\" ></th>    </tr></thead><tbody>\n",
       "                <tr>\n",
       "                        <th id=\"T_c7338cf4_8060_11ec_bfe6_02420a391070level0_row0\" class=\"row_heading level0 row0\" >высшее</th>\n",
       "                        <td id=\"T_c7338cf4_8060_11ec_bfe6_02420a391070row0_col0\" class=\"data row0 col0\" >15.97%</td>\n",
       "                        <td id=\"T_c7338cf4_8060_11ec_bfe6_02420a391070row0_col1\" class=\"data row0 col1\" >24.44%</td>\n",
       "                        <td id=\"T_c7338cf4_8060_11ec_bfe6_02420a391070row0_col2\" class=\"data row0 col2\" >0.65</td>\n",
       "                        <td id=\"T_c7338cf4_8060_11ec_bfe6_02420a391070row0_col3\" class=\"data row0 col3\" >5.29% </td>\n",
       "            </tr>\n",
       "            <tr>\n",
       "                        <th id=\"T_c7338cf4_8060_11ec_bfe6_02420a391070level0_row1\" class=\"row_heading level0 row1\" >начальное</th>\n",
       "                        <td id=\"T_c7338cf4_8060_11ec_bfe6_02420a391070row1_col0\" class=\"data row1 col0\" >1.78%</td>\n",
       "                        <td id=\"T_c7338cf4_8060_11ec_bfe6_02420a391070row1_col1\" class=\"data row1 col1\" >1.31%</td>\n",
       "                        <td id=\"T_c7338cf4_8060_11ec_bfe6_02420a391070row1_col2\" class=\"data row1 col2\" >1.36</td>\n",
       "                        <td id=\"T_c7338cf4_8060_11ec_bfe6_02420a391070row1_col3\" class=\"data row1 col3\" >10.99% </td>\n",
       "            </tr>\n",
       "            <tr>\n",
       "                        <th id=\"T_c7338cf4_8060_11ec_bfe6_02420a391070level0_row2\" class=\"row_heading level0 row2\" >неоконченное высшее</th>\n",
       "                        <td id=\"T_c7338cf4_8060_11ec_bfe6_02420a391070row2_col0\" class=\"data row2 col0\" >3.91%</td>\n",
       "                        <td id=\"T_c7338cf4_8060_11ec_bfe6_02420a391070row2_col1\" class=\"data row2 col1\" >3.46%</td>\n",
       "                        <td id=\"T_c7338cf4_8060_11ec_bfe6_02420a391070row2_col2\" class=\"data row2 col2\" >1.13</td>\n",
       "                        <td id=\"T_c7338cf4_8060_11ec_bfe6_02420a391070row2_col3\" class=\"data row2 col3\" >9.14% </td>\n",
       "            </tr>\n",
       "            <tr>\n",
       "                        <th id=\"T_c7338cf4_8060_11ec_bfe6_02420a391070level0_row3\" class=\"row_heading level0 row3\" >среднее</th>\n",
       "                        <td id=\"T_c7338cf4_8060_11ec_bfe6_02420a391070row3_col0\" class=\"data row3 col0\" >78.35%</td>\n",
       "                        <td id=\"T_c7338cf4_8060_11ec_bfe6_02420a391070row3_col1\" class=\"data row3 col1\" >70.77%</td>\n",
       "                        <td id=\"T_c7338cf4_8060_11ec_bfe6_02420a391070row3_col2\" class=\"data row3 col2\" >1.11</td>\n",
       "                        <td id=\"T_c7338cf4_8060_11ec_bfe6_02420a391070row3_col3\" class=\"data row3 col3\" >8.95% </td>\n",
       "            </tr>\n",
       "    </tbody></table>"
      ],
      "text/plain": [
       "<pandas.io.formats.style.Styler at 0x7fb772c95190>"
      ]
     },
     "execution_count": 12,
     "metadata": {},
     "output_type": "execute_result"
    }
   ],
   "source": [
    "rate_bad =data[data['debt'] == 1].groupby(data['education']).agg({'income_type':'count'})/len(data[data['debt'] == 1])\n",
    "rate_def= data.groupby(['education'])['debt'].agg(['count', 'sum', lambda lovely_format: '{:.2%} '.format(lovely_format.mean())])\n",
    "rate_good =data.groupby(data['education']).agg({'income_type':'count'})/len(data)\n",
    "struct_relation = (rate_bad/rate_good).fillna(0)\n",
    "merge_table =rate_bad.merge (rate_good, on = 'education', how='left', suffixes=('_rate_bad', '_rate_good')) # Собираю все в одну табличку\n",
    "merge_table = merge_table.merge(struct_relation, on = 'education', how='left') #Собираю все в одну табличку\n",
    "merge_table = merge_table.merge(rate_def ['<lambda_0>'], on = 'education', how='left') #Собираю все в одну табличку\n",
    "\n",
    "merge_table.rename(columns={'income_type_rate_bad': 'Структура клиентов с просрочкой', # Делаю названия  столбцов понятными\n",
    "              'income_type_rate_good': 'Структура клиентов без просрочки',\n",
    "              'income_type': 'Структурный свдиг',\n",
    "              '<lambda_0>':'%% клиентов, имевших просрочку платежа'},inplace=True)\n",
    "\n",
    "merge_table.style.format({'Структура клиентов с просрочкой': '{:.2%}'.format, # Делаю формат  столбцов понятными\n",
    "                         'Структура клиентов без просрочки': '{:.2%}'.format,\n",
    "                        'Структурный свдиг':'{:.2f}'.format})\n"
   ]
  },
  {
   "cell_type": "markdown",
   "metadata": {},
   "source": [
    "## Оценка влияния социально-демографических характеристик на платежную дисциплину"
   ]
  },
  {
   "cell_type": "markdown",
   "metadata": {},
   "source": [
    "#### Оценка влияния количества детей клиента на платежную дициплину. "
   ]
  },
  {
   "cell_type": "code",
   "execution_count": 13,
   "metadata": {},
   "outputs": [
    {
     "data": {
      "text/plain": [
       " 0     14149\n",
       " 1      4818\n",
       " 2      2055\n",
       " 3       330\n",
       " 20       76\n",
       "-1        47\n",
       " 4        41\n",
       " 5         9\n",
       "Name: children, dtype: int64"
      ]
     },
     "execution_count": 13,
     "metadata": {},
     "output_type": "execute_result"
    }
   ],
   "source": [
    "data['children'].value_counts()"
   ]
  },
  {
   "cell_type": "code",
   "execution_count": 14,
   "metadata": {},
   "outputs": [
    {
     "data": {
      "text/plain": [
       "женат / замужем          12380\n",
       "гражданский брак          4177\n",
       "Не женат / не замужем     2813\n",
       "в разводе                 1195\n",
       "вдовец / вдова             960\n",
       "Name: family_status, dtype: int64"
      ]
     },
     "execution_count": 14,
     "metadata": {},
     "output_type": "execute_result"
    }
   ],
   "source": [
    "data['family_status'].value_counts()"
   ]
  },
  {
   "cell_type": "markdown",
   "metadata": {},
   "source": [
    "**Вывод** У нас появились  люди, которые рожают по 20 детей и есть кто в минуса пошел. В общем, это все это ошибки, скорее всего  у кого-то рука дрогнула и  нажал нуль или знак минус. Надо скорректировать на руках. \n",
    "family_status - все нормально, видимо, разработчики позаботились сделать внесение значений выбором из списка. "
   ]
  },
  {
   "cell_type": "markdown",
   "metadata": {},
   "source": [
    "Заменим 20 детей на значение 2 и -1 на 1"
   ]
  },
  {
   "cell_type": "code",
   "execution_count": 15,
   "metadata": {},
   "outputs": [
    {
     "data": {
      "text/plain": [
       "0    14149\n",
       "1     4865\n",
       "2     2131\n",
       "3      330\n",
       "4       41\n",
       "5        9\n",
       "Name: children, dtype: int64"
      ]
     },
     "execution_count": 15,
     "metadata": {},
     "output_type": "execute_result"
    }
   ],
   "source": [
    "data.loc[data['children'] == 20, 'children'] = 2 \n",
    "data.loc[data['children'] == -1, 'children'] = 1\n",
    "data['children'].value_counts()"
   ]
  },
  {
   "cell_type": "markdown",
   "metadata": {},
   "source": [
    "**Вывод**  Необходимо сформировать структуру клиентов, которые имели задолженность по возврату кредитов. "
   ]
  },
  {
   "cell_type": "code",
   "execution_count": 16,
   "metadata": {},
   "outputs": [
    {
     "data": {
      "text/plain": [
       "children\n",
       "0    7.51% \n",
       "1    9.15% \n",
       "2    9.48% \n",
       "3    8.18% \n",
       "4    9.76% \n",
       "5    0.00% \n",
       "Name: <lambda_0>, dtype: object"
      ]
     },
     "execution_count": 16,
     "metadata": {},
     "output_type": "execute_result"
    }
   ],
   "source": [
    "rate_def= data.groupby(['children'])['debt'].agg(['count', 'sum', lambda x: '{:.2%} '.format(x.mean())])\n",
    "rate_def['<lambda_0>']"
   ]
  },
  {
   "cell_type": "code",
   "execution_count": 17,
   "metadata": {},
   "outputs": [
    {
     "data": {
      "text/html": [
       "<style  type=\"text/css\" >\n",
       "</style><table id=\"T_c7437dbc_8060_11ec_bfe6_02420a391070\" ><thead>    <tr>        <th class=\"blank level0\" ></th>        <th class=\"col_heading level0 col0\" >Структура клиентов с просрочкой</th>        <th class=\"col_heading level0 col1\" >Структура клиентов без просрочки</th>        <th class=\"col_heading level0 col2\" >Структурный свдиг</th>        <th class=\"col_heading level0 col3\" >%% клиентов, имевших просрочку платежа</th>    </tr>    <tr>        <th class=\"index_name level0\" >children</th>        <th class=\"blank\" ></th>        <th class=\"blank\" ></th>        <th class=\"blank\" ></th>        <th class=\"blank\" ></th>    </tr></thead><tbody>\n",
       "                <tr>\n",
       "                        <th id=\"T_c7437dbc_8060_11ec_bfe6_02420a391070level0_row0\" class=\"row_heading level0 row0\" >0</th>\n",
       "                        <td id=\"T_c7437dbc_8060_11ec_bfe6_02420a391070row0_col0\" class=\"data row0 col0\" >61.06%</td>\n",
       "                        <td id=\"T_c7437dbc_8060_11ec_bfe6_02420a391070row0_col1\" class=\"data row0 col1\" >65.73%</td>\n",
       "                        <td id=\"T_c7437dbc_8060_11ec_bfe6_02420a391070row0_col2\" class=\"data row0 col2\" >0.93</td>\n",
       "                        <td id=\"T_c7437dbc_8060_11ec_bfe6_02420a391070row0_col3\" class=\"data row0 col3\" >7.51% </td>\n",
       "            </tr>\n",
       "            <tr>\n",
       "                        <th id=\"T_c7437dbc_8060_11ec_bfe6_02420a391070level0_row1\" class=\"row_heading level0 row1\" >1</th>\n",
       "                        <td id=\"T_c7437dbc_8060_11ec_bfe6_02420a391070row1_col0\" class=\"data row1 col0\" >25.56%</td>\n",
       "                        <td id=\"T_c7437dbc_8060_11ec_bfe6_02420a391070row1_col1\" class=\"data row1 col1\" >22.60%</td>\n",
       "                        <td id=\"T_c7437dbc_8060_11ec_bfe6_02420a391070row1_col2\" class=\"data row1 col2\" >1.13</td>\n",
       "                        <td id=\"T_c7437dbc_8060_11ec_bfe6_02420a391070row1_col3\" class=\"data row1 col3\" >9.15% </td>\n",
       "            </tr>\n",
       "            <tr>\n",
       "                        <th id=\"T_c7437dbc_8060_11ec_bfe6_02420a391070level0_row2\" class=\"row_heading level0 row2\" >2</th>\n",
       "                        <td id=\"T_c7437dbc_8060_11ec_bfe6_02420a391070row2_col0\" class=\"data row2 col0\" >11.60%</td>\n",
       "                        <td id=\"T_c7437dbc_8060_11ec_bfe6_02420a391070row2_col1\" class=\"data row2 col1\" >9.90%</td>\n",
       "                        <td id=\"T_c7437dbc_8060_11ec_bfe6_02420a391070row2_col2\" class=\"data row2 col2\" >1.17</td>\n",
       "                        <td id=\"T_c7437dbc_8060_11ec_bfe6_02420a391070row2_col3\" class=\"data row2 col3\" >9.48% </td>\n",
       "            </tr>\n",
       "            <tr>\n",
       "                        <th id=\"T_c7437dbc_8060_11ec_bfe6_02420a391070level0_row3\" class=\"row_heading level0 row3\" >3</th>\n",
       "                        <td id=\"T_c7437dbc_8060_11ec_bfe6_02420a391070row3_col0\" class=\"data row3 col0\" >1.55%</td>\n",
       "                        <td id=\"T_c7437dbc_8060_11ec_bfe6_02420a391070row3_col1\" class=\"data row3 col1\" >1.53%</td>\n",
       "                        <td id=\"T_c7437dbc_8060_11ec_bfe6_02420a391070row3_col2\" class=\"data row3 col2\" >1.01</td>\n",
       "                        <td id=\"T_c7437dbc_8060_11ec_bfe6_02420a391070row3_col3\" class=\"data row3 col3\" >8.18% </td>\n",
       "            </tr>\n",
       "            <tr>\n",
       "                        <th id=\"T_c7437dbc_8060_11ec_bfe6_02420a391070level0_row4\" class=\"row_heading level0 row4\" >4</th>\n",
       "                        <td id=\"T_c7437dbc_8060_11ec_bfe6_02420a391070row4_col0\" class=\"data row4 col0\" >0.23%</td>\n",
       "                        <td id=\"T_c7437dbc_8060_11ec_bfe6_02420a391070row4_col1\" class=\"data row4 col1\" >0.19%</td>\n",
       "                        <td id=\"T_c7437dbc_8060_11ec_bfe6_02420a391070row4_col2\" class=\"data row4 col2\" >1.21</td>\n",
       "                        <td id=\"T_c7437dbc_8060_11ec_bfe6_02420a391070row4_col3\" class=\"data row4 col3\" >9.76% </td>\n",
       "            </tr>\n",
       "    </tbody></table>"
      ],
      "text/plain": [
       "<pandas.io.formats.style.Styler at 0x7fb772c95990>"
      ]
     },
     "execution_count": 17,
     "metadata": {},
     "output_type": "execute_result"
    }
   ],
   "source": [
    "rate_bad =data[data['debt'] == 1].groupby(data['children']).agg({'income_type':'count'})/len(data[data['debt'] == 1])\n",
    "rate_def= data.groupby(['children'])['debt'].agg(['count', 'sum', lambda x: '{:.2%} '.format(x.mean())])\n",
    "rate_good =data.groupby(data['children']).agg({'income_type':'count'})/len(data)\n",
    "struct_relation = (rate_bad/rate_good).fillna(0)\n",
    "merge_table =rate_bad.merge (rate_good, on = 'children', how='left', suffixes=('_rate_bad', '_rate_good')) # Собираю все в одну табличку\n",
    "merge_table = merge_table.merge(struct_relation, on = 'children', how='left') #Собираю все в одну табличку\n",
    "merge_table = merge_table.merge(rate_def ['<lambda_0>'], on = 'children', how='left') #Собираю все в одну табличку\n",
    "\n",
    "merge_table.rename(columns={'income_type_rate_bad': 'Структура клиентов с просрочкой', # Делаю названия  столбцов понятными\n",
    "              'income_type_rate_good': 'Структура клиентов без просрочки',\n",
    "              'income_type': 'Структурный свдиг',\n",
    "              '<lambda_0>':'%% клиентов, имевших просрочку платежа'},inplace=True)\n",
    "\n",
    "merge_table.style.format({'Структура клиентов с просрочкой': '{:.2%}'.format, # Делаю формат  столбцов понятными\n",
    "                         'Структура клиентов без просрочки': '{:.2%}'.format,\n",
    "                        'Структурный свдиг':'{:.2f}'.format})"
   ]
  },
  {
   "cell_type": "code",
   "execution_count": null,
   "metadata": {},
   "outputs": [],
   "source": []
  },
  {
   "cell_type": "markdown",
   "metadata": {},
   "source": [
    "<div class=\"alert alert-info\">\n",
    "<b> Вывод:</b> отношение структур показывает, что при наличие иждевенцев, платежная  дисциплина ухудшается. Основная масса клиентов приходится на клиентов не более чем с 2-мя детьми. \n",
    "</div>      "
   ]
  },
  {
   "cell_type": "markdown",
   "metadata": {},
   "source": [
    "#### Оценка влияния семейного положения на платежную дисциплину \n",
    "Сгруппируем данные по семейному положению"
   ]
  },
  {
   "cell_type": "code",
   "execution_count": 18,
   "metadata": {},
   "outputs": [
    {
     "data": {
      "text/html": [
       "<style  type=\"text/css\" >\n",
       "</style><table id=\"T_c748b296_8060_11ec_bfe6_02420a391070\" ><thead>    <tr>        <th class=\"blank level0\" ></th>        <th class=\"col_heading level0 col0\" >Структура клиентов с просрочкой</th>        <th class=\"col_heading level0 col1\" >Структура клиентов без просрочки</th>        <th class=\"col_heading level0 col2\" >Структурный свдиг</th>        <th class=\"col_heading level0 col3\" >%% клиентов, имевших просрочку платежа</th>    </tr>    <tr>        <th class=\"index_name level0\" >family_status</th>        <th class=\"blank\" ></th>        <th class=\"blank\" ></th>        <th class=\"blank\" ></th>        <th class=\"blank\" ></th>    </tr></thead><tbody>\n",
       "                <tr>\n",
       "                        <th id=\"T_c748b296_8060_11ec_bfe6_02420a391070level0_row0\" class=\"row_heading level0 row0\" >Не женат / не замужем</th>\n",
       "                        <td id=\"T_c748b296_8060_11ec_bfe6_02420a391070row0_col0\" class=\"data row0 col0\" >15.74%</td>\n",
       "                        <td id=\"T_c748b296_8060_11ec_bfe6_02420a391070row0_col1\" class=\"data row0 col1\" >13.07%</td>\n",
       "                        <td id=\"T_c748b296_8060_11ec_bfe6_02420a391070row0_col2\" class=\"data row0 col2\" >1.20</td>\n",
       "                        <td id=\"T_c748b296_8060_11ec_bfe6_02420a391070row0_col3\" class=\"data row0 col3\" >9.74% </td>\n",
       "            </tr>\n",
       "            <tr>\n",
       "                        <th id=\"T_c748b296_8060_11ec_bfe6_02420a391070level0_row1\" class=\"row_heading level0 row1\" >в разводе</th>\n",
       "                        <td id=\"T_c748b296_8060_11ec_bfe6_02420a391070row1_col0\" class=\"data row1 col0\" >4.88%</td>\n",
       "                        <td id=\"T_c748b296_8060_11ec_bfe6_02420a391070row1_col1\" class=\"data row1 col1\" >5.55%</td>\n",
       "                        <td id=\"T_c748b296_8060_11ec_bfe6_02420a391070row1_col2\" class=\"data row1 col2\" >0.88</td>\n",
       "                        <td id=\"T_c748b296_8060_11ec_bfe6_02420a391070row1_col3\" class=\"data row1 col3\" >7.11% </td>\n",
       "            </tr>\n",
       "            <tr>\n",
       "                        <th id=\"T_c748b296_8060_11ec_bfe6_02420a391070level0_row2\" class=\"row_heading level0 row2\" >вдовец / вдова</th>\n",
       "                        <td id=\"T_c748b296_8060_11ec_bfe6_02420a391070row2_col0\" class=\"data row2 col0\" >3.62%</td>\n",
       "                        <td id=\"T_c748b296_8060_11ec_bfe6_02420a391070row2_col1\" class=\"data row2 col1\" >4.46%</td>\n",
       "                        <td id=\"T_c748b296_8060_11ec_bfe6_02420a391070row2_col2\" class=\"data row2 col2\" >0.81</td>\n",
       "                        <td id=\"T_c748b296_8060_11ec_bfe6_02420a391070row2_col3\" class=\"data row2 col3\" >6.56% </td>\n",
       "            </tr>\n",
       "            <tr>\n",
       "                        <th id=\"T_c748b296_8060_11ec_bfe6_02420a391070level0_row3\" class=\"row_heading level0 row3\" >гражданский брак</th>\n",
       "                        <td id=\"T_c748b296_8060_11ec_bfe6_02420a391070row3_col0\" class=\"data row3 col0\" >22.29%</td>\n",
       "                        <td id=\"T_c748b296_8060_11ec_bfe6_02420a391070row3_col1\" class=\"data row3 col1\" >19.41%</td>\n",
       "                        <td id=\"T_c748b296_8060_11ec_bfe6_02420a391070row3_col2\" class=\"data row3 col2\" >1.15</td>\n",
       "                        <td id=\"T_c748b296_8060_11ec_bfe6_02420a391070row3_col3\" class=\"data row3 col3\" >9.29% </td>\n",
       "            </tr>\n",
       "            <tr>\n",
       "                        <th id=\"T_c748b296_8060_11ec_bfe6_02420a391070level0_row4\" class=\"row_heading level0 row4\" >женат / замужем</th>\n",
       "                        <td id=\"T_c748b296_8060_11ec_bfe6_02420a391070row4_col0\" class=\"data row4 col0\" >53.48%</td>\n",
       "                        <td id=\"T_c748b296_8060_11ec_bfe6_02420a391070row4_col1\" class=\"data row4 col1\" >57.51%</td>\n",
       "                        <td id=\"T_c748b296_8060_11ec_bfe6_02420a391070row4_col2\" class=\"data row4 col2\" >0.93</td>\n",
       "                        <td id=\"T_c748b296_8060_11ec_bfe6_02420a391070row4_col3\" class=\"data row4 col3\" >7.52% </td>\n",
       "            </tr>\n",
       "    </tbody></table>"
      ],
      "text/plain": [
       "<pandas.io.formats.style.Styler at 0x7fb772f73990>"
      ]
     },
     "execution_count": 18,
     "metadata": {},
     "output_type": "execute_result"
    }
   ],
   "source": [
    "rate_bad =data[data['debt'] == 1].groupby(data['family_status']).agg({'income_type':'count'})/len(data[data['debt'] == 1])\n",
    "rate_def= data.groupby(['family_status'])['debt'].agg(['count', 'sum', lambda x: '{:.2%} '.format(x.mean())])\n",
    "rate_good =data.groupby(data['family_status']).agg({'income_type':'count'})/len(data)\n",
    "struct_relation = (rate_bad/rate_good).fillna(0)\n",
    "merge_table =rate_bad.merge (rate_good, on = 'family_status', how='left', suffixes=('_rate_bad', '_rate_good')) # Собираю все в одну табличку\n",
    "merge_table = merge_table.merge(struct_relation, on = 'family_status', how='left') #Собираю все в одну табличку\n",
    "merge_table = merge_table.merge(rate_def ['<lambda_0>'], on = 'family_status', how='left') #Собираю все в одну табличку\n",
    "\n",
    "merge_table.rename(columns={'income_type_rate_bad': 'Структура клиентов с просрочкой', # Делаю названия  столбцов понятными\n",
    "              'income_type_rate_good': 'Структура клиентов без просрочки',\n",
    "              'income_type': 'Структурный свдиг',\n",
    "              '<lambda_0>':'%% клиентов, имевших просрочку платежа'},inplace=True)\n",
    "\n",
    "merge_table.style.format({'Структура клиентов с просрочкой': '{:.2%}'.format, # Делаю формат  столбцов понятными\n",
    "                         'Структура клиентов без просрочки': '{:.2%}'.format,\n",
    "                        'Структурный свдиг':'{:.2f}'.format})"
   ]
  },
  {
   "cell_type": "markdown",
   "metadata": {},
   "source": [
    "<div class=\"alert alert-info\">\n",
    "<b>  Вывод:</b> гипотеза, что семейные люди более ответственные подтверждается, но не сказать , что имеет яркую доминанту. Но можно точно сказать, что неженатые/незамужние или состоящие в гражданском браке хуже обслуживают долги.\t \n",
    "</div>  "
   ]
  },
  {
   "cell_type": "markdown",
   "metadata": {},
   "source": [
    "<div class=\"alert alert-success\" style=\"border-radius: 15px; box-shadow: 4px 4px 4px; border: 1px solid \">\n",
    "<b> Комментарий ревьюера 2</b>\n",
    "    \n",
    "Вот пример того, зачем вообще эти словари нужны. У нас в таблице находятся взаимозаменяемые столбцы. Нам ни к чему дублирующаяся информация. Кроме того, многие алгоритмы плохо работают со строковыми типами данных. Поэтому давай предположим, что мы удалим из таблицы столбец **family_status** после создания словаря.\n",
    "<div class=\"alert alert-info\">\n",
    "<h4>Спасибо за ревью.</h4>\n",
    "</div>    "
   ]
  },
  {
   "cell_type": "code",
   "execution_count": 19,
   "metadata": {},
   "outputs": [
    {
     "name": "stdout",
     "output_type": "stream",
     "text": [
      "Создали словарь:\n"
     ]
    },
    {
     "data": {
      "text/html": [
       "<div>\n",
       "<style scoped>\n",
       "    .dataframe tbody tr th:only-of-type {\n",
       "        vertical-align: middle;\n",
       "    }\n",
       "\n",
       "    .dataframe tbody tr th {\n",
       "        vertical-align: top;\n",
       "    }\n",
       "\n",
       "    .dataframe thead th {\n",
       "        text-align: right;\n",
       "    }\n",
       "</style>\n",
       "<table border=\"1\" class=\"dataframe\">\n",
       "  <thead>\n",
       "    <tr style=\"text-align: right;\">\n",
       "      <th></th>\n",
       "      <th>family_status_id</th>\n",
       "      <th>family_status</th>\n",
       "    </tr>\n",
       "  </thead>\n",
       "  <tbody>\n",
       "    <tr>\n",
       "      <td>0</td>\n",
       "      <td>0</td>\n",
       "      <td>женат / замужем</td>\n",
       "    </tr>\n",
       "    <tr>\n",
       "      <td>1</td>\n",
       "      <td>1</td>\n",
       "      <td>гражданский брак</td>\n",
       "    </tr>\n",
       "    <tr>\n",
       "      <td>2</td>\n",
       "      <td>2</td>\n",
       "      <td>вдовец / вдова</td>\n",
       "    </tr>\n",
       "    <tr>\n",
       "      <td>3</td>\n",
       "      <td>3</td>\n",
       "      <td>в разводе</td>\n",
       "    </tr>\n",
       "    <tr>\n",
       "      <td>4</td>\n",
       "      <td>4</td>\n",
       "      <td>Не женат / не замужем</td>\n",
       "    </tr>\n",
       "  </tbody>\n",
       "</table>\n",
       "</div>"
      ],
      "text/plain": [
       "   family_status_id          family_status\n",
       "0                 0        женат / замужем\n",
       "1                 1       гражданский брак\n",
       "2                 2         вдовец / вдова\n",
       "3                 3              в разводе\n",
       "4                 4  Не женат / не замужем"
      ]
     },
     "metadata": {},
     "output_type": "display_data"
    },
    {
     "name": "stdout",
     "output_type": "stream",
     "text": [
      "\n",
      "\n",
      "Сгруппированная таблица. Берем по id, другой столбец удалили:\n"
     ]
    },
    {
     "data": {
      "text/html": [
       "<div>\n",
       "<style scoped>\n",
       "    .dataframe tbody tr th:only-of-type {\n",
       "        vertical-align: middle;\n",
       "    }\n",
       "\n",
       "    .dataframe tbody tr th {\n",
       "        vertical-align: top;\n",
       "    }\n",
       "\n",
       "    .dataframe thead th {\n",
       "        text-align: right;\n",
       "    }\n",
       "</style>\n",
       "<table border=\"1\" class=\"dataframe\">\n",
       "  <thead>\n",
       "    <tr style=\"text-align: right;\">\n",
       "      <th></th>\n",
       "      <th>count</th>\n",
       "      <th>sum</th>\n",
       "      <th>&lt;lambda_0&gt;</th>\n",
       "    </tr>\n",
       "    <tr>\n",
       "      <th>family_status_id</th>\n",
       "      <th></th>\n",
       "      <th></th>\n",
       "      <th></th>\n",
       "    </tr>\n",
       "  </thead>\n",
       "  <tbody>\n",
       "    <tr>\n",
       "      <td>0</td>\n",
       "      <td>12380</td>\n",
       "      <td>931</td>\n",
       "      <td>7.52%</td>\n",
       "    </tr>\n",
       "    <tr>\n",
       "      <td>1</td>\n",
       "      <td>4177</td>\n",
       "      <td>388</td>\n",
       "      <td>9.29%</td>\n",
       "    </tr>\n",
       "    <tr>\n",
       "      <td>2</td>\n",
       "      <td>960</td>\n",
       "      <td>63</td>\n",
       "      <td>6.56%</td>\n",
       "    </tr>\n",
       "    <tr>\n",
       "      <td>3</td>\n",
       "      <td>1195</td>\n",
       "      <td>85</td>\n",
       "      <td>7.11%</td>\n",
       "    </tr>\n",
       "    <tr>\n",
       "      <td>4</td>\n",
       "      <td>2813</td>\n",
       "      <td>274</td>\n",
       "      <td>9.74%</td>\n",
       "    </tr>\n",
       "  </tbody>\n",
       "</table>\n",
       "</div>"
      ],
      "text/plain": [
       "                  count  sum <lambda_0>\n",
       "family_status_id                       \n",
       "0                 12380  931     7.52% \n",
       "1                  4177  388     9.29% \n",
       "2                   960   63     6.56% \n",
       "3                  1195   85     7.11% \n",
       "4                  2813  274     9.74% "
      ]
     },
     "metadata": {},
     "output_type": "display_data"
    },
    {
     "name": "stdout",
     "output_type": "stream",
     "text": [
      "\n",
      "\n",
      "Заменяем численные значения по ключу словаря:\n"
     ]
    },
    {
     "data": {
      "text/html": [
       "<div>\n",
       "<style scoped>\n",
       "    .dataframe tbody tr th:only-of-type {\n",
       "        vertical-align: middle;\n",
       "    }\n",
       "\n",
       "    .dataframe tbody tr th {\n",
       "        vertical-align: top;\n",
       "    }\n",
       "\n",
       "    .dataframe thead th {\n",
       "        text-align: right;\n",
       "    }\n",
       "</style>\n",
       "<table border=\"1\" class=\"dataframe\">\n",
       "  <thead>\n",
       "    <tr style=\"text-align: right;\">\n",
       "      <th></th>\n",
       "      <th>family_status_id</th>\n",
       "      <th>count</th>\n",
       "      <th>sum</th>\n",
       "      <th>&lt;lambda_0&gt;</th>\n",
       "    </tr>\n",
       "  </thead>\n",
       "  <tbody>\n",
       "    <tr>\n",
       "      <td>0</td>\n",
       "      <td>женат / замужем</td>\n",
       "      <td>12380</td>\n",
       "      <td>931</td>\n",
       "      <td>7.52%</td>\n",
       "    </tr>\n",
       "    <tr>\n",
       "      <td>1</td>\n",
       "      <td>гражданский брак</td>\n",
       "      <td>4177</td>\n",
       "      <td>388</td>\n",
       "      <td>9.29%</td>\n",
       "    </tr>\n",
       "    <tr>\n",
       "      <td>2</td>\n",
       "      <td>вдовец / вдова</td>\n",
       "      <td>960</td>\n",
       "      <td>63</td>\n",
       "      <td>6.56%</td>\n",
       "    </tr>\n",
       "    <tr>\n",
       "      <td>3</td>\n",
       "      <td>в разводе</td>\n",
       "      <td>1195</td>\n",
       "      <td>85</td>\n",
       "      <td>7.11%</td>\n",
       "    </tr>\n",
       "    <tr>\n",
       "      <td>4</td>\n",
       "      <td>Не женат / не замужем</td>\n",
       "      <td>2813</td>\n",
       "      <td>274</td>\n",
       "      <td>9.74%</td>\n",
       "    </tr>\n",
       "  </tbody>\n",
       "</table>\n",
       "</div>"
      ],
      "text/plain": [
       "        family_status_id  count  sum <lambda_0>\n",
       "0        женат / замужем  12380  931     7.52% \n",
       "1       гражданский брак   4177  388     9.29% \n",
       "2         вдовец / вдова    960   63     6.56% \n",
       "3              в разводе   1195   85     7.11% \n",
       "4  Не женат / не замужем   2813  274     9.74% "
      ]
     },
     "execution_count": 19,
     "metadata": {},
     "output_type": "execute_result"
    }
   ],
   "source": [
    "# КОД РЕВЬЮЕРА\n",
    "\n",
    "print('Создали словарь:')\n",
    "family_dict = data[['family_status_id', 'family_status']]\n",
    "family_dict = family_dict.drop_duplicates().reset_index(drop=True)\n",
    "display(family_dict)\n",
    "\n",
    "\n",
    "print('\\n\\nСгруппированная таблица. Берем по id, другой столбец удалили:')\n",
    "a = data.groupby('family_status_id')['debt'].agg(['count', 'sum', lambda x: '{:.2%} '.format(x.mean())])\n",
    "display(a)\n",
    "\n",
    "\n",
    "# Заменяем\n",
    "print('\\n\\nЗаменяем численные значения по ключу словаря:')\n",
    "a.reset_index().replace({'family_status_id': family_dict.family_status.to_dict()})"
   ]
  },
  {
   "cell_type": "markdown",
   "metadata": {},
   "source": [
    "Рассмотрим оставщиеся поля, не относящиеся к основной  цели исследования, возможно, можно увидеть какие-то концентрации проблем исходя из\n",
    "- цели кредита\n",
    "- трудового стажа\n",
    "- возраста клиента\n",
    "- образования\n",
    "- пола клиента\n",
    "- дохода в месяц"
   ]
  },
  {
   "cell_type": "markdown",
   "metadata": {},
   "source": [
    "### Категоризация данных"
   ]
  },
  {
   "cell_type": "markdown",
   "metadata": {},
   "source": [
    "Такие столбцы, как доход в месяц, возраста клиента,трудовой стаж лучше привести к категориям.Для этого создадим функцию, и добавим новые  столбцы с категориями в дата фрейм"
   ]
  },
  {
   "cell_type": "code",
   "execution_count": 20,
   "metadata": {},
   "outputs": [
    {
     "data": {
      "text/plain": [
       "12412    2265604\n",
       "19606    2200852\n",
       "9169     1726276\n",
       "20809    1715018\n",
       "17178    1711309\n",
       "17503    1597613\n",
       "18368    1551152\n",
       "18353    1427934\n",
       "15268    1350245\n",
       "11071    1286280\n",
       "2224     1278622\n",
       "7447     1240165\n",
       "19813    1223042\n",
       "15211    1172459\n",
       "13090    1128836\n",
       "9871     1103455\n",
       "10004    1097954\n",
       "18766    1092608\n",
       "19338    1091627\n",
       "1590     1089120\n",
       "Name: total_income, dtype: int64"
      ]
     },
     "execution_count": 20,
     "metadata": {},
     "output_type": "execute_result"
    }
   ],
   "source": [
    "data['total_income'].value_counts()#Проверил дубляжи\n",
    "data['total_income'].min() # посмотрел нет ли отрицательных значений и нулевых\n",
    "data['total_income'].max() # есть люди с большим доходо 2 265 604, насколько это реально, больше сомнительно\n",
    "data['total_income'].sort_values(ascending=False).head(20).astype(int)# посмотрел насколько равномерное распраделени масимальных\n",
    "#зарплат таких людей немного, сильно на вывод не повлияет.  "
   ]
  },
  {
   "cell_type": "markdown",
   "metadata": {},
   "source": [
    "Категорируем поле 'доход в месяц'(total_income) тыс руб\n",
    "от 0 до 50\n",
    "- 50-100\n",
    "- 100-150\n",
    "- 150-300\n",
    "- 300-500\n",
    "- 500-1000\n",
    "- более 1000 тыс руб"
   ]
  },
  {
   "cell_type": "code",
   "execution_count": 21,
   "metadata": {},
   "outputs": [],
   "source": [
    "#data['total_income'] = data['total_income'].fillna(0)# почищу non a numeric \n",
    "#data['total_income'].astype(int)\n",
    "#data.info"
   ]
  },
  {
   "cell_type": "markdown",
   "metadata": {},
   "source": [
    "Так как пустые значение NaN заменены на 0, исключу их из группировки по категориям, так как они могут исказить результат.\n",
    "Создам  функцию по категориям."
   ]
  },
  {
   "cell_type": "code",
   "execution_count": 22,
   "metadata": {},
   "outputs": [
    {
     "data": {
      "text/plain": [
       "150-300     7702\n",
       "100-150     5704\n",
       "50-100      4055\n",
       "300-500     1260\n",
       "1-50         372\n",
       "500-1000     197\n",
       ">1000         25\n",
       "Name: income_group, dtype: int64"
      ]
     },
     "execution_count": 22,
     "metadata": {},
     "output_type": "execute_result"
    }
   ],
   "source": [
    "def income_group(total_income):\n",
    "\n",
    "    if 1<=total_income <= 50000:\n",
    "        return '1-50'\n",
    "    elif 51000 <= total_income <= 100000:\n",
    "        return '50-100'\n",
    "    elif 100001 <= total_income <= 150000:\n",
    "        return '100-150'\n",
    "    if 150001 <= total_income <= 300000:\n",
    "        return '150-300'\n",
    "    if 300001 <= total_income <= 500000:\n",
    "        return '300-500'\n",
    "    if 500001 <= total_income <= 1000000:\n",
    "        return '500-1000'\n",
    "    if total_income > 1000000:\n",
    "        return '>1000'\n",
    "\n",
    "income_group(150000) #- проверка работы функции\n",
    "data['income_group'] = data['total_income'].astype(int,errors ='ignore').apply(income_group)\n",
    "\n",
    "data['income_group'].value_counts()"
   ]
  },
  {
   "cell_type": "markdown",
   "metadata": {},
   "source": [
    "<div class=\"alert alert-warning\" style=\"border-radius: 15px; box-shadow: 4px 4px 4px; border: 1px solid \">\n",
    "<b> Комментарий ревьюера </b>\n",
    "    \n",
    "Не слишком равнозначное разбиение. Последние 3 группы можно не рассматривать, получается. </div>\n",
    "<div class=\"alert alert-success\" style=\"border-radius: 15px; box-shadow: 4px 4px 4px; border: 1px solid \">\n",
    "<b> Комментарий ревьюера </b>\n",
    "    \n",
    "Есть еще метод **qcut**, который разбивает выборку на равные группы:</div>"
   ]
  },
  {
   "cell_type": "code",
   "execution_count": 23,
   "metadata": {},
   "outputs": [
    {
     "data": {
      "text/plain": [
       "0        (214404.0, 2265604.0]\n",
       "1          (98661.6, 128241.0]\n",
       "2         (128241.0, 161658.4]\n",
       "3        (214404.0, 2265604.0]\n",
       "4         (128241.0, 161658.4]\n",
       "                 ...          \n",
       "21520    (214404.0, 2265604.0]\n",
       "21521     (128241.0, 161658.4]\n",
       "21522     (20666.999, 98661.6]\n",
       "21523    (214404.0, 2265604.0]\n",
       "21524     (20666.999, 98661.6]\n",
       "Name: median_replace_NaN_group, Length: 21525, dtype: category\n",
       "Categories (5, interval[float64]): [(20666.999, 98661.6] < (98661.6, 128241.0] < (128241.0, 161658.4] < (161658.4, 214404.0] < (214404.0, 2265604.0]]"
      ]
     },
     "execution_count": 23,
     "metadata": {},
     "output_type": "execute_result"
    }
   ],
   "source": [
    "# КОД РЕВЬЮЕРА\n",
    "\n",
    "pd.qcut(data['median_replace_NaN_group'], q=5)"
   ]
  },
  {
   "cell_type": "markdown",
   "metadata": {},
   "source": [
    "<div class=\"alert alert-info\">\n",
    "<b> Комментарий студента</b>\n",
    "    Классный метод, на обучении не было такой, в методическом материале, вроде, тоже нет. Спасибо.\n",
    "</div>"
   ]
  },
  {
   "cell_type": "markdown",
   "metadata": {},
   "source": [
    "<div class=\"alert alert-success\" style=\"border-radius: 15px; box-shadow: 4px 4px 4px; border: 1px solid \">\n",
    "<b> Комментарий ревьюера 2</b>\n",
    "    \n",
    "Да, очень удобный :)  </div>"
   ]
  },
  {
   "cell_type": "code",
   "execution_count": 24,
   "metadata": {},
   "outputs": [
    {
     "data": {
      "text/plain": [
       "0              высокий\n",
       "1        ниже среднего\n",
       "2              средний\n",
       "3              высокий\n",
       "4              средний\n",
       "             ...      \n",
       "21520          высокий\n",
       "21521          средний\n",
       "21522           низкий\n",
       "21523          высокий\n",
       "21524           низкий\n",
       "Name: median_replace_NaN_group, Length: 21525, dtype: category\n",
       "Categories (5, object): [низкий < ниже среднего < средний < выше среднего < высокий]"
      ]
     },
     "execution_count": 24,
     "metadata": {},
     "output_type": "execute_result"
    }
   ],
   "source": [
    "# КОД РЕВЬЮЕРА\n",
    "pd.qcut(data['median_replace_NaN_group'], 5, ['низкий','ниже среднего','средний','выше среднего', 'высокий'])"
   ]
  },
  {
   "cell_type": "code",
   "execution_count": 25,
   "metadata": {},
   "outputs": [
    {
     "data": {
      "text/html": [
       "<div>\n",
       "<style scoped>\n",
       "    .dataframe tbody tr th:only-of-type {\n",
       "        vertical-align: middle;\n",
       "    }\n",
       "\n",
       "    .dataframe tbody tr th {\n",
       "        vertical-align: top;\n",
       "    }\n",
       "\n",
       "    .dataframe thead th {\n",
       "        text-align: right;\n",
       "    }\n",
       "</style>\n",
       "<table border=\"1\" class=\"dataframe\">\n",
       "  <thead>\n",
       "    <tr style=\"text-align: right;\">\n",
       "      <th></th>\n",
       "      <th>children</th>\n",
       "      <th>days_employed</th>\n",
       "      <th>dob_years</th>\n",
       "      <th>education</th>\n",
       "      <th>education_id</th>\n",
       "      <th>family_status</th>\n",
       "      <th>family_status_id</th>\n",
       "      <th>gender</th>\n",
       "      <th>income_type</th>\n",
       "      <th>debt</th>\n",
       "      <th>total_income</th>\n",
       "      <th>purpose</th>\n",
       "      <th>median_replace_NaN</th>\n",
       "      <th>median_replace_NaN_group</th>\n",
       "      <th>debt_1</th>\n",
       "      <th>income_group</th>\n",
       "      <th>income_qcut</th>\n",
       "    </tr>\n",
       "  </thead>\n",
       "  <tbody>\n",
       "    <tr>\n",
       "      <td>0</td>\n",
       "      <td>1</td>\n",
       "      <td>-8437.67</td>\n",
       "      <td>42</td>\n",
       "      <td>высшее</td>\n",
       "      <td>0</td>\n",
       "      <td>женат / замужем</td>\n",
       "      <td>0</td>\n",
       "      <td>F</td>\n",
       "      <td>сотрудник</td>\n",
       "      <td>0</td>\n",
       "      <td>253875.64</td>\n",
       "      <td>покупка жилья</td>\n",
       "      <td>253875</td>\n",
       "      <td>253875</td>\n",
       "      <td>Платил в срок</td>\n",
       "      <td>150-300</td>\n",
       "      <td>высокий</td>\n",
       "    </tr>\n",
       "    <tr>\n",
       "      <td>1</td>\n",
       "      <td>1</td>\n",
       "      <td>-4024.80</td>\n",
       "      <td>36</td>\n",
       "      <td>среднее</td>\n",
       "      <td>1</td>\n",
       "      <td>женат / замужем</td>\n",
       "      <td>0</td>\n",
       "      <td>F</td>\n",
       "      <td>сотрудник</td>\n",
       "      <td>0</td>\n",
       "      <td>112080.01</td>\n",
       "      <td>приобретение автомобиля</td>\n",
       "      <td>112080</td>\n",
       "      <td>112080</td>\n",
       "      <td>Платил в срок</td>\n",
       "      <td>100-150</td>\n",
       "      <td>ниже среднего</td>\n",
       "    </tr>\n",
       "    <tr>\n",
       "      <td>2</td>\n",
       "      <td>0</td>\n",
       "      <td>-5623.42</td>\n",
       "      <td>33</td>\n",
       "      <td>среднее</td>\n",
       "      <td>1</td>\n",
       "      <td>женат / замужем</td>\n",
       "      <td>0</td>\n",
       "      <td>M</td>\n",
       "      <td>сотрудник</td>\n",
       "      <td>0</td>\n",
       "      <td>145885.95</td>\n",
       "      <td>покупка жилья</td>\n",
       "      <td>145885</td>\n",
       "      <td>145885</td>\n",
       "      <td>Платил в срок</td>\n",
       "      <td>100-150</td>\n",
       "      <td>средний</td>\n",
       "    </tr>\n",
       "    <tr>\n",
       "      <td>3</td>\n",
       "      <td>3</td>\n",
       "      <td>-4124.75</td>\n",
       "      <td>32</td>\n",
       "      <td>среднее</td>\n",
       "      <td>1</td>\n",
       "      <td>женат / замужем</td>\n",
       "      <td>0</td>\n",
       "      <td>M</td>\n",
       "      <td>сотрудник</td>\n",
       "      <td>0</td>\n",
       "      <td>267628.55</td>\n",
       "      <td>дополнительное образование</td>\n",
       "      <td>267628</td>\n",
       "      <td>267628</td>\n",
       "      <td>Платил в срок</td>\n",
       "      <td>150-300</td>\n",
       "      <td>высокий</td>\n",
       "    </tr>\n",
       "    <tr>\n",
       "      <td>4</td>\n",
       "      <td>0</td>\n",
       "      <td>340266.07</td>\n",
       "      <td>53</td>\n",
       "      <td>среднее</td>\n",
       "      <td>1</td>\n",
       "      <td>гражданский брак</td>\n",
       "      <td>1</td>\n",
       "      <td>F</td>\n",
       "      <td>пенсионер</td>\n",
       "      <td>0</td>\n",
       "      <td>158616.08</td>\n",
       "      <td>сыграть свадьбу</td>\n",
       "      <td>158616</td>\n",
       "      <td>158616</td>\n",
       "      <td>Платил в срок</td>\n",
       "      <td>150-300</td>\n",
       "      <td>средний</td>\n",
       "    </tr>\n",
       "    <tr>\n",
       "      <td>...</td>\n",
       "      <td>...</td>\n",
       "      <td>...</td>\n",
       "      <td>...</td>\n",
       "      <td>...</td>\n",
       "      <td>...</td>\n",
       "      <td>...</td>\n",
       "      <td>...</td>\n",
       "      <td>...</td>\n",
       "      <td>...</td>\n",
       "      <td>...</td>\n",
       "      <td>...</td>\n",
       "      <td>...</td>\n",
       "      <td>...</td>\n",
       "      <td>...</td>\n",
       "      <td>...</td>\n",
       "      <td>...</td>\n",
       "      <td>...</td>\n",
       "    </tr>\n",
       "    <tr>\n",
       "      <td>21520</td>\n",
       "      <td>1</td>\n",
       "      <td>-4529.32</td>\n",
       "      <td>43</td>\n",
       "      <td>среднее</td>\n",
       "      <td>1</td>\n",
       "      <td>гражданский брак</td>\n",
       "      <td>1</td>\n",
       "      <td>F</td>\n",
       "      <td>компаньон</td>\n",
       "      <td>0</td>\n",
       "      <td>224791.86</td>\n",
       "      <td>операции с жильем</td>\n",
       "      <td>224791</td>\n",
       "      <td>224791</td>\n",
       "      <td>Платил в срок</td>\n",
       "      <td>150-300</td>\n",
       "      <td>высокий</td>\n",
       "    </tr>\n",
       "    <tr>\n",
       "      <td>21521</td>\n",
       "      <td>0</td>\n",
       "      <td>343937.40</td>\n",
       "      <td>67</td>\n",
       "      <td>среднее</td>\n",
       "      <td>1</td>\n",
       "      <td>женат / замужем</td>\n",
       "      <td>0</td>\n",
       "      <td>F</td>\n",
       "      <td>пенсионер</td>\n",
       "      <td>0</td>\n",
       "      <td>155999.81</td>\n",
       "      <td>сделка с автомобилем</td>\n",
       "      <td>155999</td>\n",
       "      <td>155999</td>\n",
       "      <td>Платил в срок</td>\n",
       "      <td>150-300</td>\n",
       "      <td>средний</td>\n",
       "    </tr>\n",
       "    <tr>\n",
       "      <td>21522</td>\n",
       "      <td>1</td>\n",
       "      <td>-2113.35</td>\n",
       "      <td>38</td>\n",
       "      <td>среднее</td>\n",
       "      <td>1</td>\n",
       "      <td>гражданский брак</td>\n",
       "      <td>1</td>\n",
       "      <td>M</td>\n",
       "      <td>сотрудник</td>\n",
       "      <td>1</td>\n",
       "      <td>89672.56</td>\n",
       "      <td>недвижимость</td>\n",
       "      <td>89672</td>\n",
       "      <td>89672</td>\n",
       "      <td>Имел задолженность кредиту</td>\n",
       "      <td>50-100</td>\n",
       "      <td>низкий</td>\n",
       "    </tr>\n",
       "    <tr>\n",
       "      <td>21523</td>\n",
       "      <td>3</td>\n",
       "      <td>-3112.48</td>\n",
       "      <td>38</td>\n",
       "      <td>среднее</td>\n",
       "      <td>1</td>\n",
       "      <td>женат / замужем</td>\n",
       "      <td>0</td>\n",
       "      <td>M</td>\n",
       "      <td>сотрудник</td>\n",
       "      <td>1</td>\n",
       "      <td>244093.05</td>\n",
       "      <td>на покупку своего автомобиля</td>\n",
       "      <td>244093</td>\n",
       "      <td>244093</td>\n",
       "      <td>Имел задолженность кредиту</td>\n",
       "      <td>150-300</td>\n",
       "      <td>высокий</td>\n",
       "    </tr>\n",
       "    <tr>\n",
       "      <td>21524</td>\n",
       "      <td>2</td>\n",
       "      <td>-1984.51</td>\n",
       "      <td>40</td>\n",
       "      <td>среднее</td>\n",
       "      <td>1</td>\n",
       "      <td>женат / замужем</td>\n",
       "      <td>0</td>\n",
       "      <td>F</td>\n",
       "      <td>сотрудник</td>\n",
       "      <td>0</td>\n",
       "      <td>82047.42</td>\n",
       "      <td>на покупку автомобиля</td>\n",
       "      <td>82047</td>\n",
       "      <td>82047</td>\n",
       "      <td>Платил в срок</td>\n",
       "      <td>50-100</td>\n",
       "      <td>низкий</td>\n",
       "    </tr>\n",
       "  </tbody>\n",
       "</table>\n",
       "<p>21525 rows × 17 columns</p>\n",
       "</div>"
      ],
      "text/plain": [
       "       children  days_employed  dob_years education  education_id  \\\n",
       "0             1       -8437.67         42    высшее             0   \n",
       "1             1       -4024.80         36   среднее             1   \n",
       "2             0       -5623.42         33   среднее             1   \n",
       "3             3       -4124.75         32   среднее             1   \n",
       "4             0      340266.07         53   среднее             1   \n",
       "...         ...            ...        ...       ...           ...   \n",
       "21520         1       -4529.32         43   среднее             1   \n",
       "21521         0      343937.40         67   среднее             1   \n",
       "21522         1       -2113.35         38   среднее             1   \n",
       "21523         3       -3112.48         38   среднее             1   \n",
       "21524         2       -1984.51         40   среднее             1   \n",
       "\n",
       "          family_status  family_status_id gender income_type  debt  \\\n",
       "0       женат / замужем                 0      F   сотрудник     0   \n",
       "1       женат / замужем                 0      F   сотрудник     0   \n",
       "2       женат / замужем                 0      M   сотрудник     0   \n",
       "3       женат / замужем                 0      M   сотрудник     0   \n",
       "4      гражданский брак                 1      F   пенсионер     0   \n",
       "...                 ...               ...    ...         ...   ...   \n",
       "21520  гражданский брак                 1      F   компаньон     0   \n",
       "21521   женат / замужем                 0      F   пенсионер     0   \n",
       "21522  гражданский брак                 1      M   сотрудник     1   \n",
       "21523   женат / замужем                 0      M   сотрудник     1   \n",
       "21524   женат / замужем                 0      F   сотрудник     0   \n",
       "\n",
       "       total_income                       purpose  median_replace_NaN  \\\n",
       "0         253875.64                 покупка жилья              253875   \n",
       "1         112080.01       приобретение автомобиля              112080   \n",
       "2         145885.95                 покупка жилья              145885   \n",
       "3         267628.55    дополнительное образование              267628   \n",
       "4         158616.08               сыграть свадьбу              158616   \n",
       "...             ...                           ...                 ...   \n",
       "21520     224791.86             операции с жильем              224791   \n",
       "21521     155999.81          сделка с автомобилем              155999   \n",
       "21522      89672.56                  недвижимость               89672   \n",
       "21523     244093.05  на покупку своего автомобиля              244093   \n",
       "21524      82047.42         на покупку автомобиля               82047   \n",
       "\n",
       "       median_replace_NaN_group                      debt_1 income_group  \\\n",
       "0                        253875               Платил в срок      150-300   \n",
       "1                        112080               Платил в срок      100-150   \n",
       "2                        145885               Платил в срок      100-150   \n",
       "3                        267628               Платил в срок      150-300   \n",
       "4                        158616               Платил в срок      150-300   \n",
       "...                         ...                         ...          ...   \n",
       "21520                    224791               Платил в срок      150-300   \n",
       "21521                    155999               Платил в срок      150-300   \n",
       "21522                     89672  Имел задолженность кредиту       50-100   \n",
       "21523                    244093  Имел задолженность кредиту      150-300   \n",
       "21524                     82047               Платил в срок       50-100   \n",
       "\n",
       "         income_qcut  \n",
       "0            высокий  \n",
       "1      ниже среднего  \n",
       "2            средний  \n",
       "3            высокий  \n",
       "4            средний  \n",
       "...              ...  \n",
       "21520        высокий  \n",
       "21521        средний  \n",
       "21522         низкий  \n",
       "21523        высокий  \n",
       "21524         низкий  \n",
       "\n",
       "[21525 rows x 17 columns]"
      ]
     },
     "execution_count": 25,
     "metadata": {},
     "output_type": "execute_result"
    }
   ],
   "source": [
    "data['income_qcut'] = pd.qcut(data['total_income'], 5, ['низкий','ниже среднего','средний','выше среднего', 'высокий'])\n",
    "data"
   ]
  },
  {
   "cell_type": "markdown",
   "metadata": {},
   "source": [
    "Дополнительно создадим категорию по возрасту, предполагаем , что более молодые люди менее дисциплинированные и их, по идее, должно быть больше в структуре людей которые нарушали платежную дисциплину"
   ]
  },
  {
   "cell_type": "markdown",
   "metadata": {},
   "source": [
    "#### Оценка влияния уровня дохода на платежную дисциплину"
   ]
  },
  {
   "cell_type": "code",
   "execution_count": 26,
   "metadata": {},
   "outputs": [
    {
     "data": {
      "text/html": [
       "<style  type=\"text/css\" >\n",
       "</style><table id=\"T_c767d4aa_8060_11ec_bfe6_02420a391070\" ><thead>    <tr>        <th class=\"blank level0\" ></th>        <th class=\"col_heading level0 col0\" >Структура клиентов с просрочкой</th>        <th class=\"col_heading level0 col1\" >Структура клиентов без просрочки</th>        <th class=\"col_heading level0 col2\" >Структурный свдиг</th>        <th class=\"col_heading level0 col3\" >%% клиентов, имевших просрочку платежа</th>    </tr>    <tr>        <th class=\"index_name level0\" >income_group</th>        <th class=\"blank\" ></th>        <th class=\"blank\" ></th>        <th class=\"blank\" ></th>        <th class=\"blank\" ></th>    </tr></thead><tbody>\n",
       "                <tr>\n",
       "                        <th id=\"T_c767d4aa_8060_11ec_bfe6_02420a391070level0_row0\" class=\"row_heading level0 row0\" >1-50</th>\n",
       "                        <td id=\"T_c767d4aa_8060_11ec_bfe6_02420a391070row0_col0\" class=\"data row0 col0\" >1.32%</td>\n",
       "                        <td id=\"T_c767d4aa_8060_11ec_bfe6_02420a391070row0_col1\" class=\"data row0 col1\" >1.73%</td>\n",
       "                        <td id=\"T_c767d4aa_8060_11ec_bfe6_02420a391070row0_col2\" class=\"data row0 col2\" >0.76</td>\n",
       "                        <td id=\"T_c767d4aa_8060_11ec_bfe6_02420a391070row0_col3\" class=\"data row0 col3\" >6.18% </td>\n",
       "            </tr>\n",
       "            <tr>\n",
       "                        <th id=\"T_c767d4aa_8060_11ec_bfe6_02420a391070level0_row1\" class=\"row_heading level0 row1\" >100-150</th>\n",
       "                        <td id=\"T_c767d4aa_8060_11ec_bfe6_02420a391070row1_col0\" class=\"data row1 col0\" >28.20%</td>\n",
       "                        <td id=\"T_c767d4aa_8060_11ec_bfe6_02420a391070row1_col1\" class=\"data row1 col1\" >26.50%</td>\n",
       "                        <td id=\"T_c767d4aa_8060_11ec_bfe6_02420a391070row1_col2\" class=\"data row1 col2\" >1.06</td>\n",
       "                        <td id=\"T_c767d4aa_8060_11ec_bfe6_02420a391070row1_col3\" class=\"data row1 col3\" >8.61% </td>\n",
       "            </tr>\n",
       "            <tr>\n",
       "                        <th id=\"T_c767d4aa_8060_11ec_bfe6_02420a391070level0_row2\" class=\"row_heading level0 row2\" >150-300</th>\n",
       "                        <td id=\"T_c767d4aa_8060_11ec_bfe6_02420a391070row2_col0\" class=\"data row2 col0\" >35.61%</td>\n",
       "                        <td id=\"T_c767d4aa_8060_11ec_bfe6_02420a391070row2_col1\" class=\"data row2 col1\" >35.78%</td>\n",
       "                        <td id=\"T_c767d4aa_8060_11ec_bfe6_02420a391070row2_col2\" class=\"data row2 col2\" >1.00</td>\n",
       "                        <td id=\"T_c767d4aa_8060_11ec_bfe6_02420a391070row2_col3\" class=\"data row2 col3\" >8.05% </td>\n",
       "            </tr>\n",
       "            <tr>\n",
       "                        <th id=\"T_c767d4aa_8060_11ec_bfe6_02420a391070level0_row3\" class=\"row_heading level0 row3\" >300-500</th>\n",
       "                        <td id=\"T_c767d4aa_8060_11ec_bfe6_02420a391070row3_col0\" class=\"data row3 col0\" >5.28%</td>\n",
       "                        <td id=\"T_c767d4aa_8060_11ec_bfe6_02420a391070row3_col1\" class=\"data row3 col1\" >5.85%</td>\n",
       "                        <td id=\"T_c767d4aa_8060_11ec_bfe6_02420a391070row3_col2\" class=\"data row3 col2\" >0.90</td>\n",
       "                        <td id=\"T_c767d4aa_8060_11ec_bfe6_02420a391070row3_col3\" class=\"data row3 col3\" >7.30% </td>\n",
       "            </tr>\n",
       "            <tr>\n",
       "                        <th id=\"T_c767d4aa_8060_11ec_bfe6_02420a391070level0_row4\" class=\"row_heading level0 row4\" >50-100</th>\n",
       "                        <td id=\"T_c767d4aa_8060_11ec_bfe6_02420a391070row4_col0\" class=\"data row4 col0\" >18.84%</td>\n",
       "                        <td id=\"T_c767d4aa_8060_11ec_bfe6_02420a391070row4_col1\" class=\"data row4 col1\" >18.84%</td>\n",
       "                        <td id=\"T_c767d4aa_8060_11ec_bfe6_02420a391070row4_col2\" class=\"data row4 col2\" >1.00</td>\n",
       "                        <td id=\"T_c767d4aa_8060_11ec_bfe6_02420a391070row4_col3\" class=\"data row4 col3\" >8.09% </td>\n",
       "            </tr>\n",
       "            <tr>\n",
       "                        <th id=\"T_c767d4aa_8060_11ec_bfe6_02420a391070level0_row5\" class=\"row_heading level0 row5\" >500-1000</th>\n",
       "                        <td id=\"T_c767d4aa_8060_11ec_bfe6_02420a391070row5_col0\" class=\"data row5 col0\" >0.69%</td>\n",
       "                        <td id=\"T_c767d4aa_8060_11ec_bfe6_02420a391070row5_col1\" class=\"data row5 col1\" >0.92%</td>\n",
       "                        <td id=\"T_c767d4aa_8060_11ec_bfe6_02420a391070row5_col2\" class=\"data row5 col2\" >0.75</td>\n",
       "                        <td id=\"T_c767d4aa_8060_11ec_bfe6_02420a391070row5_col3\" class=\"data row5 col3\" >6.09% </td>\n",
       "            </tr>\n",
       "            <tr>\n",
       "                        <th id=\"T_c767d4aa_8060_11ec_bfe6_02420a391070level0_row6\" class=\"row_heading level0 row6\" >>1000</th>\n",
       "                        <td id=\"T_c767d4aa_8060_11ec_bfe6_02420a391070row6_col0\" class=\"data row6 col0\" >0.11%</td>\n",
       "                        <td id=\"T_c767d4aa_8060_11ec_bfe6_02420a391070row6_col1\" class=\"data row6 col1\" >0.12%</td>\n",
       "                        <td id=\"T_c767d4aa_8060_11ec_bfe6_02420a391070row6_col2\" class=\"data row6 col2\" >0.99</td>\n",
       "                        <td id=\"T_c767d4aa_8060_11ec_bfe6_02420a391070row6_col3\" class=\"data row6 col3\" >8.00% </td>\n",
       "            </tr>\n",
       "    </tbody></table>"
      ],
      "text/plain": [
       "<pandas.io.formats.style.Styler at 0x7fb772e29c90>"
      ]
     },
     "execution_count": 26,
     "metadata": {},
     "output_type": "execute_result"
    }
   ],
   "source": [
    "rate_bad =data[data['debt'] == 1].groupby(data['income_group']).agg({'income_type':'count'})/len(data[data['debt'] == 1])\n",
    "rate_def= data.groupby(['income_group'])['debt'].agg(['count', 'sum', lambda x: '{:.2%} '.format(x.mean())])\n",
    "rate_good =data.groupby(data['income_group']).agg({'income_type':'count'})/len(data)\n",
    "struct_relation = (rate_bad/rate_good).fillna(0)\n",
    "merge_table =rate_bad.merge (rate_good, on = 'income_group', how='left', suffixes=('_rate_bad', '_rate_good')) # Собираю все в одну табличку\n",
    "merge_table = merge_table.merge(struct_relation, on = 'income_group', how='left') #Собираю все в одну табличку\n",
    "merge_table = merge_table.merge(rate_def ['<lambda_0>'], on = 'income_group', how='left') #Собираю все в одну табличку\n",
    "\n",
    "merge_table.rename(columns={'income_type_rate_bad': 'Структура клиентов с просрочкой', # Делаю названия  столбцов понятными\n",
    "              'income_type_rate_good': 'Структура клиентов без просрочки',\n",
    "              'income_type': 'Структурный свдиг',\n",
    "              '<lambda_0>':'%% клиентов, имевших просрочку платежа'},inplace=True)\n",
    "\n",
    "merge_table.style.format({'Структура клиентов с просрочкой': '{:.2%}'.format, # Делаю формат  столбцов понятными\n",
    "                         'Структура клиентов без просрочки': '{:.2%}'.format,\n",
    "                        'Структурный свдиг':'{:.2f}'.format})"
   ]
  },
  {
   "cell_type": "markdown",
   "metadata": {},
   "source": [
    "<div class=\"alert alert-info\">\n",
    "<b> Комментарий студента</b> Я пока оставил свое распределение. Я считаю ,что людям, наверное, понятнее смотреть цифры, по моим ощущениям, категорировать: средне, выше среднего и так далее не совсем верно , у читателя будем  в голове вопрос, а сколько это выше среднего? и куда ему смотреть? Полагаю, читателям отчета, желательно, дать информацию по проще :). \n",
    "</div>    "
   ]
  },
  {
   "cell_type": "markdown",
   "metadata": {},
   "source": [
    "<div class=\"alert alert-success\" style=\"border-radius: 15px; box-shadow: 4px 4px 4px; border: 1px solid \">\n",
    "<b> Комментарий ревьюера 2</b>\n",
    "    \n",
    "Да, разумно.  </div>"
   ]
  },
  {
   "cell_type": "markdown",
   "metadata": {},
   "source": [
    "<div class=\"alert alert-info\">\n",
    "<b> Вывод:</b> Структуры практически идентичны. Основная доля продаж более 80%,в диапазоне от 50 до 300 тысяч рублей. На нее же и приходится неплательщики в срок. Людям свойственно завышать доходы, чтобы казаться более платежеспасобными. Но, корректного вывода не сделать из этого пункта не имея цифр по сумме кредита. Надо понимать какие долги обслуживают клиенты с такими доходами. \n",
    "</div> "
   ]
  },
  {
   "cell_type": "markdown",
   "metadata": {},
   "source": [
    "<div class=\"alert alert-success\" style=\"border-radius: 15px; box-shadow: 4px 4px 4px; border: 1px solid \">\n",
    "<b> Комментарий ревьюера 2</b>\n",
    "    \n",
    "Завышать доходы перед банком они не могут. А вывод тут напрашивается очень даже логичный: люди с низким доходом понимают, что не потянут еще и процент за просрочку, поэтому отказывают себе в чем-то, чтобы отложить деньги на выплату кредита. Богатые люди действительно, как правило, более финансово грамотные и кредиты обычно берут на бизнес. А вот средний класс может позволить <div class=\"alert alert-info\">\n",
    "<h4><b> Комментарии студента 2. </b> </h4><br>\n",
    "Я, не сосвем согласен с вашим  утверждением, судя по дата сету - это розничное  кредитование. В основном, доходы принимаются со слов заявителей на кредит, допускаю, что небольшая часть может быть со справками о доходах. Я вас уверяю, доходы обычно завышают и  клиенты, чтобы  получить максимальную сумму кредита и менеджеры, которые принимают заявки на кредит для того ,чтобы  получить продажу и  забонусироваться от продажи. Опять-таки оговорюсь, если речь в  дата сете идет о России , и зарплаты сильно большие, у  нас медиана по стране 32 тыс.рублей, тут сильный перекос в сторону высоких доходов, были бы реальные данные, я бы сильно засомневался в их репрезентативности, но тут же учебные. \n",
    "</div>     "
   ]
  },
  {
   "cell_type": "markdown",
   "metadata": {},
   "source": [
    "#### Оценка влияния возраста на платежную дисциплину"
   ]
  },
  {
   "cell_type": "code",
   "execution_count": 27,
   "metadata": {},
   "outputs": [
    {
     "data": {
      "text/plain": [
       "35    617\n",
       "40    609\n",
       "41    607\n",
       "34    603\n",
       "38    598\n",
       "42    597\n",
       "33    581\n",
       "39    573\n",
       "31    560\n",
       "36    555\n",
       "44    547\n",
       "29    545\n",
       "30    540\n",
       "48    538\n",
       "37    537\n",
       "50    514\n",
       "43    513\n",
       "32    510\n",
       "49    508\n",
       "28    503\n",
       "45    497\n",
       "27    493\n",
       "56    487\n",
       "52    484\n",
       "47    480\n",
       "54    479\n",
       "46    475\n",
       "58    461\n",
       "57    460\n",
       "53    459\n",
       "51    448\n",
       "59    444\n",
       "55    443\n",
       "26    408\n",
       "60    377\n",
       "25    357\n",
       "61    355\n",
       "62    352\n",
       "63    269\n",
       "64    265\n",
       "24    264\n",
       "23    254\n",
       "65    194\n",
       "66    183\n",
       "22    183\n",
       "67    167\n",
       "21    111\n",
       "0     101\n",
       "68     99\n",
       "69     85\n",
       "70     65\n",
       "71     58\n",
       "20     51\n",
       "72     33\n",
       "19     14\n",
       "73      8\n",
       "74      6\n",
       "75      1\n",
       "Name: dob_years, dtype: int64"
      ]
     },
     "execution_count": 27,
     "metadata": {},
     "output_type": "execute_result"
    }
   ],
   "source": [
    "data['dob_years'].value_counts()# затесался нуль в  возраст, помечу , что возраст не определен в категории "
   ]
  },
  {
   "cell_type": "code",
   "execution_count": 28,
   "metadata": {},
   "outputs": [],
   "source": [
    "def age_group(age):\n",
    "    if age == 0:\n",
    "        return 'Возраст не определён'\n",
    "    if 18 <= age < 25:\n",
    "        return '18-25'    \n",
    "    if 25 <= age < 30:\n",
    "        return '25-30'    \n",
    "    if 30 <= age < 40:\n",
    "        return '30-40'\n",
    "    if 40 <= age < 50:\n",
    "        return '40-50'   \n",
    "    if 50 <= age < 60:\n",
    "        return '50-60'       \n",
    "    if 60 <= age < 70:\n",
    "        return '60-70'       \n",
    "    if age >= 70:\n",
    "        return 'Пенсионер'\n",
    "    \n",
    "#age_group(55)  проверка функции\n",
    "data['age_group'] = data['dob_years'].apply(age_group)"
   ]
  },
  {
   "cell_type": "code",
   "execution_count": 29,
   "metadata": {},
   "outputs": [
    {
     "data": {
      "text/html": [
       "<style  type=\"text/css\" >\n",
       "</style><table id=\"T_c774c354_8060_11ec_bfe6_02420a391070\" ><thead>    <tr>        <th class=\"blank level0\" ></th>        <th class=\"col_heading level0 col0\" >Структура клиентов с просрочкой</th>        <th class=\"col_heading level0 col1\" >Структура клиентов без просрочки</th>        <th class=\"col_heading level0 col2\" >Структурный свдиг</th>        <th class=\"col_heading level0 col3\" >%% клиентов, имевших просрочку платежа</th>    </tr>    <tr>        <th class=\"index_name level0\" >age_group</th>        <th class=\"blank\" ></th>        <th class=\"blank\" ></th>        <th class=\"blank\" ></th>        <th class=\"blank\" ></th>    </tr></thead><tbody>\n",
       "                <tr>\n",
       "                        <th id=\"T_c774c354_8060_11ec_bfe6_02420a391070level0_row0\" class=\"row_heading level0 row0\" >18-25</th>\n",
       "                        <td id=\"T_c774c354_8060_11ec_bfe6_02420a391070row0_col0\" class=\"data row0 col0\" >5.05%</td>\n",
       "                        <td id=\"T_c774c354_8060_11ec_bfe6_02420a391070row0_col1\" class=\"data row0 col1\" >4.07%</td>\n",
       "                        <td id=\"T_c774c354_8060_11ec_bfe6_02420a391070row0_col2\" class=\"data row0 col2\" >1.24</td>\n",
       "                        <td id=\"T_c774c354_8060_11ec_bfe6_02420a391070row0_col3\" class=\"data row0 col3\" >10.03% </td>\n",
       "            </tr>\n",
       "            <tr>\n",
       "                        <th id=\"T_c774c354_8060_11ec_bfe6_02420a391070level0_row1\" class=\"row_heading level0 row1\" >25-30</th>\n",
       "                        <td id=\"T_c774c354_8060_11ec_bfe6_02420a391070row1_col0\" class=\"data row1 col0\" >14.99%</td>\n",
       "                        <td id=\"T_c774c354_8060_11ec_bfe6_02420a391070row1_col1\" class=\"data row1 col1\" >10.71%</td>\n",
       "                        <td id=\"T_c774c354_8060_11ec_bfe6_02420a391070row1_col2\" class=\"data row1 col2\" >1.40</td>\n",
       "                        <td id=\"T_c774c354_8060_11ec_bfe6_02420a391070row1_col3\" class=\"data row1 col3\" >11.32% </td>\n",
       "            </tr>\n",
       "            <tr>\n",
       "                        <th id=\"T_c774c354_8060_11ec_bfe6_02420a391070level0_row2\" class=\"row_heading level0 row2\" >30-40</th>\n",
       "                        <td id=\"T_c774c354_8060_11ec_bfe6_02420a391070row2_col0\" class=\"data row2 col0\" >31.71%</td>\n",
       "                        <td id=\"T_c774c354_8060_11ec_bfe6_02420a391070row2_col1\" class=\"data row2 col1\" >26.36%</td>\n",
       "                        <td id=\"T_c774c354_8060_11ec_bfe6_02420a391070row2_col2\" class=\"data row2 col2\" >1.20</td>\n",
       "                        <td id=\"T_c774c354_8060_11ec_bfe6_02420a391070row2_col3\" class=\"data row2 col3\" >9.73% </td>\n",
       "            </tr>\n",
       "            <tr>\n",
       "                        <th id=\"T_c774c354_8060_11ec_bfe6_02420a391070level0_row3\" class=\"row_heading level0 row3\" >40-50</th>\n",
       "                        <td id=\"T_c774c354_8060_11ec_bfe6_02420a391070row3_col0\" class=\"data row3 col0\" >23.21%</td>\n",
       "                        <td id=\"T_c774c354_8060_11ec_bfe6_02420a391070row3_col1\" class=\"data row3 col1\" >24.95%</td>\n",
       "                        <td id=\"T_c774c354_8060_11ec_bfe6_02420a391070row3_col2\" class=\"data row3 col2\" >0.93</td>\n",
       "                        <td id=\"T_c774c354_8060_11ec_bfe6_02420a391070row3_col3\" class=\"data row3 col3\" >7.52% </td>\n",
       "            </tr>\n",
       "            <tr>\n",
       "                        <th id=\"T_c774c354_8060_11ec_bfe6_02420a391070level0_row4\" class=\"row_heading level0 row4\" >50-60</th>\n",
       "                        <td id=\"T_c774c354_8060_11ec_bfe6_02420a391070row4_col0\" class=\"data row4 col0\" >17.52%</td>\n",
       "                        <td id=\"T_c774c354_8060_11ec_bfe6_02420a391070row4_col1\" class=\"data row4 col1\" >21.74%</td>\n",
       "                        <td id=\"T_c774c354_8060_11ec_bfe6_02420a391070row4_col2\" class=\"data row4 col2\" >0.81</td>\n",
       "                        <td id=\"T_c774c354_8060_11ec_bfe6_02420a391070row4_col3\" class=\"data row4 col3\" >6.52% </td>\n",
       "            </tr>\n",
       "            <tr>\n",
       "                        <th id=\"T_c774c354_8060_11ec_bfe6_02420a391070level0_row5\" class=\"row_heading level0 row5\" >60-70</th>\n",
       "                        <td id=\"T_c774c354_8060_11ec_bfe6_02420a391070row5_col0\" class=\"data row5 col0\" >6.72%</td>\n",
       "                        <td id=\"T_c774c354_8060_11ec_bfe6_02420a391070row5_col1\" class=\"data row5 col1\" >10.90%</td>\n",
       "                        <td id=\"T_c774c354_8060_11ec_bfe6_02420a391070row5_col2\" class=\"data row5 col2\" >0.62</td>\n",
       "                        <td id=\"T_c774c354_8060_11ec_bfe6_02420a391070row5_col3\" class=\"data row5 col3\" >4.99% </td>\n",
       "            </tr>\n",
       "            <tr>\n",
       "                        <th id=\"T_c774c354_8060_11ec_bfe6_02420a391070level0_row6\" class=\"row_heading level0 row6\" >Возраст не определён</th>\n",
       "                        <td id=\"T_c774c354_8060_11ec_bfe6_02420a391070row6_col0\" class=\"data row6 col0\" >0.46%</td>\n",
       "                        <td id=\"T_c774c354_8060_11ec_bfe6_02420a391070row6_col1\" class=\"data row6 col1\" >0.47%</td>\n",
       "                        <td id=\"T_c774c354_8060_11ec_bfe6_02420a391070row6_col2\" class=\"data row6 col2\" >0.98</td>\n",
       "                        <td id=\"T_c774c354_8060_11ec_bfe6_02420a391070row6_col3\" class=\"data row6 col3\" >7.92% </td>\n",
       "            </tr>\n",
       "            <tr>\n",
       "                        <th id=\"T_c774c354_8060_11ec_bfe6_02420a391070level0_row7\" class=\"row_heading level0 row7\" >Пенсионер</th>\n",
       "                        <td id=\"T_c774c354_8060_11ec_bfe6_02420a391070row7_col0\" class=\"data row7 col0\" >0.34%</td>\n",
       "                        <td id=\"T_c774c354_8060_11ec_bfe6_02420a391070row7_col1\" class=\"data row7 col1\" >0.79%</td>\n",
       "                        <td id=\"T_c774c354_8060_11ec_bfe6_02420a391070row7_col2\" class=\"data row7 col2\" >0.43</td>\n",
       "                        <td id=\"T_c774c354_8060_11ec_bfe6_02420a391070row7_col3\" class=\"data row7 col3\" >3.51% </td>\n",
       "            </tr>\n",
       "    </tbody></table>"
      ],
      "text/plain": [
       "<pandas.io.formats.style.Styler at 0x7fb772e1b590>"
      ]
     },
     "execution_count": 29,
     "metadata": {},
     "output_type": "execute_result"
    }
   ],
   "source": [
    "rate_bad =data[data['debt'] == 1].groupby(data['age_group']).agg({'income_type':'count'})/len(data[data['debt'] == 1])\n",
    "rate_def= data.groupby(['age_group'])['debt'].agg(['count', 'sum', lambda x: '{:.2%} '.format(x.mean())])\n",
    "rate_good =data.groupby(data['age_group']).agg({'income_type':'count'})/len(data)\n",
    "struct_relation = (rate_bad/rate_good).fillna(0)\n",
    "merge_table =rate_bad.merge (rate_good, on = 'age_group', how='left', suffixes=('_rate_bad', '_rate_good')) # Собираю все в одну табличку\n",
    "merge_table = merge_table.merge(struct_relation, on = 'age_group', how='left') #Собираю все в одну табличку\n",
    "merge_table = merge_table.merge(rate_def ['<lambda_0>'], on = 'age_group', how='left') #Собираю все в одну табличку\n",
    "\n",
    "merge_table.rename(columns={'income_type_rate_bad': 'Структура клиентов с просрочкой', # Делаю названия  столбцов понятными\n",
    "              'income_type_rate_good': 'Структура клиентов без просрочки',\n",
    "              'income_type': 'Структурный свдиг',\n",
    "              '<lambda_0>':'%% клиентов, имевших просрочку платежа'},inplace=True)\n",
    "\n",
    "merge_table.style.format({'Структура клиентов с просрочкой': '{:.2%}'.format, # Делаю формат  столбцов понятными\n",
    "                         'Структура клиентов без просрочки': '{:.2%}'.format,\n",
    "                        'Структурный свдиг':'{:.2f}'.format})"
   ]
  },
  {
   "cell_type": "markdown",
   "metadata": {},
   "source": [
    "#### Оценка влияния гендора на платежную дисциплину"
   ]
  },
  {
   "cell_type": "code",
   "execution_count": 30,
   "metadata": {},
   "outputs": [],
   "source": [
    "data.loc[data['gender'] == 'M', 'gender_1'] = 'Муж'# заменю на более понятные занчения,добавлю новое поле\n",
    "data.loc[data['gender'] == 'F', 'gender_1'] = 'Жен' # заменю на более понятные занчения,добавлю новое поле\n",
    "data.loc[data['gender'] == 'XNA', 'gender_1'] = 'Не определен'# заменю на более понятные занчения,добавлю новое поле"
   ]
  },
  {
   "cell_type": "code",
   "execution_count": 31,
   "metadata": {},
   "outputs": [
    {
     "data": {
      "text/html": [
       "<style  type=\"text/css\" >\n",
       "</style><table id=\"T_c780b038_8060_11ec_bfe6_02420a391070\" ><thead>    <tr>        <th class=\"blank level0\" ></th>        <th class=\"col_heading level0 col0\" >Структура клиентов с просрочкой</th>        <th class=\"col_heading level0 col1\" >Структура клиентов без просрочки</th>        <th class=\"col_heading level0 col2\" >Структурный свдиг</th>        <th class=\"col_heading level0 col3\" >%% клиентов, имевших просрочку платежа</th>    </tr>    <tr>        <th class=\"index_name level0\" >gender_1</th>        <th class=\"blank\" ></th>        <th class=\"blank\" ></th>        <th class=\"blank\" ></th>        <th class=\"blank\" ></th>    </tr></thead><tbody>\n",
       "                <tr>\n",
       "                        <th id=\"T_c780b038_8060_11ec_bfe6_02420a391070level0_row0\" class=\"row_heading level0 row0\" >Жен</th>\n",
       "                        <td id=\"T_c780b038_8060_11ec_bfe6_02420a391070row0_col0\" class=\"data row0 col0\" >57.09%</td>\n",
       "                        <td id=\"T_c780b038_8060_11ec_bfe6_02420a391070row0_col1\" class=\"data row0 col1\" >66.14%</td>\n",
       "                        <td id=\"T_c780b038_8060_11ec_bfe6_02420a391070row0_col2\" class=\"data row0 col2\" >0.86</td>\n",
       "                        <td id=\"T_c780b038_8060_11ec_bfe6_02420a391070row0_col3\" class=\"data row0 col3\" >6.98% </td>\n",
       "            </tr>\n",
       "            <tr>\n",
       "                        <th id=\"T_c780b038_8060_11ec_bfe6_02420a391070level0_row1\" class=\"row_heading level0 row1\" >Муж</th>\n",
       "                        <td id=\"T_c780b038_8060_11ec_bfe6_02420a391070row1_col0\" class=\"data row1 col0\" >42.91%</td>\n",
       "                        <td id=\"T_c780b038_8060_11ec_bfe6_02420a391070row1_col1\" class=\"data row1 col1\" >33.86%</td>\n",
       "                        <td id=\"T_c780b038_8060_11ec_bfe6_02420a391070row1_col2\" class=\"data row1 col2\" >1.27</td>\n",
       "                        <td id=\"T_c780b038_8060_11ec_bfe6_02420a391070row1_col3\" class=\"data row1 col3\" >10.25% </td>\n",
       "            </tr>\n",
       "    </tbody></table>"
      ],
      "text/plain": [
       "<pandas.io.formats.style.Styler at 0x7fb77223f1d0>"
      ]
     },
     "execution_count": 31,
     "metadata": {},
     "output_type": "execute_result"
    }
   ],
   "source": [
    "rate_bad =data[data['debt'] == 1].groupby(data['gender_1']).agg({'income_type':'count'})/len(data[data['debt'] == 1])\n",
    "rate_def= data.groupby(['gender_1'])['debt'].agg(['count', 'sum', lambda x: '{:.2%} '.format(x.mean())])\n",
    "rate_good =data.groupby(data['gender_1']).agg({'income_type':'count'})/len(data)\n",
    "struct_relation = (rate_bad/rate_good).fillna(0)\n",
    "merge_table =rate_bad.merge (rate_good, on = 'gender_1', how='left', suffixes=('_rate_bad', '_rate_good')) # Собираю все в одну табличку\n",
    "merge_table = merge_table.merge(struct_relation, on = 'gender_1', how='left') #Собираю все в одну табличку\n",
    "merge_table = merge_table.merge(rate_def ['<lambda_0>'], on = 'gender_1', how='left') #Собираю все в одну табличку\n",
    "\n",
    "merge_table.rename(columns={'income_type_rate_bad': 'Структура клиентов с просрочкой', # Делаю названия  столбцов понятными\n",
    "              'income_type_rate_good': 'Структура клиентов без просрочки',\n",
    "              'income_type': 'Структурный свдиг',\n",
    "              '<lambda_0>':'%% клиентов, имевших просрочку платежа'},inplace=True)\n",
    "\n",
    "merge_table.style.format({'Структура клиентов с просрочкой': '{:.2%}'.format, # Делаю формат  столбцов понятными\n",
    "                         'Структура клиентов без просрочки': '{:.2%}'.format,\n",
    "                        'Структурный свдиг':'{:.2f}'.format})"
   ]
  },
  {
   "cell_type": "markdown",
   "metadata": {},
   "source": [
    "### Лемматизация"
   ]
  },
  {
   "cell_type": "markdown",
   "metadata": {},
   "source": [
    "#### Оценка влияния цели  кредита на платежную дисциплину"
   ]
  },
  {
   "cell_type": "code",
   "execution_count": 32,
   "metadata": {},
   "outputs": [
    {
     "data": {
      "text/plain": [
       "array(['покупка жилья', 'приобретение автомобиля',\n",
       "       'дополнительное образование', 'сыграть свадьбу',\n",
       "       'операции с жильем', 'образование', 'на проведение свадьбы',\n",
       "       'покупка жилья для семьи', 'покупка недвижимости',\n",
       "       'покупка коммерческой недвижимости', 'покупка жилой недвижимости',\n",
       "       'строительство собственной недвижимости', 'недвижимость',\n",
       "       'строительство недвижимости', 'на покупку подержанного автомобиля',\n",
       "       'на покупку своего автомобиля',\n",
       "       'операции с коммерческой недвижимостью',\n",
       "       'строительство жилой недвижимости', 'жилье',\n",
       "       'операции со своей недвижимостью', 'автомобили',\n",
       "       'заняться образованием', 'сделка с подержанным автомобилем',\n",
       "       'получение образования', 'автомобиль', 'свадьба',\n",
       "       'получение дополнительного образования', 'покупка своего жилья',\n",
       "       'операции с недвижимостью', 'получение высшего образования',\n",
       "       'свой автомобиль', 'сделка с автомобилем',\n",
       "       'профильное образование', 'высшее образование',\n",
       "       'покупка жилья для сдачи', 'на покупку автомобиля', 'ремонт жилью',\n",
       "       'заняться высшим образованием'], dtype=object)"
      ]
     },
     "execution_count": 32,
     "metadata": {},
     "output_type": "execute_result"
    }
   ],
   "source": [
    "data['purpose'].value_counts()\n",
    "data_uni_goal=data['purpose'].unique()\n",
    "data_uni_goal"
   ]
  },
  {
   "cell_type": "markdown",
   "metadata": {},
   "source": [
    "**Вывод:** Да,видимо, разработчки не позаботились сделать список, и предоставили пользователю свободу действия. Необходимо выделить основные цели кредита. Использумем лемматизацию по столбцу цель(porpuse)."
   ]
  },
  {
   "cell_type": "code",
   "execution_count": 33,
   "metadata": {},
   "outputs": [
    {
     "name": "stdout",
     "output_type": "stream",
     "text": [
      "CPU times: user 2.77 ms, sys: 7.76 ms, total: 10.5 ms\n",
      "Wall time: 628 ms\n"
     ]
    },
    {
     "data": {
      "text/plain": [
       "[['покупка', ' ', 'жилье', '\\n'],\n",
       " ['приобретение', ' ', 'автомобиль', '\\n'],\n",
       " ['дополнительный', ' ', 'образование', '\\n'],\n",
       " ['сыграть', ' ', 'свадьба', '\\n'],\n",
       " ['операция', ' ', 'с', ' ', 'жилье', '\\n'],\n",
       " ['образование', '\\n'],\n",
       " ['на', ' ', 'проведение', ' ', 'свадьба', '\\n'],\n",
       " ['покупка', ' ', 'жилье', ' ', 'для', ' ', 'семья', '\\n'],\n",
       " ['покупка', ' ', 'недвижимость', '\\n'],\n",
       " ['покупка', ' ', 'коммерческий', ' ', 'недвижимость', '\\n'],\n",
       " ['покупка', ' ', 'жилой', ' ', 'недвижимость', '\\n'],\n",
       " ['строительство', ' ', 'собственный', ' ', 'недвижимость', '\\n'],\n",
       " ['недвижимость', '\\n'],\n",
       " ['строительство', ' ', 'недвижимость', '\\n'],\n",
       " ['на', ' ', 'покупка', ' ', 'подержать', ' ', 'автомобиль', '\\n'],\n",
       " ['на', ' ', 'покупка', ' ', 'свой', ' ', 'автомобиль', '\\n'],\n",
       " ['операция', ' ', 'с', ' ', 'коммерческий', ' ', 'недвижимость', '\\n'],\n",
       " ['строительство', ' ', 'жилой', ' ', 'недвижимость', '\\n'],\n",
       " ['жилье', '\\n'],\n",
       " ['операция', ' ', 'со', ' ', 'свой', ' ', 'недвижимость', '\\n'],\n",
       " ['автомобиль', '\\n'],\n",
       " ['заниматься', ' ', 'образование', '\\n'],\n",
       " ['сделка', ' ', 'с', ' ', 'подержанный', ' ', 'автомобиль', '\\n'],\n",
       " ['получение', ' ', 'образование', '\\n'],\n",
       " ['автомобиль', '\\n'],\n",
       " ['свадьба', '\\n'],\n",
       " ['получение', ' ', 'дополнительный', ' ', 'образование', '\\n'],\n",
       " ['покупка', ' ', 'свой', ' ', 'жилье', '\\n'],\n",
       " ['операция', ' ', 'с', ' ', 'недвижимость', '\\n'],\n",
       " ['получение', ' ', 'высокий', ' ', 'образование', '\\n'],\n",
       " ['свой', ' ', 'автомобиль', '\\n'],\n",
       " ['сделка', ' ', 'с', ' ', 'автомобиль', '\\n'],\n",
       " ['профильный', ' ', 'образование', '\\n'],\n",
       " ['высокий', ' ', 'образование', '\\n'],\n",
       " ['покупка', ' ', 'жилье', ' ', 'для', ' ', 'сдача', '\\n'],\n",
       " ['на', ' ', 'покупка', ' ', 'автомобиль', '\\n'],\n",
       " ['ремонт', ' ', 'жилье', '\\n'],\n",
       " ['заниматься', ' ', 'высокий', ' ', 'образование', '\\n']]"
      ]
     },
     "execution_count": 33,
     "metadata": {},
     "output_type": "execute_result"
    }
   ],
   "source": [
    "%%time\n",
    "from pymystem3 import Mystem\n",
    "m = Mystem() \n",
    "lemma_list = []\n",
    "\n",
    "for i in data_uni_goal:\n",
    "    lemma =  m.lemmatize(i)\n",
    "    lemma_list.append(lemma)\n",
    "\n",
    "lemma_list"
   ]
  },
  {
   "cell_type": "markdown",
   "metadata": {},
   "source": [
    "**Вывод:** можно выделить 4 основные цели: 'образование', 'автомобиль', 'недвижимость','свадьба'. "
   ]
  },
  {
   "cell_type": "markdown",
   "metadata": {},
   "source": [
    "Сделаем функцию на 4 категории целей и посмотрим, как  там все по уровню нарушений оплаты. "
   ]
  },
  {
   "cell_type": "code",
   "execution_count": 34,
   "metadata": {},
   "outputs": [
    {
     "data": {
      "text/plain": [
       "'недвижимость'"
      ]
     },
     "execution_count": 34,
     "metadata": {},
     "output_type": "execute_result"
    }
   ],
   "source": [
    "def purpose_change(purpose):\n",
    "    lemmas_row = m.lemmatize(purpose)\n",
    "    for i in lemmas_row:\n",
    "        if 'свад' in i:\n",
    "            return 'свадьбу'\n",
    "        elif 'образ' in i:\n",
    "            return  'образование'\n",
    "        elif 'недвиж'in i:\n",
    "            return 'недвижимость'\n",
    "        elif 'автомоб' in i:\n",
    "            return  'автомобиль'\n",
    "        elif 'жил'in i: \n",
    "            return 'недвижимость'\n",
    "    return 'не определено'\n",
    "\n",
    "purpose_change('недвиж') #проверим работу функции\n",
    "\n"
   ]
  },
  {
   "cell_type": "code",
   "execution_count": 35,
   "metadata": {},
   "outputs": [
    {
     "name": "stdout",
     "output_type": "stream",
     "text": [
      "CPU times: user 784 ms, sys: 216 ms, total: 1 s\n",
      "Wall time: 2.73 s\n"
     ]
    },
    {
     "data": {
      "text/plain": [
       "недвижимость    10840\n",
       "автомобиль       4315\n",
       "образование      4022\n",
       "свадьбу          2348\n",
       "Name: purpose_group, dtype: int64"
      ]
     },
     "execution_count": 35,
     "metadata": {},
     "output_type": "execute_result"
    }
   ],
   "source": [
    "%%time\n",
    "data['purpose_group'] = data['purpose'].apply(purpose_change) # добавляем новый столбец, применяем функцию категоризации       \n",
    "data['purpose_group'].value_counts()\n",
    "#data.head(10)"
   ]
  },
  {
   "cell_type": "code",
   "execution_count": 36,
   "metadata": {},
   "outputs": [
    {
     "data": {
      "text/html": [
       "<style  type=\"text/css\" >\n",
       "</style><table id=\"T_c98d7f96_8060_11ec_bfe6_02420a391070\" ><thead>    <tr>        <th class=\"blank level0\" ></th>        <th class=\"col_heading level0 col0\" >Структура клиентов с просрочкой</th>        <th class=\"col_heading level0 col1\" >Структура клиентов без просрочки</th>        <th class=\"col_heading level0 col2\" >Структурный свдиг</th>        <th class=\"col_heading level0 col3\" >%% клиентов, имевших просрочку платежа</th>    </tr>    <tr>        <th class=\"index_name level0\" >purpose_group</th>        <th class=\"blank\" ></th>        <th class=\"blank\" ></th>        <th class=\"blank\" ></th>        <th class=\"blank\" ></th>    </tr></thead><tbody>\n",
       "                <tr>\n",
       "                        <th id=\"T_c98d7f96_8060_11ec_bfe6_02420a391070level0_row0\" class=\"row_heading level0 row0\" >автомобиль</th>\n",
       "                        <td id=\"T_c98d7f96_8060_11ec_bfe6_02420a391070row0_col0\" class=\"data row0 col0\" >23.15%</td>\n",
       "                        <td id=\"T_c98d7f96_8060_11ec_bfe6_02420a391070row0_col1\" class=\"data row0 col1\" >20.05%</td>\n",
       "                        <td id=\"T_c98d7f96_8060_11ec_bfe6_02420a391070row0_col2\" class=\"data row0 col2\" >1.15</td>\n",
       "                        <td id=\"T_c98d7f96_8060_11ec_bfe6_02420a391070row0_col3\" class=\"data row0 col3\" >9.34% </td>\n",
       "            </tr>\n",
       "            <tr>\n",
       "                        <th id=\"T_c98d7f96_8060_11ec_bfe6_02420a391070level0_row1\" class=\"row_heading level0 row1\" >недвижимость</th>\n",
       "                        <td id=\"T_c98d7f96_8060_11ec_bfe6_02420a391070row1_col0\" class=\"data row1 col0\" >44.92%</td>\n",
       "                        <td id=\"T_c98d7f96_8060_11ec_bfe6_02420a391070row1_col1\" class=\"data row1 col1\" >50.36%</td>\n",
       "                        <td id=\"T_c98d7f96_8060_11ec_bfe6_02420a391070row1_col2\" class=\"data row1 col2\" >0.89</td>\n",
       "                        <td id=\"T_c98d7f96_8060_11ec_bfe6_02420a391070row1_col3\" class=\"data row1 col3\" >7.21% </td>\n",
       "            </tr>\n",
       "            <tr>\n",
       "                        <th id=\"T_c98d7f96_8060_11ec_bfe6_02420a391070level0_row2\" class=\"row_heading level0 row2\" >образование</th>\n",
       "                        <td id=\"T_c98d7f96_8060_11ec_bfe6_02420a391070row2_col0\" class=\"data row2 col0\" >21.25%</td>\n",
       "                        <td id=\"T_c98d7f96_8060_11ec_bfe6_02420a391070row2_col1\" class=\"data row2 col1\" >18.69%</td>\n",
       "                        <td id=\"T_c98d7f96_8060_11ec_bfe6_02420a391070row2_col2\" class=\"data row2 col2\" >1.14</td>\n",
       "                        <td id=\"T_c98d7f96_8060_11ec_bfe6_02420a391070row2_col3\" class=\"data row2 col3\" >9.20% </td>\n",
       "            </tr>\n",
       "            <tr>\n",
       "                        <th id=\"T_c98d7f96_8060_11ec_bfe6_02420a391070level0_row3\" class=\"row_heading level0 row3\" >свадьбу</th>\n",
       "                        <td id=\"T_c98d7f96_8060_11ec_bfe6_02420a391070row3_col0\" class=\"data row3 col0\" >10.68%</td>\n",
       "                        <td id=\"T_c98d7f96_8060_11ec_bfe6_02420a391070row3_col1\" class=\"data row3 col1\" >10.91%</td>\n",
       "                        <td id=\"T_c98d7f96_8060_11ec_bfe6_02420a391070row3_col2\" class=\"data row3 col2\" >0.98</td>\n",
       "                        <td id=\"T_c98d7f96_8060_11ec_bfe6_02420a391070row3_col3\" class=\"data row3 col3\" >7.92% </td>\n",
       "            </tr>\n",
       "    </tbody></table>"
      ],
      "text/plain": [
       "<pandas.io.formats.style.Styler at 0x7fb7721caf90>"
      ]
     },
     "execution_count": 36,
     "metadata": {},
     "output_type": "execute_result"
    }
   ],
   "source": [
    "rate_bad =data[data['debt'] == 1].groupby(data['purpose_group']).agg({'income_type':'count'})/len(data[data['debt'] == 1])\n",
    "rate_def= data.groupby(['purpose_group'])['debt'].agg(['count', 'sum', lambda x: '{:.2%} '.format(x.mean())])\n",
    "rate_good =data.groupby(data['purpose_group']).agg({'income_type':'count'})/len(data)\n",
    "struct_relation = (rate_bad/rate_good).fillna(0)\n",
    "merge_table =rate_bad.merge (rate_good, on = 'purpose_group', how='left', suffixes=('_rate_bad', '_rate_good')) # Собираю все в одну табличку\n",
    "merge_table = merge_table.merge(struct_relation, on = 'purpose_group', how='left') #Собираю все в одну табличку\n",
    "merge_table = merge_table.merge(rate_def ['<lambda_0>'], on = 'purpose_group', how='left') #Собираю все в одну табличку\n",
    "\n",
    "merge_table.rename(columns={'income_type_rate_bad': 'Структура клиентов с просрочкой', # Делаю названия  столбцов понятными\n",
    "              'income_type_rate_good': 'Структура клиентов без просрочки',\n",
    "              'income_type': 'Структурный свдиг',\n",
    "              '<lambda_0>':'%% клиентов, имевших просрочку платежа'},inplace=True)\n",
    "\n",
    "merge_table.style.format({'Структура клиентов с просрочкой': '{:.2%}'.format, # Делаю формат  столбцов понятными\n",
    "                         'Структура клиентов без просрочки': '{:.2%}'.format,\n",
    "                        'Структурный свдиг':'{:.2f}'.format})"
   ]
  },
  {
   "cell_type": "markdown",
   "metadata": {},
   "source": [
    "## Шаг 3. Ответьте на вопросы"
   ]
  },
  {
   "cell_type": "markdown",
   "metadata": {},
   "source": [
    "### Есть ли зависимость между наличием детей и возвратом кредита в срок?"
   ]
  },
  {
   "cell_type": "markdown",
   "metadata": {},
   "source": [
    "Рост количества иждевенцев ухудшает платежную  дисциплину. Уровень просрочки без детей составляет - 7,51%. При наличие детей уровень просрочки составляет, в среднем - 9,3%"
   ]
  },
  {
   "cell_type": "markdown",
   "metadata": {},
   "source": [
    "### Есть ли зависимость между семейным положением и возвратом кредита в срок?"
   ]
  },
  {
   "cell_type": "markdown",
   "metadata": {},
   "source": [
    "Гипотеза, что семейные более ответсвенныые подтверждается, уровень просрочки по таким клиентам составляет - 7,52%. Также можно точно сказать, что неженатые/незамужние или состоящие в гражданском браке хуже обслуживают долги уровень просрочки по таким клиентам составляет - 9,5%"
   ]
  },
  {
   "cell_type": "markdown",
   "metadata": {},
   "source": [
    "### Есть ли зависимость между уровнем дохода и возвратом кредита в срок?"
   ]
  },
  {
   "cell_type": "markdown",
   "metadata": {},
   "source": [
    "Основная доля продаж более 80%,в диапазоне от 50 до 300 тысяч рублей. Уровень просрочки составляет - 8,2%. У клиентов с доходом свыше 300 тыс. руб. Уровень просрочки составляет - 7,2% ."
   ]
  },
  {
   "cell_type": "markdown",
   "metadata": {},
   "source": [
    "### Как разные цели кредита влияют на его возврат в срок?"
   ]
  },
  {
   "cell_type": "markdown",
   "metadata": {},
   "source": [
    "Наимение дисциплинированные оказались заемщики с целью кредитования \"образование\" и \"покупка автомобиля, в среднем, уровень просрочки по таким клиентам составил - 9,25%. Наименее рисковая цель кредитования покупка недвижимости уровень просрочки составил - 7.21%"
   ]
  },
  {
   "cell_type": "markdown",
   "metadata": {},
   "source": [
    "## Шаг 4. Общий вывод"
   ]
  },
  {
   "cell_type": "markdown",
   "metadata": {},
   "source": [
    "По результатам анализа данных:\n",
    "- Определено влияние социально-демографических показателей на уровень просрочки.\n",
    "- Составлен портрет проблемного заемщика\n",
    "- Даны рекомендации бизнесу.\n",
    "\n",
    "1. Портетрет проблеменого заемщика.\n",
    "По индексу соотношения структуры клиентов с нарушением срока погашения кредита к клиентам, которые оплачивали кредит во время можно сделать вывод, что мужчин на 27 % в структуре плохих клиентов больше, чем женщин, молодые люди до 30 лет на 33% хуже обслуживают долги, покупка автомобиля или образования на 14% рискованее, чем другие цели кредитования, неженатые / незамужние также на 23% хуже обсуживают свои долги, чем прочие семейные статусы. Наличие иждивенцев ухудшает оплату кредита во время на 14%, ровным счетом, как отсутствие образования на 11%.\n",
    "2. Портрет благонадежного заёмщика.\n",
    "Это женщины состоящие в браке, имеющие высшее образование в возрасте 40 +, скорее всего, не имеющию уже на иждевении детей или их минимум , наиболее предпочтительная цель кредитования - покупка недвижимости. Необходимо проинформировать блок продаж или маркетологов, кого им следует заводить для формирования более качественного кредитного портфеля.\n",
    "3. Рекомендации.\n",
    "Кредитному отделу банка также необходимо обратить внимание на портрет благонадежного заёмщика, возможно, к этим клиентам относиться более лояльно. А также обратить внимание на портрет негативного заёмщика. Это молодые(до 30 лет) холостые мужчины, не имеющие образования, желающие себе автомобиль. К таким людям надо присматриваться , а , возможно, и отказывать в получении кредита"
   ]
  }
 ],
 "metadata": {
  "ExecuteTimeLog": [
   {
    "duration": 1103,
    "start_time": "2021-08-20T06:51:07.098Z"
   },
   {
    "duration": 292,
    "start_time": "2021-08-20T06:51:25.957Z"
   },
   {
    "duration": 89,
    "start_time": "2021-08-20T06:51:53.099Z"
   },
   {
    "duration": 265,
    "start_time": "2021-08-20T06:58:38.438Z"
   },
   {
    "duration": 69,
    "start_time": "2021-08-20T06:59:10.194Z"
   },
   {
    "duration": 367,
    "start_time": "2021-08-20T07:00:57.467Z"
   },
   {
    "duration": 517,
    "start_time": "2021-08-20T07:01:32.505Z"
   },
   {
    "duration": 7685,
    "start_time": "2021-08-20T07:01:39.987Z"
   },
   {
    "duration": 954,
    "start_time": "2021-08-20T07:04:42.537Z"
   },
   {
    "duration": 3465,
    "start_time": "2021-08-20T07:06:21.576Z"
   },
   {
    "duration": 3520,
    "start_time": "2021-08-20T07:06:33.419Z"
   },
   {
    "duration": 424,
    "start_time": "2021-08-20T07:07:48.683Z"
   },
   {
    "duration": 336,
    "start_time": "2021-08-20T07:08:06.986Z"
   },
   {
    "duration": 323,
    "start_time": "2021-08-20T07:08:50.228Z"
   },
   {
    "duration": 326,
    "start_time": "2021-08-20T07:09:18.821Z"
   },
   {
    "duration": 370,
    "start_time": "2021-08-20T07:09:38.421Z"
   },
   {
    "duration": 341,
    "start_time": "2021-08-20T07:09:51.958Z"
   },
   {
    "duration": 322,
    "start_time": "2021-08-20T07:10:16.033Z"
   },
   {
    "duration": 345,
    "start_time": "2021-08-20T07:10:50.905Z"
   },
   {
    "duration": 331,
    "start_time": "2021-08-20T07:11:53.476Z"
   },
   {
    "duration": 332,
    "start_time": "2021-08-20T07:12:16.999Z"
   },
   {
    "duration": 358,
    "start_time": "2021-08-20T07:12:44.940Z"
   },
   {
    "duration": 65,
    "start_time": "2021-08-20T07:15:03.256Z"
   },
   {
    "duration": 91,
    "start_time": "2021-08-20T07:15:18.169Z"
   },
   {
    "duration": 320,
    "start_time": "2021-08-20T07:16:15.663Z"
   },
   {
    "duration": 69,
    "start_time": "2021-08-20T07:17:43.987Z"
   },
   {
    "duration": 933,
    "start_time": "2021-08-20T07:21:43.145Z"
   },
   {
    "duration": 978,
    "start_time": "2021-08-20T07:21:59.065Z"
   },
   {
    "duration": 993,
    "start_time": "2021-08-20T07:23:48.105Z"
   },
   {
    "duration": 103,
    "start_time": "2021-08-20T07:25:10.969Z"
   },
   {
    "duration": 77,
    "start_time": "2021-08-20T07:51:00.205Z"
   },
   {
    "duration": 66,
    "start_time": "2021-08-20T07:51:11.423Z"
   },
   {
    "duration": 93,
    "start_time": "2021-08-20T07:52:06.466Z"
   },
   {
    "duration": 75,
    "start_time": "2021-08-20T07:52:16.951Z"
   },
   {
    "duration": 6,
    "start_time": "2021-08-20T07:52:26.182Z"
   },
   {
    "duration": 6,
    "start_time": "2021-08-20T07:52:40.949Z"
   },
   {
    "duration": 5,
    "start_time": "2021-08-20T07:52:48.639Z"
   },
   {
    "duration": 5,
    "start_time": "2021-08-20T07:53:00.034Z"
   },
   {
    "duration": 8,
    "start_time": "2021-08-20T07:53:09.561Z"
   },
   {
    "duration": 5,
    "start_time": "2021-08-20T07:53:20.465Z"
   },
   {
    "duration": 95,
    "start_time": "2021-08-20T07:56:17.560Z"
   },
   {
    "duration": 102,
    "start_time": "2021-08-20T07:56:21.799Z"
   },
   {
    "duration": 5,
    "start_time": "2021-08-20T07:56:27.129Z"
   },
   {
    "duration": 304,
    "start_time": "2021-08-20T07:56:36.290Z"
   },
   {
    "duration": 265,
    "start_time": "2021-08-20T07:58:17.136Z"
   },
   {
    "duration": 166,
    "start_time": "2021-08-20T07:58:42.328Z"
   },
   {
    "duration": 259,
    "start_time": "2021-08-20T07:58:49.128Z"
   },
   {
    "duration": 272,
    "start_time": "2021-08-20T07:59:08.309Z"
   },
   {
    "duration": 273,
    "start_time": "2021-08-20T07:59:18.323Z"
   },
   {
    "duration": 93,
    "start_time": "2021-08-20T07:59:37.643Z"
   },
   {
    "duration": 6,
    "start_time": "2021-08-20T07:59:43.190Z"
   },
   {
    "duration": 6,
    "start_time": "2021-08-20T07:59:48.461Z"
   },
   {
    "duration": 5,
    "start_time": "2021-08-20T07:59:53.951Z"
   },
   {
    "duration": 7,
    "start_time": "2021-08-20T08:00:56.341Z"
   },
   {
    "duration": 4,
    "start_time": "2021-08-20T08:01:21.149Z"
   },
   {
    "duration": 5,
    "start_time": "2021-08-20T08:01:33.278Z"
   },
   {
    "duration": 5,
    "start_time": "2021-08-20T08:03:38.428Z"
   },
   {
    "duration": 5,
    "start_time": "2021-08-20T08:04:06.622Z"
   },
   {
    "duration": 5,
    "start_time": "2021-08-20T08:04:17.312Z"
   },
   {
    "duration": 271,
    "start_time": "2021-08-20T08:04:40.041Z"
   },
   {
    "duration": 297,
    "start_time": "2021-08-20T08:06:13.729Z"
   },
   {
    "duration": 5,
    "start_time": "2021-08-20T08:06:31.238Z"
   },
   {
    "duration": 5,
    "start_time": "2021-08-20T08:06:37.948Z"
   },
   {
    "duration": 9,
    "start_time": "2021-08-20T08:07:44.117Z"
   },
   {
    "duration": 8,
    "start_time": "2021-08-20T08:08:23.411Z"
   },
   {
    "duration": 281,
    "start_time": "2021-08-20T08:08:39.522Z"
   },
   {
    "duration": 270,
    "start_time": "2021-08-20T08:09:10.311Z"
   },
   {
    "duration": 279,
    "start_time": "2021-08-20T08:09:14.064Z"
   },
   {
    "duration": 348,
    "start_time": "2021-08-20T08:09:29.201Z"
   },
   {
    "duration": 7,
    "start_time": "2021-08-20T08:09:38.757Z"
   },
   {
    "duration": 266,
    "start_time": "2021-08-20T08:10:21.687Z"
   },
   {
    "duration": 8,
    "start_time": "2021-08-20T08:12:10.780Z"
   },
   {
    "duration": 8,
    "start_time": "2021-08-20T08:13:20.878Z"
   },
   {
    "duration": 353,
    "start_time": "2021-08-20T08:13:34.994Z"
   },
   {
    "duration": 9,
    "start_time": "2021-08-20T08:13:43.550Z"
   },
   {
    "duration": 8,
    "start_time": "2021-08-20T08:15:06.862Z"
   },
   {
    "duration": 10,
    "start_time": "2021-08-20T08:15:14.889Z"
   },
   {
    "duration": 5,
    "start_time": "2021-08-20T08:16:52.259Z"
   },
   {
    "duration": 284,
    "start_time": "2021-08-20T08:26:55.993Z"
   },
   {
    "duration": 274,
    "start_time": "2021-08-20T08:27:13.854Z"
   },
   {
    "duration": 326,
    "start_time": "2021-08-20T08:27:42.173Z"
   },
   {
    "duration": 268,
    "start_time": "2021-08-20T08:28:14.362Z"
   },
   {
    "duration": 266,
    "start_time": "2021-08-20T08:28:37.848Z"
   },
   {
    "duration": 873,
    "start_time": "2021-08-20T08:28:44.068Z"
   },
   {
    "duration": 295,
    "start_time": "2021-08-20T08:28:59.009Z"
   },
   {
    "duration": 5120,
    "start_time": "2021-08-20T08:31:51.514Z"
   },
   {
    "duration": 5888,
    "start_time": "2021-08-20T08:31:58.776Z"
   },
   {
    "duration": 95,
    "start_time": "2021-08-20T08:32:35.287Z"
   },
   {
    "duration": 5053,
    "start_time": "2021-08-20T08:32:48.902Z"
   },
   {
    "duration": 308,
    "start_time": "2021-08-20T08:33:29.873Z"
   },
   {
    "duration": 1327,
    "start_time": "2021-08-20T08:33:43.790Z"
   },
   {
    "duration": 4,
    "start_time": "2021-08-20T08:33:56.923Z"
   },
   {
    "duration": 6,
    "start_time": "2021-08-20T08:34:03.696Z"
   },
   {
    "duration": 261,
    "start_time": "2021-08-20T08:39:50.088Z"
   },
   {
    "duration": 270,
    "start_time": "2021-08-20T08:40:01.375Z"
   },
   {
    "duration": 8,
    "start_time": "2021-08-20T08:41:33.551Z"
   },
   {
    "duration": 6,
    "start_time": "2021-08-20T08:41:48.930Z"
   },
   {
    "duration": 8,
    "start_time": "2021-08-20T08:41:58.719Z"
   },
   {
    "duration": 291,
    "start_time": "2021-08-20T08:42:19.975Z"
   },
   {
    "duration": 39,
    "start_time": "2021-08-20T08:42:28.251Z"
   },
   {
    "duration": 287,
    "start_time": "2021-08-20T08:42:49.093Z"
   },
   {
    "duration": 290,
    "start_time": "2021-08-20T08:43:09.314Z"
   },
   {
    "duration": 277,
    "start_time": "2021-08-20T08:43:15.736Z"
   },
   {
    "duration": 40,
    "start_time": "2021-08-20T08:43:22.255Z"
   },
   {
    "duration": 275,
    "start_time": "2021-08-20T08:43:38.228Z"
   },
   {
    "duration": 296,
    "start_time": "2021-08-20T08:43:46.060Z"
   },
   {
    "duration": 8,
    "start_time": "2021-08-20T08:45:54.731Z"
   },
   {
    "duration": 16,
    "start_time": "2021-08-20T08:46:44.317Z"
   },
   {
    "duration": 47,
    "start_time": "2021-08-20T08:46:55.410Z"
   },
   {
    "duration": 25,
    "start_time": "2021-08-20T08:47:54.075Z"
   },
   {
    "duration": 21,
    "start_time": "2021-08-20T08:48:40.113Z"
   },
   {
    "duration": 15,
    "start_time": "2021-08-20T08:48:55.873Z"
   },
   {
    "duration": 20,
    "start_time": "2021-08-20T08:49:04.634Z"
   },
   {
    "duration": 14,
    "start_time": "2021-08-20T08:49:15.769Z"
   },
   {
    "duration": 86,
    "start_time": "2021-08-20T08:53:45.762Z"
   },
   {
    "duration": 274,
    "start_time": "2021-08-20T08:53:52.882Z"
   },
   {
    "duration": 16,
    "start_time": "2021-08-20T08:58:00.683Z"
   },
   {
    "duration": 16,
    "start_time": "2021-08-20T08:58:13.811Z"
   },
   {
    "duration": 297,
    "start_time": "2021-08-20T08:59:10.955Z"
   },
   {
    "duration": 16,
    "start_time": "2021-08-20T08:59:23.656Z"
   },
   {
    "duration": 280,
    "start_time": "2021-08-20T09:01:25.920Z"
   },
   {
    "duration": 18,
    "start_time": "2021-08-20T09:02:04.213Z"
   },
   {
    "duration": 18,
    "start_time": "2021-08-20T09:03:11.636Z"
   },
   {
    "duration": 5,
    "start_time": "2021-08-20T09:05:01.747Z"
   },
   {
    "duration": 15,
    "start_time": "2021-08-20T09:05:09.786Z"
   },
   {
    "duration": 275,
    "start_time": "2021-08-20T09:08:05.514Z"
   },
   {
    "duration": 5,
    "start_time": "2021-08-20T09:08:11.778Z"
   },
   {
    "duration": 15,
    "start_time": "2021-08-20T09:08:16.352Z"
   },
   {
    "duration": 15,
    "start_time": "2021-08-20T09:08:26.295Z"
   },
   {
    "duration": 262,
    "start_time": "2021-08-20T09:13:55.882Z"
   },
   {
    "duration": 299,
    "start_time": "2021-08-20T09:16:35.614Z"
   },
   {
    "duration": 309,
    "start_time": "2021-08-20T09:16:42.922Z"
   },
   {
    "duration": 277,
    "start_time": "2021-08-20T09:17:14.395Z"
   },
   {
    "duration": 275,
    "start_time": "2021-08-20T09:17:29.247Z"
   },
   {
    "duration": 284,
    "start_time": "2021-08-20T09:17:37.423Z"
   },
   {
    "duration": 274,
    "start_time": "2021-08-20T09:17:56.243Z"
   },
   {
    "duration": 327,
    "start_time": "2021-08-20T09:18:30.809Z"
   },
   {
    "duration": 296,
    "start_time": "2021-08-20T09:18:44.773Z"
   },
   {
    "duration": 255,
    "start_time": "2021-08-20T09:18:55.687Z"
   },
   {
    "duration": 272,
    "start_time": "2021-08-20T09:19:03.919Z"
   },
   {
    "duration": 290,
    "start_time": "2021-08-20T09:19:25.667Z"
   },
   {
    "duration": 271,
    "start_time": "2021-08-20T09:19:31.580Z"
   },
   {
    "duration": 268,
    "start_time": "2021-08-20T09:20:21.435Z"
   },
   {
    "duration": 16,
    "start_time": "2021-08-20T09:21:17.705Z"
   },
   {
    "duration": 19,
    "start_time": "2021-08-20T09:25:34.948Z"
   },
   {
    "duration": 12,
    "start_time": "2021-08-20T09:25:49.859Z"
   },
   {
    "duration": 312,
    "start_time": "2021-08-20T09:30:34.405Z"
   },
   {
    "duration": 285,
    "start_time": "2021-08-20T09:30:53.588Z"
   },
   {
    "duration": 36,
    "start_time": "2021-08-20T09:31:21.987Z"
   },
   {
    "duration": 414,
    "start_time": "2021-08-21T07:15:51.640Z"
   },
   {
    "duration": -7652,
    "start_time": "2021-08-21T07:16:21.471Z"
   },
   {
    "duration": 345,
    "start_time": "2021-08-21T07:16:45.395Z"
   },
   {
    "duration": 874,
    "start_time": "2021-08-21T07:16:52.443Z"
   },
   {
    "duration": 384,
    "start_time": "2021-08-21T07:16:59.571Z"
   },
   {
    "duration": 74,
    "start_time": "2021-08-21T07:17:23.265Z"
   },
   {
    "duration": 23,
    "start_time": "2021-08-21T07:17:23.341Z"
   },
   {
    "duration": 61,
    "start_time": "2021-08-21T07:17:23.366Z"
   },
   {
    "duration": 371,
    "start_time": "2021-08-21T07:17:23.430Z"
   },
   {
    "duration": 373,
    "start_time": "2021-08-21T07:17:50.659Z"
   },
   {
    "duration": 8,
    "start_time": "2021-08-21T07:18:03.924Z"
   },
   {
    "duration": 397,
    "start_time": "2021-08-21T07:20:48.822Z"
   },
   {
    "duration": 1359,
    "start_time": "2021-08-21T07:21:00.452Z"
   },
   {
    "duration": 135,
    "start_time": "2021-08-21T07:21:14.443Z"
   },
   {
    "duration": 22,
    "start_time": "2021-08-21T07:21:20.187Z"
   },
   {
    "duration": 1414,
    "start_time": "2021-08-21T07:25:06.062Z"
   },
   {
    "duration": 437,
    "start_time": "2021-08-21T07:25:18.615Z"
   },
   {
    "duration": 425,
    "start_time": "2021-08-21T07:27:28.422Z"
   },
   {
    "duration": 392,
    "start_time": "2021-08-21T07:27:41.723Z"
   },
   {
    "duration": 400,
    "start_time": "2021-08-21T07:27:58.879Z"
   },
   {
    "duration": 3532,
    "start_time": "2021-08-21T07:31:44.972Z"
   },
   {
    "duration": 3453,
    "start_time": "2021-08-21T07:32:29.270Z"
   },
   {
    "duration": 3426,
    "start_time": "2021-08-21T07:32:35.175Z"
   },
   {
    "duration": 3593,
    "start_time": "2021-08-21T07:33:12.995Z"
   },
   {
    "duration": 20,
    "start_time": "2021-08-21T07:34:50.366Z"
   },
   {
    "duration": 9,
    "start_time": "2021-08-21T07:36:51.920Z"
   },
   {
    "duration": 8,
    "start_time": "2021-08-21T07:37:31.545Z"
   },
   {
    "duration": 7,
    "start_time": "2021-08-21T07:38:04.293Z"
   },
   {
    "duration": 8,
    "start_time": "2021-08-21T07:38:39.724Z"
   },
   {
    "duration": 7,
    "start_time": "2021-08-21T07:41:12.719Z"
   },
   {
    "duration": 7,
    "start_time": "2021-08-21T07:41:25.634Z"
   },
   {
    "duration": 7,
    "start_time": "2021-08-21T07:41:33.574Z"
   },
   {
    "duration": 8,
    "start_time": "2021-08-21T07:41:50.898Z"
   },
   {
    "duration": 6,
    "start_time": "2021-08-21T07:42:04.203Z"
   },
   {
    "duration": 363,
    "start_time": "2021-08-21T07:42:26.233Z"
   },
   {
    "duration": 3431,
    "start_time": "2021-08-21T07:43:04.981Z"
   },
   {
    "duration": 3627,
    "start_time": "2021-08-21T07:43:44.253Z"
   },
   {
    "duration": 3499,
    "start_time": "2021-08-21T07:44:20.368Z"
   },
   {
    "duration": 627,
    "start_time": "2021-08-21T07:47:04.637Z"
   },
   {
    "duration": 8,
    "start_time": "2021-08-21T07:47:53.319Z"
   },
   {
    "duration": 368,
    "start_time": "2021-08-21T07:52:01.234Z"
   },
   {
    "duration": 366,
    "start_time": "2021-08-21T07:59:02.945Z"
   },
   {
    "duration": 16,
    "start_time": "2021-08-21T07:59:56.419Z"
   },
   {
    "duration": 20,
    "start_time": "2021-08-21T08:01:06.508Z"
   },
   {
    "duration": 35,
    "start_time": "2021-08-21T08:04:49.009Z"
   },
   {
    "duration": 365,
    "start_time": "2021-08-21T08:05:44.220Z"
   },
   {
    "duration": 374,
    "start_time": "2021-08-21T08:09:08.550Z"
   },
   {
    "duration": 414,
    "start_time": "2021-08-21T08:09:17.845Z"
   },
   {
    "duration": 133,
    "start_time": "2021-08-21T08:09:24.964Z"
   },
   {
    "duration": 21,
    "start_time": "2021-08-21T08:09:36.286Z"
   },
   {
    "duration": 357,
    "start_time": "2021-08-21T08:11:20.924Z"
   },
   {
    "duration": 367,
    "start_time": "2021-08-21T08:11:37.535Z"
   },
   {
    "duration": 355,
    "start_time": "2021-08-21T08:14:59.133Z"
   },
   {
    "duration": 1321,
    "start_time": "2021-08-21T08:15:22.344Z"
   },
   {
    "duration": 20,
    "start_time": "2021-08-21T08:15:41.632Z"
   },
   {
    "duration": 17,
    "start_time": "2021-08-21T08:17:10.285Z"
   },
   {
    "duration": 384,
    "start_time": "2021-08-21T08:19:30.176Z"
   },
   {
    "duration": 794,
    "start_time": "2021-08-21T08:20:04.731Z"
   },
   {
    "duration": 1042,
    "start_time": "2021-08-21T08:20:16.904Z"
   },
   {
    "duration": 17,
    "start_time": "2021-08-21T08:49:09.538Z"
   },
   {
    "duration": 21,
    "start_time": "2021-08-21T08:49:21.944Z"
   },
   {
    "duration": 21,
    "start_time": "2021-08-21T08:49:40.690Z"
   },
   {
    "duration": 18,
    "start_time": "2021-08-21T08:50:17.638Z"
   },
   {
    "duration": 18,
    "start_time": "2021-08-21T08:50:22.412Z"
   },
   {
    "duration": 20,
    "start_time": "2021-08-21T08:50:50.891Z"
   },
   {
    "duration": 16,
    "start_time": "2021-08-21T08:51:07.990Z"
   },
   {
    "duration": 17,
    "start_time": "2021-08-21T08:51:17.721Z"
   },
   {
    "duration": 21,
    "start_time": "2021-08-21T08:51:56.507Z"
   },
   {
    "duration": 23,
    "start_time": "2021-08-21T08:52:32.607Z"
   },
   {
    "duration": 17,
    "start_time": "2021-08-21T08:52:38.638Z"
   },
   {
    "duration": 17,
    "start_time": "2021-08-21T08:52:48.709Z"
   },
   {
    "duration": 17,
    "start_time": "2021-08-21T08:55:32.740Z"
   },
   {
    "duration": 21,
    "start_time": "2021-08-21T08:57:27.814Z"
   },
   {
    "duration": 8,
    "start_time": "2021-08-21T08:59:10.812Z"
   },
   {
    "duration": 7,
    "start_time": "2021-08-21T08:59:44.588Z"
   },
   {
    "duration": 8,
    "start_time": "2021-08-21T08:59:57.898Z"
   },
   {
    "duration": 375,
    "start_time": "2021-08-21T09:00:47.539Z"
   },
   {
    "duration": 3716,
    "start_time": "2021-08-21T09:01:12.244Z"
   },
   {
    "duration": 3814,
    "start_time": "2021-08-21T09:01:51.473Z"
   },
   {
    "duration": 3708,
    "start_time": "2021-08-21T09:02:36.324Z"
   },
   {
    "duration": 3512,
    "start_time": "2021-08-21T09:02:55.319Z"
   },
   {
    "duration": 4225,
    "start_time": "2021-08-21T09:03:50.535Z"
   },
   {
    "duration": 3571,
    "start_time": "2021-08-21T09:04:34.835Z"
   },
   {
    "duration": 8,
    "start_time": "2021-08-21T09:04:51.144Z"
   },
   {
    "duration": 3675,
    "start_time": "2021-08-21T09:06:01.518Z"
   },
   {
    "duration": 7,
    "start_time": "2021-08-21T09:07:08.804Z"
   },
   {
    "duration": 7,
    "start_time": "2021-08-21T09:07:18.346Z"
   },
   {
    "duration": 8,
    "start_time": "2021-08-21T09:07:26.726Z"
   },
   {
    "duration": 9,
    "start_time": "2021-08-21T09:07:34.638Z"
   },
   {
    "duration": 8,
    "start_time": "2021-08-21T09:07:51.476Z"
   },
   {
    "duration": 7,
    "start_time": "2021-08-21T09:08:08.229Z"
   },
   {
    "duration": 8,
    "start_time": "2021-08-21T09:08:19.739Z"
   },
   {
    "duration": 3472,
    "start_time": "2021-08-21T09:09:16.592Z"
   },
   {
    "duration": 7,
    "start_time": "2021-08-21T09:10:14.441Z"
   },
   {
    "duration": 3569,
    "start_time": "2021-08-21T09:10:23.126Z"
   },
   {
    "duration": 3444,
    "start_time": "2021-08-21T09:11:02.258Z"
   },
   {
    "duration": 3488,
    "start_time": "2021-08-21T09:12:03.079Z"
   },
   {
    "duration": 3535,
    "start_time": "2021-08-21T09:14:08.383Z"
   },
   {
    "duration": 8,
    "start_time": "2021-08-21T09:14:15.353Z"
   },
   {
    "duration": 3547,
    "start_time": "2021-08-21T09:14:18.358Z"
   },
   {
    "duration": 3459,
    "start_time": "2021-08-21T09:14:42.583Z"
   },
   {
    "duration": 7,
    "start_time": "2021-08-21T09:15:09.381Z"
   },
   {
    "duration": 8,
    "start_time": "2021-08-21T09:15:35.617Z"
   },
   {
    "duration": 3582,
    "start_time": "2021-08-21T09:15:48.078Z"
   },
   {
    "duration": 5,
    "start_time": "2021-08-21T09:16:23.324Z"
   },
   {
    "duration": 6,
    "start_time": "2021-08-21T09:16:37.463Z"
   },
   {
    "duration": 7,
    "start_time": "2021-08-21T09:16:45.136Z"
   },
   {
    "duration": 7,
    "start_time": "2021-08-21T09:18:59.637Z"
   },
   {
    "duration": 8,
    "start_time": "2021-08-21T09:19:30.071Z"
   },
   {
    "duration": 3555,
    "start_time": "2021-08-21T09:19:30.409Z"
   },
   {
    "duration": 7,
    "start_time": "2021-08-21T09:20:07.227Z"
   },
   {
    "duration": 3472,
    "start_time": "2021-08-21T09:20:10.766Z"
   },
   {
    "duration": 8,
    "start_time": "2021-08-21T09:20:33.983Z"
   },
   {
    "duration": 3530,
    "start_time": "2021-08-21T09:20:37.146Z"
   },
   {
    "duration": 11,
    "start_time": "2021-08-21T09:21:31.397Z"
   },
   {
    "duration": 3460,
    "start_time": "2021-08-21T09:21:33.567Z"
   },
   {
    "duration": 442,
    "start_time": "2021-08-21T16:31:03.791Z"
   },
   {
    "duration": 612,
    "start_time": "2021-08-21T16:31:20.676Z"
   },
   {
    "duration": 14,
    "start_time": "2021-08-21T16:31:21.293Z"
   },
   {
    "duration": 19,
    "start_time": "2021-08-21T16:31:21.309Z"
   },
   {
    "duration": 615,
    "start_time": "2021-08-21T16:31:21.329Z"
   },
   {
    "duration": 5,
    "start_time": "2021-08-21T16:31:21.946Z"
   },
   {
    "duration": 2764,
    "start_time": "2021-08-21T16:31:21.953Z"
   },
   {
    "duration": 2488,
    "start_time": "2021-08-21T16:36:46.432Z"
   },
   {
    "duration": 16,
    "start_time": "2021-08-21T16:36:54.649Z"
   },
   {
    "duration": 322,
    "start_time": "2021-08-21T17:16:55.661Z"
   },
   {
    "duration": 238,
    "start_time": "2021-08-21T17:18:14.276Z"
   },
   {
    "duration": 2592,
    "start_time": "2021-08-21T17:18:21.589Z"
   },
   {
    "duration": 6,
    "start_time": "2021-08-21T17:18:27.406Z"
   },
   {
    "duration": 2484,
    "start_time": "2021-08-21T17:18:30.547Z"
   },
   {
    "duration": 21,
    "start_time": "2021-08-21T17:18:34.976Z"
   },
   {
    "duration": 17,
    "start_time": "2021-08-21T17:18:52.592Z"
   },
   {
    "duration": 60,
    "start_time": "2021-08-22T03:20:23.530Z"
   },
   {
    "duration": 3,
    "start_time": "2021-08-22T03:33:21.066Z"
   },
   {
    "duration": 324,
    "start_time": "2021-08-22T03:38:41.097Z"
   },
   {
    "duration": 577,
    "start_time": "2021-08-22T03:48:41.137Z"
   },
   {
    "duration": 12,
    "start_time": "2021-08-22T03:48:41.715Z"
   },
   {
    "duration": 17,
    "start_time": "2021-08-22T03:48:41.729Z"
   },
   {
    "duration": 41,
    "start_time": "2021-08-22T03:48:41.748Z"
   },
   {
    "duration": 6,
    "start_time": "2021-08-22T03:48:41.791Z"
   },
   {
    "duration": 8,
    "start_time": "2021-08-22T03:48:41.799Z"
   },
   {
    "duration": 12,
    "start_time": "2021-08-22T03:48:41.809Z"
   },
   {
    "duration": 15,
    "start_time": "2021-08-22T03:48:41.824Z"
   },
   {
    "duration": 54,
    "start_time": "2021-08-22T03:48:41.841Z"
   },
   {
    "duration": 19,
    "start_time": "2021-08-22T03:48:41.896Z"
   },
   {
    "duration": 10,
    "start_time": "2021-08-22T03:48:41.916Z"
   },
   {
    "duration": 12,
    "start_time": "2021-08-22T03:48:41.928Z"
   },
   {
    "duration": 50,
    "start_time": "2021-08-22T03:48:41.942Z"
   },
   {
    "duration": 7,
    "start_time": "2021-08-22T03:48:41.993Z"
   },
   {
    "duration": 12,
    "start_time": "2021-08-22T03:48:42.002Z"
   },
   {
    "duration": 25,
    "start_time": "2021-08-22T03:48:42.016Z"
   },
   {
    "duration": 43,
    "start_time": "2021-08-22T03:48:42.043Z"
   },
   {
    "duration": 14,
    "start_time": "2021-08-22T03:48:42.088Z"
   },
   {
    "duration": 19,
    "start_time": "2021-08-22T03:48:42.104Z"
   },
   {
    "duration": 13,
    "start_time": "2021-08-22T03:48:42.125Z"
   },
   {
    "duration": 8,
    "start_time": "2021-08-22T03:48:42.139Z"
   },
   {
    "duration": 704,
    "start_time": "2021-08-22T03:48:42.149Z"
   },
   {
    "duration": 6,
    "start_time": "2021-08-22T03:48:42.856Z"
   },
   {
    "duration": 2759,
    "start_time": "2021-08-22T03:48:42.863Z"
   },
   {
    "duration": 28,
    "start_time": "2021-08-22T03:48:45.624Z"
   },
   {
    "duration": 18,
    "start_time": "2021-08-22T03:52:19.962Z"
   },
   {
    "duration": 63,
    "start_time": "2021-08-22T04:04:18.942Z"
   },
   {
    "duration": 66,
    "start_time": "2021-08-22T05:20:04.355Z"
   },
   {
    "duration": 79,
    "start_time": "2021-08-22T05:20:11.515Z"
   },
   {
    "duration": 14,
    "start_time": "2021-08-22T06:26:59.314Z"
   },
   {
    "duration": 57,
    "start_time": "2021-08-22T06:28:12.407Z"
   },
   {
    "duration": 87,
    "start_time": "2021-08-22T06:47:02.341Z"
   },
   {
    "duration": 298,
    "start_time": "2021-08-22T06:47:27.352Z"
   },
   {
    "duration": 14,
    "start_time": "2021-08-22T06:47:35.920Z"
   },
   {
    "duration": 22,
    "start_time": "2021-08-22T06:47:40.282Z"
   },
   {
    "duration": 199,
    "start_time": "2021-08-22T07:00:09.729Z"
   },
   {
    "duration": 4562,
    "start_time": "2021-08-22T07:01:25.765Z"
   },
   {
    "duration": 204,
    "start_time": "2021-08-22T07:02:05.154Z"
   },
   {
    "duration": 24,
    "start_time": "2021-08-22T07:05:14.781Z"
   },
   {
    "duration": 193,
    "start_time": "2021-08-22T07:19:39.619Z"
   },
   {
    "duration": 22,
    "start_time": "2021-08-22T07:19:50.188Z"
   },
   {
    "duration": 25,
    "start_time": "2021-08-22T07:20:30.758Z"
   },
   {
    "duration": 23,
    "start_time": "2021-08-22T07:20:39.351Z"
   },
   {
    "duration": 207,
    "start_time": "2021-08-22T07:20:51.744Z"
   },
   {
    "duration": 21,
    "start_time": "2021-08-22T07:20:59.561Z"
   },
   {
    "duration": 192,
    "start_time": "2021-08-22T07:22:19.477Z"
   },
   {
    "duration": 4407,
    "start_time": "2021-08-22T07:23:12.161Z"
   },
   {
    "duration": 171,
    "start_time": "2021-08-22T07:23:36.594Z"
   },
   {
    "duration": 12,
    "start_time": "2021-08-22T07:23:43.922Z"
   },
   {
    "duration": 17,
    "start_time": "2021-08-22T07:23:46.970Z"
   },
   {
    "duration": 7,
    "start_time": "2021-08-22T07:23:49.942Z"
   },
   {
    "duration": 19,
    "start_time": "2021-08-22T07:24:01.988Z"
   },
   {
    "duration": 4602,
    "start_time": "2021-08-22T07:24:22.150Z"
   },
   {
    "duration": 21,
    "start_time": "2021-08-22T07:27:16.768Z"
   },
   {
    "duration": 190,
    "start_time": "2021-08-22T07:39:44.761Z"
   },
   {
    "duration": 189,
    "start_time": "2021-08-22T07:39:49.113Z"
   },
   {
    "duration": 60,
    "start_time": "2021-08-22T07:40:06.640Z"
   },
   {
    "duration": 10,
    "start_time": "2021-08-22T07:40:06.702Z"
   },
   {
    "duration": 14,
    "start_time": "2021-08-22T07:40:06.714Z"
   },
   {
    "duration": 15,
    "start_time": "2021-08-22T07:40:06.730Z"
   },
   {
    "duration": 5,
    "start_time": "2021-08-22T07:40:06.746Z"
   },
   {
    "duration": 7,
    "start_time": "2021-08-22T07:40:06.785Z"
   },
   {
    "duration": 14,
    "start_time": "2021-08-22T07:40:06.794Z"
   },
   {
    "duration": 12,
    "start_time": "2021-08-22T07:40:06.811Z"
   },
   {
    "duration": 18,
    "start_time": "2021-08-22T07:40:06.824Z"
   },
   {
    "duration": 54,
    "start_time": "2021-08-22T07:40:06.843Z"
   },
   {
    "duration": 10,
    "start_time": "2021-08-22T07:40:06.899Z"
   },
   {
    "duration": 11,
    "start_time": "2021-08-22T07:40:06.911Z"
   },
   {
    "duration": 16,
    "start_time": "2021-08-22T07:40:06.924Z"
   },
   {
    "duration": 5,
    "start_time": "2021-08-22T07:40:06.942Z"
   },
   {
    "duration": 42,
    "start_time": "2021-08-22T07:40:06.948Z"
   },
   {
    "duration": 20,
    "start_time": "2021-08-22T07:40:06.991Z"
   },
   {
    "duration": 20,
    "start_time": "2021-08-22T07:40:07.013Z"
   },
   {
    "duration": 14,
    "start_time": "2021-08-22T07:40:07.035Z"
   },
   {
    "duration": 44,
    "start_time": "2021-08-22T07:40:07.051Z"
   },
   {
    "duration": 14,
    "start_time": "2021-08-22T07:40:07.096Z"
   },
   {
    "duration": 9,
    "start_time": "2021-08-22T07:40:07.111Z"
   },
   {
    "duration": 684,
    "start_time": "2021-08-22T07:40:07.121Z"
   },
   {
    "duration": 5,
    "start_time": "2021-08-22T07:40:07.808Z"
   },
   {
    "duration": 3176,
    "start_time": "2021-08-22T07:40:07.815Z"
   },
   {
    "duration": 24,
    "start_time": "2021-08-22T07:40:10.992Z"
   },
   {
    "duration": 14,
    "start_time": "2021-08-22T08:10:36.942Z"
   },
   {
    "duration": 18,
    "start_time": "2021-08-22T08:10:44.375Z"
   },
   {
    "duration": 33,
    "start_time": "2021-08-22T10:33:45.044Z"
   },
   {
    "duration": 22,
    "start_time": "2021-08-22T10:34:16.511Z"
   },
   {
    "duration": 3,
    "start_time": "2021-08-22T10:37:15.593Z"
   },
   {
    "duration": 20,
    "start_time": "2021-08-22T10:42:58.119Z"
   },
   {
    "duration": 1358,
    "start_time": "2021-08-22T10:43:05.505Z"
   },
   {
    "duration": 18,
    "start_time": "2021-08-22T10:43:20.010Z"
   },
   {
    "duration": 21,
    "start_time": "2021-08-22T10:47:25.450Z"
   },
   {
    "duration": 766,
    "start_time": "2021-08-22T20:22:50.702Z"
   },
   {
    "duration": 15,
    "start_time": "2021-08-22T20:22:51.470Z"
   },
   {
    "duration": 19,
    "start_time": "2021-08-22T20:22:51.488Z"
   },
   {
    "duration": 45,
    "start_time": "2021-08-22T20:22:51.510Z"
   },
   {
    "duration": 7,
    "start_time": "2021-08-22T20:22:51.558Z"
   },
   {
    "duration": 10,
    "start_time": "2021-08-22T20:22:51.567Z"
   },
   {
    "duration": 16,
    "start_time": "2021-08-22T20:22:51.579Z"
   },
   {
    "duration": 19,
    "start_time": "2021-08-22T20:22:51.597Z"
   },
   {
    "duration": 28,
    "start_time": "2021-08-22T20:22:51.658Z"
   },
   {
    "duration": 29,
    "start_time": "2021-08-22T20:22:51.690Z"
   },
   {
    "duration": 40,
    "start_time": "2021-08-22T20:22:51.721Z"
   },
   {
    "duration": 16,
    "start_time": "2021-08-22T20:22:51.764Z"
   },
   {
    "duration": 25,
    "start_time": "2021-08-22T20:22:51.783Z"
   },
   {
    "duration": 46,
    "start_time": "2021-08-22T20:22:51.810Z"
   },
   {
    "duration": 17,
    "start_time": "2021-08-22T20:22:51.859Z"
   },
   {
    "duration": 24,
    "start_time": "2021-08-22T20:22:51.879Z"
   },
   {
    "duration": 64,
    "start_time": "2021-08-22T20:22:51.905Z"
   },
   {
    "duration": 30,
    "start_time": "2021-08-22T20:22:51.971Z"
   },
   {
    "duration": 54,
    "start_time": "2021-08-22T20:22:52.003Z"
   },
   {
    "duration": 33,
    "start_time": "2021-08-22T20:22:52.060Z"
   },
   {
    "duration": 37,
    "start_time": "2021-08-22T20:22:52.096Z"
   },
   {
    "duration": 16,
    "start_time": "2021-08-22T20:22:52.157Z"
   },
   {
    "duration": 913,
    "start_time": "2021-08-22T20:22:52.175Z"
   },
   {
    "duration": 8,
    "start_time": "2021-08-22T20:22:53.091Z"
   },
   {
    "duration": 3661,
    "start_time": "2021-08-22T20:22:53.101Z"
   },
   {
    "duration": 37,
    "start_time": "2021-08-22T20:22:56.764Z"
   },
   {
    "duration": 6,
    "start_time": "2021-08-22T20:28:46.520Z"
   },
   {
    "duration": 29,
    "start_time": "2021-08-22T20:31:36.426Z"
   },
   {
    "duration": 20,
    "start_time": "2021-08-22T20:37:44.240Z"
   },
   {
    "duration": 16,
    "start_time": "2021-08-22T20:37:51.293Z"
   },
   {
    "duration": 515,
    "start_time": "2021-08-23T03:49:35.119Z"
   },
   {
    "duration": 374,
    "start_time": "2021-08-23T03:50:10.351Z"
   },
   {
    "duration": 921,
    "start_time": "2021-08-23T03:50:22.755Z"
   },
   {
    "duration": 421,
    "start_time": "2021-08-23T03:50:38.539Z"
   },
   {
    "duration": 8,
    "start_time": "2021-08-23T03:50:52.932Z"
   },
   {
    "duration": 6,
    "start_time": "2021-08-23T03:51:07.361Z"
   },
   {
    "duration": 426,
    "start_time": "2021-08-23T04:20:21.768Z"
   },
   {
    "duration": 21,
    "start_time": "2021-08-23T04:20:31.185Z"
   },
   {
    "duration": 35,
    "start_time": "2021-08-23T04:20:34.405Z"
   },
   {
    "duration": 17,
    "start_time": "2021-08-23T04:20:41.693Z"
   },
   {
    "duration": 17,
    "start_time": "2021-08-23T04:20:54.242Z"
   },
   {
    "duration": 12,
    "start_time": "2021-08-23T04:20:58.848Z"
   },
   {
    "duration": 30,
    "start_time": "2021-08-23T04:21:01.772Z"
   },
   {
    "duration": 130,
    "start_time": "2021-08-23T05:02:11.397Z"
   },
   {
    "duration": 34,
    "start_time": "2021-08-23T05:06:16.836Z"
   },
   {
    "duration": 77,
    "start_time": "2021-08-23T05:06:44.667Z"
   },
   {
    "duration": 14,
    "start_time": "2021-08-23T05:06:44.747Z"
   },
   {
    "duration": 33,
    "start_time": "2021-08-23T05:06:44.765Z"
   },
   {
    "duration": 24,
    "start_time": "2021-08-23T05:06:44.801Z"
   },
   {
    "duration": 14,
    "start_time": "2021-08-23T05:06:44.827Z"
   },
   {
    "duration": 45,
    "start_time": "2021-08-23T05:06:44.844Z"
   },
   {
    "duration": 16,
    "start_time": "2021-08-23T05:06:44.891Z"
   },
   {
    "duration": 19,
    "start_time": "2021-08-23T05:06:44.909Z"
   },
   {
    "duration": 55,
    "start_time": "2021-08-23T05:06:44.932Z"
   },
   {
    "duration": 29,
    "start_time": "2021-08-23T05:06:44.990Z"
   },
   {
    "duration": 17,
    "start_time": "2021-08-23T05:06:45.021Z"
   },
   {
    "duration": 51,
    "start_time": "2021-08-23T05:06:45.040Z"
   },
   {
    "duration": 27,
    "start_time": "2021-08-23T05:06:45.093Z"
   },
   {
    "duration": 28,
    "start_time": "2021-08-23T05:06:45.122Z"
   },
   {
    "duration": 36,
    "start_time": "2021-08-23T05:06:45.152Z"
   },
   {
    "duration": 36,
    "start_time": "2021-08-23T05:06:45.190Z"
   },
   {
    "duration": 12,
    "start_time": "2021-08-23T05:06:45.228Z"
   },
   {
    "duration": 51,
    "start_time": "2021-08-23T05:06:45.242Z"
   },
   {
    "duration": 23,
    "start_time": "2021-08-23T05:06:45.296Z"
   },
   {
    "duration": 64,
    "start_time": "2021-08-23T05:06:45.321Z"
   },
   {
    "duration": 32,
    "start_time": "2021-08-23T05:06:45.387Z"
   },
   {
    "duration": 30,
    "start_time": "2021-08-23T05:06:45.421Z"
   },
   {
    "duration": 32,
    "start_time": "2021-08-23T05:06:45.486Z"
   },
   {
    "duration": 30,
    "start_time": "2021-08-23T05:06:45.520Z"
   },
   {
    "duration": 40,
    "start_time": "2021-08-23T05:06:45.553Z"
   },
   {
    "duration": 955,
    "start_time": "2021-08-23T05:06:45.596Z"
   },
   {
    "duration": 27,
    "start_time": "2021-08-23T05:06:46.558Z"
   },
   {
    "duration": 3740,
    "start_time": "2021-08-23T05:06:46.589Z"
   },
   {
    "duration": 57,
    "start_time": "2021-08-23T05:06:50.331Z"
   },
   {
    "duration": 12,
    "start_time": "2021-08-23T05:14:39.347Z"
   },
   {
    "duration": 136,
    "start_time": "2021-08-23T05:14:53.538Z"
   },
   {
    "duration": 31,
    "start_time": "2021-08-23T05:15:01.101Z"
   },
   {
    "duration": 30,
    "start_time": "2021-08-23T05:19:51.576Z"
   },
   {
    "duration": 110,
    "start_time": "2021-08-23T05:24:29.920Z"
   },
   {
    "duration": 28,
    "start_time": "2021-08-23T05:31:43.195Z"
   },
   {
    "duration": 26,
    "start_time": "2021-08-23T05:32:06.748Z"
   },
   {
    "duration": 24,
    "start_time": "2021-08-23T05:32:33.051Z"
   },
   {
    "duration": 25,
    "start_time": "2021-08-23T05:32:54.163Z"
   },
   {
    "duration": 488,
    "start_time": "2021-08-23T05:44:32.822Z"
   },
   {
    "duration": 402,
    "start_time": "2021-08-23T05:44:45.724Z"
   },
   {
    "duration": 405,
    "start_time": "2021-08-23T05:50:20.794Z"
   },
   {
    "duration": 414,
    "start_time": "2021-08-23T05:50:29.133Z"
   },
   {
    "duration": 436,
    "start_time": "2021-08-23T05:54:16.274Z"
   },
   {
    "duration": 821,
    "start_time": "2021-08-23T05:54:22.794Z"
   },
   {
    "duration": 535,
    "start_time": "2021-08-23T05:55:00.755Z"
   },
   {
    "duration": 424,
    "start_time": "2021-08-23T06:00:44.990Z"
   },
   {
    "duration": 422,
    "start_time": "2021-08-23T06:00:53.593Z"
   },
   {
    "duration": 1783,
    "start_time": "2021-08-23T06:01:14.055Z"
   },
   {
    "duration": 3548,
    "start_time": "2021-08-23T06:01:29.593Z"
   },
   {
    "duration": 481,
    "start_time": "2021-08-23T06:04:15.585Z"
   },
   {
    "duration": 66,
    "start_time": "2021-08-23T06:04:47.675Z"
   },
   {
    "duration": 65,
    "start_time": "2021-08-23T06:05:01.201Z"
   },
   {
    "duration": 72,
    "start_time": "2021-08-23T06:05:22.604Z"
   },
   {
    "duration": 404,
    "start_time": "2021-08-23T06:06:36.715Z"
   },
   {
    "duration": 420,
    "start_time": "2021-08-23T06:11:28.775Z"
   },
   {
    "duration": 92,
    "start_time": "2021-08-23T06:14:42.755Z"
   },
   {
    "duration": 89,
    "start_time": "2021-08-23T06:15:09.004Z"
   },
   {
    "duration": 78,
    "start_time": "2021-08-23T06:25:05.598Z"
   },
   {
    "duration": 21,
    "start_time": "2021-08-23T07:07:21.169Z"
   },
   {
    "duration": 23,
    "start_time": "2021-08-23T07:27:09.489Z"
   },
   {
    "duration": 14,
    "start_time": "2021-08-23T07:27:43.795Z"
   },
   {
    "duration": 39,
    "start_time": "2021-08-23T07:31:21.563Z"
   },
   {
    "duration": 40,
    "start_time": "2021-08-23T07:31:43.941Z"
   },
   {
    "duration": 12,
    "start_time": "2021-08-23T07:33:47.795Z"
   },
   {
    "duration": 43,
    "start_time": "2021-08-23T07:34:14.324Z"
   },
   {
    "duration": 448,
    "start_time": "2021-08-23T07:57:18.161Z"
   },
   {
    "duration": 3401,
    "start_time": "2021-08-23T07:58:15.603Z"
   },
   {
    "duration": 28,
    "start_time": "2021-08-23T08:00:02.863Z"
   },
   {
    "duration": 411,
    "start_time": "2021-08-23T08:00:18.399Z"
   },
   {
    "duration": 77,
    "start_time": "2021-08-23T08:00:39.922Z"
   },
   {
    "duration": 29,
    "start_time": "2021-08-23T08:01:08.953Z"
   },
   {
    "duration": 29,
    "start_time": "2021-08-23T08:01:22.041Z"
   },
   {
    "duration": 430,
    "start_time": "2021-08-23T08:32:45.213Z"
   },
   {
    "duration": 66,
    "start_time": "2021-08-23T08:41:36.073Z"
   },
   {
    "duration": 60,
    "start_time": "2021-08-23T08:43:46.906Z"
   },
   {
    "duration": 63,
    "start_time": "2021-08-23T08:49:03.383Z"
   },
   {
    "duration": 404,
    "start_time": "2021-08-23T10:00:09.512Z"
   },
   {
    "duration": 31,
    "start_time": "2021-08-23T10:00:15.479Z"
   },
   {
    "duration": 28,
    "start_time": "2021-08-23T10:00:17.748Z"
   },
   {
    "duration": 17,
    "start_time": "2021-08-23T10:00:27.244Z"
   },
   {
    "duration": 13,
    "start_time": "2021-08-23T10:00:32.579Z"
   },
   {
    "duration": 30,
    "start_time": "2021-08-23T10:00:34.808Z"
   },
   {
    "duration": 24,
    "start_time": "2021-08-23T11:35:49.293Z"
   },
   {
    "duration": 61,
    "start_time": "2021-08-23T11:45:45.529Z"
   },
   {
    "duration": 63,
    "start_time": "2021-08-23T11:46:23.219Z"
   },
   {
    "duration": 20,
    "start_time": "2021-08-23T11:47:37.606Z"
   },
   {
    "duration": 16,
    "start_time": "2021-08-23T11:48:00.225Z"
   },
   {
    "duration": 403,
    "start_time": "2021-08-23T11:55:20.020Z"
   },
   {
    "duration": 65,
    "start_time": "2021-08-23T11:56:29.601Z"
   },
   {
    "duration": 462,
    "start_time": "2021-08-23T11:57:02.947Z"
   },
   {
    "duration": 32,
    "start_time": "2021-08-23T11:57:55.269Z"
   },
   {
    "duration": 31,
    "start_time": "2021-08-23T11:58:06.287Z"
   },
   {
    "duration": 29,
    "start_time": "2021-08-23T12:01:23.171Z"
   },
   {
    "duration": 603,
    "start_time": "2021-08-23T12:03:13.834Z"
   },
   {
    "duration": 442,
    "start_time": "2021-08-23T12:03:22.754Z"
   },
   {
    "duration": 134,
    "start_time": "2021-08-23T12:05:11.970Z"
   },
   {
    "duration": 517,
    "start_time": "2021-08-23T12:05:16.625Z"
   },
   {
    "duration": 662,
    "start_time": "2021-08-23T12:05:58.021Z"
   },
   {
    "duration": 413,
    "start_time": "2021-08-23T12:06:15.317Z"
   },
   {
    "duration": -75,
    "start_time": "2021-08-23T12:06:32.921Z"
   },
   {
    "duration": 134,
    "start_time": "2021-08-23T12:09:27.555Z"
   },
   {
    "duration": 131,
    "start_time": "2021-08-23T12:09:37.257Z"
   },
   {
    "duration": 136,
    "start_time": "2021-08-23T12:10:51.911Z"
   },
   {
    "duration": 452,
    "start_time": "2021-08-23T12:10:59.302Z"
   },
   {
    "duration": -63,
    "start_time": "2021-08-23T12:13:34.627Z"
   },
   {
    "duration": 21810,
    "start_time": "2021-08-23T12:13:40.825Z"
   },
   {
    "duration": 10801,
    "start_time": "2021-08-23T12:19:12.375Z"
   },
   {
    "duration": -60,
    "start_time": "2021-08-23T12:20:39.902Z"
   },
   {
    "duration": 30,
    "start_time": "2021-08-23T14:09:02.166Z"
   },
   {
    "duration": 1033,
    "start_time": "2021-08-23T14:17:00.907Z"
   },
   {
    "duration": 45,
    "start_time": "2021-08-23T14:33:05.561Z"
   },
   {
    "duration": 23,
    "start_time": "2021-08-23T14:36:20.054Z"
   },
   {
    "duration": 30,
    "start_time": "2021-08-23T14:36:27.087Z"
   },
   {
    "duration": 30,
    "start_time": "2021-08-23T14:57:15.540Z"
   },
   {
    "duration": 45,
    "start_time": "2021-08-23T14:57:57.617Z"
   },
   {
    "duration": 43,
    "start_time": "2021-08-23T14:58:09.922Z"
   },
   {
    "duration": 29,
    "start_time": "2021-08-23T15:05:55.703Z"
   },
   {
    "duration": 643,
    "start_time": "2021-08-23T15:06:10.823Z"
   },
   {
    "duration": 20,
    "start_time": "2021-08-23T15:06:19.768Z"
   },
   {
    "duration": 33,
    "start_time": "2021-08-23T15:06:23.090Z"
   },
   {
    "duration": 471,
    "start_time": "2021-08-23T15:07:54.510Z"
   },
   {
    "duration": 926,
    "start_time": "2021-08-23T15:07:59.511Z"
   },
   {
    "duration": 463,
    "start_time": "2021-08-23T15:08:01.568Z"
   },
   {
    "duration": 927,
    "start_time": "2021-08-23T15:08:06.222Z"
   },
   {
    "duration": 10,
    "start_time": "2021-08-23T15:08:11.521Z"
   },
   {
    "duration": 3832,
    "start_time": "2021-08-23T15:08:13.791Z"
   },
   {
    "duration": 37,
    "start_time": "2021-08-23T15:08:17.626Z"
   },
   {
    "duration": 45,
    "start_time": "2021-08-23T15:09:09.739Z"
   },
   {
    "duration": 30,
    "start_time": "2021-08-23T15:16:16.776Z"
   },
   {
    "duration": 29,
    "start_time": "2021-08-23T15:16:17.511Z"
   },
   {
    "duration": 46,
    "start_time": "2021-08-23T15:16:58.940Z"
   },
   {
    "duration": 46,
    "start_time": "2021-08-23T15:23:01.649Z"
   },
   {
    "duration": 471,
    "start_time": "2021-08-23T15:23:14.122Z"
   },
   {
    "duration": 16,
    "start_time": "2021-08-23T15:23:25.994Z"
   },
   {
    "duration": 20,
    "start_time": "2021-08-23T15:23:28.666Z"
   },
   {
    "duration": 404,
    "start_time": "2021-08-23T15:23:34.268Z"
   },
   {
    "duration": 45,
    "start_time": "2021-08-23T15:24:06.613Z"
   },
   {
    "duration": 42,
    "start_time": "2021-08-23T15:24:17.678Z"
   },
   {
    "duration": 28,
    "start_time": "2021-08-23T15:28:32.872Z"
   },
   {
    "duration": 40,
    "start_time": "2021-08-23T15:28:36.279Z"
   },
   {
    "duration": 19,
    "start_time": "2021-08-23T15:28:40.168Z"
   },
   {
    "duration": 16,
    "start_time": "2021-08-23T15:28:43.494Z"
   },
   {
    "duration": 34,
    "start_time": "2021-08-23T15:28:46.463Z"
   },
   {
    "duration": 765,
    "start_time": "2021-08-23T15:28:50.216Z"
   },
   {
    "duration": 65,
    "start_time": "2021-08-23T15:29:32.799Z"
   },
   {
    "duration": 27,
    "start_time": "2021-08-23T15:29:39.547Z"
   },
   {
    "duration": 607,
    "start_time": "2021-08-23T15:30:26.118Z"
   },
   {
    "duration": 403,
    "start_time": "2021-08-23T15:31:42.419Z"
   },
   {
    "duration": 501,
    "start_time": "2021-08-23T15:32:10.533Z"
   },
   {
    "duration": 1090,
    "start_time": "2021-08-23T15:35:06.848Z"
   },
   {
    "duration": 30,
    "start_time": "2021-08-23T15:35:37.018Z"
   },
   {
    "duration": 698,
    "start_time": "2021-08-23T15:35:52.842Z"
   },
   {
    "duration": 48,
    "start_time": "2021-08-23T15:36:03.444Z"
   },
   {
    "duration": 43,
    "start_time": "2021-08-23T15:40:26.988Z"
   },
   {
    "duration": 910,
    "start_time": "2021-08-23T15:44:23.947Z"
   },
   {
    "duration": 15,
    "start_time": "2021-08-23T15:44:24.859Z"
   },
   {
    "duration": 21,
    "start_time": "2021-08-23T15:44:24.886Z"
   },
   {
    "duration": 22,
    "start_time": "2021-08-23T15:44:24.910Z"
   },
   {
    "duration": 101,
    "start_time": "2021-08-23T15:44:24.934Z"
   },
   {
    "duration": 24,
    "start_time": "2021-08-23T15:44:25.038Z"
   },
   {
    "duration": 156,
    "start_time": "2021-08-23T15:44:25.065Z"
   },
   {
    "duration": 17,
    "start_time": "2021-08-23T15:44:25.225Z"
   },
   {
    "duration": 45,
    "start_time": "2021-08-23T15:44:25.245Z"
   },
   {
    "duration": 860,
    "start_time": "2021-08-23T15:44:25.292Z"
   },
   {
    "duration": 9,
    "start_time": "2021-08-23T15:44:26.155Z"
   },
   {
    "duration": 28,
    "start_time": "2021-08-23T15:44:26.167Z"
   },
   {
    "duration": 27,
    "start_time": "2021-08-23T15:44:26.198Z"
   },
   {
    "duration": 29,
    "start_time": "2021-08-23T15:44:26.228Z"
   },
   {
    "duration": 63,
    "start_time": "2021-08-23T15:44:26.260Z"
   },
   {
    "duration": 30,
    "start_time": "2021-08-23T15:44:26.325Z"
   },
   {
    "duration": 65,
    "start_time": "2021-08-23T15:44:26.358Z"
   },
   {
    "duration": 17,
    "start_time": "2021-08-23T15:44:26.426Z"
   },
   {
    "duration": 3,
    "start_time": "2021-08-23T15:44:26.446Z"
   },
   {
    "duration": 59,
    "start_time": "2021-08-23T15:44:26.452Z"
   },
   {
    "duration": 30,
    "start_time": "2021-08-23T15:44:26.514Z"
   },
   {
    "duration": 56,
    "start_time": "2021-08-23T15:44:26.547Z"
   },
   {
    "duration": 16,
    "start_time": "2021-08-23T15:44:26.609Z"
   },
   {
    "duration": 67,
    "start_time": "2021-08-23T15:44:26.629Z"
   },
   {
    "duration": 39,
    "start_time": "2021-08-23T15:44:26.699Z"
   },
   {
    "duration": 46,
    "start_time": "2021-08-23T15:44:26.742Z"
   },
   {
    "duration": 24,
    "start_time": "2021-08-23T15:44:26.791Z"
   },
   {
    "duration": 37,
    "start_time": "2021-08-23T15:44:26.817Z"
   },
   {
    "duration": 60,
    "start_time": "2021-08-23T15:44:26.857Z"
   },
   {
    "duration": 28,
    "start_time": "2021-08-23T15:44:26.920Z"
   },
   {
    "duration": 50,
    "start_time": "2021-08-23T15:44:26.950Z"
   },
   {
    "duration": 41,
    "start_time": "2021-08-23T15:44:27.003Z"
   },
   {
    "duration": 11,
    "start_time": "2021-08-23T15:44:27.047Z"
   },
   {
    "duration": 942,
    "start_time": "2021-08-23T15:44:27.060Z"
   },
   {
    "duration": 8,
    "start_time": "2021-08-23T15:44:28.005Z"
   },
   {
    "duration": 3776,
    "start_time": "2021-08-23T15:44:28.015Z"
   },
   {
    "duration": 42,
    "start_time": "2021-08-23T15:44:31.795Z"
   },
   {
    "duration": 78,
    "start_time": "2021-08-23T15:44:31.840Z"
   },
   {
    "duration": 29,
    "start_time": "2021-08-23T15:47:18.488Z"
   },
   {
    "duration": 29,
    "start_time": "2021-08-23T15:49:20.856Z"
   },
   {
    "duration": 655,
    "start_time": "2021-08-23T15:49:58.153Z"
   },
   {
    "duration": 46,
    "start_time": "2021-08-23T15:50:51.293Z"
   },
   {
    "duration": 591,
    "start_time": "2021-08-23T15:56:32.284Z"
   },
   {
    "duration": 24,
    "start_time": "2021-08-23T15:56:41.131Z"
   },
   {
    "duration": 28,
    "start_time": "2021-08-23T15:56:53.003Z"
   },
   {
    "duration": 476,
    "start_time": "2021-08-23T15:57:57.208Z"
   },
   {
    "duration": 413,
    "start_time": "2021-08-23T15:58:55.933Z"
   },
   {
    "duration": 14,
    "start_time": "2021-08-23T16:00:38.995Z"
   },
   {
    "duration": 6,
    "start_time": "2021-08-23T16:01:35.982Z"
   },
   {
    "duration": 31,
    "start_time": "2021-08-23T16:05:00.187Z"
   },
   {
    "duration": 48,
    "start_time": "2021-08-23T16:05:13.236Z"
   },
   {
    "duration": 1474,
    "start_time": "2021-08-23T18:05:02.989Z"
   },
   {
    "duration": 27,
    "start_time": "2021-08-23T18:05:04.466Z"
   },
   {
    "duration": 23,
    "start_time": "2021-08-23T18:05:04.498Z"
   },
   {
    "duration": 23,
    "start_time": "2021-08-23T18:05:04.524Z"
   },
   {
    "duration": 58,
    "start_time": "2021-08-23T18:05:04.584Z"
   },
   {
    "duration": 24,
    "start_time": "2021-08-23T18:05:04.645Z"
   },
   {
    "duration": 123,
    "start_time": "2021-08-23T18:05:04.688Z"
   },
   {
    "duration": 20,
    "start_time": "2021-08-23T18:05:04.816Z"
   },
   {
    "duration": 65,
    "start_time": "2021-08-23T18:05:04.840Z"
   },
   {
    "duration": 974,
    "start_time": "2021-08-23T18:05:04.909Z"
   },
   {
    "duration": 17,
    "start_time": "2021-08-23T18:05:05.887Z"
   },
   {
    "duration": 10,
    "start_time": "2021-08-23T18:05:05.907Z"
   },
   {
    "duration": 29,
    "start_time": "2021-08-23T18:05:05.919Z"
   },
   {
    "duration": 64,
    "start_time": "2021-08-23T18:05:05.950Z"
   },
   {
    "duration": 45,
    "start_time": "2021-08-23T18:05:06.016Z"
   },
   {
    "duration": 59,
    "start_time": "2021-08-23T18:05:06.063Z"
   },
   {
    "duration": 68,
    "start_time": "2021-08-23T18:05:06.124Z"
   },
   {
    "duration": 20,
    "start_time": "2021-08-23T18:05:06.195Z"
   },
   {
    "duration": 2,
    "start_time": "2021-08-23T18:05:06.217Z"
   },
   {
    "duration": 68,
    "start_time": "2021-08-23T18:05:06.222Z"
   },
   {
    "duration": 23,
    "start_time": "2021-08-23T18:05:06.294Z"
   },
   {
    "duration": 16,
    "start_time": "2021-08-23T18:05:06.320Z"
   },
   {
    "duration": 86,
    "start_time": "2021-08-23T18:05:06.341Z"
   },
   {
    "duration": 38,
    "start_time": "2021-08-23T18:05:06.430Z"
   },
   {
    "duration": 46,
    "start_time": "2021-08-23T18:05:06.486Z"
   },
   {
    "duration": 8,
    "start_time": "2021-08-23T18:05:06.535Z"
   },
   {
    "duration": 59,
    "start_time": "2021-08-23T18:05:06.546Z"
   },
   {
    "duration": 39,
    "start_time": "2021-08-23T18:05:06.607Z"
   },
   {
    "duration": 71,
    "start_time": "2021-08-23T18:05:06.648Z"
   },
   {
    "duration": 30,
    "start_time": "2021-08-23T18:05:06.722Z"
   },
   {
    "duration": 50,
    "start_time": "2021-08-23T18:05:06.754Z"
   },
   {
    "duration": 45,
    "start_time": "2021-08-23T18:05:06.808Z"
   },
   {
    "duration": 34,
    "start_time": "2021-08-23T18:05:06.855Z"
   },
   {
    "duration": 1016,
    "start_time": "2021-08-23T18:05:06.891Z"
   },
   {
    "duration": 8,
    "start_time": "2021-08-23T18:05:07.910Z"
   },
   {
    "duration": 4010,
    "start_time": "2021-08-23T18:05:07.921Z"
   },
   {
    "duration": 56,
    "start_time": "2021-08-23T18:05:11.933Z"
   },
   {
    "duration": 51,
    "start_time": "2021-08-23T18:05:11.993Z"
   },
   {
    "duration": 933,
    "start_time": "2021-08-24T09:32:41.848Z"
   },
   {
    "duration": 22,
    "start_time": "2021-08-24T09:32:42.785Z"
   },
   {
    "duration": 51,
    "start_time": "2021-08-24T09:32:42.810Z"
   },
   {
    "duration": 27,
    "start_time": "2021-08-24T09:32:42.864Z"
   },
   {
    "duration": 73,
    "start_time": "2021-08-24T09:32:42.894Z"
   },
   {
    "duration": 24,
    "start_time": "2021-08-24T09:32:42.969Z"
   },
   {
    "duration": 99,
    "start_time": "2021-08-24T09:32:42.995Z"
   },
   {
    "duration": 12,
    "start_time": "2021-08-24T09:33:01.219Z"
   },
   {
    "duration": 72,
    "start_time": "2021-08-24T09:39:59.777Z"
   },
   {
    "duration": 14,
    "start_time": "2021-08-24T09:39:59.851Z"
   },
   {
    "duration": 28,
    "start_time": "2021-08-24T09:39:59.868Z"
   },
   {
    "duration": 21,
    "start_time": "2021-08-24T09:39:59.899Z"
   },
   {
    "duration": 74,
    "start_time": "2021-08-24T09:39:59.923Z"
   },
   {
    "duration": 23,
    "start_time": "2021-08-24T09:40:00.000Z"
   },
   {
    "duration": 118,
    "start_time": "2021-08-24T09:40:00.026Z"
   },
   {
    "duration": 17,
    "start_time": "2021-08-24T09:40:00.146Z"
   },
   {
    "duration": 28,
    "start_time": "2021-08-24T09:40:00.167Z"
   },
   {
    "duration": 29,
    "start_time": "2021-08-24T09:40:00.197Z"
   },
   {
    "duration": 1307,
    "start_time": "2021-08-24T09:40:00.228Z"
   },
   {
    "duration": 10,
    "start_time": "2021-08-24T09:40:01.538Z"
   },
   {
    "duration": 12,
    "start_time": "2021-08-24T09:40:01.561Z"
   },
   {
    "duration": 32,
    "start_time": "2021-08-24T09:40:01.576Z"
   },
   {
    "duration": 44,
    "start_time": "2021-08-24T09:40:01.611Z"
   },
   {
    "duration": 43,
    "start_time": "2021-08-24T09:40:01.661Z"
   },
   {
    "duration": 19,
    "start_time": "2021-08-24T09:40:19.692Z"
   },
   {
    "duration": 19,
    "start_time": "2021-08-24T09:41:00.212Z"
   },
   {
    "duration": 43,
    "start_time": "2021-08-24T09:43:39.712Z"
   },
   {
    "duration": 17,
    "start_time": "2021-08-24T09:48:00.751Z"
   },
   {
    "duration": 21,
    "start_time": "2021-08-24T09:50:03.153Z"
   },
   {
    "duration": 543,
    "start_time": "2021-08-24T10:04:38.569Z"
   },
   {
    "duration": 1298,
    "start_time": "2021-08-24T10:04:49.597Z"
   },
   {
    "duration": 366,
    "start_time": "2021-08-24T10:05:01.788Z"
   },
   {
    "duration": 19,
    "start_time": "2021-08-24T10:05:04.144Z"
   },
   {
    "duration": 18,
    "start_time": "2021-08-24T10:31:10.172Z"
   },
   {
    "duration": 360,
    "start_time": "2021-08-25T02:59:39.931Z"
   },
   {
    "duration": 802,
    "start_time": "2021-08-25T02:59:47.014Z"
   },
   {
    "duration": 15,
    "start_time": "2021-08-25T02:59:47.818Z"
   },
   {
    "duration": 37,
    "start_time": "2021-08-25T02:59:47.836Z"
   },
   {
    "duration": 21,
    "start_time": "2021-08-25T02:59:47.876Z"
   },
   {
    "duration": 70,
    "start_time": "2021-08-25T02:59:47.899Z"
   },
   {
    "duration": 24,
    "start_time": "2021-08-25T02:59:47.972Z"
   },
   {
    "duration": 109,
    "start_time": "2021-08-25T02:59:48.000Z"
   },
   {
    "duration": 11,
    "start_time": "2021-08-25T02:59:48.112Z"
   },
   {
    "duration": 35,
    "start_time": "2021-08-25T02:59:48.126Z"
   },
   {
    "duration": 29,
    "start_time": "2021-08-25T02:59:48.164Z"
   },
   {
    "duration": 721,
    "start_time": "2021-08-25T02:59:48.195Z"
   },
   {
    "duration": 9,
    "start_time": "2021-08-25T02:59:48.919Z"
   },
   {
    "duration": 32,
    "start_time": "2021-08-25T02:59:48.931Z"
   },
   {
    "duration": 17,
    "start_time": "2021-08-25T02:59:48.966Z"
   },
   {
    "duration": 36,
    "start_time": "2021-08-25T02:59:48.986Z"
   },
   {
    "duration": 52,
    "start_time": "2021-08-25T02:59:49.025Z"
   },
   {
    "duration": 41,
    "start_time": "2021-08-25T02:59:49.080Z"
   },
   {
    "duration": 57,
    "start_time": "2021-08-25T02:59:49.124Z"
   },
   {
    "duration": 39,
    "start_time": "2021-08-25T02:59:49.185Z"
   },
   {
    "duration": 74,
    "start_time": "2021-08-25T02:59:49.226Z"
   },
   {
    "duration": 17,
    "start_time": "2021-08-25T02:59:49.303Z"
   },
   {
    "duration": 39,
    "start_time": "2021-08-25T02:59:49.323Z"
   },
   {
    "duration": 28,
    "start_time": "2021-08-25T02:59:49.370Z"
   },
   {
    "duration": 21,
    "start_time": "2021-08-25T02:59:49.402Z"
   },
   {
    "duration": 50,
    "start_time": "2021-08-25T02:59:49.425Z"
   },
   {
    "duration": 49,
    "start_time": "2021-08-25T02:59:49.477Z"
   },
   {
    "duration": 62,
    "start_time": "2021-08-25T02:59:49.529Z"
   },
   {
    "duration": 37,
    "start_time": "2021-08-25T02:59:49.593Z"
   },
   {
    "duration": 31,
    "start_time": "2021-08-25T02:59:49.632Z"
   },
   {
    "duration": 19,
    "start_time": "2021-08-25T02:59:49.665Z"
   },
   {
    "duration": 35,
    "start_time": "2021-08-25T02:59:49.686Z"
   },
   {
    "duration": 76,
    "start_time": "2021-08-25T02:59:49.723Z"
   },
   {
    "duration": 27,
    "start_time": "2021-08-25T02:59:49.801Z"
   },
   {
    "duration": 44,
    "start_time": "2021-08-25T02:59:49.831Z"
   },
   {
    "duration": 39,
    "start_time": "2021-08-25T02:59:49.878Z"
   },
   {
    "duration": 10,
    "start_time": "2021-08-25T02:59:49.920Z"
   },
   {
    "duration": 907,
    "start_time": "2021-08-25T02:59:49.932Z"
   },
   {
    "duration": 7,
    "start_time": "2021-08-25T02:59:50.842Z"
   },
   {
    "duration": 3436,
    "start_time": "2021-08-25T02:59:50.863Z"
   },
   {
    "duration": 38,
    "start_time": "2021-08-25T02:59:54.301Z"
   },
   {
    "duration": 60,
    "start_time": "2021-08-25T02:59:54.342Z"
   },
   {
    "duration": 21,
    "start_time": "2021-08-25T03:02:55.183Z"
   },
   {
    "duration": 20,
    "start_time": "2021-08-25T03:03:10.256Z"
   },
   {
    "duration": 20,
    "start_time": "2021-08-25T03:03:16.743Z"
   },
   {
    "duration": 405,
    "start_time": "2021-08-25T06:29:51.587Z"
   },
   {
    "duration": 331,
    "start_time": "2021-08-25T06:30:02.674Z"
   },
   {
    "duration": 28,
    "start_time": "2021-08-25T06:30:23.298Z"
   },
   {
    "duration": 421,
    "start_time": "2021-08-25T06:32:32.859Z"
   },
   {
    "duration": 36,
    "start_time": "2021-08-25T06:32:45.796Z"
   },
   {
    "duration": 6546,
    "start_time": "2021-08-25T07:37:51.112Z"
   },
   {
    "duration": 40,
    "start_time": "2021-08-25T07:41:28.812Z"
   },
   {
    "duration": 28,
    "start_time": "2021-08-25T07:50:34.633Z"
   },
   {
    "duration": 33,
    "start_time": "2021-08-25T07:51:01.242Z"
   },
   {
    "duration": 37,
    "start_time": "2021-08-25T07:51:41.213Z"
   },
   {
    "duration": 249,
    "start_time": "2021-08-25T07:52:08.431Z"
   },
   {
    "duration": 25,
    "start_time": "2021-08-25T07:52:17.909Z"
   },
   {
    "duration": 49,
    "start_time": "2021-08-25T07:54:27.855Z"
   },
   {
    "duration": 91,
    "start_time": "2021-08-25T08:01:48.042Z"
   },
   {
    "duration": 53,
    "start_time": "2021-08-25T08:02:05.421Z"
   },
   {
    "duration": 57,
    "start_time": "2021-08-25T08:04:36.525Z"
   },
   {
    "duration": 60,
    "start_time": "2021-08-25T08:04:48.549Z"
   },
   {
    "duration": 321,
    "start_time": "2021-08-25T08:05:24.121Z"
   },
   {
    "duration": 344,
    "start_time": "2021-08-25T08:05:31.944Z"
   },
   {
    "duration": 57,
    "start_time": "2021-08-25T08:05:39.362Z"
   },
   {
    "duration": 348,
    "start_time": "2021-08-25T08:09:47.041Z"
   },
   {
    "duration": 54,
    "start_time": "2021-08-25T08:10:23.084Z"
   },
   {
    "duration": 334,
    "start_time": "2021-08-25T08:11:26.159Z"
   },
   {
    "duration": 60,
    "start_time": "2021-08-25T08:11:37.648Z"
   },
   {
    "duration": 47,
    "start_time": "2021-08-25T08:12:17.868Z"
   },
   {
    "duration": 126,
    "start_time": "2021-08-25T08:12:41.692Z"
   },
   {
    "duration": 49,
    "start_time": "2021-08-25T08:12:47.380Z"
   },
   {
    "duration": 269,
    "start_time": "2021-08-25T08:13:40.569Z"
   },
   {
    "duration": 58,
    "start_time": "2021-08-25T08:14:03.634Z"
   },
   {
    "duration": 53,
    "start_time": "2021-08-25T08:15:13.455Z"
   },
   {
    "duration": 59,
    "start_time": "2021-08-25T08:16:52.228Z"
   },
   {
    "duration": 46,
    "start_time": "2021-08-25T08:17:12.846Z"
   },
   {
    "duration": 55,
    "start_time": "2021-08-25T08:17:24.430Z"
   },
   {
    "duration": 46,
    "start_time": "2021-08-25T08:17:56.416Z"
   },
   {
    "duration": 288,
    "start_time": "2021-08-25T08:18:37.395Z"
   },
   {
    "duration": 88,
    "start_time": "2021-08-25T08:19:14.765Z"
   },
   {
    "duration": 296,
    "start_time": "2021-08-25T08:19:46.103Z"
   },
   {
    "duration": 47,
    "start_time": "2021-08-25T08:20:11.706Z"
   },
   {
    "duration": 45,
    "start_time": "2021-08-25T08:20:22.290Z"
   },
   {
    "duration": 51,
    "start_time": "2021-08-25T08:20:32.146Z"
   },
   {
    "duration": 105,
    "start_time": "2021-08-25T08:21:51.799Z"
   },
   {
    "duration": 51,
    "start_time": "2021-08-25T08:22:37.613Z"
   },
   {
    "duration": 44,
    "start_time": "2021-08-25T08:23:37.143Z"
   },
   {
    "duration": 45,
    "start_time": "2021-08-25T08:23:53.182Z"
   },
   {
    "duration": 44,
    "start_time": "2021-08-25T08:24:17.152Z"
   },
   {
    "duration": 45,
    "start_time": "2021-08-25T08:24:31.763Z"
   },
   {
    "duration": 48,
    "start_time": "2021-08-25T08:25:04.131Z"
   },
   {
    "duration": 46,
    "start_time": "2021-08-25T08:25:13.300Z"
   },
   {
    "duration": 44,
    "start_time": "2021-08-25T08:25:20.973Z"
   },
   {
    "duration": 849,
    "start_time": "2021-08-25T08:25:42.374Z"
   },
   {
    "duration": 15,
    "start_time": "2021-08-25T08:25:43.226Z"
   },
   {
    "duration": 39,
    "start_time": "2021-08-25T08:25:43.244Z"
   },
   {
    "duration": 22,
    "start_time": "2021-08-25T08:25:43.287Z"
   },
   {
    "duration": 74,
    "start_time": "2021-08-25T08:25:43.312Z"
   },
   {
    "duration": 24,
    "start_time": "2021-08-25T08:25:43.390Z"
   },
   {
    "duration": 116,
    "start_time": "2021-08-25T08:25:43.417Z"
   },
   {
    "duration": 25,
    "start_time": "2021-08-25T08:25:43.538Z"
   },
   {
    "duration": 22,
    "start_time": "2021-08-25T08:25:43.566Z"
   },
   {
    "duration": 29,
    "start_time": "2021-08-25T08:25:43.590Z"
   },
   {
    "duration": 769,
    "start_time": "2021-08-25T08:25:43.622Z"
   },
   {
    "duration": 10,
    "start_time": "2021-08-25T08:25:44.394Z"
   },
   {
    "duration": 27,
    "start_time": "2021-08-25T08:25:44.407Z"
   },
   {
    "duration": 39,
    "start_time": "2021-08-25T08:25:44.437Z"
   },
   {
    "duration": 43,
    "start_time": "2021-08-25T08:25:44.479Z"
   },
   {
    "duration": 60,
    "start_time": "2021-08-25T08:25:44.525Z"
   },
   {
    "duration": 417,
    "start_time": "2021-08-25T08:25:44.588Z"
   },
   {
    "duration": 40,
    "start_time": "2021-08-25T08:25:44.970Z"
   },
   {
    "duration": 37,
    "start_time": "2021-08-25T08:25:44.975Z"
   },
   {
    "duration": 32,
    "start_time": "2021-08-25T08:25:44.982Z"
   },
   {
    "duration": 30,
    "start_time": "2021-08-25T08:25:44.987Z"
   },
   {
    "duration": 26,
    "start_time": "2021-08-25T08:25:44.993Z"
   },
   {
    "duration": 23,
    "start_time": "2021-08-25T08:25:44.998Z"
   },
   {
    "duration": 20,
    "start_time": "2021-08-25T08:25:45.004Z"
   },
   {
    "duration": 17,
    "start_time": "2021-08-25T08:25:45.009Z"
   },
   {
    "duration": 14,
    "start_time": "2021-08-25T08:25:45.014Z"
   },
   {
    "duration": 13,
    "start_time": "2021-08-25T08:25:45.017Z"
   },
   {
    "duration": 12,
    "start_time": "2021-08-25T08:25:45.021Z"
   },
   {
    "duration": 11,
    "start_time": "2021-08-25T08:25:45.024Z"
   },
   {
    "duration": 10,
    "start_time": "2021-08-25T08:25:45.027Z"
   },
   {
    "duration": 7,
    "start_time": "2021-08-25T08:25:45.032Z"
   },
   {
    "duration": 4,
    "start_time": "2021-08-25T08:25:45.037Z"
   },
   {
    "duration": -12,
    "start_time": "2021-08-25T08:25:45.055Z"
   },
   {
    "duration": 3,
    "start_time": "2021-08-25T08:25:45.058Z"
   },
   {
    "duration": 0,
    "start_time": "2021-08-25T08:25:45.062Z"
   },
   {
    "duration": -1,
    "start_time": "2021-08-25T08:25:45.065Z"
   },
   {
    "duration": -3,
    "start_time": "2021-08-25T08:25:45.069Z"
   },
   {
    "duration": 0,
    "start_time": "2021-08-25T08:25:45.072Z"
   },
   {
    "duration": -2,
    "start_time": "2021-08-25T08:25:45.075Z"
   },
   {
    "duration": -3,
    "start_time": "2021-08-25T08:25:45.079Z"
   },
   {
    "duration": -4,
    "start_time": "2021-08-25T08:25:45.082Z"
   },
   {
    "duration": 271,
    "start_time": "2021-08-25T08:26:28.907Z"
   },
   {
    "duration": 270,
    "start_time": "2021-08-25T08:26:43.508Z"
   },
   {
    "duration": 9144,
    "start_time": "2021-08-25T08:27:28.407Z"
   },
   {
    "duration": 7792,
    "start_time": "2021-08-25T08:27:39.576Z"
   },
   {
    "duration": 45,
    "start_time": "2021-08-25T08:28:00.764Z"
   },
   {
    "duration": 43,
    "start_time": "2021-08-25T08:28:39.579Z"
   },
   {
    "duration": 6722,
    "start_time": "2021-08-25T08:29:13.909Z"
   },
   {
    "duration": 45,
    "start_time": "2021-08-25T08:30:17.898Z"
   },
   {
    "duration": 54,
    "start_time": "2021-08-25T08:30:56.348Z"
   },
   {
    "duration": 350,
    "start_time": "2021-08-25T08:32:38.571Z"
   },
   {
    "duration": 41,
    "start_time": "2021-08-25T08:33:04.685Z"
   },
   {
    "duration": 50,
    "start_time": "2021-08-25T08:33:18.572Z"
   },
   {
    "duration": 303,
    "start_time": "2021-08-25T08:34:23.345Z"
   },
   {
    "duration": 49,
    "start_time": "2021-08-25T08:34:38.226Z"
   },
   {
    "duration": 53,
    "start_time": "2021-08-25T08:35:11.805Z"
   },
   {
    "duration": 310,
    "start_time": "2021-08-25T08:36:31.106Z"
   },
   {
    "duration": 121,
    "start_time": "2021-08-25T08:36:46.490Z"
   },
   {
    "duration": 88,
    "start_time": "2021-08-25T08:37:52.591Z"
   },
   {
    "duration": 741,
    "start_time": "2021-08-25T08:38:02.559Z"
   },
   {
    "duration": 255,
    "start_time": "2021-08-25T08:38:28.121Z"
   },
   {
    "duration": 78,
    "start_time": "2021-08-25T08:38:38.675Z"
   },
   {
    "duration": 107,
    "start_time": "2021-08-25T08:39:15.372Z"
   },
   {
    "duration": 248,
    "start_time": "2021-08-25T08:39:20.468Z"
   },
   {
    "duration": 327,
    "start_time": "2021-08-25T08:44:33.737Z"
   },
   {
    "duration": 49,
    "start_time": "2021-08-25T08:44:50.288Z"
   },
   {
    "duration": 297,
    "start_time": "2021-08-25T08:46:12.417Z"
   },
   {
    "duration": 317,
    "start_time": "2021-08-25T08:46:43.273Z"
   },
   {
    "duration": 542,
    "start_time": "2021-08-25T08:47:09.780Z"
   },
   {
    "duration": 54,
    "start_time": "2021-08-25T08:47:54.212Z"
   },
   {
    "duration": 370,
    "start_time": "2021-08-25T08:53:30.677Z"
   },
   {
    "duration": 332,
    "start_time": "2021-08-25T08:53:36.355Z"
   },
   {
    "duration": 58,
    "start_time": "2021-08-25T08:57:36.364Z"
   },
   {
    "duration": 84,
    "start_time": "2021-08-25T08:58:03.429Z"
   },
   {
    "duration": 52,
    "start_time": "2021-08-25T08:58:41.168Z"
   },
   {
    "duration": 17,
    "start_time": "2021-08-25T08:58:55.840Z"
   },
   {
    "duration": 328,
    "start_time": "2021-08-25T08:58:59.976Z"
   },
   {
    "duration": 76,
    "start_time": "2021-08-25T08:59:17.725Z"
   },
   {
    "duration": 15,
    "start_time": "2021-08-25T08:59:17.804Z"
   },
   {
    "duration": 21,
    "start_time": "2021-08-25T08:59:17.864Z"
   },
   {
    "duration": 21,
    "start_time": "2021-08-25T08:59:17.888Z"
   },
   {
    "duration": 96,
    "start_time": "2021-08-25T08:59:17.911Z"
   },
   {
    "duration": 25,
    "start_time": "2021-08-25T08:59:18.010Z"
   },
   {
    "duration": 102,
    "start_time": "2021-08-25T08:59:18.037Z"
   },
   {
    "duration": 24,
    "start_time": "2021-08-25T08:59:18.143Z"
   },
   {
    "duration": 19,
    "start_time": "2021-08-25T08:59:18.170Z"
   },
   {
    "duration": 31,
    "start_time": "2021-08-25T08:59:18.191Z"
   },
   {
    "duration": 71,
    "start_time": "2021-08-25T08:59:18.225Z"
   },
   {
    "duration": 8,
    "start_time": "2021-08-25T08:59:18.299Z"
   },
   {
    "duration": 13,
    "start_time": "2021-08-25T08:59:18.309Z"
   },
   {
    "duration": 47,
    "start_time": "2021-08-25T08:59:18.325Z"
   },
   {
    "duration": 51,
    "start_time": "2021-08-25T08:59:18.374Z"
   },
   {
    "duration": 47,
    "start_time": "2021-08-25T08:59:18.428Z"
   },
   {
    "duration": 48,
    "start_time": "2021-08-25T08:59:18.478Z"
   },
   {
    "duration": 52,
    "start_time": "2021-08-25T08:59:18.528Z"
   },
   {
    "duration": 39,
    "start_time": "2021-08-25T08:59:18.582Z"
   },
   {
    "duration": 68,
    "start_time": "2021-08-25T08:59:18.623Z"
   },
   {
    "duration": 18,
    "start_time": "2021-08-25T08:59:18.694Z"
   },
   {
    "duration": 3,
    "start_time": "2021-08-25T08:59:18.714Z"
   },
   {
    "duration": 30,
    "start_time": "2021-08-25T08:59:18.763Z"
   },
   {
    "duration": 27,
    "start_time": "2021-08-25T08:59:18.796Z"
   },
   {
    "duration": 40,
    "start_time": "2021-08-25T08:59:18.825Z"
   },
   {
    "duration": 132,
    "start_time": "2021-08-25T08:59:18.867Z"
   },
   {
    "duration": 36,
    "start_time": "2021-08-25T08:59:19.002Z"
   },
   {
    "duration": 58,
    "start_time": "2021-08-25T08:59:19.040Z"
   },
   {
    "duration": 9,
    "start_time": "2021-08-25T08:59:19.100Z"
   },
   {
    "duration": 22,
    "start_time": "2021-08-25T08:59:19.112Z"
   },
   {
    "duration": 66,
    "start_time": "2021-08-25T08:59:19.136Z"
   },
   {
    "duration": 66,
    "start_time": "2021-08-25T08:59:19.204Z"
   },
   {
    "duration": 28,
    "start_time": "2021-08-25T08:59:19.273Z"
   },
   {
    "duration": 29,
    "start_time": "2021-08-25T08:59:19.303Z"
   },
   {
    "duration": 79,
    "start_time": "2021-08-25T08:59:19.334Z"
   },
   {
    "duration": 18,
    "start_time": "2021-08-25T08:59:19.416Z"
   },
   {
    "duration": 949,
    "start_time": "2021-08-25T08:59:19.437Z"
   },
   {
    "duration": 9,
    "start_time": "2021-08-25T08:59:20.389Z"
   },
   {
    "duration": 4044,
    "start_time": "2021-08-25T08:59:20.400Z"
   },
   {
    "duration": 48,
    "start_time": "2021-08-25T08:59:24.447Z"
   },
   {
    "duration": 67,
    "start_time": "2021-08-25T08:59:24.497Z"
   },
   {
    "duration": 53,
    "start_time": "2021-08-25T09:02:59.662Z"
   },
   {
    "duration": 70,
    "start_time": "2021-08-25T09:03:25.835Z"
   },
   {
    "duration": 62,
    "start_time": "2021-08-25T09:03:29.442Z"
   },
   {
    "duration": 60,
    "start_time": "2021-08-25T09:03:41.060Z"
   },
   {
    "duration": 7951,
    "start_time": "2021-08-25T09:04:13.406Z"
   },
   {
    "duration": 55,
    "start_time": "2021-08-25T09:04:33.471Z"
   },
   {
    "duration": 317,
    "start_time": "2021-08-25T09:04:38.375Z"
   },
   {
    "duration": 279,
    "start_time": "2021-08-25T09:04:56.511Z"
   },
   {
    "duration": 324,
    "start_time": "2021-08-25T09:05:30.171Z"
   },
   {
    "duration": 57,
    "start_time": "2021-08-25T09:05:40.683Z"
   },
   {
    "duration": 433,
    "start_time": "2021-08-25T09:06:01.556Z"
   },
   {
    "duration": 53,
    "start_time": "2021-08-25T09:06:30.570Z"
   },
   {
    "duration": 52,
    "start_time": "2021-08-25T09:06:49.904Z"
   },
   {
    "duration": 54,
    "start_time": "2021-08-25T09:08:29.678Z"
   },
   {
    "duration": 109,
    "start_time": "2021-08-25T09:08:45.016Z"
   },
   {
    "duration": 53,
    "start_time": "2021-08-25T09:08:51.046Z"
   },
   {
    "duration": 96,
    "start_time": "2021-08-25T09:13:37.929Z"
   },
   {
    "duration": 81,
    "start_time": "2021-08-25T09:15:00.631Z"
   },
   {
    "duration": 153,
    "start_time": "2021-08-25T09:15:05.838Z"
   },
   {
    "duration": 75,
    "start_time": "2021-08-25T09:15:17.079Z"
   },
   {
    "duration": 7818,
    "start_time": "2021-08-25T09:15:38.002Z"
   },
   {
    "duration": 49,
    "start_time": "2021-08-25T09:15:46.857Z"
   },
   {
    "duration": 312,
    "start_time": "2021-08-25T09:15:56.474Z"
   },
   {
    "duration": 51,
    "start_time": "2021-08-25T09:16:40.805Z"
   },
   {
    "duration": 7311,
    "start_time": "2021-08-25T09:16:53.358Z"
   },
   {
    "duration": 53,
    "start_time": "2021-08-25T09:17:06.798Z"
   },
   {
    "duration": 308,
    "start_time": "2021-08-25T09:19:23.024Z"
   },
   {
    "duration": 83,
    "start_time": "2021-08-25T09:20:04.042Z"
   },
   {
    "duration": 488,
    "start_time": "2021-08-25T09:20:09.955Z"
   },
   {
    "duration": 293,
    "start_time": "2021-08-25T09:20:38.581Z"
   },
   {
    "duration": 300,
    "start_time": "2021-08-25T09:20:48.660Z"
   },
   {
    "duration": 87,
    "start_time": "2021-08-25T09:21:40.448Z"
   },
   {
    "duration": 320,
    "start_time": "2021-08-25T09:25:35.695Z"
   },
   {
    "duration": 359,
    "start_time": "2021-08-25T09:25:54.890Z"
   },
   {
    "duration": 50,
    "start_time": "2021-08-25T09:26:17.619Z"
   },
   {
    "duration": 416,
    "start_time": "2021-08-25T09:30:32.475Z"
   },
   {
    "duration": 305,
    "start_time": "2021-08-25T09:38:48.961Z"
   },
   {
    "duration": 77,
    "start_time": "2021-08-25T09:39:47.077Z"
   },
   {
    "duration": 52,
    "start_time": "2021-08-25T09:39:56.109Z"
   },
   {
    "duration": 56,
    "start_time": "2021-08-25T09:40:33.848Z"
   },
   {
    "duration": 52,
    "start_time": "2021-08-25T09:42:06.478Z"
   },
   {
    "duration": 54,
    "start_time": "2021-08-25T09:42:19.840Z"
   },
   {
    "duration": 332,
    "start_time": "2021-08-25T09:50:21.526Z"
   },
   {
    "duration": 59,
    "start_time": "2021-08-25T09:50:25.342Z"
   },
   {
    "duration": 20,
    "start_time": "2021-08-25T09:51:29.989Z"
   },
   {
    "duration": 303,
    "start_time": "2021-08-25T09:54:31.087Z"
   },
   {
    "duration": 12,
    "start_time": "2021-08-25T09:54:39.021Z"
   },
   {
    "duration": 20,
    "start_time": "2021-08-25T09:54:47.062Z"
   },
   {
    "duration": 63,
    "start_time": "2021-08-25T09:54:50.511Z"
   },
   {
    "duration": 15,
    "start_time": "2021-08-25T09:55:44.235Z"
   },
   {
    "duration": 58,
    "start_time": "2021-08-25T09:56:08.140Z"
   },
   {
    "duration": 57,
    "start_time": "2021-08-25T09:57:12.273Z"
   },
   {
    "duration": 59,
    "start_time": "2021-08-25T09:57:58.363Z"
   },
   {
    "duration": 329,
    "start_time": "2021-08-25T10:04:19.667Z"
   },
   {
    "duration": 57,
    "start_time": "2021-08-25T10:04:30.531Z"
   },
   {
    "duration": 61,
    "start_time": "2021-08-25T10:04:42.100Z"
   },
   {
    "duration": 60,
    "start_time": "2021-08-25T10:04:59.586Z"
   },
   {
    "duration": 89,
    "start_time": "2021-08-25T10:06:06.634Z"
   },
   {
    "duration": 451,
    "start_time": "2021-08-25T10:06:17.908Z"
   },
   {
    "duration": 64,
    "start_time": "2021-08-25T10:06:41.299Z"
   },
   {
    "duration": 56,
    "start_time": "2021-08-25T10:07:47.273Z"
   },
   {
    "duration": 80,
    "start_time": "2021-08-25T10:09:40.752Z"
   },
   {
    "duration": 60,
    "start_time": "2021-08-25T10:09:59.508Z"
   },
   {
    "duration": 118,
    "start_time": "2021-08-25T10:11:25.646Z"
   },
   {
    "duration": 79,
    "start_time": "2021-08-25T10:11:40.551Z"
   },
   {
    "duration": 63,
    "start_time": "2021-08-25T10:11:58.120Z"
   },
   {
    "duration": 55,
    "start_time": "2021-08-25T10:12:09.305Z"
   },
   {
    "duration": 98,
    "start_time": "2021-08-25T10:12:32.419Z"
   },
   {
    "duration": 59,
    "start_time": "2021-08-25T10:12:39.091Z"
   },
   {
    "duration": 104,
    "start_time": "2021-08-25T10:13:15.366Z"
   },
   {
    "duration": 341,
    "start_time": "2021-08-25T10:14:56.741Z"
   },
   {
    "duration": 385,
    "start_time": "2021-08-25T10:15:16.109Z"
   },
   {
    "duration": 68,
    "start_time": "2021-08-25T10:15:25.063Z"
   },
   {
    "duration": 54,
    "start_time": "2021-08-25T10:16:29.499Z"
   },
   {
    "duration": 67,
    "start_time": "2021-08-25T10:16:34.250Z"
   },
   {
    "duration": 69,
    "start_time": "2021-08-25T10:17:00.020Z"
   },
   {
    "duration": 73,
    "start_time": "2021-08-25T10:17:40.520Z"
   },
   {
    "duration": 68,
    "start_time": "2021-08-25T10:18:01.553Z"
   },
   {
    "duration": 107,
    "start_time": "2021-08-25T10:18:29.938Z"
   },
   {
    "duration": 62,
    "start_time": "2021-08-25T10:19:01.824Z"
   },
   {
    "duration": 62,
    "start_time": "2021-08-25T10:22:41.354Z"
   },
   {
    "duration": 60,
    "start_time": "2021-08-25T10:22:51.291Z"
   },
   {
    "duration": 46,
    "start_time": "2021-08-25T11:57:22.391Z"
   },
   {
    "duration": 29,
    "start_time": "2021-08-25T12:13:18.621Z"
   },
   {
    "duration": 320,
    "start_time": "2021-08-25T12:40:40.118Z"
   },
   {
    "duration": 56,
    "start_time": "2021-08-25T12:41:08.344Z"
   },
   {
    "duration": 58,
    "start_time": "2021-08-25T12:43:39.368Z"
   },
   {
    "duration": 270,
    "start_time": "2021-08-25T12:44:34.717Z"
   },
   {
    "duration": 59,
    "start_time": "2021-08-25T12:45:03.718Z"
   },
   {
    "duration": 58,
    "start_time": "2021-08-25T12:46:34.157Z"
   },
   {
    "duration": 57,
    "start_time": "2021-08-25T12:46:41.862Z"
   },
   {
    "duration": 58,
    "start_time": "2021-08-25T12:46:53.357Z"
   },
   {
    "duration": 60,
    "start_time": "2021-08-25T12:47:31.642Z"
   },
   {
    "duration": 55,
    "start_time": "2021-08-25T12:49:11.110Z"
   },
   {
    "duration": 55,
    "start_time": "2021-08-25T12:53:04.148Z"
   },
   {
    "duration": 315,
    "start_time": "2021-08-25T12:55:06.021Z"
   },
   {
    "duration": 314,
    "start_time": "2021-08-25T12:55:13.653Z"
   },
   {
    "duration": 299,
    "start_time": "2021-08-25T12:55:39.375Z"
   },
   {
    "duration": 57,
    "start_time": "2021-08-25T12:56:17.418Z"
   },
   {
    "duration": 55,
    "start_time": "2021-08-25T12:59:32.823Z"
   },
   {
    "duration": 322,
    "start_time": "2021-08-25T14:59:47.685Z"
   },
   {
    "duration": 321,
    "start_time": "2021-08-25T15:00:24.112Z"
   },
   {
    "duration": 62,
    "start_time": "2021-08-25T15:16:21.482Z"
   },
   {
    "duration": 763,
    "start_time": "2021-08-25T15:40:52.737Z"
   },
   {
    "duration": 744,
    "start_time": "2021-08-25T15:41:14.778Z"
   },
   {
    "duration": 297,
    "start_time": "2021-08-25T15:46:12.893Z"
   },
   {
    "duration": 375,
    "start_time": "2021-08-25T15:47:25.810Z"
   },
   {
    "duration": 328,
    "start_time": "2021-08-25T15:47:39.308Z"
   },
   {
    "duration": 338,
    "start_time": "2021-08-25T15:47:56.269Z"
   },
   {
    "duration": 61,
    "start_time": "2021-08-25T15:51:26.835Z"
   },
   {
    "duration": 62,
    "start_time": "2021-08-25T16:37:07.088Z"
   },
   {
    "duration": 861,
    "start_time": "2021-08-25T17:27:32.913Z"
   },
   {
    "duration": 14,
    "start_time": "2021-08-25T17:27:33.777Z"
   },
   {
    "duration": 20,
    "start_time": "2021-08-25T17:27:33.794Z"
   },
   {
    "duration": 21,
    "start_time": "2021-08-25T17:27:33.816Z"
   },
   {
    "duration": 81,
    "start_time": "2021-08-25T17:27:33.840Z"
   },
   {
    "duration": 49,
    "start_time": "2021-08-25T17:27:33.923Z"
   },
   {
    "duration": 128,
    "start_time": "2021-08-25T17:27:33.975Z"
   },
   {
    "duration": 12,
    "start_time": "2021-08-25T17:27:34.106Z"
   },
   {
    "duration": 44,
    "start_time": "2021-08-25T17:27:34.123Z"
   },
   {
    "duration": 8682,
    "start_time": "2021-08-25T17:27:34.171Z"
   },
   {
    "duration": 18,
    "start_time": "2021-08-25T17:27:42.856Z"
   },
   {
    "duration": 18,
    "start_time": "2021-08-25T17:27:42.877Z"
   },
   {
    "duration": 25,
    "start_time": "2021-08-25T17:27:42.898Z"
   },
   {
    "duration": 17,
    "start_time": "2021-08-25T17:27:42.926Z"
   },
   {
    "duration": 79,
    "start_time": "2021-08-25T17:27:42.945Z"
   },
   {
    "duration": 82,
    "start_time": "2021-08-25T17:27:43.026Z"
   },
   {
    "duration": 67,
    "start_time": "2021-08-25T17:27:43.110Z"
   },
   {
    "duration": 14,
    "start_time": "2021-08-25T17:27:43.180Z"
   },
   {
    "duration": 2,
    "start_time": "2021-08-25T17:27:43.197Z"
   },
   {
    "duration": 65,
    "start_time": "2021-08-25T17:27:43.202Z"
   },
   {
    "duration": 20,
    "start_time": "2021-08-25T17:27:43.269Z"
   },
   {
    "duration": 15,
    "start_time": "2021-08-25T17:27:43.291Z"
   },
   {
    "duration": 80,
    "start_time": "2021-08-25T17:27:43.308Z"
   },
   {
    "duration": 77,
    "start_time": "2021-08-25T17:27:43.390Z"
   },
   {
    "duration": 9,
    "start_time": "2021-08-25T17:27:43.469Z"
   },
   {
    "duration": 19,
    "start_time": "2021-08-25T17:27:43.480Z"
   },
   {
    "duration": 89,
    "start_time": "2021-08-25T17:27:43.504Z"
   },
   {
    "duration": 28,
    "start_time": "2021-08-25T17:27:43.596Z"
   },
   {
    "duration": 74,
    "start_time": "2021-08-25T17:27:43.626Z"
   },
   {
    "duration": 11,
    "start_time": "2021-08-25T17:27:43.702Z"
   },
   {
    "duration": 953,
    "start_time": "2021-08-25T17:27:43.716Z"
   },
   {
    "duration": 9,
    "start_time": "2021-08-25T17:27:44.671Z"
   },
   {
    "duration": 3670,
    "start_time": "2021-08-25T17:27:44.682Z"
   },
   {
    "duration": 75,
    "start_time": "2021-08-25T17:27:48.354Z"
   },
   {
    "duration": 750,
    "start_time": "2022-01-28T17:28:22.754Z"
   },
   {
    "duration": 12,
    "start_time": "2022-01-28T17:28:23.506Z"
   },
   {
    "duration": 19,
    "start_time": "2022-01-28T17:28:23.520Z"
   },
   {
    "duration": 13,
    "start_time": "2022-01-28T17:28:23.540Z"
   },
   {
    "duration": 48,
    "start_time": "2022-01-28T17:28:23.555Z"
   },
   {
    "duration": 15,
    "start_time": "2022-01-28T17:28:23.605Z"
   },
   {
    "duration": 74,
    "start_time": "2022-01-28T17:28:23.621Z"
   },
   {
    "duration": 7,
    "start_time": "2022-01-28T17:28:23.697Z"
   },
   {
    "duration": 28,
    "start_time": "2022-01-28T17:28:23.706Z"
   },
   {
    "duration": 2990,
    "start_time": "2022-01-28T17:28:23.736Z"
   },
   {
    "duration": 1541,
    "start_time": "2022-01-28T17:28:25.187Z"
   },
   {
    "duration": 1538,
    "start_time": "2022-01-28T17:28:25.191Z"
   },
   {
    "duration": 1534,
    "start_time": "2022-01-28T17:28:25.195Z"
   },
   {
    "duration": 1532,
    "start_time": "2022-01-28T17:28:25.198Z"
   },
   {
    "duration": 1528,
    "start_time": "2022-01-28T17:28:25.202Z"
   },
   {
    "duration": 1526,
    "start_time": "2022-01-28T17:28:25.205Z"
   },
   {
    "duration": 1523,
    "start_time": "2022-01-28T17:28:25.208Z"
   },
   {
    "duration": 1522,
    "start_time": "2022-01-28T17:28:25.210Z"
   },
   {
    "duration": 1520,
    "start_time": "2022-01-28T17:28:25.213Z"
   },
   {
    "duration": 1517,
    "start_time": "2022-01-28T17:28:25.217Z"
   },
   {
    "duration": 1514,
    "start_time": "2022-01-28T17:28:25.220Z"
   },
   {
    "duration": 1512,
    "start_time": "2022-01-28T17:28:25.223Z"
   },
   {
    "duration": 1509,
    "start_time": "2022-01-28T17:28:25.226Z"
   },
   {
    "duration": 1507,
    "start_time": "2022-01-28T17:28:25.229Z"
   },
   {
    "duration": 1504,
    "start_time": "2022-01-28T17:28:25.233Z"
   },
   {
    "duration": 1501,
    "start_time": "2022-01-28T17:28:25.236Z"
   },
   {
    "duration": 1499,
    "start_time": "2022-01-28T17:28:25.239Z"
   },
   {
    "duration": 1496,
    "start_time": "2022-01-28T17:28:25.243Z"
   },
   {
    "duration": 1493,
    "start_time": "2022-01-28T17:28:25.246Z"
   },
   {
    "duration": 1491,
    "start_time": "2022-01-28T17:28:25.249Z"
   },
   {
    "duration": 1489,
    "start_time": "2022-01-28T17:28:25.252Z"
   },
   {
    "duration": 1487,
    "start_time": "2022-01-28T17:28:25.255Z"
   },
   {
    "duration": 1484,
    "start_time": "2022-01-28T17:28:25.258Z"
   },
   {
    "duration": 1483,
    "start_time": "2022-01-28T17:28:25.262Z"
   },
   {
    "duration": 1794,
    "start_time": "2022-01-28T17:35:55.651Z"
   },
   {
    "duration": 42,
    "start_time": "2022-01-28T17:36:08.851Z"
   },
   {
    "duration": 4,
    "start_time": "2022-01-28T17:36:08.895Z"
   },
   {
    "duration": 8,
    "start_time": "2022-01-28T17:36:08.901Z"
   },
   {
    "duration": 9,
    "start_time": "2022-01-28T17:36:08.911Z"
   },
   {
    "duration": 9,
    "start_time": "2022-01-28T17:36:08.921Z"
   },
   {
    "duration": 67,
    "start_time": "2022-01-28T17:36:08.931Z"
   },
   {
    "duration": 33,
    "start_time": "2022-01-28T17:36:08.999Z"
   },
   {
    "duration": 43,
    "start_time": "2022-01-28T17:36:09.034Z"
   },
   {
    "duration": 11,
    "start_time": "2022-01-28T17:36:09.079Z"
   },
   {
    "duration": 2,
    "start_time": "2022-01-28T17:36:09.092Z"
   },
   {
    "duration": 17,
    "start_time": "2022-01-28T17:36:09.095Z"
   },
   {
    "duration": 12,
    "start_time": "2022-01-28T17:36:09.114Z"
   },
   {
    "duration": 9,
    "start_time": "2022-01-28T17:36:09.127Z"
   },
   {
    "duration": 63,
    "start_time": "2022-01-28T17:36:09.137Z"
   },
   {
    "duration": 34,
    "start_time": "2022-01-28T17:36:09.202Z"
   },
   {
    "duration": 5,
    "start_time": "2022-01-28T17:36:09.237Z"
   },
   {
    "duration": 32,
    "start_time": "2022-01-28T17:36:09.244Z"
   },
   {
    "duration": 42,
    "start_time": "2022-01-28T17:36:09.279Z"
   },
   {
    "duration": 18,
    "start_time": "2022-01-28T17:36:09.322Z"
   },
   {
    "duration": 57,
    "start_time": "2022-01-28T17:36:09.341Z"
   },
   {
    "duration": 8,
    "start_time": "2022-01-28T17:36:09.400Z"
   },
   {
    "duration": 637,
    "start_time": "2022-01-28T17:36:09.410Z"
   },
   {
    "duration": 5,
    "start_time": "2022-01-28T17:36:10.050Z"
   },
   {
    "duration": 2739,
    "start_time": "2022-01-28T17:36:10.057Z"
   },
   {
    "duration": 42,
    "start_time": "2022-01-28T17:36:12.797Z"
   }
  ],
  "kernelspec": {
   "display_name": "Python 3 (ipykernel)",
   "language": "python",
   "name": "python3"
  },
  "language_info": {
   "codemirror_mode": {
    "name": "ipython",
    "version": 3
   },
   "file_extension": ".py",
   "mimetype": "text/x-python",
   "name": "python",
   "nbconvert_exporter": "python",
   "pygments_lexer": "ipython3",
   "version": "3.9.6"
  },
  "toc": {
   "base_numbering": "1",
   "nav_menu": {
    "height": "269px",
    "width": "331px"
   },
   "number_sections": true,
   "sideBar": true,
   "skip_h1_title": true,
   "title_cell": "Содержание",
   "title_sidebar": "Исследование надёжности заёмщиков",
   "toc_cell": false,
   "toc_position": {
    "height": "calc(100% - 180px)",
    "left": "10px",
    "top": "150px",
    "width": "306px"
   },
   "toc_section_display": true,
   "toc_window_display": false
  }
 },
 "nbformat": 4,
 "nbformat_minor": 4
}
