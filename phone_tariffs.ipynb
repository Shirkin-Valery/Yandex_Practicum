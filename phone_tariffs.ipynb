{
 "cells": [
  {
   "cell_type": "code",
   "execution_count": 1,
   "metadata": {},
   "outputs": [
    {
     "data": {
      "text/html": [
       "<style>.container { width:90% !important; }</style>"
      ],
      "text/plain": [
       "<IPython.core.display.HTML object>"
      ]
     },
     "metadata": {},
     "output_type": "display_data"
    }
   ],
   "source": [
    "from IPython.core.display import display, HTML\n",
    "display(HTML(\"<style>.container { width:90% !important; }</style>\"))"
   ]
  },
  {
   "cell_type": "code",
   "execution_count": 2,
   "metadata": {},
   "outputs": [],
   "source": [
    "import pandas as pd\n",
    "import matplotlib\n",
    "import matplotlib.pyplot as plt\n",
    "import numpy as np\n",
    "import seaborn as sns\n",
    "from sklearn import tree\n",
    "matplotlib.style.use('ggplot')\n",
    "%matplotlib inline\n",
    "from sklearn.model_selection import train_test_split # импорт библиотеки для сплита\n",
    "from sklearn.tree import DecisionTreeClassifier\n",
    "from sklearn.metrics import accuracy_score \n",
    "from sklearn import metrics\n",
    "from sklearn.ensemble import RandomForestClassifier\n",
    "from sklearn.linear_model import LogisticRegression\n",
    "\n",
    "from sklearn.model_selection import GridSearchCV\n",
    "from sklearn.dummy import DummyClassifier"
   ]
  },
  {
   "cell_type": "markdown",
   "metadata": {},
   "source": [
    "# Описание бизнес-проблемы\n",
    "Выявлено, что многие клиенты пользуются архивными тарифами у оператора мобильной связи «Мегалайн». Необходимо сформировать систему, способную проанализировать поведение клиентов и предложить пользователям новый тариф: «Смарт» или «Ультра»."
   ]
  },
  {
   "cell_type": "markdown",
   "metadata": {},
   "source": [
    "# Задача \n",
    "Построить модель, которая выберет подходящий тариф с максимально большим значением *accuracy*, не менее 0.75."
   ]
  },
  {
   "cell_type": "markdown",
   "metadata": {},
   "source": [
    "# План\n",
    "1. Провести анализ и чистку данных\n",
    "2. Сформировать тренировучную, проверочную и тестовую выборки\n",
    "3. Провести исследование моделей следующими методами:\n",
    "- Дерево решений (DecisionTreeClassifier)\n",
    "- Случайныйы лес (RandomForestClassifier)\n",
    "- Логистическая регрессия (LogisticRegression)\n",
    "4. Выбрать лучшую из моделей по критериям качества accuracy более 0.75\n",
    "5. Проверить модель на тестовой выборке (эмитация продакшена)\n",
    "6. Проверьте модель на адекватность"
   ]
  },
  {
   "cell_type": "markdown",
   "metadata": {},
   "source": [
    "## Оценка  данных"
   ]
  },
  {
   "cell_type": "code",
   "execution_count": 3,
   "metadata": {},
   "outputs": [],
   "source": [
    "data = pd.read_csv(r'C:\\Users\\Integro\\Desktop\\Обучение\\YandexPracticum\\Git Hub\\users_behavior.csv')"
   ]
  },
  {
   "cell_type": "code",
   "execution_count": 4,
   "metadata": {},
   "outputs": [
    {
     "data": {
      "text/html": [
       "<div>\n",
       "<style scoped>\n",
       "    .dataframe tbody tr th:only-of-type {\n",
       "        vertical-align: middle;\n",
       "    }\n",
       "\n",
       "    .dataframe tbody tr th {\n",
       "        vertical-align: top;\n",
       "    }\n",
       "\n",
       "    .dataframe thead th {\n",
       "        text-align: right;\n",
       "    }\n",
       "</style>\n",
       "<table border=\"1\" class=\"dataframe\">\n",
       "  <thead>\n",
       "    <tr style=\"text-align: right;\">\n",
       "      <th></th>\n",
       "      <th>calls</th>\n",
       "      <th>minutes</th>\n",
       "      <th>messages</th>\n",
       "      <th>mb_used</th>\n",
       "      <th>is_ultra</th>\n",
       "    </tr>\n",
       "  </thead>\n",
       "  <tbody>\n",
       "    <tr>\n",
       "      <th>0</th>\n",
       "      <td>40.0</td>\n",
       "      <td>311.90</td>\n",
       "      <td>83.0</td>\n",
       "      <td>19915.42</td>\n",
       "      <td>0</td>\n",
       "    </tr>\n",
       "    <tr>\n",
       "      <th>1</th>\n",
       "      <td>85.0</td>\n",
       "      <td>516.75</td>\n",
       "      <td>56.0</td>\n",
       "      <td>22696.96</td>\n",
       "      <td>0</td>\n",
       "    </tr>\n",
       "    <tr>\n",
       "      <th>2</th>\n",
       "      <td>77.0</td>\n",
       "      <td>467.66</td>\n",
       "      <td>86.0</td>\n",
       "      <td>21060.45</td>\n",
       "      <td>0</td>\n",
       "    </tr>\n",
       "    <tr>\n",
       "      <th>3</th>\n",
       "      <td>106.0</td>\n",
       "      <td>745.53</td>\n",
       "      <td>81.0</td>\n",
       "      <td>8437.39</td>\n",
       "      <td>1</td>\n",
       "    </tr>\n",
       "    <tr>\n",
       "      <th>4</th>\n",
       "      <td>66.0</td>\n",
       "      <td>418.74</td>\n",
       "      <td>1.0</td>\n",
       "      <td>14502.75</td>\n",
       "      <td>0</td>\n",
       "    </tr>\n",
       "    <tr>\n",
       "      <th>...</th>\n",
       "      <td>...</td>\n",
       "      <td>...</td>\n",
       "      <td>...</td>\n",
       "      <td>...</td>\n",
       "      <td>...</td>\n",
       "    </tr>\n",
       "    <tr>\n",
       "      <th>3209</th>\n",
       "      <td>122.0</td>\n",
       "      <td>910.98</td>\n",
       "      <td>20.0</td>\n",
       "      <td>35124.90</td>\n",
       "      <td>1</td>\n",
       "    </tr>\n",
       "    <tr>\n",
       "      <th>3210</th>\n",
       "      <td>25.0</td>\n",
       "      <td>190.36</td>\n",
       "      <td>0.0</td>\n",
       "      <td>3275.61</td>\n",
       "      <td>0</td>\n",
       "    </tr>\n",
       "    <tr>\n",
       "      <th>3211</th>\n",
       "      <td>97.0</td>\n",
       "      <td>634.44</td>\n",
       "      <td>70.0</td>\n",
       "      <td>13974.06</td>\n",
       "      <td>0</td>\n",
       "    </tr>\n",
       "    <tr>\n",
       "      <th>3212</th>\n",
       "      <td>64.0</td>\n",
       "      <td>462.32</td>\n",
       "      <td>90.0</td>\n",
       "      <td>31239.78</td>\n",
       "      <td>0</td>\n",
       "    </tr>\n",
       "    <tr>\n",
       "      <th>3213</th>\n",
       "      <td>80.0</td>\n",
       "      <td>566.09</td>\n",
       "      <td>6.0</td>\n",
       "      <td>29480.52</td>\n",
       "      <td>1</td>\n",
       "    </tr>\n",
       "  </tbody>\n",
       "</table>\n",
       "<p>3214 rows × 5 columns</p>\n",
       "</div>"
      ],
      "text/plain": [
       "      calls  minutes  messages   mb_used  is_ultra\n",
       "0      40.0   311.90      83.0  19915.42         0\n",
       "1      85.0   516.75      56.0  22696.96         0\n",
       "2      77.0   467.66      86.0  21060.45         0\n",
       "3     106.0   745.53      81.0   8437.39         1\n",
       "4      66.0   418.74       1.0  14502.75         0\n",
       "...     ...      ...       ...       ...       ...\n",
       "3209  122.0   910.98      20.0  35124.90         1\n",
       "3210   25.0   190.36       0.0   3275.61         0\n",
       "3211   97.0   634.44      70.0  13974.06         0\n",
       "3212   64.0   462.32      90.0  31239.78         0\n",
       "3213   80.0   566.09       6.0  29480.52         1\n",
       "\n",
       "[3214 rows x 5 columns]"
      ]
     },
     "execution_count": 4,
     "metadata": {},
     "output_type": "execute_result"
    }
   ],
   "source": [
    "data"
   ]
  },
  {
   "cell_type": "code",
   "execution_count": 5,
   "metadata": {},
   "outputs": [
    {
     "name": "stdout",
     "output_type": "stream",
     "text": [
      "<class 'pandas.core.frame.DataFrame'>\n",
      "RangeIndex: 3214 entries, 0 to 3213\n",
      "Data columns (total 5 columns):\n",
      " #   Column    Non-Null Count  Dtype  \n",
      "---  ------    --------------  -----  \n",
      " 0   calls     3214 non-null   float64\n",
      " 1   minutes   3214 non-null   float64\n",
      " 2   messages  3214 non-null   float64\n",
      " 3   mb_used   3214 non-null   float64\n",
      " 4   is_ultra  3214 non-null   int64  \n",
      "dtypes: float64(4), int64(1)\n",
      "memory usage: 125.7 KB\n"
     ]
    }
   ],
   "source": [
    "data.info()"
   ]
  },
  {
   "cell_type": "markdown",
   "metadata": {},
   "source": [
    "**Вывод:** Перепроверили пропуски. С данными все  хорошо, что-то дополнительно править не придеться. "
   ]
  },
  {
   "cell_type": "markdown",
   "metadata": {},
   "source": [
    "## Разбиение данных на выборки"
   ]
  },
  {
   "cell_type": "markdown",
   "metadata": {},
   "source": [
    "Разделим исходные данные на обучающую, валидационную и тестовую выборки в соотношении (60/20/20)"
   ]
  },
  {
   "cell_type": "code",
   "execution_count": 6,
   "metadata": {},
   "outputs": [],
   "source": [
    "data_train, data_valid_and_test = train_test_split(data, test_size=0.40, random_state=42) # Разобьём выборку на тренировочную и валидационную + тестовую\n",
    "data_test, data_valid = train_test_split(data_valid_and_test, test_size=0.50, random_state=42)# Разобьём выборку на валидационную и тестовую"
   ]
  },
  {
   "cell_type": "markdown",
   "metadata": {},
   "source": [
    "Проверим как распределились выборки"
   ]
  },
  {
   "cell_type": "code",
   "execution_count": 7,
   "metadata": {
    "scrolled": true
   },
   "outputs": [
    {
     "name": "stdout",
     "output_type": "stream",
     "text": [
      "(1928, 5)\n",
      "(643, 5)\n",
      "(643, 5)\n"
     ]
    }
   ],
   "source": [
    "print(data_train.shape)\n",
    "print(data_valid.shape)\n",
    "print(data_test.shape)"
   ]
  },
  {
   "cell_type": "markdown",
   "metadata": {},
   "source": [
    "## Исследование моделей\n",
    "Проведем исследования следующими методами\n",
    "- Дерево решений (DecisionTreeClassifier)\n",
    "- Случайныйы лес (RandomForestClassifier)\n",
    "- Логистическая регрессия (LogisticRegression) "
   ]
  },
  {
   "cell_type": "markdown",
   "metadata": {},
   "source": [
    "### Дерево решений"
   ]
  },
  {
   "cell_type": "code",
   "execution_count": null,
   "metadata": {},
   "outputs": [],
   "source": []
  },
  {
   "cell_type": "markdown",
   "metadata": {},
   "source": [
    "Разделим на выборки на информативные переменные и целевые"
   ]
  },
  {
   "cell_type": "code",
   "execution_count": 8,
   "metadata": {},
   "outputs": [],
   "source": [
    "features_train = data_train.drop(['is_ultra'], axis=1)\n",
    "target_train = data_train['is_ultra'] \n",
    "features_valid = data_valid.drop(['is_ultra'], axis=1)\n",
    "target_valid = data_valid['is_ultra']\n",
    "features_test = data_test.drop(['is_ultra'], axis=1)\n",
    "target_test = data_test['is_ultra']"
   ]
  },
  {
   "cell_type": "markdown",
   "metadata": {},
   "source": [
    "Проведем обучение классификатором дерево решений"
   ]
  },
  {
   "cell_type": "code",
   "execution_count": 9,
   "metadata": {},
   "outputs": [
    {
     "data": {
      "text/plain": [
       "DecisionTreeClassifier(random_state=42)"
      ]
     },
     "execution_count": 9,
     "metadata": {},
     "output_type": "execute_result"
    }
   ],
   "source": [
    "model_DecisionTreeClassifier = DecisionTreeClassifier(random_state=42)\n",
    "model_DecisionTreeClassifier.fit(features_train, target_train)"
   ]
  },
  {
   "cell_type": "markdown",
   "metadata": {},
   "source": [
    "Оценим точнность предсказаний проверочной выборке"
   ]
  },
  {
   "cell_type": "code",
   "execution_count": 10,
   "metadata": {},
   "outputs": [
    {
     "name": "stdout",
     "output_type": "stream",
     "text": [
      "Accuracy\n",
      "Доля правильных ответов на проверочной выборке:72.94%\n"
     ]
    }
   ],
   "source": [
    "valid_predictions = model_DecisionTreeClassifier.predict(features_valid)\n",
    "print(\"Accuracy\")\n",
    "print(\"Доля правильных ответов на проверочной выборке:{:.2%}\".format(accuracy_score(target_valid, valid_predictions)))"
   ]
  },
  {
   "cell_type": "markdown",
   "metadata": {},
   "source": [
    "**Вывод:** Точность ниже 0.75. Качесто предсказания не удовлетворяет требованиям заказчика."
   ]
  },
  {
   "cell_type": "markdown",
   "metadata": {},
   "source": [
    "#### Проведем изменение гиперпараметорв"
   ]
  },
  {
   "cell_type": "markdown",
   "metadata": {},
   "source": [
    "Введем внешние ограничения изменим грубину веток дерева.(тут можно построить график)"
   ]
  },
  {
   "cell_type": "code",
   "execution_count": 11,
   "metadata": {},
   "outputs": [
    {
     "name": "stdout",
     "output_type": "stream",
     "text": [
      "\n",
      "Точность предсказаний лучшей модели: 81.18%: Глубина дерева 4: Минимальное количество объектов в листе 2: Минимальное количество разделений 2» \n"
     ]
    }
   ],
   "source": [
    "best_model = None\n",
    "best_result = 0\n",
    "best_min_samples_leaf = None\n",
    "best_min_samples_split = None\n",
    "accuracy_tree = []\n",
    "max_depth_tree =[]\n",
    "result = 0\n",
    "\n",
    "\n",
    "for depth in range(1, 30):\n",
    "    accuracy_tree.append(result)\n",
    "    max_depth_tree.append (depth)\n",
    "    for samples_leaf in range(2, 5):\n",
    "        for samples_split in range (2,6):\n",
    "            model = DecisionTreeClassifier(random_state=42,max_depth=depth, min_samples_leaf=samples_leaf,min_samples_split=samples_split) # создадим модель с заданной глубиной дерева\n",
    "            model.fit(features_train,target_train) # обучим модель\n",
    "            predictions_valid = model.predict(features_valid) # получим предсказания модели\n",
    "            result = accuracy_score(target_valid, predictions_valid)   # оценим качество модели\n",
    "\n",
    "#             print('max_depth {}:min_samples_leaf {}: min_samples_split {}: accuracy {:.2%}'.format(depth,samples_leaf,samples_split,result))\n",
    "            if result > best_result:\n",
    "                best_model = model\n",
    "                best_result = result\n",
    "                best_depth = depth\n",
    "                best_min_samples_leaf = samples_leaf\n",
    "                best_min_samples_split = samples_split\n",
    "                    \n",
    "print()\n",
    "print(\"Точность предсказаний лучшей модели: {:.2%}: Глубина дерева {}: Минимальное количество объектов в листе {}: Минимальное количество разделений {}» \".format(best_result,best_depth,best_min_samples_leaf,best_min_samples_split))"
   ]
  },
  {
   "cell_type": "markdown",
   "metadata": {},
   "source": [
    "**Оценим ценность каждого признака**"
   ]
  },
  {
   "cell_type": "code",
   "execution_count": 12,
   "metadata": {},
   "outputs": [
    {
     "data": {
      "text/html": [
       "<style type=\"text/css\">\n",
       "</style>\n",
       "<table id=\"T_00da0_\">\n",
       "  <thead>\n",
       "    <tr>\n",
       "      <th class=\"blank level0\" >&nbsp;</th>\n",
       "      <th class=\"col_heading level0 col0\" >feature</th>\n",
       "      <th class=\"col_heading level0 col1\" >importance</th>\n",
       "    </tr>\n",
       "  </thead>\n",
       "  <tbody>\n",
       "    <tr>\n",
       "      <th id=\"T_00da0_level0_row0\" class=\"row_heading level0 row0\" >1</th>\n",
       "      <td id=\"T_00da0_row0_col0\" class=\"data row0 col0\" >minutes</td>\n",
       "      <td id=\"T_00da0_row0_col1\" class=\"data row0 col1\" >31.77%</td>\n",
       "    </tr>\n",
       "    <tr>\n",
       "      <th id=\"T_00da0_level0_row1\" class=\"row_heading level0 row1\" >3</th>\n",
       "      <td id=\"T_00da0_row1_col0\" class=\"data row1 col0\" >mb_used</td>\n",
       "      <td id=\"T_00da0_row1_col1\" class=\"data row1 col1\" >31.03%</td>\n",
       "    </tr>\n",
       "    <tr>\n",
       "      <th id=\"T_00da0_level0_row2\" class=\"row_heading level0 row2\" >2</th>\n",
       "      <td id=\"T_00da0_row2_col0\" class=\"data row2 col0\" >messages</td>\n",
       "      <td id=\"T_00da0_row2_col1\" class=\"data row2 col1\" >19.08%</td>\n",
       "    </tr>\n",
       "    <tr>\n",
       "      <th id=\"T_00da0_level0_row3\" class=\"row_heading level0 row3\" >0</th>\n",
       "      <td id=\"T_00da0_row3_col0\" class=\"data row3 col0\" >calls</td>\n",
       "      <td id=\"T_00da0_row3_col1\" class=\"data row3 col1\" >18.12%</td>\n",
       "    </tr>\n",
       "  </tbody>\n",
       "</table>\n"
      ],
      "text/plain": [
       "<pandas.io.formats.style.Styler at 0x25f1afda4f0>"
      ]
     },
     "execution_count": 12,
     "metadata": {},
     "output_type": "execute_result"
    }
   ],
   "source": [
    "pd.DataFrame({'feature':features_train.columns,\n",
    "             'importance':model.feature_importances_}).sort_values('importance',ascending=False).style.format({'importance': '{:.2%}'.format})"
   ]
  },
  {
   "cell_type": "code",
   "execution_count": 13,
   "metadata": {},
   "outputs": [
    {
     "name": "stderr",
     "output_type": "stream",
     "text": [
      "C:\\Users\\Integro\\AppData\\Local\\Temp/ipykernel_20868/3391441791.py:8: UserWarning: FixedFormatter should only be used together with FixedLocator\n",
      "  ax.set_yticklabels(['{:.1%}'.format(x) for x in ax.get_yticks()])\n"
     ]
    },
    {
     "data": {
      "text/plain": [
       "<function matplotlib.pyplot.show(close=None, block=None)>"
      ]
     },
     "execution_count": 13,
     "metadata": {},
     "output_type": "execute_result"
    },
    {
     "data": {
      "image/png": "[encoded data removed]",
      "text/plain": [
       "<Figure size 1440x504 with 1 Axes>"
      ]
     },
     "metadata": {
      "needs_background": "light"
     },
     "output_type": "display_data"
    }
   ],
   "source": [
    "fig = plt.figure(figsize=(20, 7))\n",
    "ax = fig.add_subplot()\n",
    "plt.plot(max_depth_tree, accuracy_tree, label = 'Количество правильно предсказанных ответов')\n",
    "plt.title ('Зависимость количества правильно предсказанных ответов от количества деревьев ')\n",
    "plt.legend(loc = 'lower right')\n",
    "plt.xlabel('Количество деревьев')\n",
    "plt.ylabel('Доля правильно предсказанных ответов ')\n",
    "ax.set_yticklabels(['{:.1%}'.format(x) for x in ax.get_yticks()])\n",
    "plt.show"
   ]
  },
  {
   "cell_type": "code",
   "execution_count": 14,
   "metadata": {},
   "outputs": [
    {
     "name": "stdout",
     "output_type": "stream",
     "text": [
      "Точность предсказаний лучшей модели: 81.18%: Глубина дерева 4: Минимальное количество объектов в листе 2: Минимальное количество разделений 2» \n"
     ]
    }
   ],
   "source": [
    "print(\"Точность предсказаний лучшей модели: {:.2%}: Глубина дерева {}: Минимальное количество объектов в листе {}: Минимальное количество разделений {}» \".format(best_result,best_depth,best_min_samples_leaf,best_min_samples_split))"
   ]
  },
  {
   "cell_type": "markdown",
   "metadata": {},
   "source": [
    "**Вывод:** после глубины дерева 11 accuracy сильно падает. Оптимальная глубина 4-5."
   ]
  },
  {
   "cell_type": "code",
   "execution_count": 15,
   "metadata": {},
   "outputs": [
    {
     "data": {
      "text/html": [
       "<div>\n",
       "<style scoped>\n",
       "    .dataframe tbody tr th:only-of-type {\n",
       "        vertical-align: middle;\n",
       "    }\n",
       "\n",
       "    .dataframe tbody tr th {\n",
       "        vertical-align: top;\n",
       "    }\n",
       "\n",
       "    .dataframe thead th {\n",
       "        text-align: right;\n",
       "    }\n",
       "</style>\n",
       "<table border=\"1\" class=\"dataframe\">\n",
       "  <thead>\n",
       "    <tr style=\"text-align: right;\">\n",
       "      <th></th>\n",
       "      <th>0</th>\n",
       "      <th>1</th>\n",
       "    </tr>\n",
       "  </thead>\n",
       "  <tbody>\n",
       "    <tr>\n",
       "      <th>0</th>\n",
       "      <td>378</td>\n",
       "      <td>70</td>\n",
       "    </tr>\n",
       "    <tr>\n",
       "      <th>1</th>\n",
       "      <td>87</td>\n",
       "      <td>108</td>\n",
       "    </tr>\n",
       "  </tbody>\n",
       "</table>\n",
       "</div>"
      ],
      "text/plain": [
       "     0    1\n",
       "0  378   70\n",
       "1   87  108"
      ]
     },
     "execution_count": 15,
     "metadata": {},
     "output_type": "execute_result"
    }
   ],
   "source": [
    "cat_mat = metrics.confusion_matrix(target_valid,predictions_valid)\n",
    "cat_mat = pd.DataFrame(cat_mat)\n",
    "cat_mat"
   ]
  },
  {
   "cell_type": "markdown",
   "metadata": {},
   "source": [
    "#### Визуализируем дерево"
   ]
  },
  {
   "cell_type": "code",
   "execution_count": 16,
   "metadata": {},
   "outputs": [
    {
     "data": {
      "image/png": "[encoded data removed]",
      "text/plain": [
       "<Figure size 2400x1200 with 1 Axes>"
      ]
     },
     "metadata": {
      "needs_background": "light"
     },
     "output_type": "display_data"
    }
   ],
   "source": [
    "model_max_accuracy= DecisionTreeClassifier(random_state=42,max_depth=4, min_samples_leaf=2,min_samples_split=2).fit(features_valid,target_valid)\n",
    "fig, axes = plt.subplots(nrows = 1, ncols = 1, figsize = (8,4), dpi = 300)\n",
    "tree.plot_tree(model_max_accuracy,impurity =False, filled = True,node_ids =True,fontsize=3);"
   ]
  },
  {
   "cell_type": "markdown",
   "metadata": {},
   "source": [
    "**Вывод:** Точность предсказаний лучшей модели: 81.18%: Глубина дерева 4: Минимальное количество объектов в листе 2: Минимальное количество разделений 2»Качесто классификации удовлетворяет требованиям заказчика."
   ]
  },
  {
   "cell_type": "markdown",
   "metadata": {},
   "source": [
    "### Случайный лес"
   ]
  },
  {
   "cell_type": "code",
   "execution_count": 17,
   "metadata": {},
   "outputs": [
    {
     "name": "stdout",
     "output_type": "stream",
     "text": [
      "\n",
      "Точность предсказаний лучшей модели: 83.20%: Глубина дерева 8: Количество деревьев21: Минимальное количество объектов в листе 4: Минимальное количество разделений 2» \n"
     ]
    }
   ],
   "source": [
    "accuracy = []\n",
    "est_namber = []\n",
    "best_model = None\n",
    "best_result = 0\n",
    "\n",
    "\n",
    "for est in range(1, 30):\n",
    "    accuracy.append(result)\n",
    "    est_namber.append(est)\n",
    "    for depth in range (1, 10):\n",
    "        for samples_leaf in range(2, 5):\n",
    "            for samples_split in range (2,6):\n",
    "                model = RandomForestClassifier(random_state=42, n_estimators=est, max_depth=depth,min_samples_leaf=samples_leaf,min_samples_split=samples_split) # обучим модель с заданным количеством деревьев n_estimators =30\n",
    "                model.fit(features_train,target_train) # обучим модель на тренировочной выборке\n",
    "                result = model.score(features_valid,target_valid) # посчитайте качество модели на валидационной выборке\n",
    "                if result > best_result:\n",
    "                    best_model = model # сохраним наилучшую модель\n",
    "                    best_result = result #  сохраним наилучшее значение метрики accuracy на валидационных данных\n",
    "                    best_depth = depth #  сохраним наилучшее значение метрики глубины дерева на валидационных данных\n",
    "                    best_est = est #  сохраним наилучшее значение метрики количество деревьев на валидационных данных\n",
    "                    best_min_samples_leaf = samples_leaf # сохраним наилучшее Минимальное количество объектов в листе\n",
    "                    best_min_samples_split = samples_split # сохраним наилучшее Минимальное количество разделений\n",
    "print()\n",
    "print(\"Точность предсказаний лучшей модели: {:.2%}: Глубина дерева {}: Количество деревьев{}: Минимальное количество объектов в листе {}: Минимальное количество разделений {}» \".format(best_result,best_depth,best_est,best_min_samples_leaf,best_min_samples_split))"
   ]
  },
  {
   "cell_type": "code",
   "execution_count": 18,
   "metadata": {},
   "outputs": [
    {
     "name": "stderr",
     "output_type": "stream",
     "text": [
      "C:\\Users\\Integro\\AppData\\Local\\Temp/ipykernel_20868/3968806110.py:8: UserWarning: FixedFormatter should only be used together with FixedLocator\n",
      "  ax.set_yticklabels(['{:.1%}'.format(x) for x in ax.get_yticks()])\n"
     ]
    },
    {
     "data": {
      "text/plain": [
       "<function matplotlib.pyplot.show(close=None, block=None)>"
      ]
     },
     "execution_count": 18,
     "metadata": {},
     "output_type": "execute_result"
    },
    {
     "data": {
      "image/png": "[encoded data removed]",
      "text/plain": [
       "<Figure size 1440x504 with 1 Axes>"
      ]
     },
     "metadata": {
      "needs_background": "light"
     },
     "output_type": "display_data"
    }
   ],
   "source": [
    "fig = plt.figure(figsize=(20, 7))\n",
    "ax = fig.add_subplot()\n",
    "plt.plot(est_namber,accuracy, label = 'Количество правильно предсказанных ответов')\n",
    "plt.title ('Зависимость количества правильно предсказанных ответов от количества деревьев ')\n",
    "plt.legend(loc = 'lower right')\n",
    "plt.xlabel('Количество деревьев')\n",
    "plt.ylabel('Доля правильно предсказанных ответов ')\n",
    "ax.set_yticklabels(['{:.1%}'.format(x) for x in ax.get_yticks()])\n",
    "plt.show"
   ]
  },
  {
   "cell_type": "markdown",
   "metadata": {},
   "source": [
    "**Вывод:** Точность предсказаний лучшей модели: 83.20%: Глубина дерева 8: Количество деревьев21: Минимальное количество объектов в листе 4: Минимальное количество разделений 2» ."
   ]
  },
  {
   "cell_type": "code",
   "execution_count": 24,
   "metadata": {},
   "outputs": [],
   "source": [
    "parametrs = {'n_estimators': range (10, 51, 10), \n",
    "               'max_depth': range (1,13, 2),\n",
    "              'min_samples_leaf': range (1,8),\n",
    "              'min_samples_split': range (2,10,2) }"
   ]
  },
  {
   "cell_type": "code",
   "execution_count": 25,
   "metadata": {},
   "outputs": [
    {
     "data": {
      "text/plain": [
       "GridSearchCV(cv=4, estimator=RandomForestClassifier(random_state=42), n_jobs=-1,\n",
       "             param_grid={'max_depth': range(1, 13, 2),\n",
       "                         'min_samples_leaf': range(1, 8),\n",
       "                         'min_samples_split': range(2, 10, 2),\n",
       "                         'n_estimators': range(10, 51, 10)})"
      ]
     },
     "execution_count": 25,
     "metadata": {},
     "output_type": "execute_result"
    }
   ],
   "source": [
    "clf = RandomForestClassifier(random_state= 42)\n",
    "grid = GridSearchCV(clf, parametrs, cv=4,n_jobs=-1)\n",
    "grid.fit(features_train, target_train)"
   ]
  },
  {
   "cell_type": "code",
   "execution_count": 26,
   "metadata": {},
   "outputs": [
    {
     "data": {
      "text/plain": [
       "{'max_depth': 9,\n",
       " 'min_samples_leaf': 1,\n",
       " 'min_samples_split': 6,\n",
       " 'n_estimators': 50}"
      ]
     },
     "execution_count": 26,
     "metadata": {},
     "output_type": "execute_result"
    }
   ],
   "source": [
    "grid.best_params_"
   ]
  },
  {
   "cell_type": "code",
   "execution_count": 27,
   "metadata": {},
   "outputs": [
    {
     "name": "stdout",
     "output_type": "stream",
     "text": [
      "Точность предсказаний по лучшим гиперпараметрам модели на тестовой выборке: 80.56%:\n"
     ]
    }
   ],
   "source": [
    "model = RandomForestClassifier(random_state=42, n_estimators=50, max_depth=9,min_samples_leaf=2,min_samples_split=2,n_jobs=-1) # обучим модель с заданным количеством деревьев подобранными параметрами\n",
    "# model.fit(features_train,target_train) # обучим модель на тренировочной выборке\n",
    "model.fit(pd.concat([features_train,features_valid]),pd.concat([target_train,target_valid]))\n",
    "predictions_test = model.predict(features_test) # получим предсказания модели\n",
    "result = accuracy_score(target_test, predictions_test)\n",
    "                \n",
    "print(\"Точность предсказаний по лучшим гиперпараметрам модели на тестовой выборке: {:.2%}:\".format(result))"
   ]
  },
  {
   "cell_type": "markdown",
   "metadata": {},
   "source": [
    "### Логистическая регрессия"
   ]
  },
  {
   "cell_type": "code",
   "execution_count": 28,
   "metadata": {
    "scrolled": true
   },
   "outputs": [
    {
     "name": "stdout",
     "output_type": "stream",
     "text": [
      "Accuracy модели логистической регрессии на валидационной выборке: 70.92%\n"
     ]
    },
    {
     "name": "stderr",
     "output_type": "stream",
     "text": [
      "c:\\users\\integro\\appdata\\local\\programs\\python\\python39\\lib\\site-packages\\sklearn\\linear_model\\_logistic.py:1523: UserWarning: 'n_jobs' > 1 does not have any effect when 'solver' is set to 'liblinear'. Got 'n_jobs' = 4.\n",
      "  warnings.warn(\n"
     ]
    }
   ],
   "source": [
    "model = LogisticRegression(random_state=42, solver = 'liblinear',penalty = 'l2', tol = 1e-4,multi_class='ovr',n_jobs=-1)  # инициализируем модель логистической регрессии\n",
    "model.fit(features_train,target_train) # обучим модель на тренировочной выборке\n",
    "preds= model.predict(features_valid)\n",
    "result = model.score(features_valid,target_valid) # получим метрику качества модели на валидационной выборке\n",
    "\n",
    "print(\"Accuracy модели логистической регрессии на валидационной выборке: {:.2%}\".format(result))"
   ]
  },
  {
   "cell_type": "code",
   "execution_count": 29,
   "metadata": {},
   "outputs": [],
   "source": [
    "from sklearn import metrics\n",
    "cat_mat = metrics.confusion_matrix(target_valid,preds)"
   ]
  },
  {
   "cell_type": "code",
   "execution_count": 30,
   "metadata": {},
   "outputs": [
    {
     "data": {
      "image/png": "[encoded data removed]",
      "text/plain": [
       "<Figure size 576x576 with 1 Axes>"
      ]
     },
     "metadata": {
      "needs_background": "light"
     },
     "output_type": "display_data"
    }
   ],
   "source": [
    "fig, ax = plt.subplots(figsize=(8, 8))\n",
    "ax.imshow(cat_mat)\n",
    "ax.grid(False)\n",
    "ax.xaxis.set(ticks=(0, 1), ticklabels=('Predicted 0s', 'Predicted 1s'))\n",
    "ax.yaxis.set(ticks=(0, 1), ticklabels=('Actual 0s', 'Actual 1s'))\n",
    "ax.set_ylim(1.5, -0.5)\n",
    "for i in range(2):\n",
    "    for j in range(2):\n",
    "        ax.text(j, i, cat_mat[i, j], ha='center', va='center', color='red')\n",
    "plt.show()"
   ]
  },
  {
   "cell_type": "markdown",
   "metadata": {},
   "source": [
    "**Вывод** Все как- то плохо, количество ложно предсказаных нулей, как единцы - много"
   ]
  },
  {
   "cell_type": "code",
   "execution_count": 31,
   "metadata": {},
   "outputs": [],
   "source": [
    "pred_prob = model.predict_proba(features_valid) #матрица вероятностей того, что прогнозируемый результат равен нулю или единице"
   ]
  },
  {
   "cell_type": "code",
   "execution_count": 32,
   "metadata": {},
   "outputs": [],
   "source": [
    "preds = pred_prob[:,1]\n",
    "fpr,tpr,threshold = metrics.roc_curve(target_valid,preds)\n",
    "roc_auc = metrics.auc(fpr,tpr)"
   ]
  },
  {
   "cell_type": "code",
   "execution_count": 33,
   "metadata": {
    "scrolled": true
   },
   "outputs": [
    {
     "data": {
      "text/plain": [
       "<function matplotlib.pyplot.show(close=None, block=None)>"
      ]
     },
     "execution_count": 33,
     "metadata": {},
     "output_type": "execute_result"
    },
    {
     "data": {
      "image/png": "[encoded data removed]",
      "text/plain": [
       "<Figure size 432x288 with 1 Axes>"
      ]
     },
     "metadata": {
      "needs_background": "light"
     },
     "output_type": "display_data"
    }
   ],
   "source": [
    "plt.plot(fpr,tpr,'b',label = 'AUC = %0.2f' % roc_auc)\n",
    "plt.title ('ROC')\n",
    "plt.legend(loc = 'lower right')\n",
    "plt.plot([0,1],[0,1],'r--')\n",
    "plt.xlim([0,1])\n",
    "plt.ylim([0,1])\n",
    "plt.xlabel('True Positive Rate')\n",
    "plt.ylabel('False Positive Rate')\n",
    "plt.show"
   ]
  },
  {
   "cell_type": "markdown",
   "metadata": {},
   "source": [
    "## Проверьте модель на тестовой выборке"
   ]
  },
  {
   "cell_type": "markdown",
   "metadata": {},
   "source": [
    "Воззьмем дерево с лучшими параметрами"
   ]
  },
  {
   "cell_type": "code",
   "execution_count": 35,
   "metadata": {},
   "outputs": [
    {
     "name": "stdout",
     "output_type": "stream",
     "text": [
      "Wall time: 0 ns\n",
      "Точность предсказаний по лучшим гиперпараметрам модели на тестовой выборке: 77.76%:\n"
     ]
    }
   ],
   "source": [
    "%time\n",
    "model = DecisionTreeClassifier(random_state=42,max_depth=4, min_samples_leaf=2,min_samples_split=2) # создадим модель с заданной глубиной дерева\n",
    "model.fit(pd.concat([features_train,features_valid]),pd.concat([target_train,target_valid])) # обучим модель по выбраннм лучшим гиперпараметрам\n",
    "# model.fit(features_train,target_train) \n",
    "predictions_test = model.predict(features_test) # получим предсказания модели\n",
    "result = accuracy_score(target_test, predictions_test)   # оценим качество модели\n",
    "\n",
    "print(\"Точность предсказаний по лучшим гиперпараметрам модели на тестовой выборке: {:.2%}:\".format(result))# Глубина дерева {}: Минимальное количество объектов в листе {}: Минимальное количество разделений {}» \".format(best_result,best_depth,best_min_samples_leaf,best_min_samples_split))"
   ]
  },
  {
   "cell_type": "code",
   "execution_count": 36,
   "metadata": {},
   "outputs": [
    {
     "name": "stdout",
     "output_type": "stream",
     "text": [
      "Wall time: 0 ns\n",
      "Точность предсказаний по лучшим гиперпараметрам модели на тестовой выборке: 81.18%:\n"
     ]
    }
   ],
   "source": [
    "%time\n",
    "model = RandomForestClassifier(random_state=42, n_estimators=21, max_depth=8,min_samples_leaf=4,min_samples_split=2,n_jobs=-1) # обучим модель с заданным количеством деревьев n_estimators =30\n",
    "# model.fit(features_train,target_train) # обучим модель на тренировочной выборке\n",
    "model.fit(pd.concat([features_train,features_valid]),pd.concat([target_train,target_valid]))\n",
    "predictions_test = model.predict(features_test) # получим предсказания модели\n",
    "result = accuracy_score(target_test, predictions_test)\n",
    "                \n",
    "print(\"Точность предсказаний по лучшим гиперпараметрам модели на тестовой выборке: {:.2%}:\".format(result))"
   ]
  },
  {
   "cell_type": "markdown",
   "metadata": {},
   "source": [
    "**Вывод:** На тестовых выборках процент правильных предсказаний , чуть ниже чем на проверочной выборке. Но все же удовлетворяет требованием задачи, Accuracy"
   ]
  },
  {
   "cell_type": "markdown",
   "metadata": {},
   "source": [
    "## Проверим модели на адекватность"
   ]
  },
  {
   "cell_type": "markdown",
   "metadata": {},
   "source": [
    "Чтобы оценить адекватность модели в задачах классификации, можно сравнить её с константной или случайной. \n",
    "Определим  самый  частотный  класс и создадим вектор предсказаний константной модели. Определим какаая модель лучше."
   ]
  },
  {
   "cell_type": "code",
   "execution_count": 37,
   "metadata": {},
   "outputs": [
    {
     "name": "stdout",
     "output_type": "stream",
     "text": [
      "win\n",
      "0.7993779160186625\n",
      "0.6967340590979783\n",
      "0    1335\n",
      "1     593\n",
      "Name: is_ultra, dtype: int64\n"
     ]
    }
   ],
   "source": [
    "model_preds_test = RandomForestClassifier(random_state=42,n_jobs=-1, n_estimators=21, max_depth=8,min_samples_leaf=4,min_samples_split=2).fit(features_train,target_train).predict(features_test)\n",
    "dd = target_train.value_counts()\n",
    "\n",
    "const_preds_test = pd.Series(0, index=target_valid.index)\n",
    "\n",
    "model_test_accuracy = accuracy_score(model_preds_test, target_test)\n",
    "const_test_accuracy = accuracy_score(const_preds_test, target_valid)\n",
    "if model_test_accuracy > const_test_accuracy:\n",
    "    print (\"win\")\n",
    "else:\n",
    "    print (\"lose\")    \n",
    "print(model_test_accuracy)\n",
    "print(const_test_accuracy)\n",
    "print(dd)"
   ]
  },
  {
   "cell_type": "markdown",
   "metadata": {},
   "source": [
    "**Вывод:** метод случайный лес на на тестовой выборке  показывает более высокий результат, чем константное предсказание."
   ]
  },
  {
   "cell_type": "code",
   "execution_count": 38,
   "metadata": {},
   "outputs": [
    {
     "name": "stdout",
     "output_type": "stream",
     "text": [
      "Unique predicted labels:  [0]\n",
      "Test score:  0.6936236391912908\n"
     ]
    }
   ],
   "source": [
    "\n",
    "dummy = DummyClassifier(strategy='most_frequent').fit(pd.concat([features_train,features_valid]),pd.concat([target_train,target_valid]))\n",
    "dummy_pred = dummy.predict(target_test)\n",
    "\n",
    "\n",
    "print('Unique predicted labels: ', (np.unique(dummy_pred)))\n",
    "\n",
    "print('Test score: ', accuracy_score(target_test, dummy_pred))"
   ]
  },
  {
   "cell_type": "markdown",
   "metadata": {},
   "source": [
    "# Общий вывод:\n",
    "В исследовании использовали три метода бинарной  классификации. \n",
    "- дерево решений на тестовой выборке  показывает  78.23% долю правильных ответов, скорость работы высокая. \n",
    "- случайный лес на тестовой выборке  показывает 79.94% долю правильных ответов, скорость работы очень низкая. \n",
    "- логистическая регрессия показывает на валидационной выборке: 70.92%, что неудовлетворяет условию требований задачи.<br><br>\n",
    "Наиболее оптимально использовать метод дерево решений  с определенными гиперпараметрами, так как скорость и точность удовлетворяет требованием поставленной задачи по определению правильных ответов.\n"
   ]
  }
 ],
 "metadata": {
  "ExecuteTimeLog": [
   {
    "duration": 616,
    "start_time": "2021-10-13T03:18:47.509Z"
   },
   {
    "duration": 346,
    "start_time": "2021-10-13T03:18:48.127Z"
   },
   {
    "duration": 315,
    "start_time": "2021-10-13T03:18:48.516Z"
   },
   {
    "duration": 19,
    "start_time": "2021-10-13T03:18:58.697Z"
   },
   {
    "duration": 20,
    "start_time": "2021-10-13T03:18:58.928Z"
   },
   {
    "duration": 7,
    "start_time": "2021-10-13T03:58:42.947Z"
   },
   {
    "duration": 491,
    "start_time": "2021-10-13T04:13:45.301Z"
   },
   {
    "duration": 7,
    "start_time": "2021-10-13T04:13:47.987Z"
   },
   {
    "duration": 673,
    "start_time": "2021-10-13T04:14:03.312Z"
   },
   {
    "duration": 4,
    "start_time": "2021-10-13T04:14:21.510Z"
   },
   {
    "duration": 4,
    "start_time": "2021-10-13T04:14:37.628Z"
   },
   {
    "duration": 7,
    "start_time": "2021-10-13T04:49:35.556Z"
   },
   {
    "duration": 3,
    "start_time": "2021-10-13T04:51:53.746Z"
   },
   {
    "duration": 29,
    "start_time": "2021-10-13T05:44:58.898Z"
   },
   {
    "duration": 4,
    "start_time": "2021-10-13T05:45:03.785Z"
   },
   {
    "duration": 22,
    "start_time": "2021-10-13T05:45:09.597Z"
   },
   {
    "duration": 7,
    "start_time": "2021-10-13T05:48:45.952Z"
   },
   {
    "duration": 4,
    "start_time": "2021-10-13T05:48:46.980Z"
   },
   {
    "duration": 6,
    "start_time": "2021-10-13T05:52:53.711Z"
   },
   {
    "duration": 20,
    "start_time": "2021-10-13T05:54:06.425Z"
   },
   {
    "duration": 3,
    "start_time": "2021-10-13T05:55:55.838Z"
   },
   {
    "duration": 116,
    "start_time": "2021-10-13T06:04:04.884Z"
   },
   {
    "duration": 18,
    "start_time": "2021-10-13T06:04:17.047Z"
   },
   {
    "duration": 6,
    "start_time": "2021-10-13T06:04:18.051Z"
   },
   {
    "duration": 3,
    "start_time": "2021-10-13T06:04:36.763Z"
   },
   {
    "duration": 7,
    "start_time": "2021-10-13T06:04:37.695Z"
   },
   {
    "duration": 15,
    "start_time": "2021-10-13T06:04:38.864Z"
   },
   {
    "duration": 6,
    "start_time": "2021-10-13T06:04:40.410Z"
   },
   {
    "duration": 110,
    "start_time": "2021-10-13T06:04:41.680Z"
   },
   {
    "duration": 110,
    "start_time": "2021-10-13T06:04:48.669Z"
   },
   {
    "duration": 6,
    "start_time": "2021-10-13T06:05:25.338Z"
   },
   {
    "duration": 5,
    "start_time": "2021-10-13T06:06:33.338Z"
   },
   {
    "duration": 96,
    "start_time": "2021-10-13T06:08:27.656Z"
   },
   {
    "duration": 14,
    "start_time": "2021-10-13T06:09:16.012Z"
   },
   {
    "duration": 5,
    "start_time": "2021-10-13T06:09:17.362Z"
   },
   {
    "duration": 5,
    "start_time": "2021-10-13T06:09:19.116Z"
   },
   {
    "duration": 320,
    "start_time": "2021-10-13T06:11:25.207Z"
   },
   {
    "duration": 573,
    "start_time": "2021-10-13T06:11:43.133Z"
   },
   {
    "duration": 5,
    "start_time": "2021-10-13T06:12:25.060Z"
   },
   {
    "duration": 3007,
    "start_time": "2021-10-13T07:18:00.847Z"
   },
   {
    "duration": 27,
    "start_time": "2021-10-13T07:18:43.869Z"
   },
   {
    "duration": 30,
    "start_time": "2021-10-13T07:22:47.795Z"
   },
   {
    "duration": 59,
    "start_time": "2021-10-13T07:23:04.864Z"
   },
   {
    "duration": 107,
    "start_time": "2021-10-13T07:23:17.583Z"
   },
   {
    "duration": 322,
    "start_time": "2021-10-13T07:40:43.275Z"
   },
   {
    "duration": 11,
    "start_time": "2021-10-13T07:41:35.061Z"
   },
   {
    "duration": 288,
    "start_time": "2021-10-13T07:41:35.640Z"
   },
   {
    "duration": 2,
    "start_time": "2021-10-13T07:42:49.176Z"
   },
   {
    "duration": 16,
    "start_time": "2021-10-13T07:46:53.873Z"
   },
   {
    "duration": 2,
    "start_time": "2021-10-13T07:46:57.526Z"
   },
   {
    "duration": 14,
    "start_time": "2021-10-13T07:46:57.991Z"
   },
   {
    "duration": 14,
    "start_time": "2021-10-13T07:47:29.069Z"
   },
   {
    "duration": 885,
    "start_time": "2021-10-13T08:10:01.291Z"
   },
   {
    "duration": 20,
    "start_time": "2021-10-13T08:10:02.178Z"
   },
   {
    "duration": 22,
    "start_time": "2021-10-13T08:10:02.201Z"
   },
   {
    "duration": 29,
    "start_time": "2021-10-13T08:10:02.225Z"
   },
   {
    "duration": 536,
    "start_time": "2021-10-13T08:10:03.669Z"
   },
   {
    "duration": 443,
    "start_time": "2021-10-13T08:10:05.354Z"
   },
   {
    "duration": 7,
    "start_time": "2021-10-13T08:10:42.028Z"
   },
   {
    "duration": 4,
    "start_time": "2021-10-13T08:10:45.094Z"
   },
   {
    "duration": 30,
    "start_time": "2021-10-13T08:10:50.555Z"
   },
   {
    "duration": 7,
    "start_time": "2021-10-13T08:10:59.615Z"
   },
   {
    "duration": 19,
    "start_time": "2021-10-13T08:11:13.346Z"
   },
   {
    "duration": 5,
    "start_time": "2021-10-13T08:11:40.382Z"
   },
   {
    "duration": 6,
    "start_time": "2021-10-13T08:11:47.683Z"
   },
   {
    "duration": 9,
    "start_time": "2021-10-13T08:17:05.937Z"
   },
   {
    "duration": 26,
    "start_time": "2021-10-13T08:18:14.492Z"
   },
   {
    "duration": 104,
    "start_time": "2021-10-13T08:18:29.217Z"
   },
   {
    "duration": 27,
    "start_time": "2021-10-13T08:21:37.535Z"
   },
   {
    "duration": 31,
    "start_time": "2021-10-13T08:21:56.266Z"
   },
   {
    "duration": 55,
    "start_time": "2021-10-13T08:22:18.122Z"
   },
   {
    "duration": 94,
    "start_time": "2021-10-13T08:23:32.800Z"
   },
   {
    "duration": 329,
    "start_time": "2021-10-13T08:31:07.640Z"
   },
   {
    "duration": 3,
    "start_time": "2021-10-13T08:32:21.965Z"
   },
   {
    "duration": 7,
    "start_time": "2021-10-13T08:32:23.673Z"
   },
   {
    "duration": 4,
    "start_time": "2021-10-13T08:32:25.611Z"
   },
   {
    "duration": 3,
    "start_time": "2021-10-13T08:32:30.050Z"
   },
   {
    "duration": 7,
    "start_time": "2021-10-13T08:32:31.299Z"
   },
   {
    "duration": 15,
    "start_time": "2021-10-13T08:32:39.578Z"
   },
   {
    "duration": 9,
    "start_time": "2021-10-13T08:32:45.481Z"
   },
   {
    "duration": 303,
    "start_time": "2021-10-13T08:32:50.868Z"
   },
   {
    "duration": 26,
    "start_time": "2021-10-13T08:33:12.381Z"
   },
   {
    "duration": 111,
    "start_time": "2021-10-13T08:34:25.877Z"
   },
   {
    "duration": 30,
    "start_time": "2021-10-13T08:36:06.573Z"
   },
   {
    "duration": 27,
    "start_time": "2021-10-13T08:36:31.231Z"
   },
   {
    "duration": 55,
    "start_time": "2021-10-13T08:36:46.369Z"
   },
   {
    "duration": 54,
    "start_time": "2021-10-13T08:37:28.347Z"
   },
   {
    "duration": 7,
    "start_time": "2021-10-13T08:37:32.752Z"
   },
   {
    "duration": 53,
    "start_time": "2021-10-13T08:37:33.942Z"
   },
   {
    "duration": 26,
    "start_time": "2021-10-13T08:37:41.976Z"
   },
   {
    "duration": 32,
    "start_time": "2021-10-13T08:38:24.462Z"
   },
   {
    "duration": 124,
    "start_time": "2021-10-13T08:39:43.919Z"
   },
   {
    "duration": 27,
    "start_time": "2021-10-13T08:40:35.423Z"
   },
   {
    "duration": 107,
    "start_time": "2021-10-13T08:42:04.310Z"
   },
   {
    "duration": 25,
    "start_time": "2021-10-13T08:42:12.803Z"
   },
   {
    "duration": 108,
    "start_time": "2021-10-13T08:42:28.733Z"
   },
   {
    "duration": 103,
    "start_time": "2021-10-13T08:42:51.597Z"
   },
   {
    "duration": 119,
    "start_time": "2021-10-13T08:43:16.233Z"
   },
   {
    "duration": 32,
    "start_time": "2021-10-13T08:43:24.218Z"
   },
   {
    "duration": 61,
    "start_time": "2021-10-13T08:43:40.607Z"
   },
   {
    "duration": 61,
    "start_time": "2021-10-13T08:44:44.107Z"
   },
   {
    "duration": 3,
    "start_time": "2021-10-13T09:17:04.799Z"
   },
   {
    "duration": 337,
    "start_time": "2021-10-13T09:19:04.606Z"
   },
   {
    "duration": 3,
    "start_time": "2021-10-13T09:19:33.134Z"
   },
   {
    "duration": 25,
    "start_time": "2021-10-13T09:19:39.412Z"
   },
   {
    "duration": 10,
    "start_time": "2021-10-13T09:23:29.972Z"
   },
   {
    "duration": 4254,
    "start_time": "2021-10-13T09:23:30.832Z"
   },
   {
    "duration": 3,
    "start_time": "2021-10-13T09:31:26.792Z"
   },
   {
    "duration": 3,
    "start_time": "2021-10-13T09:32:42.559Z"
   },
   {
    "duration": 7,
    "start_time": "2021-10-13T09:32:42.993Z"
   },
   {
    "duration": 100,
    "start_time": "2021-10-13T09:32:46.056Z"
   },
   {
    "duration": 2,
    "start_time": "2021-10-13T09:32:46.436Z"
   },
   {
    "duration": 3,
    "start_time": "2021-10-13T09:32:52.702Z"
   },
   {
    "duration": 11,
    "start_time": "2021-10-13T09:32:53.444Z"
   },
   {
    "duration": 609,
    "start_time": "2021-10-14T03:06:10.437Z"
   },
   {
    "duration": 21,
    "start_time": "2021-10-14T03:06:11.048Z"
   },
   {
    "duration": 17,
    "start_time": "2021-10-14T03:06:11.071Z"
   },
   {
    "duration": 6,
    "start_time": "2021-10-14T03:06:11.090Z"
   },
   {
    "duration": 484,
    "start_time": "2021-10-14T03:06:11.098Z"
   },
   {
    "duration": 7,
    "start_time": "2021-10-14T03:06:11.584Z"
   },
   {
    "duration": 5,
    "start_time": "2021-10-14T03:06:11.592Z"
   },
   {
    "duration": 28,
    "start_time": "2021-10-14T03:06:11.600Z"
   },
   {
    "duration": 6,
    "start_time": "2021-10-14T03:06:11.630Z"
   },
   {
    "duration": 15,
    "start_time": "2021-10-14T03:06:11.637Z"
   },
   {
    "duration": 28,
    "start_time": "2021-10-14T03:06:11.654Z"
   },
   {
    "duration": 124,
    "start_time": "2021-10-14T03:06:11.684Z"
   },
   {
    "duration": 50564604,
    "start_time": "2021-10-13T13:03:27.206Z"
   },
   {
    "duration": 50564602,
    "start_time": "2021-10-13T13:03:27.209Z"
   },
   {
    "duration": 50564601,
    "start_time": "2021-10-13T13:03:27.211Z"
   },
   {
    "duration": 50564600,
    "start_time": "2021-10-13T13:03:27.213Z"
   },
   {
    "duration": 50564548,
    "start_time": "2021-10-13T13:03:27.266Z"
   },
   {
    "duration": 50564545,
    "start_time": "2021-10-13T13:03:27.270Z"
   },
   {
    "duration": 50564542,
    "start_time": "2021-10-13T13:03:27.274Z"
   },
   {
    "duration": 50564541,
    "start_time": "2021-10-13T13:03:27.276Z"
   },
   {
    "duration": 50564541,
    "start_time": "2021-10-13T13:03:27.277Z"
   },
   {
    "duration": 50564540,
    "start_time": "2021-10-13T13:03:27.279Z"
   },
   {
    "duration": 50564539,
    "start_time": "2021-10-13T13:03:27.281Z"
   },
   {
    "duration": 50564538,
    "start_time": "2021-10-13T13:03:27.283Z"
   },
   {
    "duration": 50564536,
    "start_time": "2021-10-13T13:03:27.286Z"
   },
   {
    "duration": 50564535,
    "start_time": "2021-10-13T13:03:27.288Z"
   },
   {
    "duration": 50564534,
    "start_time": "2021-10-13T13:03:27.290Z"
   },
   {
    "duration": 50564534,
    "start_time": "2021-10-13T13:03:27.291Z"
   },
   {
    "duration": 807,
    "start_time": "2021-10-14T03:10:39.192Z"
   },
   {
    "duration": 504,
    "start_time": "2021-10-14T03:15:00.170Z"
   },
   {
    "duration": 523,
    "start_time": "2021-10-14T03:16:07.698Z"
   },
   {
    "duration": 345,
    "start_time": "2021-10-14T03:17:53.001Z"
   },
   {
    "duration": 344,
    "start_time": "2021-10-14T03:18:48.507Z"
   },
   {
    "duration": 547,
    "start_time": "2021-10-14T03:19:13.376Z"
   },
   {
    "duration": 635,
    "start_time": "2021-10-14T03:19:58.089Z"
   },
   {
    "duration": 1537,
    "start_time": "2021-10-14T03:29:30.419Z"
   },
   {
    "duration": 903,
    "start_time": "2021-10-14T03:30:47.164Z"
   },
   {
    "duration": 921,
    "start_time": "2021-10-14T04:09:00.816Z"
   },
   {
    "duration": 497,
    "start_time": "2021-10-14T04:09:03.781Z"
   },
   {
    "duration": 1461,
    "start_time": "2021-10-14T04:09:37.314Z"
   },
   {
    "duration": 3494,
    "start_time": "2021-10-14T04:12:53.515Z"
   },
   {
    "duration": 743,
    "start_time": "2021-10-14T04:13:05.656Z"
   },
   {
    "duration": 2142,
    "start_time": "2021-10-14T04:16:06.851Z"
   },
   {
    "duration": 2343,
    "start_time": "2021-10-14T04:16:15.894Z"
   },
   {
    "duration": 490,
    "start_time": "2021-10-14T04:16:28.586Z"
   },
   {
    "duration": 1957,
    "start_time": "2021-10-14T04:20:49.685Z"
   },
   {
    "duration": 116,
    "start_time": "2021-10-14T04:21:56.423Z"
   },
   {
    "duration": 2110,
    "start_time": "2021-10-14T04:23:06.892Z"
   },
   {
    "duration": 2273,
    "start_time": "2021-10-14T04:23:31.420Z"
   },
   {
    "duration": 1978,
    "start_time": "2021-10-14T04:23:41.488Z"
   },
   {
    "duration": 635,
    "start_time": "2021-10-14T04:23:55.046Z"
   },
   {
    "duration": 21,
    "start_time": "2021-10-14T04:23:55.683Z"
   },
   {
    "duration": 16,
    "start_time": "2021-10-14T04:23:55.705Z"
   },
   {
    "duration": 6,
    "start_time": "2021-10-14T04:23:55.723Z"
   },
   {
    "duration": 433,
    "start_time": "2021-10-14T04:23:56.476Z"
   },
   {
    "duration": 7,
    "start_time": "2021-10-14T04:23:57.766Z"
   },
   {
    "duration": 3,
    "start_time": "2021-10-14T04:23:58.617Z"
   },
   {
    "duration": 25,
    "start_time": "2021-10-14T04:23:59.772Z"
   },
   {
    "duration": 7,
    "start_time": "2021-10-14T04:24:00.269Z"
   },
   {
    "duration": 15,
    "start_time": "2021-10-14T04:24:01.429Z"
   },
   {
    "duration": 8,
    "start_time": "2021-10-14T04:24:03.067Z"
   },
   {
    "duration": 53,
    "start_time": "2021-10-14T04:24:05.902Z"
   },
   {
    "duration": 9,
    "start_time": "2021-10-14T04:24:08.209Z"
   },
   {
    "duration": 902,
    "start_time": "2021-10-14T04:24:08.854Z"
   },
   {
    "duration": 574,
    "start_time": "2021-10-14T04:24:09.758Z"
   },
   {
    "duration": 336,
    "start_time": "2021-10-14T04:24:39.276Z"
   },
   {
    "duration": 535,
    "start_time": "2021-10-14T04:24:56.983Z"
   },
   {
    "duration": 598,
    "start_time": "2021-10-14T04:33:47.021Z"
   },
   {
    "duration": 2169,
    "start_time": "2021-10-14T04:38:12.778Z"
   },
   {
    "duration": 489,
    "start_time": "2021-10-14T04:38:27.160Z"
   },
   {
    "duration": 3,
    "start_time": "2021-10-14T04:45:37.607Z"
   },
   {
    "duration": 914,
    "start_time": "2021-10-14T04:58:35.517Z"
   },
   {
    "duration": 2,
    "start_time": "2021-10-14T04:58:36.433Z"
   },
   {
    "duration": 2,
    "start_time": "2021-10-14T04:58:36.528Z"
   },
   {
    "duration": 8,
    "start_time": "2021-10-14T04:58:37.158Z"
   },
   {
    "duration": 2,
    "start_time": "2021-10-14T04:58:38.172Z"
   },
   {
    "duration": 11,
    "start_time": "2021-10-14T04:58:38.738Z"
   },
   {
    "duration": 2,
    "start_time": "2021-10-14T04:58:40.830Z"
   },
   {
    "duration": 22,
    "start_time": "2021-10-14T04:58:41.226Z"
   },
   {
    "duration": 3,
    "start_time": "2021-10-14T04:58:52.400Z"
   },
   {
    "duration": 3959,
    "start_time": "2021-10-14T04:58:54.472Z"
   },
   {
    "duration": 5,
    "start_time": "2021-10-14T05:07:13.438Z"
   },
   {
    "duration": 330,
    "start_time": "2021-10-14T05:09:15.868Z"
   },
   {
    "duration": 4,
    "start_time": "2021-10-14T05:09:40.735Z"
   },
   {
    "duration": 7,
    "start_time": "2021-10-14T05:13:59.923Z"
   },
   {
    "duration": 105,
    "start_time": "2021-10-14T05:22:40.776Z"
   },
   {
    "duration": 8015,
    "start_time": "2021-10-14T05:22:48.766Z"
   },
   {
    "duration": 333,
    "start_time": "2021-10-14T05:35:53.678Z"
   },
   {
    "duration": 383,
    "start_time": "2021-10-14T05:36:14.393Z"
   },
   {
    "duration": 127,
    "start_time": "2021-10-14T05:50:56.609Z"
   },
   {
    "duration": 328,
    "start_time": "2021-10-14T05:51:02.424Z"
   },
   {
    "duration": 343,
    "start_time": "2021-10-14T05:51:39.044Z"
   },
   {
    "duration": 357,
    "start_time": "2021-10-14T05:52:46.257Z"
   },
   {
    "duration": 333,
    "start_time": "2021-10-14T05:53:02.908Z"
   },
   {
    "duration": 361,
    "start_time": "2021-10-14T05:54:32.008Z"
   },
   {
    "duration": 107,
    "start_time": "2021-10-14T05:54:52.026Z"
   },
   {
    "duration": 1734,
    "start_time": "2021-10-14T05:57:49.207Z"
   },
   {
    "duration": 108,
    "start_time": "2021-10-14T05:58:20.461Z"
   },
   {
    "duration": 109,
    "start_time": "2021-10-14T05:58:30.418Z"
   },
   {
    "duration": 113,
    "start_time": "2021-10-14T05:58:47.635Z"
   },
   {
    "duration": 25,
    "start_time": "2021-10-14T05:59:26.663Z"
   },
   {
    "duration": 29,
    "start_time": "2021-10-14T05:59:32.983Z"
   },
   {
    "duration": 339,
    "start_time": "2021-10-14T06:00:34.259Z"
   },
   {
    "duration": 118,
    "start_time": "2021-10-14T06:05:26.792Z"
   },
   {
    "duration": 123,
    "start_time": "2021-10-14T06:05:44.189Z"
   },
   {
    "duration": 30,
    "start_time": "2021-10-14T06:05:50.111Z"
   },
   {
    "duration": 125,
    "start_time": "2021-10-14T06:07:11.112Z"
   },
   {
    "duration": 116,
    "start_time": "2021-10-14T06:07:28.494Z"
   },
   {
    "duration": 717,
    "start_time": "2021-10-14T06:07:36.373Z"
   },
   {
    "duration": 105,
    "start_time": "2021-10-14T06:07:51.016Z"
   },
   {
    "duration": 165,
    "start_time": "2021-10-14T07:08:16.905Z"
   },
   {
    "duration": 59,
    "start_time": "2021-10-14T07:08:50.473Z"
   },
   {
    "duration": 110,
    "start_time": "2021-10-14T07:09:09.896Z"
   },
   {
    "duration": 134,
    "start_time": "2021-10-14T07:09:17.272Z"
   },
   {
    "duration": 66,
    "start_time": "2021-10-14T07:09:33.733Z"
   },
   {
    "duration": 54,
    "start_time": "2021-10-14T07:10:02.510Z"
   },
   {
    "duration": 361,
    "start_time": "2021-10-14T07:12:25.572Z"
   },
   {
    "duration": 118,
    "start_time": "2021-10-14T07:13:19.440Z"
   },
   {
    "duration": 113,
    "start_time": "2021-10-14T07:14:15.882Z"
   },
   {
    "duration": 120,
    "start_time": "2021-10-14T07:14:34.438Z"
   },
   {
    "duration": 117,
    "start_time": "2021-10-14T07:16:59.410Z"
   },
   {
    "duration": 145,
    "start_time": "2021-10-14T07:17:30.686Z"
   },
   {
    "duration": 117,
    "start_time": "2021-10-14T07:17:43.970Z"
   },
   {
    "duration": 115,
    "start_time": "2021-10-14T07:19:58.839Z"
   },
   {
    "duration": 134,
    "start_time": "2021-10-14T07:20:25.954Z"
   },
   {
    "duration": 118,
    "start_time": "2021-10-14T07:22:36.815Z"
   },
   {
    "duration": 336,
    "start_time": "2021-10-14T07:23:38.763Z"
   },
   {
    "duration": 48,
    "start_time": "2021-10-14T07:23:53.970Z"
   },
   {
    "duration": 50,
    "start_time": "2021-10-14T07:24:09.909Z"
   },
   {
    "duration": 51,
    "start_time": "2021-10-14T07:24:17.659Z"
   },
   {
    "duration": 51,
    "start_time": "2021-10-14T07:24:26.652Z"
   },
   {
    "duration": 53,
    "start_time": "2021-10-14T07:24:40.377Z"
   },
   {
    "duration": 158,
    "start_time": "2021-10-14T07:26:49.656Z"
   },
   {
    "duration": 126,
    "start_time": "2021-10-14T07:26:58.584Z"
   },
   {
    "duration": 108,
    "start_time": "2021-10-14T07:27:16.127Z"
   },
   {
    "duration": 51,
    "start_time": "2021-10-14T07:27:20.174Z"
   },
   {
    "duration": 48,
    "start_time": "2021-10-14T07:27:48.538Z"
   },
   {
    "duration": 48,
    "start_time": "2021-10-14T07:27:58.421Z"
   },
   {
    "duration": 47,
    "start_time": "2021-10-14T07:30:05.719Z"
   },
   {
    "duration": 351,
    "start_time": "2021-10-14T07:30:37.694Z"
   },
   {
    "duration": 50,
    "start_time": "2021-10-14T07:30:47.969Z"
   },
   {
    "duration": 48,
    "start_time": "2021-10-14T07:31:13.818Z"
   },
   {
    "duration": 50,
    "start_time": "2021-10-14T07:33:00.107Z"
   },
   {
    "duration": 47,
    "start_time": "2021-10-14T07:33:35.442Z"
   },
   {
    "duration": 341,
    "start_time": "2021-10-14T07:45:09.919Z"
   },
   {
    "duration": 438,
    "start_time": "2021-10-14T07:45:40.920Z"
   },
   {
    "duration": 379,
    "start_time": "2021-10-14T07:46:01.180Z"
   },
   {
    "duration": 33,
    "start_time": "2021-10-14T07:46:34.509Z"
   },
   {
    "duration": 44,
    "start_time": "2021-10-14T07:46:45.775Z"
   },
   {
    "duration": 78,
    "start_time": "2021-10-14T07:47:07.657Z"
   },
   {
    "duration": 81,
    "start_time": "2021-10-14T07:47:20.702Z"
   },
   {
    "duration": 83,
    "start_time": "2021-10-14T07:48:05.254Z"
   },
   {
    "duration": 165,
    "start_time": "2021-10-14T07:48:32.551Z"
   },
   {
    "duration": 419,
    "start_time": "2021-10-14T07:49:25.732Z"
   },
   {
    "duration": 831,
    "start_time": "2021-10-14T07:49:39.141Z"
   },
   {
    "duration": 79,
    "start_time": "2021-10-14T07:51:37.677Z"
   },
   {
    "duration": 78,
    "start_time": "2021-10-14T07:51:51.861Z"
   },
   {
    "duration": 381,
    "start_time": "2021-10-14T07:52:14.474Z"
   },
   {
    "duration": 362,
    "start_time": "2021-10-14T07:56:52.232Z"
   },
   {
    "duration": 118,
    "start_time": "2021-10-14T08:01:48.004Z"
   },
   {
    "duration": 357,
    "start_time": "2021-10-14T08:01:58.740Z"
   },
   {
    "duration": 116,
    "start_time": "2021-10-14T08:13:56.819Z"
   },
   {
    "duration": 105,
    "start_time": "2021-10-14T08:14:05.373Z"
   },
   {
    "duration": 2753,
    "start_time": "2021-10-14T08:14:14.504Z"
   },
   {
    "duration": 321,
    "start_time": "2021-10-14T08:18:24.532Z"
   },
   {
    "duration": 3161,
    "start_time": "2021-10-14T08:18:51.212Z"
   },
   {
    "duration": 2797,
    "start_time": "2021-10-14T08:20:10.195Z"
   },
   {
    "duration": 4,
    "start_time": "2021-10-14T08:20:25.275Z"
   },
   {
    "duration": 2890,
    "start_time": "2021-10-14T08:20:45.950Z"
   },
   {
    "duration": 2,
    "start_time": "2021-10-14T08:23:15.359Z"
   },
   {
    "duration": 8474,
    "start_time": "2021-10-14T08:23:15.362Z"
   },
   {
    "duration": 3093,
    "start_time": "2021-10-14T08:24:34.134Z"
   },
   {
    "duration": 3,
    "start_time": "2021-10-14T08:24:55.189Z"
   },
   {
    "duration": 2764,
    "start_time": "2021-10-14T08:25:47.567Z"
   },
   {
    "duration": 3,
    "start_time": "2021-10-14T08:25:50.333Z"
   },
   {
    "duration": 2829,
    "start_time": "2021-10-14T08:30:28.425Z"
   },
   {
    "duration": 392,
    "start_time": "2021-10-14T08:34:25.266Z"
   },
   {
    "duration": 371,
    "start_time": "2021-10-14T08:34:38.415Z"
   },
   {
    "duration": 465,
    "start_time": "2021-10-14T08:34:56.367Z"
   },
   {
    "duration": 8370,
    "start_time": "2021-10-14T08:35:06.413Z"
   },
   {
    "duration": 1093,
    "start_time": "2021-10-14T08:35:21.870Z"
   },
   {
    "duration": 740,
    "start_time": "2021-10-14T08:36:20.590Z"
   },
   {
    "duration": 619,
    "start_time": "2021-10-14T08:41:24.719Z"
   },
   {
    "duration": 385,
    "start_time": "2021-10-14T08:42:04.091Z"
   },
   {
    "duration": 428,
    "start_time": "2021-10-14T08:42:42.485Z"
   },
   {
    "duration": 397,
    "start_time": "2021-10-14T08:48:07.561Z"
   },
   {
    "duration": 534,
    "start_time": "2021-10-14T08:59:07.641Z"
   },
   {
    "duration": 4,
    "start_time": "2021-10-14T08:59:16.080Z"
   },
   {
    "duration": 2,
    "start_time": "2021-10-14T09:06:57.157Z"
   },
   {
    "duration": 22864,
    "start_time": "2021-10-14T09:11:39.105Z"
   },
   {
    "duration": 8307,
    "start_time": "2021-10-14T09:43:38.924Z"
   },
   {
    "duration": 105977,
    "start_time": "2021-10-14T09:48:56.651Z"
   },
   {
    "duration": 415,
    "start_time": "2021-10-14T10:03:19.134Z"
   },
   {
    "duration": 535,
    "start_time": "2021-10-14T10:03:37.738Z"
   },
   {
    "duration": 100137,
    "start_time": "2021-10-14T10:05:17.987Z"
   },
   {
    "duration": 294,
    "start_time": "2021-10-14T14:06:32.974Z"
   },
   {
    "duration": 619,
    "start_time": "2021-10-14T14:06:45.349Z"
   },
   {
    "duration": 20,
    "start_time": "2021-10-14T14:06:45.970Z"
   },
   {
    "duration": 18,
    "start_time": "2021-10-14T14:06:46.325Z"
   },
   {
    "duration": 6,
    "start_time": "2021-10-14T14:06:48.228Z"
   },
   {
    "duration": 477,
    "start_time": "2021-10-14T14:06:50.644Z"
   },
   {
    "duration": 7,
    "start_time": "2021-10-14T14:06:51.596Z"
   },
   {
    "duration": 4,
    "start_time": "2021-10-14T14:06:52.292Z"
   },
   {
    "duration": 30,
    "start_time": "2021-10-14T14:06:53.996Z"
   },
   {
    "duration": 6,
    "start_time": "2021-10-14T14:06:54.813Z"
   },
   {
    "duration": 16,
    "start_time": "2021-10-14T14:06:58.149Z"
   },
   {
    "duration": 8,
    "start_time": "2021-10-14T14:07:00.150Z"
   },
   {
    "duration": 52,
    "start_time": "2021-10-14T14:07:05.022Z"
   },
   {
    "duration": 535,
    "start_time": "2021-10-14T14:07:19.040Z"
   },
   {
    "duration": 3,
    "start_time": "2021-10-14T14:07:24.231Z"
   },
   {
    "duration": 10,
    "start_time": "2021-10-14T14:07:27.262Z"
   },
   {
    "duration": 103059,
    "start_time": "2021-10-14T14:07:28.615Z"
   },
   {
    "duration": 297,
    "start_time": "2021-10-14T14:10:30.619Z"
   },
   {
    "duration": 10,
    "start_time": "2021-10-14T14:16:05.244Z"
   },
   {
    "duration": 9,
    "start_time": "2021-10-14T14:17:20.166Z"
   },
   {
    "duration": 11,
    "start_time": "2021-10-14T14:17:25.255Z"
   },
   {
    "duration": 68,
    "start_time": "2021-10-14T14:22:17.417Z"
   },
   {
    "duration": 87,
    "start_time": "2021-10-14T14:35:39.556Z"
   },
   {
    "duration": 248,
    "start_time": "2021-10-14T14:35:48.445Z"
   },
   {
    "duration": 3,
    "start_time": "2021-10-14T14:35:53.461Z"
   },
   {
    "duration": 8,
    "start_time": "2021-10-14T14:35:53.998Z"
   },
   {
    "duration": 259,
    "start_time": "2021-10-14T14:36:30.064Z"
   },
   {
    "duration": 10,
    "start_time": "2021-10-14T14:40:30.408Z"
   },
   {
    "duration": 264,
    "start_time": "2021-10-14T14:45:01.723Z"
   },
   {
    "duration": 3,
    "start_time": "2021-10-14T14:45:10.424Z"
   },
   {
    "duration": 25,
    "start_time": "2021-10-14T14:45:10.929Z"
   },
   {
    "duration": 269,
    "start_time": "2021-10-14T14:45:44.339Z"
   },
   {
    "duration": 3,
    "start_time": "2021-10-14T14:45:47.811Z"
   },
   {
    "duration": 4168,
    "start_time": "2021-10-14T14:45:48.219Z"
   },
   {
    "duration": 244,
    "start_time": "2021-10-14T14:46:40.432Z"
   },
   {
    "duration": 3,
    "start_time": "2021-10-14T14:46:44.723Z"
   },
   {
    "duration": 13,
    "start_time": "2021-10-14T14:46:44.728Z"
   },
   {
    "duration": 87,
    "start_time": "2021-10-14T14:51:30.848Z"
   },
   {
    "duration": 60,
    "start_time": "2021-10-14T14:51:37.145Z"
   },
   {
    "duration": 272,
    "start_time": "2021-10-14T14:52:31.350Z"
   },
   {
    "duration": 10,
    "start_time": "2021-10-14T15:08:18.348Z"
   },
   {
    "duration": 4193,
    "start_time": "2021-10-14T15:10:24.637Z"
   },
   {
    "duration": 2,
    "start_time": "2021-10-14T15:10:29.294Z"
   },
   {
    "duration": 241,
    "start_time": "2021-10-15T03:06:24.000Z"
   },
   {
    "duration": 3,
    "start_time": "2021-10-15T03:09:04.902Z"
   },
   {
    "duration": 584,
    "start_time": "2021-10-15T03:09:04.907Z"
   },
   {
    "duration": 21,
    "start_time": "2021-10-15T03:09:05.493Z"
   },
   {
    "duration": 16,
    "start_time": "2021-10-15T03:09:05.516Z"
   },
   {
    "duration": 5,
    "start_time": "2021-10-15T03:09:05.534Z"
   },
   {
    "duration": 493,
    "start_time": "2021-10-15T03:09:05.541Z"
   },
   {
    "duration": 7,
    "start_time": "2021-10-15T03:09:06.036Z"
   },
   {
    "duration": 6,
    "start_time": "2021-10-15T03:09:06.044Z"
   },
   {
    "duration": 48,
    "start_time": "2021-10-15T03:09:06.051Z"
   },
   {
    "duration": 6,
    "start_time": "2021-10-15T03:09:06.100Z"
   },
   {
    "duration": 16,
    "start_time": "2021-10-15T03:09:06.107Z"
   },
   {
    "duration": 7,
    "start_time": "2021-10-15T03:09:06.124Z"
   },
   {
    "duration": 70,
    "start_time": "2021-10-15T03:09:06.132Z"
   },
   {
    "duration": 535,
    "start_time": "2021-10-15T03:09:06.203Z"
   },
   {
    "duration": 3,
    "start_time": "2021-10-15T03:09:06.739Z"
   },
   {
    "duration": 16,
    "start_time": "2021-10-15T03:09:06.744Z"
   },
   {
    "duration": 101869,
    "start_time": "2021-10-15T03:09:06.762Z"
   },
   {
    "duration": 2,
    "start_time": "2021-10-15T03:10:48.633Z"
   },
   {
    "duration": 11,
    "start_time": "2021-10-15T03:10:48.638Z"
   },
   {
    "duration": 250,
    "start_time": "2021-10-15T03:10:48.651Z"
   },
   {
    "duration": 50564087,
    "start_time": "2021-10-14T13:08:04.815Z"
   },
   {
    "duration": 50564087,
    "start_time": "2021-10-14T13:08:04.817Z"
   },
   {
    "duration": 50564086,
    "start_time": "2021-10-14T13:08:04.819Z"
   },
   {
    "duration": 50564086,
    "start_time": "2021-10-14T13:08:04.820Z"
   },
   {
    "duration": 50564085,
    "start_time": "2021-10-14T13:08:04.822Z"
   },
   {
    "duration": 50564084,
    "start_time": "2021-10-14T13:08:04.824Z"
   },
   {
    "duration": 50564084,
    "start_time": "2021-10-14T13:08:04.825Z"
   },
   {
    "duration": 50564083,
    "start_time": "2021-10-14T13:08:04.827Z"
   },
   {
    "duration": 50564082,
    "start_time": "2021-10-14T13:08:04.829Z"
   },
   {
    "duration": 50564049,
    "start_time": "2021-10-14T13:08:04.863Z"
   },
   {
    "duration": 50564046,
    "start_time": "2021-10-14T13:08:04.867Z"
   },
   {
    "duration": 50564045,
    "start_time": "2021-10-14T13:08:04.869Z"
   },
   {
    "duration": 10,
    "start_time": "2021-10-15T03:15:31.552Z"
   },
   {
    "duration": 94950,
    "start_time": "2021-10-15T03:16:09.102Z"
   },
   {
    "duration": 9,
    "start_time": "2021-10-15T03:17:44.054Z"
   },
   {
    "duration": 261,
    "start_time": "2021-10-15T03:31:04.129Z"
   },
   {
    "duration": 73,
    "start_time": "2021-10-15T03:32:09.539Z"
   },
   {
    "duration": 173,
    "start_time": "2021-10-15T03:32:16.669Z"
   },
   {
    "duration": 1138,
    "start_time": "2021-10-15T03:32:42.588Z"
   },
   {
    "duration": 8,
    "start_time": "2021-10-15T03:57:18.326Z"
   },
   {
    "duration": 94741,
    "start_time": "2021-10-15T03:57:26.328Z"
   },
   {
    "duration": 9,
    "start_time": "2021-10-15T03:59:02.220Z"
   },
   {
    "duration": 56,
    "start_time": "2021-10-15T03:59:03.442Z"
   },
   {
    "duration": 214,
    "start_time": "2021-10-15T04:29:48.942Z"
   },
   {
    "duration": 10,
    "start_time": "2021-10-15T04:30:10.976Z"
   },
   {
    "duration": 9,
    "start_time": "2021-10-15T04:30:26.206Z"
   },
   {
    "duration": 9,
    "start_time": "2021-10-15T04:30:28.457Z"
   },
   {
    "duration": 9,
    "start_time": "2021-10-15T04:30:36.367Z"
   },
   {
    "duration": 176,
    "start_time": "2021-10-15T04:32:04.880Z"
   },
   {
    "duration": 169,
    "start_time": "2021-10-15T04:32:25.515Z"
   },
   {
    "duration": 171,
    "start_time": "2021-10-15T04:35:29.306Z"
   },
   {
    "duration": 10,
    "start_time": "2021-10-15T04:35:34.718Z"
   },
   {
    "duration": 4,
    "start_time": "2021-10-15T04:35:36.434Z"
   },
   {
    "duration": 6,
    "start_time": "2021-10-15T04:37:34.682Z"
   },
   {
    "duration": 9,
    "start_time": "2021-10-15T04:37:44.187Z"
   },
   {
    "duration": 8,
    "start_time": "2021-10-15T04:38:22.688Z"
   },
   {
    "duration": 178,
    "start_time": "2021-10-15T04:46:10.267Z"
   },
   {
    "duration": 182,
    "start_time": "2021-10-15T04:46:26.232Z"
   },
   {
    "duration": 10,
    "start_time": "2021-10-15T04:46:30.819Z"
   },
   {
    "duration": 4,
    "start_time": "2021-10-15T04:47:45.838Z"
   },
   {
    "duration": 64,
    "start_time": "2021-10-15T04:50:30.163Z"
   },
   {
    "duration": 175,
    "start_time": "2021-10-15T04:50:40.972Z"
   },
   {
    "duration": 173,
    "start_time": "2021-10-15T04:50:56.568Z"
   },
   {
    "duration": 4,
    "start_time": "2021-10-15T04:51:22.402Z"
   },
   {
    "duration": 158,
    "start_time": "2021-10-15T04:54:47.093Z"
   },
   {
    "duration": 168,
    "start_time": "2021-10-15T04:59:17.031Z"
   },
   {
    "duration": 194,
    "start_time": "2021-10-15T05:01:32.206Z"
   },
   {
    "duration": 3,
    "start_time": "2021-10-15T05:02:13.312Z"
   },
   {
    "duration": 166,
    "start_time": "2021-10-15T05:02:31.250Z"
   },
   {
    "duration": 5,
    "start_time": "2021-10-15T05:03:47.964Z"
   },
   {
    "duration": 8,
    "start_time": "2021-10-15T05:04:02.060Z"
   },
   {
    "duration": 5,
    "start_time": "2021-10-15T05:04:21.012Z"
   },
   {
    "duration": 176,
    "start_time": "2021-10-15T05:04:21.564Z"
   },
   {
    "duration": 372,
    "start_time": "2021-10-15T05:18:50.934Z"
   },
   {
    "duration": 3527,
    "start_time": "2021-10-15T05:19:01.671Z"
   },
   {
    "duration": 175,
    "start_time": "2021-10-15T05:20:45.170Z"
   },
   {
    "duration": 3559,
    "start_time": "2021-10-15T05:20:46.045Z"
   },
   {
    "duration": 178,
    "start_time": "2021-10-15T05:21:24.340Z"
   },
   {
    "duration": 178,
    "start_time": "2021-10-15T05:21:33.885Z"
   },
   {
    "duration": 200,
    "start_time": "2021-10-15T05:22:16.122Z"
   },
   {
    "duration": 11,
    "start_time": "2021-10-15T05:22:37.665Z"
   },
   {
    "duration": 8,
    "start_time": "2021-10-15T05:22:38.895Z"
   },
   {
    "duration": 3536,
    "start_time": "2021-10-15T05:22:58.105Z"
   },
   {
    "duration": 8,
    "start_time": "2021-10-15T05:23:11.284Z"
   },
   {
    "duration": 5,
    "start_time": "2021-10-15T05:23:17.768Z"
   },
   {
    "duration": 139,
    "start_time": "2021-10-15T05:23:22.127Z"
   },
   {
    "duration": 10,
    "start_time": "2021-10-15T05:25:28.151Z"
   },
   {
    "duration": 4,
    "start_time": "2021-10-15T05:25:28.791Z"
   },
   {
    "duration": 139,
    "start_time": "2021-10-15T05:25:29.455Z"
   },
   {
    "duration": 10,
    "start_time": "2021-10-15T05:34:32.040Z"
   },
   {
    "duration": 4,
    "start_time": "2021-10-15T05:34:32.712Z"
   },
   {
    "duration": 133,
    "start_time": "2021-10-15T05:34:33.309Z"
   },
   {
    "duration": 229,
    "start_time": "2021-10-15T06:19:08.395Z"
   },
   {
    "duration": 232,
    "start_time": "2021-10-15T06:43:34.957Z"
   },
   {
    "duration": 4,
    "start_time": "2021-10-15T06:46:26.082Z"
   },
   {
    "duration": 203,
    "start_time": "2021-10-15T06:48:33.536Z"
   },
   {
    "duration": 219,
    "start_time": "2021-10-15T06:54:03.894Z"
   },
   {
    "duration": 337,
    "start_time": "2021-10-15T06:57:45.488Z"
   },
   {
    "duration": 180,
    "start_time": "2021-10-15T07:00:12.467Z"
   },
   {
    "duration": 2811,
    "start_time": "2021-10-15T07:00:41.796Z"
   },
   {
    "duration": 1172,
    "start_time": "2021-10-15T07:00:58.585Z"
   },
   {
    "duration": 2323,
    "start_time": "2021-10-15T07:01:47.757Z"
   },
   {
    "duration": 1366,
    "start_time": "2021-10-15T07:02:32.022Z"
   },
   {
    "duration": 236,
    "start_time": "2021-10-15T07:06:01.148Z"
   },
   {
    "duration": 193,
    "start_time": "2021-10-15T07:06:51.635Z"
   },
   {
    "duration": 204,
    "start_time": "2021-10-15T07:07:18.626Z"
   },
   {
    "duration": 197,
    "start_time": "2021-10-15T07:07:40.074Z"
   },
   {
    "duration": 340,
    "start_time": "2021-10-15T07:23:47.433Z"
   },
   {
    "duration": 253,
    "start_time": "2021-10-15T07:24:02.262Z"
   },
   {
    "duration": 994,
    "start_time": "2021-10-15T07:24:32.874Z"
   },
   {
    "duration": 232,
    "start_time": "2021-10-15T07:25:00.546Z"
   },
   {
    "duration": 955,
    "start_time": "2021-10-15T07:25:12.633Z"
   },
   {
    "duration": 1267,
    "start_time": "2021-10-15T07:25:45.874Z"
   },
   {
    "duration": 1232,
    "start_time": "2021-10-15T07:26:04.253Z"
   },
   {
    "duration": 221,
    "start_time": "2021-10-15T07:27:11.033Z"
   },
   {
    "duration": 3,
    "start_time": "2021-10-15T07:29:02.941Z"
   },
   {
    "duration": 2,
    "start_time": "2021-10-15T07:29:07.345Z"
   },
   {
    "duration": 5,
    "start_time": "2021-10-15T07:29:37.528Z"
   },
   {
    "duration": 4,
    "start_time": "2021-10-15T07:30:42.288Z"
   },
   {
    "duration": 196,
    "start_time": "2021-10-15T07:32:05.867Z"
   },
   {
    "duration": 3,
    "start_time": "2021-10-15T07:32:19.660Z"
   },
   {
    "duration": 173,
    "start_time": "2021-10-15T07:32:29.256Z"
   },
   {
    "duration": 841,
    "start_time": "2021-10-15T07:32:50.175Z"
   },
   {
    "duration": 211,
    "start_time": "2021-10-15T07:34:18.199Z"
   },
   {
    "duration": 3,
    "start_time": "2021-10-15T07:34:33.525Z"
   },
   {
    "duration": 1032,
    "start_time": "2021-10-15T07:35:32.311Z"
   },
   {
    "duration": 1190,
    "start_time": "2021-10-15T07:35:46.075Z"
   },
   {
    "duration": 2,
    "start_time": "2021-10-15T07:53:34.284Z"
   },
   {
    "duration": 9,
    "start_time": "2021-10-15T07:55:23.404Z"
   },
   {
    "duration": 7,
    "start_time": "2021-10-15T08:01:13.218Z"
   },
   {
    "duration": 7,
    "start_time": "2021-10-15T08:01:56.533Z"
   },
   {
    "duration": 7,
    "start_time": "2021-10-15T08:02:34.734Z"
   },
   {
    "duration": 6,
    "start_time": "2021-10-15T08:10:31.676Z"
   },
   {
    "duration": 7,
    "start_time": "2021-10-15T08:10:50.603Z"
   },
   {
    "duration": 58,
    "start_time": "2021-10-15T08:13:28.887Z"
   },
   {
    "duration": 226,
    "start_time": "2021-10-15T08:13:36.806Z"
   },
   {
    "duration": 7,
    "start_time": "2021-10-15T08:13:48.456Z"
   },
   {
    "duration": 64,
    "start_time": "2021-10-15T08:14:30.392Z"
   },
   {
    "duration": 63,
    "start_time": "2021-10-15T08:18:22.886Z"
   },
   {
    "duration": 137,
    "start_time": "2021-10-15T08:18:39.024Z"
   },
   {
    "duration": 259,
    "start_time": "2021-10-15T08:18:50.232Z"
   },
   {
    "duration": 61,
    "start_time": "2021-10-15T08:19:43.669Z"
   },
   {
    "duration": 61,
    "start_time": "2021-10-15T08:31:55.160Z"
   },
   {
    "duration": 62,
    "start_time": "2021-10-15T08:32:32.150Z"
   },
   {
    "duration": 63,
    "start_time": "2021-10-15T08:43:53.787Z"
   },
   {
    "duration": 61,
    "start_time": "2021-10-15T08:44:29.678Z"
   },
   {
    "duration": 229,
    "start_time": "2021-10-15T08:53:18.507Z"
   },
   {
    "duration": 62,
    "start_time": "2021-10-15T08:53:39.313Z"
   },
   {
    "duration": 61,
    "start_time": "2021-10-15T09:08:39.651Z"
   },
   {
    "duration": 62,
    "start_time": "2021-10-15T09:09:20.326Z"
   },
   {
    "duration": 61,
    "start_time": "2021-10-15T09:09:45.359Z"
   },
   {
    "duration": 61,
    "start_time": "2021-10-15T09:09:55.304Z"
   },
   {
    "duration": 62,
    "start_time": "2021-10-15T09:16:40.630Z"
   },
   {
    "duration": 64,
    "start_time": "2021-10-15T09:19:31.337Z"
   },
   {
    "duration": 62,
    "start_time": "2021-10-15T09:19:52.691Z"
   },
   {
    "duration": 265,
    "start_time": "2021-10-15T09:20:14.210Z"
   },
   {
    "duration": 311,
    "start_time": "2021-10-15T09:20:31.237Z"
   },
   {
    "duration": 63,
    "start_time": "2021-10-15T09:21:12.884Z"
   },
   {
    "duration": 60,
    "start_time": "2021-10-15T09:24:13.919Z"
   },
   {
    "duration": 62,
    "start_time": "2021-10-15T09:25:18.557Z"
   },
   {
    "duration": 253,
    "start_time": "2021-10-15T09:26:31.866Z"
   },
   {
    "duration": 62,
    "start_time": "2021-10-15T09:26:50.289Z"
   },
   {
    "duration": 61,
    "start_time": "2021-10-15T09:28:04.652Z"
   },
   {
    "duration": 61,
    "start_time": "2021-10-15T09:29:23.301Z"
   },
   {
    "duration": 63,
    "start_time": "2021-10-15T09:31:17.370Z"
   },
   {
    "duration": 60,
    "start_time": "2021-10-15T09:31:28.989Z"
   },
   {
    "duration": 63,
    "start_time": "2021-10-15T09:32:45.232Z"
   },
   {
    "duration": 56,
    "start_time": "2021-10-15T12:34:06.746Z"
   },
   {
    "duration": 62,
    "start_time": "2021-10-15T12:47:52.647Z"
   },
   {
    "duration": 5,
    "start_time": "2021-10-15T12:47:57.589Z"
   },
   {
    "duration": 193,
    "start_time": "2021-10-15T13:12:31.475Z"
   },
   {
    "duration": 5,
    "start_time": "2021-10-15T13:13:40.222Z"
   },
   {
    "duration": 386,
    "start_time": "2021-10-15T13:13:48.966Z"
   },
   {
    "duration": 13,
    "start_time": "2021-10-15T13:14:43.018Z"
   },
   {
    "duration": 6,
    "start_time": "2021-10-15T13:14:45.043Z"
   },
   {
    "duration": 16966,
    "start_time": "2021-10-15T13:14:49.955Z"
   },
   {
    "duration": 26647,
    "start_time": "2021-10-15T13:17:00.244Z"
   },
   {
    "duration": 479,
    "start_time": "2021-10-15T13:28:22.473Z"
   },
   {
    "duration": 1074,
    "start_time": "2021-10-15T13:29:17.604Z"
   },
   {
    "duration": 1512,
    "start_time": "2021-10-15T13:30:33.520Z"
   },
   {
    "duration": 526,
    "start_time": "2021-10-15T13:30:53.093Z"
   },
   {
    "duration": 1105,
    "start_time": "2021-10-15T13:31:04.860Z"
   },
   {
    "duration": 2557,
    "start_time": "2021-10-15T13:33:14.387Z"
   },
   {
    "duration": 2555,
    "start_time": "2021-10-15T13:44:43.473Z"
   },
   {
    "duration": 2617,
    "start_time": "2021-10-15T13:45:19.985Z"
   },
   {
    "duration": 5108,
    "start_time": "2021-10-15T13:45:54.662Z"
   },
   {
    "duration": 1740,
    "start_time": "2021-10-15T13:53:53.167Z"
   },
   {
    "duration": 2355,
    "start_time": "2021-10-15T13:55:43.596Z"
   },
   {
    "duration": 7573,
    "start_time": "2021-10-15T13:56:02.314Z"
   },
   {
    "duration": 7006,
    "start_time": "2021-10-15T13:56:16.548Z"
   },
   {
    "duration": 504,
    "start_time": "2021-10-15T13:56:54.094Z"
   },
   {
    "duration": 681,
    "start_time": "2021-10-15T13:57:19.064Z"
   },
   {
    "duration": 694,
    "start_time": "2021-10-15T14:03:37.195Z"
   },
   {
    "duration": 759,
    "start_time": "2021-10-15T14:04:10.816Z"
   },
   {
    "duration": 615,
    "start_time": "2021-10-15T14:04:39.358Z"
   },
   {
    "duration": 742,
    "start_time": "2021-10-15T14:04:56.622Z"
   },
   {
    "duration": 2142,
    "start_time": "2021-10-15T14:05:10.870Z"
   },
   {
    "duration": 7286,
    "start_time": "2021-10-15T14:05:26.150Z"
   },
   {
    "duration": 1069,
    "start_time": "2021-10-15T14:05:53.041Z"
   },
   {
    "duration": 493,
    "start_time": "2021-10-15T14:06:10.148Z"
   },
   {
    "duration": 424,
    "start_time": "2021-10-15T14:06:20.610Z"
   },
   {
    "duration": 484,
    "start_time": "2021-10-15T14:06:40.779Z"
   },
   {
    "duration": 511,
    "start_time": "2021-10-15T14:06:53.172Z"
   },
   {
    "duration": 703,
    "start_time": "2021-10-15T14:06:59.901Z"
   },
   {
    "duration": 2360,
    "start_time": "2021-10-15T14:07:12.814Z"
   },
   {
    "duration": 645,
    "start_time": "2021-10-15T14:07:28.361Z"
   },
   {
    "duration": 631,
    "start_time": "2021-10-15T14:07:36.311Z"
   },
   {
    "duration": 622,
    "start_time": "2021-10-15T14:07:54.120Z"
   },
   {
    "duration": 664,
    "start_time": "2021-10-15T14:07:59.345Z"
   },
   {
    "duration": 648,
    "start_time": "2021-10-15T14:08:46.022Z"
   },
   {
    "duration": 979,
    "start_time": "2021-10-15T14:09:16.837Z"
   },
   {
    "duration": 536,
    "start_time": "2021-10-15T14:10:49.844Z"
   },
   {
    "duration": 59,
    "start_time": "2021-10-15T14:11:08.663Z"
   },
   {
    "duration": 907,
    "start_time": "2021-10-15T14:12:09.946Z"
   },
   {
    "duration": 952,
    "start_time": "2021-10-15T14:12:17.602Z"
   },
   {
    "duration": 57,
    "start_time": "2021-10-15T14:15:15.173Z"
   },
   {
    "duration": 3,
    "start_time": "2021-10-15T14:15:32.677Z"
   },
   {
    "duration": 894,
    "start_time": "2021-10-15T14:15:43.543Z"
   },
   {
    "duration": 1130,
    "start_time": "2021-10-15T14:15:53.272Z"
   },
   {
    "duration": 1176,
    "start_time": "2021-10-15T14:16:05.831Z"
   },
   {
    "duration": 1169,
    "start_time": "2021-10-15T14:16:18.622Z"
   },
   {
    "duration": 1175,
    "start_time": "2021-10-15T14:17:09.181Z"
   },
   {
    "duration": 1143,
    "start_time": "2021-10-15T14:17:54.968Z"
   },
   {
    "duration": 96817,
    "start_time": "2021-10-15T16:54:54.069Z"
   },
   {
    "duration": 121,
    "start_time": "2021-10-16T01:39:09.659Z"
   },
   {
    "duration": 1583,
    "start_time": "2021-10-16T01:39:14.050Z"
   },
   {
    "duration": 20,
    "start_time": "2021-10-16T01:39:15.636Z"
   },
   {
    "duration": 17,
    "start_time": "2021-10-16T01:39:15.659Z"
   },
   {
    "duration": 8,
    "start_time": "2021-10-16T01:39:15.679Z"
   },
   {
    "duration": 4,
    "start_time": "2021-10-16T01:39:16.327Z"
   },
   {
    "duration": 10,
    "start_time": "2021-10-16T01:39:16.842Z"
   },
   {
    "duration": 5,
    "start_time": "2021-10-16T01:39:17.501Z"
   },
   {
    "duration": 3,
    "start_time": "2021-10-16T01:39:18.971Z"
   },
   {
    "duration": 9,
    "start_time": "2021-10-16T01:39:20.843Z"
   },
   {
    "duration": 19,
    "start_time": "2021-10-16T01:39:21.563Z"
   },
   {
    "duration": 8,
    "start_time": "2021-10-16T01:39:22.651Z"
   },
   {
    "duration": 776,
    "start_time": "2021-10-16T01:39:28.140Z"
   },
   {
    "duration": 5,
    "start_time": "2021-10-16T01:39:28.920Z"
   },
   {
    "duration": 2266,
    "start_time": "2021-10-16T01:39:41.046Z"
   },
   {
    "duration": 15,
    "start_time": "2021-10-16T01:39:43.315Z"
   },
   {
    "duration": 156354,
    "start_time": "2021-10-16T01:39:43.772Z"
   },
   {
    "duration": 468,
    "start_time": "2021-10-16T01:42:20.129Z"
   },
   {
    "duration": 4842,
    "start_time": "2021-10-16T01:42:15.758Z"
   },
   {
    "duration": 4841,
    "start_time": "2021-10-16T01:42:15.761Z"
   },
   {
    "duration": 4815,
    "start_time": "2021-10-16T01:42:15.788Z"
   },
   {
    "duration": 4804,
    "start_time": "2021-10-16T01:42:15.800Z"
   },
   {
    "duration": 4801,
    "start_time": "2021-10-16T01:42:15.804Z"
   },
   {
    "duration": 4800,
    "start_time": "2021-10-16T01:42:15.807Z"
   },
   {
    "duration": 4798,
    "start_time": "2021-10-16T01:42:15.810Z"
   },
   {
    "duration": 4798,
    "start_time": "2021-10-16T01:42:15.812Z"
   },
   {
    "duration": 4797,
    "start_time": "2021-10-16T01:42:15.814Z"
   },
   {
    "duration": 4796,
    "start_time": "2021-10-16T01:42:15.816Z"
   },
   {
    "duration": 4796,
    "start_time": "2021-10-16T01:42:15.818Z"
   },
   {
    "duration": 330,
    "start_time": "2021-10-16T01:45:45.221Z"
   },
   {
    "duration": 4,
    "start_time": "2021-10-16T01:48:19.152Z"
   },
   {
    "duration": 94,
    "start_time": "2021-10-16T01:48:19.159Z"
   },
   {
    "duration": 1541,
    "start_time": "2021-10-16T01:48:19.256Z"
   },
   {
    "duration": 22,
    "start_time": "2021-10-16T01:48:20.800Z"
   },
   {
    "duration": 19,
    "start_time": "2021-10-16T01:48:20.824Z"
   },
   {
    "duration": 23,
    "start_time": "2021-10-16T01:48:20.845Z"
   },
   {
    "duration": 5,
    "start_time": "2021-10-16T01:48:20.871Z"
   },
   {
    "duration": 16,
    "start_time": "2021-10-16T01:48:20.878Z"
   },
   {
    "duration": 5,
    "start_time": "2021-10-16T01:48:20.899Z"
   },
   {
    "duration": 4,
    "start_time": "2021-10-16T01:48:20.906Z"
   },
   {
    "duration": 11,
    "start_time": "2021-10-16T01:48:20.912Z"
   },
   {
    "duration": 50,
    "start_time": "2021-10-16T01:48:20.925Z"
   },
   {
    "duration": 8,
    "start_time": "2021-10-16T01:48:20.977Z"
   },
   {
    "duration": 887,
    "start_time": "2021-10-16T01:48:20.987Z"
   },
   {
    "duration": 4,
    "start_time": "2021-10-16T01:48:21.877Z"
   },
   {
    "duration": 2464,
    "start_time": "2021-10-16T01:48:21.883Z"
   },
   {
    "duration": 22,
    "start_time": "2021-10-16T01:48:24.350Z"
   },
   {
    "duration": 172563,
    "start_time": "2021-10-16T01:48:24.374Z"
   },
   {
    "duration": 5,
    "start_time": "2021-10-16T02:01:48.798Z"
   },
   {
    "duration": 119,
    "start_time": "2021-10-16T02:01:48.818Z"
   },
   {
    "duration": 1560,
    "start_time": "2021-10-16T02:01:48.940Z"
   },
   {
    "duration": 22,
    "start_time": "2021-10-16T02:01:50.503Z"
   },
   {
    "duration": 20,
    "start_time": "2021-10-16T02:01:50.527Z"
   },
   {
    "duration": 11,
    "start_time": "2021-10-16T02:01:50.563Z"
   },
   {
    "duration": 6,
    "start_time": "2021-10-16T02:01:50.577Z"
   },
   {
    "duration": 9,
    "start_time": "2021-10-16T02:01:50.587Z"
   },
   {
    "duration": 4,
    "start_time": "2021-10-16T02:01:50.599Z"
   },
   {
    "duration": 7,
    "start_time": "2021-10-16T02:01:50.606Z"
   },
   {
    "duration": 54,
    "start_time": "2021-10-16T02:01:50.616Z"
   },
   {
    "duration": 24,
    "start_time": "2021-10-16T02:01:50.672Z"
   },
   {
    "duration": 9,
    "start_time": "2021-10-16T02:01:50.698Z"
   },
   {
    "duration": 937,
    "start_time": "2021-10-16T02:01:50.709Z"
   },
   {
    "duration": 17,
    "start_time": "2021-10-16T02:01:51.650Z"
   },
   {
    "duration": 2582,
    "start_time": "2021-10-16T02:01:51.670Z"
   },
   {
    "duration": 15,
    "start_time": "2021-10-16T02:01:54.263Z"
   },
   {
    "duration": 171223,
    "start_time": "2021-10-16T02:01:54.281Z"
   },
   {
    "duration": 3,
    "start_time": "2021-10-16T02:04:45.506Z"
   },
   {
    "duration": 8,
    "start_time": "2021-10-16T02:04:45.511Z"
   },
   {
    "duration": 40,
    "start_time": "2021-10-16T02:04:45.522Z"
   },
   {
    "duration": 6,
    "start_time": "2021-10-16T02:04:45.564Z"
   },
   {
    "duration": 260,
    "start_time": "2021-10-16T02:04:45.575Z"
   },
   {
    "duration": 5,
    "start_time": "2021-10-16T02:04:45.838Z"
   },
   {
    "duration": 20,
    "start_time": "2021-10-16T02:04:45.845Z"
   },
   {
    "duration": 333,
    "start_time": "2021-10-16T02:04:45.867Z"
   },
   {
    "duration": 18,
    "start_time": "2021-10-16T02:04:46.203Z"
   },
   {
    "duration": 120,
    "start_time": "2021-10-16T02:04:46.224Z"
   },
   {
    "duration": 226,
    "start_time": "2021-10-16T02:04:46.346Z"
   },
   {
    "duration": 4856,
    "start_time": "2021-10-16T02:04:41.718Z"
   },
   {
    "duration": 4854,
    "start_time": "2021-10-16T02:04:41.721Z"
   },
   {
    "duration": 4853,
    "start_time": "2021-10-16T02:04:41.724Z"
   },
   {
    "duration": 4850,
    "start_time": "2021-10-16T02:04:41.728Z"
   },
   {
    "duration": 4850,
    "start_time": "2021-10-16T02:04:41.730Z"
   },
   {
    "duration": 4848,
    "start_time": "2021-10-16T02:04:41.733Z"
   },
   {
    "duration": 4847,
    "start_time": "2021-10-16T02:04:41.735Z"
   },
   {
    "duration": 4847,
    "start_time": "2021-10-16T02:04:41.737Z"
   },
   {
    "duration": 118,
    "start_time": "2021-10-16T02:06:09.325Z"
   },
   {
    "duration": 4,
    "start_time": "2021-10-16T02:07:49.638Z"
   },
   {
    "duration": 133,
    "start_time": "2021-10-16T02:07:49.645Z"
   },
   {
    "duration": 1535,
    "start_time": "2021-10-16T02:07:49.781Z"
   },
   {
    "duration": 23,
    "start_time": "2021-10-16T02:07:51.318Z"
   },
   {
    "duration": 30,
    "start_time": "2021-10-16T02:07:51.344Z"
   },
   {
    "duration": 13,
    "start_time": "2021-10-16T02:07:51.377Z"
   },
   {
    "duration": 13,
    "start_time": "2021-10-16T02:07:51.393Z"
   },
   {
    "duration": 10,
    "start_time": "2021-10-16T02:07:51.410Z"
   },
   {
    "duration": 5,
    "start_time": "2021-10-16T02:07:51.423Z"
   },
   {
    "duration": 3,
    "start_time": "2021-10-16T02:07:51.463Z"
   },
   {
    "duration": 11,
    "start_time": "2021-10-16T02:07:51.469Z"
   },
   {
    "duration": 26,
    "start_time": "2021-10-16T02:07:51.482Z"
   },
   {
    "duration": 8,
    "start_time": "2021-10-16T02:07:51.511Z"
   },
   {
    "duration": 1046,
    "start_time": "2021-10-16T02:07:51.522Z"
   },
   {
    "duration": 5,
    "start_time": "2021-10-16T02:07:52.571Z"
   },
   {
    "duration": 2554,
    "start_time": "2021-10-16T02:07:52.578Z"
   },
   {
    "duration": 28,
    "start_time": "2021-10-16T02:07:55.134Z"
   },
   {
    "duration": 167758,
    "start_time": "2021-10-16T02:07:55.164Z"
   },
   {
    "duration": 4,
    "start_time": "2021-10-16T02:10:42.924Z"
   },
   {
    "duration": 5,
    "start_time": "2021-10-16T02:13:03.125Z"
   },
   {
    "duration": 93,
    "start_time": "2021-10-16T02:13:03.132Z"
   },
   {
    "duration": 1516,
    "start_time": "2021-10-16T02:13:03.227Z"
   },
   {
    "duration": 21,
    "start_time": "2021-10-16T02:13:04.746Z"
   },
   {
    "duration": 17,
    "start_time": "2021-10-16T02:13:04.770Z"
   },
   {
    "duration": 8,
    "start_time": "2021-10-16T02:13:04.790Z"
   },
   {
    "duration": 7,
    "start_time": "2021-10-16T02:13:04.801Z"
   },
   {
    "duration": 10,
    "start_time": "2021-10-16T02:13:04.811Z"
   },
   {
    "duration": 39,
    "start_time": "2021-10-16T02:13:04.823Z"
   },
   {
    "duration": 4,
    "start_time": "2021-10-16T02:13:04.865Z"
   },
   {
    "duration": 11,
    "start_time": "2021-10-16T02:13:04.871Z"
   },
   {
    "duration": 22,
    "start_time": "2021-10-16T02:13:04.885Z"
   },
   {
    "duration": 7,
    "start_time": "2021-10-16T02:13:04.909Z"
   },
   {
    "duration": 900,
    "start_time": "2021-10-16T02:13:04.918Z"
   },
   {
    "duration": 5,
    "start_time": "2021-10-16T02:13:05.820Z"
   },
   {
    "duration": 2296,
    "start_time": "2021-10-16T02:13:05.827Z"
   },
   {
    "duration": 12,
    "start_time": "2021-10-16T02:13:08.126Z"
   },
   {
    "duration": 157629,
    "start_time": "2021-10-16T02:13:08.141Z"
   },
   {
    "duration": 4,
    "start_time": "2021-10-16T02:15:45.774Z"
   },
   {
    "duration": 320,
    "start_time": "2021-10-16T02:15:45.782Z"
   },
   {
    "duration": 3,
    "start_time": "2021-10-16T02:15:46.105Z"
   },
   {
    "duration": 18,
    "start_time": "2021-10-16T02:15:46.110Z"
   },
   {
    "duration": 5,
    "start_time": "2021-10-16T02:15:46.130Z"
   },
   {
    "duration": 255,
    "start_time": "2021-10-16T02:15:46.161Z"
   },
   {
    "duration": 6,
    "start_time": "2021-10-16T02:15:46.418Z"
   },
   {
    "duration": 8,
    "start_time": "2021-10-16T02:15:46.426Z"
   },
   {
    "duration": 358,
    "start_time": "2021-10-16T02:15:46.436Z"
   },
   {
    "duration": 12,
    "start_time": "2021-10-16T02:15:46.796Z"
   },
   {
    "duration": 107,
    "start_time": "2021-10-16T02:15:46.811Z"
   },
   {
    "duration": 102,
    "start_time": "2021-10-16T02:15:46.920Z"
   },
   {
    "duration": 4887,
    "start_time": "2021-10-16T02:15:42.138Z"
   },
   {
    "duration": 4884,
    "start_time": "2021-10-16T02:15:42.142Z"
   },
   {
    "duration": 4883,
    "start_time": "2021-10-16T02:15:42.144Z"
   },
   {
    "duration": 4875,
    "start_time": "2021-10-16T02:15:42.154Z"
   },
   {
    "duration": 4869,
    "start_time": "2021-10-16T02:15:42.161Z"
   },
   {
    "duration": 4869,
    "start_time": "2021-10-16T02:15:42.163Z"
   },
   {
    "duration": 4867,
    "start_time": "2021-10-16T02:15:42.166Z"
   },
   {
    "duration": 4859,
    "start_time": "2021-10-16T02:15:42.175Z"
   },
   {
    "duration": 766,
    "start_time": "2021-10-16T02:22:00.954Z"
   },
   {
    "duration": 4,
    "start_time": "2021-10-17T09:12:33.825Z"
   },
   {
    "duration": 139,
    "start_time": "2021-10-17T09:12:33.833Z"
   },
   {
    "duration": 1492,
    "start_time": "2021-10-17T09:12:33.975Z"
   },
   {
    "duration": 23,
    "start_time": "2021-10-17T09:12:35.469Z"
   },
   {
    "duration": 20,
    "start_time": "2021-10-17T09:12:35.494Z"
   },
   {
    "duration": 15,
    "start_time": "2021-10-17T09:12:35.517Z"
   },
   {
    "duration": 3,
    "start_time": "2021-10-17T09:12:35.535Z"
   },
   {
    "duration": 12,
    "start_time": "2021-10-17T09:12:35.541Z"
   },
   {
    "duration": 5,
    "start_time": "2021-10-17T09:12:35.559Z"
   },
   {
    "duration": 5,
    "start_time": "2021-10-17T09:12:35.568Z"
   },
   {
    "duration": 51,
    "start_time": "2021-10-17T09:12:35.575Z"
   },
   {
    "duration": 24,
    "start_time": "2021-10-17T09:12:35.628Z"
   },
   {
    "duration": 8,
    "start_time": "2021-10-17T09:12:35.654Z"
   },
   {
    "duration": 845,
    "start_time": "2021-10-17T09:12:35.665Z"
   },
   {
    "duration": 4,
    "start_time": "2021-10-17T09:12:36.521Z"
   },
   {
    "duration": 2248,
    "start_time": "2021-10-17T09:12:36.528Z"
   },
   {
    "duration": 12,
    "start_time": "2021-10-17T09:12:38.779Z"
   },
   {
    "duration": 154618,
    "start_time": "2021-10-17T09:12:38.794Z"
   },
   {
    "duration": 8,
    "start_time": "2021-10-17T09:15:13.414Z"
   },
   {
    "duration": 670,
    "start_time": "2021-10-17T09:15:13.425Z"
   },
   {
    "duration": 6351,
    "start_time": "2021-10-17T09:15:07.747Z"
   },
   {
    "duration": 6347,
    "start_time": "2021-10-17T09:15:07.752Z"
   },
   {
    "duration": 6344,
    "start_time": "2021-10-17T09:15:07.757Z"
   },
   {
    "duration": 6341,
    "start_time": "2021-10-17T09:15:07.761Z"
   },
   {
    "duration": 6340,
    "start_time": "2021-10-17T09:15:07.764Z"
   },
   {
    "duration": 6338,
    "start_time": "2021-10-17T09:15:07.767Z"
   },
   {
    "duration": 6336,
    "start_time": "2021-10-17T09:15:07.771Z"
   },
   {
    "duration": 6333,
    "start_time": "2021-10-17T09:15:07.775Z"
   },
   {
    "duration": 6344,
    "start_time": "2021-10-17T09:15:07.778Z"
   },
   {
    "duration": 6342,
    "start_time": "2021-10-17T09:15:07.781Z"
   },
   {
    "duration": 6341,
    "start_time": "2021-10-17T09:15:07.784Z"
   },
   {
    "duration": 6337,
    "start_time": "2021-10-17T09:15:07.789Z"
   },
   {
    "duration": 6336,
    "start_time": "2021-10-17T09:15:07.792Z"
   },
   {
    "duration": 6335,
    "start_time": "2021-10-17T09:15:07.794Z"
   },
   {
    "duration": 6334,
    "start_time": "2021-10-17T09:15:07.796Z"
   },
   {
    "duration": 6333,
    "start_time": "2021-10-17T09:15:07.798Z"
   },
   {
    "duration": 6332,
    "start_time": "2021-10-17T09:15:07.801Z"
   },
   {
    "duration": 6321,
    "start_time": "2021-10-17T09:15:07.813Z"
   },
   {
    "duration": 592,
    "start_time": "2021-10-17T09:39:07.887Z"
   },
   {
    "duration": 298,
    "start_time": "2021-10-17T09:39:24.376Z"
   },
   {
    "duration": 743,
    "start_time": "2021-10-17T09:39:46.953Z"
   },
   {
    "duration": 550,
    "start_time": "2021-10-17T09:41:18.434Z"
   },
   {
    "duration": 304,
    "start_time": "2021-10-17T09:45:03.110Z"
   },
   {
    "duration": 404,
    "start_time": "2021-10-17T09:45:17.721Z"
   },
   {
    "duration": 397,
    "start_time": "2021-10-17T09:45:27.406Z"
   },
   {
    "duration": 294,
    "start_time": "2021-10-17T09:45:43.472Z"
   },
   {
    "duration": 311,
    "start_time": "2021-10-17T09:45:50.584Z"
   },
   {
    "duration": 292,
    "start_time": "2021-10-17T09:45:55.168Z"
   },
   {
    "duration": 422,
    "start_time": "2021-10-17T09:46:01.817Z"
   },
   {
    "duration": 560,
    "start_time": "2021-10-17T09:46:12.512Z"
   },
   {
    "duration": 514,
    "start_time": "2021-10-17T09:46:26.923Z"
   },
   {
    "duration": 587,
    "start_time": "2021-10-17T09:46:43.526Z"
   },
   {
    "duration": 4,
    "start_time": "2021-10-17T09:48:30.738Z"
   },
   {
    "duration": 18,
    "start_time": "2021-10-17T09:48:31.202Z"
   },
   {
    "duration": 6,
    "start_time": "2021-10-17T09:48:32.371Z"
   },
   {
    "duration": 331,
    "start_time": "2021-10-17T09:48:32.807Z"
   },
   {
    "duration": 5,
    "start_time": "2021-10-17T09:48:33.353Z"
   },
   {
    "duration": 6,
    "start_time": "2021-10-17T09:48:34.313Z"
   },
   {
    "duration": 340,
    "start_time": "2021-10-17T09:48:34.601Z"
   },
   {
    "duration": 13,
    "start_time": "2021-10-17T09:48:36.010Z"
   },
   {
    "duration": 89,
    "start_time": "2021-10-17T09:48:36.553Z"
   },
   {
    "duration": 93,
    "start_time": "2021-10-17T09:48:37.730Z"
   },
   {
    "duration": 95,
    "start_time": "2021-10-17T09:48:37.930Z"
   },
   {
    "duration": 87,
    "start_time": "2021-10-17T10:08:53.736Z"
   },
   {
    "duration": 13,
    "start_time": "2021-10-17T10:08:55.721Z"
   },
   {
    "duration": 695,
    "start_time": "2021-10-17T10:11:04.441Z"
   },
   {
    "duration": 6627,
    "start_time": "2021-10-17T10:11:59.797Z"
   },
   {
    "duration": 91,
    "start_time": "2021-10-17T10:13:26.266Z"
   },
   {
    "duration": 746,
    "start_time": "2021-10-17T10:18:56.345Z"
   },
   {
    "duration": 6766,
    "start_time": "2021-10-17T10:18:59.648Z"
   },
   {
    "duration": 862,
    "start_time": "2021-10-17T10:19:07.545Z"
   },
   {
    "duration": 1200,
    "start_time": "2021-10-17T10:19:37.994Z"
   },
   {
    "duration": 5,
    "start_time": "2021-10-17T10:20:03.578Z"
   },
   {
    "duration": 4,
    "start_time": "2021-10-17T10:21:02.815Z"
   },
   {
    "duration": 5,
    "start_time": "2021-10-17T10:21:18.735Z"
   },
   {
    "duration": 4,
    "start_time": "2021-10-17T10:21:42.802Z"
   },
   {
    "duration": 6745,
    "start_time": "2021-10-17T10:22:28.997Z"
   },
   {
    "duration": 704,
    "start_time": "2021-10-17T10:22:49.734Z"
   },
   {
    "duration": 5,
    "start_time": "2021-10-17T10:22:54.286Z"
   },
   {
    "duration": 637,
    "start_time": "2021-10-17T10:23:07.744Z"
   },
   {
    "duration": 3477,
    "start_time": "2021-10-17T10:23:22.784Z"
   },
   {
    "duration": 3540,
    "start_time": "2021-10-17T10:23:27.552Z"
   },
   {
    "duration": 5,
    "start_time": "2021-10-17T10:23:31.095Z"
   },
   {
    "duration": 618,
    "start_time": "2021-10-17T10:23:31.104Z"
   },
   {
    "duration": 1956,
    "start_time": "2021-10-17T12:12:58.758Z"
   },
   {
    "duration": 727,
    "start_time": "2021-10-17T12:23:41.280Z"
   },
   {
    "duration": 721,
    "start_time": "2021-10-17T12:23:48.672Z"
   },
   {
    "duration": 808,
    "start_time": "2021-10-17T12:23:56.328Z"
   },
   {
    "duration": 573,
    "start_time": "2021-10-17T12:25:03.340Z"
   },
   {
    "duration": 1005,
    "start_time": "2021-10-17T12:25:14.368Z"
   },
   {
    "duration": 825,
    "start_time": "2021-10-17T12:35:25.124Z"
   },
   {
    "duration": 711,
    "start_time": "2021-10-17T12:35:33.277Z"
   },
   {
    "duration": 3,
    "start_time": "2021-10-17T12:37:56.303Z"
   },
   {
    "duration": 17,
    "start_time": "2021-10-17T12:37:56.502Z"
   },
   {
    "duration": 7,
    "start_time": "2021-10-17T12:37:56.750Z"
   },
   {
    "duration": 218,
    "start_time": "2021-10-17T12:37:56.978Z"
   },
   {
    "duration": 5,
    "start_time": "2021-10-17T12:37:58.021Z"
   },
   {
    "duration": 6,
    "start_time": "2021-10-17T12:37:58.285Z"
   },
   {
    "duration": 426,
    "start_time": "2021-10-17T12:37:58.525Z"
   },
   {
    "duration": 13,
    "start_time": "2021-10-17T12:38:00.166Z"
   },
   {
    "duration": 92,
    "start_time": "2021-10-17T12:38:00.358Z"
   },
   {
    "duration": 109,
    "start_time": "2021-10-17T12:38:02.013Z"
   },
   {
    "duration": 530,
    "start_time": "2021-10-17T12:38:52.578Z"
   },
   {
    "duration": 4,
    "start_time": "2021-10-17T12:39:05.241Z"
   },
   {
    "duration": 155323,
    "start_time": "2021-10-17T12:39:05.771Z"
   },
   {
    "duration": 4,
    "start_time": "2021-10-17T12:41:41.097Z"
   },
   {
    "duration": 265,
    "start_time": "2021-10-17T12:42:54.177Z"
   },
   {
    "duration": 276,
    "start_time": "2021-10-17T12:43:49.717Z"
   },
   {
    "duration": 365,
    "start_time": "2021-10-17T12:44:19.465Z"
   },
   {
    "duration": 266,
    "start_time": "2021-10-17T12:47:06.619Z"
   },
   {
    "duration": 573,
    "start_time": "2021-10-17T12:47:22.818Z"
   },
   {
    "duration": 364,
    "start_time": "2021-10-17T12:47:32.267Z"
   },
   {
    "duration": 397,
    "start_time": "2021-10-17T12:48:50.192Z"
   },
   {
    "duration": 621,
    "start_time": "2021-10-17T12:48:58.408Z"
   },
   {
    "duration": 582,
    "start_time": "2021-10-17T12:49:04.681Z"
   },
   {
    "duration": 4,
    "start_time": "2021-10-17T12:49:20.875Z"
   },
   {
    "duration": 104,
    "start_time": "2021-10-17T12:49:20.882Z"
   },
   {
    "duration": 1539,
    "start_time": "2021-10-17T12:49:20.989Z"
   },
   {
    "duration": 22,
    "start_time": "2021-10-17T12:49:22.531Z"
   },
   {
    "duration": 20,
    "start_time": "2021-10-17T12:49:22.556Z"
   },
   {
    "duration": 12,
    "start_time": "2021-10-17T12:49:22.578Z"
   },
   {
    "duration": 28,
    "start_time": "2021-10-17T12:49:22.594Z"
   },
   {
    "duration": 18,
    "start_time": "2021-10-17T12:49:22.626Z"
   },
   {
    "duration": 5,
    "start_time": "2021-10-17T12:49:22.647Z"
   },
   {
    "duration": 6,
    "start_time": "2021-10-17T12:49:22.655Z"
   },
   {
    "duration": 14,
    "start_time": "2021-10-17T12:49:22.664Z"
   },
   {
    "duration": 50,
    "start_time": "2021-10-17T12:49:22.682Z"
   },
   {
    "duration": 9,
    "start_time": "2021-10-17T12:49:22.735Z"
   },
   {
    "duration": 431,
    "start_time": "2021-10-17T12:49:22.747Z"
   },
   {
    "duration": 6530,
    "start_time": "2021-10-17T12:49:16.651Z"
   },
   {
    "duration": 6521,
    "start_time": "2021-10-17T12:49:16.661Z"
   },
   {
    "duration": 6518,
    "start_time": "2021-10-17T12:49:16.665Z"
   },
   {
    "duration": 6516,
    "start_time": "2021-10-17T12:49:16.668Z"
   },
   {
    "duration": 6514,
    "start_time": "2021-10-17T12:49:16.672Z"
   },
   {
    "duration": 6506,
    "start_time": "2021-10-17T12:49:16.681Z"
   },
   {
    "duration": 6498,
    "start_time": "2021-10-17T12:49:16.690Z"
   },
   {
    "duration": 6496,
    "start_time": "2021-10-17T12:49:16.694Z"
   },
   {
    "duration": 6493,
    "start_time": "2021-10-17T12:49:16.698Z"
   },
   {
    "duration": 6492,
    "start_time": "2021-10-17T12:49:16.700Z"
   },
   {
    "duration": 6490,
    "start_time": "2021-10-17T12:49:16.703Z"
   },
   {
    "duration": 6420,
    "start_time": "2021-10-17T12:49:16.775Z"
   },
   {
    "duration": 6418,
    "start_time": "2021-10-17T12:49:16.778Z"
   },
   {
    "duration": 6361,
    "start_time": "2021-10-17T12:49:16.837Z"
   },
   {
    "duration": 6359,
    "start_time": "2021-10-17T12:49:16.840Z"
   },
   {
    "duration": 6359,
    "start_time": "2021-10-17T12:49:16.842Z"
   },
   {
    "duration": 6357,
    "start_time": "2021-10-17T12:49:16.845Z"
   },
   {
    "duration": 281,
    "start_time": "2021-10-17T12:55:39.427Z"
   },
   {
    "duration": 3572,
    "start_time": "2021-10-17T12:55:59.701Z"
   },
   {
    "duration": 4,
    "start_time": "2021-10-17T12:56:45.849Z"
   },
   {
    "duration": 98,
    "start_time": "2021-10-17T12:56:45.856Z"
   },
   {
    "duration": 1479,
    "start_time": "2021-10-17T12:56:45.957Z"
   },
   {
    "duration": 22,
    "start_time": "2021-10-17T12:56:47.439Z"
   },
   {
    "duration": 18,
    "start_time": "2021-10-17T12:56:47.464Z"
   },
   {
    "duration": 9,
    "start_time": "2021-10-17T12:56:47.485Z"
   },
   {
    "duration": 25,
    "start_time": "2021-10-17T12:56:47.497Z"
   },
   {
    "duration": 9,
    "start_time": "2021-10-17T12:56:47.525Z"
   },
   {
    "duration": 5,
    "start_time": "2021-10-17T12:56:47.537Z"
   },
   {
    "duration": 7,
    "start_time": "2021-10-17T12:56:47.545Z"
   },
   {
    "duration": 9,
    "start_time": "2021-10-17T12:56:47.555Z"
   },
   {
    "duration": 59,
    "start_time": "2021-10-17T12:56:47.566Z"
   },
   {
    "duration": 8,
    "start_time": "2021-10-17T12:56:47.627Z"
   },
   {
    "duration": 3784,
    "start_time": "2021-10-17T12:56:47.638Z"
   },
   {
    "duration": 598,
    "start_time": "2021-10-17T12:56:51.424Z"
   },
   {
    "duration": 5,
    "start_time": "2021-10-17T12:56:52.024Z"
   },
   {
    "duration": 2055,
    "start_time": "2021-10-17T12:56:52.032Z"
   },
   {
    "duration": 36,
    "start_time": "2021-10-17T12:56:54.090Z"
   },
   {
    "duration": 157669,
    "start_time": "2021-10-17T12:56:54.131Z"
   },
   {
    "duration": 4,
    "start_time": "2021-10-17T12:59:31.803Z"
   },
   {
    "duration": 547,
    "start_time": "2021-10-17T12:59:31.821Z"
   },
   {
    "duration": 3,
    "start_time": "2021-10-17T12:59:32.370Z"
   },
   {
    "duration": 18,
    "start_time": "2021-10-17T12:59:32.376Z"
   },
   {
    "duration": 26,
    "start_time": "2021-10-17T12:59:32.396Z"
   },
   {
    "duration": 251,
    "start_time": "2021-10-17T12:59:32.424Z"
   },
   {
    "duration": 6,
    "start_time": "2021-10-17T12:59:32.678Z"
   },
   {
    "duration": 9,
    "start_time": "2021-10-17T12:59:32.686Z"
   },
   {
    "duration": 349,
    "start_time": "2021-10-17T12:59:32.697Z"
   },
   {
    "duration": 13,
    "start_time": "2021-10-17T12:59:33.049Z"
   },
   {
    "duration": 113,
    "start_time": "2021-10-17T12:59:33.065Z"
   },
   {
    "duration": 101,
    "start_time": "2021-10-17T12:59:33.181Z"
   },
   {
    "duration": 392,
    "start_time": "2021-10-17T13:02:28.089Z"
   },
   {
    "duration": 140,
    "start_time": "2021-10-17T13:04:27.668Z"
   },
   {
    "duration": 1678,
    "start_time": "2021-10-17T13:04:28.740Z"
   },
   {
    "duration": 22,
    "start_time": "2021-10-17T13:04:30.423Z"
   },
   {
    "duration": 30,
    "start_time": "2021-10-17T13:04:30.447Z"
   },
   {
    "duration": 27,
    "start_time": "2021-10-17T13:04:30.479Z"
   },
   {
    "duration": 3,
    "start_time": "2021-10-17T13:04:31.349Z"
   },
   {
    "duration": 9,
    "start_time": "2021-10-17T13:04:31.908Z"
   },
   {
    "duration": 6,
    "start_time": "2021-10-17T13:04:32.381Z"
   },
   {
    "duration": 4,
    "start_time": "2021-10-17T13:04:33.068Z"
   },
   {
    "duration": 8,
    "start_time": "2021-10-17T13:04:33.852Z"
   },
   {
    "duration": 20,
    "start_time": "2021-10-17T13:04:34.172Z"
   },
   {
    "duration": 8,
    "start_time": "2021-10-17T13:04:34.501Z"
   },
   {
    "duration": 411,
    "start_time": "2021-10-17T13:04:36.412Z"
   },
   {
    "duration": 3572,
    "start_time": "2021-10-17T13:04:44.870Z"
   },
   {
    "duration": 384,
    "start_time": "2021-10-17T13:05:15.489Z"
   },
   {
    "duration": 566,
    "start_time": "2021-10-17T13:05:37.659Z"
   },
   {
    "duration": 4,
    "start_time": "2021-10-17T13:06:32.577Z"
   },
   {
    "duration": 99,
    "start_time": "2021-10-17T13:06:32.583Z"
   },
   {
    "duration": 1645,
    "start_time": "2021-10-17T13:06:32.685Z"
   },
   {
    "duration": 25,
    "start_time": "2021-10-17T13:06:34.334Z"
   },
   {
    "duration": 26,
    "start_time": "2021-10-17T13:06:34.362Z"
   },
   {
    "duration": 12,
    "start_time": "2021-10-17T13:06:34.391Z"
   },
   {
    "duration": 5,
    "start_time": "2021-10-17T13:06:34.424Z"
   },
   {
    "duration": 12,
    "start_time": "2021-10-17T13:06:34.433Z"
   },
   {
    "duration": 10,
    "start_time": "2021-10-17T13:06:34.448Z"
   },
   {
    "duration": 5,
    "start_time": "2021-10-17T13:06:34.461Z"
   },
   {
    "duration": 16,
    "start_time": "2021-10-17T13:06:34.469Z"
   },
   {
    "duration": 51,
    "start_time": "2021-10-17T13:06:34.487Z"
   },
   {
    "duration": 7,
    "start_time": "2021-10-17T13:06:34.540Z"
   },
   {
    "duration": 3618,
    "start_time": "2021-10-17T13:06:34.549Z"
   },
   {
    "duration": 598,
    "start_time": "2021-10-17T13:06:38.170Z"
   },
   {
    "duration": 5,
    "start_time": "2021-10-17T13:06:38.771Z"
   },
   {
    "duration": 2010,
    "start_time": "2021-10-17T13:06:38.779Z"
   },
   {
    "duration": 30,
    "start_time": "2021-10-17T13:06:40.792Z"
   },
   {
    "duration": 157018,
    "start_time": "2021-10-17T13:06:40.827Z"
   },
   {
    "duration": 5,
    "start_time": "2021-10-17T13:09:17.849Z"
   },
   {
    "duration": 567,
    "start_time": "2021-10-17T13:09:17.857Z"
   },
   {
    "duration": 3,
    "start_time": "2021-10-17T13:09:18.426Z"
   },
   {
    "duration": 21,
    "start_time": "2021-10-17T13:09:18.432Z"
   },
   {
    "duration": 6,
    "start_time": "2021-10-17T13:09:18.455Z"
   },
   {
    "duration": 261,
    "start_time": "2021-10-17T13:09:18.464Z"
   },
   {
    "duration": 6,
    "start_time": "2021-10-17T13:09:18.727Z"
   },
   {
    "duration": 11,
    "start_time": "2021-10-17T13:09:18.735Z"
   },
   {
    "duration": 334,
    "start_time": "2021-10-17T13:09:18.749Z"
   },
   {
    "duration": 13,
    "start_time": "2021-10-17T13:09:19.086Z"
   },
   {
    "duration": 103,
    "start_time": "2021-10-17T13:09:19.102Z"
   },
   {
    "duration": 108,
    "start_time": "2021-10-17T13:09:19.224Z"
   },
   {
    "duration": 3663,
    "start_time": "2021-10-17T13:15:00.162Z"
   },
   {
    "duration": 581,
    "start_time": "2021-10-17T13:15:03.828Z"
   },
   {
    "duration": 158279,
    "start_time": "2021-10-17T13:16:02.143Z"
   },
   {
    "duration": 5,
    "start_time": "2021-10-17T13:19:16.872Z"
   },
   {
    "duration": 5,
    "start_time": "2021-10-17T13:26:06.316Z"
   },
   {
    "duration": 420,
    "start_time": "2021-10-17T13:27:00.752Z"
   },
   {
    "duration": 3474,
    "start_time": "2021-10-17T13:27:25.121Z"
   },
   {
    "duration": 5,
    "start_time": "2021-10-17T13:27:36.568Z"
   },
   {
    "duration": 3461,
    "start_time": "2021-10-17T13:28:42.607Z"
   },
   {
    "duration": 5,
    "start_time": "2021-10-17T13:28:50.606Z"
   },
   {
    "duration": 582,
    "start_time": "2021-10-17T13:28:53.631Z"
   },
   {
    "duration": 10,
    "start_time": "2021-10-17T13:29:22.627Z"
   },
   {
    "duration": 106,
    "start_time": "2021-10-17T13:29:22.640Z"
   },
   {
    "duration": 1558,
    "start_time": "2021-10-17T13:29:22.750Z"
   },
   {
    "duration": 24,
    "start_time": "2021-10-17T13:29:24.310Z"
   },
   {
    "duration": 19,
    "start_time": "2021-10-17T13:29:24.338Z"
   },
   {
    "duration": 8,
    "start_time": "2021-10-17T13:29:24.360Z"
   },
   {
    "duration": 4,
    "start_time": "2021-10-17T13:29:24.371Z"
   },
   {
    "duration": 53,
    "start_time": "2021-10-17T13:29:24.380Z"
   },
   {
    "duration": 9,
    "start_time": "2021-10-17T13:29:24.436Z"
   },
   {
    "duration": 4,
    "start_time": "2021-10-17T13:29:24.448Z"
   },
   {
    "duration": 13,
    "start_time": "2021-10-17T13:29:24.454Z"
   },
   {
    "duration": 21,
    "start_time": "2021-10-17T13:29:24.470Z"
   },
   {
    "duration": 10,
    "start_time": "2021-10-17T13:29:24.523Z"
   },
   {
    "duration": 439,
    "start_time": "2021-10-17T13:29:24.537Z"
   },
   {
    "duration": 6548,
    "start_time": "2021-10-17T13:29:18.431Z"
   },
   {
    "duration": 6545,
    "start_time": "2021-10-17T13:29:18.435Z"
   },
   {
    "duration": 6542,
    "start_time": "2021-10-17T13:29:18.439Z"
   },
   {
    "duration": 6542,
    "start_time": "2021-10-17T13:29:18.441Z"
   },
   {
    "duration": 6540,
    "start_time": "2021-10-17T13:29:18.444Z"
   },
   {
    "duration": 6541,
    "start_time": "2021-10-17T13:29:18.445Z"
   },
   {
    "duration": 6538,
    "start_time": "2021-10-17T13:29:18.449Z"
   },
   {
    "duration": 6538,
    "start_time": "2021-10-17T13:29:18.451Z"
   },
   {
    "duration": 6532,
    "start_time": "2021-10-17T13:29:18.458Z"
   },
   {
    "duration": 6531,
    "start_time": "2021-10-17T13:29:18.461Z"
   },
   {
    "duration": 6530,
    "start_time": "2021-10-17T13:29:18.463Z"
   },
   {
    "duration": 6528,
    "start_time": "2021-10-17T13:29:18.466Z"
   },
   {
    "duration": 6528,
    "start_time": "2021-10-17T13:29:18.468Z"
   },
   {
    "duration": 6527,
    "start_time": "2021-10-17T13:29:18.470Z"
   },
   {
    "duration": 6527,
    "start_time": "2021-10-17T13:29:18.471Z"
   },
   {
    "duration": 6527,
    "start_time": "2021-10-17T13:29:18.473Z"
   },
   {
    "duration": 6526,
    "start_time": "2021-10-17T13:29:18.475Z"
   },
   {
    "duration": 6526,
    "start_time": "2021-10-17T13:29:18.477Z"
   },
   {
    "duration": 3526,
    "start_time": "2021-10-17T13:31:16.248Z"
   },
   {
    "duration": 5,
    "start_time": "2021-10-17T13:34:34.709Z"
   },
   {
    "duration": 7,
    "start_time": "2021-10-17T13:34:54.225Z"
   },
   {
    "duration": 736,
    "start_time": "2021-10-17T13:34:58.558Z"
   },
   {
    "duration": 4,
    "start_time": "2021-10-17T13:36:46.901Z"
   },
   {
    "duration": 3728,
    "start_time": "2021-10-17T13:36:53.503Z"
   },
   {
    "duration": 7,
    "start_time": "2021-10-17T13:37:01.177Z"
   },
   {
    "duration": 662,
    "start_time": "2021-10-17T13:37:07.328Z"
   },
   {
    "duration": 4615,
    "start_time": "2021-10-17T13:37:49.594Z"
   },
   {
    "duration": 14,
    "start_time": "2021-10-17T13:37:54.212Z"
   },
   {
    "duration": 4,
    "start_time": "2021-10-17T13:59:20.287Z"
   },
   {
    "duration": 103,
    "start_time": "2021-10-17T13:59:20.294Z"
   },
   {
    "duration": 1563,
    "start_time": "2021-10-17T13:59:20.400Z"
   },
   {
    "duration": 22,
    "start_time": "2021-10-17T13:59:21.966Z"
   },
   {
    "duration": 19,
    "start_time": "2021-10-17T13:59:21.990Z"
   },
   {
    "duration": 15,
    "start_time": "2021-10-17T13:59:22.012Z"
   },
   {
    "duration": 4,
    "start_time": "2021-10-17T13:59:22.030Z"
   },
   {
    "duration": 17,
    "start_time": "2021-10-17T13:59:22.037Z"
   },
   {
    "duration": 8,
    "start_time": "2021-10-17T13:59:22.058Z"
   },
   {
    "duration": 6,
    "start_time": "2021-10-17T13:59:22.070Z"
   },
   {
    "duration": 43,
    "start_time": "2021-10-17T13:59:22.079Z"
   },
   {
    "duration": 29,
    "start_time": "2021-10-17T13:59:22.125Z"
   },
   {
    "duration": 8,
    "start_time": "2021-10-17T13:59:22.157Z"
   },
   {
    "duration": 3501,
    "start_time": "2021-10-17T13:59:22.168Z"
   },
   {
    "duration": 2,
    "start_time": "2021-10-17T13:59:25.672Z"
   },
   {
    "duration": 619,
    "start_time": "2021-10-17T13:59:25.676Z"
   },
   {
    "duration": 4,
    "start_time": "2021-10-17T13:59:26.298Z"
   },
   {
    "duration": 2075,
    "start_time": "2021-10-17T13:59:26.304Z"
   },
   {
    "duration": 11,
    "start_time": "2021-10-17T13:59:28.382Z"
   },
   {
    "duration": 158382,
    "start_time": "2021-10-17T13:59:28.396Z"
   },
   {
    "duration": 5,
    "start_time": "2021-10-17T14:02:06.781Z"
   },
   {
    "duration": 564,
    "start_time": "2021-10-17T14:02:06.788Z"
   },
   {
    "duration": 4,
    "start_time": "2021-10-17T14:02:07.354Z"
   },
   {
    "duration": 34,
    "start_time": "2021-10-17T14:02:07.360Z"
   },
   {
    "duration": 7,
    "start_time": "2021-10-17T14:02:07.397Z"
   },
   {
    "duration": 243,
    "start_time": "2021-10-17T14:02:07.406Z"
   },
   {
    "duration": 5,
    "start_time": "2021-10-17T14:02:07.653Z"
   },
   {
    "duration": 9,
    "start_time": "2021-10-17T14:02:07.661Z"
   },
   {
    "duration": 336,
    "start_time": "2021-10-17T14:02:07.673Z"
   },
   {
    "duration": 14,
    "start_time": "2021-10-17T14:02:08.012Z"
   },
   {
    "duration": 113,
    "start_time": "2021-10-17T14:02:08.028Z"
   },
   {
    "duration": 101,
    "start_time": "2021-10-17T14:02:08.143Z"
   },
   {
    "duration": 15,
    "start_time": "2021-10-17T14:08:48.406Z"
   },
   {
    "duration": 703,
    "start_time": "2021-10-17T14:12:57.754Z"
   },
   {
    "duration": 15,
    "start_time": "2021-10-17T14:13:13.318Z"
   },
   {
    "duration": 16,
    "start_time": "2021-10-17T14:15:02.870Z"
   },
   {
    "duration": 273,
    "start_time": "2021-10-17T14:18:14.162Z"
   },
   {
    "duration": 270,
    "start_time": "2021-10-17T14:18:29.677Z"
   },
   {
    "duration": 453,
    "start_time": "2021-10-17T14:20:03.161Z"
   },
   {
    "duration": 730,
    "start_time": "2021-10-17T14:21:26.271Z"
   },
   {
    "duration": 16,
    "start_time": "2021-10-17T14:27:25.591Z"
   },
   {
    "duration": 269,
    "start_time": "2021-10-17T14:32:59.882Z"
   },
   {
    "duration": 14,
    "start_time": "2021-10-17T14:33:09.339Z"
   },
   {
    "duration": 7,
    "start_time": "2021-10-17T14:48:50.631Z"
   },
   {
    "duration": 13,
    "start_time": "2021-10-17T14:48:56.983Z"
   },
   {
    "duration": 19,
    "start_time": "2021-10-17T15:38:54.121Z"
   },
   {
    "duration": 5,
    "start_time": "2021-10-17T15:38:54.696Z"
   },
   {
    "duration": 227,
    "start_time": "2021-10-17T15:38:55.120Z"
   },
   {
    "duration": 5,
    "start_time": "2021-10-17T15:38:56.208Z"
   },
   {
    "duration": 6,
    "start_time": "2021-10-17T15:38:57.459Z"
   },
   {
    "duration": 314,
    "start_time": "2021-10-17T15:38:58.113Z"
   },
   {
    "duration": 265,
    "start_time": "2021-10-17T15:41:08.305Z"
   },
   {
    "duration": 6,
    "start_time": "2021-10-17T15:41:37.747Z"
   },
   {
    "duration": 4,
    "start_time": "2021-10-17T15:43:51.738Z"
   },
   {
    "duration": 100,
    "start_time": "2021-10-17T15:43:51.747Z"
   },
   {
    "duration": 1515,
    "start_time": "2021-10-17T15:43:51.850Z"
   },
   {
    "duration": 21,
    "start_time": "2021-10-17T15:43:53.368Z"
   },
   {
    "duration": 18,
    "start_time": "2021-10-17T15:43:53.392Z"
   },
   {
    "duration": 17,
    "start_time": "2021-10-17T15:43:53.412Z"
   },
   {
    "duration": 8,
    "start_time": "2021-10-17T15:43:53.432Z"
   },
   {
    "duration": 11,
    "start_time": "2021-10-17T15:43:53.442Z"
   },
   {
    "duration": 6,
    "start_time": "2021-10-17T15:43:53.457Z"
   },
   {
    "duration": 12,
    "start_time": "2021-10-17T15:43:53.466Z"
   },
   {
    "duration": 18,
    "start_time": "2021-10-17T15:43:53.480Z"
   },
   {
    "duration": 28,
    "start_time": "2021-10-17T15:43:53.523Z"
   },
   {
    "duration": 7,
    "start_time": "2021-10-17T15:43:53.554Z"
   },
   {
    "duration": 3544,
    "start_time": "2021-10-17T15:43:53.563Z"
   },
   {
    "duration": 3,
    "start_time": "2021-10-17T15:43:57.109Z"
   },
   {
    "duration": 1147,
    "start_time": "2021-10-17T15:43:57.114Z"
   },
   {
    "duration": 795,
    "start_time": "2021-10-17T15:43:58.264Z"
   },
   {
    "duration": 4,
    "start_time": "2021-10-17T15:43:59.062Z"
   },
   {
    "duration": 13,
    "start_time": "2021-10-17T15:43:59.068Z"
   },
   {
    "duration": 2021,
    "start_time": "2021-10-17T15:43:59.083Z"
   },
   {
    "duration": 121,
    "start_time": "2021-10-17T15:44:01.107Z"
   },
   {
    "duration": 157856,
    "start_time": "2021-10-17T15:44:01.231Z"
   },
   {
    "duration": 3,
    "start_time": "2021-10-17T15:46:39.090Z"
   },
   {
    "duration": 748,
    "start_time": "2021-10-17T15:46:39.099Z"
   },
   {
    "duration": 4,
    "start_time": "2021-10-17T15:46:39.851Z"
   },
   {
    "duration": 30,
    "start_time": "2021-10-17T15:46:39.858Z"
   },
   {
    "duration": 7,
    "start_time": "2021-10-17T15:46:39.891Z"
   },
   {
    "duration": 331,
    "start_time": "2021-10-17T15:46:39.924Z"
   },
   {
    "duration": 6,
    "start_time": "2021-10-17T15:46:40.258Z"
   },
   {
    "duration": 20,
    "start_time": "2021-10-17T15:46:40.267Z"
   },
   {
    "duration": 583,
    "start_time": "2021-10-17T15:46:40.290Z"
   },
   {
    "duration": 17,
    "start_time": "2021-10-17T15:46:40.876Z"
   },
   {
    "duration": 147,
    "start_time": "2021-10-17T15:46:40.896Z"
   },
   {
    "duration": 146,
    "start_time": "2021-10-17T15:46:41.046Z"
   },
   {
    "duration": 108,
    "start_time": "2021-10-18T02:34:59.881Z"
   },
   {
    "duration": 4,
    "start_time": "2021-10-18T09:01:52.874Z"
   },
   {
    "duration": 90,
    "start_time": "2021-10-18T09:01:52.880Z"
   },
   {
    "duration": 1421,
    "start_time": "2021-10-18T09:01:52.975Z"
   },
   {
    "duration": 20,
    "start_time": "2021-10-18T09:01:54.399Z"
   },
   {
    "duration": 19,
    "start_time": "2021-10-18T09:01:54.421Z"
   },
   {
    "duration": 9,
    "start_time": "2021-10-18T09:01:54.443Z"
   },
   {
    "duration": 29,
    "start_time": "2021-10-18T09:01:54.454Z"
   },
   {
    "duration": 11,
    "start_time": "2021-10-18T09:01:54.487Z"
   },
   {
    "duration": 9,
    "start_time": "2021-10-18T09:01:54.502Z"
   },
   {
    "duration": 24,
    "start_time": "2021-10-18T09:01:54.513Z"
   },
   {
    "duration": 43,
    "start_time": "2021-10-18T09:01:54.539Z"
   },
   {
    "duration": 3393,
    "start_time": "2021-10-18T09:01:54.585Z"
   },
   {
    "duration": 3,
    "start_time": "2021-10-18T09:01:57.983Z"
   },
   {
    "duration": 602,
    "start_time": "2021-10-18T09:01:57.989Z"
   },
   {
    "duration": 593,
    "start_time": "2021-10-18T09:01:58.594Z"
   },
   {
    "duration": 4,
    "start_time": "2021-10-18T09:01:59.190Z"
   },
   {
    "duration": 18,
    "start_time": "2021-10-18T09:01:59.197Z"
   },
   {
    "duration": 1937,
    "start_time": "2021-10-18T09:01:59.218Z"
   },
   {
    "duration": 152694,
    "start_time": "2021-10-18T09:02:01.157Z"
   },
   {
    "duration": 3,
    "start_time": "2021-10-18T09:04:33.853Z"
   },
   {
    "duration": 566,
    "start_time": "2021-10-18T09:04:33.860Z"
   },
   {
    "duration": 18,
    "start_time": "2021-10-18T09:04:34.428Z"
   },
   {
    "duration": 8,
    "start_time": "2021-10-18T09:04:34.450Z"
   },
   {
    "duration": 249,
    "start_time": "2021-10-18T09:04:34.461Z"
   },
   {
    "duration": 5,
    "start_time": "2021-10-18T09:04:34.713Z"
   },
   {
    "duration": 22,
    "start_time": "2021-10-18T09:04:34.720Z"
   },
   {
    "duration": 330,
    "start_time": "2021-10-18T09:04:34.745Z"
   },
   {
    "duration": 15,
    "start_time": "2021-10-18T09:04:35.077Z"
   },
   {
    "duration": 110,
    "start_time": "2021-10-18T09:04:35.094Z"
   },
   {
    "duration": 104,
    "start_time": "2021-10-18T09:04:35.206Z"
   },
   {
    "duration": 73,
    "start_time": "2021-10-18T09:10:59.870Z"
   },
   {
    "duration": 19,
    "start_time": "2021-10-18T09:11:46.705Z"
   },
   {
    "duration": 17,
    "start_time": "2021-10-18T09:13:23.702Z"
   },
   {
    "duration": 106,
    "start_time": "2021-10-18T09:14:53.245Z"
   },
   {
    "duration": 15,
    "start_time": "2021-10-18T09:34:25.415Z"
   },
   {
    "duration": 15,
    "start_time": "2021-10-18T09:34:37.130Z"
   },
   {
    "duration": 18,
    "start_time": "2021-10-18T09:34:44.954Z"
   },
   {
    "duration": 90,
    "start_time": "2021-10-18T09:35:50.181Z"
   },
   {
    "duration": 105,
    "start_time": "2021-10-18T09:36:41.712Z"
   },
   {
    "duration": 4,
    "start_time": "2021-10-18T10:29:06.699Z"
   },
   {
    "duration": 9,
    "start_time": "2021-10-18T10:29:20.605Z"
   },
   {
    "duration": 381087,
    "start_time": "2021-10-18T10:32:29.832Z"
   },
   {
    "duration": 5,
    "start_time": "2021-10-18T10:39:34.916Z"
   },
   {
    "duration": 200,
    "start_time": "2021-10-18T10:42:10.414Z"
   },
   {
    "duration": 4,
    "start_time": "2021-10-18T10:45:38.139Z"
   },
   {
    "duration": 301717,
    "start_time": "2021-10-18T10:45:44.771Z"
   },
   {
    "duration": 5,
    "start_time": "2021-10-18T11:06:56.109Z"
   },
   {
    "duration": 243,
    "start_time": "2021-10-18T11:07:20.094Z"
   },
   {
    "duration": 217,
    "start_time": "2021-10-18T11:08:07.676Z"
   },
   {
    "duration": 248,
    "start_time": "2021-10-18T11:08:15.043Z"
   },
   {
    "duration": 571,
    "start_time": "2021-10-18T11:13:06.470Z"
   },
   {
    "duration": 23,
    "start_time": "2021-10-18T11:14:36.396Z"
   },
   {
    "duration": 11,
    "start_time": "2021-10-18T11:14:47.107Z"
   },
   {
    "duration": 11,
    "start_time": "2021-10-18T11:19:19.887Z"
   },
   {
    "duration": 4,
    "start_time": "2021-11-01T08:06:22.935Z"
   },
   {
    "duration": 136,
    "start_time": "2021-11-01T08:06:22.944Z"
   },
   {
    "duration": 1680,
    "start_time": "2021-11-01T08:06:23.083Z"
   },
   {
    "duration": 22,
    "start_time": "2021-11-01T08:06:24.766Z"
   },
   {
    "duration": 19,
    "start_time": "2021-11-01T08:06:24.791Z"
   },
   {
    "duration": 8,
    "start_time": "2021-11-01T08:06:24.813Z"
   },
   {
    "duration": 14,
    "start_time": "2021-11-01T08:06:24.824Z"
   },
   {
    "duration": 14,
    "start_time": "2021-11-01T08:06:24.841Z"
   },
   {
    "duration": 19,
    "start_time": "2021-11-01T08:06:24.859Z"
   },
   {
    "duration": 38,
    "start_time": "2021-11-01T08:06:24.882Z"
   },
   {
    "duration": 9,
    "start_time": "2021-11-01T08:06:24.922Z"
   },
   {
    "duration": 3658,
    "start_time": "2021-11-01T08:06:24.933Z"
   },
   {
    "duration": 8,
    "start_time": "2021-11-01T08:06:28.593Z"
   },
   {
    "duration": 667,
    "start_time": "2021-11-01T08:06:28.603Z"
   },
   {
    "duration": 612,
    "start_time": "2021-11-01T08:06:29.273Z"
   },
   {
    "duration": 13,
    "start_time": "2021-11-01T08:06:29.887Z"
   },
   {
    "duration": 20,
    "start_time": "2021-11-01T08:06:29.903Z"
   },
   {
    "duration": 2061,
    "start_time": "2021-11-01T08:06:29.925Z"
   },
   {
    "duration": 162157,
    "start_time": "2021-11-01T08:06:32.000Z"
   },
   {
    "duration": 3,
    "start_time": "2021-11-01T08:09:14.160Z"
   },
   {
    "duration": 588,
    "start_time": "2021-11-01T08:09:14.165Z"
   },
   {
    "duration": 556,
    "start_time": "2021-11-01T08:09:14.756Z"
   },
   {
    "duration": 874,
    "start_time": "2021-11-01T08:09:14.442Z"
   },
   {
    "duration": 870,
    "start_time": "2021-11-01T08:09:14.447Z"
   },
   {
    "duration": 868,
    "start_time": "2021-11-01T08:09:14.451Z"
   },
   {
    "duration": 865,
    "start_time": "2021-11-01T08:09:14.455Z"
   },
   {
    "duration": 864,
    "start_time": "2021-11-01T08:09:14.458Z"
   },
   {
    "duration": 862,
    "start_time": "2021-11-01T08:09:14.462Z"
   },
   {
    "duration": 860,
    "start_time": "2021-11-01T08:09:14.465Z"
   },
   {
    "duration": 858,
    "start_time": "2021-11-01T08:09:14.469Z"
   },
   {
    "duration": 856,
    "start_time": "2021-11-01T08:09:14.472Z"
   },
   {
    "duration": 856,
    "start_time": "2021-11-01T08:09:14.474Z"
   },
   {
    "duration": 836,
    "start_time": "2021-11-01T08:09:14.496Z"
   },
   {
    "duration": 835,
    "start_time": "2021-11-01T08:09:14.499Z"
   }
  ],
  "kernelspec": {
   "display_name": "Python 3 (ipykernel)",
   "language": "python",
   "name": "python3"
  },
  "language_info": {
   "codemirror_mode": {
    "name": "ipython",
    "version": 3
   },
   "file_extension": ".py",
   "mimetype": "text/x-python",
   "name": "python",
   "nbconvert_exporter": "python",
   "pygments_lexer": "ipython3",
   "version": "3.9.6"
  },
  "toc": {
   "base_numbering": 1,
   "nav_menu": {},
   "number_sections": true,
   "sideBar": true,
   "skip_h1_title": true,
   "title_cell": "Table of Contents",
   "title_sidebar": "Contents",
   "toc_cell": false,
   "toc_position": {},
   "toc_section_display": true,
   "toc_window_display": false
  }
 },
 "nbformat": 4,
 "nbformat_minor": 4
}
