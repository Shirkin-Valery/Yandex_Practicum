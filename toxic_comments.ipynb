{
 "cells": [
  {
   "cell_type": "markdown",
   "id": "6052bca7",
   "metadata": {},
   "source": [
    "# Проект для «Викишоп» c BERT"
   ]
  },
  {
   "cell_type": "markdown",
   "id": "cdb6548e",
   "metadata": {},
   "source": [
    "Интернет-магазин «Викишоп» запускает новый сервис. Теперь пользователи могут редактировать и дополнять описания товаров, как в вики-сообществах. То есть клиенты предлагают свои правки и комментируют изменения других. Магазину нужен инструмент, который будет искать токсичные комментарии и отправлять их на модерацию. \n",
    "\n",
    "Необходимо \n",
    "- обучить модель классифицировать комментарии на позитивные и негативные. \n",
    "- построить модель со значением метрики качества *F1* не меньше 0.75. "
   ]
  },
  {
   "cell_type": "code",
   "execution_count": 8,
   "id": "c566998c",
   "metadata": {},
   "outputs": [],
   "source": [
    "# !pip install textblob"
   ]
  },
  {
   "cell_type": "code",
   "execution_count": 31,
   "id": "fa12c16f",
   "metadata": {},
   "outputs": [],
   "source": [
    "import pandas as pd\n",
    "import matplotlib\n",
    "import matplotlib.pyplot as plt\n",
    "import numpy as np\n",
    "import seaborn as sns\n",
    "import re \n",
    "\n",
    "from tqdm import notebook\n",
    "import torch\n",
    "import transformers\n",
    "\n",
    "from sklearn.dummy import DummyClassifier\n",
    "from sklearn.utils import shuffle \n",
    "from sklearn.feature_extraction.text import TfidfVectorizer,CountVectorizer\n",
    "from sklearn.model_selection import train_test_split, GridSearchCV, cross_val_score,RandomizedSearchCV\n",
    "from sklearn.metrics import f1_score, make_scorer, confusion_matrix, accuracy_score, recall_score, precision_score,roc_auc_score, roc_curve,precision_recall_curve\n",
    "from sklearn.linear_model import LogisticRegression,LogisticRegressionCV\n",
    "from catboost import Pool, CatBoostRegressor,cv,CatBoost,CatBoostClassifier\n",
    "from catboost.utils import eval_metric\n",
    "from lightgbm import LGBMClassifier\n",
    "\n",
    "import nltk\n",
    "from nltk.corpus import stopwords as nltk_stopwords\n",
    "from textblob import TextBlob, Word\n",
    "\n",
    "from scipy.stats import uniform\n",
    "matplotlib.style.use('ggplot')\n",
    "\n",
    "from sklearn.pipeline import Pipeline\n",
    "from sklearn.svm import SVC,LinearSVC,NuSVC"
   ]
  },
  {
   "cell_type": "markdown",
   "id": "0a81a136",
   "metadata": {},
   "source": [
    "## Осмотр данных"
   ]
  },
  {
   "cell_type": "code",
   "execution_count": 10,
   "id": "c2efc1cf",
   "metadata": {},
   "outputs": [],
   "source": [
    "data = pd.read_csv (r\"C:\\Users\\Integro\\Desktop\\Обучение\\YandexPracticum\\Sprint 12\\toxic_comments.csv\")"
   ]
  },
  {
   "cell_type": "markdown",
   "id": "d890e714",
   "metadata": {},
   "source": [
    "Проверим на  наличие пропусков."
   ]
  },
  {
   "cell_type": "code",
   "execution_count": 11,
   "id": "be0341f6",
   "metadata": {},
   "outputs": [
    {
     "name": "stdout",
     "output_type": "stream",
     "text": [
      "<class 'pandas.core.frame.DataFrame'>\n",
      "RangeIndex: 159571 entries, 0 to 159570\n",
      "Data columns (total 2 columns):\n",
      " #   Column  Non-Null Count   Dtype \n",
      "---  ------  --------------   ----- \n",
      " 0   text    159571 non-null  object\n",
      " 1   toxic   159571 non-null  int64 \n",
      "dtypes: int64(1), object(1)\n",
      "memory usage: 2.4+ MB\n"
     ]
    }
   ],
   "source": [
    "data.info()"
   ]
  },
  {
   "cell_type": "markdown",
   "id": "34adcb16",
   "metadata": {},
   "source": [
    "**Комментарий:** пропуски отсутствуют."
   ]
  },
  {
   "cell_type": "code",
   "execution_count": 12,
   "id": "f1874bba-346f-4c82-a66b-742cc9bf6fa6",
   "metadata": {},
   "outputs": [
    {
     "data": {
      "text/html": [
       "<div>\n",
       "<style scoped>\n",
       "    .dataframe tbody tr th:only-of-type {\n",
       "        vertical-align: middle;\n",
       "    }\n",
       "\n",
       "    .dataframe tbody tr th {\n",
       "        vertical-align: top;\n",
       "    }\n",
       "\n",
       "    .dataframe thead th {\n",
       "        text-align: right;\n",
       "    }\n",
       "</style>\n",
       "<table border=\"1\" class=\"dataframe\">\n",
       "  <thead>\n",
       "    <tr style=\"text-align: right;\">\n",
       "      <th></th>\n",
       "      <th>text</th>\n",
       "      <th>toxic</th>\n",
       "    </tr>\n",
       "  </thead>\n",
       "  <tbody>\n",
       "  </tbody>\n",
       "</table>\n",
       "</div>"
      ],
      "text/plain": [
       "Empty DataFrame\n",
       "Columns: [text, toxic]\n",
       "Index: []"
      ]
     },
     "execution_count": 12,
     "metadata": {},
     "output_type": "execute_result"
    }
   ],
   "source": [
    "data.loc[data['text'].str.isspace() == True]"
   ]
  },
  {
   "cell_type": "markdown",
   "id": "08b064ee",
   "metadata": {},
   "source": [
    "## Предобработка данных."
   ]
  },
  {
   "cell_type": "code",
   "execution_count": 13,
   "id": "3e3ab7f0",
   "metadata": {},
   "outputs": [
    {
     "data": {
      "text/html": [
       "<div>\n",
       "<style scoped>\n",
       "    .dataframe tbody tr th:only-of-type {\n",
       "        vertical-align: middle;\n",
       "    }\n",
       "\n",
       "    .dataframe tbody tr th {\n",
       "        vertical-align: top;\n",
       "    }\n",
       "\n",
       "    .dataframe thead th {\n",
       "        text-align: right;\n",
       "    }\n",
       "</style>\n",
       "<table border=\"1\" class=\"dataframe\">\n",
       "  <thead>\n",
       "    <tr style=\"text-align: right;\">\n",
       "      <th></th>\n",
       "      <th>text</th>\n",
       "      <th>toxic</th>\n",
       "    </tr>\n",
       "  </thead>\n",
       "  <tbody>\n",
       "    <tr>\n",
       "      <th>0</th>\n",
       "      <td>Explanation\\nWhy the edits made under my usern...</td>\n",
       "      <td>0</td>\n",
       "    </tr>\n",
       "    <tr>\n",
       "      <th>1</th>\n",
       "      <td>D'aww! He matches this background colour I'm s...</td>\n",
       "      <td>0</td>\n",
       "    </tr>\n",
       "    <tr>\n",
       "      <th>2</th>\n",
       "      <td>Hey man, I'm really not trying to edit war. It...</td>\n",
       "      <td>0</td>\n",
       "    </tr>\n",
       "    <tr>\n",
       "      <th>3</th>\n",
       "      <td>\"\\nMore\\nI can't make any real suggestions on ...</td>\n",
       "      <td>0</td>\n",
       "    </tr>\n",
       "    <tr>\n",
       "      <th>4</th>\n",
       "      <td>You, sir, are my hero. Any chance you remember...</td>\n",
       "      <td>0</td>\n",
       "    </tr>\n",
       "  </tbody>\n",
       "</table>\n",
       "</div>"
      ],
      "text/plain": [
       "                                                text  toxic\n",
       "0  Explanation\\nWhy the edits made under my usern...      0\n",
       "1  D'aww! He matches this background colour I'm s...      0\n",
       "2  Hey man, I'm really not trying to edit war. It...      0\n",
       "3  \"\\nMore\\nI can't make any real suggestions on ...      0\n",
       "4  You, sir, are my hero. Any chance you remember...      0"
      ]
     },
     "execution_count": 13,
     "metadata": {},
     "output_type": "execute_result"
    }
   ],
   "source": [
    "data.head()"
   ]
  },
  {
   "cell_type": "markdown",
   "id": "d17d645d",
   "metadata": {},
   "source": [
    "Так как комментарии содержат левые символы, то оставим только текст."
   ]
  },
  {
   "cell_type": "code",
   "execution_count": 14,
   "id": "8c45d2cb",
   "metadata": {},
   "outputs": [],
   "source": [
    "def clear_text(text):\n",
    "    text  = re.sub(r\"[^a-zA-Z']\", ' ', text)\n",
    "    return \" \".join(text.split())"
   ]
  },
  {
   "cell_type": "code",
   "execution_count": 15,
   "id": "c76a848d",
   "metadata": {},
   "outputs": [
    {
     "name": "stdout",
     "output_type": "stream",
     "text": [
      "Wall time: 4.88 s\n"
     ]
    }
   ],
   "source": [
    "%%time\n",
    "data['clear_text'] = data['text'].apply(clear_text)"
   ]
  },
  {
   "cell_type": "markdown",
   "id": "375a0541",
   "metadata": {},
   "source": [
    "Для решения задачи в  данном пункте предобработки данных потребуется лемматизция текста. Используем `TextBlob Lemmatizer`, так как относительно быстрый по сравнени с остальными"
   ]
  },
  {
   "cell_type": "code",
   "execution_count": 16,
   "id": "993749dd",
   "metadata": {
    "tags": []
   },
   "outputs": [],
   "source": [
    "def lemmatize_with_postag(sentence):\n",
    "    sent = TextBlob(sentence)\n",
    "    tag_dict = {\"J\": 'a', \n",
    "                \"N\": 'n', \n",
    "                \"V\": 'v', \n",
    "                \"R\": 'r'}\n",
    "    words_and_tags = [(w, tag_dict.get(pos[0], 'n')) for w, pos in sent.tags]    \n",
    "    lemmatized_list = [wd.lemmatize(tag) for wd, tag in words_and_tags]\n",
    "    return \" \".join(lemmatized_list)\n"
   ]
  },
  {
   "cell_type": "code",
   "execution_count": 17,
   "id": "a628f8d7",
   "metadata": {},
   "outputs": [
    {
     "name": "stdout",
     "output_type": "stream",
     "text": [
      "Wall time: 11min 38s\n"
     ]
    }
   ],
   "source": [
    "%%time\n",
    "data['lemma_text'] = data['clear_text'].apply(lemmatize_with_postag)"
   ]
  },
  {
   "cell_type": "code",
   "execution_count": 18,
   "id": "8583d185",
   "metadata": {},
   "outputs": [],
   "source": [
    "data_copy = data.drop(['text','clear_text'],axis = 1)"
   ]
  },
  {
   "cell_type": "code",
   "execution_count": 19,
   "id": "d04ef23b-9b26-4450-93ff-02dcd33d950e",
   "metadata": {},
   "outputs": [
    {
     "data": {
      "text/html": [
       "<div>\n",
       "<style scoped>\n",
       "    .dataframe tbody tr th:only-of-type {\n",
       "        vertical-align: middle;\n",
       "    }\n",
       "\n",
       "    .dataframe tbody tr th {\n",
       "        vertical-align: top;\n",
       "    }\n",
       "\n",
       "    .dataframe thead th {\n",
       "        text-align: right;\n",
       "    }\n",
       "</style>\n",
       "<table border=\"1\" class=\"dataframe\">\n",
       "  <thead>\n",
       "    <tr style=\"text-align: right;\">\n",
       "      <th></th>\n",
       "      <th>text</th>\n",
       "      <th>toxic</th>\n",
       "      <th>clear_text</th>\n",
       "      <th>lemma_text</th>\n",
       "    </tr>\n",
       "  </thead>\n",
       "  <tbody>\n",
       "    <tr>\n",
       "      <th>0</th>\n",
       "      <td>Explanation\\nWhy the edits made under my usern...</td>\n",
       "      <td>0</td>\n",
       "      <td>Explanation Why the edits made under my userna...</td>\n",
       "      <td>Explanation Why the edits make under my userna...</td>\n",
       "    </tr>\n",
       "    <tr>\n",
       "      <th>1</th>\n",
       "      <td>D'aww! He matches this background colour I'm s...</td>\n",
       "      <td>0</td>\n",
       "      <td>D'aww He matches this background colour I'm se...</td>\n",
       "      <td>D'aww He match this background colour I 'm see...</td>\n",
       "    </tr>\n",
       "    <tr>\n",
       "      <th>2</th>\n",
       "      <td>Hey man, I'm really not trying to edit war. It...</td>\n",
       "      <td>0</td>\n",
       "      <td>Hey man I'm really not trying to edit war It's...</td>\n",
       "      <td>Hey man I 'm really not try to edit war It 's ...</td>\n",
       "    </tr>\n",
       "    <tr>\n",
       "      <th>3</th>\n",
       "      <td>\"\\nMore\\nI can't make any real suggestions on ...</td>\n",
       "      <td>0</td>\n",
       "      <td>More I can't make any real suggestions on impr...</td>\n",
       "      <td>More I ca n't make any real suggestion on impr...</td>\n",
       "    </tr>\n",
       "    <tr>\n",
       "      <th>4</th>\n",
       "      <td>You, sir, are my hero. Any chance you remember...</td>\n",
       "      <td>0</td>\n",
       "      <td>You sir are my hero Any chance you remember wh...</td>\n",
       "      <td>You sir be my hero Any chance you remember wha...</td>\n",
       "    </tr>\n",
       "  </tbody>\n",
       "</table>\n",
       "</div>"
      ],
      "text/plain": [
       "                                                text  toxic  \\\n",
       "0  Explanation\\nWhy the edits made under my usern...      0   \n",
       "1  D'aww! He matches this background colour I'm s...      0   \n",
       "2  Hey man, I'm really not trying to edit war. It...      0   \n",
       "3  \"\\nMore\\nI can't make any real suggestions on ...      0   \n",
       "4  You, sir, are my hero. Any chance you remember...      0   \n",
       "\n",
       "                                          clear_text  \\\n",
       "0  Explanation Why the edits made under my userna...   \n",
       "1  D'aww He matches this background colour I'm se...   \n",
       "2  Hey man I'm really not trying to edit war It's...   \n",
       "3  More I can't make any real suggestions on impr...   \n",
       "4  You sir are my hero Any chance you remember wh...   \n",
       "\n",
       "                                          lemma_text  \n",
       "0  Explanation Why the edits make under my userna...  \n",
       "1  D'aww He match this background colour I 'm see...  \n",
       "2  Hey man I 'm really not try to edit war It 's ...  \n",
       "3  More I ca n't make any real suggestion on impr...  \n",
       "4  You sir be my hero Any chance you remember wha...  "
      ]
     },
     "execution_count": 19,
     "metadata": {},
     "output_type": "execute_result"
    }
   ],
   "source": [
    "data.head()"
   ]
  },
  {
   "cell_type": "markdown",
   "id": "947eaefb",
   "metadata": {},
   "source": [
    "### Разделение выборок на обучающую и тестовую"
   ]
  },
  {
   "cell_type": "code",
   "execution_count": 20,
   "id": "c4369bde",
   "metadata": {},
   "outputs": [],
   "source": [
    "target = data_copy['toxic']\n",
    "features = data_copy['lemma_text']\n",
    "features_train, features_test,target_train,target_test = train_test_split (features, target , test_size = 0.25, random_state=393, stratify = target)\n",
    "# Используем параметр stratify = target сделаем разделение таким образом, чтобы доля значений с признаком 1 рассплитилась в том же соотношении, что и  features, test"
   ]
  },
  {
   "cell_type": "markdown",
   "id": "1fa28811",
   "metadata": {
    "tags": []
   },
   "source": [
    "Проверим разбиение"
   ]
  },
  {
   "cell_type": "code",
   "execution_count": 21,
   "id": "9899ab79",
   "metadata": {},
   "outputs": [
    {
     "data": {
      "text/plain": [
       "(119678,)"
      ]
     },
     "metadata": {},
     "output_type": "display_data"
    },
    {
     "data": {
      "text/plain": [
       "(119678,)"
      ]
     },
     "metadata": {},
     "output_type": "display_data"
    },
    {
     "data": {
      "text/plain": [
       "(39893,)"
      ]
     },
     "metadata": {},
     "output_type": "display_data"
    },
    {
     "data": {
      "text/plain": [
       "(39893,)"
      ]
     },
     "metadata": {},
     "output_type": "display_data"
    }
   ],
   "source": [
    "display(\n",
    "    features_train.shape,\n",
    "    target_train.shape,\n",
    "    features_test.shape,\n",
    "    target_test.shape\n",
    ")"
   ]
  },
  {
   "cell_type": "markdown",
   "id": "4d1ae2c2",
   "metadata": {},
   "source": [
    "### Преобразование текста в вектора"
   ]
  },
  {
   "cell_type": "markdown",
   "id": "514ee82e",
   "metadata": {},
   "source": [
    "Так как  работаем с текстом проведем преобразование в векторный вид"
   ]
  },
  {
   "cell_type": "markdown",
   "id": "2171fb84",
   "metadata": {},
   "source": [
    "Загрузим список английских стоп-слов"
   ]
  },
  {
   "cell_type": "code",
   "execution_count": 22,
   "id": "e4527e61",
   "metadata": {},
   "outputs": [
    {
     "name": "stderr",
     "output_type": "stream",
     "text": [
      "[nltk_data] Downloading package stopwords to\n",
      "[nltk_data]     C:\\Users\\Integro\\AppData\\Roaming\\nltk_data...\n",
      "[nltk_data]   Package stopwords is already up-to-date!\n"
     ]
    }
   ],
   "source": [
    "corpus_train = features_train.values.astype('U')\n",
    "corpus_test = features_test.values.astype('U')\n",
    "nltk.download('stopwords')\n",
    "stopwords = set(nltk_stopwords.words('english'))\n"
   ]
  },
  {
   "cell_type": "markdown",
   "id": "bc624d25",
   "metadata": {},
   "source": [
    "Создадим счетчик TF-IDF, передадим в него английские стоп-слова"
   ]
  },
  {
   "cell_type": "code",
   "execution_count": 23,
   "id": "1d887070",
   "metadata": {},
   "outputs": [],
   "source": [
    "count_tf_idf = TfidfVectorizer(stop_words=stopwords)\n",
    "tf_idf = count_tf_idf.fit_transform(corpus_train)\n",
    "tf_idf_test = count_tf_idf.transform(corpus_test)"
   ]
  },
  {
   "cell_type": "markdown",
   "id": "cf624921",
   "metadata": {},
   "source": [
    "## Обучение"
   ]
  },
  {
   "cell_type": "markdown",
   "id": "c346c43d",
   "metadata": {},
   "source": [
    "### Оценка дисбаланса"
   ]
  },
  {
   "cell_type": "code",
   "execution_count": 24,
   "id": "11462303",
   "metadata": {},
   "outputs": [
    {
     "data": {
      "text/html": [
       "<style type=\"text/css\">\n",
       "</style>\n",
       "<table id=\"T_02463_\">\n",
       "  <thead>\n",
       "    <tr>\n",
       "      <th class=\"blank level0\" >&nbsp;</th>\n",
       "      <th class=\"col_heading level0 col0\" >toxic</th>\n",
       "    </tr>\n",
       "  </thead>\n",
       "  <tbody>\n",
       "    <tr>\n",
       "      <th id=\"T_02463_level0_row0\" class=\"row_heading level0 row0\" >0</th>\n",
       "      <td id=\"T_02463_row0_col0\" class=\"data row0 col0\" >89.83%</td>\n",
       "    </tr>\n",
       "    <tr>\n",
       "      <th id=\"T_02463_level0_row1\" class=\"row_heading level0 row1\" >1</th>\n",
       "      <td id=\"T_02463_row1_col0\" class=\"data row1 col0\" >10.17%</td>\n",
       "    </tr>\n",
       "  </tbody>\n",
       "</table>\n"
      ],
      "text/plain": [
       "<pandas.io.formats.style.Styler at 0x211f8a1f940>"
      ]
     },
     "execution_count": 24,
     "metadata": {},
     "output_type": "execute_result"
    }
   ],
   "source": [
    "data['toxic'].value_counts(normalize=True).to_frame().style.format('{:.2%}')"
   ]
  },
  {
   "cell_type": "markdown",
   "id": "b7040f43",
   "metadata": {},
   "source": [
    "**Комментарий:** \n",
    "1. как мы видим в датасете дисбаланс классов.\n",
    "2. для оценки понадобится метрика F1 и матрица путаницы.\n",
    "3. проверим, как будет изменяться основная метрика  F1 при уменьшении выборки"
   ]
  },
  {
   "cell_type": "markdown",
   "id": "a48d3c9e",
   "metadata": {},
   "source": [
    "### LogisticRegression.\n",
    "Сформируем  модель  без ребалансировки классов"
   ]
  },
  {
   "cell_type": "code",
   "execution_count": 18,
   "id": "b1fc0541",
   "metadata": {},
   "outputs": [
    {
     "name": "stdout",
     "output_type": "stream",
     "text": [
      "Wall time: 3min 33s\n"
     ]
    }
   ],
   "source": [
    "%%time\n",
    "logistic = LogisticRegression(max_iter=200, tol=1e-2,)\n",
    "distributions = dict(C=uniform(loc=0, scale=10),penalty=['l2', 'l1'], solver = ['liblinear','saga'],class_weight = ['balanced', None] )\n",
    "clf = RandomizedSearchCV(logistic, distributions,n_jobs=-1, cv = 5, random_state=393,scoring='f1')\n",
    "search_lr = clf.fit(tf_idf, target_train)"
   ]
  },
  {
   "cell_type": "code",
   "execution_count": 19,
   "id": "a625edb3",
   "metadata": {},
   "outputs": [
    {
     "name": "stdout",
     "output_type": "stream",
     "text": [
      "Лучшие параметры -  {'C': 3.694728121513565, 'class_weight': None, 'penalty': 'l1', 'solver': 'saga'}\n",
      "Лучшая метрика F1 - 0.772\n",
      "Лучшая модель -  LogisticRegression(C=3.694728121513565, max_iter=200, penalty='l1',\n",
      "                   solver='saga', tol=0.01)\n"
     ]
    }
   ],
   "source": [
    "results = clf.cv_results_\n",
    "print('Лучшие параметры - ',search_lr.best_params_)\n",
    "print(f'Лучшая метрика F1 - {search_lr.best_score_:.3f}')\n",
    "print('Лучшая модель - ', search_lr.best_estimator_)\n",
    "# print(results)"
   ]
  },
  {
   "cell_type": "code",
   "execution_count": 20,
   "id": "657bc75f",
   "metadata": {},
   "outputs": [
    {
     "name": "stdout",
     "output_type": "stream",
     "text": [
      "F1 - 78.04%\n",
      "Wall time: 3.33 s\n"
     ]
    }
   ],
   "source": [
    "%%time\n",
    "corpus_test = features_test.values.astype('U')\n",
    "tf_idf_test = count_tf_idf.transform(corpus_test)\n",
    "test_prediction_lr = search_lr.best_estimator_.predict(tf_idf_test)\n",
    "f1_lr_test = f1_score(target_test,test_prediction_lr)\n",
    "print('F1 - {:.2%}'.format(f1_lr_test))"
   ]
  },
  {
   "cell_type": "markdown",
   "id": "4423fe9e",
   "metadata": {
    "tags": []
   },
   "source": [
    "### Борьба с дисбалансом. Уменьшение выборки (Downsampling)"
   ]
  },
  {
   "cell_type": "markdown",
   "id": "2a76211a",
   "metadata": {},
   "source": [
    "Попробуем метод даунсэмплинга, возможно это улучшит наши результаты"
   ]
  },
  {
   "cell_type": "markdown",
   "id": "5ed1d858",
   "metadata": {},
   "source": [
    "Вместо повторения токсичных комментариев, уберём часть нетоксичных. \n",
    "Преобразование проведем в несколько этапов:\n",
    "\n",
    "- Разделим обучающую выборку на отрицательные и положительные объекты;\n",
    "- Случайным образом отбросим часть из отрицательных объектов;\n",
    "- С учётом полученных данных создадим новую обучающую выборку;\n",
    "- Перемешаем данные. Положительные не должны идти следом за отрицательными: алгоритмам будет сложнее обучаться."
   ]
  },
  {
   "cell_type": "code",
   "execution_count": 21,
   "id": "3e89a2e5",
   "metadata": {
    "tags": []
   },
   "outputs": [],
   "source": [
    "def downsample(features, target, fraction):\n",
    "    features_zeros = features[target == 0]\n",
    "    features_ones = features[target == 1]\n",
    "    target_zeros = target[target == 0]\n",
    "    target_ones = target[target == 1]\n",
    "\n",
    "    features_sample = features_zeros.sample(frac=fraction, random_state=42)\n",
    "    target_sample = target_zeros.sample(frac=fraction, random_state=42)\n",
    "    \n",
    "    features_downsampled = pd.concat([features_sample] + [features_ones])\n",
    "    target_downsampled = pd.concat([target_sample] + [target_ones])\n",
    "    \n",
    "    features_downsampled = shuffle(features_downsampled, random_state=42)\n",
    "    target_downsampled = shuffle(target_downsampled, random_state=42)\n",
    "    \n",
    "    return features_downsampled, target_downsampled"
   ]
  },
  {
   "cell_type": "code",
   "execution_count": 22,
   "id": "967aa0f0",
   "metadata": {},
   "outputs": [
    {
     "name": "stdout",
     "output_type": "stream",
     "text": [
      "F1:  69.77%.  Сокращение строк с нулевым признаком на : 0.00%\n",
      "F1:  71.13%.  Сокращение строк с нулевым признаком на : 20.00%\n",
      "F1:  73.57%.  Сокращение строк с нулевым признаком на : 40.00%\n",
      "F1:  77.00%.  Сокращение строк с нулевым признаком на : 60.00%\n",
      "F1:  82.90%.  Сокращение строк с нулевым признаком на : 80.00%\n"
     ]
    }
   ],
   "source": [
    "for frac in np.arange(1,0.1,-0.2): \n",
    "    features_downsampled, target_downsampled = downsample(features_train, target_train, frac)\n",
    "    corpus_train_ds = features_downsampled.values.astype('U')\n",
    "    tf_idf_ds = count_tf_idf.fit_transform(corpus_train_ds)\n",
    "    lr_tf_idf_ds = LogisticRegression(random_state=393)\n",
    "    f1_cv= cross_val_score(lr_tf_idf_ds, tf_idf_ds,target_downsampled,n_jobs = -1, cv=3,scoring = 'f1').mean() \n",
    "    print(\"F1:  {:.2%}.  Сокращение строк с нулевым признаком на : {:.2%}\".format( f1_cv,1-frac))"
   ]
  },
  {
   "cell_type": "markdown",
   "id": "cf1fc60b",
   "metadata": {
    "tags": []
   },
   "source": [
    "**Комменатарий:** Как мы видим, приближаясь к соотношению 50/50 между нулевым классом и единицей метрика f1  растет "
   ]
  },
  {
   "cell_type": "code",
   "execution_count": 23,
   "id": "3eed9c5b",
   "metadata": {},
   "outputs": [],
   "source": [
    "features_downsampled, target_downsampled = downsample(features_train, target_train, 0.9)\n",
    "corpus_train_ds = features_downsampled.values.astype('U')\n",
    "tf_idf_ds = count_tf_idf.fit_transform(corpus_train_ds)\n"
   ]
  },
  {
   "cell_type": "markdown",
   "id": "8a5ca02e",
   "metadata": {},
   "source": [
    "### LogisticRegression Downsampling"
   ]
  },
  {
   "cell_type": "code",
   "execution_count": 24,
   "id": "43f3fae5",
   "metadata": {},
   "outputs": [
    {
     "name": "stdout",
     "output_type": "stream",
     "text": [
      "Wall time: 31.7 s\n"
     ]
    }
   ],
   "source": [
    "%%time\n",
    "logistic = LogisticRegression(max_iter=200, tol=1e-2,)\n",
    "distributions = dict(C=uniform(loc=0, scale=10),penalty=['l2', 'l1'], solver = ['liblinear','saga'])\n",
    "clf = RandomizedSearchCV(logistic, distributions,n_jobs=-1, cv = 5, random_state=393,scoring='f1')#,return_train_score=True,refit='f1'\n",
    "search_ds = clf.fit(tf_idf_ds, target_downsampled)\n",
    "results = clf.cv_results_"
   ]
  },
  {
   "cell_type": "code",
   "execution_count": 25,
   "id": "86b695d9",
   "metadata": {},
   "outputs": [
    {
     "name": "stdout",
     "output_type": "stream",
     "text": [
      "Лучшие параметры -  {'C': 1.9942561642299106, 'penalty': 'l1', 'solver': 'liblinear'}\n",
      "Лучшая метрика F1 - 0.775\n",
      "Лучшая модель -  LogisticRegression(C=1.9942561642299106, max_iter=200, penalty='l1',\n",
      "                   solver='liblinear', tol=0.01)\n"
     ]
    }
   ],
   "source": [
    "results_ds = clf.cv_results_\n",
    "print('Лучшие параметры - ',search_ds.best_params_)\n",
    "print(f'Лучшая метрика F1 - {search_ds.best_score_:.3f}')\n",
    "print('Лучшая модель - ', search_ds.best_estimator_)\n",
    "# print(results)"
   ]
  },
  {
   "cell_type": "code",
   "execution_count": 26,
   "id": "e437d864",
   "metadata": {
    "jupyter": {
     "source_hidden": true
    },
    "tags": []
   },
   "outputs": [
    {
     "data": {
      "image/png": "[encoded data removed]",
      "text/plain": [
       "<Figure size 936x360 with 1 Axes>"
      ]
     },
     "metadata": {},
     "output_type": "display_data"
    }
   ],
   "source": [
    "plt.figure(figsize=(13, 5))\n",
    "plt.title(\"Поиск оценки F1 через RandomizedSearchCV в зависимости от уровня  регуляризации\", fontsize=16)\n",
    "\n",
    "plt.xlabel(\"C\")\n",
    "plt.ylabel(\"Score f1\")\n",
    "\n",
    "ax = plt.gca()\n",
    "ax.set_xlim(0, 10)\n",
    "ax.set_ylim(0.65, 0.85)\n",
    "\n",
    "# Get the regular numpy array from the MaskedArray\n",
    "\n",
    "scoring = {\"F1\": \"f1\"}\n",
    "results_list= results['params']\n",
    "results_x = [element['C'] for element in results_list]\n",
    "\n",
    "X_axis = np.array(results_x, dtype=float)\n",
    "\n",
    "for scorer, color in zip(sorted(scoring), [\"g\", \"k\"]):\n",
    "    for sample, style in ((\"train\", \"--\"), (\"test\", \"-\")):\n",
    "        sample_score_mean = results[\"mean_test_score\"]\n",
    "        sample_score_std = results[\"std_test_score\"]\n",
    "        ax.fill_between(\n",
    "            X_axis,\n",
    "            sample_score_mean - sample_score_std,\n",
    "            sample_score_mean + sample_score_std,\n",
    "            alpha=0.1 if sample == \"test\" else 0,\n",
    "            color=color,\n",
    "        )\n",
    "        ax.plot(\n",
    "            X_axis,\n",
    "            sample_score_mean,\n",
    "            style,\n",
    "            color=color,\n",
    "            alpha=1 if sample == \"test\" else 0.7,\n",
    "            label=\"%s (%s)\" % (scorer, sample),\n",
    "        )\n",
    "\n",
    "    best_index = np.nonzero(results[\"rank_test_score\"] == 1)[0][0]\n",
    "    best_score = results['mean_test_score'][best_index]\n",
    "\n",
    "    # Plot a dotted vertical line at the best score for that scorer marked by x\n",
    "    ax.plot(\n",
    "        [\n",
    "            X_axis[best_index],\n",
    "        ]\n",
    "        * 2,\n",
    "        [0, best_score],\n",
    "        linestyle=\"-.\",\n",
    "        color=color,\n",
    "        marker=\"x\",\n",
    "        markeredgewidth=3,\n",
    "        ms=8,\n",
    "    )\n",
    "\n",
    "    # Annotate the best score for that scorer\n",
    "    ax.annotate(\"%0.2f\" % best_score, (X_axis[best_index], best_score + 0.005))\n",
    "\n",
    "plt.legend(loc=\"best\")\n",
    "plt.grid(False)\n",
    "plt.show()"
   ]
  },
  {
   "cell_type": "markdown",
   "id": "c0405084",
   "metadata": {
    "tags": []
   },
   "source": [
    "### Проверим модель на тесте "
   ]
  },
  {
   "cell_type": "code",
   "execution_count": 27,
   "id": "e435b39b",
   "metadata": {
    "tags": []
   },
   "outputs": [
    {
     "name": "stdout",
     "output_type": "stream",
     "text": [
      "F1 - 78.55%\n",
      "Wall time: 3.25 s\n"
     ]
    }
   ],
   "source": [
    "%%time\n",
    "corpus_test = features_test.values.astype('U')\n",
    "tf_idf_test_ds = count_tf_idf.transform(corpus_test)\n",
    "test_prediction_ds = search_ds.best_estimator_.predict(tf_idf_test_ds)\n",
    "f1_lr__ds_test =f1_score(target_test,test_prediction_ds)\n",
    "print('F1 - {:.2%}'.format(f1_lr__ds_test))"
   ]
  },
  {
   "cell_type": "markdown",
   "id": "29ef9b3b",
   "metadata": {},
   "source": [
    "## LGBM"
   ]
  },
  {
   "cell_type": "code",
   "execution_count": 28,
   "id": "fdf6a5a6",
   "metadata": {},
   "outputs": [
    {
     "name": "stdout",
     "output_type": "stream",
     "text": [
      "метрика F1 - 0.83\n",
      "Wall time: 55 s\n"
     ]
    }
   ],
   "source": [
    "%%time\n",
    "tf_idf = count_tf_idf.fit_transform(corpus_train)\n",
    "\n",
    "lgbm = LGBMClassifier(random_state=393, learning_rate = 0.4 )\n",
    "f1_cv_lgbm= cross_val_score(lgbm, tf_idf,target_train,n_jobs = -1, cv=3,scoring = 'f1').mean()\n",
    "print(f'метрика F1 - {f1_cv:.2f}')"
   ]
  },
  {
   "cell_type": "code",
   "execution_count": 29,
   "id": "aa38948b",
   "metadata": {},
   "outputs": [],
   "source": [
    "distributions = dict(learning_rate =list(np.arange(0.1,0.3,0.1)),boosting_type = ['gbdt','goss'])\n",
    "clf_lgbm = GridSearchCV(lgbm, distributions,n_jobs=-1, cv = 3, scoring='f1',return_train_score=True,refit='f1')\n",
    "search_lgbm = clf_lgbm.fit(tf_idf, target_train)"
   ]
  },
  {
   "cell_type": "code",
   "execution_count": 30,
   "id": "95dd53b1",
   "metadata": {},
   "outputs": [
    {
     "name": "stdout",
     "output_type": "stream",
     "text": [
      "Лучшие параметры -  {'boosting_type': 'gbdt', 'learning_rate': 0.2}\n",
      "Лучшая метрика F1 - 0.757\n",
      "Лучшая модель -  LGBMClassifier(learning_rate=0.2, random_state=393)\n"
     ]
    }
   ],
   "source": [
    "print('Лучшие параметры - ',search_lgbm.best_params_)\n",
    "print(f'Лучшая метрика F1 - {search_lgbm.best_score_:.3f}')\n",
    "print('Лучшая модель - ', search_lgbm.best_estimator_)"
   ]
  },
  {
   "cell_type": "markdown",
   "id": "33c9db1f",
   "metadata": {},
   "source": [
    "Проверка на тесте"
   ]
  },
  {
   "cell_type": "code",
   "execution_count": 31,
   "id": "892c9005",
   "metadata": {},
   "outputs": [
    {
     "name": "stdout",
     "output_type": "stream",
     "text": [
      "F1 - 76.17%\n"
     ]
    }
   ],
   "source": [
    "corpus_test = features_test.values.astype('U')\n",
    "tf_idf_test = count_tf_idf.transform(corpus_test)\n",
    "test_prediction__lgbm = search_lgbm.best_estimator_.predict(tf_idf_test)\n",
    "f1_lgbm_test = f1_score(target_test,test_prediction__lgbm)\n",
    "print('F1 - {:.2%}'.format(f1_lgbm_test))"
   ]
  },
  {
   "cell_type": "code",
   "execution_count": 32,
   "id": "e5136c2e",
   "metadata": {},
   "outputs": [
    {
     "name": "stdout",
     "output_type": "stream",
     "text": [
      "(39893, 135965)\n",
      "(119678, 135965)\n",
      "(119678,)\n"
     ]
    }
   ],
   "source": [
    "print (tf_idf_test.shape)\n",
    "print(tf_idf.shape)\n",
    "print(features_train.shape)"
   ]
  },
  {
   "cell_type": "markdown",
   "id": "b617d025",
   "metadata": {},
   "source": [
    "### CatBoost_default"
   ]
  },
  {
   "cell_type": "code",
   "execution_count": 33,
   "id": "039f6d4f",
   "metadata": {},
   "outputs": [
    {
     "name": "stdout",
     "output_type": "stream",
     "text": [
      "F1 на cv 72.97%\n",
      "Wall time: 14min 42s\n"
     ]
    }
   ],
   "source": [
    "%%time\n",
    "classificator = CatBoostClassifier(verbose=False, iterations=200)\n",
    "cv_f1_CBC = cross_val_score(classificator,tf_idf,target_train,cv=3,scoring='f1').mean()\n",
    "print('F1 на cv {:.2%}'.format(cv_f1_CBC))"
   ]
  },
  {
   "cell_type": "markdown",
   "id": "84c102ab",
   "metadata": {},
   "source": [
    "Проверка на тесте"
   ]
  },
  {
   "cell_type": "code",
   "execution_count": 34,
   "id": "ba9e43f4",
   "metadata": {},
   "outputs": [
    {
     "name": "stdout",
     "output_type": "stream",
     "text": [
      "F1 на тесте 74.73%\n",
      "Wall time: 5min 11s\n"
     ]
    }
   ],
   "source": [
    "%%time\n",
    "search_cb =classificator.fit(tf_idf, target_train)\n",
    "target_predict = classificator.predict(tf_idf_test)\n",
    "test_f1_cbc = f1_score(target_test, target_predict)\n",
    "print('F1 на тесте {:.2%}'. format(test_f1_cbc))"
   ]
  },
  {
   "cell_type": "markdown",
   "id": "d8f807b7",
   "metadata": {},
   "source": [
    "### DummyClassifier"
   ]
  },
  {
   "cell_type": "markdown",
   "id": "6afa910f",
   "metadata": {},
   "source": [
    "Проверим метрику  f1  константной  модели."
   ]
  },
  {
   "cell_type": "code",
   "execution_count": 35,
   "id": "bdfa0113",
   "metadata": {},
   "outputs": [
    {
     "name": "stdout",
     "output_type": "stream",
     "text": [
      "0.18\n"
     ]
    }
   ],
   "source": [
    "dummy_model = DummyClassifier(strategy='constant',constant=1, random_state=393).fit(tf_idf,target_train)\n",
    "predictions_test = dummy_model.predict(tf_idf_test)\n",
    "f1_dummy=f1_score(target_test, predictions_test)\n",
    "print(f'{f1_dummy:.2f}')"
   ]
  },
  {
   "cell_type": "markdown",
   "id": "3d7e202e",
   "metadata": {},
   "source": [
    "### ROC_AUC_score"
   ]
  },
  {
   "cell_type": "markdown",
   "id": "7a90822c",
   "metadata": {},
   "source": [
    "Подготовим функцию plot ROC_AUC"
   ]
  },
  {
   "cell_type": "code",
   "execution_count": 36,
   "id": "61670d90",
   "metadata": {},
   "outputs": [],
   "source": [
    "def roc_auc_plot(model,label,features_test, target_test):\n",
    "    probabilities_test = model.predict_proba(features_test)\n",
    "    probabilities_one_test = probabilities_test[:, 1]\n",
    "    fpr, tpr, thresholds = roc_curve(target_test, probabilities_one_test)\n",
    "    auc_roc = roc_auc_score(target_test, probabilities_one_test)\n",
    "    plt.plot(fpr, tpr, label=label)"
   ]
  },
  {
   "cell_type": "markdown",
   "id": "c8b5d2aa",
   "metadata": {},
   "source": [
    "Построим ROC_AUC"
   ]
  },
  {
   "cell_type": "code",
   "execution_count": 37,
   "id": "855ac8b4",
   "metadata": {},
   "outputs": [
    {
     "data": {
      "image/png": "[encoded data removed]",
      "text/plain": [
       "<Figure size 864x648 with 1 Axes>"
      ]
     },
     "metadata": {},
     "output_type": "display_data"
    }
   ],
   "source": [
    "plt.figure(figsize=[12,9])\n",
    "plt.plot([0, 1], [0, 1], linestyle='--', label='RandomModel')\n",
    "\n",
    "roc_auc_plot(search_lr,'LogisticRegression',tf_idf_test,target_test)\n",
    "roc_auc_plot(search_ds,'LogisticRegression_downsampling',tf_idf_test_ds,target_test)\n",
    "roc_auc_plot(search_lgbm,'LGBM',tf_idf_test,target_test)\n",
    "roc_auc_plot(search_cb,'CatBoost_default',tf_idf_test,target_test)\n",
    "\n",
    "plt.xlim([0,1])\n",
    "plt.ylim([0,1])\n",
    "plt.xlabel(\"False Positive Rate\")\n",
    "plt.ylabel(\"True Positive Rate\")\n",
    "plt.legend(loc='lower right', fontsize='x-large')\n",
    "plt.title(\"ROC-кривая\")\n",
    "plt.show()"
   ]
  },
  {
   "cell_type": "markdown",
   "id": "191b255e",
   "metadata": {},
   "source": [
    "Соберем метрики f1 в таблицу"
   ]
  },
  {
   "cell_type": "code",
   "execution_count": 38,
   "id": "cffb0592",
   "metadata": {},
   "outputs": [
    {
     "data": {
      "text/html": [
       "<style type=\"text/css\">\n",
       "</style>\n",
       "<table id=\"T_f7998_\">\n",
       "  <thead>\n",
       "    <tr>\n",
       "      <th class=\"blank level0\" >&nbsp;</th>\n",
       "      <th class=\"col_heading level0 col0\" >LogisticRegression</th>\n",
       "      <th class=\"col_heading level0 col1\" >LogisticRegression_downsampling</th>\n",
       "      <th class=\"col_heading level0 col2\" >LGBM</th>\n",
       "      <th class=\"col_heading level0 col3\" >CatBoost_default</th>\n",
       "      <th class=\"col_heading level0 col4\" >DummyClassifier</th>\n",
       "    </tr>\n",
       "  </thead>\n",
       "  <tbody>\n",
       "    <tr>\n",
       "      <th id=\"T_f7998_level0_row0\" class=\"row_heading level0 row0\" >f1_train</th>\n",
       "      <td id=\"T_f7998_row0_col0\" class=\"data row0 col0\" >77.16%</td>\n",
       "      <td id=\"T_f7998_row0_col1\" class=\"data row0 col1\" >77.54%</td>\n",
       "      <td id=\"T_f7998_row0_col2\" class=\"data row0 col2\" >76.15%</td>\n",
       "      <td id=\"T_f7998_row0_col3\" class=\"data row0 col3\" >72.97%</td>\n",
       "      <td id=\"T_f7998_row0_col4\" class=\"data row0 col4\" >18.46%</td>\n",
       "    </tr>\n",
       "    <tr>\n",
       "      <th id=\"T_f7998_level0_row1\" class=\"row_heading level0 row1\" >f1_test</th>\n",
       "      <td id=\"T_f7998_row1_col0\" class=\"data row1 col0\" >78.04%</td>\n",
       "      <td id=\"T_f7998_row1_col1\" class=\"data row1 col1\" >78.55%</td>\n",
       "      <td id=\"T_f7998_row1_col2\" class=\"data row1 col2\" >76.17%</td>\n",
       "      <td id=\"T_f7998_row1_col3\" class=\"data row1 col3\" >74.73%</td>\n",
       "      <td id=\"T_f7998_row1_col4\" class=\"data row1 col4\" >18.46%</td>\n",
       "    </tr>\n",
       "  </tbody>\n",
       "</table>\n"
      ],
      "text/plain": [
       "<pandas.io.formats.style.Styler at 0x1e42d6f6310>"
      ]
     },
     "execution_count": 38,
     "metadata": {},
     "output_type": "execute_result"
    }
   ],
   "source": [
    "dick_f1 = { 'LogisticRegression': [search_lr.best_score_,f1_lr_test],  'LogisticRegression_downsampling': [search_ds.best_score_,f1_lr__ds_test], 'LGBM':[f1_cv_lgbm,f1_lgbm_test] , 'CatBoost_default': [cv_f1_CBC,test_f1_cbc],'DummyClassifier':[f1_dummy,f1_dummy]}\n",
    "pd.DataFrame(dick_f1, index = ['f1_train','f1_test']).style.format('{:.2%}')"
   ]
  },
  {
   "cell_type": "markdown",
   "id": "536eb404",
   "metadata": {},
   "source": [
    "**Вывод:** В целом, модели достаточно близки по своей метрике, но лучшая LogisticRegression. Все они преодолевают порог адекватности в 18.46% "
   ]
  },
  {
   "cell_type": "markdown",
   "id": "b2a0897c",
   "metadata": {},
   "source": [
    "\n",
    "### Матрица ошибок"
   ]
  },
  {
   "cell_type": "markdown",
   "id": "92b9d5cd",
   "metadata": {},
   "source": [
    "Для лучшей  модели построим матрицу ошибок, посмотрим на изменение  precision и recall при изменении порога"
   ]
  },
  {
   "cell_type": "code",
   "execution_count": 39,
   "id": "609f6ac7",
   "metadata": {},
   "outputs": [],
   "source": [
    "cm=confusion_matrix(target_test, test_prediction_lr)"
   ]
  },
  {
   "cell_type": "code",
   "execution_count": 40,
   "id": "778ebe76",
   "metadata": {},
   "outputs": [
    {
     "data": {
      "image/png": "[encoded data removed]",
      "text/plain": [
       "<Figure size 1440x504 with 2 Axes>"
      ]
     },
     "metadata": {},
     "output_type": "display_data"
    }
   ],
   "source": [
    "plt.figure(figsize = (20,7))\n",
    "sns.heatmap(cm, annot=True, fmt='d',cmap='YlGnBu');\n",
    "plt.xlabel('Predicted');\n",
    "plt.ylabel('Truth');"
   ]
  },
  {
   "cell_type": "code",
   "execution_count": 41,
   "id": "0c3131a3",
   "metadata": {},
   "outputs": [
    {
     "name": "stdout",
     "output_type": "stream",
     "text": [
      "recall - 71.38%\n"
     ]
    }
   ],
   "source": [
    "print('recall - {:.2%}'.format(recall_score(target_test, test_prediction_lr)))"
   ]
  },
  {
   "cell_type": "code",
   "execution_count": 42,
   "id": "4b61ccf4",
   "metadata": {},
   "outputs": [
    {
     "name": "stdout",
     "output_type": "stream",
     "text": [
      "precision - 86.08%\n"
     ]
    }
   ],
   "source": [
    "print('precision - {:.2%}'.format(precision_score(target_test, test_prediction_lr)))"
   ]
  },
  {
   "cell_type": "markdown",
   "id": "b7f854a1",
   "metadata": {},
   "source": [
    "### Регулировка порога"
   ]
  },
  {
   "cell_type": "code",
   "execution_count": 43,
   "id": "9f644ba2",
   "metadata": {},
   "outputs": [],
   "source": [
    "probabilities = search_lr.predict_proba(tf_idf)\n",
    "probabilities_one = probabilities[:, 1]\n",
    "list_metrix=[]\n",
    "for threshold in np.arange(0, 1, 0.1):\n",
    "    predicted = probabilities_one > threshold\n",
    "    precision = precision_score(target_train, predicted)\n",
    "    recall = recall_score(target_train, predicted)\n",
    "    f1 = f1_score(target_train, predicted)\n",
    "    list_metrix.append([precision,recall,f1])"
   ]
  },
  {
   "cell_type": "code",
   "execution_count": 45,
   "id": "78a1477c",
   "metadata": {},
   "outputs": [
    {
     "data": {
      "text/html": [
       "<style type=\"text/css\">\n",
       "</style>\n",
       "<table id=\"T_4a0b6_\">\n",
       "  <thead>\n",
       "    <tr>\n",
       "      <th class=\"blank level0\" >&nbsp;</th>\n",
       "      <th class=\"col_heading level0 col0\" >precision</th>\n",
       "      <th class=\"col_heading level0 col1\" >recall</th>\n",
       "      <th class=\"col_heading level0 col2\" >f1</th>\n",
       "    </tr>\n",
       "  </thead>\n",
       "  <tbody>\n",
       "    <tr>\n",
       "      <th id=\"T_4a0b6_level0_row0\" class=\"row_heading level0 row0\" >0</th>\n",
       "      <td id=\"T_4a0b6_row0_col0\" class=\"data row0 col0\" >10.17%</td>\n",
       "      <td id=\"T_4a0b6_row0_col1\" class=\"data row0 col1\" >100.00%</td>\n",
       "      <td id=\"T_4a0b6_row0_col2\" class=\"data row0 col2\" >18.46%</td>\n",
       "    </tr>\n",
       "    <tr>\n",
       "      <th id=\"T_4a0b6_level0_row1\" class=\"row_heading level0 row1\" >1</th>\n",
       "      <td id=\"T_4a0b6_row1_col0\" class=\"data row1 col0\" >67.31%</td>\n",
       "      <td id=\"T_4a0b6_row1_col1\" class=\"data row1 col1\" >97.06%</td>\n",
       "      <td id=\"T_4a0b6_row1_col2\" class=\"data row1 col2\" >79.50%</td>\n",
       "    </tr>\n",
       "    <tr>\n",
       "      <th id=\"T_4a0b6_level0_row2\" class=\"row_heading level0 row2\" >2</th>\n",
       "      <td id=\"T_4a0b6_row2_col0\" class=\"data row2 col0\" >80.71%</td>\n",
       "      <td id=\"T_4a0b6_row2_col1\" class=\"data row2 col1\" >93.86%</td>\n",
       "      <td id=\"T_4a0b6_row2_col2\" class=\"data row2 col2\" >86.79%</td>\n",
       "    </tr>\n",
       "    <tr>\n",
       "      <th id=\"T_4a0b6_level0_row3\" class=\"row_heading level0 row3\" >3</th>\n",
       "      <td id=\"T_4a0b6_row3_col0\" class=\"data row3 col0\" >86.82%</td>\n",
       "      <td id=\"T_4a0b6_row3_col1\" class=\"data row3 col1\" >89.71%</td>\n",
       "      <td id=\"T_4a0b6_row3_col2\" class=\"data row3 col2\" >88.24%</td>\n",
       "    </tr>\n",
       "    <tr>\n",
       "      <th id=\"T_4a0b6_level0_row4\" class=\"row_heading level0 row4\" >4</th>\n",
       "      <td id=\"T_4a0b6_row4_col0\" class=\"data row4 col0\" >90.79%</td>\n",
       "      <td id=\"T_4a0b6_row4_col1\" class=\"data row4 col1\" >84.51%</td>\n",
       "      <td id=\"T_4a0b6_row4_col2\" class=\"data row4 col2\" >87.54%</td>\n",
       "    </tr>\n",
       "    <tr>\n",
       "      <th id=\"T_4a0b6_level0_row5\" class=\"row_heading level0 row5\" >5</th>\n",
       "      <td id=\"T_4a0b6_row5_col0\" class=\"data row5 col0\" >93.52%</td>\n",
       "      <td id=\"T_4a0b6_row5_col1\" class=\"data row5 col1\" >78.69%</td>\n",
       "      <td id=\"T_4a0b6_row5_col2\" class=\"data row5 col2\" >85.47%</td>\n",
       "    </tr>\n",
       "    <tr>\n",
       "      <th id=\"T_4a0b6_level0_row6\" class=\"row_heading level0 row6\" >6</th>\n",
       "      <td id=\"T_4a0b6_row6_col0\" class=\"data row6 col0\" >95.20%</td>\n",
       "      <td id=\"T_4a0b6_row6_col1\" class=\"data row6 col1\" >72.79%</td>\n",
       "      <td id=\"T_4a0b6_row6_col2\" class=\"data row6 col2\" >82.50%</td>\n",
       "    </tr>\n",
       "    <tr>\n",
       "      <th id=\"T_4a0b6_level0_row7\" class=\"row_heading level0 row7\" >7</th>\n",
       "      <td id=\"T_4a0b6_row7_col0\" class=\"data row7 col0\" >96.68%</td>\n",
       "      <td id=\"T_4a0b6_row7_col1\" class=\"data row7 col1\" >67.20%</td>\n",
       "      <td id=\"T_4a0b6_row7_col2\" class=\"data row7 col2\" >79.28%</td>\n",
       "    </tr>\n",
       "    <tr>\n",
       "      <th id=\"T_4a0b6_level0_row8\" class=\"row_heading level0 row8\" >8</th>\n",
       "      <td id=\"T_4a0b6_row8_col0\" class=\"data row8 col0\" >97.79%</td>\n",
       "      <td id=\"T_4a0b6_row8_col1\" class=\"data row8 col1\" >61.37%</td>\n",
       "      <td id=\"T_4a0b6_row8_col2\" class=\"data row8 col2\" >75.41%</td>\n",
       "    </tr>\n",
       "    <tr>\n",
       "      <th id=\"T_4a0b6_level0_row9\" class=\"row_heading level0 row9\" >9</th>\n",
       "      <td id=\"T_4a0b6_row9_col0\" class=\"data row9 col0\" >98.57%</td>\n",
       "      <td id=\"T_4a0b6_row9_col1\" class=\"data row9 col1\" >54.56%</td>\n",
       "      <td id=\"T_4a0b6_row9_col2\" class=\"data row9 col2\" >70.25%</td>\n",
       "    </tr>\n",
       "  </tbody>\n",
       "</table>\n"
      ],
      "text/plain": [
       "<pandas.io.formats.style.Styler at 0x1e42e02d9a0>"
      ]
     },
     "execution_count": 45,
     "metadata": {},
     "output_type": "execute_result"
    }
   ],
   "source": [
    "columns =['precision','recall','f1']\n",
    "pd.DataFrame(list_metrix,columns=columns).style.format('{:.2%}')"
   ]
  },
  {
   "cell_type": "code",
   "execution_count": 46,
   "id": "76d2dfa0",
   "metadata": {},
   "outputs": [
    {
     "data": {
      "image/png": "[encoded data removed]",
      "text/plain": [
       "<Figure size 1080x720 with 1 Axes>"
      ]
     },
     "metadata": {},
     "output_type": "display_data"
    }
   ],
   "source": [
    "probabilities = search_lr.predict_proba(tf_idf_test)\n",
    "precision, recall, thresholds = precision_recall_curve(target_test, probabilities[:, 1])    \n",
    "plt.figure(figsize=(15, 10))\n",
    "plt.step(recall, precision, where='post')\n",
    "plt.xlabel('Recall')\n",
    "plt.ylabel('Precision')\n",
    "plt.ylim([0.0, 1.05])\n",
    "plt.xlim([0.0, 1.0])\n",
    "plt.title('PR curve')\n",
    "plt.show() "
   ]
  },
  {
   "cell_type": "markdown",
   "id": "83ef0a63",
   "metadata": {},
   "source": [
    "**Выводы:** \n",
    "- precision 87.24%- точность. Модель достаточно неплохо предсказывает токсичные комментарии,  чуть больше 12% нетоксичных комментариев модель забраковала, то есть пометила, как  токсичные.\n",
    "- recall 70.78% - полнота. Модель, можно сказать, осторожничает, 30 % из всех токсичных комментариев пометила, как нетоксичные.\n",
    "- также  для заказчика  в пункте **Регулировка порога**  представлена матрица соотношения precision и recall, в случае необходимости изменения характеристик precision,recall ."
   ]
  },
  {
   "cell_type": "markdown",
   "id": "3cf3fd71",
   "metadata": {},
   "source": [
    "## Выводы"
   ]
  },
  {
   "cell_type": "markdown",
   "id": "6d163ae3",
   "metadata": {},
   "source": [
    "По результатам проведенной работы мы создали модель, которая соответствует требованиям заказчика, а именно, метрика F1 > 75% . Наилучшая метрика достигнута моделью **Логистической регрессии** и составляет **F1 - 78.15%**"
   ]
  },
  {
   "cell_type": "markdown",
   "id": "46acb1a3",
   "metadata": {
    "tags": []
   },
   "source": [
    "### Модель Bert (Bonus ) озакомительно"
   ]
  },
  {
   "cell_type": "markdown",
   "id": "95f73eda",
   "metadata": {},
   "source": [
    "Учтём, что модель BERT очень требовательна к ресурсам, поэтому построим модель, не претендуя на высокий результатам меры F1."
   ]
  },
  {
   "cell_type": "code",
   "execution_count": 97,
   "id": "2589130c",
   "metadata": {},
   "outputs": [],
   "source": [
    "df_bert = data.sample(30000).reset_index(drop=True)\n"
   ]
  },
  {
   "cell_type": "markdown",
   "id": "315d62c0",
   "metadata": {},
   "source": [
    "Проведем токенизацию (преобразуем каждое предложение в список идентификаторов, максимальная длина = 512, но для экономии времени обучения ограничимся длиной = 20). Лемматизация не требуется, так как BERT понимает формы слов"
   ]
  },
  {
   "cell_type": "code",
   "execution_count": null,
   "id": "3ea9fc14",
   "metadata": {},
   "outputs": [],
   "source": [
    "%%time\n",
    "tokenizer = transformers.BertTokenizer(\n",
    "    vocab_file='vocab.txt')\n",
    "\n",
    "tokenized = df_bert['text'].apply(\n",
    "    lambda x: tokenizer.encode(x, max_length=20, truncation=True,add_special_tokens = True))\n",
    "\n",
    "max_len = 0\n",
    "for i in tokenized.values:\n",
    "    if len(i) > max_len:\n",
    "        max_len = len(i)\n",
    "\n",
    "padded = np.array([i + [0]*(max_len - len(i)) for i in tokenized.values])\n",
    "\n",
    "attention_mask = np.where(padded != 0, 1, 0)"
   ]
  },
  {
   "cell_type": "markdown",
   "id": "6eb4b703",
   "metadata": {},
   "source": [
    "Загружаем предобученную модель и токенизатор BERT "
   ]
  },
  {
   "cell_type": "code",
   "execution_count": null,
   "id": "258344ca",
   "metadata": {},
   "outputs": [],
   "source": [
    "config = transformers.BertConfig.from_json_file(\"bert_config.json\")\n",
    "model = transformers.BertModel.from_pretrained(\"pytorch_model.bin\", config=config)"
   ]
  },
  {
   "cell_type": "markdown",
   "id": "948c63da",
   "metadata": {},
   "source": [
    "Используем обученный BERT для создания эмбеддингов для каждого текста по 50 текстов в батче"
   ]
  },
  {
   "cell_type": "code",
   "execution_count": null,
   "id": "bffd08d0",
   "metadata": {},
   "outputs": [],
   "source": [
    "batch_size = 50\n",
    "embeddings = []\n",
    "for i in notebook.tqdm(range(padded.shape[0] // batch_size)):\n",
    "    batch = torch.LongTensor(padded[batch_size*i:batch_size*(i+1)]) \n",
    "    attention_mask_batch = torch.LongTensor(attention_mask[batch_size*i:batch_size*(i+1)])\n",
    "\n",
    "    with torch.no_grad():\n",
    "        batch_embeddings = model(batch, attention_mask=attention_mask_batch)\n",
    "\n",
    "    embeddings.append(batch_embeddings[0][:,0,:].numpy())"
   ]
  },
  {
   "cell_type": "markdown",
   "id": "d527da9d",
   "metadata": {},
   "source": [
    "Объединяем эмбеддинги для каждого текста"
   ]
  },
  {
   "cell_type": "code",
   "execution_count": null,
   "id": "24550d82",
   "metadata": {},
   "outputs": [],
   "source": [
    "features_bert = np.concatenate(embeddings)\n",
    "target = df_bert['toxic']"
   ]
  },
  {
   "cell_type": "markdown",
   "id": "bb6b0f13",
   "metadata": {},
   "source": [
    "Сплитанем выборки на обучем её LogisticRegression"
   ]
  },
  {
   "cell_type": "code",
   "execution_count": null,
   "id": "be58582d",
   "metadata": {},
   "outputs": [],
   "source": [
    "train_features, test_features, train_target, test_target = train_test_split(features_bert, target, test_size=.75, stratify = target)"
   ]
  },
  {
   "cell_type": "code",
   "execution_count": null,
   "id": "a5aa6b2e",
   "metadata": {},
   "outputs": [],
   "source": [
    "model = LogisticRegression(max_iter=500,random_state=393).fit(train_features, train_target)"
   ]
  },
  {
   "cell_type": "code",
   "execution_count": null,
   "id": "b501c718",
   "metadata": {},
   "outputs": [],
   "source": [
    "test_prediction = model.predict(test_features)"
   ]
  },
  {
   "cell_type": "code",
   "execution_count": null,
   "id": "6aaa472f",
   "metadata": {},
   "outputs": [],
   "source": [
    "print('F1 - {:.2%}'.format(f1_score(test_target,test_prediction)))"
   ]
  },
  {
   "cell_type": "markdown",
   "id": "77721232",
   "metadata": {},
   "source": [
    "## Выводы по Bert: "
   ]
  },
  {
   "cell_type": "markdown",
   "id": "eb1f95cb",
   "metadata": {},
   "source": [
    "В целом , модель получилась с метрикой f1 -60.48,что  выше порога адекватности в 18.46%, но недостаточно для достижения целевых показателей. Из плюсов Bert можно отметить отсутствие требований к лемматизации текста,  а к минусам более существенные требования к вычислительным ресурсам компьютера."
   ]
  },
  {
   "cell_type": "markdown",
   "id": "45046692-4d3d-4853-af3b-037fcba4fe26",
   "metadata": {},
   "source": [
    "Поробуем  завернуть часть работы по обучению и подбору  гиперпараметров в Pipeline"
   ]
  },
  {
   "cell_type": "markdown",
   "id": "bb31f7d0-4f28-4f93-b985-a0bd0843ce5d",
   "metadata": {},
   "source": [
    "### Pipe_line - продемострируем возможности через пайплайн"
   ]
  },
  {
   "cell_type": "code",
   "execution_count": 47,
   "id": "89d34a2d-332d-4739-8974-8ab00df7dc28",
   "metadata": {},
   "outputs": [
    {
     "name": "stdout",
     "output_type": "stream",
     "text": [
      "Fitting 2 folds for each of 15 candidates, totalling 30 fits\n",
      "Wall time: 7min 38s\n"
     ]
    }
   ],
   "source": [
    "%%time\n",
    "pipe = Pipeline([\n",
    "        ('vectorizer', TfidfVectorizer(ngram_range=(1,1))),\n",
    "        ('model', 'passthrough',), \n",
    "               ])\n",
    "\n",
    "params = [\n",
    "        {\n",
    "       'model': (LogisticRegression(random_state=393, max_iter=500),),\n",
    "       'model__solver': ('liblinear','saga',),\n",
    "       'model__C': (1,2,5,),\n",
    "       'model__penalty':('l1','l2',), \n",
    "        },\n",
    "        {'model':(LGBMClassifier(random_state=393),),\n",
    "        'model__learning_rate': (0.2,0.4,),\n",
    "        },\n",
    "        {\n",
    "         'model': (DummyClassifier(strategy='constant',constant=1, random_state=393),)\n",
    "        }\n",
    "]\n",
    "\n",
    "grid = GridSearchCV(pipe, param_grid=params, scoring='f1',n_jobs=-1, cv=2, verbose=10,return_train_score=True, refit=True)\n",
    "search_pipe = grid.fit(features_train, target_train)\n"
   ]
  },
  {
   "cell_type": "code",
   "execution_count": 48,
   "id": "76139f34-4269-4826-81d5-1efc22a18799",
   "metadata": {},
   "outputs": [
    {
     "name": "stdout",
     "output_type": "stream",
     "text": [
      "Лучшие параметры модели -  LogisticRegression(C=2, max_iter=500, penalty='l1', random_state=393,\n",
      "                   solver='liblinear')\n",
      "Лучшая метрика F1 - 0.778\n"
     ]
    }
   ],
   "source": [
    "print('Лучшие параметры модели - ',search_pipe.best_params_['model'])\n",
    "print(f'Лучшая метрика F1 - {search_pipe.best_score_:.3f}')"
   ]
  },
  {
   "cell_type": "markdown",
   "id": "93ed5076-506e-42ba-916c-4a53785a6329",
   "metadata": {},
   "source": [
    "**Best модель на тесте**"
   ]
  },
  {
   "cell_type": "code",
   "execution_count": 49,
   "id": "b1836e04-c378-4891-ad03-fd5b154d3877",
   "metadata": {},
   "outputs": [
    {
     "name": "stdout",
     "output_type": "stream",
     "text": [
      "F1 - 79.17%\n"
     ]
    }
   ],
   "source": [
    "test_prediction_best_model = search_pipe.predict(features_test)\n",
    "f1_bm_test =f1_score(target_test,test_prediction_best_model)\n",
    "print('F1 - {:.2%}'.format(f1_bm_test))"
   ]
  },
  {
   "cell_type": "code",
   "execution_count": 50,
   "id": "30b4c7e2-b7f1-40fc-b819-c75d3a8d87d4",
   "metadata": {},
   "outputs": [],
   "source": [
    "features_downsampled, target_downsampled = downsample(features_train, target_train, 0.9)"
   ]
  },
  {
   "cell_type": "code",
   "execution_count": 51,
   "id": "1e67a89c-a8d5-4d3d-bac3-85cc892588ad",
   "metadata": {},
   "outputs": [
    {
     "name": "stdout",
     "output_type": "stream",
     "text": [
      "Fitting 2 folds for each of 15 candidates, totalling 30 fits\n",
      "Wall time: 21min 3s\n"
     ]
    },
    {
     "name": "stderr",
     "output_type": "stream",
     "text": [
      "c:\\users\\integro\\appdata\\local\\programs\\python\\python39\\lib\\site-packages\\sklearn\\linear_model\\_sag.py:352: ConvergenceWarning: The max_iter was reached which means the coef_ did not converge\n",
      "  warnings.warn(\n"
     ]
    }
   ],
   "source": [
    "%%time\n",
    "search_ds = grid.fit(features_downsampled, target_downsampled)"
   ]
  },
  {
   "cell_type": "code",
   "execution_count": 52,
   "id": "ffd56c50-f69f-4e4e-9a26-774dda2f57ba",
   "metadata": {},
   "outputs": [
    {
     "name": "stdout",
     "output_type": "stream",
     "text": [
      "Лучшие параметры модели -  LogisticRegression(C=5, max_iter=500, penalty='l1', random_state=393,\n",
      "                   solver='saga')\n",
      "Лучшая метрика F1 - 0.782\n"
     ]
    }
   ],
   "source": [
    "print('Лучшие параметры модели - ',search_ds.best_params_['model'])\n",
    "print(f'Лучшая метрика F1 - {search_ds.best_score_:.3f}')"
   ]
  },
  {
   "cell_type": "markdown",
   "id": "8a11bf0f-a531-4b5e-b1d3-f47ebf77201a",
   "metadata": {},
   "source": [
    "**Best модель downsampled на тесте**"
   ]
  },
  {
   "cell_type": "code",
   "execution_count": 53,
   "id": "fc9a8a5e-4e80-49a1-b23c-82e3553ada28",
   "metadata": {},
   "outputs": [
    {
     "name": "stdout",
     "output_type": "stream",
     "text": [
      "F1 - 79.29%\n"
     ]
    }
   ],
   "source": [
    "test_prediction_best_model_ds = search_ds.predict(features_test)\n",
    "f1_bm_test_ds =f1_score(target_test,test_prediction_best_model_ds)\n",
    "print('F1 - {:.2%}'.format(f1_bm_test_ds))"
   ]
  },
  {
   "cell_type": "code",
   "execution_count": 54,
   "id": "918e5b30-3181-48c1-ad8e-0e1a68bcc3cd",
   "metadata": {},
   "outputs": [
    {
     "data": {
      "text/html": [
       "<div>\n",
       "<style scoped>\n",
       "    .dataframe tbody tr th:only-of-type {\n",
       "        vertical-align: middle;\n",
       "    }\n",
       "\n",
       "    .dataframe tbody tr th {\n",
       "        vertical-align: top;\n",
       "    }\n",
       "\n",
       "    .dataframe thead th {\n",
       "        text-align: right;\n",
       "    }\n",
       "</style>\n",
       "<table border=\"1\" class=\"dataframe\">\n",
       "  <thead>\n",
       "    <tr style=\"text-align: right;\">\n",
       "      <th></th>\n",
       "      <th>0</th>\n",
       "      <th>1</th>\n",
       "    </tr>\n",
       "  </thead>\n",
       "  <tbody>\n",
       "    <tr>\n",
       "      <th>0</th>\n",
       "      <td>35300</td>\n",
       "      <td>537</td>\n",
       "    </tr>\n",
       "    <tr>\n",
       "      <th>1</th>\n",
       "      <td>1039</td>\n",
       "      <td>3017</td>\n",
       "    </tr>\n",
       "  </tbody>\n",
       "</table>\n",
       "</div>"
      ],
      "text/plain": [
       "       0     1\n",
       "0  35300   537\n",
       "1   1039  3017"
      ]
     },
     "execution_count": 54,
     "metadata": {},
     "output_type": "execute_result"
    }
   ],
   "source": [
    "cm=confusion_matrix(target_test, test_prediction_best_model_ds)\n",
    "pd.DataFrame(cm)"
   ]
  },
  {
   "cell_type": "code",
   "execution_count": 55,
   "id": "1d3c2851-ef82-4e00-9945-330a713f9261",
   "metadata": {},
   "outputs": [
    {
     "data": {
      "text/html": [
       "<style type=\"text/css\">\n",
       "</style>\n",
       "<table id=\"T_9732e_\">\n",
       "  <thead>\n",
       "    <tr>\n",
       "      <th class=\"blank level0\" >&nbsp;</th>\n",
       "      <th class=\"col_heading level0 col0\" >precision</th>\n",
       "      <th class=\"col_heading level0 col1\" >recall</th>\n",
       "      <th class=\"col_heading level0 col2\" >f1</th>\n",
       "    </tr>\n",
       "  </thead>\n",
       "  <tbody>\n",
       "    <tr>\n",
       "      <th id=\"T_9732e_level0_row0\" class=\"row_heading level0 row0\" >0</th>\n",
       "      <td id=\"T_9732e_row0_col0\" class=\"data row0 col0\" >10.17%</td>\n",
       "      <td id=\"T_9732e_row0_col1\" class=\"data row0 col1\" >100.00%</td>\n",
       "      <td id=\"T_9732e_row0_col2\" class=\"data row0 col2\" >18.46%</td>\n",
       "    </tr>\n",
       "    <tr>\n",
       "      <th id=\"T_9732e_level0_row1\" class=\"row_heading level0 row1\" >1</th>\n",
       "      <td id=\"T_9732e_row1_col0\" class=\"data row1 col0\" >69.29%</td>\n",
       "      <td id=\"T_9732e_row1_col1\" class=\"data row1 col1\" >98.90%</td>\n",
       "      <td id=\"T_9732e_row1_col2\" class=\"data row1 col2\" >81.49%</td>\n",
       "    </tr>\n",
       "    <tr>\n",
       "      <th id=\"T_9732e_level0_row2\" class=\"row_heading level0 row2\" >2</th>\n",
       "      <td id=\"T_9732e_row2_col0\" class=\"data row2 col0\" >81.37%</td>\n",
       "      <td id=\"T_9732e_row2_col1\" class=\"data row2 col1\" >97.50%</td>\n",
       "      <td id=\"T_9732e_row2_col2\" class=\"data row2 col2\" >88.71%</td>\n",
       "    </tr>\n",
       "    <tr>\n",
       "      <th id=\"T_9732e_level0_row3\" class=\"row_heading level0 row3\" >3</th>\n",
       "      <td id=\"T_9732e_row3_col0\" class=\"data row3 col0\" >87.68%</td>\n",
       "      <td id=\"T_9732e_row3_col1\" class=\"data row3 col1\" >95.36%</td>\n",
       "      <td id=\"T_9732e_row3_col2\" class=\"data row3 col2\" >91.36%</td>\n",
       "    </tr>\n",
       "    <tr>\n",
       "      <th id=\"T_9732e_level0_row4\" class=\"row_heading level0 row4\" >4</th>\n",
       "      <td id=\"T_9732e_row4_col0\" class=\"data row4 col0\" >91.64%</td>\n",
       "      <td id=\"T_9732e_row4_col1\" class=\"data row4 col1\" >92.15%</td>\n",
       "      <td id=\"T_9732e_row4_col2\" class=\"data row4 col2\" >91.90%</td>\n",
       "    </tr>\n",
       "    <tr>\n",
       "      <th id=\"T_9732e_level0_row5\" class=\"row_heading level0 row5\" >5</th>\n",
       "      <td id=\"T_9732e_row5_col0\" class=\"data row5 col0\" >94.24%</td>\n",
       "      <td id=\"T_9732e_row5_col1\" class=\"data row5 col1\" >88.02%</td>\n",
       "      <td id=\"T_9732e_row5_col2\" class=\"data row5 col2\" >91.02%</td>\n",
       "    </tr>\n",
       "    <tr>\n",
       "      <th id=\"T_9732e_level0_row6\" class=\"row_heading level0 row6\" >6</th>\n",
       "      <td id=\"T_9732e_row6_col0\" class=\"data row6 col0\" >96.01%</td>\n",
       "      <td id=\"T_9732e_row6_col1\" class=\"data row6 col1\" >82.23%</td>\n",
       "      <td id=\"T_9732e_row6_col2\" class=\"data row6 col2\" >88.58%</td>\n",
       "    </tr>\n",
       "    <tr>\n",
       "      <th id=\"T_9732e_level0_row7\" class=\"row_heading level0 row7\" >7</th>\n",
       "      <td id=\"T_9732e_row7_col0\" class=\"data row7 col0\" >97.22%</td>\n",
       "      <td id=\"T_9732e_row7_col1\" class=\"data row7 col1\" >74.53%</td>\n",
       "      <td id=\"T_9732e_row7_col2\" class=\"data row7 col2\" >84.37%</td>\n",
       "    </tr>\n",
       "    <tr>\n",
       "      <th id=\"T_9732e_level0_row8\" class=\"row_heading level0 row8\" >8</th>\n",
       "      <td id=\"T_9732e_row8_col0\" class=\"data row8 col0\" >98.01%</td>\n",
       "      <td id=\"T_9732e_row8_col1\" class=\"data row8 col1\" >67.10%</td>\n",
       "      <td id=\"T_9732e_row8_col2\" class=\"data row8 col2\" >79.66%</td>\n",
       "    </tr>\n",
       "    <tr>\n",
       "      <th id=\"T_9732e_level0_row9\" class=\"row_heading level0 row9\" >9</th>\n",
       "      <td id=\"T_9732e_row9_col0\" class=\"data row9 col0\" >98.75%</td>\n",
       "      <td id=\"T_9732e_row9_col1\" class=\"data row9 col1\" >59.68%</td>\n",
       "      <td id=\"T_9732e_row9_col2\" class=\"data row9 col2\" >74.40%</td>\n",
       "    </tr>\n",
       "  </tbody>\n",
       "</table>\n"
      ],
      "text/plain": [
       "<pandas.io.formats.style.Styler at 0x1e42d673340>"
      ]
     },
     "execution_count": 55,
     "metadata": {},
     "output_type": "execute_result"
    }
   ],
   "source": [
    "probabilities = search_ds.predict_proba(features_train)\n",
    "probabilities_one = probabilities[:, 1]\n",
    "list_metrix=[]\n",
    "for threshold in np.arange(0, 1, 0.1):\n",
    "    predicted = probabilities_one > threshold\n",
    "    precision = precision_score(target_train, predicted)\n",
    "    recall = recall_score(target_train, predicted)\n",
    "    f1 = f1_score(target_train, predicted)\n",
    "    list_metrix.append([precision,recall,f1])\n",
    "columns =['precision','recall','f1']\n",
    "pd.DataFrame(list_metrix,columns=columns).style.format('{:.2%}')"
   ]
  },
  {
   "cell_type": "code",
   "execution_count": 56,
   "id": "d19dcf3e-59a8-4f2b-9db0-b7cf7da7d83e",
   "metadata": {},
   "outputs": [
    {
     "data": {
      "image/png": "[encoded data removed]",
      "text/plain": [
       "<Figure size 1080x720 with 1 Axes>"
      ]
     },
     "metadata": {},
     "output_type": "display_data"
    }
   ],
   "source": [
    "probabilities = search_ds.predict_proba(features_test)\n",
    "precision, recall, thresholds = precision_recall_curve(target_test, probabilities[:, 1])    \n",
    "plt.figure(figsize=(15, 10))\n",
    "plt.step(recall, precision, where='post')\n",
    "plt.xlabel('Recall')\n",
    "plt.ylabel('Precision')\n",
    "plt.ylim([0.0, 1.05])\n",
    "plt.xlim([0.0, 1.0])\n",
    "plt.title('PR curve')\n",
    "plt.show() "
   ]
  },
  {
   "cell_type": "markdown",
   "id": "a6e29d10-604f-4cbd-bc41-d8be5d437fed",
   "metadata": {},
   "source": [
    "### Cat_boost - Собственные  инструменты Cat_boost"
   ]
  },
  {
   "cell_type": "code",
   "execution_count": 67,
   "id": "c0c8277d-dc25-4c76-bdb5-2d99bba89bc7",
   "metadata": {},
   "outputs": [],
   "source": [
    "text_features=data[['lemma_text']]"
   ]
  },
  {
   "cell_type": "code",
   "execution_count": 108,
   "id": "22b9ff76-78e0-4433-914a-43dde606ad47",
   "metadata": {},
   "outputs": [],
   "source": [
    "# from pattern.en import lemma\n",
    "from catboost.text_processing import Tokenizer\n"
   ]
  },
  {
   "cell_type": "code",
   "execution_count": 98,
   "id": "9abff50e-ea3c-4218-9f4d-5b7ed514a41f",
   "metadata": {},
   "outputs": [],
   "source": [
    "train_pool = Pool(features_train.to_frame(), target_train.to_frame(),\n",
    "                  text_features= ['lemma_text'])\n",
    "valid_pool = Pool(features_test.to_frame(), target_test.to_frame(),\n",
    "                  text_features= ['lemma_text'])"
   ]
  },
  {
   "cell_type": "code",
   "execution_count": 111,
   "id": "fe3211d9-470d-4946-afc8-a822341482a7",
   "metadata": {},
   "outputs": [],
   "source": [
    "\n",
    "def fit_model(train_pool, test_pool, **kwargs):\n",
    "    model = CatBoostClassifier(task_type='CPU', iterations = 5000,\n",
    "                               eval_metric='F1', od_type='Iter', \n",
    "                               od_wait=500, **kwargs)\n",
    "    \n",
    "    return model.fit(train_pool, eval_set=test_pool, \n",
    "                     verbose=100, plot=True, \n",
    "                     use_best_model=True)"
   ]
  },
  {
   "cell_type": "code",
   "execution_count": 112,
   "id": "28f80126-7a94-4bcb-a5d8-4d8860e22a82",
   "metadata": {},
   "outputs": [
    {
     "name": "stderr",
     "output_type": "stream",
     "text": [
      "Custom logger is already specified. Specify more than one logger at same time is not thread safe."
     ]
    },
    {
     "data": {
      "application/vnd.jupyter.widget-view+json": {
       "model_id": "c7bc78ad6b80466a81c1925e673fdfa7",
       "version_major": 2,
       "version_minor": 0
      },
      "text/plain": [
       "MetricVisualizer(layout=Layout(align_self='stretch', height='500px'))"
      ]
     },
     "metadata": {},
     "output_type": "display_data"
    },
    {
     "name": "stdout",
     "output_type": "stream",
     "text": [
      "0:\tlearn: 0.6996440\ttest: 0.7151699\tbest: 0.7151699 (0)\ttotal: 123ms\tremaining: 10m 15s\n",
      "100:\tlearn: 0.7942959\ttest: 0.7723178\tbest: 0.7752363 (79)\ttotal: 13.9s\tremaining: 11m 12s\n",
      "200:\tlearn: 0.8210860\ttest: 0.7749729\tbest: 0.7763517 (117)\ttotal: 27.4s\tremaining: 10m 54s\n",
      "300:\tlearn: 0.8374978\ttest: 0.7750846\tbest: 0.7773411 (283)\ttotal: 41.1s\tremaining: 10m 42s\n",
      "400:\tlearn: 0.8510505\ttest: 0.7746117\tbest: 0.7773411 (283)\ttotal: 54.9s\tremaining: 10m 29s\n",
      "500:\tlearn: 0.8623298\ttest: 0.7755157\tbest: 0.7773411 (283)\ttotal: 1m 8s\tremaining: 10m 19s\n",
      "600:\tlearn: 0.8718767\ttest: 0.7779125\tbest: 0.7784512 (591)\ttotal: 1m 22s\tremaining: 10m 5s\n",
      "700:\tlearn: 0.8813828\ttest: 0.7801342\tbest: 0.7822581 (673)\ttotal: 1m 36s\tremaining: 9m 51s\n",
      "800:\tlearn: 0.8899433\ttest: 0.7780763\tbest: 0.7822581 (673)\ttotal: 1m 50s\tremaining: 9m 37s\n",
      "900:\tlearn: 0.8971121\ttest: 0.7770906\tbest: 0.7822581 (673)\ttotal: 2m 4s\tremaining: 9m 27s\n",
      "1000:\tlearn: 0.9033972\ttest: 0.7789276\tbest: 0.7822581 (673)\ttotal: 2m 19s\tremaining: 9m 16s\n",
      "1100:\tlearn: 0.9091620\ttest: 0.7789248\tbest: 0.7822581 (673)\ttotal: 2m 33s\tremaining: 9m 2s\n",
      "Stopped by overfitting detector  (500 iterations wait)\n",
      "\n",
      "bestTest = 0.7822580645\n",
      "bestIteration = 673\n",
      "\n",
      "Shrink model to first 674 iterations.\n"
     ]
    }
   ],
   "source": [
    "model = fit_model(train_pool, valid_pool, learning_rate=0.35,\n",
    "                  dictionaries = [{\n",
    "                      'dictionary_id':'Word',\n",
    "                      'max_dictionary_size': '50000'\n",
    "                  }],\n",
    "                   tokenizers=[\n",
    "                    {\n",
    "                        'tokenizer_id': 'Sense',\n",
    "                        'separator_type': 'BySense',\n",
    "                        'lowercasing': 'True',\n",
    "                        'token_types':['Word', 'Number', 'SentenceBreak'],\n",
    "                        'sub_tokens_policy':'SeveralTokens'\n",
    "                    }      \n",
    "                            ],\n",
    "                 feature_calcers = ['BoW','NaiveBayes'])"
   ]
  },
  {
   "cell_type": "code",
   "execution_count": 33,
   "id": "c61634fe-9230-4981-8651-5c89ce52492e",
   "metadata": {},
   "outputs": [
    {
     "name": "stdout",
     "output_type": "stream",
     "text": [
      "F1 на cv 76.59%\n",
      "Wall time: 41min 28s\n"
     ]
    }
   ],
   "source": [
    "%%time\n",
    "classificator = SVC(  class_weight ='balanced')\n",
    "cv_f1_svc = cross_val_score(classificator,tf_idf,target_train,cv=3,scoring='f1',n_jobs = -1).mean()\n",
    "print('F1 на cv {:.2%}'.format(cv_f1_svc))"
   ]
  }
 ],
 "metadata": {
  "ExecuteTimeLog": [
   {
    "duration": 81,
    "start_time": "2022-01-24T13:05:31.506Z"
   }
  ],
  "kernelspec": {
   "display_name": "Python 3 (ipykernel)",
   "language": "python",
   "name": "python3"
  },
  "language_info": {
   "codemirror_mode": {
    "name": "ipython",
    "version": 3
   },
   "file_extension": ".py",
   "mimetype": "text/x-python",
   "name": "python",
   "nbconvert_exporter": "python",
   "pygments_lexer": "ipython3",
   "version": "3.9.6"
  },
  "toc": {
   "base_numbering": 1,
   "nav_menu": {},
   "number_sections": true,
   "sideBar": true,
   "skip_h1_title": true,
   "title_cell": "Table of Contents",
   "title_sidebar": "Contents",
   "toc_cell": false,
   "toc_position": {},
   "toc_section_display": true,
   "toc_window_display": false
  }
 },
 "nbformat": 4,
 "nbformat_minor": 5
}
