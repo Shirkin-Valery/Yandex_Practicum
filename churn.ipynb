{
 "cells": [
  {
   "cell_type": "markdown",
   "metadata": {},
   "source": [
    "# Отток клиентов"
   ]
  },
  {
   "cell_type": "markdown",
   "metadata": {},
   "source": [
    "**Оисание сути задачи** Из «Бета-Банка» стали уходить клиенты. Каждый месяц. Немного, но заметно. Банковские маркетологи посчитали: сохранять текущих клиентов дешевле, чем привлекать новых.\n",
    "1. Необходимо спрогнозировать, уйдёт клиент из банка в ближайшее время или нет. \n",
    "2. Построить модель с предельно большим значением *F1*-меры (довести метрику до 0.59). \n",
    "3. Проверить *F1*-меру на тестовой выборке.\n",
    "4. Сравнить *AUC-ROC*,  со значением *F1*-мерой"
   ]
  },
  {
   "cell_type": "code",
   "execution_count": 1,
   "metadata": {
    "direction": "rtl"
   },
   "outputs": [],
   "source": [
    "import pandas as pd\n",
    "import matplotlib\n",
    "import matplotlib.pyplot as plt\n",
    "import numpy as np\n",
    "import seaborn as sns\n",
    "\n",
    "from sklearn import tree\n",
    "from sklearn.preprocessing import StandardScaler\n",
    "from sklearn.model_selection import train_test_split, GridSearchCV\n",
    "\n",
    "from sklearn.linear_model import LogisticRegression\n",
    "from sklearn.ensemble import RandomForestClassifier\n",
    "\n",
    "from sklearn.metrics import f1_score, roc_auc_score, roc_curve, precision_score, recall_score\n",
    "from sklearn.metrics import precision_recall_curve, accuracy_score\n",
    "\n",
    "from sklearn.utils import shuffle \n",
    "\n",
    "from sklearn.dummy import DummyClassifier\n",
    "from sklearn.metrics import confusion_matrix\n",
    "\n",
    "import warnings\n",
    "warnings.filterwarnings('ignore')\n",
    "\n",
    "sns.set_style(\"darkgrid\")\n",
    "pd.options.display.float_format = '{:,.2f}'.format\n",
    "matplotlib.style.use('ggplot')\n",
    "%matplotlib inline"
   ]
  },
  {
   "cell_type": "markdown",
   "metadata": {},
   "source": [
    "## Подготовка данных"
   ]
  },
  {
   "cell_type": "code",
   "execution_count": 2,
   "metadata": {},
   "outputs": [],
   "source": [
    "data = pd.read_csv('/datasets/Churn.csv')"
   ]
  },
  {
   "cell_type": "markdown",
   "metadata": {},
   "source": [
    "### Взгляд на данные"
   ]
  },
  {
   "cell_type": "code",
   "execution_count": 3,
   "metadata": {},
   "outputs": [
    {
     "data": {
      "text/html": [
       "<div>\n",
       "<style scoped>\n",
       "    .dataframe tbody tr th:only-of-type {\n",
       "        vertical-align: middle;\n",
       "    }\n",
       "\n",
       "    .dataframe tbody tr th {\n",
       "        vertical-align: top;\n",
       "    }\n",
       "\n",
       "    .dataframe thead th {\n",
       "        text-align: right;\n",
       "    }\n",
       "</style>\n",
       "<table border=\"1\" class=\"dataframe\">\n",
       "  <thead>\n",
       "    <tr style=\"text-align: right;\">\n",
       "      <th></th>\n",
       "      <th>RowNumber</th>\n",
       "      <th>CustomerId</th>\n",
       "      <th>Surname</th>\n",
       "      <th>CreditScore</th>\n",
       "      <th>Geography</th>\n",
       "      <th>Gender</th>\n",
       "      <th>Age</th>\n",
       "      <th>Tenure</th>\n",
       "      <th>Balance</th>\n",
       "      <th>NumOfProducts</th>\n",
       "      <th>HasCrCard</th>\n",
       "      <th>IsActiveMember</th>\n",
       "      <th>EstimatedSalary</th>\n",
       "      <th>Exited</th>\n",
       "    </tr>\n",
       "  </thead>\n",
       "  <tbody>\n",
       "    <tr>\n",
       "      <td>0</td>\n",
       "      <td>1</td>\n",
       "      <td>15634602</td>\n",
       "      <td>Hargrave</td>\n",
       "      <td>619</td>\n",
       "      <td>France</td>\n",
       "      <td>Female</td>\n",
       "      <td>42</td>\n",
       "      <td>2.00</td>\n",
       "      <td>0.00</td>\n",
       "      <td>1</td>\n",
       "      <td>1</td>\n",
       "      <td>1</td>\n",
       "      <td>101,348.88</td>\n",
       "      <td>1</td>\n",
       "    </tr>\n",
       "    <tr>\n",
       "      <td>1</td>\n",
       "      <td>2</td>\n",
       "      <td>15647311</td>\n",
       "      <td>Hill</td>\n",
       "      <td>608</td>\n",
       "      <td>Spain</td>\n",
       "      <td>Female</td>\n",
       "      <td>41</td>\n",
       "      <td>1.00</td>\n",
       "      <td>83,807.86</td>\n",
       "      <td>1</td>\n",
       "      <td>0</td>\n",
       "      <td>1</td>\n",
       "      <td>112,542.58</td>\n",
       "      <td>0</td>\n",
       "    </tr>\n",
       "    <tr>\n",
       "      <td>2</td>\n",
       "      <td>3</td>\n",
       "      <td>15619304</td>\n",
       "      <td>Onio</td>\n",
       "      <td>502</td>\n",
       "      <td>France</td>\n",
       "      <td>Female</td>\n",
       "      <td>42</td>\n",
       "      <td>8.00</td>\n",
       "      <td>159,660.80</td>\n",
       "      <td>3</td>\n",
       "      <td>1</td>\n",
       "      <td>0</td>\n",
       "      <td>113,931.57</td>\n",
       "      <td>1</td>\n",
       "    </tr>\n",
       "    <tr>\n",
       "      <td>3</td>\n",
       "      <td>4</td>\n",
       "      <td>15701354</td>\n",
       "      <td>Boni</td>\n",
       "      <td>699</td>\n",
       "      <td>France</td>\n",
       "      <td>Female</td>\n",
       "      <td>39</td>\n",
       "      <td>1.00</td>\n",
       "      <td>0.00</td>\n",
       "      <td>2</td>\n",
       "      <td>0</td>\n",
       "      <td>0</td>\n",
       "      <td>93,826.63</td>\n",
       "      <td>0</td>\n",
       "    </tr>\n",
       "    <tr>\n",
       "      <td>4</td>\n",
       "      <td>5</td>\n",
       "      <td>15737888</td>\n",
       "      <td>Mitchell</td>\n",
       "      <td>850</td>\n",
       "      <td>Spain</td>\n",
       "      <td>Female</td>\n",
       "      <td>43</td>\n",
       "      <td>2.00</td>\n",
       "      <td>125,510.82</td>\n",
       "      <td>1</td>\n",
       "      <td>1</td>\n",
       "      <td>1</td>\n",
       "      <td>79,084.10</td>\n",
       "      <td>0</td>\n",
       "    </tr>\n",
       "  </tbody>\n",
       "</table>\n",
       "</div>"
      ],
      "text/plain": [
       "   RowNumber  CustomerId   Surname  CreditScore Geography  Gender  Age  \\\n",
       "0          1    15634602  Hargrave          619    France  Female   42   \n",
       "1          2    15647311      Hill          608     Spain  Female   41   \n",
       "2          3    15619304      Onio          502    France  Female   42   \n",
       "3          4    15701354      Boni          699    France  Female   39   \n",
       "4          5    15737888  Mitchell          850     Spain  Female   43   \n",
       "\n",
       "   Tenure    Balance  NumOfProducts  HasCrCard  IsActiveMember  \\\n",
       "0    2.00       0.00              1          1               1   \n",
       "1    1.00  83,807.86              1          0               1   \n",
       "2    8.00 159,660.80              3          1               0   \n",
       "3    1.00       0.00              2          0               0   \n",
       "4    2.00 125,510.82              1          1               1   \n",
       "\n",
       "   EstimatedSalary  Exited  \n",
       "0       101,348.88       1  \n",
       "1       112,542.58       0  \n",
       "2       113,931.57       1  \n",
       "3        93,826.63       0  \n",
       "4        79,084.10       0  "
      ]
     },
     "execution_count": 3,
     "metadata": {},
     "output_type": "execute_result"
    }
   ],
   "source": [
    "data.head()"
   ]
  },
  {
   "cell_type": "code",
   "execution_count": 4,
   "metadata": {},
   "outputs": [],
   "source": [
    "data.columns = data.columns.str.lower()"
   ]
  },
  {
   "cell_type": "markdown",
   "metadata": {},
   "source": [
    "### Структура данных и  пропуски"
   ]
  },
  {
   "cell_type": "code",
   "execution_count": 5,
   "metadata": {},
   "outputs": [
    {
     "name": "stdout",
     "output_type": "stream",
     "text": [
      "<class 'pandas.core.frame.DataFrame'>\n",
      "RangeIndex: 10000 entries, 0 to 9999\n",
      "Data columns (total 14 columns):\n",
      "rownumber          10000 non-null int64\n",
      "customerid         10000 non-null int64\n",
      "surname            10000 non-null object\n",
      "creditscore        10000 non-null int64\n",
      "geography          10000 non-null object\n",
      "gender             10000 non-null object\n",
      "age                10000 non-null int64\n",
      "tenure             9091 non-null float64\n",
      "balance            10000 non-null float64\n",
      "numofproducts      10000 non-null int64\n",
      "hascrcard          10000 non-null int64\n",
      "isactivemember     10000 non-null int64\n",
      "estimatedsalary    10000 non-null float64\n",
      "exited             10000 non-null int64\n",
      "dtypes: float64(3), int64(8), object(3)\n",
      "memory usage: 1.1+ MB\n"
     ]
    }
   ],
   "source": [
    "data.info()"
   ]
  },
  {
   "cell_type": "markdown",
   "metadata": {},
   "source": [
    "В стоблце Tenure(сколько лет человек является клиентом банка) выявлены пропуски. Есть стоблцы типа Gender с типом object"
   ]
  },
  {
   "cell_type": "code",
   "execution_count": 6,
   "metadata": {},
   "outputs": [
    {
     "data": {
      "text/html": [
       "<div>\n",
       "<style scoped>\n",
       "    .dataframe tbody tr th:only-of-type {\n",
       "        vertical-align: middle;\n",
       "    }\n",
       "\n",
       "    .dataframe tbody tr th {\n",
       "        vertical-align: top;\n",
       "    }\n",
       "\n",
       "    .dataframe thead th {\n",
       "        text-align: right;\n",
       "    }\n",
       "</style>\n",
       "<table border=\"1\" class=\"dataframe\">\n",
       "  <thead>\n",
       "    <tr style=\"text-align: right;\">\n",
       "      <th></th>\n",
       "      <th>rownumber</th>\n",
       "      <th>customerid</th>\n",
       "      <th>surname</th>\n",
       "      <th>creditscore</th>\n",
       "      <th>geography</th>\n",
       "      <th>gender</th>\n",
       "      <th>age</th>\n",
       "      <th>tenure</th>\n",
       "      <th>balance</th>\n",
       "      <th>numofproducts</th>\n",
       "      <th>hascrcard</th>\n",
       "      <th>isactivemember</th>\n",
       "      <th>estimatedsalary</th>\n",
       "      <th>exited</th>\n",
       "    </tr>\n",
       "  </thead>\n",
       "  <tbody>\n",
       "    <tr>\n",
       "      <td>30</td>\n",
       "      <td>31</td>\n",
       "      <td>15589475</td>\n",
       "      <td>Azikiwe</td>\n",
       "      <td>591</td>\n",
       "      <td>Spain</td>\n",
       "      <td>Female</td>\n",
       "      <td>39</td>\n",
       "      <td>nan</td>\n",
       "      <td>0.00</td>\n",
       "      <td>3</td>\n",
       "      <td>1</td>\n",
       "      <td>0</td>\n",
       "      <td>140,469.38</td>\n",
       "      <td>1</td>\n",
       "    </tr>\n",
       "    <tr>\n",
       "      <td>48</td>\n",
       "      <td>49</td>\n",
       "      <td>15766205</td>\n",
       "      <td>Yin</td>\n",
       "      <td>550</td>\n",
       "      <td>Germany</td>\n",
       "      <td>Male</td>\n",
       "      <td>38</td>\n",
       "      <td>nan</td>\n",
       "      <td>103,391.38</td>\n",
       "      <td>1</td>\n",
       "      <td>0</td>\n",
       "      <td>1</td>\n",
       "      <td>90,878.13</td>\n",
       "      <td>0</td>\n",
       "    </tr>\n",
       "    <tr>\n",
       "      <td>51</td>\n",
       "      <td>52</td>\n",
       "      <td>15768193</td>\n",
       "      <td>Trevisani</td>\n",
       "      <td>585</td>\n",
       "      <td>Germany</td>\n",
       "      <td>Male</td>\n",
       "      <td>36</td>\n",
       "      <td>nan</td>\n",
       "      <td>146,050.97</td>\n",
       "      <td>2</td>\n",
       "      <td>0</td>\n",
       "      <td>0</td>\n",
       "      <td>86,424.57</td>\n",
       "      <td>0</td>\n",
       "    </tr>\n",
       "    <tr>\n",
       "      <td>53</td>\n",
       "      <td>54</td>\n",
       "      <td>15702298</td>\n",
       "      <td>Parkhill</td>\n",
       "      <td>655</td>\n",
       "      <td>Germany</td>\n",
       "      <td>Male</td>\n",
       "      <td>41</td>\n",
       "      <td>nan</td>\n",
       "      <td>125,561.97</td>\n",
       "      <td>1</td>\n",
       "      <td>0</td>\n",
       "      <td>0</td>\n",
       "      <td>164,040.94</td>\n",
       "      <td>1</td>\n",
       "    </tr>\n",
       "    <tr>\n",
       "      <td>60</td>\n",
       "      <td>61</td>\n",
       "      <td>15651280</td>\n",
       "      <td>Hunter</td>\n",
       "      <td>742</td>\n",
       "      <td>Germany</td>\n",
       "      <td>Male</td>\n",
       "      <td>35</td>\n",
       "      <td>nan</td>\n",
       "      <td>136,857.00</td>\n",
       "      <td>1</td>\n",
       "      <td>0</td>\n",
       "      <td>0</td>\n",
       "      <td>84,509.57</td>\n",
       "      <td>0</td>\n",
       "    </tr>\n",
       "    <tr>\n",
       "      <td>...</td>\n",
       "      <td>...</td>\n",
       "      <td>...</td>\n",
       "      <td>...</td>\n",
       "      <td>...</td>\n",
       "      <td>...</td>\n",
       "      <td>...</td>\n",
       "      <td>...</td>\n",
       "      <td>...</td>\n",
       "      <td>...</td>\n",
       "      <td>...</td>\n",
       "      <td>...</td>\n",
       "      <td>...</td>\n",
       "      <td>...</td>\n",
       "      <td>...</td>\n",
       "    </tr>\n",
       "    <tr>\n",
       "      <td>9944</td>\n",
       "      <td>9945</td>\n",
       "      <td>15703923</td>\n",
       "      <td>Cameron</td>\n",
       "      <td>744</td>\n",
       "      <td>Germany</td>\n",
       "      <td>Male</td>\n",
       "      <td>41</td>\n",
       "      <td>nan</td>\n",
       "      <td>190,409.34</td>\n",
       "      <td>2</td>\n",
       "      <td>1</td>\n",
       "      <td>1</td>\n",
       "      <td>138,361.48</td>\n",
       "      <td>0</td>\n",
       "    </tr>\n",
       "    <tr>\n",
       "      <td>9956</td>\n",
       "      <td>9957</td>\n",
       "      <td>15707861</td>\n",
       "      <td>Nucci</td>\n",
       "      <td>520</td>\n",
       "      <td>France</td>\n",
       "      <td>Female</td>\n",
       "      <td>46</td>\n",
       "      <td>nan</td>\n",
       "      <td>85,216.61</td>\n",
       "      <td>1</td>\n",
       "      <td>1</td>\n",
       "      <td>0</td>\n",
       "      <td>117,369.52</td>\n",
       "      <td>1</td>\n",
       "    </tr>\n",
       "    <tr>\n",
       "      <td>9964</td>\n",
       "      <td>9965</td>\n",
       "      <td>15642785</td>\n",
       "      <td>Douglas</td>\n",
       "      <td>479</td>\n",
       "      <td>France</td>\n",
       "      <td>Male</td>\n",
       "      <td>34</td>\n",
       "      <td>nan</td>\n",
       "      <td>117,593.48</td>\n",
       "      <td>2</td>\n",
       "      <td>0</td>\n",
       "      <td>0</td>\n",
       "      <td>113,308.29</td>\n",
       "      <td>0</td>\n",
       "    </tr>\n",
       "    <tr>\n",
       "      <td>9985</td>\n",
       "      <td>9986</td>\n",
       "      <td>15586914</td>\n",
       "      <td>Nepean</td>\n",
       "      <td>659</td>\n",
       "      <td>France</td>\n",
       "      <td>Male</td>\n",
       "      <td>36</td>\n",
       "      <td>nan</td>\n",
       "      <td>123,841.49</td>\n",
       "      <td>2</td>\n",
       "      <td>1</td>\n",
       "      <td>0</td>\n",
       "      <td>96,833.00</td>\n",
       "      <td>0</td>\n",
       "    </tr>\n",
       "    <tr>\n",
       "      <td>9999</td>\n",
       "      <td>10000</td>\n",
       "      <td>15628319</td>\n",
       "      <td>Walker</td>\n",
       "      <td>792</td>\n",
       "      <td>France</td>\n",
       "      <td>Female</td>\n",
       "      <td>28</td>\n",
       "      <td>nan</td>\n",
       "      <td>130,142.79</td>\n",
       "      <td>1</td>\n",
       "      <td>1</td>\n",
       "      <td>0</td>\n",
       "      <td>38,190.78</td>\n",
       "      <td>0</td>\n",
       "    </tr>\n",
       "  </tbody>\n",
       "</table>\n",
       "<p>909 rows × 14 columns</p>\n",
       "</div>"
      ],
      "text/plain": [
       "      rownumber  customerid    surname  creditscore geography  gender  age  \\\n",
       "30           31    15589475    Azikiwe          591     Spain  Female   39   \n",
       "48           49    15766205        Yin          550   Germany    Male   38   \n",
       "51           52    15768193  Trevisani          585   Germany    Male   36   \n",
       "53           54    15702298   Parkhill          655   Germany    Male   41   \n",
       "60           61    15651280     Hunter          742   Germany    Male   35   \n",
       "...         ...         ...        ...          ...       ...     ...  ...   \n",
       "9944       9945    15703923    Cameron          744   Germany    Male   41   \n",
       "9956       9957    15707861      Nucci          520    France  Female   46   \n",
       "9964       9965    15642785    Douglas          479    France    Male   34   \n",
       "9985       9986    15586914     Nepean          659    France    Male   36   \n",
       "9999      10000    15628319     Walker          792    France  Female   28   \n",
       "\n",
       "      tenure    balance  numofproducts  hascrcard  isactivemember  \\\n",
       "30       nan       0.00              3          1               0   \n",
       "48       nan 103,391.38              1          0               1   \n",
       "51       nan 146,050.97              2          0               0   \n",
       "53       nan 125,561.97              1          0               0   \n",
       "60       nan 136,857.00              1          0               0   \n",
       "...      ...        ...            ...        ...             ...   \n",
       "9944     nan 190,409.34              2          1               1   \n",
       "9956     nan  85,216.61              1          1               0   \n",
       "9964     nan 117,593.48              2          0               0   \n",
       "9985     nan 123,841.49              2          1               0   \n",
       "9999     nan 130,142.79              1          1               0   \n",
       "\n",
       "      estimatedsalary  exited  \n",
       "30         140,469.38       1  \n",
       "48          90,878.13       0  \n",
       "51          86,424.57       0  \n",
       "53         164,040.94       1  \n",
       "60          84,509.57       0  \n",
       "...               ...     ...  \n",
       "9944       138,361.48       0  \n",
       "9956       117,369.52       1  \n",
       "9964       113,308.29       0  \n",
       "9985        96,833.00       0  \n",
       "9999        38,190.78       0  \n",
       "\n",
       "[909 rows x 14 columns]"
      ]
     },
     "execution_count": 6,
     "metadata": {},
     "output_type": "execute_result"
    }
   ],
   "source": [
    "data[data['tenure'].isna()]"
   ]
  },
  {
   "cell_type": "markdown",
   "metadata": {},
   "source": [
    "Количество пропущенных значений в столбце около 10%. Характер пропусков в столбце tenure, в целом, говорит, что зависимостей пропусков от других характеристик не выявлено. Полагаю, лучше заменить NAN на медиану."
   ]
  },
  {
   "cell_type": "code",
   "execution_count": 7,
   "metadata": {},
   "outputs": [],
   "source": [
    "data['tenure'].fillna(value=data['tenure'].median(), inplace=True)"
   ]
  },
  {
   "cell_type": "markdown",
   "metadata": {},
   "source": [
    "### Описательная статистика"
   ]
  },
  {
   "cell_type": "code",
   "execution_count": 8,
   "metadata": {},
   "outputs": [
    {
     "data": {
      "text/html": [
       "<div>\n",
       "<style scoped>\n",
       "    .dataframe tbody tr th:only-of-type {\n",
       "        vertical-align: middle;\n",
       "    }\n",
       "\n",
       "    .dataframe tbody tr th {\n",
       "        vertical-align: top;\n",
       "    }\n",
       "\n",
       "    .dataframe thead th {\n",
       "        text-align: right;\n",
       "    }\n",
       "</style>\n",
       "<table border=\"1\" class=\"dataframe\">\n",
       "  <thead>\n",
       "    <tr style=\"text-align: right;\">\n",
       "      <th></th>\n",
       "      <th>count</th>\n",
       "      <th>mean</th>\n",
       "      <th>std</th>\n",
       "      <th>min</th>\n",
       "      <th>25%</th>\n",
       "      <th>50%</th>\n",
       "      <th>75%</th>\n",
       "      <th>max</th>\n",
       "    </tr>\n",
       "  </thead>\n",
       "  <tbody>\n",
       "    <tr>\n",
       "      <td>rownumber</td>\n",
       "      <td>10,000.00</td>\n",
       "      <td>5,000.50</td>\n",
       "      <td>2,886.90</td>\n",
       "      <td>1.00</td>\n",
       "      <td>2,500.75</td>\n",
       "      <td>5,000.50</td>\n",
       "      <td>7,500.25</td>\n",
       "      <td>10,000.00</td>\n",
       "    </tr>\n",
       "    <tr>\n",
       "      <td>customerid</td>\n",
       "      <td>10,000.00</td>\n",
       "      <td>15,690,940.57</td>\n",
       "      <td>71,936.19</td>\n",
       "      <td>15,565,701.00</td>\n",
       "      <td>15,628,528.25</td>\n",
       "      <td>15,690,738.00</td>\n",
       "      <td>15,753,233.75</td>\n",
       "      <td>15,815,690.00</td>\n",
       "    </tr>\n",
       "    <tr>\n",
       "      <td>creditscore</td>\n",
       "      <td>10,000.00</td>\n",
       "      <td>650.53</td>\n",
       "      <td>96.65</td>\n",
       "      <td>350.00</td>\n",
       "      <td>584.00</td>\n",
       "      <td>652.00</td>\n",
       "      <td>718.00</td>\n",
       "      <td>850.00</td>\n",
       "    </tr>\n",
       "    <tr>\n",
       "      <td>age</td>\n",
       "      <td>10,000.00</td>\n",
       "      <td>38.92</td>\n",
       "      <td>10.49</td>\n",
       "      <td>18.00</td>\n",
       "      <td>32.00</td>\n",
       "      <td>37.00</td>\n",
       "      <td>44.00</td>\n",
       "      <td>92.00</td>\n",
       "    </tr>\n",
       "    <tr>\n",
       "      <td>tenure</td>\n",
       "      <td>10,000.00</td>\n",
       "      <td>5.00</td>\n",
       "      <td>2.76</td>\n",
       "      <td>0.00</td>\n",
       "      <td>3.00</td>\n",
       "      <td>5.00</td>\n",
       "      <td>7.00</td>\n",
       "      <td>10.00</td>\n",
       "    </tr>\n",
       "    <tr>\n",
       "      <td>balance</td>\n",
       "      <td>10,000.00</td>\n",
       "      <td>76,485.89</td>\n",
       "      <td>62,397.41</td>\n",
       "      <td>0.00</td>\n",
       "      <td>0.00</td>\n",
       "      <td>97,198.54</td>\n",
       "      <td>127,644.24</td>\n",
       "      <td>250,898.09</td>\n",
       "    </tr>\n",
       "    <tr>\n",
       "      <td>numofproducts</td>\n",
       "      <td>10,000.00</td>\n",
       "      <td>1.53</td>\n",
       "      <td>0.58</td>\n",
       "      <td>1.00</td>\n",
       "      <td>1.00</td>\n",
       "      <td>1.00</td>\n",
       "      <td>2.00</td>\n",
       "      <td>4.00</td>\n",
       "    </tr>\n",
       "    <tr>\n",
       "      <td>hascrcard</td>\n",
       "      <td>10,000.00</td>\n",
       "      <td>0.71</td>\n",
       "      <td>0.46</td>\n",
       "      <td>0.00</td>\n",
       "      <td>0.00</td>\n",
       "      <td>1.00</td>\n",
       "      <td>1.00</td>\n",
       "      <td>1.00</td>\n",
       "    </tr>\n",
       "    <tr>\n",
       "      <td>isactivemember</td>\n",
       "      <td>10,000.00</td>\n",
       "      <td>0.52</td>\n",
       "      <td>0.50</td>\n",
       "      <td>0.00</td>\n",
       "      <td>0.00</td>\n",
       "      <td>1.00</td>\n",
       "      <td>1.00</td>\n",
       "      <td>1.00</td>\n",
       "    </tr>\n",
       "    <tr>\n",
       "      <td>estimatedsalary</td>\n",
       "      <td>10,000.00</td>\n",
       "      <td>100,090.24</td>\n",
       "      <td>57,510.49</td>\n",
       "      <td>11.58</td>\n",
       "      <td>51,002.11</td>\n",
       "      <td>100,193.91</td>\n",
       "      <td>149,388.25</td>\n",
       "      <td>199,992.48</td>\n",
       "    </tr>\n",
       "    <tr>\n",
       "      <td>exited</td>\n",
       "      <td>10,000.00</td>\n",
       "      <td>0.20</td>\n",
       "      <td>0.40</td>\n",
       "      <td>0.00</td>\n",
       "      <td>0.00</td>\n",
       "      <td>0.00</td>\n",
       "      <td>0.00</td>\n",
       "      <td>1.00</td>\n",
       "    </tr>\n",
       "  </tbody>\n",
       "</table>\n",
       "</div>"
      ],
      "text/plain": [
       "                    count          mean       std           min           25%  \\\n",
       "rownumber       10,000.00      5,000.50  2,886.90          1.00      2,500.75   \n",
       "customerid      10,000.00 15,690,940.57 71,936.19 15,565,701.00 15,628,528.25   \n",
       "creditscore     10,000.00        650.53     96.65        350.00        584.00   \n",
       "age             10,000.00         38.92     10.49         18.00         32.00   \n",
       "tenure          10,000.00          5.00      2.76          0.00          3.00   \n",
       "balance         10,000.00     76,485.89 62,397.41          0.00          0.00   \n",
       "numofproducts   10,000.00          1.53      0.58          1.00          1.00   \n",
       "hascrcard       10,000.00          0.71      0.46          0.00          0.00   \n",
       "isactivemember  10,000.00          0.52      0.50          0.00          0.00   \n",
       "estimatedsalary 10,000.00    100,090.24 57,510.49         11.58     51,002.11   \n",
       "exited          10,000.00          0.20      0.40          0.00          0.00   \n",
       "\n",
       "                          50%           75%           max  \n",
       "rownumber            5,000.50      7,500.25     10,000.00  \n",
       "customerid      15,690,738.00 15,753,233.75 15,815,690.00  \n",
       "creditscore            652.00        718.00        850.00  \n",
       "age                     37.00         44.00         92.00  \n",
       "tenure                   5.00          7.00         10.00  \n",
       "balance             97,198.54    127,644.24    250,898.09  \n",
       "numofproducts            1.00          2.00          4.00  \n",
       "hascrcard                1.00          1.00          1.00  \n",
       "isactivemember           1.00          1.00          1.00  \n",
       "estimatedsalary    100,193.91    149,388.25    199,992.48  \n",
       "exited                   0.00          0.00          1.00  "
      ]
     },
     "execution_count": 8,
     "metadata": {},
     "output_type": "execute_result"
    }
   ],
   "source": [
    "data.describe().T"
   ]
  },
  {
   "cell_type": "markdown",
   "metadata": {},
   "source": [
    "- CreditScore - что - то в стиле FICO, возраст распределён равномерно\n",
    "- Age - возраст в диапзоне 18-92, без аномальных выбросов\n",
    "- Tenure -  от 0-10 лет, медиана  = среднему значению\n",
    "- Balance - от 0-250, есть небольшое смещение в строну более высокого баланса\n",
    "- NumOfProducts - от 1 до 4, в целом используют один продукт\n",
    "- IsActiveMember - активен или нет клиент\n",
    "- EstimatedSalary -  от 11 до ~200\n"
   ]
  },
  {
   "cell_type": "markdown",
   "metadata": {},
   "source": [
    "**Вывод:** на первый взгляд аномалий и сильных выбросов не видно."
   ]
  },
  {
   "cell_type": "markdown",
   "metadata": {},
   "source": [
    "### Оценка целевого значения\n"
   ]
  },
  {
   "cell_type": "code",
   "execution_count": 9,
   "metadata": {},
   "outputs": [
    {
     "data": {
      "text/html": [
       "<div>\n",
       "<style scoped>\n",
       "    .dataframe tbody tr th:only-of-type {\n",
       "        vertical-align: middle;\n",
       "    }\n",
       "\n",
       "    .dataframe tbody tr th {\n",
       "        vertical-align: top;\n",
       "    }\n",
       "\n",
       "    .dataframe thead th {\n",
       "        text-align: right;\n",
       "    }\n",
       "</style>\n",
       "<table border=\"1\" class=\"dataframe\">\n",
       "  <thead>\n",
       "    <tr style=\"text-align: right;\">\n",
       "      <th></th>\n",
       "      <th>exited</th>\n",
       "    </tr>\n",
       "  </thead>\n",
       "  <tbody>\n",
       "    <tr>\n",
       "      <td>0</td>\n",
       "      <td>0.80</td>\n",
       "    </tr>\n",
       "    <tr>\n",
       "      <td>1</td>\n",
       "      <td>0.20</td>\n",
       "    </tr>\n",
       "  </tbody>\n",
       "</table>\n",
       "</div>"
      ],
      "text/plain": [
       "   exited\n",
       "0    0.80\n",
       "1    0.20"
      ]
     },
     "execution_count": 9,
     "metadata": {},
     "output_type": "execute_result"
    }
   ],
   "source": [
    "data['exited'].value_counts(normalize=True).to_frame()"
   ]
  },
  {
   "cell_type": "markdown",
   "metadata": {},
   "source": [
    "**Вывод:** Отток клиентов отмечен на 20% выборки. В нашей задаче наблюдается сильный дисбаланс классов. Классы несбалансированны, когда их соотношение далеко от 1:1. Баланс классов наблюдается, если их количество примерно равно. В нашем случае соотношение 4:1, что  плохо сказывается на обучении модели. "
   ]
  },
  {
   "cell_type": "code",
   "execution_count": 10,
   "metadata": {},
   "outputs": [
    {
     "data": {
      "image/png": "[encoded data removed]",
      "text/plain": [
       "<Figure size 1440x1080 with 12 Axes>"
      ]
     },
     "metadata": {
      "needs_background": "light"
     },
     "output_type": "display_data"
    }
   ],
   "source": [
    "data.hist(bins=50, figsize=(20,15), edgecolor='black', linewidth=2);"
   ]
  },
  {
   "cell_type": "markdown",
   "metadata": {},
   "source": [
    "**Вывод:** Отток клиентов достаточно важный показатель для любой коммерческой организации, так как на привлечение новых, обычно требуется больше ресурсов, как денежных, так и трудовых. В процессе исследования данных дубликатов не выявлено, нет необходимости удалять строки плюс не выявлено каких-либо аномальных отклонений, то есть те данные, которые были бы оторваны от реальности. В стоблце Tenure(сколько лет человек является клиентом банка) выявлены пропуски заменили на медиану."
   ]
  },
  {
   "cell_type": "markdown",
   "metadata": {},
   "source": [
    "## Исследование задачи"
   ]
  },
  {
   "cell_type": "markdown",
   "metadata": {},
   "source": [
    "Перед нами стоит задача классификации - необходимо определить, уйдет клиент в ближайшее время или нет. Для достижения целей этой задачи предлагаю использовать алгоритмы Логистической регрессии и Случайного леса. \n",
    "- Для оценки моделей мы будем использовать показатель F1, как поставлено по условию задачи (метрика значения должна быть ~ 0,59)\n",
    "- Для оценки окончательной модели мы используем кривую ROC с ее площадью (ROC-AUC).\n",
    "- Как мы выяснили, у нас дисбаланс классов, точность нам не подходит.\n"
   ]
  },
  {
   "cell_type": "markdown",
   "metadata": {},
   "source": [
    "Удалим признаки, которые не несут смысловой нагрузки "
   ]
  },
  {
   "cell_type": "code",
   "execution_count": 11,
   "metadata": {},
   "outputs": [],
   "source": [
    "data.drop(['rownumber', 'customerid', 'surname'], axis=1, inplace = True)"
   ]
  },
  {
   "cell_type": "code",
   "execution_count": 12,
   "metadata": {},
   "outputs": [
    {
     "data": {
      "text/html": [
       "<div>\n",
       "<style scoped>\n",
       "    .dataframe tbody tr th:only-of-type {\n",
       "        vertical-align: middle;\n",
       "    }\n",
       "\n",
       "    .dataframe tbody tr th {\n",
       "        vertical-align: top;\n",
       "    }\n",
       "\n",
       "    .dataframe thead th {\n",
       "        text-align: right;\n",
       "    }\n",
       "</style>\n",
       "<table border=\"1\" class=\"dataframe\">\n",
       "  <thead>\n",
       "    <tr style=\"text-align: right;\">\n",
       "      <th></th>\n",
       "      <th>creditscore</th>\n",
       "      <th>geography</th>\n",
       "      <th>gender</th>\n",
       "      <th>age</th>\n",
       "      <th>tenure</th>\n",
       "      <th>balance</th>\n",
       "      <th>numofproducts</th>\n",
       "      <th>hascrcard</th>\n",
       "      <th>isactivemember</th>\n",
       "      <th>estimatedsalary</th>\n",
       "      <th>exited</th>\n",
       "    </tr>\n",
       "  </thead>\n",
       "  <tbody>\n",
       "    <tr>\n",
       "      <td>0</td>\n",
       "      <td>619</td>\n",
       "      <td>France</td>\n",
       "      <td>Female</td>\n",
       "      <td>42</td>\n",
       "      <td>2.00</td>\n",
       "      <td>0.00</td>\n",
       "      <td>1</td>\n",
       "      <td>1</td>\n",
       "      <td>1</td>\n",
       "      <td>101,348.88</td>\n",
       "      <td>1</td>\n",
       "    </tr>\n",
       "    <tr>\n",
       "      <td>1</td>\n",
       "      <td>608</td>\n",
       "      <td>Spain</td>\n",
       "      <td>Female</td>\n",
       "      <td>41</td>\n",
       "      <td>1.00</td>\n",
       "      <td>83,807.86</td>\n",
       "      <td>1</td>\n",
       "      <td>0</td>\n",
       "      <td>1</td>\n",
       "      <td>112,542.58</td>\n",
       "      <td>0</td>\n",
       "    </tr>\n",
       "    <tr>\n",
       "      <td>2</td>\n",
       "      <td>502</td>\n",
       "      <td>France</td>\n",
       "      <td>Female</td>\n",
       "      <td>42</td>\n",
       "      <td>8.00</td>\n",
       "      <td>159,660.80</td>\n",
       "      <td>3</td>\n",
       "      <td>1</td>\n",
       "      <td>0</td>\n",
       "      <td>113,931.57</td>\n",
       "      <td>1</td>\n",
       "    </tr>\n",
       "    <tr>\n",
       "      <td>3</td>\n",
       "      <td>699</td>\n",
       "      <td>France</td>\n",
       "      <td>Female</td>\n",
       "      <td>39</td>\n",
       "      <td>1.00</td>\n",
       "      <td>0.00</td>\n",
       "      <td>2</td>\n",
       "      <td>0</td>\n",
       "      <td>0</td>\n",
       "      <td>93,826.63</td>\n",
       "      <td>0</td>\n",
       "    </tr>\n",
       "    <tr>\n",
       "      <td>4</td>\n",
       "      <td>850</td>\n",
       "      <td>Spain</td>\n",
       "      <td>Female</td>\n",
       "      <td>43</td>\n",
       "      <td>2.00</td>\n",
       "      <td>125,510.82</td>\n",
       "      <td>1</td>\n",
       "      <td>1</td>\n",
       "      <td>1</td>\n",
       "      <td>79,084.10</td>\n",
       "      <td>0</td>\n",
       "    </tr>\n",
       "  </tbody>\n",
       "</table>\n",
       "</div>"
      ],
      "text/plain": [
       "   creditscore geography  gender  age  tenure    balance  numofproducts  \\\n",
       "0          619    France  Female   42    2.00       0.00              1   \n",
       "1          608     Spain  Female   41    1.00  83,807.86              1   \n",
       "2          502    France  Female   42    8.00 159,660.80              3   \n",
       "3          699    France  Female   39    1.00       0.00              2   \n",
       "4          850     Spain  Female   43    2.00 125,510.82              1   \n",
       "\n",
       "   hascrcard  isactivemember  estimatedsalary  exited  \n",
       "0          1               1       101,348.88       1  \n",
       "1          0               1       112,542.58       0  \n",
       "2          1               0       113,931.57       1  \n",
       "3          0               0        93,826.63       0  \n",
       "4          1               1        79,084.10       0  "
      ]
     },
     "execution_count": 12,
     "metadata": {},
     "output_type": "execute_result"
    }
   ],
   "source": [
    "data.head()"
   ]
  },
  {
   "cell_type": "markdown",
   "metadata": {},
   "source": [
    "Посмотрим линейные корреляции, нас интересуют зависимости с Exited"
   ]
  },
  {
   "cell_type": "code",
   "execution_count": 13,
   "metadata": {},
   "outputs": [
    {
     "data": {
      "image/png": "[encoded data removed]",
      "text/plain": [
       "<Figure size 1152x432 with 2 Axes>"
      ]
     },
     "metadata": {
      "needs_background": "light"
     },
     "output_type": "display_data"
    }
   ],
   "source": [
    "plt.figure(figsize=(16, 6))\n",
    "heatmap = sns.heatmap(data.corr(), vmin=-1, vmax=1, annot=True, cmap='BrBG')\n",
    "heatmap.set_title('Correlation Heatmap', fontdict={'fontsize':18}, pad=12); "
   ]
  },
  {
   "cell_type": "markdown",
   "metadata": {},
   "source": [
    "### Кодирование категориальных признаков"
   ]
  },
  {
   "cell_type": "markdown",
   "metadata": {},
   "source": [
    "Как мы видим есть категориальные признаки в столбцах geography и gender. Принадлежность к категории логистическая регрессия вычисляет по формуле, состоящей из признаков. Они могут быть только численные. Поэтому применим технику прямого кодирования  One-Hot Encoding путем создания фиктивных переменных, используем функцию **pd.get_dummies()**"
   ]
  },
  {
   "cell_type": "code",
   "execution_count": 14,
   "metadata": {},
   "outputs": [
    {
     "data": {
      "text/plain": [
       "(array(['France', 'Spain', 'Germany'], dtype=object),\n",
       " array(['Female', 'Male'], dtype=object))"
      ]
     },
     "execution_count": 14,
     "metadata": {},
     "output_type": "execute_result"
    }
   ],
   "source": [
    "data['geography'].unique(), data['gender'].unique()"
   ]
  },
  {
   "cell_type": "code",
   "execution_count": 15,
   "metadata": {},
   "outputs": [
    {
     "data": {
      "text/html": [
       "<div>\n",
       "<style scoped>\n",
       "    .dataframe tbody tr th:only-of-type {\n",
       "        vertical-align: middle;\n",
       "    }\n",
       "\n",
       "    .dataframe tbody tr th {\n",
       "        vertical-align: top;\n",
       "    }\n",
       "\n",
       "    .dataframe thead th {\n",
       "        text-align: right;\n",
       "    }\n",
       "</style>\n",
       "<table border=\"1\" class=\"dataframe\">\n",
       "  <thead>\n",
       "    <tr style=\"text-align: right;\">\n",
       "      <th></th>\n",
       "      <th>creditscore</th>\n",
       "      <th>age</th>\n",
       "      <th>tenure</th>\n",
       "      <th>balance</th>\n",
       "      <th>numofproducts</th>\n",
       "      <th>hascrcard</th>\n",
       "      <th>isactivemember</th>\n",
       "      <th>estimatedsalary</th>\n",
       "      <th>exited</th>\n",
       "      <th>France</th>\n",
       "      <th>Germany</th>\n",
       "      <th>Spain</th>\n",
       "      <th>Female</th>\n",
       "      <th>Male</th>\n",
       "    </tr>\n",
       "  </thead>\n",
       "  <tbody>\n",
       "    <tr>\n",
       "      <td>0</td>\n",
       "      <td>619</td>\n",
       "      <td>42</td>\n",
       "      <td>2.00</td>\n",
       "      <td>0.00</td>\n",
       "      <td>1</td>\n",
       "      <td>1</td>\n",
       "      <td>1</td>\n",
       "      <td>101,348.88</td>\n",
       "      <td>1</td>\n",
       "      <td>1</td>\n",
       "      <td>0</td>\n",
       "      <td>0</td>\n",
       "      <td>1</td>\n",
       "      <td>0</td>\n",
       "    </tr>\n",
       "    <tr>\n",
       "      <td>1</td>\n",
       "      <td>608</td>\n",
       "      <td>41</td>\n",
       "      <td>1.00</td>\n",
       "      <td>83,807.86</td>\n",
       "      <td>1</td>\n",
       "      <td>0</td>\n",
       "      <td>1</td>\n",
       "      <td>112,542.58</td>\n",
       "      <td>0</td>\n",
       "      <td>0</td>\n",
       "      <td>0</td>\n",
       "      <td>1</td>\n",
       "      <td>1</td>\n",
       "      <td>0</td>\n",
       "    </tr>\n",
       "    <tr>\n",
       "      <td>2</td>\n",
       "      <td>502</td>\n",
       "      <td>42</td>\n",
       "      <td>8.00</td>\n",
       "      <td>159,660.80</td>\n",
       "      <td>3</td>\n",
       "      <td>1</td>\n",
       "      <td>0</td>\n",
       "      <td>113,931.57</td>\n",
       "      <td>1</td>\n",
       "      <td>1</td>\n",
       "      <td>0</td>\n",
       "      <td>0</td>\n",
       "      <td>1</td>\n",
       "      <td>0</td>\n",
       "    </tr>\n",
       "    <tr>\n",
       "      <td>3</td>\n",
       "      <td>699</td>\n",
       "      <td>39</td>\n",
       "      <td>1.00</td>\n",
       "      <td>0.00</td>\n",
       "      <td>2</td>\n",
       "      <td>0</td>\n",
       "      <td>0</td>\n",
       "      <td>93,826.63</td>\n",
       "      <td>0</td>\n",
       "      <td>1</td>\n",
       "      <td>0</td>\n",
       "      <td>0</td>\n",
       "      <td>1</td>\n",
       "      <td>0</td>\n",
       "    </tr>\n",
       "    <tr>\n",
       "      <td>4</td>\n",
       "      <td>850</td>\n",
       "      <td>43</td>\n",
       "      <td>2.00</td>\n",
       "      <td>125,510.82</td>\n",
       "      <td>1</td>\n",
       "      <td>1</td>\n",
       "      <td>1</td>\n",
       "      <td>79,084.10</td>\n",
       "      <td>0</td>\n",
       "      <td>0</td>\n",
       "      <td>0</td>\n",
       "      <td>1</td>\n",
       "      <td>1</td>\n",
       "      <td>0</td>\n",
       "    </tr>\n",
       "  </tbody>\n",
       "</table>\n",
       "</div>"
      ],
      "text/plain": [
       "   creditscore  age  tenure    balance  numofproducts  hascrcard  \\\n",
       "0          619   42    2.00       0.00              1          1   \n",
       "1          608   41    1.00  83,807.86              1          0   \n",
       "2          502   42    8.00 159,660.80              3          1   \n",
       "3          699   39    1.00       0.00              2          0   \n",
       "4          850   43    2.00 125,510.82              1          1   \n",
       "\n",
       "   isactivemember  estimatedsalary  exited  France  Germany  Spain  Female  \\\n",
       "0               1       101,348.88       1       1        0      0       1   \n",
       "1               1       112,542.58       0       0        0      1       1   \n",
       "2               0       113,931.57       1       1        0      0       1   \n",
       "3               0        93,826.63       0       1        0      0       1   \n",
       "4               1        79,084.10       0       0        0      1       1   \n",
       "\n",
       "   Male  \n",
       "0     0  \n",
       "1     0  \n",
       "2     0  \n",
       "3     0  \n",
       "4     0  "
      ]
     },
     "execution_count": 15,
     "metadata": {},
     "output_type": "execute_result"
    }
   ],
   "source": [
    "gender_ohe = pd.get_dummies(data['geography'])\n",
    "geography_ohe = pd.get_dummies(data['gender'])\n",
    "data_ohe = pd.concat([data, gender_ohe, geography_ohe], axis=1)\n",
    "data_ohe.drop(['geography','gender'],axis=1, inplace = True)\n",
    "data_ohe.head()"
   ]
  },
  {
   "cell_type": "markdown",
   "metadata": {},
   "source": [
    "Столбцы кодированы, drop_first=True не делали из собственных соображений."
   ]
  },
  {
   "cell_type": "markdown",
   "metadata": {},
   "source": [
    "### Деление выборок на  тренеровочную, проверочную, тестовую"
   ]
  },
  {
   "cell_type": "markdown",
   "metadata": {},
   "source": [
    "Разделим исходные данные на обучающую, валидационную и тестовую выборки в соотношении (60/20/20)"
   ]
  },
  {
   "cell_type": "code",
   "execution_count": 16,
   "metadata": {},
   "outputs": [],
   "source": [
    "from sklearn.model_selection import train_test_split # импорт библиотеки для сплита\n",
    "data_train, data_valid_and_test = train_test_split(data_ohe, test_size=0.40, random_state=393) # Разобьём выборку на тренировочную и валидационную + тестовую\n",
    "data_test, data_valid = train_test_split(data_valid_and_test, test_size=0.50, random_state=393)# Разобьём выборку на валидационную и тестовую"
   ]
  },
  {
   "cell_type": "code",
   "execution_count": 17,
   "metadata": {},
   "outputs": [
    {
     "name": "stdout",
     "output_type": "stream",
     "text": [
      "(6000, 14)\n",
      "(2000, 14)\n",
      "(2000, 14)\n"
     ]
    }
   ],
   "source": [
    "print(data_train.shape)\n",
    "print(data_valid.shape)\n",
    "print(data_test.shape)"
   ]
  },
  {
   "cell_type": "code",
   "execution_count": 18,
   "metadata": {},
   "outputs": [],
   "source": [
    "features_train = data_train.drop(['exited'], axis=1)\n",
    "target_train = data_train['exited'] \n",
    "features_valid = data_valid.drop(['exited'], axis=1)\n",
    "target_valid = data_valid['exited']\n",
    "features_test = data_test.drop(['exited'], axis=1)\n",
    "target_test = data_test['exited']"
   ]
  },
  {
   "cell_type": "markdown",
   "metadata": {},
   "source": [
    "Выборка была разделена. Как ранее упоминалось, что в  нашей задаче наблюдается сильный дисбаланс классов, что плохо сказывается на обучении модели. Перед тем как  присутпить к обучению моделей промасштабируем наш дата сет, то есть проведем стандартизацию данных"
   ]
  },
  {
   "cell_type": "markdown",
   "metadata": {},
   "source": [
    "### Масштабирование"
   ]
  },
  {
   "cell_type": "code",
   "execution_count": 19,
   "metadata": {},
   "outputs": [
    {
     "data": {
      "text/html": [
       "<div>\n",
       "<style scoped>\n",
       "    .dataframe tbody tr th:only-of-type {\n",
       "        vertical-align: middle;\n",
       "    }\n",
       "\n",
       "    .dataframe tbody tr th {\n",
       "        vertical-align: top;\n",
       "    }\n",
       "\n",
       "    .dataframe thead th {\n",
       "        text-align: right;\n",
       "    }\n",
       "</style>\n",
       "<table border=\"1\" class=\"dataframe\">\n",
       "  <thead>\n",
       "    <tr style=\"text-align: right;\">\n",
       "      <th></th>\n",
       "      <th>creditscore</th>\n",
       "      <th>age</th>\n",
       "      <th>tenure</th>\n",
       "      <th>balance</th>\n",
       "      <th>numofproducts</th>\n",
       "      <th>hascrcard</th>\n",
       "      <th>isactivemember</th>\n",
       "      <th>estimatedsalary</th>\n",
       "      <th>France</th>\n",
       "      <th>Germany</th>\n",
       "      <th>Spain</th>\n",
       "      <th>Female</th>\n",
       "      <th>Male</th>\n",
       "    </tr>\n",
       "  </thead>\n",
       "  <tbody>\n",
       "    <tr>\n",
       "      <td>89</td>\n",
       "      <td>635</td>\n",
       "      <td>28</td>\n",
       "      <td>3.00</td>\n",
       "      <td>81,623.67</td>\n",
       "      <td>2</td>\n",
       "      <td>1</td>\n",
       "      <td>1</td>\n",
       "      <td>156,791.36</td>\n",
       "      <td>0</td>\n",
       "      <td>1</td>\n",
       "      <td>0</td>\n",
       "      <td>1</td>\n",
       "      <td>0</td>\n",
       "    </tr>\n",
       "    <tr>\n",
       "      <td>4900</td>\n",
       "      <td>735</td>\n",
       "      <td>41</td>\n",
       "      <td>7.00</td>\n",
       "      <td>179,904.00</td>\n",
       "      <td>1</td>\n",
       "      <td>1</td>\n",
       "      <td>1</td>\n",
       "      <td>137,180.95</td>\n",
       "      <td>1</td>\n",
       "      <td>0</td>\n",
       "      <td>0</td>\n",
       "      <td>0</td>\n",
       "      <td>1</td>\n",
       "    </tr>\n",
       "    <tr>\n",
       "      <td>2061</td>\n",
       "      <td>445</td>\n",
       "      <td>38</td>\n",
       "      <td>6.00</td>\n",
       "      <td>119,413.62</td>\n",
       "      <td>2</td>\n",
       "      <td>1</td>\n",
       "      <td>0</td>\n",
       "      <td>175,756.36</td>\n",
       "      <td>0</td>\n",
       "      <td>1</td>\n",
       "      <td>0</td>\n",
       "      <td>1</td>\n",
       "      <td>0</td>\n",
       "    </tr>\n",
       "    <tr>\n",
       "      <td>6269</td>\n",
       "      <td>652</td>\n",
       "      <td>36</td>\n",
       "      <td>1.00</td>\n",
       "      <td>0.00</td>\n",
       "      <td>2</td>\n",
       "      <td>1</td>\n",
       "      <td>1</td>\n",
       "      <td>19,302.78</td>\n",
       "      <td>0</td>\n",
       "      <td>0</td>\n",
       "      <td>1</td>\n",
       "      <td>1</td>\n",
       "      <td>0</td>\n",
       "    </tr>\n",
       "    <tr>\n",
       "      <td>1133</td>\n",
       "      <td>559</td>\n",
       "      <td>34</td>\n",
       "      <td>4.00</td>\n",
       "      <td>0.00</td>\n",
       "      <td>2</td>\n",
       "      <td>1</td>\n",
       "      <td>1</td>\n",
       "      <td>66,721.98</td>\n",
       "      <td>1</td>\n",
       "      <td>0</td>\n",
       "      <td>0</td>\n",
       "      <td>0</td>\n",
       "      <td>1</td>\n",
       "    </tr>\n",
       "  </tbody>\n",
       "</table>\n",
       "</div>"
      ],
      "text/plain": [
       "      creditscore  age  tenure    balance  numofproducts  hascrcard  \\\n",
       "89            635   28    3.00  81,623.67              2          1   \n",
       "4900          735   41    7.00 179,904.00              1          1   \n",
       "2061          445   38    6.00 119,413.62              2          1   \n",
       "6269          652   36    1.00       0.00              2          1   \n",
       "1133          559   34    4.00       0.00              2          1   \n",
       "\n",
       "      isactivemember  estimatedsalary  France  Germany  Spain  Female  Male  \n",
       "89                 1       156,791.36       0        1      0       1     0  \n",
       "4900               1       137,180.95       1        0      0       0     1  \n",
       "2061               0       175,756.36       0        1      0       1     0  \n",
       "6269               1        19,302.78       0        0      1       1     0  \n",
       "1133               1        66,721.98       1        0      0       0     1  "
      ]
     },
     "execution_count": 19,
     "metadata": {},
     "output_type": "execute_result"
    }
   ],
   "source": [
    "features_train.head()"
   ]
  },
  {
   "cell_type": "code",
   "execution_count": 20,
   "metadata": {},
   "outputs": [
    {
     "data": {
      "text/html": [
       "<div>\n",
       "<style scoped>\n",
       "    .dataframe tbody tr th:only-of-type {\n",
       "        vertical-align: middle;\n",
       "    }\n",
       "\n",
       "    .dataframe tbody tr th {\n",
       "        vertical-align: top;\n",
       "    }\n",
       "\n",
       "    .dataframe thead th {\n",
       "        text-align: right;\n",
       "    }\n",
       "</style>\n",
       "<table border=\"1\" class=\"dataframe\">\n",
       "  <thead>\n",
       "    <tr style=\"text-align: right;\">\n",
       "      <th></th>\n",
       "      <th>creditscore</th>\n",
       "      <th>age</th>\n",
       "      <th>tenure</th>\n",
       "      <th>balance</th>\n",
       "      <th>numofproducts</th>\n",
       "      <th>hascrcard</th>\n",
       "      <th>isactivemember</th>\n",
       "      <th>estimatedsalary</th>\n",
       "      <th>France</th>\n",
       "      <th>Germany</th>\n",
       "      <th>Spain</th>\n",
       "      <th>Female</th>\n",
       "      <th>Male</th>\n",
       "    </tr>\n",
       "  </thead>\n",
       "  <tbody>\n",
       "    <tr>\n",
       "      <td>89</td>\n",
       "      <td>-0.17</td>\n",
       "      <td>-1.04</td>\n",
       "      <td>3.00</td>\n",
       "      <td>0.08</td>\n",
       "      <td>2</td>\n",
       "      <td>1</td>\n",
       "      <td>1</td>\n",
       "      <td>0.98</td>\n",
       "      <td>0</td>\n",
       "      <td>1</td>\n",
       "      <td>0</td>\n",
       "      <td>1</td>\n",
       "      <td>0</td>\n",
       "    </tr>\n",
       "    <tr>\n",
       "      <td>4900</td>\n",
       "      <td>0.87</td>\n",
       "      <td>0.20</td>\n",
       "      <td>7.00</td>\n",
       "      <td>1.66</td>\n",
       "      <td>1</td>\n",
       "      <td>1</td>\n",
       "      <td>1</td>\n",
       "      <td>0.63</td>\n",
       "      <td>1</td>\n",
       "      <td>0</td>\n",
       "      <td>0</td>\n",
       "      <td>0</td>\n",
       "      <td>1</td>\n",
       "    </tr>\n",
       "    <tr>\n",
       "      <td>2061</td>\n",
       "      <td>-2.14</td>\n",
       "      <td>-0.09</td>\n",
       "      <td>6.00</td>\n",
       "      <td>0.69</td>\n",
       "      <td>2</td>\n",
       "      <td>1</td>\n",
       "      <td>0</td>\n",
       "      <td>1.31</td>\n",
       "      <td>0</td>\n",
       "      <td>1</td>\n",
       "      <td>0</td>\n",
       "      <td>1</td>\n",
       "      <td>0</td>\n",
       "    </tr>\n",
       "    <tr>\n",
       "      <td>6269</td>\n",
       "      <td>0.01</td>\n",
       "      <td>-0.28</td>\n",
       "      <td>1.00</td>\n",
       "      <td>-1.23</td>\n",
       "      <td>2</td>\n",
       "      <td>1</td>\n",
       "      <td>1</td>\n",
       "      <td>-1.42</td>\n",
       "      <td>0</td>\n",
       "      <td>0</td>\n",
       "      <td>1</td>\n",
       "      <td>1</td>\n",
       "      <td>0</td>\n",
       "    </tr>\n",
       "    <tr>\n",
       "      <td>1133</td>\n",
       "      <td>-0.96</td>\n",
       "      <td>-0.47</td>\n",
       "      <td>4.00</td>\n",
       "      <td>-1.23</td>\n",
       "      <td>2</td>\n",
       "      <td>1</td>\n",
       "      <td>1</td>\n",
       "      <td>-0.59</td>\n",
       "      <td>1</td>\n",
       "      <td>0</td>\n",
       "      <td>0</td>\n",
       "      <td>0</td>\n",
       "      <td>1</td>\n",
       "    </tr>\n",
       "  </tbody>\n",
       "</table>\n",
       "</div>"
      ],
      "text/plain": [
       "      creditscore   age  tenure  balance  numofproducts  hascrcard  \\\n",
       "89          -0.17 -1.04    3.00     0.08              2          1   \n",
       "4900         0.87  0.20    7.00     1.66              1          1   \n",
       "2061        -2.14 -0.09    6.00     0.69              2          1   \n",
       "6269         0.01 -0.28    1.00    -1.23              2          1   \n",
       "1133        -0.96 -0.47    4.00    -1.23              2          1   \n",
       "\n",
       "      isactivemember  estimatedsalary  France  Germany  Spain  Female  Male  \n",
       "89                 1             0.98       0        1      0       1     0  \n",
       "4900               1             0.63       1        0      0       0     1  \n",
       "2061               0             1.31       0        1      0       1     0  \n",
       "6269               1            -1.42       0        0      1       1     0  \n",
       "1133               1            -0.59       1        0      0       0     1  "
      ]
     },
     "execution_count": 20,
     "metadata": {},
     "output_type": "execute_result"
    }
   ],
   "source": [
    "numeric = ['creditscore', 'age', 'balance', 'estimatedsalary']\n",
    "scaler = StandardScaler()\n",
    "scaler.fit(features_train[numeric])\n",
    "pd.options.mode.chained_assignment = None\n",
    "features_train[numeric] = scaler.transform(features_train[numeric])\n",
    "features_valid[numeric] = scaler.transform(features_valid[numeric])\n",
    "features_test[numeric] = scaler.transform(features_test[numeric])\n",
    "features_train.head()"
   ]
  },
  {
   "cell_type": "markdown",
   "metadata": {},
   "source": [
    "Данные масштабированы"
   ]
  },
  {
   "cell_type": "markdown",
   "metadata": {},
   "source": [
    "### Обучение моделей методами логистическая регрессия и случайный лес"
   ]
  },
  {
   "cell_type": "markdown",
   "metadata": {},
   "source": [
    "Давайте посмотрим на результаты. Оценивать модель будем по показателю F1 - это метрика для оценки качества классификатора. Гиперпараметры подберем позже."
   ]
  },
  {
   "cell_type": "markdown",
   "metadata": {},
   "source": [
    "#### Используем базовую **логистическую регрессию**"
   ]
  },
  {
   "cell_type": "code",
   "execution_count": 21,
   "metadata": {},
   "outputs": [
    {
     "name": "stdout",
     "output_type": "stream",
     "text": [
      "F1: 0.2729044834307992\n"
     ]
    }
   ],
   "source": [
    "model = LogisticRegression(random_state=393, solver='liblinear')\n",
    "model.fit(features_train, target_train)\n",
    "predicted_valid = model.predict(features_valid)\n",
    "print(\"F1:\", f1_score(target_valid, predicted_valid))"
   ]
  },
  {
   "cell_type": "markdown",
   "metadata": {},
   "source": [
    "Достаточно плохой показатель"
   ]
  },
  {
   "cell_type": "markdown",
   "metadata": {},
   "source": [
    "Придадим объектам редкого класса больший вес, добавим class_weight='balanced'"
   ]
  },
  {
   "cell_type": "code",
   "execution_count": 22,
   "metadata": {},
   "outputs": [
    {
     "name": "stdout",
     "output_type": "stream",
     "text": [
      "F1: 0.47058823529411764\n"
     ]
    }
   ],
   "source": [
    "model = LogisticRegression(random_state=393, solver='liblinear',class_weight='balanced')\n",
    "model.fit(features_train, target_train)\n",
    "predicted_valid = model.predict(features_valid)\n",
    "print(\"F1:\", f1_score(target_valid, predicted_valid))"
   ]
  },
  {
   "cell_type": "markdown",
   "metadata": {},
   "source": [
    "Получше"
   ]
  },
  {
   "cell_type": "markdown",
   "metadata": {},
   "source": [
    "#### Используем базовую **Случайный лес**"
   ]
  },
  {
   "cell_type": "code",
   "execution_count": 23,
   "metadata": {},
   "outputs": [
    {
     "name": "stdout",
     "output_type": "stream",
     "text": [
      "F1: 0.49655172413793097\n"
     ]
    }
   ],
   "source": [
    "model = RandomForestClassifier(random_state=393, n_estimators=10)\n",
    "model.fit(features_train, target_train)\n",
    "predicted_valid = model.predict(features_valid)\n",
    "print(\"F1:\", f1_score(target_valid, predicted_valid))"
   ]
  },
  {
   "cell_type": "markdown",
   "metadata": {},
   "source": [
    "Случайный лес показывает лучший показатель"
   ]
  },
  {
   "cell_type": "markdown",
   "metadata": {},
   "source": [
    "добавим class_weight='balanced'"
   ]
  },
  {
   "cell_type": "code",
   "execution_count": 24,
   "metadata": {},
   "outputs": [
    {
     "name": "stdout",
     "output_type": "stream",
     "text": [
      "F1: 0.4735945485519591\n"
     ]
    }
   ],
   "source": [
    "model = RandomForestClassifier(random_state=393, n_estimators=10, class_weight='balanced')\n",
    "model.fit(features_train, target_train)\n",
    "predicted_valid = model.predict(features_valid)\n",
    "print(\"F1:\", f1_score(target_valid, predicted_valid))"
   ]
  },
  {
   "cell_type": "markdown",
   "metadata": {},
   "source": [
    "результат хуже"
   ]
  },
  {
   "cell_type": "code",
   "execution_count": 25,
   "metadata": {},
   "outputs": [
    {
     "data": {
      "text/plain": [
       "Text(69.0, 0.5, 'Truth')"
      ]
     },
     "execution_count": 25,
     "metadata": {},
     "output_type": "execute_result"
    },
    {
     "data": {
      "image/png": "[encoded data removed]",
      "text/plain": [
       "<Figure size 720x504 with 2 Axes>"
      ]
     },
     "metadata": {
      "needs_background": "light"
     },
     "output_type": "display_data"
    }
   ],
   "source": [
    "from sklearn import metrics\n",
    "cm = metrics.confusion_matrix(target_valid,predicted_valid)\n",
    "\n",
    "plt.figure(figsize = (10,7))\n",
    "sns.heatmap(cm, annot=True, fmt='d');\n",
    "plt.xlabel('Predicted')\n",
    "plt.ylabel('Truth')"
   ]
  },
  {
   "cell_type": "markdown",
   "metadata": {},
   "source": [
    "**Вывод:** Чтобы улучшить результаты прогнозирования и облегчить обучение модели, мы преобразовали данные:\n",
    "\n",
    "1. Удалены ненужные столбцы - такие как фамилия, идентификатор клиента и номер строки\n",
    "2. Выполнено кодирование категориальных переменных\n",
    "3. Выполнено масштабирование количественных переменных,\n",
    "4. Разделены выборки в соотношении 60%: 20%:20% \n",
    "5. Попытались обучить модели на объектах с классовым дисбалансом\n",
    "6. Посторили матрицу  ошибок"
   ]
  },
  {
   "cell_type": "markdown",
   "metadata": {},
   "source": [
    "#### Подбор гиперпараметров RandomForestClassifier "
   ]
  },
  {
   "cell_type": "code",
   "execution_count": 26,
   "metadata": {},
   "outputs": [
    {
     "name": "stdout",
     "output_type": "stream",
     "text": [
      "\n",
      "F1 - лучшей модели: 58.39%: Глубина дерева-9: Количество деревьев-29: Баланс весов - balanced:\n",
      "\n",
      "CPU times: user 55.8 s, sys: 138 ms, total: 55.9 s\n",
      "Wall time: 56.2 s\n"
     ]
    }
   ],
   "source": [
    "%%time\n",
    "best_model = None\n",
    "best_result = 0\n",
    "class_weight_list = [None,'balanced']\n",
    "for est in range(1, 30,2):\n",
    "    for depth in range (1,30,2):\n",
    "        for weight in class_weight_list:\n",
    "            model_rfc_p= RandomForestClassifier(random_state=393, n_estimators=est, max_depth=depth, class_weight = weight) # обучим модель с заданным количеством деревьев n_estimators =30\n",
    "            model_rfc_p.fit(features_train,target_train) # обучим модель на train  выборке\n",
    "            predicted_valid = model_rfc_p.predict(features_valid)\n",
    "            result = f1_score(target_valid,predicted_valid) # качество модели на валидационной выборке\n",
    "            if result > best_result:\n",
    "                best_model = model # сохраним наилучшую модель\n",
    "                best_result = result #  сохраним наилучшее значение метрики на валидационных данных\n",
    "                best_depth = depth #  сохраним наилучшее значение метрики глубины дерева на валидационных данных\n",
    "                best_est = est #  сохраним наилучшее значение метрики количество деревьев на валидационных данных\n",
    "                best_class_weight = weight # сохраним наилучшее значение метрики вес на валидационных данных\n",
    "print()\n",
    "print(\"F1 - лучшей модели: {:.2%}: Глубина дерева-{}: Количество деревьев-{}: Баланс весов - {}:\".format(best_result,best_depth,best_est,best_class_weight))\n",
    "print()"
   ]
  },
  {
   "cell_type": "markdown",
   "metadata": {},
   "source": [
    "## Борьба с дисбалансом"
   ]
  },
  {
   "cell_type": "markdown",
   "metadata": {},
   "source": [
    "Перед нами по прежнему стоит задача классификации. Попробуем избавиться от проблемы классового дисбаланса, плюс выбирем гиперпараметры модели."
   ]
  },
  {
   "cell_type": "code",
   "execution_count": 27,
   "metadata": {},
   "outputs": [
    {
     "data": {
      "text/html": [
       "<div>\n",
       "<style scoped>\n",
       "    .dataframe tbody tr th:only-of-type {\n",
       "        vertical-align: middle;\n",
       "    }\n",
       "\n",
       "    .dataframe tbody tr th {\n",
       "        vertical-align: top;\n",
       "    }\n",
       "\n",
       "    .dataframe thead th {\n",
       "        text-align: right;\n",
       "    }\n",
       "</style>\n",
       "<table border=\"1\" class=\"dataframe\">\n",
       "  <thead>\n",
       "    <tr style=\"text-align: right;\">\n",
       "      <th></th>\n",
       "      <th>exited</th>\n",
       "    </tr>\n",
       "  </thead>\n",
       "  <tbody>\n",
       "    <tr>\n",
       "      <td>0</td>\n",
       "      <td>7963</td>\n",
       "    </tr>\n",
       "    <tr>\n",
       "      <td>1</td>\n",
       "      <td>2037</td>\n",
       "    </tr>\n",
       "  </tbody>\n",
       "</table>\n",
       "</div>"
      ],
      "text/plain": [
       "   exited\n",
       "0    7963\n",
       "1    2037"
      ]
     },
     "execution_count": 27,
     "metadata": {},
     "output_type": "execute_result"
    }
   ],
   "source": [
    "data['exited'].value_counts().to_frame()"
   ]
  },
  {
   "cell_type": "markdown",
   "metadata": {},
   "source": [
    "Попробуем решить задачу дисбаланса тремя  способами и выбрать лучший.\n",
    "- Увеличение выборки(Upsampling)\n",
    "- Уменьшение выборки(Downsampling)\n",
    "- Изменение порога(Change threshold)"
   ]
  },
  {
   "cell_type": "markdown",
   "metadata": {},
   "source": [
    "### **Увеличение выборки (Upsampling)** <br>\n",
    "Для этого давайте воспользуемся функцией Upsampling, выполним следующие преобразования:\n",
    "\n",
    "- разделим обучающую выборку на отрицательные и положительные объекты\n",
    "- скопируем положительные объекты несколько раз \n",
    "- учетом полученных данных создадим новую обучающую выборку\n",
    "- перетасуем данные"
   ]
  },
  {
   "cell_type": "code",
   "execution_count": 28,
   "metadata": {},
   "outputs": [
    {
     "name": "stdout",
     "output_type": "stream",
     "text": [
      "(10932, 13)\n",
      "(10932,)\n"
     ]
    }
   ],
   "source": [
    "def upsample(features, target, repeat):\n",
    "    \n",
    "    features_zeros = features[target == 0]\n",
    "    features_ones = features[target == 1]\n",
    "    target_zeros = target[target == 0]\n",
    "    target_ones = target[target == 1]\n",
    "    \n",
    "    features_upsampled = pd.concat([features_zeros] + [features_ones] * repeat)\n",
    "    target_upsampled = pd.concat([target_zeros] + [target_ones] * repeat)\n",
    "    \n",
    "    features_upsampled = shuffle(features_upsampled, random_state=393)\n",
    "    target_upsampled = shuffle(target_upsampled, random_state=393)\n",
    "    \n",
    "    return features_upsampled, target_upsampled\n",
    "\n",
    "    \n",
    "    \n",
    "features_upsampled, target_upsampled = upsample(features_train, target_train, 5)\n",
    "\n",
    "print(features_upsampled.shape)\n",
    "print(target_upsampled.shape)"
   ]
  },
  {
   "cell_type": "markdown",
   "metadata": {},
   "source": [
    "**LogisticRegression**"
   ]
  },
  {
   "cell_type": "code",
   "execution_count": 29,
   "metadata": {},
   "outputs": [
    {
     "name": "stdout",
     "output_type": "stream",
     "text": [
      "F1: 0.46529968454258674\n"
     ]
    }
   ],
   "source": [
    "model = LogisticRegression(random_state=393, solver='liblinear')\n",
    "model.fit(features_upsampled, target_upsampled)\n",
    "predicted_valid = model.predict(features_valid)\n",
    "print(\"F1:\", f1_score(target_valid, predicted_valid))"
   ]
  },
  {
   "cell_type": "code",
   "execution_count": 30,
   "metadata": {},
   "outputs": [
    {
     "name": "stdout",
     "output_type": "stream",
     "text": [
      "F1: 0.46529968454258674 1\n",
      "F1: 0.2729044834307992 2\n",
      "F1: 0.44743935309973043 3\n",
      "F1: 0.46186895810955964 4\n",
      "F1: 0.4629133154602323 5\n",
      "F1: 0.46529968454258674 6\n",
      "F1: 0.4406779661016949 7\n",
      "F1: 0.42400521852576645 8\n",
      "F1: 0.41883519206939274 9\n"
     ]
    }
   ],
   "source": [
    "for repeat in range(1,10): \n",
    "    model = LogisticRegression(random_state=393, solver='liblinear')\n",
    "    model.fit(features_upsampled, target_upsampled)\n",
    "    features_upsampled, target_upsampled = upsample(features_train, target_train, repeat)\n",
    "    predicted_valid = model.predict(features_valid)\n",
    "    print(\"F1:\", f1_score(target_valid, predicted_valid),repeat)"
   ]
  },
  {
   "cell_type": "markdown",
   "metadata": {},
   "source": [
    "Для логистической регресии upsampling пошел на пользу, но не достаточно для выполнения задачи"
   ]
  },
  {
   "cell_type": "markdown",
   "metadata": {},
   "source": [
    "**RandomForestClassifier**"
   ]
  },
  {
   "cell_type": "code",
   "execution_count": 31,
   "metadata": {},
   "outputs": [
    {
     "name": "stdout",
     "output_type": "stream",
     "text": [
      "F1: 0.5225225225225226\n"
     ]
    }
   ],
   "source": [
    "model = RandomForestClassifier(random_state=393, n_estimators=10)\n",
    "model.fit(features_upsampled, target_upsampled)\n",
    "predicted_valid = model.predict(features_valid)\n",
    "print(\"F1:\", f1_score(target_valid, predicted_valid))"
   ]
  },
  {
   "cell_type": "code",
   "execution_count": 32,
   "metadata": {},
   "outputs": [
    {
     "name": "stdout",
     "output_type": "stream",
     "text": [
      "F1: 0.49081803005008345 1\n",
      "F1: 0.522273425499232 2\n",
      "F1: 0.5465465465465466 3\n",
      "F1: 0.5110782865583456 4\n",
      "F1: 0.5499276410998554 5\n",
      "F1: 0.5244444444444445 6\n",
      "F1: 0.5289747399702823 7\n",
      "F1: 0.521870286576169 8\n",
      "F1: 0.5225225225225226 9\n"
     ]
    }
   ],
   "source": [
    "for repeat in range(1,10): \n",
    "    model = RandomForestClassifier(random_state=393, n_estimators=10)\n",
    "   \n",
    "    features_upsampled, target_upsampled = upsample(features_train, target_train, repeat)\n",
    "    model.fit(features_upsampled, target_upsampled)\n",
    "    predicted_valid = model.predict(features_valid)\n",
    "    print(\"F1:\", f1_score(target_valid, predicted_valid),repeat)"
   ]
  },
  {
   "cell_type": "markdown",
   "metadata": {},
   "source": [
    "Есть небольшие  улучшения по сравнению с базовой моделью случайный лес."
   ]
  },
  {
   "cell_type": "markdown",
   "metadata": {},
   "source": [
    "### Уменьшение выборки (Downsampling)"
   ]
  },
  {
   "cell_type": "markdown",
   "metadata": {},
   "source": [
    "Вместо повторения важных вопросов, уберём часть неважных. "
   ]
  },
  {
   "cell_type": "markdown",
   "metadata": {},
   "source": [
    "Преобразование проведем в несколько этапов:\n",
    "- Разделим обучающую выборку на отрицательные и положительные объекты;\n",
    "- Случайным образом отбросим часть из отрицательных объектов;\n",
    "- С учётом полученных данных создадим новую обучающую выборку;\n",
    "- Перемешаем данные. Положительные не должны идти следом за отрицательными: алгоритмам будет сложнее обучаться."
   ]
  },
  {
   "cell_type": "code",
   "execution_count": 35,
   "metadata": {},
   "outputs": [
    {
     "name": "stdout",
     "output_type": "stream",
     "text": [
      "(3140, 13)\n",
      "(3140,)\n"
     ]
    }
   ],
   "source": [
    "def downsample(features, target, fraction):\n",
    "    features_zeros = features[target == 0]\n",
    "    features_ones = features[target == 1]\n",
    "    target_zeros = target[target == 0]\n",
    "    target_ones = target[target == 1]\n",
    "\n",
    "    features_sample = features_zeros.sample(frac=fraction, random_state=42)\n",
    "    target_sample = target_zeros.sample(frac=fraction, random_state=42)\n",
    "    \n",
    "    features_downsampled = pd.concat([features_sample] + [features_ones])\n",
    "    target_downsampled = pd.concat([target_sample] + [target_ones])\n",
    "    \n",
    "    features_downsampled = shuffle(features_downsampled, random_state=42)\n",
    "    target_downsampled = shuffle(target_downsampled, random_state=42)\n",
    "    \n",
    "\n",
    "    \n",
    "    return features_downsampled, target_downsampled\n",
    "\n",
    "features_downsampled, target_downsampled = downsample(features_train, target_train, 0.4)\n",
    "\n",
    "print(features_downsampled.shape)\n",
    "print(target_downsampled.shape)"
   ]
  },
  {
   "cell_type": "markdown",
   "metadata": {},
   "source": [
    "**LogisticRegression**"
   ]
  },
  {
   "cell_type": "code",
   "execution_count": 36,
   "metadata": {},
   "outputs": [
    {
     "name": "stdout",
     "output_type": "stream",
     "text": [
      "F1: 0.45323741007194246\n"
     ]
    }
   ],
   "source": [
    "model = LogisticRegression(random_state=393, solver='liblinear')\n",
    "model.fit(features_downsampled, target_downsampled)\n",
    "predicted_valid = model.predict(features_valid)\n",
    "print(\"F1:\", f1_score(target_valid, predicted_valid))"
   ]
  },
  {
   "cell_type": "code",
   "execution_count": 37,
   "metadata": {},
   "outputs": [
    {
     "name": "stdout",
     "output_type": "stream",
     "text": [
      "F1: 0.45323741007194246 0.05\n",
      "F1: 0.34594095940959413 0.1\n",
      "F1: 0.39662921348314606 0.15\n",
      "F1: 0.4318936877076412 0.2\n",
      "F1: 0.453125 0.25\n",
      "F1: 0.45933869526362825 0.3\n",
      "F1: 0.45697329376854595 0.35\n",
      "F1: 0.45625692137320045 0.4\n",
      "F1: 0.45323741007194246 0.45\n",
      "F1: 0.4520202020202021 0.5\n",
      "F1: 0.4429530201342282 0.55\n",
      "F1: 0.4438122332859175 0.6\n",
      "F1: 0.42278860569715143 0.65\n",
      "F1: 0.40186915887850466 0.7\n",
      "F1: 0.36065573770491804 0.75\n",
      "F1: 0.3531409168081494 0.8\n",
      "F1: 0.34256055363321797 0.85\n",
      "F1: 0.32374100719424465 0.9\n",
      "F1: 0.30996309963099633 0.95\n"
     ]
    }
   ],
   "source": [
    "for frac in np.arange(0.05,1,0.05): \n",
    "    model = LogisticRegression(random_state=393, solver='liblinear')\n",
    "    model.fit(features_downsampled, target_downsampled)\n",
    "    features_downsampled, target_downsampled = downsample(features_train, target_train, frac)\n",
    "    predicted_valid = model.predict(features_valid)\n",
    "    print(\"F1:\", f1_score(target_valid, predicted_valid),round(frac,2))\\\n",
    "    "
   ]
  },
  {
   "cell_type": "markdown",
   "metadata": {},
   "source": [
    "**RandomForestClassifier**"
   ]
  },
  {
   "cell_type": "code",
   "execution_count": 38,
   "metadata": {},
   "outputs": [
    {
     "name": "stdout",
     "output_type": "stream",
     "text": [
      "F1: 0.5123966942148761 0.05\n",
      "F1: 0.38225629791894855 0.1\n",
      "F1: 0.4391891891891892 0.15\n",
      "F1: 0.4883333333333333 0.2\n",
      "F1: 0.5075471698113208 0.25\n",
      "F1: 0.513347022587269 0.3\n",
      "F1: 0.5489313835770528 0.35\n",
      "F1: 0.5400238948626045 0.4\n",
      "F1: 0.5145018915510718 0.45\n",
      "F1: 0.5468354430379746 0.5\n",
      "F1: 0.5305039787798409 0.55\n",
      "F1: 0.5491803278688523 0.6\n",
      "F1: 0.5611111111111111 0.65\n",
      "F1: 0.5319465081723626 0.7\n",
      "F1: 0.5495495495495496 0.75\n",
      "F1: 0.5125 0.8\n",
      "F1: 0.5325077399380804 0.85\n",
      "F1: 0.5307443365695792 0.9\n",
      "F1: 0.5065359477124184 0.95\n",
      "Лучший F1: 0.5611111111111111 0.6500000000000001\n"
     ]
    }
   ],
   "source": [
    "best_result = 0\n",
    "for frac in np.arange(0.05,1,0.05):\n",
    "    model = RandomForestClassifier(random_state=393, n_estimators=10)\n",
    "    model.fit(features_downsampled, target_downsampled)\n",
    "    features_downsampled, target_downsampled = downsample(features_train, target_train, frac)\n",
    "    predicted_valid = model.predict(features_valid)\n",
    "    result = f1_score(target_valid, predicted_valid)\n",
    "    print(\"F1:\", f1_score(target_valid, predicted_valid),round(frac,2))\n",
    "    if result> best_result:\n",
    "#         best_model = model\n",
    "        best_result = result\n",
    "        best_frac = frac\n",
    "print (\"Лучший F1:\",best_result, best_frac)"
   ]
  },
  {
   "cell_type": "code",
   "execution_count": null,
   "metadata": {},
   "outputs": [],
   "source": []
  },
  {
   "cell_type": "markdown",
   "metadata": {},
   "source": [
    "**Комментарий:** Лучше, но не совсем, что требовалось"
   ]
  },
  {
   "cell_type": "markdown",
   "metadata": {},
   "source": [
    "### Изменение порога "
   ]
  },
  {
   "cell_type": "markdown",
   "metadata": {},
   "source": [
    "Изменим значение порога и посмотрим, какими станут метрики."
   ]
  },
  {
   "cell_type": "code",
   "execution_count": 39,
   "metadata": {},
   "outputs": [
    {
     "name": "stdout",
     "output_type": "stream",
     "text": [
      "Threshold = 0.00 | Precision = 0.192, Recall = 1.000 | F1-score = 0.321\n",
      "Threshold = 0.05 | Precision = 0.215, Recall = 0.982 | F1-score = 0.353\n",
      "Threshold = 0.10 | Precision = 0.256, Recall = 0.901 | F1-score = 0.399\n",
      "Threshold = 0.15 | Precision = 0.302, Recall = 0.799 | F1-score = 0.438\n",
      "Threshold = 0.20 | Precision = 0.345, Recall = 0.679 | F1-score = 0.457\n",
      "Threshold = 0.25 | Precision = 0.389, Recall = 0.569 | F1-score = 0.462\n",
      "Threshold = 0.30 | Precision = 0.418, Recall = 0.467 | F1-score = 0.441\n",
      "Threshold = 0.35 | Precision = 0.477, Recall = 0.405 | F1-score = 0.438\n",
      "Threshold = 0.40 | Precision = 0.498, Recall = 0.319 | F1-score = 0.389\n",
      "Threshold = 0.45 | Precision = 0.519, Recall = 0.251 | F1-score = 0.338\n",
      "Threshold = 0.50 | Precision = 0.538, Recall = 0.183 | F1-score = 0.273\n",
      "Threshold = 0.55 | Precision = 0.582, Recall = 0.138 | F1-score = 0.224\n",
      "Threshold = 0.60 | Precision = 0.574, Recall = 0.102 | F1-score = 0.173\n",
      "Threshold = 0.65 | Precision = 0.596, Recall = 0.073 | F1-score = 0.130\n",
      "Threshold = 0.70 | Precision = 0.654, Recall = 0.044 | F1-score = 0.083\n",
      "Threshold = 0.75 | Precision = 0.600, Recall = 0.016 | F1-score = 0.031\n",
      "Threshold = 0.80 | Precision = 0.714, Recall = 0.013 | F1-score = 0.026\n",
      "Threshold = 0.85 | Precision = 1.000, Recall = 0.005 | F1-score = 0.010\n",
      "Threshold = 0.90 | Precision = 0.000, Recall = 0.000 | F1-score = 0.000\n",
      "Threshold = 0.95 | Precision = 0.000, Recall = 0.000 | F1-score = 0.000\n"
     ]
    }
   ],
   "source": [
    "model = LogisticRegression(random_state=393, solver='liblinear')\n",
    "model.fit(features_train, target_train)\n",
    "probabilities_valid = model.predict_proba(features_valid)\n",
    "probabilities_one_valid = probabilities_valid[:, 1]\n",
    "\n",
    "for threshold in np.arange(0, 1, 0.05):\n",
    "    predicted_valid = probabilities_one_valid > threshold\n",
    "    precision = precision_score(target_valid, predicted_valid)\n",
    "    recall = recall_score(target_valid, predicted_valid)\n",
    "    f1 = f1_score(target_valid, predicted_valid)\n",
    "    print(\"Threshold = {:.2f} | Precision = {:.3f}, Recall = {:.3f} | F1-score = {:.3f}\".format(\n",
    "        threshold, precision, recall, f1))"
   ]
  },
  {
   "cell_type": "code",
   "execution_count": 40,
   "metadata": {},
   "outputs": [
    {
     "data": {
      "image/png": "[encoded data removed]",
      "text/plain": [
       "<Figure size 1080x720 with 1 Axes>"
      ]
     },
     "metadata": {
      "needs_background": "light"
     },
     "output_type": "display_data"
    }
   ],
   "source": [
    "precision, recall, thresholds = precision_recall_curve(target_valid, probabilities_valid[:, 1])    \n",
    "plt.figure(figsize=(15, 10))\n",
    "plt.step(recall, precision, where='post')\n",
    "plt.xlabel('Recall')\n",
    "plt.ylabel('Precision')\n",
    "plt.ylim([0.0, 1.05])\n",
    "plt.xlim([0.0, 1.0])\n",
    "plt.title('PR curve')\n",
    "plt.show() "
   ]
  },
  {
   "cell_type": "markdown",
   "metadata": {},
   "source": [
    "Для порога 0 полнота равна 1 - все ответы положительные. При пороговом значении 0,85 модель перестает давать правильные ответы. Самое высокое значение F1 наблюдается при пороге 0,25"
   ]
  },
  {
   "cell_type": "code",
   "execution_count": 41,
   "metadata": {},
   "outputs": [
    {
     "name": "stdout",
     "output_type": "stream",
     "text": [
      "Threshold = 0.00 | Precision = 0.267, Recall = 0.903 | F1-score = 0.4119\n",
      "Threshold = 0.05 | Precision = 0.267, Recall = 0.903 | F1-score = 0.4119\n",
      "Threshold = 0.10 | Precision = 0.342, Recall = 0.760 | F1-score = 0.4716\n",
      "Threshold = 0.15 | Precision = 0.342, Recall = 0.760 | F1-score = 0.4716\n",
      "Threshold = 0.20 | Precision = 0.435, Recall = 0.650 | F1-score = 0.5209\n",
      "Threshold = 0.25 | Precision = 0.435, Recall = 0.650 | F1-score = 0.5209\n",
      "Threshold = 0.30 | Precision = 0.524, Recall = 0.569 | F1-score = 0.5457\n",
      "Threshold = 0.35 | Precision = 0.524, Recall = 0.569 | F1-score = 0.5457\n",
      "Threshold = 0.40 | Precision = 0.614, Recall = 0.478 | F1-score = 0.5374\n",
      "Threshold = 0.45 | Precision = 0.614, Recall = 0.478 | F1-score = 0.5374\n",
      "Threshold = 0.50 | Precision = 0.731, Recall = 0.376 | F1-score = 0.4966\n",
      "Threshold = 0.55 | Precision = 0.731, Recall = 0.376 | F1-score = 0.4966\n",
      "Threshold = 0.60 | Precision = 0.815, Recall = 0.311 | F1-score = 0.4499\n",
      "Threshold = 0.65 | Precision = 0.815, Recall = 0.311 | F1-score = 0.4499\n",
      "Threshold = 0.70 | Precision = 0.833, Recall = 0.222 | F1-score = 0.3505\n",
      "Threshold = 0.75 | Precision = 0.833, Recall = 0.222 | F1-score = 0.3505\n",
      "Threshold = 0.80 | Precision = 0.864, Recall = 0.133 | F1-score = 0.2308\n",
      "Threshold = 0.85 | Precision = 0.864, Recall = 0.133 | F1-score = 0.2308\n",
      "Threshold = 0.90 | Precision = 0.900, Recall = 0.047 | F1-score = 0.0893\n"
     ]
    }
   ],
   "source": [
    "model = RandomForestClassifier(random_state=393, n_estimators=10)\n",
    "model.fit(features_train, target_train)\n",
    "probabilities_valid = model.predict_proba(features_valid)\n",
    "probabilities_one_valid = probabilities_valid[:, 1]\n",
    "\n",
    "for threshold in np.arange(0, 0.95, 0.05):\n",
    "    predicted_valid = probabilities_one_valid > threshold\n",
    "    precision = precision_score(target_valid, predicted_valid)\n",
    "    recall = recall_score(target_valid, predicted_valid)\n",
    "    f1 = f1_score(target_valid, predicted_valid)\n",
    "    print(\"Threshold = {:.2f} | Precision = {:.3f}, Recall = {:.3f} | F1-score = {:.4f}\".format(\n",
    "        threshold, precision, recall, f1))"
   ]
  },
  {
   "cell_type": "code",
   "execution_count": 42,
   "metadata": {},
   "outputs": [
    {
     "data": {
      "image/png": "[encoded data removed]",
      "text/plain": [
       "<Figure size 720x720 with 1 Axes>"
      ]
     },
     "metadata": {
      "needs_background": "light"
     },
     "output_type": "display_data"
    }
   ],
   "source": [
    "precision, recall, thresholds = precision_recall_curve(target_valid, probabilities_valid[:, 1])    \n",
    "plt.figure(figsize=(10, 10))\n",
    "plt.step(recall, precision, where='post')\n",
    "plt.xlabel('Recall')\n",
    "plt.ylabel('Precision')\n",
    "plt.ylim([0.0, 1.05])\n",
    "plt.xlim([0.0, 1.0])\n",
    "plt.title('PR curve')\n",
    "plt.show() "
   ]
  },
  {
   "cell_type": "markdown",
   "metadata": {},
   "source": [
    "**Вывод:** Лучший показатель на границе 0,3, F1 = 0.52"
   ]
  },
  {
   "cell_type": "markdown",
   "metadata": {},
   "source": [
    "### Настройка гиперпараметров"
   ]
  },
  {
   "cell_type": "markdown",
   "metadata": {},
   "source": [
    "Для подбора гиперпараметров будем использовать GridSearchCV"
   ]
  },
  {
   "cell_type": "markdown",
   "metadata": {},
   "source": [
    "**LogisticRegression**"
   ]
  },
  {
   "cell_type": "code",
   "execution_count": 43,
   "metadata": {},
   "outputs": [
    {
     "name": "stdout",
     "output_type": "stream",
     "text": [
      "\n",
      "F1 - лучшей модели: 47.06%: inverse_regularization_strength-1: penalty-l1: class_weight - balanced\n",
      "\n",
      "CPU times: user 26.3 s, sys: 2.8 s, total: 29.1 s\n",
      "Wall time: 29.2 s\n"
     ]
    }
   ],
   "source": [
    "%%time\n",
    "best_model = None\n",
    "best_result = 0\n",
    "class_weight = [None,'balanced']\n",
    "penalty_list = ['l1','l2']\n",
    "inverse_regularization_strength=0\n",
    "\n",
    "for inverse_regularization_strength in range (1,10):\n",
    "    for weight in class_weight:\n",
    "        for penalty in penalty_list:\n",
    "            model_lreg = LogisticRegression(C=inverse_regularization_strength, penalty = penalty, class_weight=weight, solver='liblinear', random_state=393)\n",
    "            model_lreg.fit(features_upsampled,target_upsampled) # обучим модель на upsampled тренировочной выборке\n",
    "            predicted_valid = model_lreg.predict(features_valid)\n",
    "            result = f1_score(target_valid,predicted_valid) #    \n",
    "            if result > best_result:\n",
    "                best_model = model # сохраним наилучшую модель\n",
    "                best_result = result #  сохраним наилучшее значение метрики \n",
    "                best_class_weight = weight #  сохраним наилучшее значение метрики \n",
    "                best_c = inverse_regularization_strength\n",
    "                best_penalty = penalty#  \n",
    "print()\n",
    "print(\"F1 - лучшей модели: {:.2%}: inverse_regularization_strength-{}: penalty-{}: class_weight - {}\". format(best_result,best_c,best_penalty,best_class_weight))\n",
    "print()"
   ]
  },
  {
   "cell_type": "code",
   "execution_count": 44,
   "metadata": {},
   "outputs": [
    {
     "name": "stdout",
     "output_type": "stream",
     "text": [
      "\n",
      "F1 - лучшей модели: 47.07%: inverse_regularization_strength-2: penalty-l1: class_weight - balanced\n",
      "\n",
      "CPU times: user 10.2 s, sys: 2.87 s, total: 13.1 s\n",
      "Wall time: 13.4 s\n"
     ]
    }
   ],
   "source": [
    "%%time\n",
    "best_model = None\n",
    "best_result = 0\n",
    "class_weight = [None,'balanced']\n",
    "penalty_list = ['l1','l2']\n",
    "inverse_regularization_strength=0\n",
    "\n",
    "for inverse_regularization_strength in range (1,10):\n",
    "    for weight in class_weight:\n",
    "        for penalty in penalty_list:\n",
    "            model_lreg = LogisticRegression(C=inverse_regularization_strength, penalty = penalty, class_weight=weight, solver='liblinear', random_state=393)\n",
    "            model_lreg.fit(features_downsampled,target_downsampled) # обучим модель на downsampled тренировочной выборке\n",
    "            predicted_valid = model_lreg.predict(features_valid)\n",
    "            result = f1_score(target_valid,predicted_valid) #    \n",
    "            if result > best_result:\n",
    "                best_model = model # сохраним наилучшую модель\n",
    "                best_result = result #  сохраним наилучшее значение метрики \n",
    "                best_class_weight = weight #  сохраним наилучшее значение метрики \n",
    "                best_c = inverse_regularization_strength\n",
    "                best_penalty = penalty#  \n",
    "print()\n",
    "print(\"F1 - лучшей модели: {:.2%}: inverse_regularization_strength-{}: penalty-{}: class_weight - {}\". format(best_result,best_c,best_penalty,best_class_weight))\n",
    "print()"
   ]
  },
  {
   "cell_type": "markdown",
   "metadata": {},
   "source": [
    "**Комментарий:** Значительные улучшения, но недостаточные для требования задачи"
   ]
  },
  {
   "cell_type": "code",
   "execution_count": 45,
   "metadata": {},
   "outputs": [
    {
     "data": {
      "image/png": "[encoded data removed]",
      "text/plain": [
       "<Figure size 1080x720 with 1 Axes>"
      ]
     },
     "metadata": {
      "needs_background": "light"
     },
     "output_type": "display_data"
    },
    {
     "name": "stdout",
     "output_type": "stream",
     "text": [
      "AUC: 0.7594520362144384\n"
     ]
    }
   ],
   "source": [
    "model_lreg = LogisticRegression(C=1, class_weight='balanced', intercept_scaling=1,penalty='l1',solver='liblinear', random_state=393)\n",
    "model_lreg.fit(features_upsampled, target_upsampled)\n",
    "probabilities_valid = model_lreg.predict_proba(features_valid)\n",
    "probabilities_one_valid = probabilities_valid[:, 1]\n",
    "\n",
    "fpr, tpr, thresholds = roc_curve(target_valid, probabilities_one_valid) \n",
    "\n",
    "plt.figure(figsize=(15, 10))\n",
    "plt.plot(fpr, tpr, linestyle='-')\n",
    "plt.plot([0, 1], [0, 1], linestyle='--')\n",
    "plt.xlim([0.0, 1.0])\n",
    "plt.ylim([0.0, 1.0])\n",
    "plt.xlabel('False Positive Rate')\n",
    "plt.ylabel('True Positive Rate')\n",
    "plt.title('ROC-curve')\n",
    "\n",
    "plt.show()\n",
    "\n",
    "auc_roc = roc_auc_score (target_valid, probabilities_one_valid)\n",
    "\n",
    "print(\"AUC:\", auc_roc)"
   ]
  },
  {
   "cell_type": "markdown",
   "metadata": {},
   "source": [
    "**Комментарий:** В целом, неплохо. AUC > 0.5 наша модель лучше чем случайная"
   ]
  },
  {
   "cell_type": "markdown",
   "metadata": {},
   "source": [
    "**RandomForestClassifier**"
   ]
  },
  {
   "cell_type": "code",
   "execution_count": 46,
   "metadata": {},
   "outputs": [
    {
     "name": "stdout",
     "output_type": "stream",
     "text": [
      "\n",
      "F1 - лучшей модели: 58.98%: Глубина дерева-9: Количество деревьев-29: Баланс весов - balanced:\n",
      "\n",
      "CPU times: user 1min 52s, sys: 105 ms, total: 1min 52s\n",
      "Wall time: 1min 53s\n"
     ]
    }
   ],
   "source": [
    "%%time\n",
    "best_model = None\n",
    "best_result = 0\n",
    "class_weight_list = [None,'balanced']\n",
    "for est in range(1, 30,2):\n",
    "    for depth in range (1,30,2):\n",
    "        for weight in class_weight_list:\n",
    "            model_rfc_upsampled= RandomForestClassifier(random_state=393, n_estimators=est, max_depth=depth, class_weight = weight) # обучим модель с заданным количеством деревьев n_estimators =30\n",
    "            model_rfc_upsampled.fit(features_upsampled,target_upsampled) # обучим модель на upsampled тренировочной выборке\n",
    "            predicted_valid = model_rfc_upsampled.predict(features_valid)\n",
    "            result = f1_score(target_valid,predicted_valid) # качество модели на валидационной выборке\n",
    "            if result > best_result:\n",
    "                best_model = model # сохраним наилучшую модель\n",
    "                best_result = result #  сохраним наилучшее значение метрики accuracy на валидационных данных\n",
    "                best_depth = depth #  сохраним наилучшее значение метрики глубины дерева на валидационных данных\n",
    "                best_est = est\n",
    "                best_class_weight = weight#  сохраним наилучшее значение метрики количество деревьев на валидационных данных\n",
    "print()\n",
    "print(\"F1 - лучшей модели: {:.2%}: Глубина дерева-{}: Количество деревьев-{}: Баланс весов - {}:\".format(best_result,best_depth,best_est,best_class_weight))\n",
    "print()"
   ]
  },
  {
   "cell_type": "markdown",
   "metadata": {},
   "source": [
    "**Вывод:** Well done, мы достигли требования задания."
   ]
  },
  {
   "cell_type": "code",
   "execution_count": 47,
   "metadata": {},
   "outputs": [
    {
     "name": "stdout",
     "output_type": "stream",
     "text": [
      "\n",
      "F1 - лучшей модели: 57.75%: Глубина дерева-9: Количество деревьев-29: Баланс весов - balanced:\n",
      "\n",
      "CPU times: user 54.2 s, sys: 115 ms, total: 54.3 s\n",
      "Wall time: 54.8 s\n"
     ]
    }
   ],
   "source": [
    "%%time\n",
    "best_model = None\n",
    "best_result = 0\n",
    "class_weight_list = [None,'balanced']\n",
    "for est in range(1, 30,2):\n",
    "    for depth in range (1,30,2):\n",
    "        for weight in class_weight_list:\n",
    "            model_rfc_downsampled= RandomForestClassifier(random_state=393, n_estimators=est, max_depth=depth, class_weight = weight) # обучим модель с заданным количеством деревьев n_estimators =30\n",
    "            model_rfc_downsampled.fit(features_downsampled,target_downsampled) # обучим модель на тренировочной выборке\n",
    "            predicted_valid = model_rfc_downsampled.predict(features_valid)\n",
    "            result = f1_score(target_valid,predicted_valid) # посчитайте качество модели на валидационной выборке\n",
    "            if result > best_result:\n",
    "                best_model = model # сохраним наилучшую модель\n",
    "                best_result = result #  сохраним наилучшее значение метрики accuracy на валидационных данных\n",
    "                best_depth = depth #  сохраним наилучшее значение метрики глубины дерева на валидационных данных\n",
    "                best_est = est\n",
    "                best_class_weight = weight#  сохраним наилучшее значение метрики количество деревьев на валидационных данных\n",
    "print()\n",
    "print(\"F1 - лучшей модели: {:.2%}: Глубина дерева-{}: Количество деревьев-{}: Баланс весов - {}:\".format(best_result,best_depth,best_est,best_class_weight))\n",
    "print()"
   ]
  },
  {
   "cell_type": "code",
   "execution_count": 48,
   "metadata": {},
   "outputs": [
    {
     "data": {
      "image/png": "[encoded data removed]",
      "text/plain": [
       "<Figure size 1080x720 with 1 Axes>"
      ]
     },
     "metadata": {
      "needs_background": "light"
     },
     "output_type": "display_data"
    },
    {
     "name": "stdout",
     "output_type": "stream",
     "text": [
      "AUC: 0.8248747398318453\n"
     ]
    }
   ],
   "source": [
    "model_rfc = RandomForestClassifier(random_state=393, n_estimators=17, max_depth=9, class_weight = 'balanced')\n",
    "model_rfc.fit(features_upsampled, target_upsampled)\n",
    "probabilities_valid = model_rfc_downsampled.predict_proba(features_valid)\n",
    "probabilities_one_valid = probabilities_valid[:, 1]\n",
    "\n",
    "fpr, tpr, thresholds = roc_curve(target_valid, probabilities_one_valid) \n",
    "\n",
    "plt.figure(figsize=(15, 10))\n",
    "plt.plot(fpr, tpr, linestyle='-')\n",
    "plt.plot([0, 1], [0, 1], linestyle='--')\n",
    "plt.xlim([0.0, 1.0])\n",
    "plt.ylim([0.0, 1.0])\n",
    "plt.xlabel('False Positive Rate')\n",
    "plt.ylabel('True Positive Rate')\n",
    "plt.title('ROC-curve')\n",
    "plt.show()\n",
    "\n",
    "auc_roc = roc_auc_score (target_valid, probabilities_one_valid)\n",
    "\n",
    "print(\"AUC:\", auc_roc)"
   ]
  },
  {
   "cell_type": "markdown",
   "metadata": {},
   "source": [
    "**Вывод:** Модель RandomForestClassifier имеет соответствующий критерий качества F1 > 59%, и неплохой AUC 0.82"
   ]
  },
  {
   "cell_type": "markdown",
   "metadata": {},
   "source": [
    "## Тестирование модели"
   ]
  },
  {
   "cell_type": "code",
   "execution_count": 49,
   "metadata": {},
   "outputs": [],
   "source": [
    "table_of_model = []\n",
    "table_of_prec = []\n",
    "table_of_acc = []"
   ]
  },
  {
   "cell_type": "code",
   "execution_count": 50,
   "metadata": {},
   "outputs": [
    {
     "name": "stdout",
     "output_type": "stream",
     "text": [
      "Accuracy\n",
      "Тестовая выборка: 0.7155\n",
      "F1-мера\n",
      "Тестовая выборка: 0.5056472632493484\n"
     ]
    }
   ],
   "source": [
    "predictions_test = model_lreg.predict(features_test)\n",
    "test_f1 = f1_score(target_test, predictions_test)\n",
    "test_acc = accuracy_score(target_test, predictions_test)\n",
    "\n",
    "print(\"Accuracy\")\n",
    "print(\"Тестовая выборка:\", test_acc)\n",
    "print(\"F1-мера\")\n",
    "print(\"Тестовая выборка:\", test_f1)\n",
    "\n",
    "table_of_acc.append(round(test_acc, 2))\n",
    "table_of_prec.append(round(test_f1, 2))\n",
    "table_of_model.append('LogisticRegression')"
   ]
  },
  {
   "cell_type": "code",
   "execution_count": 51,
   "metadata": {},
   "outputs": [
    {
     "name": "stdout",
     "output_type": "stream",
     "text": [
      "Accuracy\n",
      "Тестовая выборка: 0.805\n",
      "F1-мера\n",
      "Тестовая выборка: 0.6020408163265306\n"
     ]
    }
   ],
   "source": [
    "predictions_test = model_rfc.predict(features_test)\n",
    "test_f1 = f1_score(target_test, predictions_test)\n",
    "test_acc = accuracy_score(target_test, predictions_test)\n",
    "\n",
    "print(\"Accuracy\")\n",
    "print(\"Тестовая выборка:\", test_acc)\n",
    "print(\"F1-мера\")\n",
    "print(\"Тестовая выборка:\", test_f1)\n",
    "\n",
    "table_of_acc.append(round(test_acc, 2))\n",
    "table_of_prec.append(round(test_f1, 2))\n",
    "table_of_model.append('RandomForestClassifier')"
   ]
  },
  {
   "cell_type": "code",
   "execution_count": 52,
   "metadata": {},
   "outputs": [
    {
     "data": {
      "image/png": "[encoded data removed]",
      "text/plain": [
       "<Figure size 1080x720 with 1 Axes>"
      ]
     },
     "metadata": {
      "needs_background": "light"
     },
     "output_type": "display_data"
    }
   ],
   "source": [
    "fig, ax = plt.subplots(figsize=(15, 10)) \n",
    "\n",
    "probabilities_test1 = model_lreg.predict_proba(features_test)\n",
    "probabilities_one_test1 = probabilities_test1[:, 1]\n",
    "fpr1, tpr1, thresholds1 = roc_curve(target_test, probabilities_one_test1) \n",
    "\n",
    "probabilities_test = model_rfc.predict_proba(features_test)\n",
    "probabilities_one_test = probabilities_test[:, 1]\n",
    "fpr, tpr, thresholds = roc_curve(target_test, probabilities_one_test) \n",
    "\n",
    "\n",
    "ax.plot(fpr1, tpr1, linestyle='-',label = 'LogisticRegression')\n",
    "ax.plot(fpr, tpr, linestyle='-', label = 'RandomForestClassifier')\n",
    "ax.legend(loc = 'lower right') \n",
    "\n",
    "plt.plot([0, 1], [0, 1], linestyle='--')\n",
    "plt.xlim([0.0, 1.0])\n",
    "plt.ylim([0.0, 1.0])\n",
    "plt.xlabel('False Positive Rate')\n",
    "plt.ylabel('True Positive Rate')\n",
    "plt.title('ROC-curve Test set')\n",
    "\n",
    "plt.show()"
   ]
  },
  {
   "cell_type": "markdown",
   "metadata": {},
   "source": [
    "**Вывод:**  AUC  у RandomForestClassifier = 0.85, выше чем у LogisticRegression 0.77, что говорит о лучшей классификации."
   ]
  },
  {
   "cell_type": "markdown",
   "metadata": {},
   "source": [
    "### **Сравнение с константной моделью**"
   ]
  },
  {
   "cell_type": "code",
   "execution_count": 53,
   "metadata": {},
   "outputs": [
    {
     "name": "stdout",
     "output_type": "stream",
     "text": [
      "Наиболее частотный класс:  [0]\n",
      "              precision    recall  f1-score   support\n",
      "\n",
      "           0       0.79      1.00      0.88      1579\n",
      "           1       0.00      0.00      0.00       421\n",
      "\n",
      "    accuracy                           0.79      2000\n",
      "   macro avg       0.39      0.50      0.44      2000\n",
      "weighted avg       0.62      0.79      0.70      2000\n",
      "\n"
     ]
    }
   ],
   "source": [
    "dummy = DummyClassifier(strategy='most_frequent').fit(pd.concat([features_train,features_valid]),pd.concat([target_train,target_valid]))\n",
    "dummy_pred = dummy.predict(target_test)\n",
    "\n",
    "print('Наиболее частотный класс: ', (np.unique(dummy_pred)))\n",
    "# print('Accuracy score на тестовой выборке: ', accuracy_score(target_test, dummy_pred))\n",
    "\n",
    "print(metrics.classification_report(target_test, dummy_pred ))"
   ]
  },
  {
   "cell_type": "markdown",
   "metadata": {},
   "source": [
    "# **Вывод**"
   ]
  },
  {
   "cell_type": "markdown",
   "metadata": {},
   "source": [
    "Налучшее показатели качества Accuracy и  F1 score показывает модель **RandomForestClassifier** и соответствует требованиям заказчика <br> "
   ]
  },
  {
   "cell_type": "code",
   "execution_count": 54,
   "metadata": {},
   "outputs": [
    {
     "data": {
      "text/html": [
       "<div>\n",
       "<style scoped>\n",
       "    .dataframe tbody tr th:only-of-type {\n",
       "        vertical-align: middle;\n",
       "    }\n",
       "\n",
       "    .dataframe tbody tr th {\n",
       "        vertical-align: top;\n",
       "    }\n",
       "\n",
       "    .dataframe thead th {\n",
       "        text-align: right;\n",
       "    }\n",
       "</style>\n",
       "<table border=\"1\" class=\"dataframe\">\n",
       "  <thead>\n",
       "    <tr style=\"text-align: right;\">\n",
       "      <th></th>\n",
       "      <th>Model</th>\n",
       "      <th>Accuracy</th>\n",
       "      <th>F1 score</th>\n",
       "      <th>Threshold of testing</th>\n",
       "    </tr>\n",
       "  </thead>\n",
       "  <tbody>\n",
       "    <tr>\n",
       "      <td>0</td>\n",
       "      <td>RandomForestClassifier</td>\n",
       "      <td>0.80</td>\n",
       "      <td>0.60</td>\n",
       "      <td>Модель хороша</td>\n",
       "    </tr>\n",
       "    <tr>\n",
       "      <td>1</td>\n",
       "      <td>LogisticRegression</td>\n",
       "      <td>0.72</td>\n",
       "      <td>0.51</td>\n",
       "      <td>Модель плоховата</td>\n",
       "    </tr>\n",
       "  </tbody>\n",
       "</table>\n",
       "</div>"
      ],
      "text/plain": [
       "                    Model  Accuracy  F1 score Threshold of testing\n",
       "0  RandomForestClassifier      0.80      0.60        Модель хороша\n",
       "1      LogisticRegression      0.72      0.51     Модель плоховата"
      ]
     },
     "execution_count": 54,
     "metadata": {},
     "output_type": "execute_result"
    }
   ],
   "source": [
    "table_of_models = (pd.DataFrame({'Model':table_of_model, 'Accuracy':table_of_acc, \n",
    "                                'F1 score':table_of_prec}).sort_values(by='F1 score', ascending=False).\n",
    "                  reset_index(drop=True))\n",
    "table_of_models['Threshold of testing'] = (\n",
    "                   table_of_models['F1 score'].apply(lambda x: 'Модель хороша' if x>0.59 else 'Модель плоховата')\n",
    ")\n",
    "table_of_models"
   ]
  },
  {
   "cell_type": "markdown",
   "metadata": {},
   "source": [
    "Наибольшее значение имеет критерии\n",
    "- возраст\n",
    "- уровень\n",
    "- заработной платы\n",
    "- баланса. <br> \n",
    "Такие  показатели как пол, география проживания менее важные."
   ]
  },
  {
   "cell_type": "code",
   "execution_count": 55,
   "metadata": {},
   "outputs": [
    {
     "data": {
      "text/plain": [
       "array([0.05908387, 0.33484783, 0.03754329, 0.10086121, 0.2409398 ,\n",
       "       0.00745549, 0.0604802 , 0.06380074, 0.01621395, 0.03684655,\n",
       "       0.00954223, 0.0160062 , 0.01637864])"
      ]
     },
     "execution_count": 55,
     "metadata": {},
     "output_type": "execute_result"
    }
   ],
   "source": [
    "model_rfc.feature_importances_"
   ]
  },
  {
   "cell_type": "code",
   "execution_count": 56,
   "metadata": {},
   "outputs": [
    {
     "data": {
      "text/plain": [
       "Index(['creditscore', 'age', 'tenure', 'balance', 'numofproducts', 'hascrcard',\n",
       "       'isactivemember', 'estimatedsalary', 'France', 'Germany', 'Spain',\n",
       "       'Female', 'Male'],\n",
       "      dtype='object')"
      ]
     },
     "execution_count": 56,
     "metadata": {},
     "output_type": "execute_result"
    }
   ],
   "source": [
    "features_test.columns"
   ]
  },
  {
   "cell_type": "code",
   "execution_count": 57,
   "metadata": {},
   "outputs": [
    {
     "data": {
      "text/html": [
       "<div>\n",
       "<style scoped>\n",
       "    .dataframe tbody tr th:only-of-type {\n",
       "        vertical-align: middle;\n",
       "    }\n",
       "\n",
       "    .dataframe tbody tr th {\n",
       "        vertical-align: top;\n",
       "    }\n",
       "\n",
       "    .dataframe thead th {\n",
       "        text-align: right;\n",
       "    }\n",
       "</style>\n",
       "<table border=\"1\" class=\"dataframe\">\n",
       "  <thead>\n",
       "    <tr style=\"text-align: right;\">\n",
       "      <th></th>\n",
       "      <th>name</th>\n",
       "      <th>fi</th>\n",
       "    </tr>\n",
       "  </thead>\n",
       "  <tbody>\n",
       "    <tr>\n",
       "      <td>1</td>\n",
       "      <td>age</td>\n",
       "      <td>0.33</td>\n",
       "    </tr>\n",
       "    <tr>\n",
       "      <td>4</td>\n",
       "      <td>numofproducts</td>\n",
       "      <td>0.24</td>\n",
       "    </tr>\n",
       "    <tr>\n",
       "      <td>3</td>\n",
       "      <td>balance</td>\n",
       "      <td>0.10</td>\n",
       "    </tr>\n",
       "    <tr>\n",
       "      <td>7</td>\n",
       "      <td>estimatedsalary</td>\n",
       "      <td>0.06</td>\n",
       "    </tr>\n",
       "    <tr>\n",
       "      <td>6</td>\n",
       "      <td>isactivemember</td>\n",
       "      <td>0.06</td>\n",
       "    </tr>\n",
       "    <tr>\n",
       "      <td>0</td>\n",
       "      <td>creditscore</td>\n",
       "      <td>0.06</td>\n",
       "    </tr>\n",
       "    <tr>\n",
       "      <td>2</td>\n",
       "      <td>tenure</td>\n",
       "      <td>0.04</td>\n",
       "    </tr>\n",
       "    <tr>\n",
       "      <td>9</td>\n",
       "      <td>Germany</td>\n",
       "      <td>0.04</td>\n",
       "    </tr>\n",
       "    <tr>\n",
       "      <td>12</td>\n",
       "      <td>Male</td>\n",
       "      <td>0.02</td>\n",
       "    </tr>\n",
       "    <tr>\n",
       "      <td>8</td>\n",
       "      <td>France</td>\n",
       "      <td>0.02</td>\n",
       "    </tr>\n",
       "    <tr>\n",
       "      <td>11</td>\n",
       "      <td>Female</td>\n",
       "      <td>0.02</td>\n",
       "    </tr>\n",
       "    <tr>\n",
       "      <td>10</td>\n",
       "      <td>Spain</td>\n",
       "      <td>0.01</td>\n",
       "    </tr>\n",
       "    <tr>\n",
       "      <td>5</td>\n",
       "      <td>hascrcard</td>\n",
       "      <td>0.01</td>\n",
       "    </tr>\n",
       "  </tbody>\n",
       "</table>\n",
       "</div>"
      ],
      "text/plain": [
       "               name   fi\n",
       "1               age 0.33\n",
       "4     numofproducts 0.24\n",
       "3           balance 0.10\n",
       "7   estimatedsalary 0.06\n",
       "6    isactivemember 0.06\n",
       "0       creditscore 0.06\n",
       "2            tenure 0.04\n",
       "9           Germany 0.04\n",
       "12             Male 0.02\n",
       "8            France 0.02\n",
       "11           Female 0.02\n",
       "10            Spain 0.01\n",
       "5         hascrcard 0.01"
      ]
     },
     "execution_count": 57,
     "metadata": {},
     "output_type": "execute_result"
    }
   ],
   "source": [
    "fi = pd.DataFrame({'name':features_test.columns,'fi':model_rfc.feature_importances_})\n",
    "fi.sort_values('fi',ascending=False)"
   ]
  },
  {
   "cell_type": "markdown",
   "metadata": {},
   "source": [
    "Поставьте 'x' в выполненных пунктах. Далее нажмите Shift+Enter."
   ]
  },
  {
   "cell_type": "markdown",
   "metadata": {},
   "source": [
    "- [x]  Jupyter Notebook открыт\n",
    "- [x]  Весь код выполняется без ошибок\n",
    "- [x]  Ячейки с кодом расположены в порядке исполнения\n",
    "- [x]  Выполнен шаг 1: данные подготовлены\n",
    "- [x]  Выполнен шаг 2: задача исследована\n",
    "    - [x]  Исследован баланс классов\n",
    "    - [x]  Изучены модели без учёта дисбаланса\n",
    "    - [x]  Написаны выводы по результатам исследования\n",
    "- [x]  Выполнен шаг 3: учтён дисбаланс\n",
    "    - [x]  Применено несколько способов борьбы с дисбалансом\n",
    "    - [x]  Написаны выводы по результатам исследования\n",
    "- [x]  Выполнен шаг 4: проведено тестирование\n",
    "- [x]  Удалось достичь *F1*-меры не менее 0.59\n",
    "- [x]  Исследована метрика *AUC-ROC*"
   ]
  }
 ],
 "metadata": {
  "ExecuteTimeLog": [
   {
    "duration": 636,
    "start_time": "2021-10-26T09:27:59.426Z"
   },
   {
    "duration": 31,
    "start_time": "2021-10-26T09:28:00.064Z"
   },
   {
    "duration": 3,
    "start_time": "2021-10-26T09:32:03.225Z"
   },
   {
    "duration": 30,
    "start_time": "2021-10-26T09:32:03.481Z"
   },
   {
    "duration": 26,
    "start_time": "2021-10-26T09:32:17.834Z"
   },
   {
    "duration": 12,
    "start_time": "2021-10-26T09:33:23.887Z"
   },
   {
    "duration": 112,
    "start_time": "2021-10-26T11:18:55.006Z"
   },
   {
    "duration": 9,
    "start_time": "2021-10-26T11:21:13.335Z"
   },
   {
    "duration": 39,
    "start_time": "2021-10-26T13:29:38.545Z"
   },
   {
    "duration": 337,
    "start_time": "2021-10-26T13:36:49.586Z"
   },
   {
    "duration": 3,
    "start_time": "2021-10-26T13:37:00.876Z"
   },
   {
    "duration": 38,
    "start_time": "2021-10-26T13:37:06.613Z"
   },
   {
    "duration": 2,
    "start_time": "2021-10-26T13:37:23.182Z"
   },
   {
    "duration": 27,
    "start_time": "2021-10-26T13:37:24.222Z"
   },
   {
    "duration": 11,
    "start_time": "2021-10-26T13:37:24.829Z"
   },
   {
    "duration": 9,
    "start_time": "2021-10-26T13:37:26.412Z"
   },
   {
    "duration": 38,
    "start_time": "2021-10-26T13:37:27.013Z"
   },
   {
    "duration": 4,
    "start_time": "2021-10-26T13:47:31.324Z"
   },
   {
    "duration": 11,
    "start_time": "2021-10-26T13:47:38.429Z"
   },
   {
    "duration": 35,
    "start_time": "2021-10-26T13:47:41.701Z"
   },
   {
    "duration": 3,
    "start_time": "2021-10-26T13:55:31.987Z"
   },
   {
    "duration": 3,
    "start_time": "2021-10-26T13:56:24.142Z"
   },
   {
    "duration": 3,
    "start_time": "2021-10-26T13:56:28.854Z"
   },
   {
    "duration": 424,
    "start_time": "2021-10-27T04:05:43.732Z"
   },
   {
    "duration": 778,
    "start_time": "2021-10-27T04:05:48.299Z"
   },
   {
    "duration": 36,
    "start_time": "2021-10-27T04:05:49.079Z"
   },
   {
    "duration": 26,
    "start_time": "2021-10-27T04:05:49.118Z"
   },
   {
    "duration": 9,
    "start_time": "2021-10-27T04:05:49.762Z"
   },
   {
    "duration": 3,
    "start_time": "2021-10-27T04:09:02.379Z"
   },
   {
    "duration": 402,
    "start_time": "2021-10-27T04:47:05.717Z"
   },
   {
    "duration": 1099,
    "start_time": "2021-10-27T04:47:13.100Z"
   },
   {
    "duration": 428,
    "start_time": "2021-10-27T04:47:16.676Z"
   },
   {
    "duration": 371,
    "start_time": "2021-10-27T04:55:11.341Z"
   },
   {
    "duration": 59,
    "start_time": "2021-10-27T04:55:47.358Z"
   },
   {
    "duration": 367,
    "start_time": "2021-10-27T05:05:30.597Z"
   },
   {
    "duration": 5,
    "start_time": "2021-10-27T05:05:37.700Z"
   },
   {
    "duration": 12,
    "start_time": "2021-10-27T05:05:40.580Z"
   },
   {
    "duration": 58,
    "start_time": "2021-10-27T05:05:45.509Z"
   },
   {
    "duration": 11,
    "start_time": "2021-10-27T05:06:11.350Z"
   },
   {
    "duration": 349,
    "start_time": "2021-10-27T05:06:25.231Z"
   },
   {
    "duration": 341,
    "start_time": "2021-10-27T05:06:46.649Z"
   },
   {
    "duration": 9,
    "start_time": "2021-10-27T05:06:51.201Z"
   },
   {
    "duration": 12,
    "start_time": "2021-10-27T05:07:06.347Z"
   },
   {
    "duration": 66,
    "start_time": "2021-10-27T05:09:55.782Z"
   },
   {
    "duration": 366,
    "start_time": "2021-10-27T05:21:51.548Z"
   },
   {
    "duration": 81,
    "start_time": "2021-10-27T05:22:54.192Z"
   },
   {
    "duration": 6945,
    "start_time": "2021-10-27T05:23:42.394Z"
   },
   {
    "duration": 6154,
    "start_time": "2021-10-27T05:39:42.801Z"
   },
   {
    "duration": 6099,
    "start_time": "2021-10-27T05:40:16.323Z"
   },
   {
    "duration": 6151,
    "start_time": "2021-10-27T05:40:45.333Z"
   },
   {
    "duration": 70,
    "start_time": "2021-10-27T06:26:54.090Z"
   },
   {
    "duration": 6389,
    "start_time": "2021-10-27T06:26:59.112Z"
   },
   {
    "duration": 394,
    "start_time": "2021-10-27T06:51:33.080Z"
   },
   {
    "duration": 7,
    "start_time": "2021-10-27T06:52:37.517Z"
   },
   {
    "duration": 359,
    "start_time": "2021-10-27T06:52:52.037Z"
   },
   {
    "duration": 355,
    "start_time": "2021-10-27T06:53:21.631Z"
   },
   {
    "duration": 4,
    "start_time": "2021-10-27T06:53:34.488Z"
   },
   {
    "duration": 369,
    "start_time": "2021-10-27T06:53:48.488Z"
   },
   {
    "duration": 5,
    "start_time": "2021-10-27T06:53:54.177Z"
   },
   {
    "duration": 386,
    "start_time": "2021-10-27T06:54:24.852Z"
   },
   {
    "duration": 351,
    "start_time": "2021-10-27T06:54:39.100Z"
   },
   {
    "duration": 380,
    "start_time": "2021-10-27T06:54:55.749Z"
   },
   {
    "duration": 1602,
    "start_time": "2021-10-27T07:00:08.240Z"
   },
   {
    "duration": 37,
    "start_time": "2021-10-27T07:00:09.845Z"
   },
   {
    "duration": 25,
    "start_time": "2021-10-27T07:00:09.884Z"
   },
   {
    "duration": 15,
    "start_time": "2021-10-27T07:00:09.912Z"
   },
   {
    "duration": 21,
    "start_time": "2021-10-27T07:00:09.930Z"
   },
   {
    "duration": 71,
    "start_time": "2021-10-27T07:00:09.954Z"
   },
   {
    "duration": 17,
    "start_time": "2021-10-27T07:00:10.027Z"
   },
   {
    "duration": 6876,
    "start_time": "2021-10-27T07:00:10.047Z"
   },
   {
    "duration": 6,
    "start_time": "2021-10-27T07:00:16.926Z"
   },
   {
    "duration": 9,
    "start_time": "2021-10-27T07:00:16.934Z"
   },
   {
    "duration": 3,
    "start_time": "2021-10-27T07:00:31.605Z"
   },
   {
    "duration": 501,
    "start_time": "2021-10-27T07:00:40.783Z"
   },
   {
    "duration": 4,
    "start_time": "2021-10-27T07:01:18.065Z"
   },
   {
    "duration": 1610,
    "start_time": "2021-10-27T07:01:33.552Z"
   },
   {
    "duration": 37,
    "start_time": "2021-10-27T07:01:35.164Z"
   },
   {
    "duration": 21,
    "start_time": "2021-10-27T07:01:35.204Z"
   },
   {
    "duration": 14,
    "start_time": "2021-10-27T07:01:35.228Z"
   },
   {
    "duration": 15,
    "start_time": "2021-10-27T07:01:35.245Z"
   },
   {
    "duration": 79,
    "start_time": "2021-10-27T07:01:35.262Z"
   },
   {
    "duration": 15,
    "start_time": "2021-10-27T07:01:35.344Z"
   },
   {
    "duration": 6944,
    "start_time": "2021-10-27T07:01:35.363Z"
   },
   {
    "duration": 7,
    "start_time": "2021-10-27T07:01:42.310Z"
   },
   {
    "duration": 22,
    "start_time": "2021-10-27T07:01:42.319Z"
   },
   {
    "duration": 501,
    "start_time": "2021-10-27T07:19:15.663Z"
   },
   {
    "duration": 454,
    "start_time": "2021-10-27T07:19:22.446Z"
   },
   {
    "duration": 7,
    "start_time": "2021-10-27T07:19:41.763Z"
   },
   {
    "duration": 7,
    "start_time": "2021-10-27T07:20:40.483Z"
   },
   {
    "duration": 360,
    "start_time": "2021-10-27T07:23:18.493Z"
   },
   {
    "duration": 27,
    "start_time": "2021-10-27T07:23:28.070Z"
   },
   {
    "duration": 386,
    "start_time": "2021-10-27T07:25:14.126Z"
   },
   {
    "duration": 27,
    "start_time": "2021-10-27T07:25:30.014Z"
   },
   {
    "duration": 9055,
    "start_time": "2021-10-27T07:26:10.337Z"
   },
   {
    "duration": 7,
    "start_time": "2021-10-27T07:26:30.257Z"
   },
   {
    "duration": 11,
    "start_time": "2021-10-27T07:53:45.886Z"
   },
   {
    "duration": 5,
    "start_time": "2021-10-27T07:53:46.428Z"
   },
   {
    "duration": 493,
    "start_time": "2021-10-27T08:20:09.708Z"
   },
   {
    "duration": 9,
    "start_time": "2021-10-27T08:20:16.396Z"
   },
   {
    "duration": 388,
    "start_time": "2021-10-27T08:20:23.372Z"
   },
   {
    "duration": 4,
    "start_time": "2021-10-27T08:29:58.826Z"
   },
   {
    "duration": 425,
    "start_time": "2021-10-27T08:29:59.354Z"
   },
   {
    "duration": 9,
    "start_time": "2021-10-27T08:30:16.315Z"
   },
   {
    "duration": 481,
    "start_time": "2021-10-27T08:30:22.908Z"
   },
   {
    "duration": 406,
    "start_time": "2021-10-27T08:41:32.726Z"
   },
   {
    "duration": 379,
    "start_time": "2021-10-27T08:42:07.433Z"
   },
   {
    "duration": 1563,
    "start_time": "2021-10-27T08:43:04.505Z"
   },
   {
    "duration": 41,
    "start_time": "2021-10-27T08:43:06.071Z"
   },
   {
    "duration": 24,
    "start_time": "2021-10-27T08:43:06.116Z"
   },
   {
    "duration": 6,
    "start_time": "2021-10-27T08:43:06.143Z"
   },
   {
    "duration": 50,
    "start_time": "2021-10-27T08:43:06.152Z"
   },
   {
    "duration": 60,
    "start_time": "2021-10-27T08:43:06.205Z"
   },
   {
    "duration": 45,
    "start_time": "2021-10-27T08:43:06.268Z"
   },
   {
    "duration": 7021,
    "start_time": "2021-10-27T08:43:06.318Z"
   },
   {
    "duration": 8,
    "start_time": "2021-10-27T08:43:13.343Z"
   },
   {
    "duration": 17,
    "start_time": "2021-10-27T08:43:13.354Z"
   },
   {
    "duration": 11,
    "start_time": "2021-10-27T08:43:13.401Z"
   },
   {
    "duration": 31,
    "start_time": "2021-10-27T08:43:13.414Z"
   },
   {
    "duration": 11,
    "start_time": "2021-10-27T08:43:13.448Z"
   },
   {
    "duration": 7,
    "start_time": "2021-10-27T08:43:13.501Z"
   },
   {
    "duration": 14,
    "start_time": "2021-10-27T08:43:13.511Z"
   },
   {
    "duration": 27,
    "start_time": "2021-10-27T08:43:13.527Z"
   },
   {
    "duration": 557,
    "start_time": "2021-10-27T08:43:13.557Z"
   },
   {
    "duration": 2166,
    "start_time": "2021-10-27T08:43:11.950Z"
   },
   {
    "duration": 30,
    "start_time": "2021-10-27T08:43:39.222Z"
   },
   {
    "duration": 16,
    "start_time": "2021-10-27T08:44:15.233Z"
   },
   {
    "duration": 1558,
    "start_time": "2021-10-27T08:44:36.531Z"
   },
   {
    "duration": 39,
    "start_time": "2021-10-27T08:44:38.092Z"
   },
   {
    "duration": 21,
    "start_time": "2021-10-27T08:44:38.134Z"
   },
   {
    "duration": 18,
    "start_time": "2021-10-27T08:44:38.158Z"
   },
   {
    "duration": 31,
    "start_time": "2021-10-27T08:44:38.178Z"
   },
   {
    "duration": 62,
    "start_time": "2021-10-27T08:44:38.212Z"
   },
   {
    "duration": 26,
    "start_time": "2021-10-27T08:44:38.276Z"
   },
   {
    "duration": 3,
    "start_time": "2021-10-27T08:44:38.306Z"
   },
   {
    "duration": 11,
    "start_time": "2021-10-27T08:44:38.312Z"
   },
   {
    "duration": 17,
    "start_time": "2021-10-27T08:44:38.326Z"
   },
   {
    "duration": 8,
    "start_time": "2021-10-27T08:44:38.346Z"
   },
   {
    "duration": 69,
    "start_time": "2021-10-27T08:44:38.356Z"
   },
   {
    "duration": 11,
    "start_time": "2021-10-27T08:44:38.428Z"
   },
   {
    "duration": 8,
    "start_time": "2021-10-27T08:44:38.442Z"
   },
   {
    "duration": 11,
    "start_time": "2021-10-27T08:44:38.453Z"
   },
   {
    "duration": 50,
    "start_time": "2021-10-27T08:44:38.466Z"
   },
   {
    "duration": 32,
    "start_time": "2021-10-27T08:44:38.518Z"
   },
   {
    "duration": 127,
    "start_time": "2021-10-27T08:44:38.552Z"
   },
   {
    "duration": 43,
    "start_time": "2021-10-27T08:47:30.088Z"
   },
   {
    "duration": 1161,
    "start_time": "2021-10-27T09:07:02.675Z"
   },
   {
    "duration": 131,
    "start_time": "2021-10-27T09:10:53.441Z"
   },
   {
    "duration": 546,
    "start_time": "2021-10-27T09:11:00.650Z"
   },
   {
    "duration": 21,
    "start_time": "2021-10-27T09:11:52.286Z"
   },
   {
    "duration": 394,
    "start_time": "2021-10-27T09:11:58.133Z"
   },
   {
    "duration": 9,
    "start_time": "2021-10-27T09:13:42.789Z"
   },
   {
    "duration": 10,
    "start_time": "2021-10-27T09:15:47.660Z"
   },
   {
    "duration": 11,
    "start_time": "2021-10-27T09:15:59.925Z"
   },
   {
    "duration": 10,
    "start_time": "2021-10-27T09:16:12.686Z"
   },
   {
    "duration": 10,
    "start_time": "2021-10-27T09:16:16.406Z"
   },
   {
    "duration": 1330,
    "start_time": "2021-10-27T09:17:07.738Z"
   },
   {
    "duration": 409,
    "start_time": "2021-10-27T09:17:13.378Z"
   },
   {
    "duration": 388,
    "start_time": "2021-10-27T09:17:27.779Z"
   },
   {
    "duration": 26,
    "start_time": "2021-10-27T09:17:32.204Z"
   },
   {
    "duration": 11,
    "start_time": "2021-10-27T09:17:50.126Z"
   },
   {
    "duration": 25,
    "start_time": "2021-10-27T09:18:05.388Z"
   },
   {
    "duration": 28,
    "start_time": "2021-10-27T09:19:15.634Z"
   },
   {
    "duration": 20,
    "start_time": "2021-10-27T09:21:51.357Z"
   },
   {
    "duration": 29,
    "start_time": "2021-10-27T09:21:56.237Z"
   },
   {
    "duration": 5,
    "start_time": "2021-10-27T09:48:22.153Z"
   },
   {
    "duration": 11,
    "start_time": "2021-10-27T09:48:22.833Z"
   },
   {
    "duration": 1022,
    "start_time": "2021-10-27T09:48:54.475Z"
   },
   {
    "duration": 11,
    "start_time": "2021-10-27T09:49:05.567Z"
   },
   {
    "duration": 1634,
    "start_time": "2021-10-27T09:50:01.276Z"
   },
   {
    "duration": 59,
    "start_time": "2021-10-27T09:50:02.947Z"
   },
   {
    "duration": 48,
    "start_time": "2021-10-27T09:50:03.010Z"
   },
   {
    "duration": 9,
    "start_time": "2021-10-27T09:50:03.061Z"
   },
   {
    "duration": 38,
    "start_time": "2021-10-27T09:50:03.073Z"
   },
   {
    "duration": 34,
    "start_time": "2021-10-27T09:50:03.114Z"
   },
   {
    "duration": 5,
    "start_time": "2021-10-27T09:50:03.152Z"
   },
   {
    "duration": 87,
    "start_time": "2021-10-27T09:50:03.160Z"
   },
   {
    "duration": 15,
    "start_time": "2021-10-27T09:50:03.249Z"
   },
   {
    "duration": 9,
    "start_time": "2021-10-27T09:50:03.267Z"
   },
   {
    "duration": 22,
    "start_time": "2021-10-27T09:50:03.279Z"
   },
   {
    "duration": 37,
    "start_time": "2021-10-27T09:50:03.303Z"
   },
   {
    "duration": 15,
    "start_time": "2021-10-27T09:50:03.342Z"
   },
   {
    "duration": 42,
    "start_time": "2021-10-27T09:50:03.359Z"
   },
   {
    "duration": 11,
    "start_time": "2021-10-27T09:50:03.404Z"
   },
   {
    "duration": 17,
    "start_time": "2021-10-27T09:50:03.418Z"
   },
   {
    "duration": 21,
    "start_time": "2021-10-27T09:50:03.437Z"
   },
   {
    "duration": 24,
    "start_time": "2021-10-27T09:50:03.461Z"
   },
   {
    "duration": 44,
    "start_time": "2021-10-27T09:50:03.501Z"
   },
   {
    "duration": 156,
    "start_time": "2021-10-27T09:50:03.547Z"
   },
   {
    "duration": 1945,
    "start_time": "2021-10-27T09:56:00.948Z"
   },
   {
    "duration": 37,
    "start_time": "2021-10-27T09:56:26.474Z"
   },
   {
    "duration": 103,
    "start_time": "2021-10-27T10:00:15.546Z"
   },
   {
    "duration": 117,
    "start_time": "2021-10-27T10:00:16.601Z"
   },
   {
    "duration": 131,
    "start_time": "2021-10-27T10:19:59.213Z"
   },
   {
    "duration": 600,
    "start_time": "2021-10-27T10:54:10.232Z"
   },
   {
    "duration": 12,
    "start_time": "2021-10-27T10:54:21.944Z"
   },
   {
    "duration": 377,
    "start_time": "2021-10-27T10:55:36.510Z"
   },
   {
    "duration": 100,
    "start_time": "2021-10-28T01:15:25.591Z"
   },
   {
    "duration": 311,
    "start_time": "2021-10-28T01:15:32.399Z"
   },
   {
    "duration": 1188,
    "start_time": "2021-10-28T01:15:40.778Z"
   },
   {
    "duration": 29,
    "start_time": "2021-10-28T01:15:41.968Z"
   },
   {
    "duration": 13,
    "start_time": "2021-10-28T01:15:42.000Z"
   },
   {
    "duration": 11,
    "start_time": "2021-10-28T01:15:42.015Z"
   },
   {
    "duration": 27,
    "start_time": "2021-10-28T01:15:42.028Z"
   },
   {
    "duration": 49,
    "start_time": "2021-10-28T01:15:42.056Z"
   },
   {
    "duration": 6,
    "start_time": "2021-10-28T01:15:42.107Z"
   },
   {
    "duration": 61,
    "start_time": "2021-10-28T01:15:42.117Z"
   },
   {
    "duration": 10,
    "start_time": "2021-10-28T01:15:42.181Z"
   },
   {
    "duration": 16,
    "start_time": "2021-10-28T01:15:42.193Z"
   },
   {
    "duration": 15,
    "start_time": "2021-10-28T01:15:42.211Z"
   },
   {
    "duration": 27,
    "start_time": "2021-10-28T01:15:42.228Z"
   },
   {
    "duration": 10,
    "start_time": "2021-10-28T01:15:42.257Z"
   },
   {
    "duration": 26,
    "start_time": "2021-10-28T01:15:42.268Z"
   },
   {
    "duration": 7,
    "start_time": "2021-10-28T01:15:42.295Z"
   },
   {
    "duration": 17,
    "start_time": "2021-10-28T01:15:42.304Z"
   },
   {
    "duration": 8,
    "start_time": "2021-10-28T01:15:42.322Z"
   },
   {
    "duration": 13,
    "start_time": "2021-10-28T01:15:42.332Z"
   },
   {
    "duration": 26,
    "start_time": "2021-10-28T01:15:42.346Z"
   },
   {
    "duration": 78,
    "start_time": "2021-10-28T01:15:42.373Z"
   },
   {
    "duration": 93,
    "start_time": "2021-10-28T01:15:42.453Z"
   },
   {
    "duration": 3457,
    "start_time": "2021-10-28T01:15:39.091Z"
   },
   {
    "duration": 3454,
    "start_time": "2021-10-28T01:15:39.095Z"
   },
   {
    "duration": 3450,
    "start_time": "2021-10-28T01:15:39.100Z"
   },
   {
    "duration": 3449,
    "start_time": "2021-10-28T01:15:39.102Z"
   },
   {
    "duration": 3448,
    "start_time": "2021-10-28T01:15:39.104Z"
   },
   {
    "duration": 3447,
    "start_time": "2021-10-28T01:15:39.106Z"
   },
   {
    "duration": 3445,
    "start_time": "2021-10-28T01:15:39.109Z"
   },
   {
    "duration": 100,
    "start_time": "2021-10-28T01:16:00.094Z"
   },
   {
    "duration": 33,
    "start_time": "2021-10-28T01:16:05.910Z"
   },
   {
    "duration": 354,
    "start_time": "2021-10-28T01:16:07.358Z"
   },
   {
    "duration": 64,
    "start_time": "2021-10-28T01:16:11.455Z"
   },
   {
    "duration": 939,
    "start_time": "2021-10-28T01:16:13.455Z"
   },
   {
    "duration": 43,
    "start_time": "2021-10-28T01:16:57.650Z"
   },
   {
    "duration": 274,
    "start_time": "2021-10-28T01:17:19.316Z"
   },
   {
    "duration": 69,
    "start_time": "2021-10-28T01:17:32.822Z"
   },
   {
    "duration": 260,
    "start_time": "2021-10-28T01:17:59.439Z"
   },
   {
    "duration": 66,
    "start_time": "2021-10-28T01:18:07.431Z"
   },
   {
    "duration": 465,
    "start_time": "2021-10-28T01:18:55.803Z"
   },
   {
    "duration": 1652,
    "start_time": "2021-10-28T01:19:27.800Z"
   },
   {
    "duration": 7,
    "start_time": "2021-10-28T01:19:36.350Z"
   },
   {
    "duration": 15,
    "start_time": "2021-10-28T01:19:42.589Z"
   },
   {
    "duration": 28,
    "start_time": "2021-10-28T01:23:08.883Z"
   },
   {
    "duration": 97,
    "start_time": "2021-10-28T01:23:10.874Z"
   },
   {
    "duration": 370,
    "start_time": "2021-10-28T01:24:02.166Z"
   },
   {
    "duration": 25,
    "start_time": "2021-10-28T01:24:18.608Z"
   },
   {
    "duration": 90,
    "start_time": "2021-10-28T01:24:20.215Z"
   },
   {
    "duration": 219,
    "start_time": "2021-10-28T01:24:22.407Z"
   },
   {
    "duration": 21,
    "start_time": "2021-10-28T01:24:28.623Z"
   },
   {
    "duration": 67,
    "start_time": "2021-10-28T01:24:29.295Z"
   },
   {
    "duration": 183,
    "start_time": "2021-10-28T01:24:30.463Z"
   },
   {
    "duration": 18,
    "start_time": "2021-10-28T01:25:00.851Z"
   },
   {
    "duration": 56,
    "start_time": "2021-10-28T01:25:01.474Z"
   },
   {
    "duration": 157,
    "start_time": "2021-10-28T01:25:02.849Z"
   },
   {
    "duration": 21,
    "start_time": "2021-10-28T01:25:08.694Z"
   },
   {
    "duration": 67,
    "start_time": "2021-10-28T01:25:09.322Z"
   },
   {
    "duration": 181,
    "start_time": "2021-10-28T01:25:10.578Z"
   },
   {
    "duration": 15,
    "start_time": "2021-10-28T01:28:02.078Z"
   },
   {
    "duration": 29,
    "start_time": "2021-10-28T01:28:02.925Z"
   },
   {
    "duration": 100,
    "start_time": "2021-10-28T01:28:03.749Z"
   },
   {
    "duration": 204,
    "start_time": "2021-10-28T01:30:00.269Z"
   },
   {
    "duration": 13,
    "start_time": "2021-10-28T01:56:38.164Z"
   },
   {
    "duration": 104,
    "start_time": "2021-10-28T01:56:39.028Z"
   },
   {
    "duration": 13,
    "start_time": "2021-10-28T01:56:39.323Z"
   },
   {
    "duration": 96,
    "start_time": "2021-10-28T01:56:40.020Z"
   },
   {
    "duration": 14,
    "start_time": "2021-10-28T01:56:49.565Z"
   },
   {
    "duration": 35,
    "start_time": "2021-10-28T01:56:49.988Z"
   },
   {
    "duration": 13,
    "start_time": "2021-10-28T01:57:05.070Z"
   },
   {
    "duration": 13,
    "start_time": "2021-10-28T01:57:05.533Z"
   },
   {
    "duration": 32,
    "start_time": "2021-10-28T01:57:06.509Z"
   },
   {
    "duration": 14,
    "start_time": "2021-10-28T01:57:14.455Z"
   },
   {
    "duration": 12,
    "start_time": "2021-10-28T01:57:15.126Z"
   },
   {
    "duration": 33,
    "start_time": "2021-10-28T01:57:16.182Z"
   },
   {
    "duration": 15,
    "start_time": "2021-10-28T01:57:21.415Z"
   },
   {
    "duration": 14,
    "start_time": "2021-10-28T01:57:21.814Z"
   },
   {
    "duration": 35,
    "start_time": "2021-10-28T01:57:22.670Z"
   },
   {
    "duration": 14,
    "start_time": "2021-10-28T01:58:43.668Z"
   },
   {
    "duration": 15,
    "start_time": "2021-10-28T01:58:50.302Z"
   },
   {
    "duration": 24,
    "start_time": "2021-10-28T01:58:55.781Z"
   },
   {
    "duration": 14,
    "start_time": "2021-10-28T01:59:25.958Z"
   },
   {
    "duration": 14,
    "start_time": "2021-10-28T02:00:08.506Z"
   },
   {
    "duration": 16,
    "start_time": "2021-10-28T02:00:10.840Z"
   },
   {
    "duration": 51,
    "start_time": "2021-10-28T02:00:12.377Z"
   },
   {
    "duration": 15,
    "start_time": "2021-10-28T02:00:37.011Z"
   },
   {
    "duration": 19,
    "start_time": "2021-10-28T02:00:40.443Z"
   },
   {
    "duration": 66,
    "start_time": "2021-10-28T02:00:41.907Z"
   },
   {
    "duration": 14,
    "start_time": "2021-10-28T02:01:05.470Z"
   },
   {
    "duration": 16,
    "start_time": "2021-10-28T02:01:06.324Z"
   },
   {
    "duration": 33,
    "start_time": "2021-10-28T02:01:07.332Z"
   },
   {
    "duration": 292,
    "start_time": "2021-10-28T02:13:19.018Z"
   },
   {
    "duration": 310,
    "start_time": "2021-10-28T02:14:52.601Z"
   },
   {
    "duration": 335,
    "start_time": "2021-10-28T02:15:08.790Z"
   },
   {
    "duration": 400,
    "start_time": "2021-10-28T02:15:15.858Z"
   },
   {
    "duration": 361,
    "start_time": "2021-10-28T02:15:21.634Z"
   },
   {
    "duration": 156,
    "start_time": "2021-10-28T02:31:08.111Z"
   },
   {
    "duration": 312,
    "start_time": "2021-10-28T02:31:22.361Z"
   },
   {
    "duration": 159,
    "start_time": "2021-10-28T02:32:57.190Z"
   },
   {
    "duration": 146,
    "start_time": "2021-10-28T02:37:26.039Z"
   },
   {
    "duration": 167,
    "start_time": "2021-10-28T02:37:32.727Z"
   },
   {
    "duration": 194,
    "start_time": "2021-10-28T02:37:36.999Z"
   },
   {
    "duration": 189,
    "start_time": "2021-10-28T02:41:55.706Z"
   },
   {
    "duration": 183,
    "start_time": "2021-10-28T02:42:09.273Z"
   },
   {
    "duration": 196,
    "start_time": "2021-10-28T02:42:15.458Z"
   },
   {
    "duration": 197,
    "start_time": "2021-10-28T02:42:20.242Z"
   },
   {
    "duration": 194,
    "start_time": "2021-10-28T02:43:01.804Z"
   },
   {
    "duration": 205,
    "start_time": "2021-10-28T02:44:56.301Z"
   },
   {
    "duration": 221,
    "start_time": "2021-10-28T02:45:02.644Z"
   },
   {
    "duration": 189,
    "start_time": "2021-10-28T02:45:06.645Z"
   },
   {
    "duration": 14,
    "start_time": "2021-10-28T02:46:42.454Z"
   },
   {
    "duration": 20,
    "start_time": "2021-10-28T02:46:44.595Z"
   },
   {
    "duration": 40,
    "start_time": "2021-10-28T02:46:45.906Z"
   },
   {
    "duration": 15,
    "start_time": "2021-10-28T02:46:59.883Z"
   },
   {
    "duration": 19,
    "start_time": "2021-10-28T02:47:01.875Z"
   },
   {
    "duration": 44,
    "start_time": "2021-10-28T02:47:02.851Z"
   },
   {
    "duration": 14,
    "start_time": "2021-10-28T02:47:26.662Z"
   },
   {
    "duration": 17,
    "start_time": "2021-10-28T02:47:27.918Z"
   },
   {
    "duration": 44,
    "start_time": "2021-10-28T02:47:29.630Z"
   },
   {
    "duration": 65,
    "start_time": "2021-10-28T02:52:39.594Z"
   },
   {
    "duration": 184,
    "start_time": "2021-10-28T02:52:40.505Z"
   },
   {
    "duration": 187,
    "start_time": "2021-10-28T02:52:41.634Z"
   },
   {
    "duration": 15,
    "start_time": "2021-10-28T02:52:44.042Z"
   },
   {
    "duration": 15,
    "start_time": "2021-10-28T02:52:55.170Z"
   },
   {
    "duration": 46,
    "start_time": "2021-10-28T02:52:56.171Z"
   },
   {
    "duration": 18196,
    "start_time": "2021-10-28T03:18:58.400Z"
   },
   {
    "duration": 272,
    "start_time": "2021-10-28T03:19:52.747Z"
   },
   {
    "duration": 4,
    "start_time": "2021-10-28T03:20:05.836Z"
   },
   {
    "duration": 76,
    "start_time": "2021-10-28T03:22:25.709Z"
   },
   {
    "duration": 102,
    "start_time": "2021-10-28T03:23:33.865Z"
   },
   {
    "duration": 186,
    "start_time": "2021-10-28T03:23:56.276Z"
   },
   {
    "duration": 106,
    "start_time": "2021-10-28T03:24:47.574Z"
   },
   {
    "duration": 446,
    "start_time": "2021-10-28T03:25:53.403Z"
   },
   {
    "duration": 481,
    "start_time": "2021-10-28T03:26:14.005Z"
   },
   {
    "duration": 183413,
    "start_time": "2021-10-28T03:32:15.132Z"
   },
   {
    "duration": 4,
    "start_time": "2021-10-28T03:37:14.319Z"
   },
   {
    "duration": 98,
    "start_time": "2021-10-28T03:38:13.922Z"
   },
   {
    "duration": 397,
    "start_time": "2021-10-28T03:38:33.876Z"
   },
   {
    "duration": 315,
    "start_time": "2021-10-28T03:39:18.351Z"
   },
   {
    "duration": 181137,
    "start_time": "2021-10-28T03:41:38.440Z"
   },
   {
    "duration": 4,
    "start_time": "2021-10-28T03:47:09.396Z"
   },
   {
    "duration": 393,
    "start_time": "2021-10-28T03:47:20.910Z"
   },
   {
    "duration": 65134,
    "start_time": "2021-10-28T03:47:38.686Z"
   },
   {
    "duration": 4,
    "start_time": "2021-10-28T03:49:11.323Z"
   },
   {
    "duration": 148,
    "start_time": "2021-10-28T03:49:26.943Z"
   },
   {
    "duration": 66257,
    "start_time": "2021-10-28T03:50:01.608Z"
   },
   {
    "duration": 2,
    "start_time": "2021-10-28T03:51:41.815Z"
   },
   {
    "duration": 12,
    "start_time": "2021-10-28T03:51:42.119Z"
   },
   {
    "duration": 12,
    "start_time": "2021-10-28T03:52:06.024Z"
   },
   {
    "duration": 176,
    "start_time": "2021-10-28T03:53:42.535Z"
   },
   {
    "duration": 484,
    "start_time": "2021-10-28T03:53:50.655Z"
   },
   {
    "duration": 493,
    "start_time": "2021-10-28T03:53:56.824Z"
   },
   {
    "duration": 13076,
    "start_time": "2021-10-28T03:55:14.668Z"
   },
   {
    "duration": 4,
    "start_time": "2021-10-28T03:58:28.073Z"
   },
   {
    "duration": 3,
    "start_time": "2021-10-28T04:02:47.989Z"
   },
   {
    "duration": 1114735,
    "start_time": "2021-10-28T04:02:55.337Z"
   },
   {
    "duration": 8,
    "start_time": "2021-10-28T04:21:30.074Z"
   },
   {
    "duration": 8,
    "start_time": "2021-10-28T04:21:30.084Z"
   },
   {
    "duration": 14,
    "start_time": "2021-10-28T04:21:30.094Z"
   },
   {
    "duration": 96,
    "start_time": "2021-10-28T04:21:30.110Z"
   },
   {
    "duration": 4,
    "start_time": "2021-10-28T04:23:34.408Z"
   },
   {
    "duration": 709,
    "start_time": "2021-10-28T04:25:19.728Z"
   },
   {
    "duration": 881,
    "start_time": "2021-10-28T04:25:30.552Z"
   },
   {
    "duration": 92,
    "start_time": "2021-10-28T04:26:42.084Z"
   },
   {
    "duration": 704,
    "start_time": "2021-10-28T04:26:49.205Z"
   },
   {
    "duration": 454,
    "start_time": "2021-10-28T04:27:03.718Z"
   },
   {
    "duration": 178,
    "start_time": "2021-10-28T04:28:03.946Z"
   },
   {
    "duration": 214,
    "start_time": "2021-10-28T04:28:05.625Z"
   },
   {
    "duration": 120,
    "start_time": "2021-10-28T04:30:06.649Z"
   },
   {
    "duration": 2,
    "start_time": "2021-10-28T04:34:39.827Z"
   },
   {
    "duration": 3795,
    "start_time": "2021-10-28T04:34:42.667Z"
   },
   {
    "duration": 4,
    "start_time": "2021-10-28T04:34:53.804Z"
   },
   {
    "duration": 315,
    "start_time": "2021-10-28T04:35:28.048Z"
   },
   {
    "duration": 360,
    "start_time": "2021-10-28T04:35:34.375Z"
   },
   {
    "duration": 3,
    "start_time": "2021-10-28T04:37:05.861Z"
   },
   {
    "duration": 25,
    "start_time": "2021-10-28T04:37:06.141Z"
   },
   {
    "duration": 20,
    "start_time": "2021-10-28T04:37:08.911Z"
   },
   {
    "duration": 23,
    "start_time": "2021-10-28T04:37:37.545Z"
   },
   {
    "duration": 411,
    "start_time": "2021-10-28T04:39:58.799Z"
   },
   {
    "duration": 14,
    "start_time": "2021-10-28T04:48:32.017Z"
   },
   {
    "duration": 20,
    "start_time": "2021-10-28T04:50:04.585Z"
   },
   {
    "duration": 4,
    "start_time": "2021-10-28T04:54:10.358Z"
   },
   {
    "duration": 1351,
    "start_time": "2021-10-28T04:54:34.614Z"
   },
   {
    "duration": 30,
    "start_time": "2021-10-28T04:54:35.968Z"
   },
   {
    "duration": 14,
    "start_time": "2021-10-28T04:54:36.000Z"
   },
   {
    "duration": 10,
    "start_time": "2021-10-28T04:54:36.016Z"
   },
   {
    "duration": 15,
    "start_time": "2021-10-28T04:54:36.028Z"
   },
   {
    "duration": 27,
    "start_time": "2021-10-28T04:54:36.045Z"
   },
   {
    "duration": 4,
    "start_time": "2021-10-28T04:54:36.074Z"
   },
   {
    "duration": 45,
    "start_time": "2021-10-28T04:54:36.081Z"
   },
   {
    "duration": 10,
    "start_time": "2021-10-28T04:54:36.144Z"
   },
   {
    "duration": 3,
    "start_time": "2021-10-28T04:54:36.158Z"
   },
   {
    "duration": 7,
    "start_time": "2021-10-28T04:54:36.164Z"
   },
   {
    "duration": 12,
    "start_time": "2021-10-28T04:54:36.173Z"
   },
   {
    "duration": 11,
    "start_time": "2021-10-28T04:54:36.187Z"
   },
   {
    "duration": 56,
    "start_time": "2021-10-28T04:54:36.200Z"
   },
   {
    "duration": 8,
    "start_time": "2021-10-28T04:54:36.258Z"
   },
   {
    "duration": 5,
    "start_time": "2021-10-28T04:54:36.268Z"
   },
   {
    "duration": 11,
    "start_time": "2021-10-28T04:54:36.274Z"
   },
   {
    "duration": 20,
    "start_time": "2021-10-28T04:54:36.286Z"
   },
   {
    "duration": 40,
    "start_time": "2021-10-28T04:54:36.307Z"
   },
   {
    "duration": 31,
    "start_time": "2021-10-28T04:54:36.349Z"
   },
   {
    "duration": 112,
    "start_time": "2021-10-28T04:54:36.445Z"
   },
   {
    "duration": 236,
    "start_time": "2021-10-28T04:54:36.560Z"
   },
   {
    "duration": 90,
    "start_time": "2021-10-28T04:54:36.800Z"
   },
   {
    "duration": 7,
    "start_time": "2021-10-28T04:54:36.892Z"
   },
   {
    "duration": 18,
    "start_time": "2021-10-28T04:54:36.901Z"
   },
   {
    "duration": 53,
    "start_time": "2021-10-28T04:54:36.920Z"
   },
   {
    "duration": 258,
    "start_time": "2021-10-28T04:54:36.974Z"
   },
   {
    "duration": 131,
    "start_time": "2021-10-28T04:54:37.234Z"
   },
   {
    "duration": 13,
    "start_time": "2021-10-28T04:54:37.367Z"
   },
   {
    "duration": 65,
    "start_time": "2021-10-28T04:54:37.382Z"
   },
   {
    "duration": 144,
    "start_time": "2021-10-28T04:54:37.450Z"
   },
   {
    "duration": 249,
    "start_time": "2021-10-28T04:54:37.596Z"
   },
   {
    "duration": 402,
    "start_time": "2021-10-28T04:54:37.847Z"
   },
   {
    "duration": 172,
    "start_time": "2021-10-28T04:54:38.251Z"
   },
   {
    "duration": 333,
    "start_time": "2021-10-28T04:54:38.425Z"
   },
   {
    "duration": 90,
    "start_time": "2021-10-28T04:54:38.760Z"
   },
   {
    "duration": 3570,
    "start_time": "2021-10-28T04:54:35.283Z"
   },
   {
    "duration": 3565,
    "start_time": "2021-10-28T04:54:35.289Z"
   },
   {
    "duration": 3560,
    "start_time": "2021-10-28T04:54:35.296Z"
   },
   {
    "duration": 3556,
    "start_time": "2021-10-28T04:54:35.301Z"
   },
   {
    "duration": 3543,
    "start_time": "2021-10-28T04:54:35.315Z"
   },
   {
    "duration": 3540,
    "start_time": "2021-10-28T04:54:35.320Z"
   },
   {
    "duration": 3536,
    "start_time": "2021-10-28T04:54:35.325Z"
   },
   {
    "duration": 3535,
    "start_time": "2021-10-28T04:54:35.328Z"
   },
   {
    "duration": 3533,
    "start_time": "2021-10-28T04:54:35.331Z"
   },
   {
    "duration": 3533,
    "start_time": "2021-10-28T04:54:35.333Z"
   },
   {
    "duration": 3530,
    "start_time": "2021-10-28T04:54:35.337Z"
   },
   {
    "duration": 3529,
    "start_time": "2021-10-28T04:54:35.339Z"
   },
   {
    "duration": 3527,
    "start_time": "2021-10-28T04:54:35.342Z"
   },
   {
    "duration": 3525,
    "start_time": "2021-10-28T04:54:35.345Z"
   },
   {
    "duration": 3516,
    "start_time": "2021-10-28T04:54:35.355Z"
   },
   {
    "duration": 3514,
    "start_time": "2021-10-28T04:54:35.358Z"
   },
   {
    "duration": 16957,
    "start_time": "2021-10-28T04:56:20.798Z"
   },
   {
    "duration": 4,
    "start_time": "2021-10-28T04:56:37.758Z"
   },
   {
    "duration": 82,
    "start_time": "2021-10-28T04:56:37.763Z"
   },
   {
    "duration": 566,
    "start_time": "2021-10-28T04:56:37.847Z"
   },
   {
    "duration": 3,
    "start_time": "2021-10-28T04:56:38.414Z"
   },
   {
    "duration": 3707,
    "start_time": "2021-10-28T04:56:38.419Z"
   },
   {
    "duration": 3,
    "start_time": "2021-10-28T04:56:42.127Z"
   },
   {
    "duration": 307,
    "start_time": "2021-10-28T04:56:42.133Z"
   },
   {
    "duration": 393,
    "start_time": "2021-10-28T04:56:42.444Z"
   },
   {
    "duration": 6,
    "start_time": "2021-10-28T04:56:42.844Z"
   },
   {
    "duration": 96,
    "start_time": "2021-10-28T04:56:42.852Z"
   },
   {
    "duration": 121,
    "start_time": "2021-10-28T04:56:42.951Z"
   },
   {
    "duration": 8,
    "start_time": "2021-10-28T04:56:43.073Z"
   },
   {
    "duration": 7,
    "start_time": "2021-10-28T04:56:43.082Z"
   },
   {
    "duration": 14,
    "start_time": "2021-10-28T04:56:43.090Z"
   },
   {
    "duration": 9,
    "start_time": "2021-10-28T04:56:43.105Z"
   },
   {
    "duration": 496,
    "start_time": "2021-10-28T05:18:33.677Z"
   },
   {
    "duration": 513,
    "start_time": "2021-10-28T05:19:44.555Z"
   },
   {
    "duration": 7,
    "start_time": "2021-10-28T05:19:49.905Z"
   },
   {
    "duration": 11,
    "start_time": "2021-10-28T05:19:54.353Z"
   },
   {
    "duration": 9,
    "start_time": "2021-10-28T05:21:25.639Z"
   },
   {
    "duration": 9,
    "start_time": "2021-10-28T05:26:32.452Z"
   },
   {
    "duration": 4,
    "start_time": "2021-10-28T05:26:33.011Z"
   },
   {
    "duration": 14,
    "start_time": "2021-10-28T05:26:33.251Z"
   },
   {
    "duration": 340,
    "start_time": "2021-10-28T05:28:20.657Z"
   },
   {
    "duration": 302,
    "start_time": "2021-10-28T05:45:12.379Z"
   },
   {
    "duration": 288,
    "start_time": "2021-10-28T05:45:41.772Z"
   },
   {
    "duration": 323,
    "start_time": "2021-10-28T05:46:54.357Z"
   },
   {
    "duration": 7,
    "start_time": "2021-10-28T05:47:29.691Z"
   },
   {
    "duration": 285,
    "start_time": "2021-10-28T05:47:36.235Z"
   },
   {
    "duration": 9,
    "start_time": "2021-10-28T05:47:46.132Z"
   },
   {
    "duration": 299,
    "start_time": "2021-10-28T05:48:25.230Z"
   },
   {
    "duration": 423,
    "start_time": "2021-10-28T05:48:36.424Z"
   },
   {
    "duration": 388,
    "start_time": "2021-10-28T05:49:13.914Z"
   },
   {
    "duration": 383,
    "start_time": "2021-10-28T05:49:24.411Z"
   },
   {
    "duration": 319,
    "start_time": "2021-10-28T05:49:39.084Z"
   },
   {
    "duration": 367,
    "start_time": "2021-10-28T05:49:52.729Z"
   },
   {
    "duration": 358,
    "start_time": "2021-10-28T05:50:00.444Z"
   },
   {
    "duration": 314,
    "start_time": "2021-10-28T06:47:54.891Z"
   },
   {
    "duration": 280,
    "start_time": "2021-10-28T06:48:06.604Z"
   },
   {
    "duration": 114,
    "start_time": "2021-10-28T06:50:13.509Z"
   },
   {
    "duration": 20,
    "start_time": "2021-10-28T06:51:06.671Z"
   },
   {
    "duration": 1195,
    "start_time": "2021-10-28T06:54:01.886Z"
   },
   {
    "duration": 30,
    "start_time": "2021-10-28T06:54:03.083Z"
   },
   {
    "duration": 14,
    "start_time": "2021-10-28T06:54:03.114Z"
   },
   {
    "duration": 11,
    "start_time": "2021-10-28T06:54:03.130Z"
   },
   {
    "duration": 23,
    "start_time": "2021-10-28T06:54:03.142Z"
   },
   {
    "duration": 27,
    "start_time": "2021-10-28T06:54:03.166Z"
   },
   {
    "duration": 4,
    "start_time": "2021-10-28T06:54:03.194Z"
   },
   {
    "duration": 48,
    "start_time": "2021-10-28T06:54:03.200Z"
   },
   {
    "duration": 9,
    "start_time": "2021-10-28T06:54:03.250Z"
   },
   {
    "duration": 6,
    "start_time": "2021-10-28T06:54:03.261Z"
   },
   {
    "duration": 12,
    "start_time": "2021-10-28T06:54:03.268Z"
   },
   {
    "duration": 19,
    "start_time": "2021-10-28T06:54:03.282Z"
   },
   {
    "duration": 6,
    "start_time": "2021-10-28T06:54:03.303Z"
   },
   {
    "duration": 35,
    "start_time": "2021-10-28T06:54:03.311Z"
   },
   {
    "duration": 8,
    "start_time": "2021-10-28T06:54:03.347Z"
   },
   {
    "duration": 11,
    "start_time": "2021-10-28T06:54:03.357Z"
   },
   {
    "duration": 8,
    "start_time": "2021-10-28T06:54:03.370Z"
   },
   {
    "duration": 13,
    "start_time": "2021-10-28T06:54:03.380Z"
   },
   {
    "duration": 31,
    "start_time": "2021-10-28T06:54:03.394Z"
   },
   {
    "duration": 118,
    "start_time": "2021-10-28T06:54:03.426Z"
   },
   {
    "duration": 115,
    "start_time": "2021-10-28T06:54:03.547Z"
   },
   {
    "duration": 237,
    "start_time": "2021-10-28T06:54:03.665Z"
   },
   {
    "duration": 85,
    "start_time": "2021-10-28T06:54:03.906Z"
   },
   {
    "duration": 346,
    "start_time": "2021-10-28T06:54:03.993Z"
   },
   {
    "duration": 7,
    "start_time": "2021-10-28T06:54:04.344Z"
   },
   {
    "duration": 19,
    "start_time": "2021-10-28T06:54:04.353Z"
   },
   {
    "duration": 74,
    "start_time": "2021-10-28T06:54:04.373Z"
   },
   {
    "duration": 203,
    "start_time": "2021-10-28T06:54:04.450Z"
   },
   {
    "duration": 115,
    "start_time": "2021-10-28T06:54:04.655Z"
   },
   {
    "duration": 13,
    "start_time": "2021-10-28T06:54:04.772Z"
   },
   {
    "duration": 62,
    "start_time": "2021-10-28T06:54:04.786Z"
   },
   {
    "duration": 137,
    "start_time": "2021-10-28T06:54:04.851Z"
   },
   {
    "duration": 237,
    "start_time": "2021-10-28T06:54:04.990Z"
   },
   {
    "duration": 378,
    "start_time": "2021-10-28T06:54:05.245Z"
   },
   {
    "duration": 157,
    "start_time": "2021-10-28T06:54:05.625Z"
   },
   {
    "duration": 320,
    "start_time": "2021-10-28T06:54:05.784Z"
   },
   {
    "duration": 14450,
    "start_time": "2021-10-28T06:54:06.106Z"
   },
   {
    "duration": 4,
    "start_time": "2021-10-28T06:54:20.558Z"
   },
   {
    "duration": 83,
    "start_time": "2021-10-28T06:54:20.563Z"
   },
   {
    "duration": 597,
    "start_time": "2021-10-28T06:54:20.648Z"
   },
   {
    "duration": 2,
    "start_time": "2021-10-28T06:54:21.247Z"
   },
   {
    "duration": 3788,
    "start_time": "2021-10-28T06:54:21.251Z"
   },
   {
    "duration": 4,
    "start_time": "2021-10-28T06:54:25.044Z"
   },
   {
    "duration": 133,
    "start_time": "2021-10-28T06:54:25.050Z"
   },
   {
    "duration": 403,
    "start_time": "2021-10-28T06:54:25.185Z"
   },
   {
    "duration": 3,
    "start_time": "2021-10-28T06:54:25.590Z"
   },
   {
    "duration": 53,
    "start_time": "2021-10-28T06:54:25.595Z"
   },
   {
    "duration": 113,
    "start_time": "2021-10-28T06:54:25.650Z"
   },
   {
    "duration": 8,
    "start_time": "2021-10-28T06:54:25.765Z"
   },
   {
    "duration": 21,
    "start_time": "2021-10-28T06:54:25.775Z"
   },
   {
    "duration": 23,
    "start_time": "2021-10-28T06:54:25.798Z"
   },
   {
    "duration": 4,
    "start_time": "2021-10-28T06:54:25.823Z"
   },
   {
    "duration": 21,
    "start_time": "2021-10-28T06:54:25.829Z"
   },
   {
    "duration": 11,
    "start_time": "2021-10-28T06:58:04.070Z"
   },
   {
    "duration": 1383,
    "start_time": "2021-10-28T08:18:50.710Z"
   },
   {
    "duration": 873,
    "start_time": "2021-10-28T08:19:47.918Z"
   },
   {
    "duration": 898,
    "start_time": "2021-10-28T08:21:54.407Z"
   },
   {
    "duration": 96,
    "start_time": "2021-10-28T08:22:55.851Z"
   },
   {
    "duration": 1299,
    "start_time": "2021-10-28T08:24:16.202Z"
   },
   {
    "duration": 29,
    "start_time": "2021-10-28T08:24:17.503Z"
   },
   {
    "duration": 14,
    "start_time": "2021-10-28T08:24:17.534Z"
   },
   {
    "duration": 4,
    "start_time": "2021-10-28T08:24:17.550Z"
   },
   {
    "duration": 13,
    "start_time": "2021-10-28T08:24:17.555Z"
   },
   {
    "duration": 21,
    "start_time": "2021-10-28T08:24:17.570Z"
   },
   {
    "duration": 3,
    "start_time": "2021-10-28T08:24:17.593Z"
   },
   {
    "duration": 57,
    "start_time": "2021-10-28T08:24:17.600Z"
   },
   {
    "duration": 9,
    "start_time": "2021-10-28T08:24:17.660Z"
   },
   {
    "duration": 2,
    "start_time": "2021-10-28T08:24:17.672Z"
   },
   {
    "duration": 7,
    "start_time": "2021-10-28T08:24:17.676Z"
   },
   {
    "duration": 12,
    "start_time": "2021-10-28T08:24:17.685Z"
   },
   {
    "duration": 836,
    "start_time": "2021-10-28T08:24:17.700Z"
   },
   {
    "duration": 7,
    "start_time": "2021-10-28T08:24:18.538Z"
   },
   {
    "duration": 18,
    "start_time": "2021-10-28T08:24:18.546Z"
   },
   {
    "duration": 7,
    "start_time": "2021-10-28T08:24:18.566Z"
   },
   {
    "duration": 3,
    "start_time": "2021-10-28T08:24:18.575Z"
   },
   {
    "duration": 8,
    "start_time": "2021-10-28T08:24:18.580Z"
   },
   {
    "duration": 12,
    "start_time": "2021-10-28T08:24:18.589Z"
   },
   {
    "duration": 58,
    "start_time": "2021-10-28T08:24:18.603Z"
   },
   {
    "duration": 20,
    "start_time": "2021-10-28T08:24:18.663Z"
   },
   {
    "duration": 114,
    "start_time": "2021-10-28T08:24:18.745Z"
   },
   {
    "duration": 236,
    "start_time": "2021-10-28T08:24:18.864Z"
   },
   {
    "duration": 81,
    "start_time": "2021-10-28T08:24:19.103Z"
   },
   {
    "duration": 364,
    "start_time": "2021-10-28T08:24:19.186Z"
   },
   {
    "duration": 8,
    "start_time": "2021-10-28T08:24:19.551Z"
   },
   {
    "duration": 31,
    "start_time": "2021-10-28T08:24:19.560Z"
   },
   {
    "duration": 57,
    "start_time": "2021-10-28T08:24:19.593Z"
   },
   {
    "duration": 293,
    "start_time": "2021-10-28T08:24:19.653Z"
   },
   {
    "duration": 125,
    "start_time": "2021-10-28T08:24:19.948Z"
   },
   {
    "duration": 15,
    "start_time": "2021-10-28T08:24:20.074Z"
   },
   {
    "duration": 58,
    "start_time": "2021-10-28T08:24:20.090Z"
   },
   {
    "duration": 140,
    "start_time": "2021-10-28T08:24:20.151Z"
   },
   {
    "duration": 232,
    "start_time": "2021-10-28T08:24:20.293Z"
   },
   {
    "duration": 402,
    "start_time": "2021-10-28T08:24:20.528Z"
   },
   {
    "duration": 170,
    "start_time": "2021-10-28T08:24:20.932Z"
   },
   {
    "duration": 491,
    "start_time": "2021-10-28T08:24:21.105Z"
   },
   {
    "duration": 14361,
    "start_time": "2021-10-28T08:24:21.598Z"
   },
   {
    "duration": 4,
    "start_time": "2021-10-28T08:24:35.961Z"
   },
   {
    "duration": 79,
    "start_time": "2021-10-28T08:24:35.967Z"
   },
   {
    "duration": 695,
    "start_time": "2021-10-28T08:24:36.048Z"
   },
   {
    "duration": 2,
    "start_time": "2021-10-28T08:24:36.745Z"
   },
   {
    "duration": 3757,
    "start_time": "2021-10-28T08:24:36.749Z"
   },
   {
    "duration": 5,
    "start_time": "2021-10-28T08:24:40.508Z"
   },
   {
    "duration": 137,
    "start_time": "2021-10-28T08:24:40.514Z"
   },
   {
    "duration": 403,
    "start_time": "2021-10-28T08:24:40.653Z"
   },
   {
    "duration": 3,
    "start_time": "2021-10-28T08:24:41.057Z"
   },
   {
    "duration": 83,
    "start_time": "2021-10-28T08:24:41.062Z"
   },
   {
    "duration": 109,
    "start_time": "2021-10-28T08:24:41.147Z"
   },
   {
    "duration": 8,
    "start_time": "2021-10-28T08:24:41.258Z"
   },
   {
    "duration": 14,
    "start_time": "2021-10-28T08:24:41.267Z"
   },
   {
    "duration": 14,
    "start_time": "2021-10-28T08:24:41.283Z"
   },
   {
    "duration": 4,
    "start_time": "2021-10-28T08:24:41.299Z"
   },
   {
    "duration": 45,
    "start_time": "2021-10-28T08:24:41.305Z"
   },
   {
    "duration": 3525,
    "start_time": "2021-10-28T08:29:21.632Z"
   },
   {
    "duration": 205,
    "start_time": "2021-10-28T09:58:15.000Z"
   },
   {
    "duration": 328,
    "start_time": "2021-10-28T09:58:22.135Z"
   },
   {
    "duration": 150,
    "start_time": "2021-10-28T09:58:26.608Z"
   },
   {
    "duration": 111,
    "start_time": "2021-10-28T10:00:25.600Z"
   },
   {
    "duration": 14,
    "start_time": "2021-10-28T10:04:28.072Z"
   },
   {
    "duration": 18,
    "start_time": "2021-10-28T10:04:28.926Z"
   },
   {
    "duration": 35,
    "start_time": "2021-10-28T10:04:30.493Z"
   },
   {
    "duration": 15,
    "start_time": "2021-10-28T10:04:47.077Z"
   },
   {
    "duration": 16,
    "start_time": "2021-10-28T10:04:47.710Z"
   },
   {
    "duration": 50,
    "start_time": "2021-10-28T10:04:49.184Z"
   },
   {
    "duration": 14,
    "start_time": "2021-10-28T10:05:33.675Z"
   },
   {
    "duration": 56,
    "start_time": "2021-10-28T10:05:34.394Z"
   },
   {
    "duration": 42,
    "start_time": "2021-10-28T10:05:35.242Z"
   },
   {
    "duration": 14,
    "start_time": "2021-10-28T10:05:40.891Z"
   },
   {
    "duration": 15,
    "start_time": "2021-10-28T10:05:41.530Z"
   },
   {
    "duration": 43,
    "start_time": "2021-10-28T10:05:42.387Z"
   },
   {
    "duration": 15,
    "start_time": "2021-10-28T10:05:58.780Z"
   },
   {
    "duration": 16,
    "start_time": "2021-10-28T10:05:59.154Z"
   },
   {
    "duration": 52,
    "start_time": "2021-10-28T10:06:00.083Z"
   },
   {
    "duration": 17,
    "start_time": "2021-10-28T10:10:22.245Z"
   },
   {
    "duration": 16,
    "start_time": "2021-10-28T10:10:24.133Z"
   },
   {
    "duration": 49,
    "start_time": "2021-10-28T10:10:25.228Z"
   },
   {
    "duration": 14,
    "start_time": "2021-10-28T10:15:42.745Z"
   },
   {
    "duration": 8,
    "start_time": "2021-10-28T10:15:43.641Z"
   },
   {
    "duration": 5,
    "start_time": "2021-10-28T10:15:44.153Z"
   },
   {
    "duration": 13,
    "start_time": "2021-10-28T10:15:44.874Z"
   },
   {
    "duration": 1520,
    "start_time": "2021-10-29T02:29:13.730Z"
   },
   {
    "duration": 38,
    "start_time": "2021-10-29T02:29:15.894Z"
   },
   {
    "duration": 23,
    "start_time": "2021-10-29T02:29:16.557Z"
   },
   {
    "duration": 4,
    "start_time": "2021-10-29T02:29:16.813Z"
   },
   {
    "duration": 12,
    "start_time": "2021-10-29T02:29:17.606Z"
   },
   {
    "duration": 31,
    "start_time": "2021-10-29T02:29:18.408Z"
   },
   {
    "duration": 6,
    "start_time": "2021-10-29T02:29:18.964Z"
   },
   {
    "duration": 55,
    "start_time": "2021-10-29T02:29:23.330Z"
   },
   {
    "duration": 1543,
    "start_time": "2021-10-29T02:31:23.302Z"
   },
   {
    "duration": 36,
    "start_time": "2021-10-29T02:31:24.848Z"
   },
   {
    "duration": 21,
    "start_time": "2021-10-29T02:31:24.887Z"
   },
   {
    "duration": 12,
    "start_time": "2021-10-29T02:31:24.911Z"
   },
   {
    "duration": 17,
    "start_time": "2021-10-29T02:31:24.926Z"
   },
   {
    "duration": 32,
    "start_time": "2021-10-29T02:31:24.946Z"
   },
   {
    "duration": 6,
    "start_time": "2021-10-29T02:31:24.980Z"
   },
   {
    "duration": 57,
    "start_time": "2021-10-29T02:31:25.025Z"
   },
   {
    "duration": 37,
    "start_time": "2021-10-29T02:31:25.085Z"
   },
   {
    "duration": 6638,
    "start_time": "2021-10-29T02:31:25.125Z"
   },
   {
    "duration": 6,
    "start_time": "2021-10-29T02:31:31.766Z"
   },
   {
    "duration": 20,
    "start_time": "2021-10-29T02:31:31.774Z"
   },
   {
    "duration": 1217,
    "start_time": "2021-10-29T02:31:31.796Z"
   },
   {
    "duration": 7,
    "start_time": "2021-10-29T02:31:33.023Z"
   },
   {
    "duration": 39,
    "start_time": "2021-10-29T02:31:33.033Z"
   },
   {
    "duration": 11,
    "start_time": "2021-10-29T02:31:33.074Z"
   },
   {
    "duration": 5,
    "start_time": "2021-10-29T02:31:33.088Z"
   },
   {
    "duration": 10,
    "start_time": "2021-10-29T02:31:33.123Z"
   },
   {
    "duration": 26,
    "start_time": "2021-10-29T02:31:33.135Z"
   },
   {
    "duration": 44,
    "start_time": "2021-10-29T02:31:33.163Z"
   },
   {
    "duration": 122,
    "start_time": "2021-10-29T02:31:33.223Z"
   },
   {
    "duration": 106,
    "start_time": "2021-10-29T02:31:33.423Z"
   },
   {
    "duration": 207,
    "start_time": "2021-10-29T02:31:33.537Z"
   },
   {
    "duration": 101,
    "start_time": "2021-10-29T02:31:33.747Z"
   },
   {
    "duration": 498,
    "start_time": "2021-10-29T02:31:33.851Z"
   },
   {
    "duration": 11,
    "start_time": "2021-10-29T02:31:34.351Z"
   },
   {
    "duration": 23,
    "start_time": "2021-10-29T02:31:34.364Z"
   },
   {
    "duration": 133,
    "start_time": "2021-10-29T02:31:34.390Z"
   },
   {
    "duration": 251,
    "start_time": "2021-10-29T02:31:34.526Z"
   },
   {
    "duration": 146,
    "start_time": "2021-10-29T02:31:34.780Z"
   },
   {
    "duration": 95,
    "start_time": "2021-10-29T02:31:34.929Z"
   },
   {
    "duration": 159,
    "start_time": "2021-10-29T02:31:35.027Z"
   },
   {
    "duration": 357,
    "start_time": "2021-10-29T02:31:35.188Z"
   },
   {
    "duration": 613,
    "start_time": "2021-10-29T02:31:35.548Z"
   },
   {
    "duration": 230,
    "start_time": "2021-10-29T02:31:36.164Z"
   },
   {
    "duration": 501,
    "start_time": "2021-10-29T02:31:36.397Z"
   },
   {
    "duration": 14450,
    "start_time": "2021-10-29T02:31:36.901Z"
   },
   {
    "duration": 6,
    "start_time": "2021-10-29T02:31:51.354Z"
   },
   {
    "duration": 84,
    "start_time": "2021-10-29T02:31:51.362Z"
   },
   {
    "duration": 894,
    "start_time": "2021-10-29T02:31:51.524Z"
   },
   {
    "duration": 4,
    "start_time": "2021-10-29T02:31:52.423Z"
   },
   {
    "duration": 5836,
    "start_time": "2021-10-29T02:31:52.429Z"
   },
   {
    "duration": 5,
    "start_time": "2021-10-29T02:31:58.268Z"
   },
   {
    "duration": 193,
    "start_time": "2021-10-29T02:31:58.275Z"
   },
   {
    "duration": 626,
    "start_time": "2021-10-29T02:31:58.470Z"
   },
   {
    "duration": 3,
    "start_time": "2021-10-29T02:31:59.099Z"
   },
   {
    "duration": 122,
    "start_time": "2021-10-29T02:31:59.104Z"
   },
   {
    "duration": 118,
    "start_time": "2021-10-29T02:31:59.230Z"
   },
   {
    "duration": 12,
    "start_time": "2021-10-29T02:31:59.350Z"
   },
   {
    "duration": 16,
    "start_time": "2021-10-29T02:31:59.365Z"
   },
   {
    "duration": 50,
    "start_time": "2021-10-29T02:31:59.383Z"
   },
   {
    "duration": 5,
    "start_time": "2021-10-29T02:31:59.436Z"
   },
   {
    "duration": 21,
    "start_time": "2021-10-29T02:31:59.443Z"
   },
   {
    "duration": 1060,
    "start_time": "2021-10-29T02:33:30.196Z"
   },
   {
    "duration": 6,
    "start_time": "2021-10-29T02:33:37.294Z"
   },
   {
    "duration": 69,
    "start_time": "2021-10-29T02:33:42.259Z"
   },
   {
    "duration": 1614,
    "start_time": "2021-10-29T02:53:18.748Z"
   },
   {
    "duration": 5,
    "start_time": "2021-10-29T02:53:29.877Z"
   },
   {
    "duration": 165,
    "start_time": "2021-10-29T02:53:35.736Z"
   },
   {
    "duration": 612,
    "start_time": "2021-10-29T02:53:36.766Z"
   },
   {
    "duration": 791,
    "start_time": "2021-10-29T02:53:47.221Z"
   },
   {
    "duration": 104,
    "start_time": "2021-10-29T02:53:51.919Z"
   },
   {
    "duration": 63,
    "start_time": "2021-10-29T02:54:28.560Z"
   },
   {
    "duration": 796,
    "start_time": "2021-10-29T03:00:55.385Z"
   },
   {
    "duration": 620,
    "start_time": "2021-10-29T03:05:35.677Z"
   },
   {
    "duration": 13,
    "start_time": "2021-10-29T03:07:48.027Z"
   },
   {
    "duration": 121,
    "start_time": "2021-10-29T05:15:50.331Z"
   },
   {
    "duration": 131,
    "start_time": "2021-10-29T05:16:50.919Z"
   },
   {
    "duration": 6,
    "start_time": "2021-10-29T05:19:32.060Z"
   },
   {
    "duration": 6,
    "start_time": "2021-10-29T05:19:49.785Z"
   },
   {
    "duration": 6,
    "start_time": "2021-10-29T05:20:23.209Z"
   },
   {
    "duration": 126,
    "start_time": "2021-10-29T05:21:42.483Z"
   },
   {
    "duration": 482,
    "start_time": "2021-10-29T05:22:47.922Z"
   },
   {
    "duration": 287,
    "start_time": "2021-10-29T05:23:09.178Z"
   },
   {
    "duration": 6,
    "start_time": "2021-10-29T05:23:28.453Z"
   },
   {
    "duration": 7,
    "start_time": "2021-10-29T05:23:40.936Z"
   },
   {
    "duration": 6,
    "start_time": "2021-10-29T05:24:11.783Z"
   },
   {
    "duration": 7,
    "start_time": "2021-10-29T05:29:24.361Z"
   },
   {
    "duration": 280,
    "start_time": "2021-10-29T05:30:36.429Z"
   },
   {
    "duration": 164,
    "start_time": "2021-10-29T05:30:57.624Z"
   },
   {
    "duration": 6,
    "start_time": "2021-10-29T05:31:20.361Z"
   },
   {
    "duration": 303,
    "start_time": "2021-10-29T05:31:44.495Z"
   },
   {
    "duration": 292,
    "start_time": "2021-10-29T05:32:18.242Z"
   },
   {
    "duration": 298,
    "start_time": "2021-10-29T05:32:26.691Z"
   },
   {
    "duration": 285,
    "start_time": "2021-10-29T05:32:36.520Z"
   },
   {
    "duration": 7,
    "start_time": "2021-10-29T05:32:42.643Z"
   },
   {
    "duration": 7,
    "start_time": "2021-10-29T05:33:12.413Z"
   },
   {
    "duration": 15,
    "start_time": "2021-10-29T05:35:52.963Z"
   },
   {
    "duration": 6,
    "start_time": "2021-10-29T05:38:06.141Z"
   },
   {
    "duration": 21,
    "start_time": "2021-10-29T05:41:47.063Z"
   },
   {
    "duration": 174,
    "start_time": "2021-10-29T05:50:13.613Z"
   },
   {
    "duration": 6,
    "start_time": "2021-10-29T05:50:49.713Z"
   },
   {
    "duration": 6,
    "start_time": "2021-10-29T05:51:02.814Z"
   },
   {
    "duration": 6,
    "start_time": "2021-10-29T05:51:14.343Z"
   },
   {
    "duration": 6,
    "start_time": "2021-10-29T05:51:24.206Z"
   },
   {
    "duration": 137,
    "start_time": "2021-10-29T05:57:08.969Z"
   },
   {
    "duration": 379,
    "start_time": "2021-10-29T05:57:13.612Z"
   },
   {
    "duration": 27,
    "start_time": "2021-10-29T05:57:49.390Z"
   },
   {
    "duration": 359,
    "start_time": "2021-10-29T06:12:03.666Z"
   },
   {
    "duration": 357,
    "start_time": "2021-10-29T06:13:09.955Z"
   },
   {
    "duration": 359,
    "start_time": "2021-10-29T06:13:41.278Z"
   },
   {
    "duration": 369,
    "start_time": "2021-10-29T06:14:05.864Z"
   },
   {
    "duration": 381,
    "start_time": "2021-10-29T06:14:42.640Z"
   },
   {
    "duration": 368,
    "start_time": "2021-10-29T06:15:13.659Z"
   },
   {
    "duration": 362,
    "start_time": "2021-10-29T06:15:39.099Z"
   },
   {
    "duration": 17,
    "start_time": "2021-10-29T06:22:52.615Z"
   },
   {
    "duration": 4,
    "start_time": "2021-10-29T06:52:37.847Z"
   },
   {
    "duration": 1506,
    "start_time": "2021-10-29T09:51:20.817Z"
   },
   {
    "duration": 34,
    "start_time": "2021-10-29T09:51:22.326Z"
   },
   {
    "duration": 21,
    "start_time": "2021-10-29T09:51:22.363Z"
   },
   {
    "duration": 5,
    "start_time": "2021-10-29T09:51:22.387Z"
   },
   {
    "duration": 18,
    "start_time": "2021-10-29T09:51:22.395Z"
   },
   {
    "duration": 37,
    "start_time": "2021-10-29T09:51:22.415Z"
   },
   {
    "duration": 30,
    "start_time": "2021-10-29T09:51:22.454Z"
   },
   {
    "duration": 61,
    "start_time": "2021-10-29T09:51:22.488Z"
   },
   {
    "duration": 30,
    "start_time": "2021-10-29T09:51:22.552Z"
   },
   {
    "duration": 6715,
    "start_time": "2021-10-29T09:51:22.585Z"
   },
   {
    "duration": 6,
    "start_time": "2021-10-29T09:51:29.302Z"
   },
   {
    "duration": 19,
    "start_time": "2021-10-29T09:51:29.310Z"
   },
   {
    "duration": 1255,
    "start_time": "2021-10-29T09:51:29.331Z"
   },
   {
    "duration": 8,
    "start_time": "2021-10-29T09:51:30.588Z"
   },
   {
    "duration": 31,
    "start_time": "2021-10-29T09:51:30.598Z"
   },
   {
    "duration": 10,
    "start_time": "2021-10-29T09:51:30.632Z"
   },
   {
    "duration": 45,
    "start_time": "2021-10-29T09:51:30.645Z"
   },
   {
    "duration": 13,
    "start_time": "2021-10-29T09:51:30.693Z"
   },
   {
    "duration": 21,
    "start_time": "2021-10-29T09:51:30.708Z"
   },
   {
    "duration": 52,
    "start_time": "2021-10-29T09:51:30.731Z"
   },
   {
    "duration": 98,
    "start_time": "2021-10-29T09:51:30.786Z"
   },
   {
    "duration": 196,
    "start_time": "2021-10-29T09:51:30.887Z"
   },
   {
    "duration": 207,
    "start_time": "2021-10-29T09:51:31.093Z"
   },
   {
    "duration": 109,
    "start_time": "2021-10-29T09:51:31.304Z"
   },
   {
    "duration": 499,
    "start_time": "2021-10-29T09:51:31.415Z"
   },
   {
    "duration": 11,
    "start_time": "2021-10-29T09:51:31.916Z"
   },
   {
    "duration": 24,
    "start_time": "2021-10-29T09:51:31.929Z"
   },
   {
    "duration": 127,
    "start_time": "2021-10-29T09:51:31.956Z"
   },
   {
    "duration": 258,
    "start_time": "2021-10-29T09:51:32.086Z"
   },
   {
    "duration": 142,
    "start_time": "2021-10-29T09:51:32.346Z"
   },
   {
    "duration": 95,
    "start_time": "2021-10-29T09:51:32.491Z"
   },
   {
    "duration": 153,
    "start_time": "2021-10-29T09:51:32.589Z"
   },
   {
    "duration": 405,
    "start_time": "2021-10-29T09:51:32.745Z"
   },
   {
    "duration": 606,
    "start_time": "2021-10-29T09:51:33.152Z"
   },
   {
    "duration": 234,
    "start_time": "2021-10-29T09:51:33.761Z"
   },
   {
    "duration": 520,
    "start_time": "2021-10-29T09:51:33.997Z"
   },
   {
    "duration": 992,
    "start_time": "2021-10-29T09:51:34.519Z"
   },
   {
    "duration": 5,
    "start_time": "2021-10-29T09:51:35.514Z"
   },
   {
    "duration": 80,
    "start_time": "2021-10-29T09:51:35.522Z"
   },
   {
    "duration": 881,
    "start_time": "2021-10-29T09:51:35.683Z"
   },
   {
    "duration": 5,
    "start_time": "2021-10-29T09:51:36.566Z"
   },
   {
    "duration": 1640,
    "start_time": "2021-10-29T09:51:36.582Z"
   },
   {
    "duration": 5,
    "start_time": "2021-10-29T09:51:38.224Z"
   },
   {
    "duration": 192,
    "start_time": "2021-10-29T09:51:38.231Z"
   },
   {
    "duration": 645,
    "start_time": "2021-10-29T09:51:38.425Z"
   },
   {
    "duration": 11,
    "start_time": "2021-10-29T09:51:39.072Z"
   },
   {
    "duration": 97,
    "start_time": "2021-10-29T09:51:39.085Z"
   },
   {
    "duration": 896,
    "start_time": "2021-10-29T09:51:39.186Z"
   },
   {
    "duration": 27,
    "start_time": "2021-10-29T09:51:40.084Z"
   },
   {
    "duration": 654,
    "start_time": "2021-10-29T09:51:40.113Z"
   },
   {
    "duration": 28,
    "start_time": "2021-10-29T09:51:40.770Z"
   },
   {
    "duration": 3,
    "start_time": "2021-10-29T09:51:40.801Z"
   },
   {
    "duration": 20,
    "start_time": "2021-10-29T09:51:40.806Z"
   },
   {
    "duration": 10,
    "start_time": "2021-10-29T09:51:40.829Z"
   },
   {
    "duration": 42,
    "start_time": "2021-10-29T09:51:40.841Z"
   },
   {
    "duration": 18,
    "start_time": "2021-10-29T09:51:40.886Z"
   },
   {
    "duration": 11,
    "start_time": "2021-10-29T09:54:19.504Z"
   },
   {
    "duration": 1648,
    "start_time": "2021-10-29T09:54:28.484Z"
   },
   {
    "duration": 35,
    "start_time": "2021-10-29T09:54:30.135Z"
   },
   {
    "duration": 20,
    "start_time": "2021-10-29T09:54:30.173Z"
   },
   {
    "duration": 16,
    "start_time": "2021-10-29T09:54:30.195Z"
   },
   {
    "duration": 20,
    "start_time": "2021-10-29T09:54:30.213Z"
   },
   {
    "duration": 47,
    "start_time": "2021-10-29T09:54:30.236Z"
   },
   {
    "duration": 6,
    "start_time": "2021-10-29T09:54:30.286Z"
   },
   {
    "duration": 59,
    "start_time": "2021-10-29T09:54:30.297Z"
   },
   {
    "duration": 49,
    "start_time": "2021-10-29T09:54:30.359Z"
   },
   {
    "duration": 7196,
    "start_time": "2021-10-29T09:54:30.411Z"
   },
   {
    "duration": 7,
    "start_time": "2021-10-29T09:54:37.610Z"
   },
   {
    "duration": 22,
    "start_time": "2021-10-29T09:54:37.620Z"
   },
   {
    "duration": 1297,
    "start_time": "2021-10-29T09:54:37.644Z"
   },
   {
    "duration": 7,
    "start_time": "2021-10-29T09:54:38.943Z"
   },
   {
    "duration": 50,
    "start_time": "2021-10-29T09:54:38.953Z"
   },
   {
    "duration": 11,
    "start_time": "2021-10-29T09:54:39.005Z"
   },
   {
    "duration": 11,
    "start_time": "2021-10-29T09:54:39.018Z"
   },
   {
    "duration": 13,
    "start_time": "2021-10-29T09:54:39.031Z"
   },
   {
    "duration": 42,
    "start_time": "2021-10-29T09:54:39.046Z"
   },
   {
    "duration": 41,
    "start_time": "2021-10-29T09:54:39.091Z"
   },
   {
    "duration": 74,
    "start_time": "2021-10-29T09:54:39.135Z"
   },
   {
    "duration": 125,
    "start_time": "2021-10-29T09:54:39.284Z"
   },
   {
    "duration": 200,
    "start_time": "2021-10-29T09:54:39.492Z"
   },
   {
    "duration": 114,
    "start_time": "2021-10-29T09:54:39.695Z"
   },
   {
    "duration": 522,
    "start_time": "2021-10-29T09:54:39.812Z"
   },
   {
    "duration": 11,
    "start_time": "2021-10-29T09:54:40.336Z"
   },
   {
    "duration": 43,
    "start_time": "2021-10-29T09:54:40.349Z"
   },
   {
    "duration": 187,
    "start_time": "2021-10-29T09:54:40.395Z"
   },
   {
    "duration": 218,
    "start_time": "2021-10-29T09:54:40.585Z"
   },
   {
    "duration": 197,
    "start_time": "2021-10-29T09:54:40.806Z"
   },
   {
    "duration": 78,
    "start_time": "2021-10-29T09:54:41.005Z"
   },
   {
    "duration": 162,
    "start_time": "2021-10-29T09:54:41.087Z"
   },
   {
    "duration": 371,
    "start_time": "2021-10-29T09:54:41.251Z"
   },
   {
    "duration": 674,
    "start_time": "2021-10-29T09:54:41.625Z"
   },
   {
    "duration": 313,
    "start_time": "2021-10-29T09:54:42.301Z"
   },
   {
    "duration": 561,
    "start_time": "2021-10-29T09:54:42.617Z"
   },
   {
    "duration": 1507,
    "start_time": "2021-10-29T09:54:43.182Z"
   },
   {
    "duration": 6,
    "start_time": "2021-10-29T09:54:44.693Z"
   },
   {
    "duration": 80,
    "start_time": "2021-10-29T09:54:44.702Z"
   },
   {
    "duration": 912,
    "start_time": "2021-10-29T09:54:44.786Z"
   },
   {
    "duration": 4,
    "start_time": "2021-10-29T09:54:45.701Z"
   },
   {
    "duration": 1676,
    "start_time": "2021-10-29T09:54:45.707Z"
   },
   {
    "duration": 5,
    "start_time": "2021-10-29T09:54:47.385Z"
   },
   {
    "duration": 206,
    "start_time": "2021-10-29T09:54:47.393Z"
   },
   {
    "duration": 652,
    "start_time": "2021-10-29T09:54:47.602Z"
   },
   {
    "duration": 3,
    "start_time": "2021-10-29T09:54:48.257Z"
   },
   {
    "duration": 123,
    "start_time": "2021-10-29T09:54:48.262Z"
   },
   {
    "duration": 880,
    "start_time": "2021-10-29T09:54:48.389Z"
   },
   {
    "duration": 28,
    "start_time": "2021-10-29T09:54:49.281Z"
   },
   {
    "duration": 655,
    "start_time": "2021-10-29T09:54:49.312Z"
   },
   {
    "duration": 25,
    "start_time": "2021-10-29T09:54:49.969Z"
   },
   {
    "duration": 5,
    "start_time": "2021-10-29T09:54:49.996Z"
   },
   {
    "duration": 21,
    "start_time": "2021-10-29T09:54:50.003Z"
   },
   {
    "duration": 14,
    "start_time": "2021-10-29T09:54:50.026Z"
   },
   {
    "duration": 5,
    "start_time": "2021-10-29T09:54:50.042Z"
   },
   {
    "duration": 46,
    "start_time": "2021-10-29T09:54:50.050Z"
   },
   {
    "duration": 21,
    "start_time": "2021-10-29T10:11:25.472Z"
   },
   {
    "duration": 27,
    "start_time": "2021-10-29T10:11:44.945Z"
   },
   {
    "duration": 438,
    "start_time": "2021-10-29T10:26:14.897Z"
   },
   {
    "duration": 169,
    "start_time": "2021-10-29T10:26:29.641Z"
   },
   {
    "duration": 2086,
    "start_time": "2021-10-31T14:03:27.341Z"
   },
   {
    "duration": 47,
    "start_time": "2021-10-31T14:03:29.430Z"
   },
   {
    "duration": 31,
    "start_time": "2021-10-31T14:03:29.481Z"
   },
   {
    "duration": 5,
    "start_time": "2021-10-31T14:03:29.516Z"
   },
   {
    "duration": 18,
    "start_time": "2021-10-31T14:03:29.524Z"
   },
   {
    "duration": 84,
    "start_time": "2021-10-31T14:03:29.545Z"
   },
   {
    "duration": 6,
    "start_time": "2021-10-31T14:03:29.632Z"
   },
   {
    "duration": 96,
    "start_time": "2021-10-31T14:03:29.643Z"
   },
   {
    "duration": 16,
    "start_time": "2021-10-31T14:03:29.744Z"
   },
   {
    "duration": 7512,
    "start_time": "2021-10-31T14:03:29.763Z"
   },
   {
    "duration": 8,
    "start_time": "2021-10-31T14:03:37.281Z"
   },
   {
    "duration": 23,
    "start_time": "2021-10-31T14:03:37.291Z"
   },
   {
    "duration": 1392,
    "start_time": "2021-10-31T14:03:37.316Z"
   },
   {
    "duration": 9,
    "start_time": "2021-10-31T14:03:38.710Z"
   },
   {
    "duration": 25,
    "start_time": "2021-10-31T14:03:38.721Z"
   },
   {
    "duration": 40,
    "start_time": "2021-10-31T14:03:38.749Z"
   },
   {
    "duration": 13,
    "start_time": "2021-10-31T14:03:38.791Z"
   },
   {
    "duration": 10,
    "start_time": "2021-10-31T14:03:38.810Z"
   },
   {
    "duration": 18,
    "start_time": "2021-10-31T14:03:38.822Z"
   },
   {
    "duration": 80,
    "start_time": "2021-10-31T14:03:38.842Z"
   },
   {
    "duration": 71,
    "start_time": "2021-10-31T14:03:38.925Z"
   },
   {
    "duration": 192,
    "start_time": "2021-10-31T14:03:38.998Z"
   },
   {
    "duration": 120,
    "start_time": "2021-10-31T14:03:39.281Z"
   },
   {
    "duration": 153,
    "start_time": "2021-10-31T14:03:39.404Z"
   },
   {
    "duration": 668,
    "start_time": "2021-10-31T14:03:39.560Z"
   },
   {
    "duration": 14,
    "start_time": "2021-10-31T14:03:40.231Z"
   },
   {
    "duration": 43,
    "start_time": "2021-10-31T14:03:40.247Z"
   },
   {
    "duration": 100,
    "start_time": "2021-10-31T14:03:40.293Z"
   },
   {
    "duration": 289,
    "start_time": "2021-10-31T14:03:40.396Z"
   },
   {
    "duration": 141,
    "start_time": "2021-10-31T14:03:40.687Z"
   },
   {
    "duration": 75,
    "start_time": "2021-10-31T14:03:40.830Z"
   },
   {
    "duration": 184,
    "start_time": "2021-10-31T14:03:40.911Z"
   },
   {
    "duration": 316,
    "start_time": "2021-10-31T14:03:41.098Z"
   },
   {
    "duration": 653,
    "start_time": "2021-10-31T14:03:41.417Z"
   },
   {
    "duration": 253,
    "start_time": "2021-10-31T14:03:42.072Z"
   },
   {
    "duration": 554,
    "start_time": "2021-10-31T14:03:42.328Z"
   },
   {
    "duration": 1025,
    "start_time": "2021-10-31T14:03:42.884Z"
   },
   {
    "duration": 5,
    "start_time": "2021-10-31T14:03:43.911Z"
   },
   {
    "duration": 89,
    "start_time": "2021-10-31T14:03:43.919Z"
   },
   {
    "duration": 829,
    "start_time": "2021-10-31T14:03:44.082Z"
   },
   {
    "duration": 3,
    "start_time": "2021-10-31T14:03:44.914Z"
   },
   {
    "duration": 1887,
    "start_time": "2021-10-31T14:03:44.920Z"
   },
   {
    "duration": 6,
    "start_time": "2021-10-31T14:03:46.811Z"
   },
   {
    "duration": 289,
    "start_time": "2021-10-31T14:03:46.821Z"
   },
   {
    "duration": 803,
    "start_time": "2021-10-31T14:03:47.112Z"
   },
   {
    "duration": 4,
    "start_time": "2021-10-31T14:03:47.917Z"
   },
   {
    "duration": 73,
    "start_time": "2021-10-31T14:03:47.923Z"
   },
   {
    "duration": 1173,
    "start_time": "2021-10-31T14:03:48.001Z"
   },
   {
    "duration": 34,
    "start_time": "2021-10-31T14:03:49.185Z"
   },
   {
    "duration": 1026,
    "start_time": "2021-10-31T14:03:49.222Z"
   },
   {
    "duration": 38,
    "start_time": "2021-10-31T14:03:50.250Z"
   },
   {
    "duration": 23,
    "start_time": "2021-10-31T14:03:50.291Z"
   },
   {
    "duration": 13,
    "start_time": "2021-10-31T14:03:50.317Z"
   },
   {
    "duration": 5,
    "start_time": "2021-10-31T14:03:50.333Z"
   },
   {
    "duration": 58,
    "start_time": "2021-10-31T14:03:50.341Z"
   },
   {
    "duration": 577,
    "start_time": "2021-10-31T15:05:17.226Z"
   },
   {
    "duration": 707,
    "start_time": "2021-10-31T15:05:29.603Z"
   },
   {
    "duration": 290,
    "start_time": "2021-10-31T15:06:16.261Z"
   },
   {
    "duration": 1758,
    "start_time": "2021-10-31T15:27:05.974Z"
   },
   {
    "duration": 1309,
    "start_time": "2021-10-31T15:29:21.222Z"
   },
   {
    "duration": 1341,
    "start_time": "2021-10-31T15:29:27.527Z"
   },
   {
    "duration": 1260,
    "start_time": "2021-10-31T15:29:42.256Z"
   },
   {
    "duration": 831,
    "start_time": "2021-10-31T15:29:57.089Z"
   },
   {
    "duration": 826,
    "start_time": "2021-10-31T15:30:09.291Z"
   },
   {
    "duration": 1233,
    "start_time": "2021-10-31T15:30:23.668Z"
   },
   {
    "duration": 114,
    "start_time": "2021-10-31T15:31:47.895Z"
   },
   {
    "duration": 419,
    "start_time": "2021-10-31T15:31:55.623Z"
   },
   {
    "duration": 1240,
    "start_time": "2021-10-31T15:32:23.042Z"
   },
   {
    "duration": 1232,
    "start_time": "2021-10-31T15:33:51.679Z"
   },
   {
    "duration": 1250,
    "start_time": "2021-10-31T15:33:59.911Z"
   },
   {
    "duration": 1419,
    "start_time": "2021-10-31T15:34:08.897Z"
   },
   {
    "duration": 1238,
    "start_time": "2021-10-31T15:34:20.264Z"
   },
   {
    "duration": 1231,
    "start_time": "2021-10-31T15:34:33.530Z"
   },
   {
    "duration": 1173,
    "start_time": "2021-10-31T15:34:45.603Z"
   },
   {
    "duration": 884,
    "start_time": "2021-10-31T15:34:50.059Z"
   },
   {
    "duration": 603,
    "start_time": "2021-10-31T15:35:03.748Z"
   },
   {
    "duration": 639,
    "start_time": "2021-10-31T15:35:26.822Z"
   },
   {
    "duration": 606,
    "start_time": "2021-10-31T15:35:36.910Z"
   },
   {
    "duration": 578,
    "start_time": "2021-10-31T15:35:47.599Z"
   },
   {
    "duration": 799,
    "start_time": "2021-10-31T15:36:09.114Z"
   },
   {
    "duration": 891,
    "start_time": "2021-10-31T15:36:16.353Z"
   },
   {
    "duration": 415,
    "start_time": "2021-10-31T15:36:51.651Z"
   },
   {
    "duration": 720,
    "start_time": "2021-10-31T15:37:41.052Z"
   },
   {
    "duration": 787,
    "start_time": "2021-10-31T15:39:03.052Z"
   },
   {
    "duration": 625,
    "start_time": "2021-10-31T15:40:42.761Z"
   },
   {
    "duration": 625,
    "start_time": "2021-10-31T15:40:56.474Z"
   },
   {
    "duration": 682,
    "start_time": "2021-10-31T15:41:11.116Z"
   },
   {
    "duration": 600,
    "start_time": "2021-10-31T15:57:10.196Z"
   },
   {
    "duration": 968,
    "start_time": "2021-10-31T15:57:24.449Z"
   },
   {
    "duration": 1229,
    "start_time": "2021-10-31T15:57:31.321Z"
   },
   {
    "duration": 607,
    "start_time": "2021-10-31T15:57:44.483Z"
   },
   {
    "duration": 621,
    "start_time": "2021-10-31T15:57:59.932Z"
   },
   {
    "duration": 616,
    "start_time": "2021-10-31T15:58:47.551Z"
   },
   {
    "duration": 547,
    "start_time": "2021-10-31T15:59:28.817Z"
   },
   {
    "duration": 532,
    "start_time": "2021-10-31T16:00:16.733Z"
   },
   {
    "duration": 103,
    "start_time": "2021-10-31T16:00:47.310Z"
   },
   {
    "duration": 789,
    "start_time": "2021-10-31T16:00:55.321Z"
   },
   {
    "duration": 700,
    "start_time": "2021-10-31T16:01:05.803Z"
   },
   {
    "duration": 629,
    "start_time": "2021-10-31T16:01:38.098Z"
   },
   {
    "duration": 749,
    "start_time": "2021-10-31T16:02:31.455Z"
   },
   {
    "duration": 790,
    "start_time": "2021-10-31T16:02:54.230Z"
   },
   {
    "duration": 675,
    "start_time": "2021-10-31T16:03:02.744Z"
   },
   {
    "duration": 672,
    "start_time": "2021-10-31T16:03:17.455Z"
   },
   {
    "duration": 3,
    "start_time": "2021-10-31T16:05:06.551Z"
   },
   {
    "duration": 3,
    "start_time": "2021-10-31T16:05:14.895Z"
   },
   {
    "duration": 854,
    "start_time": "2021-10-31T16:07:34.240Z"
   },
   {
    "duration": 1636,
    "start_time": "2021-10-31T16:14:05.577Z"
   },
   {
    "duration": 35,
    "start_time": "2021-10-31T16:14:07.216Z"
   },
   {
    "duration": 30,
    "start_time": "2021-10-31T16:14:07.254Z"
   },
   {
    "duration": 5,
    "start_time": "2021-10-31T16:14:07.286Z"
   },
   {
    "duration": 13,
    "start_time": "2021-10-31T16:14:07.294Z"
   },
   {
    "duration": 31,
    "start_time": "2021-10-31T16:14:07.310Z"
   },
   {
    "duration": 44,
    "start_time": "2021-10-31T16:14:07.343Z"
   },
   {
    "duration": 57,
    "start_time": "2021-10-31T16:14:07.392Z"
   },
   {
    "duration": 45,
    "start_time": "2021-10-31T16:14:07.452Z"
   },
   {
    "duration": 6803,
    "start_time": "2021-10-31T16:14:07.500Z"
   },
   {
    "duration": 6,
    "start_time": "2021-10-31T16:14:14.305Z"
   },
   {
    "duration": 18,
    "start_time": "2021-10-31T16:14:14.315Z"
   },
   {
    "duration": 1265,
    "start_time": "2021-10-31T16:14:14.336Z"
   },
   {
    "duration": 7,
    "start_time": "2021-10-31T16:14:15.604Z"
   },
   {
    "duration": 30,
    "start_time": "2021-10-31T16:14:15.614Z"
   },
   {
    "duration": 39,
    "start_time": "2021-10-31T16:14:15.646Z"
   },
   {
    "duration": 6,
    "start_time": "2021-10-31T16:14:15.687Z"
   },
   {
    "duration": 10,
    "start_time": "2021-10-31T16:14:15.695Z"
   },
   {
    "duration": 17,
    "start_time": "2021-10-31T16:14:15.707Z"
   },
   {
    "duration": 78,
    "start_time": "2021-10-31T16:14:15.726Z"
   },
   {
    "duration": 176,
    "start_time": "2021-10-31T16:14:15.807Z"
   },
   {
    "duration": 111,
    "start_time": "2021-10-31T16:14:15.986Z"
   },
   {
    "duration": 198,
    "start_time": "2021-10-31T16:14:16.184Z"
   },
   {
    "duration": 112,
    "start_time": "2021-10-31T16:14:16.385Z"
   },
   {
    "duration": 493,
    "start_time": "2021-10-31T16:14:16.499Z"
   },
   {
    "duration": 10,
    "start_time": "2021-10-31T16:14:16.994Z"
   },
   {
    "duration": 20,
    "start_time": "2021-10-31T16:14:17.007Z"
   },
   {
    "duration": 79,
    "start_time": "2021-10-31T16:14:17.030Z"
   },
   {
    "duration": 330,
    "start_time": "2021-10-31T16:14:17.112Z"
   },
   {
    "duration": 153,
    "start_time": "2021-10-31T16:14:17.444Z"
   },
   {
    "duration": 91,
    "start_time": "2021-10-31T16:14:17.599Z"
   },
   {
    "duration": 155,
    "start_time": "2021-10-31T16:14:17.693Z"
   },
   {
    "duration": 432,
    "start_time": "2021-10-31T16:14:17.850Z"
   },
   {
    "duration": 882,
    "start_time": "2021-10-31T16:14:18.285Z"
   },
   {
    "duration": 240,
    "start_time": "2021-10-31T16:14:19.169Z"
   },
   {
    "duration": 519,
    "start_time": "2021-10-31T16:14:19.411Z"
   },
   {
    "duration": 1025,
    "start_time": "2021-10-31T16:14:19.933Z"
   },
   {
    "duration": 5,
    "start_time": "2021-10-31T16:14:20.961Z"
   },
   {
    "duration": 112,
    "start_time": "2021-10-31T16:14:20.981Z"
   },
   {
    "duration": 1083,
    "start_time": "2021-10-31T16:14:21.183Z"
   },
   {
    "duration": 14,
    "start_time": "2021-10-31T16:14:22.269Z"
   },
   {
    "duration": 1671,
    "start_time": "2021-10-31T16:14:22.286Z"
   },
   {
    "duration": 4,
    "start_time": "2021-10-31T16:14:23.959Z"
   },
   {
    "duration": 183,
    "start_time": "2021-10-31T16:14:23.981Z"
   },
   {
    "duration": 681,
    "start_time": "2021-10-31T16:14:24.166Z"
   },
   {
    "duration": 4,
    "start_time": "2021-10-31T16:14:24.850Z"
   },
   {
    "duration": 138,
    "start_time": "2021-10-31T16:14:24.856Z"
   },
   {
    "duration": 111,
    "start_time": "2021-10-31T16:14:24.997Z"
   },
   {
    "duration": 814,
    "start_time": "2021-10-31T16:14:25.110Z"
   },
   {
    "duration": 19,
    "start_time": "2021-10-31T16:14:25.927Z"
   },
   {
    "duration": 37,
    "start_time": "2021-10-31T16:14:25.948Z"
   },
   {
    "duration": 11,
    "start_time": "2021-10-31T16:14:25.988Z"
   },
   {
    "duration": 5,
    "start_time": "2021-10-31T16:14:26.001Z"
   },
   {
    "duration": 18,
    "start_time": "2021-10-31T16:14:26.009Z"
   },
   {
    "duration": 276,
    "start_time": "2021-11-01T10:31:19.613Z"
   },
   {
    "duration": 1353,
    "start_time": "2021-11-01T10:32:15.532Z"
   },
   {
    "duration": 28,
    "start_time": "2021-11-01T10:32:16.887Z"
   },
   {
    "duration": 13,
    "start_time": "2021-11-01T10:32:16.917Z"
   },
   {
    "duration": 3,
    "start_time": "2021-11-01T10:32:16.932Z"
   },
   {
    "duration": 13,
    "start_time": "2021-11-01T10:32:16.936Z"
   },
   {
    "duration": 26,
    "start_time": "2021-11-01T10:32:16.951Z"
   },
   {
    "duration": 6,
    "start_time": "2021-11-01T10:32:16.979Z"
   },
   {
    "duration": 44,
    "start_time": "2021-11-01T10:32:16.987Z"
   },
   {
    "duration": 8,
    "start_time": "2021-11-01T10:32:17.033Z"
   },
   {
    "duration": 4187,
    "start_time": "2021-11-01T10:32:17.042Z"
   },
   {
    "duration": 5,
    "start_time": "2021-11-01T10:32:21.231Z"
   },
   {
    "duration": 26,
    "start_time": "2021-11-01T10:32:21.238Z"
   },
   {
    "duration": 816,
    "start_time": "2021-11-01T10:32:21.265Z"
   },
   {
    "duration": 6,
    "start_time": "2021-11-01T10:32:22.083Z"
   },
   {
    "duration": 29,
    "start_time": "2021-11-01T10:32:22.090Z"
   },
   {
    "duration": 16,
    "start_time": "2021-11-01T10:32:22.122Z"
   },
   {
    "duration": 15,
    "start_time": "2021-11-01T10:32:22.140Z"
   },
   {
    "duration": 20,
    "start_time": "2021-11-01T10:32:22.157Z"
   },
   {
    "duration": 26,
    "start_time": "2021-11-01T10:32:22.179Z"
   },
   {
    "duration": 33,
    "start_time": "2021-11-01T10:32:22.207Z"
   },
   {
    "duration": 28,
    "start_time": "2021-11-01T10:32:22.242Z"
   },
   {
    "duration": 112,
    "start_time": "2021-11-01T10:32:22.363Z"
   },
   {
    "duration": 245,
    "start_time": "2021-11-01T10:32:22.480Z"
   },
   {
    "duration": 85,
    "start_time": "2021-11-01T10:32:22.728Z"
   },
   {
    "duration": 354,
    "start_time": "2021-11-01T10:32:22.815Z"
   },
   {
    "duration": 8,
    "start_time": "2021-11-01T10:32:23.171Z"
   },
   {
    "duration": 18,
    "start_time": "2021-11-01T10:32:23.181Z"
   },
   {
    "duration": 64,
    "start_time": "2021-11-01T10:32:23.201Z"
   },
   {
    "duration": 209,
    "start_time": "2021-11-01T10:32:23.267Z"
   },
   {
    "duration": 137,
    "start_time": "2021-11-01T10:32:23.478Z"
   },
   {
    "duration": 47,
    "start_time": "2021-11-01T10:32:23.617Z"
   },
   {
    "duration": 140,
    "start_time": "2021-11-01T10:32:23.667Z"
   },
   {
    "duration": 233,
    "start_time": "2021-11-01T10:32:23.809Z"
   },
   {
    "duration": 383,
    "start_time": "2021-11-01T10:32:24.044Z"
   },
   {
    "duration": 161,
    "start_time": "2021-11-01T10:32:24.429Z"
   },
   {
    "duration": 304,
    "start_time": "2021-11-01T10:32:24.592Z"
   },
   {
    "duration": 2,
    "start_time": "2021-11-01T10:32:24.897Z"
   },
   {
    "duration": 231898,
    "start_time": "2021-11-01T10:32:24.901Z"
   },
   {
    "duration": 344,
    "start_time": "2021-11-01T10:36:16.801Z"
   },
   {
    "duration": 1055,
    "start_time": "2021-11-01T10:36:16.093Z"
   },
   {
    "duration": 1052,
    "start_time": "2021-11-01T10:36:16.097Z"
   },
   {
    "duration": 1050,
    "start_time": "2021-11-01T10:36:16.101Z"
   },
   {
    "duration": 1047,
    "start_time": "2021-11-01T10:36:16.105Z"
   },
   {
    "duration": 1037,
    "start_time": "2021-11-01T10:36:16.116Z"
   },
   {
    "duration": 1034,
    "start_time": "2021-11-01T10:36:16.121Z"
   },
   {
    "duration": 1032,
    "start_time": "2021-11-01T10:36:16.124Z"
   },
   {
    "duration": 1028,
    "start_time": "2021-11-01T10:36:16.129Z"
   },
   {
    "duration": 1027,
    "start_time": "2021-11-01T10:36:16.132Z"
   },
   {
    "duration": 1024,
    "start_time": "2021-11-01T10:36:16.136Z"
   },
   {
    "duration": 1017,
    "start_time": "2021-11-01T10:36:16.145Z"
   },
   {
    "duration": 1014,
    "start_time": "2021-11-01T10:36:16.149Z"
   },
   {
    "duration": 1013,
    "start_time": "2021-11-01T10:36:16.152Z"
   },
   {
    "duration": 1009,
    "start_time": "2021-11-01T10:36:16.157Z"
   },
   {
    "duration": 1006,
    "start_time": "2021-11-01T10:36:16.161Z"
   },
   {
    "duration": 1005,
    "start_time": "2021-11-01T10:36:16.164Z"
   },
   {
    "duration": 472,
    "start_time": "2021-11-01T10:48:31.706Z"
   },
   {
    "duration": 438,
    "start_time": "2021-11-01T10:49:38.039Z"
   },
   {
    "duration": 265,
    "start_time": "2021-11-01T10:50:49.701Z"
   },
   {
    "duration": 12,
    "start_time": "2021-11-01T10:52:28.346Z"
   },
   {
    "duration": 85,
    "start_time": "2021-11-01T10:52:36.835Z"
   },
   {
    "duration": 264,
    "start_time": "2021-11-01T10:52:47.395Z"
   },
   {
    "duration": 2282,
    "start_time": "2021-11-01T10:53:09.708Z"
   },
   {
    "duration": 303,
    "start_time": "2021-11-01T10:58:27.721Z"
   },
   {
    "duration": 249,
    "start_time": "2021-11-01T10:58:50.339Z"
   },
   {
    "duration": 2345,
    "start_time": "2021-11-01T10:59:50.823Z"
   },
   {
    "duration": 80,
    "start_time": "2021-11-01T11:06:36.712Z"
   },
   {
    "duration": 258,
    "start_time": "2021-11-01T11:06:49.761Z"
   },
   {
    "duration": 282,
    "start_time": "2021-11-01T11:08:14.192Z"
   },
   {
    "duration": 309,
    "start_time": "2021-11-01T11:09:10.402Z"
   },
   {
    "duration": 291,
    "start_time": "2021-11-01T11:09:41.687Z"
   },
   {
    "duration": 264,
    "start_time": "2021-11-01T11:10:12.929Z"
   },
   {
    "duration": 2550,
    "start_time": "2021-11-01T11:10:31.353Z"
   },
   {
    "duration": 412,
    "start_time": "2021-11-01T11:13:37.764Z"
   },
   {
    "duration": 254,
    "start_time": "2021-11-01T11:14:49.399Z"
   },
   {
    "duration": 253,
    "start_time": "2021-11-01T11:14:59.362Z"
   },
   {
    "duration": 245,
    "start_time": "2021-11-01T11:15:22.401Z"
   },
   {
    "duration": 272,
    "start_time": "2021-11-01T11:16:08.246Z"
   },
   {
    "duration": 102,
    "start_time": "2021-11-01T11:21:12.665Z"
   },
   {
    "duration": 248,
    "start_time": "2021-11-01T11:21:26.434Z"
   },
   {
    "duration": 293,
    "start_time": "2021-11-01T11:23:28.105Z"
   },
   {
    "duration": 334,
    "start_time": "2021-11-01T11:23:51.083Z"
   },
   {
    "duration": 82,
    "start_time": "2021-11-01T11:24:18.108Z"
   },
   {
    "duration": 463,
    "start_time": "2021-11-01T11:24:32.525Z"
   },
   {
    "duration": 248,
    "start_time": "2021-11-01T11:27:46.074Z"
   },
   {
    "duration": 285,
    "start_time": "2021-11-01T11:32:35.372Z"
   },
   {
    "duration": 259,
    "start_time": "2021-11-01T11:32:46.933Z"
   },
   {
    "duration": 4860,
    "start_time": "2021-11-01T11:33:19.847Z"
   },
   {
    "duration": 4974,
    "start_time": "2021-11-01T11:33:42.282Z"
   },
   {
    "duration": 4784,
    "start_time": "2021-11-01T11:34:00.889Z"
   },
   {
    "duration": 4738,
    "start_time": "2021-11-01T11:34:38.895Z"
   },
   {
    "duration": 271,
    "start_time": "2021-11-01T11:35:47.929Z"
   },
   {
    "duration": 4710,
    "start_time": "2021-11-01T11:37:23.568Z"
   },
   {
    "duration": 5086,
    "start_time": "2021-11-01T11:37:41.585Z"
   },
   {
    "duration": 2,
    "start_time": "2021-11-01T11:42:59.340Z"
   },
   {
    "duration": 4958,
    "start_time": "2021-11-01T11:43:25.534Z"
   },
   {
    "duration": 89,
    "start_time": "2021-11-01T11:43:43.647Z"
   },
   {
    "duration": 84,
    "start_time": "2021-11-01T11:43:49.089Z"
   },
   {
    "duration": 80,
    "start_time": "2021-11-01T11:43:53.255Z"
   },
   {
    "duration": 39605,
    "start_time": "2021-11-01T11:44:01.314Z"
   },
   {
    "duration": 1443,
    "start_time": "2021-11-01T11:44:42.500Z"
   },
   {
    "duration": 7224,
    "start_time": "2021-11-01T11:44:58.844Z"
   },
   {
    "duration": 53270,
    "start_time": "2021-11-01T11:45:19.229Z"
   },
   {
    "duration": 88,
    "start_time": "2021-11-01T11:55:06.389Z"
   },
   {
    "duration": 167,
    "start_time": "2021-11-01T12:32:59.319Z"
   },
   {
    "duration": 193,
    "start_time": "2021-11-01T12:33:27.271Z"
   },
   {
    "duration": 168,
    "start_time": "2021-11-01T12:34:03.017Z"
   },
   {
    "duration": 178,
    "start_time": "2021-11-01T12:34:35.212Z"
   },
   {
    "duration": 159,
    "start_time": "2021-11-01T12:35:04.807Z"
   },
   {
    "duration": 290,
    "start_time": "2021-11-01T12:35:30.241Z"
   },
   {
    "duration": 284,
    "start_time": "2021-11-01T12:35:45.157Z"
   },
   {
    "duration": 347,
    "start_time": "2021-11-01T12:36:06.297Z"
   },
   {
    "duration": 223,
    "start_time": "2021-11-01T12:36:12.282Z"
   },
   {
    "duration": 249,
    "start_time": "2021-11-01T12:37:22.221Z"
   },
   {
    "duration": 292,
    "start_time": "2021-11-01T12:37:34.761Z"
   },
   {
    "duration": 379,
    "start_time": "2021-11-01T12:37:51.784Z"
   },
   {
    "duration": 253,
    "start_time": "2021-11-01T12:38:08.415Z"
   },
   {
    "duration": 366,
    "start_time": "2021-11-01T12:38:11.641Z"
   },
   {
    "duration": 397,
    "start_time": "2021-11-01T12:38:17.729Z"
   },
   {
    "duration": 362,
    "start_time": "2021-11-01T12:38:32.763Z"
   },
   {
    "duration": 384,
    "start_time": "2021-11-01T12:40:17.937Z"
   },
   {
    "duration": 241,
    "start_time": "2021-11-01T12:40:47.131Z"
   },
   {
    "duration": 499,
    "start_time": "2021-11-01T12:41:03.556Z"
   },
   {
    "duration": 593,
    "start_time": "2021-11-01T12:41:20.934Z"
   },
   {
    "duration": 521,
    "start_time": "2021-11-01T12:41:54.432Z"
   },
   {
    "duration": 621,
    "start_time": "2021-11-01T12:42:34.402Z"
   },
   {
    "duration": 617,
    "start_time": "2021-11-01T12:44:37.226Z"
   },
   {
    "duration": 619,
    "start_time": "2021-11-01T12:45:35.101Z"
   },
   {
    "duration": 562,
    "start_time": "2021-11-01T12:45:57.967Z"
   },
   {
    "duration": 540,
    "start_time": "2021-11-01T12:46:16.321Z"
   },
   {
    "duration": 602,
    "start_time": "2021-11-01T12:47:04.443Z"
   },
   {
    "duration": 371,
    "start_time": "2021-11-01T12:47:32.173Z"
   },
   {
    "duration": 54930,
    "start_time": "2021-11-01T12:48:18.137Z"
   },
   {
    "duration": 613,
    "start_time": "2021-11-01T12:50:01.017Z"
   },
   {
    "duration": 595,
    "start_time": "2021-11-01T12:50:39.129Z"
   },
   {
    "duration": 557,
    "start_time": "2021-11-01T12:50:51.794Z"
   },
   {
    "duration": 337,
    "start_time": "2021-11-01T12:51:20.325Z"
   },
   {
    "duration": 1680,
    "start_time": "2021-11-01T12:51:49.654Z"
   },
   {
    "duration": 1440,
    "start_time": "2021-11-01T12:53:01.146Z"
   },
   {
    "duration": 242,
    "start_time": "2021-11-01T12:53:35.684Z"
   },
   {
    "duration": 30033,
    "start_time": "2021-11-01T12:53:50.205Z"
   },
   {
    "duration": 3543,
    "start_time": "2021-11-01T12:54:24.623Z"
   },
   {
    "duration": 9456,
    "start_time": "2021-11-01T12:54:55.337Z"
   },
   {
    "duration": 192,
    "start_time": "2021-11-01T12:55:23.851Z"
   },
   {
    "duration": 171,
    "start_time": "2021-11-01T12:55:29.140Z"
   },
   {
    "duration": 172,
    "start_time": "2021-11-01T12:55:37.878Z"
   },
   {
    "duration": 9429,
    "start_time": "2021-11-01T12:55:43.652Z"
   },
   {
    "duration": 9318,
    "start_time": "2021-11-01T12:56:16.470Z"
   },
   {
    "duration": 2,
    "start_time": "2021-11-01T13:00:59.865Z"
   },
   {
    "duration": 3,
    "start_time": "2021-11-01T13:01:02.706Z"
   },
   {
    "duration": 6766,
    "start_time": "2021-11-01T13:06:34.703Z"
   },
   {
    "duration": 24093,
    "start_time": "2021-11-01T13:07:20.914Z"
   },
   {
    "duration": 489,
    "start_time": "2021-11-01T13:22:02.322Z"
   },
   {
    "duration": 54496,
    "start_time": "2021-11-01T13:22:59.173Z"
   },
   {
    "duration": 23531,
    "start_time": "2021-11-01T13:23:53.670Z"
   },
   {
    "duration": 130,
    "start_time": "2021-11-01T13:24:17.203Z"
   },
   {
    "duration": 397,
    "start_time": "2021-11-01T13:24:17.335Z"
   },
   {
    "duration": 63,
    "start_time": "2021-11-01T13:33:46.480Z"
   },
   {
    "duration": 440,
    "start_time": "2021-11-01T13:33:58.015Z"
   },
   {
    "duration": 621,
    "start_time": "2021-11-01T13:52:48.593Z"
   },
   {
    "duration": 268,
    "start_time": "2021-11-01T13:55:15.059Z"
   },
   {
    "duration": 57327,
    "start_time": "2021-11-01T13:55:19.846Z"
   },
   {
    "duration": 259,
    "start_time": "2021-11-01T13:56:17.175Z"
   },
   {
    "duration": 171,
    "start_time": "2021-11-01T14:06:19.841Z"
   },
   {
    "duration": 24480,
    "start_time": "2021-11-01T14:07:31.353Z"
   },
   {
    "duration": 396,
    "start_time": "2021-11-01T14:08:14.108Z"
   },
   {
    "duration": 1678,
    "start_time": "2021-11-01T14:21:05.006Z"
   },
   {
    "duration": 963,
    "start_time": "2021-11-01T14:21:06.686Z"
   },
   {
    "duration": 9797,
    "start_time": "2021-11-01T14:21:14.095Z"
   },
   {
    "duration": 7209,
    "start_time": "2021-11-01T14:21:23.965Z"
   },
   {
    "duration": 95,
    "start_time": "2021-11-01T14:22:44.347Z"
   },
   {
    "duration": 864,
    "start_time": "2021-11-01T14:23:02.422Z"
   },
   {
    "duration": 531,
    "start_time": "2021-11-01T14:25:07.550Z"
   },
   {
    "duration": 1342,
    "start_time": "2021-11-01T14:25:40.938Z"
   },
   {
    "duration": 32,
    "start_time": "2021-11-01T14:25:42.282Z"
   },
   {
    "duration": 15,
    "start_time": "2021-11-01T14:25:42.316Z"
   },
   {
    "duration": 8,
    "start_time": "2021-11-01T14:25:42.334Z"
   },
   {
    "duration": 21,
    "start_time": "2021-11-01T14:25:42.344Z"
   },
   {
    "duration": 21,
    "start_time": "2021-11-01T14:25:42.367Z"
   },
   {
    "duration": 5,
    "start_time": "2021-11-01T14:25:42.390Z"
   },
   {
    "duration": 34,
    "start_time": "2021-11-01T14:25:42.398Z"
   },
   {
    "duration": 37,
    "start_time": "2021-11-01T14:25:42.435Z"
   },
   {
    "duration": 4216,
    "start_time": "2021-11-01T14:25:42.474Z"
   },
   {
    "duration": 6,
    "start_time": "2021-11-01T14:25:46.692Z"
   },
   {
    "duration": 18,
    "start_time": "2021-11-01T14:25:46.699Z"
   },
   {
    "duration": 826,
    "start_time": "2021-11-01T14:25:46.719Z"
   },
   {
    "duration": 5,
    "start_time": "2021-11-01T14:25:47.547Z"
   },
   {
    "duration": 32,
    "start_time": "2021-11-01T14:25:47.554Z"
   },
   {
    "duration": 11,
    "start_time": "2021-11-01T14:25:47.588Z"
   },
   {
    "duration": 4,
    "start_time": "2021-11-01T14:25:47.601Z"
   },
   {
    "duration": 9,
    "start_time": "2021-11-01T14:25:47.607Z"
   },
   {
    "duration": 14,
    "start_time": "2021-11-01T14:25:47.618Z"
   },
   {
    "duration": 42,
    "start_time": "2021-11-01T14:25:47.665Z"
   },
   {
    "duration": 63,
    "start_time": "2021-11-01T14:25:47.710Z"
   },
   {
    "duration": 187,
    "start_time": "2021-11-01T14:25:47.776Z"
   },
   {
    "duration": 195,
    "start_time": "2021-11-01T14:25:47.973Z"
   },
   {
    "duration": 103,
    "start_time": "2021-11-01T14:25:48.171Z"
   },
   {
    "duration": 452,
    "start_time": "2021-11-01T14:25:48.277Z"
   },
   {
    "duration": 11,
    "start_time": "2021-11-01T14:25:48.731Z"
   },
   {
    "duration": 29,
    "start_time": "2021-11-01T14:25:48.743Z"
   },
   {
    "duration": 91,
    "start_time": "2021-11-01T14:25:48.774Z"
   },
   {
    "duration": 237,
    "start_time": "2021-11-01T14:25:48.867Z"
   },
   {
    "duration": 228,
    "start_time": "2021-11-01T14:25:49.106Z"
   },
   {
    "duration": 37,
    "start_time": "2021-11-01T14:25:49.336Z"
   },
   {
    "duration": 240,
    "start_time": "2021-11-01T14:25:49.376Z"
   },
   {
    "duration": 355,
    "start_time": "2021-11-01T14:25:49.619Z"
   },
   {
    "duration": 408,
    "start_time": "2021-11-01T14:25:49.976Z"
   },
   {
    "duration": 203,
    "start_time": "2021-11-01T14:25:50.387Z"
   },
   {
    "duration": 482,
    "start_time": "2021-11-01T14:25:50.593Z"
   },
   {
    "duration": 9608,
    "start_time": "2021-11-01T14:25:51.077Z"
   },
   {
    "duration": 6680,
    "start_time": "2021-11-01T14:26:00.688Z"
   },
   {
    "duration": 854,
    "start_time": "2021-11-01T14:26:07.371Z"
   },
   {
    "duration": 55600,
    "start_time": "2021-11-01T14:26:08.227Z"
   },
   {
    "duration": 23688,
    "start_time": "2021-11-01T14:27:03.829Z"
   },
   {
    "duration": 2,
    "start_time": "2021-11-01T14:27:27.519Z"
   },
   {
    "duration": 505,
    "start_time": "2021-11-01T14:27:27.523Z"
   },
   {
    "duration": 3,
    "start_time": "2021-11-01T14:27:28.030Z"
   },
   {
    "duration": 35,
    "start_time": "2021-11-01T14:27:28.035Z"
   },
   {
    "duration": 112,
    "start_time": "2021-11-01T14:27:28.072Z"
   },
   {
    "duration": 655,
    "start_time": "2021-11-01T14:27:28.186Z"
   },
   {
    "duration": 24,
    "start_time": "2021-11-01T14:27:28.843Z"
   },
   {
    "duration": 11,
    "start_time": "2021-11-01T14:27:28.869Z"
   },
   {
    "duration": 16,
    "start_time": "2021-11-01T14:27:28.881Z"
   },
   {
    "duration": 18,
    "start_time": "2021-11-01T14:27:28.898Z"
   },
   {
    "duration": 15,
    "start_time": "2021-11-01T14:27:28.918Z"
   },
   {
    "duration": 1237,
    "start_time": "2021-11-01T15:32:15.042Z"
   },
   {
    "duration": 30,
    "start_time": "2021-11-01T15:32:16.281Z"
   },
   {
    "duration": 13,
    "start_time": "2021-11-01T15:32:16.313Z"
   },
   {
    "duration": 3,
    "start_time": "2021-11-01T15:32:16.328Z"
   },
   {
    "duration": 17,
    "start_time": "2021-11-01T15:32:16.332Z"
   },
   {
    "duration": 21,
    "start_time": "2021-11-01T15:32:16.351Z"
   },
   {
    "duration": 4,
    "start_time": "2021-11-01T15:32:16.373Z"
   },
   {
    "duration": 37,
    "start_time": "2021-11-01T15:32:16.379Z"
   },
   {
    "duration": 8,
    "start_time": "2021-11-01T15:32:16.418Z"
   },
   {
    "duration": 3997,
    "start_time": "2021-11-01T15:32:16.427Z"
   },
   {
    "duration": 6,
    "start_time": "2021-11-01T15:32:20.426Z"
   },
   {
    "duration": 29,
    "start_time": "2021-11-01T15:32:20.434Z"
   },
   {
    "duration": 793,
    "start_time": "2021-11-01T15:32:20.465Z"
   },
   {
    "duration": 7,
    "start_time": "2021-11-01T15:32:21.263Z"
   },
   {
    "duration": 22,
    "start_time": "2021-11-01T15:32:21.272Z"
   },
   {
    "duration": 9,
    "start_time": "2021-11-01T15:32:21.296Z"
   },
   {
    "duration": 5,
    "start_time": "2021-11-01T15:32:21.307Z"
   },
   {
    "duration": 12,
    "start_time": "2021-11-01T15:32:21.313Z"
   },
   {
    "duration": 44,
    "start_time": "2021-11-01T15:32:21.327Z"
   },
   {
    "duration": 29,
    "start_time": "2021-11-01T15:32:21.373Z"
   },
   {
    "duration": 63,
    "start_time": "2021-11-01T15:32:21.404Z"
   },
   {
    "duration": 108,
    "start_time": "2021-11-01T15:32:21.469Z"
   },
   {
    "duration": 239,
    "start_time": "2021-11-01T15:32:21.582Z"
   },
   {
    "duration": 81,
    "start_time": "2021-11-01T15:32:21.823Z"
   },
   {
    "duration": 326,
    "start_time": "2021-11-01T15:32:21.906Z"
   },
   {
    "duration": 8,
    "start_time": "2021-11-01T15:32:22.233Z"
   },
   {
    "duration": 29,
    "start_time": "2021-11-01T15:32:22.243Z"
   },
   {
    "duration": 90,
    "start_time": "2021-11-01T15:32:22.274Z"
   },
   {
    "duration": 197,
    "start_time": "2021-11-01T15:32:22.367Z"
   },
   {
    "duration": 145,
    "start_time": "2021-11-01T15:32:22.567Z"
   },
   {
    "duration": 52,
    "start_time": "2021-11-01T15:32:22.714Z"
   },
   {
    "duration": 136,
    "start_time": "2021-11-01T15:32:22.769Z"
   },
   {
    "duration": 229,
    "start_time": "2021-11-01T15:32:22.907Z"
   },
   {
    "duration": 412,
    "start_time": "2021-11-01T15:32:23.137Z"
   },
   {
    "duration": 152,
    "start_time": "2021-11-01T15:32:23.550Z"
   },
   {
    "duration": 302,
    "start_time": "2021-11-01T15:32:23.704Z"
   },
   {
    "duration": 9457,
    "start_time": "2021-11-01T15:32:24.008Z"
   },
   {
    "duration": 6201,
    "start_time": "2021-11-01T15:32:33.468Z"
   },
   {
    "duration": 840,
    "start_time": "2021-11-01T15:32:39.671Z"
   },
   {
    "duration": 52876,
    "start_time": "2021-11-01T15:32:40.514Z"
   },
   {
    "duration": 24295,
    "start_time": "2021-11-01T15:33:33.392Z"
   },
   {
    "duration": 519,
    "start_time": "2021-11-01T15:33:57.689Z"
   },
   {
    "duration": 3,
    "start_time": "2021-11-01T15:33:58.210Z"
   },
   {
    "duration": 57,
    "start_time": "2021-11-01T15:33:58.215Z"
   },
   {
    "duration": 99,
    "start_time": "2021-11-01T15:33:58.275Z"
   },
   {
    "duration": 543,
    "start_time": "2021-11-01T15:33:58.376Z"
   },
   {
    "duration": 15,
    "start_time": "2021-11-01T15:33:58.921Z"
   },
   {
    "duration": 32,
    "start_time": "2021-11-01T15:33:58.938Z"
   },
   {
    "duration": 7,
    "start_time": "2021-11-01T15:33:58.972Z"
   },
   {
    "duration": 4,
    "start_time": "2021-11-01T15:33:58.981Z"
   },
   {
    "duration": 10,
    "start_time": "2021-11-01T15:33:58.987Z"
   },
   {
    "duration": 9448,
    "start_time": "2021-11-01T15:44:37.316Z"
   },
   {
    "duration": 6004,
    "start_time": "2021-11-01T15:44:46.767Z"
   },
   {
    "duration": 737,
    "start_time": "2021-11-01T15:44:52.773Z"
   },
   {
    "duration": 53327,
    "start_time": "2021-11-01T15:44:53.512Z"
   },
   {
    "duration": 23947,
    "start_time": "2021-11-01T15:45:46.841Z"
   },
   {
    "duration": 515,
    "start_time": "2021-11-01T15:46:10.790Z"
   },
   {
    "duration": 355,
    "start_time": "2021-11-01T15:46:11.307Z"
   },
   {
    "duration": 576,
    "start_time": "2021-11-01T15:46:36.731Z"
   },
   {
    "duration": 17212,
    "start_time": "2021-11-01T15:52:26.194Z"
   },
   {
    "duration": 35348,
    "start_time": "2021-11-01T15:56:20.417Z"
   },
   {
    "duration": 25474,
    "start_time": "2021-11-01T15:57:36.983Z"
   },
   {
    "duration": 246,
    "start_time": "2021-11-01T15:58:35.067Z"
   },
   {
    "duration": 46475,
    "start_time": "2021-11-01T15:58:47.323Z"
   },
   {
    "duration": 8,
    "start_time": "2021-11-01T16:00:04.578Z"
   },
   {
    "duration": 37948,
    "start_time": "2021-11-01T16:01:09.978Z"
   },
   {
    "duration": 1237,
    "start_time": "2021-11-01T16:02:18.967Z"
   },
   {
    "duration": 32,
    "start_time": "2021-11-01T16:02:20.206Z"
   },
   {
    "duration": 14,
    "start_time": "2021-11-01T16:02:20.241Z"
   },
   {
    "duration": 3,
    "start_time": "2021-11-01T16:02:20.264Z"
   },
   {
    "duration": 22,
    "start_time": "2021-11-01T16:02:20.269Z"
   },
   {
    "duration": 22,
    "start_time": "2021-11-01T16:02:20.293Z"
   },
   {
    "duration": 5,
    "start_time": "2021-11-01T16:02:20.316Z"
   },
   {
    "duration": 61,
    "start_time": "2021-11-01T16:02:20.324Z"
   },
   {
    "duration": 25,
    "start_time": "2021-11-01T16:02:20.387Z"
   },
   {
    "duration": 4066,
    "start_time": "2021-11-01T16:02:20.413Z"
   },
   {
    "duration": 5,
    "start_time": "2021-11-01T16:02:24.482Z"
   },
   {
    "duration": 19,
    "start_time": "2021-11-01T16:02:24.489Z"
   },
   {
    "duration": 857,
    "start_time": "2021-11-01T16:02:24.511Z"
   },
   {
    "duration": 6,
    "start_time": "2021-11-01T16:02:25.370Z"
   },
   {
    "duration": 20,
    "start_time": "2021-11-01T16:02:25.377Z"
   },
   {
    "duration": 8,
    "start_time": "2021-11-01T16:02:25.399Z"
   },
   {
    "duration": 5,
    "start_time": "2021-11-01T16:02:25.408Z"
   },
   {
    "duration": 11,
    "start_time": "2021-11-01T16:02:25.415Z"
   },
   {
    "duration": 42,
    "start_time": "2021-11-01T16:02:25.428Z"
   },
   {
    "duration": 31,
    "start_time": "2021-11-01T16:02:25.472Z"
   },
   {
    "duration": 59,
    "start_time": "2021-11-01T16:02:25.505Z"
   },
   {
    "duration": 116,
    "start_time": "2021-11-01T16:02:25.566Z"
   },
   {
    "duration": 164,
    "start_time": "2021-11-01T16:02:25.767Z"
   },
   {
    "duration": 93,
    "start_time": "2021-11-01T16:02:25.934Z"
   },
   {
    "duration": 382,
    "start_time": "2021-11-01T16:02:26.029Z"
   },
   {
    "duration": 37280,
    "start_time": "2021-11-01T16:02:26.412Z"
   },
   {
    "duration": 9,
    "start_time": "2021-11-01T16:03:03.694Z"
   },
   {
    "duration": 15,
    "start_time": "2021-11-01T16:03:03.705Z"
   },
   {
    "duration": 62,
    "start_time": "2021-11-01T16:03:03.722Z"
   },
   {
    "duration": 276,
    "start_time": "2021-11-01T16:03:03.787Z"
   },
   {
    "duration": 16,
    "start_time": "2021-11-01T16:03:04.065Z"
   },
   {
    "duration": 80,
    "start_time": "2021-11-01T16:03:04.083Z"
   },
   {
    "duration": 139,
    "start_time": "2021-11-01T16:03:04.168Z"
   },
   {
    "duration": 229,
    "start_time": "2021-11-01T16:03:04.309Z"
   },
   {
    "duration": 382,
    "start_time": "2021-11-01T16:03:04.540Z"
   },
   {
    "duration": 164,
    "start_time": "2021-11-01T16:03:04.923Z"
   },
   {
    "duration": 321,
    "start_time": "2021-11-01T16:03:05.089Z"
   },
   {
    "duration": 9671,
    "start_time": "2021-11-01T16:03:05.412Z"
   },
   {
    "duration": 6686,
    "start_time": "2021-11-01T16:03:15.085Z"
   },
   {
    "duration": 842,
    "start_time": "2021-11-01T16:03:21.775Z"
   },
   {
    "duration": 54612,
    "start_time": "2021-11-01T16:03:22.619Z"
   },
   {
    "duration": 23358,
    "start_time": "2021-11-01T16:04:17.233Z"
   },
   {
    "duration": 505,
    "start_time": "2021-11-01T16:04:40.593Z"
   },
   {
    "duration": 3,
    "start_time": "2021-11-01T16:04:41.100Z"
   },
   {
    "duration": 67,
    "start_time": "2021-11-01T16:04:41.105Z"
   },
   {
    "duration": 101,
    "start_time": "2021-11-01T16:04:41.174Z"
   },
   {
    "duration": 545,
    "start_time": "2021-11-01T16:04:41.277Z"
   },
   {
    "duration": 11,
    "start_time": "2021-11-01T16:04:41.824Z"
   },
   {
    "duration": 18,
    "start_time": "2021-11-01T16:04:41.837Z"
   },
   {
    "duration": 17,
    "start_time": "2021-11-01T16:04:41.856Z"
   },
   {
    "duration": 14,
    "start_time": "2021-11-01T16:04:41.874Z"
   },
   {
    "duration": 16,
    "start_time": "2021-11-01T16:04:41.889Z"
   },
   {
    "duration": 1185,
    "start_time": "2021-11-01T16:07:16.796Z"
   },
   {
    "duration": 30,
    "start_time": "2021-11-01T16:07:17.984Z"
   },
   {
    "duration": 14,
    "start_time": "2021-11-01T16:07:18.016Z"
   },
   {
    "duration": 11,
    "start_time": "2021-11-01T16:07:18.032Z"
   },
   {
    "duration": 19,
    "start_time": "2021-11-01T16:07:18.045Z"
   },
   {
    "duration": 19,
    "start_time": "2021-11-01T16:07:18.066Z"
   },
   {
    "duration": 4,
    "start_time": "2021-11-01T16:07:18.087Z"
   },
   {
    "duration": 35,
    "start_time": "2021-11-01T16:07:18.093Z"
   },
   {
    "duration": 11,
    "start_time": "2021-11-01T16:07:18.130Z"
   },
   {
    "duration": 3936,
    "start_time": "2021-11-01T16:07:18.164Z"
   },
   {
    "duration": 5,
    "start_time": "2021-11-01T16:07:22.101Z"
   },
   {
    "duration": 21,
    "start_time": "2021-11-01T16:07:22.108Z"
   },
   {
    "duration": 822,
    "start_time": "2021-11-01T16:07:22.131Z"
   },
   {
    "duration": 5,
    "start_time": "2021-11-01T16:07:22.955Z"
   },
   {
    "duration": 18,
    "start_time": "2021-11-01T16:07:22.963Z"
   },
   {
    "duration": 9,
    "start_time": "2021-11-01T16:07:22.983Z"
   },
   {
    "duration": 13,
    "start_time": "2021-11-01T16:07:22.993Z"
   },
   {
    "duration": 13,
    "start_time": "2021-11-01T16:07:23.008Z"
   },
   {
    "duration": 12,
    "start_time": "2021-11-01T16:07:23.023Z"
   },
   {
    "duration": 49,
    "start_time": "2021-11-01T16:07:23.036Z"
   },
   {
    "duration": 20,
    "start_time": "2021-11-01T16:07:23.087Z"
   },
   {
    "duration": 112,
    "start_time": "2021-11-01T16:07:23.168Z"
   },
   {
    "duration": 239,
    "start_time": "2021-11-01T16:07:23.286Z"
   },
   {
    "duration": 87,
    "start_time": "2021-11-01T16:07:23.527Z"
   },
   {
    "duration": 366,
    "start_time": "2021-11-01T16:07:23.617Z"
   },
   {
    "duration": 35678,
    "start_time": "2021-11-01T16:07:23.986Z"
   },
   {
    "duration": 9,
    "start_time": "2021-11-01T16:07:59.666Z"
   },
   {
    "duration": 18,
    "start_time": "2021-11-01T16:07:59.677Z"
   },
   {
    "duration": 70,
    "start_time": "2021-11-01T16:07:59.697Z"
   },
   {
    "duration": 200,
    "start_time": "2021-11-01T16:07:59.769Z"
   },
   {
    "duration": 14,
    "start_time": "2021-11-01T16:07:59.971Z"
   },
   {
    "duration": 16,
    "start_time": "2021-11-01T16:07:59.987Z"
   },
   {
    "duration": 141,
    "start_time": "2021-11-01T16:08:00.065Z"
   },
   {
    "duration": 227,
    "start_time": "2021-11-01T16:08:00.208Z"
   },
   {
    "duration": 388,
    "start_time": "2021-11-01T16:08:00.437Z"
   },
   {
    "duration": 164,
    "start_time": "2021-11-01T16:08:00.826Z"
   },
   {
    "duration": 415,
    "start_time": "2021-11-01T16:08:00.992Z"
   },
   {
    "duration": 9877,
    "start_time": "2021-11-01T16:08:01.409Z"
   },
   {
    "duration": 6605,
    "start_time": "2021-11-01T16:08:11.365Z"
   },
   {
    "duration": 849,
    "start_time": "2021-11-01T16:08:17.973Z"
   },
   {
    "duration": 53866,
    "start_time": "2021-11-01T16:08:18.824Z"
   },
   {
    "duration": 23850,
    "start_time": "2021-11-01T16:09:12.691Z"
   },
   {
    "duration": 512,
    "start_time": "2021-11-01T16:09:36.542Z"
   },
   {
    "duration": 7,
    "start_time": "2021-11-01T16:09:37.056Z"
   },
   {
    "duration": 15,
    "start_time": "2021-11-01T16:09:37.066Z"
   },
   {
    "duration": 185,
    "start_time": "2021-11-01T16:09:37.084Z"
   },
   {
    "duration": 559,
    "start_time": "2021-11-01T16:09:37.271Z"
   },
   {
    "duration": 13,
    "start_time": "2021-11-01T16:09:37.832Z"
   },
   {
    "duration": 26,
    "start_time": "2021-11-01T16:09:37.846Z"
   },
   {
    "duration": 7,
    "start_time": "2021-11-01T16:09:37.874Z"
   },
   {
    "duration": 6,
    "start_time": "2021-11-01T16:09:37.883Z"
   },
   {
    "duration": 14,
    "start_time": "2021-11-01T16:09:37.890Z"
   },
   {
    "duration": 35838,
    "start_time": "2021-11-01T16:14:12.800Z"
   },
   {
    "duration": 1244,
    "start_time": "2021-11-01T16:15:42.783Z"
   },
   {
    "duration": 31,
    "start_time": "2021-11-01T16:15:44.029Z"
   },
   {
    "duration": 14,
    "start_time": "2021-11-01T16:15:44.062Z"
   },
   {
    "duration": 5,
    "start_time": "2021-11-01T16:15:44.077Z"
   },
   {
    "duration": 10,
    "start_time": "2021-11-01T16:15:44.084Z"
   },
   {
    "duration": 19,
    "start_time": "2021-11-01T16:15:44.096Z"
   },
   {
    "duration": 4,
    "start_time": "2021-11-01T16:15:44.117Z"
   },
   {
    "duration": 65,
    "start_time": "2021-11-01T16:15:44.123Z"
   },
   {
    "duration": 8,
    "start_time": "2021-11-01T16:15:44.190Z"
   },
   {
    "duration": 4213,
    "start_time": "2021-11-01T16:15:44.200Z"
   },
   {
    "duration": 5,
    "start_time": "2021-11-01T16:15:48.415Z"
   },
   {
    "duration": 14,
    "start_time": "2021-11-01T16:15:48.422Z"
   },
   {
    "duration": 841,
    "start_time": "2021-11-01T16:15:48.439Z"
   },
   {
    "duration": 6,
    "start_time": "2021-11-01T16:15:49.282Z"
   },
   {
    "duration": 23,
    "start_time": "2021-11-01T16:15:49.289Z"
   },
   {
    "duration": 7,
    "start_time": "2021-11-01T16:15:49.314Z"
   },
   {
    "duration": 5,
    "start_time": "2021-11-01T16:15:49.323Z"
   },
   {
    "duration": 12,
    "start_time": "2021-11-01T16:15:49.330Z"
   },
   {
    "duration": 11,
    "start_time": "2021-11-01T16:15:49.363Z"
   },
   {
    "duration": 39,
    "start_time": "2021-11-01T16:15:49.376Z"
   },
   {
    "duration": 58,
    "start_time": "2021-11-01T16:15:49.417Z"
   },
   {
    "duration": 187,
    "start_time": "2021-11-01T16:15:49.477Z"
   },
   {
    "duration": 164,
    "start_time": "2021-11-01T16:15:49.670Z"
   },
   {
    "duration": 90,
    "start_time": "2021-11-01T16:15:49.837Z"
   },
   {
    "duration": 389,
    "start_time": "2021-11-01T16:15:49.929Z"
   },
   {
    "duration": 37702,
    "start_time": "2021-11-01T16:15:50.320Z"
   },
   {
    "duration": 7,
    "start_time": "2021-11-01T16:16:28.024Z"
   },
   {
    "duration": 31,
    "start_time": "2021-11-01T16:16:28.033Z"
   },
   {
    "duration": 38,
    "start_time": "2021-11-01T16:16:28.067Z"
   },
   {
    "duration": 204,
    "start_time": "2021-11-01T16:16:28.165Z"
   },
   {
    "duration": 15,
    "start_time": "2021-11-01T16:16:28.371Z"
   },
   {
    "duration": 77,
    "start_time": "2021-11-01T16:16:28.388Z"
   },
   {
    "duration": 137,
    "start_time": "2021-11-01T16:16:28.469Z"
   },
   {
    "duration": 234,
    "start_time": "2021-11-01T16:16:28.607Z"
   },
   {
    "duration": 397,
    "start_time": "2021-11-01T16:16:28.843Z"
   },
   {
    "duration": 168,
    "start_time": "2021-11-01T16:16:29.242Z"
   },
   {
    "duration": 330,
    "start_time": "2021-11-01T16:16:29.412Z"
   },
   {
    "duration": 9737,
    "start_time": "2021-11-01T16:16:29.744Z"
   },
   {
    "duration": 6689,
    "start_time": "2021-11-01T16:16:39.484Z"
   },
   {
    "duration": 837,
    "start_time": "2021-11-01T16:16:46.175Z"
   },
   {
    "duration": 54081,
    "start_time": "2021-11-01T16:16:47.014Z"
   },
   {
    "duration": 23568,
    "start_time": "2021-11-01T16:17:41.097Z"
   },
   {
    "duration": 513,
    "start_time": "2021-11-01T16:18:04.667Z"
   },
   {
    "duration": 2,
    "start_time": "2021-11-01T16:18:05.182Z"
   },
   {
    "duration": 78,
    "start_time": "2021-11-01T16:18:05.186Z"
   },
   {
    "duration": 104,
    "start_time": "2021-11-01T16:18:05.267Z"
   },
   {
    "duration": 555,
    "start_time": "2021-11-01T16:18:05.373Z"
   },
   {
    "duration": 15,
    "start_time": "2021-11-01T16:18:05.930Z"
   },
   {
    "duration": 25,
    "start_time": "2021-11-01T16:18:05.947Z"
   },
   {
    "duration": 11,
    "start_time": "2021-11-01T16:18:05.974Z"
   },
   {
    "duration": 22,
    "start_time": "2021-11-01T16:18:05.986Z"
   },
   {
    "duration": 16,
    "start_time": "2021-11-01T16:18:06.010Z"
   },
   {
    "duration": 1501,
    "start_time": "2021-11-03T04:02:52.466Z"
   },
   {
    "duration": 35,
    "start_time": "2021-11-03T04:02:53.970Z"
   },
   {
    "duration": 25,
    "start_time": "2021-11-03T04:02:54.009Z"
   },
   {
    "duration": 3,
    "start_time": "2021-11-03T04:02:54.037Z"
   },
   {
    "duration": 16,
    "start_time": "2021-11-03T04:02:54.042Z"
   },
   {
    "duration": 31,
    "start_time": "2021-11-03T04:02:54.060Z"
   },
   {
    "duration": 35,
    "start_time": "2021-11-03T04:02:54.094Z"
   },
   {
    "duration": 54,
    "start_time": "2021-11-03T04:02:54.133Z"
   },
   {
    "duration": 11,
    "start_time": "2021-11-03T04:02:54.190Z"
   },
   {
    "duration": 6746,
    "start_time": "2021-11-03T04:02:54.229Z"
   },
   {
    "duration": 6,
    "start_time": "2021-11-03T04:03:00.977Z"
   },
   {
    "duration": 26,
    "start_time": "2021-11-03T04:03:00.985Z"
   },
   {
    "duration": 1222,
    "start_time": "2021-11-03T04:03:01.014Z"
   },
   {
    "duration": 8,
    "start_time": "2021-11-03T04:03:02.239Z"
   },
   {
    "duration": 26,
    "start_time": "2021-11-03T04:03:02.250Z"
   },
   {
    "duration": 11,
    "start_time": "2021-11-03T04:03:02.279Z"
   },
   {
    "duration": 5,
    "start_time": "2021-11-03T04:03:02.330Z"
   },
   {
    "duration": 16,
    "start_time": "2021-11-03T04:03:02.338Z"
   },
   {
    "duration": 15,
    "start_time": "2021-11-03T04:03:02.357Z"
   },
   {
    "duration": 70,
    "start_time": "2021-11-03T04:03:02.374Z"
   },
   {
    "duration": 87,
    "start_time": "2021-11-03T04:03:02.446Z"
   },
   {
    "duration": 192,
    "start_time": "2021-11-03T04:03:02.537Z"
   },
   {
    "duration": 203,
    "start_time": "2021-11-03T04:03:02.739Z"
   },
   {
    "duration": 116,
    "start_time": "2021-11-03T04:03:02.945Z"
   },
   {
    "duration": 559,
    "start_time": "2021-11-03T04:03:03.063Z"
   },
   {
    "duration": 52725,
    "start_time": "2021-11-03T04:03:03.624Z"
   },
   {
    "duration": 11,
    "start_time": "2021-11-03T04:03:56.351Z"
   },
   {
    "duration": 26,
    "start_time": "2021-11-03T04:03:56.364Z"
   },
   {
    "duration": 136,
    "start_time": "2021-11-03T04:03:56.394Z"
   },
   {
    "duration": 255,
    "start_time": "2021-11-03T04:03:56.533Z"
   },
   {
    "duration": 19,
    "start_time": "2021-11-03T04:03:56.791Z"
   },
   {
    "duration": 118,
    "start_time": "2021-11-03T04:03:56.813Z"
   },
   {
    "duration": 157,
    "start_time": "2021-11-03T04:03:56.935Z"
   },
   {
    "duration": 356,
    "start_time": "2021-11-03T04:03:57.095Z"
   },
   {
    "duration": 614,
    "start_time": "2021-11-03T04:03:57.453Z"
   },
   {
    "duration": 234,
    "start_time": "2021-11-03T04:03:58.069Z"
   },
   {
    "duration": 510,
    "start_time": "2021-11-03T04:03:58.306Z"
   },
   {
    "duration": 14311,
    "start_time": "2021-11-03T04:03:58.819Z"
   },
   {
    "duration": 9310,
    "start_time": "2021-11-03T04:04:13.134Z"
   },
   {
    "duration": 1105,
    "start_time": "2021-11-03T04:04:22.537Z"
   },
   {
    "duration": 81202,
    "start_time": "2021-11-03T04:04:23.644Z"
   },
   {
    "duration": 34132,
    "start_time": "2021-11-03T04:05:44.848Z"
   },
   {
    "duration": 812,
    "start_time": "2021-11-03T04:06:18.983Z"
   },
   {
    "duration": 3,
    "start_time": "2021-11-03T04:06:19.797Z"
   },
   {
    "duration": 126,
    "start_time": "2021-11-03T04:06:19.803Z"
   },
   {
    "duration": 107,
    "start_time": "2021-11-03T04:06:19.933Z"
   },
   {
    "duration": 801,
    "start_time": "2021-11-03T04:06:20.042Z"
   },
   {
    "duration": 19,
    "start_time": "2021-11-03T04:06:20.847Z"
   },
   {
    "duration": 19,
    "start_time": "2021-11-03T04:06:20.869Z"
   },
   {
    "duration": 44,
    "start_time": "2021-11-03T04:06:20.891Z"
   },
   {
    "duration": 7,
    "start_time": "2021-11-03T04:06:20.938Z"
   },
   {
    "duration": 18,
    "start_time": "2021-11-03T04:06:20.948Z"
   },
   {
    "duration": 79,
    "start_time": "2021-11-03T04:10:46.867Z"
   },
   {
    "duration": 1740,
    "start_time": "2021-11-03T04:10:55.691Z"
   },
   {
    "duration": 1559,
    "start_time": "2021-11-03T04:12:01.631Z"
   },
   {
    "duration": 36,
    "start_time": "2021-11-03T04:12:03.192Z"
   },
   {
    "duration": 20,
    "start_time": "2021-11-03T04:12:03.231Z"
   },
   {
    "duration": 6,
    "start_time": "2021-11-03T04:12:03.254Z"
   },
   {
    "duration": 23,
    "start_time": "2021-11-03T04:12:03.262Z"
   },
   {
    "duration": 45,
    "start_time": "2021-11-03T04:12:03.288Z"
   },
   {
    "duration": 6,
    "start_time": "2021-11-03T04:12:03.335Z"
   },
   {
    "duration": 56,
    "start_time": "2021-11-03T04:12:03.345Z"
   },
   {
    "duration": 15,
    "start_time": "2021-11-03T04:12:03.429Z"
   },
   {
    "duration": 6756,
    "start_time": "2021-11-03T04:12:03.447Z"
   },
   {
    "duration": 7,
    "start_time": "2021-11-03T04:12:10.205Z"
   },
   {
    "duration": 14,
    "start_time": "2021-11-03T04:12:10.230Z"
   },
   {
    "duration": 1236,
    "start_time": "2021-11-03T04:12:10.246Z"
   },
   {
    "duration": 9,
    "start_time": "2021-11-03T04:12:11.485Z"
   },
   {
    "duration": 48,
    "start_time": "2021-11-03T04:12:11.496Z"
   },
   {
    "duration": 11,
    "start_time": "2021-11-03T04:12:11.546Z"
   },
   {
    "duration": 5,
    "start_time": "2021-11-03T04:12:11.559Z"
   },
   {
    "duration": 12,
    "start_time": "2021-11-03T04:12:11.566Z"
   },
   {
    "duration": 27,
    "start_time": "2021-11-03T04:12:11.580Z"
   },
   {
    "duration": 41,
    "start_time": "2021-11-03T04:12:11.629Z"
   },
   {
    "duration": 60,
    "start_time": "2021-11-03T04:12:11.672Z"
   },
   {
    "duration": 197,
    "start_time": "2021-11-03T04:12:11.735Z"
   },
   {
    "duration": 205,
    "start_time": "2021-11-03T04:12:11.940Z"
   },
   {
    "duration": 114,
    "start_time": "2021-11-03T04:12:12.149Z"
   },
   {
    "duration": 527,
    "start_time": "2021-11-03T04:12:12.266Z"
   },
   {
    "duration": 52310,
    "start_time": "2021-11-03T04:12:12.795Z"
   },
   {
    "duration": 24,
    "start_time": "2021-11-03T04:13:05.107Z"
   },
   {
    "duration": 33,
    "start_time": "2021-11-03T04:13:05.133Z"
   },
   {
    "duration": 70,
    "start_time": "2021-11-03T04:13:05.169Z"
   },
   {
    "duration": 1800,
    "start_time": "2021-11-03T04:13:05.331Z"
   },
   {
    "duration": 341,
    "start_time": "2021-11-03T04:13:07.135Z"
   },
   {
    "duration": 463,
    "start_time": "2021-11-03T04:13:07.478Z"
   },
   {
    "duration": -791,
    "start_time": "2021-11-03T04:13:08.735Z"
   },
   {
    "duration": -811,
    "start_time": "2021-11-03T04:13:08.756Z"
   },
   {
    "duration": -819,
    "start_time": "2021-11-03T04:13:08.765Z"
   },
   {
    "duration": -823,
    "start_time": "2021-11-03T04:13:08.771Z"
   },
   {
    "duration": -828,
    "start_time": "2021-11-03T04:13:08.777Z"
   },
   {
    "duration": -833,
    "start_time": "2021-11-03T04:13:08.783Z"
   },
   {
    "duration": -836,
    "start_time": "2021-11-03T04:13:08.787Z"
   },
   {
    "duration": -839,
    "start_time": "2021-11-03T04:13:08.792Z"
   },
   {
    "duration": -842,
    "start_time": "2021-11-03T04:13:08.796Z"
   },
   {
    "duration": -847,
    "start_time": "2021-11-03T04:13:08.802Z"
   },
   {
    "duration": -871,
    "start_time": "2021-11-03T04:13:08.827Z"
   },
   {
    "duration": -877,
    "start_time": "2021-11-03T04:13:08.835Z"
   },
   {
    "duration": -881,
    "start_time": "2021-11-03T04:13:08.840Z"
   },
   {
    "duration": -885,
    "start_time": "2021-11-03T04:13:08.845Z"
   },
   {
    "duration": -889,
    "start_time": "2021-11-03T04:13:08.850Z"
   },
   {
    "duration": -893,
    "start_time": "2021-11-03T04:13:08.855Z"
   },
   {
    "duration": -895,
    "start_time": "2021-11-03T04:13:08.859Z"
   },
   {
    "duration": -898,
    "start_time": "2021-11-03T04:13:08.863Z"
   },
   {
    "duration": -902,
    "start_time": "2021-11-03T04:13:08.868Z"
   },
   {
    "duration": -905,
    "start_time": "2021-11-03T04:13:08.873Z"
   },
   {
    "duration": -909,
    "start_time": "2021-11-03T04:13:08.878Z"
   },
   {
    "duration": -921,
    "start_time": "2021-11-03T04:13:08.891Z"
   },
   {
    "duration": 316,
    "start_time": "2021-11-03T04:14:47.817Z"
   },
   {
    "duration": 241,
    "start_time": "2021-11-03T04:14:59.376Z"
   },
   {
    "duration": 236,
    "start_time": "2021-11-03T04:16:12.933Z"
   },
   {
    "duration": 245,
    "start_time": "2021-11-03T04:17:19.162Z"
   },
   {
    "duration": 1421,
    "start_time": "2021-11-03T04:18:24.814Z"
   },
   {
    "duration": 254,
    "start_time": "2021-11-03T04:23:53.884Z"
   },
   {
    "duration": 320,
    "start_time": "2021-11-03T04:24:23.270Z"
   },
   {
    "duration": 20,
    "start_time": "2021-11-03T04:24:35.935Z"
   },
   {
    "duration": 27,
    "start_time": "2021-11-03T04:24:37.853Z"
   },
   {
    "duration": 114,
    "start_time": "2021-11-03T04:24:38.717Z"
   },
   {
    "duration": 37,
    "start_time": "2021-11-03T04:25:14.816Z"
   },
   {
    "duration": 77,
    "start_time": "2021-11-03T04:26:53.952Z"
   },
   {
    "duration": 231,
    "start_time": "2021-11-03T04:27:33.977Z"
   },
   {
    "duration": 68,
    "start_time": "2021-11-03T04:27:53.962Z"
   },
   {
    "duration": 39,
    "start_time": "2021-11-03T04:28:07.795Z"
   },
   {
    "duration": 5,
    "start_time": "2021-11-03T04:28:34.381Z"
   },
   {
    "duration": 4,
    "start_time": "2021-11-03T04:28:49.057Z"
   },
   {
    "duration": 5,
    "start_time": "2021-11-03T04:29:10.887Z"
   },
   {
    "duration": 5,
    "start_time": "2021-11-03T04:29:47.009Z"
   },
   {
    "duration": 4,
    "start_time": "2021-11-03T04:29:55.162Z"
   },
   {
    "duration": 5,
    "start_time": "2021-11-03T04:30:01.986Z"
   },
   {
    "duration": 5,
    "start_time": "2021-11-03T04:30:15.706Z"
   },
   {
    "duration": 5,
    "start_time": "2021-11-03T04:30:29.117Z"
   },
   {
    "duration": 1897,
    "start_time": "2021-11-03T04:31:00.535Z"
   },
   {
    "duration": 107,
    "start_time": "2021-11-03T04:31:39.010Z"
   },
   {
    "duration": 1808,
    "start_time": "2021-11-03T04:31:43.441Z"
   },
   {
    "duration": 7,
    "start_time": "2021-11-03T04:32:42.773Z"
   },
   {
    "duration": 81,
    "start_time": "2021-11-03T04:32:43.852Z"
   },
   {
    "duration": 1778,
    "start_time": "2021-11-03T04:32:44.371Z"
   },
   {
    "duration": 1928,
    "start_time": "2021-11-03T04:33:49.505Z"
   },
   {
    "duration": 8,
    "start_time": "2021-11-03T04:33:52.656Z"
   },
   {
    "duration": 34,
    "start_time": "2021-11-03T04:33:53.695Z"
   },
   {
    "duration": 1949,
    "start_time": "2021-11-03T04:33:54.281Z"
   },
   {
    "duration": 3651,
    "start_time": "2021-11-03T04:34:14.082Z"
   },
   {
    "duration": 95,
    "start_time": "2021-11-03T04:36:15.549Z"
   },
   {
    "duration": 1488,
    "start_time": "2021-11-03T04:36:22.995Z"
   },
   {
    "duration": 1558,
    "start_time": "2021-11-03T04:45:04.829Z"
   },
   {
    "duration": 1539,
    "start_time": "2021-11-03T04:45:18.351Z"
   },
   {
    "duration": 1518,
    "start_time": "2021-11-03T04:46:27.314Z"
   },
   {
    "duration": 1537,
    "start_time": "2021-11-03T04:47:21.462Z"
   },
   {
    "duration": 91,
    "start_time": "2021-11-03T04:47:48.178Z"
   },
   {
    "duration": 1531,
    "start_time": "2021-11-03T04:47:54.159Z"
   },
   {
    "duration": 1578,
    "start_time": "2021-11-03T04:48:11.136Z"
   },
   {
    "duration": 1621,
    "start_time": "2021-11-03T04:49:06.484Z"
   },
   {
    "duration": 326,
    "start_time": "2021-11-12T17:03:19.530Z"
   },
   {
    "duration": 886,
    "start_time": "2021-11-12T17:03:18.973Z"
   },
   {
    "duration": 880,
    "start_time": "2021-11-12T17:03:18.981Z"
   },
   {
    "duration": 875,
    "start_time": "2021-11-12T17:03:18.987Z"
   },
   {
    "duration": 861,
    "start_time": "2021-11-12T17:03:19.002Z"
   },
   {
    "duration": 857,
    "start_time": "2021-11-12T17:03:19.008Z"
   },
   {
    "duration": 852,
    "start_time": "2021-11-12T17:03:19.014Z"
   },
   {
    "duration": 848,
    "start_time": "2021-11-12T17:03:19.020Z"
   },
   {
    "duration": 844,
    "start_time": "2021-11-12T17:03:19.025Z"
   },
   {
    "duration": 839,
    "start_time": "2021-11-12T17:03:19.031Z"
   },
   {
    "duration": 836,
    "start_time": "2021-11-12T17:03:19.036Z"
   },
   {
    "duration": 832,
    "start_time": "2021-11-12T17:03:19.041Z"
   },
   {
    "duration": 819,
    "start_time": "2021-11-12T17:03:19.055Z"
   },
   {
    "duration": 814,
    "start_time": "2021-11-12T17:03:19.062Z"
   },
   {
    "duration": 809,
    "start_time": "2021-11-12T17:03:19.068Z"
   },
   {
    "duration": 806,
    "start_time": "2021-11-12T17:03:19.073Z"
   },
   {
    "duration": 801,
    "start_time": "2021-11-12T17:03:19.079Z"
   },
   {
    "duration": 797,
    "start_time": "2021-11-12T17:03:19.085Z"
   },
   {
    "duration": 793,
    "start_time": "2021-11-12T17:03:19.090Z"
   },
   {
    "duration": 1544,
    "start_time": "2021-11-12T17:03:54.069Z"
   },
   {
    "duration": 373,
    "start_time": "2021-11-12T17:04:06.381Z"
   },
   {
    "duration": 1607,
    "start_time": "2021-11-12T17:04:17.863Z"
   },
   {
    "duration": 34,
    "start_time": "2021-11-12T17:04:19.473Z"
   },
   {
    "duration": 20,
    "start_time": "2021-11-12T17:04:19.511Z"
   },
   {
    "duration": 11,
    "start_time": "2021-11-12T17:04:19.534Z"
   },
   {
    "duration": 27,
    "start_time": "2021-11-12T17:04:19.547Z"
   },
   {
    "duration": 33,
    "start_time": "2021-11-12T17:04:19.577Z"
   },
   {
    "duration": 6,
    "start_time": "2021-11-12T17:04:19.612Z"
   },
   {
    "duration": 87,
    "start_time": "2021-11-12T17:04:19.621Z"
   },
   {
    "duration": 11,
    "start_time": "2021-11-12T17:04:19.712Z"
   },
   {
    "duration": 7065,
    "start_time": "2021-11-12T17:04:19.725Z"
   },
   {
    "duration": 6,
    "start_time": "2021-11-12T17:04:26.793Z"
   },
   {
    "duration": 20,
    "start_time": "2021-11-12T17:04:26.801Z"
   },
   {
    "duration": 1306,
    "start_time": "2021-11-12T17:04:26.823Z"
   },
   {
    "duration": 9,
    "start_time": "2021-11-12T17:04:28.131Z"
   },
   {
    "duration": 47,
    "start_time": "2021-11-12T17:04:28.143Z"
   },
   {
    "duration": 11,
    "start_time": "2021-11-12T17:04:28.192Z"
   },
   {
    "duration": 5,
    "start_time": "2021-11-12T17:04:28.206Z"
   },
   {
    "duration": 9,
    "start_time": "2021-11-12T17:04:28.214Z"
   },
   {
    "duration": 50,
    "start_time": "2021-11-12T17:04:28.226Z"
   },
   {
    "duration": 41,
    "start_time": "2021-11-12T17:04:28.279Z"
   },
   {
    "duration": 60,
    "start_time": "2021-11-12T17:04:28.323Z"
   },
   {
    "duration": 198,
    "start_time": "2021-11-12T17:04:28.469Z"
   },
   {
    "duration": 207,
    "start_time": "2021-11-12T17:04:28.676Z"
   },
   {
    "duration": 125,
    "start_time": "2021-11-12T17:04:28.887Z"
   },
   {
    "duration": 539,
    "start_time": "2021-11-12T17:04:29.015Z"
   },
   {
    "duration": 55763,
    "start_time": "2021-11-12T17:04:29.557Z"
   },
   {
    "duration": 11,
    "start_time": "2021-11-12T17:05:25.323Z"
   },
   {
    "duration": 159,
    "start_time": "2021-11-12T17:05:25.336Z"
   },
   {
    "duration": 270,
    "start_time": "2021-11-12T17:05:25.498Z"
   },
   {
    "duration": 1905,
    "start_time": "2021-11-12T17:05:25.771Z"
   },
   {
    "duration": 292,
    "start_time": "2021-11-12T17:05:27.769Z"
   },
   {
    "duration": 1582,
    "start_time": "2021-11-12T17:05:28.067Z"
   },
   {
    "duration": 453,
    "start_time": "2021-11-12T17:05:29.652Z"
   },
   {
    "duration": 879,
    "start_time": "2021-11-12T17:05:29.229Z"
   },
   {
    "duration": 873,
    "start_time": "2021-11-12T17:05:29.236Z"
   },
   {
    "duration": 861,
    "start_time": "2021-11-12T17:05:29.249Z"
   },
   {
    "duration": 858,
    "start_time": "2021-11-12T17:05:29.254Z"
   },
   {
    "duration": 855,
    "start_time": "2021-11-12T17:05:29.258Z"
   },
   {
    "duration": 852,
    "start_time": "2021-11-12T17:05:29.262Z"
   },
   {
    "duration": 849,
    "start_time": "2021-11-12T17:05:29.267Z"
   },
   {
    "duration": 847,
    "start_time": "2021-11-12T17:05:29.270Z"
   },
   {
    "duration": 845,
    "start_time": "2021-11-12T17:05:29.274Z"
   },
   {
    "duration": 840,
    "start_time": "2021-11-12T17:05:29.280Z"
   },
   {
    "duration": 837,
    "start_time": "2021-11-12T17:05:29.284Z"
   },
   {
    "duration": 836,
    "start_time": "2021-11-12T17:05:29.287Z"
   },
   {
    "duration": 832,
    "start_time": "2021-11-12T17:05:29.292Z"
   },
   {
    "duration": 830,
    "start_time": "2021-11-12T17:05:29.296Z"
   },
   {
    "duration": 827,
    "start_time": "2021-11-12T17:05:29.300Z"
   },
   {
    "duration": 826,
    "start_time": "2021-11-12T17:05:29.303Z"
   },
   {
    "duration": 823,
    "start_time": "2021-11-12T17:05:29.308Z"
   },
   {
    "duration": 820,
    "start_time": "2021-11-12T17:05:29.312Z"
   },
   {
    "duration": 809,
    "start_time": "2021-11-12T17:05:29.324Z"
   },
   {
    "duration": 806,
    "start_time": "2021-11-12T17:05:29.329Z"
   },
   {
    "duration": 804,
    "start_time": "2021-11-12T17:05:29.333Z"
   },
   {
    "duration": 802,
    "start_time": "2021-11-12T17:05:29.336Z"
   },
   {
    "duration": 254,
    "start_time": "2021-11-12T17:05:58.525Z"
   },
   {
    "duration": 7,
    "start_time": "2021-11-12T17:06:34.401Z"
   },
   {
    "duration": 292,
    "start_time": "2021-11-12T17:06:37.904Z"
   },
   {
    "duration": 7,
    "start_time": "2021-11-12T17:06:48.842Z"
   },
   {
    "duration": 284,
    "start_time": "2021-11-12T17:06:54.250Z"
   },
   {
    "duration": 1701,
    "start_time": "2021-11-12T17:07:25.128Z"
   },
   {
    "duration": 37,
    "start_time": "2021-11-12T17:07:26.832Z"
   },
   {
    "duration": 21,
    "start_time": "2021-11-12T17:07:26.872Z"
   },
   {
    "duration": 18,
    "start_time": "2021-11-12T17:07:26.896Z"
   },
   {
    "duration": 17,
    "start_time": "2021-11-12T17:07:26.917Z"
   },
   {
    "duration": 67,
    "start_time": "2021-11-12T17:07:26.937Z"
   },
   {
    "duration": 8,
    "start_time": "2021-11-12T17:07:27.007Z"
   },
   {
    "duration": 111,
    "start_time": "2021-11-12T17:07:27.020Z"
   },
   {
    "duration": 33,
    "start_time": "2021-11-12T17:07:27.135Z"
   },
   {
    "duration": 7272,
    "start_time": "2021-11-12T17:07:27.171Z"
   },
   {
    "duration": 7,
    "start_time": "2021-11-12T17:07:34.445Z"
   },
   {
    "duration": 27,
    "start_time": "2021-11-12T17:07:34.455Z"
   },
   {
    "duration": 1295,
    "start_time": "2021-11-12T17:07:34.485Z"
   },
   {
    "duration": 8,
    "start_time": "2021-11-12T17:07:35.782Z"
   },
   {
    "duration": 30,
    "start_time": "2021-11-12T17:07:35.792Z"
   },
   {
    "duration": 44,
    "start_time": "2021-11-12T17:07:35.825Z"
   },
   {
    "duration": 5,
    "start_time": "2021-11-12T17:07:35.871Z"
   },
   {
    "duration": 19,
    "start_time": "2021-11-12T17:07:35.878Z"
   },
   {
    "duration": 25,
    "start_time": "2021-11-12T17:07:35.900Z"
   },
   {
    "duration": 61,
    "start_time": "2021-11-12T17:07:35.927Z"
   },
   {
    "duration": 89,
    "start_time": "2021-11-12T17:07:35.991Z"
   },
   {
    "duration": 285,
    "start_time": "2021-11-12T17:07:36.082Z"
   },
   {
    "duration": 124,
    "start_time": "2021-11-12T17:07:36.373Z"
   },
   {
    "duration": 116,
    "start_time": "2021-11-12T17:07:36.501Z"
   },
   {
    "duration": 576,
    "start_time": "2021-11-12T17:07:36.620Z"
   },
   {
    "duration": 56253,
    "start_time": "2021-11-12T17:07:37.198Z"
   },
   {
    "duration": 20,
    "start_time": "2021-11-12T17:08:33.454Z"
   },
   {
    "duration": 23,
    "start_time": "2021-11-12T17:08:33.477Z"
   },
   {
    "duration": 167,
    "start_time": "2021-11-12T17:08:33.502Z"
   },
   {
    "duration": 1793,
    "start_time": "2021-11-12T17:08:33.676Z"
   },
   {
    "duration": 312,
    "start_time": "2021-11-12T17:08:35.472Z"
   },
   {
    "duration": 1545,
    "start_time": "2021-11-12T17:08:35.787Z"
   },
   {
    "duration": 422,
    "start_time": "2021-11-12T17:08:37.334Z"
   },
   {
    "duration": 914,
    "start_time": "2021-11-12T17:08:36.844Z"
   },
   {
    "duration": 870,
    "start_time": "2021-11-12T17:08:36.889Z"
   },
   {
    "duration": 866,
    "start_time": "2021-11-12T17:08:36.895Z"
   },
   {
    "duration": 862,
    "start_time": "2021-11-12T17:08:36.900Z"
   },
   {
    "duration": 860,
    "start_time": "2021-11-12T17:08:36.903Z"
   },
   {
    "duration": 856,
    "start_time": "2021-11-12T17:08:36.908Z"
   },
   {
    "duration": 848,
    "start_time": "2021-11-12T17:08:36.918Z"
   },
   {
    "duration": 845,
    "start_time": "2021-11-12T17:08:36.922Z"
   },
   {
    "duration": 841,
    "start_time": "2021-11-12T17:08:36.928Z"
   },
   {
    "duration": 838,
    "start_time": "2021-11-12T17:08:36.932Z"
   },
   {
    "duration": 835,
    "start_time": "2021-11-12T17:08:36.936Z"
   },
   {
    "duration": 802,
    "start_time": "2021-11-12T17:08:36.970Z"
   },
   {
    "duration": 793,
    "start_time": "2021-11-12T17:08:36.981Z"
   },
   {
    "duration": 789,
    "start_time": "2021-11-12T17:08:36.986Z"
   },
   {
    "duration": 786,
    "start_time": "2021-11-12T17:08:36.991Z"
   },
   {
    "duration": 782,
    "start_time": "2021-11-12T17:08:36.996Z"
   },
   {
    "duration": 778,
    "start_time": "2021-11-12T17:08:37.001Z"
   },
   {
    "duration": 773,
    "start_time": "2021-11-12T17:08:37.007Z"
   },
   {
    "duration": 769,
    "start_time": "2021-11-12T17:08:37.012Z"
   },
   {
    "duration": 766,
    "start_time": "2021-11-12T17:08:37.017Z"
   },
   {
    "duration": 761,
    "start_time": "2021-11-12T17:08:37.023Z"
   },
   {
    "duration": 736,
    "start_time": "2021-11-12T17:08:37.049Z"
   },
   {
    "duration": 21,
    "start_time": "2021-11-12T17:09:09.529Z"
   },
   {
    "duration": 21,
    "start_time": "2021-11-12T17:09:19.370Z"
   },
   {
    "duration": 173,
    "start_time": "2021-11-12T17:09:19.394Z"
   },
   {
    "duration": 3700,
    "start_time": "2021-11-12T17:09:19.571Z"
   },
   {
    "duration": 1655,
    "start_time": "2021-11-12T17:09:23.368Z"
   },
   {
    "duration": 369,
    "start_time": "2021-11-12T17:09:25.025Z"
   },
   {
    "duration": 634,
    "start_time": "2021-11-12T17:09:25.397Z"
   },
   {
    "duration": 243,
    "start_time": "2021-11-12T17:09:26.033Z"
   },
   {
    "duration": 544,
    "start_time": "2021-11-12T17:09:26.280Z"
   },
   {
    "duration": 29241,
    "start_time": "2021-11-12T17:09:26.827Z"
   },
   {
    "duration": 13496,
    "start_time": "2021-11-12T17:09:56.074Z"
   },
   {
    "duration": 1318,
    "start_time": "2021-11-12T17:10:09.574Z"
   },
   {
    "duration": 113854,
    "start_time": "2021-11-12T17:10:10.894Z"
   },
   {
    "duration": 54831,
    "start_time": "2021-11-12T17:12:04.750Z"
   },
   {
    "duration": 933,
    "start_time": "2021-11-12T17:12:59.584Z"
   },
   {
    "duration": 3,
    "start_time": "2021-11-12T17:13:00.520Z"
   },
   {
    "duration": 140,
    "start_time": "2021-11-12T17:13:00.526Z"
   },
   {
    "duration": 110,
    "start_time": "2021-11-12T17:13:00.670Z"
   },
   {
    "duration": 939,
    "start_time": "2021-11-12T17:13:00.782Z"
   },
   {
    "duration": 17,
    "start_time": "2021-11-12T17:13:01.723Z"
   },
   {
    "duration": 35,
    "start_time": "2021-11-12T17:13:01.742Z"
   },
   {
    "duration": 29,
    "start_time": "2021-11-12T17:13:01.780Z"
   },
   {
    "duration": 6,
    "start_time": "2021-11-12T17:13:01.812Z"
   },
   {
    "duration": 23,
    "start_time": "2021-11-12T17:13:01.822Z"
   }
  ],
  "kernelspec": {
   "display_name": "Python 3 (ipykernel)",
   "language": "python",
   "name": "python3"
  },
  "language_info": {
   "codemirror_mode": {
    "name": "ipython",
    "version": 3
   },
   "file_extension": ".py",
   "mimetype": "text/x-python",
   "name": "python",
   "nbconvert_exporter": "python",
   "pygments_lexer": "ipython3",
   "version": "3.9.6"
  },
  "toc": {
   "base_numbering": 1,
   "nav_menu": {},
   "number_sections": true,
   "sideBar": true,
   "skip_h1_title": true,
   "title_cell": "Содержание",
   "title_sidebar": "Contents",
   "toc_cell": false,
   "toc_position": {},
   "toc_section_display": true,
   "toc_window_display": false
  }
 },
 "nbformat": 4,
 "nbformat_minor": 4
}
