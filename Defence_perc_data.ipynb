{
 "cells": [
  {
   "cell_type": "markdown",
   "id": "29eedc56",
   "metadata": {},
   "source": [
    "# Защита персональных данных"
   ]
  },
  {
   "cell_type": "markdown",
   "id": "6a519c82",
   "metadata": {},
   "source": [
    "Цель: защитить данные клиентов страховой компании.\n",
    "- Разработать метод преобразования данных, чтобы по ним было сложно восстановить персональную информацию.\n",
    "- Дать обоснование корректности его работы. При преобразовании, качество моделей машинного обучения не должно ухудшаться\n",
    "- Подбирать наилучшую модель не требуется."
   ]
  },
  {
   "cell_type": "code",
   "execution_count": 1,
   "id": "9500bb90",
   "metadata": {},
   "outputs": [],
   "source": [
    "import pandas as pd\n",
    "import numpy as np\n",
    "from sklearn.model_selection import train_test_split\n",
    "from sklearn.preprocessing import StandardScaler\n",
    "from sklearn.linear_model import LinearRegression\n",
    "from sklearn.metrics import r2_score\n",
    "from numpy import linalg as LA\n",
    "\n",
    "float_formatter = \"{:.3f}\".format\n",
    "np.set_printoptions(formatter={'float_kind':float_formatter})\n",
    "pd.options.display.float_format ='{:,.2f}'.format\n"
   ]
  },
  {
   "cell_type": "markdown",
   "id": "9aee8f97",
   "metadata": {},
   "source": [
    "## Предобработка и оценка данных"
   ]
  },
  {
   "cell_type": "code",
   "execution_count": 2,
   "id": "e506b1ee",
   "metadata": {},
   "outputs": [
    {
     "data": {
      "text/html": [
       "<div>\n",
       "<style scoped>\n",
       "    .dataframe tbody tr th:only-of-type {\n",
       "        vertical-align: middle;\n",
       "    }\n",
       "\n",
       "    .dataframe tbody tr th {\n",
       "        vertical-align: top;\n",
       "    }\n",
       "\n",
       "    .dataframe thead th {\n",
       "        text-align: right;\n",
       "    }\n",
       "</style>\n",
       "<table border=\"1\" class=\"dataframe\">\n",
       "  <thead>\n",
       "    <tr style=\"text-align: right;\">\n",
       "      <th></th>\n",
       "      <th>Пол</th>\n",
       "      <th>Возраст</th>\n",
       "      <th>Зарплата</th>\n",
       "      <th>Члены семьи</th>\n",
       "      <th>Страховые выплаты</th>\n",
       "    </tr>\n",
       "  </thead>\n",
       "  <tbody>\n",
       "    <tr>\n",
       "      <td>0</td>\n",
       "      <td>1</td>\n",
       "      <td>41.00</td>\n",
       "      <td>49,600.00</td>\n",
       "      <td>1</td>\n",
       "      <td>0</td>\n",
       "    </tr>\n",
       "    <tr>\n",
       "      <td>1</td>\n",
       "      <td>0</td>\n",
       "      <td>46.00</td>\n",
       "      <td>38,000.00</td>\n",
       "      <td>1</td>\n",
       "      <td>1</td>\n",
       "    </tr>\n",
       "    <tr>\n",
       "      <td>2</td>\n",
       "      <td>0</td>\n",
       "      <td>29.00</td>\n",
       "      <td>21,000.00</td>\n",
       "      <td>0</td>\n",
       "      <td>0</td>\n",
       "    </tr>\n",
       "    <tr>\n",
       "      <td>3</td>\n",
       "      <td>0</td>\n",
       "      <td>21.00</td>\n",
       "      <td>41,700.00</td>\n",
       "      <td>2</td>\n",
       "      <td>0</td>\n",
       "    </tr>\n",
       "    <tr>\n",
       "      <td>4</td>\n",
       "      <td>1</td>\n",
       "      <td>28.00</td>\n",
       "      <td>26,100.00</td>\n",
       "      <td>0</td>\n",
       "      <td>0</td>\n",
       "    </tr>\n",
       "  </tbody>\n",
       "</table>\n",
       "</div>"
      ],
      "text/plain": [
       "   Пол  Возраст  Зарплата  Члены семьи  Страховые выплаты\n",
       "0    1    41.00 49,600.00            1                  0\n",
       "1    0    46.00 38,000.00            1                  1\n",
       "2    0    29.00 21,000.00            0                  0\n",
       "3    0    21.00 41,700.00            2                  0\n",
       "4    1    28.00 26,100.00            0                  0"
      ]
     },
     "execution_count": 2,
     "metadata": {},
     "output_type": "execute_result"
    }
   ],
   "source": [
    "data = pd.read_csv('/datasets/insurance.csv')\n",
    "data.head()"
   ]
  },
  {
   "cell_type": "code",
   "execution_count": 3,
   "id": "7f43dd9a",
   "metadata": {},
   "outputs": [
    {
     "name": "stdout",
     "output_type": "stream",
     "text": [
      "<class 'pandas.core.frame.DataFrame'>\n",
      "RangeIndex: 5000 entries, 0 to 4999\n",
      "Data columns (total 5 columns):\n",
      "Пол                  5000 non-null int64\n",
      "Возраст              5000 non-null float64\n",
      "Зарплата             5000 non-null float64\n",
      "Члены семьи          5000 non-null int64\n",
      "Страховые выплаты    5000 non-null int64\n",
      "dtypes: float64(2), int64(3)\n",
      "memory usage: 195.4 KB\n"
     ]
    }
   ],
   "source": [
    "data.info()"
   ]
  },
  {
   "cell_type": "markdown",
   "id": "5487df34",
   "metadata": {},
   "source": [
    "**Комментарий:** данные без пропусков. Заработную плату  и  возраст перевелем в int."
   ]
  },
  {
   "cell_type": "code",
   "execution_count": 4,
   "id": "38f0c8a9",
   "metadata": {},
   "outputs": [],
   "source": [
    "columns = data.columns\n",
    "data = data.astype('int')"
   ]
  },
  {
   "cell_type": "code",
   "execution_count": 5,
   "id": "0289636c",
   "metadata": {},
   "outputs": [
    {
     "data": {
      "text/html": [
       "<div>\n",
       "<style scoped>\n",
       "    .dataframe tbody tr th:only-of-type {\n",
       "        vertical-align: middle;\n",
       "    }\n",
       "\n",
       "    .dataframe tbody tr th {\n",
       "        vertical-align: top;\n",
       "    }\n",
       "\n",
       "    .dataframe thead th {\n",
       "        text-align: right;\n",
       "    }\n",
       "</style>\n",
       "<table border=\"1\" class=\"dataframe\">\n",
       "  <thead>\n",
       "    <tr style=\"text-align: right;\">\n",
       "      <th></th>\n",
       "      <th>Пол</th>\n",
       "      <th>Возраст</th>\n",
       "      <th>Зарплата</th>\n",
       "      <th>Члены семьи</th>\n",
       "      <th>Страховые выплаты</th>\n",
       "    </tr>\n",
       "  </thead>\n",
       "  <tbody>\n",
       "    <tr>\n",
       "      <td>count</td>\n",
       "      <td>5,000.00</td>\n",
       "      <td>5,000.00</td>\n",
       "      <td>5,000.00</td>\n",
       "      <td>5,000.00</td>\n",
       "      <td>5,000.00</td>\n",
       "    </tr>\n",
       "    <tr>\n",
       "      <td>mean</td>\n",
       "      <td>0.50</td>\n",
       "      <td>30.95</td>\n",
       "      <td>39,916.36</td>\n",
       "      <td>1.19</td>\n",
       "      <td>0.15</td>\n",
       "    </tr>\n",
       "    <tr>\n",
       "      <td>std</td>\n",
       "      <td>0.50</td>\n",
       "      <td>8.44</td>\n",
       "      <td>9,900.08</td>\n",
       "      <td>1.09</td>\n",
       "      <td>0.46</td>\n",
       "    </tr>\n",
       "    <tr>\n",
       "      <td>min</td>\n",
       "      <td>0.00</td>\n",
       "      <td>18.00</td>\n",
       "      <td>5,300.00</td>\n",
       "      <td>0.00</td>\n",
       "      <td>0.00</td>\n",
       "    </tr>\n",
       "    <tr>\n",
       "      <td>25%</td>\n",
       "      <td>0.00</td>\n",
       "      <td>24.00</td>\n",
       "      <td>33,300.00</td>\n",
       "      <td>0.00</td>\n",
       "      <td>0.00</td>\n",
       "    </tr>\n",
       "    <tr>\n",
       "      <td>50%</td>\n",
       "      <td>0.00</td>\n",
       "      <td>30.00</td>\n",
       "      <td>40,200.00</td>\n",
       "      <td>1.00</td>\n",
       "      <td>0.00</td>\n",
       "    </tr>\n",
       "    <tr>\n",
       "      <td>75%</td>\n",
       "      <td>1.00</td>\n",
       "      <td>37.00</td>\n",
       "      <td>46,600.00</td>\n",
       "      <td>2.00</td>\n",
       "      <td>0.00</td>\n",
       "    </tr>\n",
       "    <tr>\n",
       "      <td>max</td>\n",
       "      <td>1.00</td>\n",
       "      <td>65.00</td>\n",
       "      <td>79,000.00</td>\n",
       "      <td>6.00</td>\n",
       "      <td>5.00</td>\n",
       "    </tr>\n",
       "  </tbody>\n",
       "</table>\n",
       "</div>"
      ],
      "text/plain": [
       "           Пол  Возраст  Зарплата  Члены семьи  Страховые выплаты\n",
       "count 5,000.00 5,000.00  5,000.00     5,000.00           5,000.00\n",
       "mean      0.50    30.95 39,916.36         1.19               0.15\n",
       "std       0.50     8.44  9,900.08         1.09               0.46\n",
       "min       0.00    18.00  5,300.00         0.00               0.00\n",
       "25%       0.00    24.00 33,300.00         0.00               0.00\n",
       "50%       0.00    30.00 40,200.00         1.00               0.00\n",
       "75%       1.00    37.00 46,600.00         2.00               0.00\n",
       "max       1.00    65.00 79,000.00         6.00               5.00"
      ]
     },
     "execution_count": 5,
     "metadata": {},
     "output_type": "execute_result"
    }
   ],
   "source": [
    "data.describe()"
   ]
  },
  {
   "cell_type": "markdown",
   "id": "e2878b6c",
   "metadata": {},
   "source": [
    "**Комментарий:** данные распределены нормально, каких либо отклонений и выбросов  нет."
   ]
  },
  {
   "cell_type": "markdown",
   "id": "ae2907df",
   "metadata": {},
   "source": [
    "## Умножение матриц"
   ]
  },
  {
   "cell_type": "markdown",
   "id": "c354a324",
   "metadata": {},
   "source": [
    "**Проведем теоретическое  исследование:** <br/>\n",
    "При перемножении признаков умножают на обратимую матрицу. Изменяется ли качество линейной регрессии? Её можно обучить заново?\n",
    "- Если изменится. Привести примеры матриц.\n",
    "- Если не изменится. Указать, как связаны параметры линейной регрессии в исходной задаче и в преобразованной."
   ]
  },
  {
   "cell_type": "code",
   "execution_count": 6,
   "id": "d7de4d39",
   "metadata": {},
   "outputs": [],
   "source": [
    "features = data.drop('Страховые выплаты',axis=1)\n",
    "target = data['Страховые выплаты']"
   ]
  },
  {
   "cell_type": "markdown",
   "id": "4e0d96c9",
   "metadata": {},
   "source": [
    "- Проверим работу формулу определения $w$ и из sklearn"
   ]
  },
  {
   "cell_type": "code",
   "execution_count": 7,
   "id": "c43b16a9",
   "metadata": {},
   "outputs": [
    {
     "data": {
      "text/plain": [
       "array([0.008, 0.036, -0.000, -0.014])"
      ]
     },
     "metadata": {},
     "output_type": "display_data"
    },
    {
     "data": {
      "text/plain": [
       "array([0.008, 0.036, -0.000, -0.014])"
      ]
     },
     "execution_count": 7,
     "metadata": {},
     "output_type": "execute_result"
    }
   ],
   "source": [
    "w0 = np.ones((features.shape[0],1))\n",
    "X = np.concatenate((w0,features),axis=1)\n",
    "y = np.array(target)\n",
    "w  = np.linalg.inv(X.T@X)@X.T@y\n",
    "display(w[1:])\n",
    "\n",
    "model = LinearRegression()\n",
    "model.fit(features,target)\n",
    "model.coef_"
   ]
  },
  {
   "cell_type": "markdown",
   "id": "d6b22f25",
   "metadata": {},
   "source": [
    "**Комментарий:** Расчет коэффициентов одинаковый. Мы на правильном пути."
   ]
  },
  {
   "cell_type": "markdown",
   "id": "e00e31c9",
   "metadata": {},
   "source": [
    "**Обозначения:**\n",
    "\n",
    "- $X$ — матрица признаков (+ нулевой столбец,который состоит из единиц)\n",
    "\n",
    "- $y$ — вектор целевого признака\n",
    "\n",
    "- $P$ — матрица, на которую умножаются признаки\n",
    "\n",
    "- $w$ — вектор весов линейной регрессии (нулевой элемент равен сдвигу)"
   ]
  },
  {
   "cell_type": "markdown",
   "id": "c765adcb",
   "metadata": {},
   "source": [
    "- Предсказания:<br/>\n",
    "$a = Xw$<br/>\n",
    "- Задача обучения:<br/>\n",
    "$w = \\arg\\min_w MSE(Xw, y)$<br/>\n",
    "- Формула обучения:<br/>\n",
    "$w = (X^T X)^{-1} X^T y$<br/>"
   ]
  },
  {
   "cell_type": "markdown",
   "id": "44599888",
   "metadata": {},
   "source": [
    "Необходимо доказать , что $a' = X'w' = Xw = a$.<br/>Заменим $X = XP$, и подставим в формулу обучения, получим $w' = ((XP)^T XP)^{-1} (XP)^T y$"
   ]
  },
  {
   "cell_type": "markdown",
   "id": "1352c439",
   "metadata": {},
   "source": [
    "Воспользуемяся свойствами матриц <br/>\n",
    "1. $(AB)^{-1} = B^{-1}A^{-1}$<br/>\n",
    "2. $(AB)^T = B^TA^T$ <br/>\n",
    "3. $AA^{-1} = E$ (Единичная матрица) <br/>\n",
    "Перейдем к преобразованию"
   ]
  },
  {
   "cell_type": "markdown",
   "id": "88cee3f1",
   "metadata": {},
   "source": [
    "$w'= ((XP)^T XP)^{-1} (XP)^T y$ <br/>\n",
    "<br/>\n",
    "Используя свойства транспонированных матриц представим транспонированное произведение, как произведение транспонированных матриц, взятых в обратном порядке $(AB)^T = B^TA^T$<br/>\n",
    "<br/>\n",
    "$((P^T)(X^TXP))^{-1}P^TX^Ty$ (2.1) \n",
    "\n",
    "* $P^T$ - квадратная матрица, утверждение вытекает из условия задачи.<br/>\n",
    "* $(X^TXP)$ - также квадратная матрица, так как произведение матрицы и транспонированной матрицы - квадратная матрица. Умножение квадратных матриц  дает квадраную матрицу. Значит для квадратных обратимых матриц мы можем применить свойство обратных матриц $(AB)^{-1} = B^{-1}A^{-1}$ <br/>\n",
    "\n",
    "Продолжим трансформации формулы (2.1) <br/>\n",
    " <br/>\n",
    "$(X^TXP)^{-1} (P^T)^{-1} P^TX^Ty = ((X^TX)P)^{-1}EX^Ty = P^{-1}((X^TX)^{-1}X^Ty) =P^{-1}w\n",
    "$<br/>\n"
   ]
  },
  {
   "cell_type": "markdown",
   "id": "d4df39ad",
   "metadata": {},
   "source": [
    "$a' = X'w' = XPP^{-1}w =Xw= a$"
   ]
  },
  {
   "cell_type": "markdown",
   "id": "61add50c",
   "metadata": {},
   "source": [
    "**Вывод:** При умножение признаков на обратимую матрицу, качество линейной  регрессии измениться не  должно.\n"
   ]
  },
  {
   "cell_type": "markdown",
   "id": "771766fe",
   "metadata": {},
   "source": [
    "## Алгоритм преобразования"
   ]
  },
  {
   "cell_type": "markdown",
   "id": "c08064a3",
   "metadata": {},
   "source": [
    "Для защиты информации на этапе поиска коэффициентов регрессии и предсказаний регрессии будем умножать матрицу признаков на обратимую матрицу, которая будет генерироваться случайным образом. Чтобы матрица была обратимой, она как минимум должна быть квадратной<br/>\n",
    "1. Составим матрицу\n",
    "2. Проверка матрицы на обратимость. Проверка наличия детерминанта\n",
    "3. формирование матрицы с преобразованными признаками \n",
    "4. Применение алгоритма на преобразованных данных\n",
    "\n",
    "**Обоснование**\n",
    "\n",
    "Матрица  должна быть размерностью n x n , где n - количество признаков регрессии. Как  ранее упоминалось, что Обратная матрица  существует только для квадратных невырожденных матриц (определитель которых не равен нулю).\n"
   ]
  },
  {
   "cell_type": "markdown",
   "id": "d5098724",
   "metadata": {},
   "source": [
    "## Проверка алгоритма"
   ]
  },
  {
   "cell_type": "markdown",
   "id": "5ced35a6",
   "metadata": {},
   "source": [
    "Так как будем работать с линейной регрессией, то требуется масштабирование даннных."
   ]
  },
  {
   "cell_type": "code",
   "execution_count": 8,
   "id": "0d7c9abe",
   "metadata": {},
   "outputs": [],
   "source": [
    "scaler = StandardScaler()\n",
    "scaler.fit(features)\n",
    "features_scaler = scaler.transform(features)"
   ]
  },
  {
   "cell_type": "code",
   "execution_count": 9,
   "id": "8e94d0d5",
   "metadata": {},
   "outputs": [],
   "source": [
    "features_train, features_test, target_train, target_test = train_test_split(features_scaler, target, test_size=0.25, random_state=393)"
   ]
  },
  {
   "cell_type": "code",
   "execution_count": 10,
   "id": "750a6d28",
   "metadata": {},
   "outputs": [
    {
     "name": "stdout",
     "output_type": "stream",
     "text": [
      "R2 - score: 0.4157845318586466\n"
     ]
    }
   ],
   "source": [
    "line_regres = LinearRegression()\n",
    "line_regres.fit(features_train, target_train)\n",
    "prediction = line_regres.predict(features_test)\n",
    "r2 =  r2_score(target_test, prediction)\n",
    "print('R2 - score:',r2)"
   ]
  },
  {
   "cell_type": "markdown",
   "id": "0855d4a0",
   "metadata": {},
   "source": [
    "**Вывод:** метрика R2 до преобразования составляет, 0.4157845314096005. После преобразований она должна остаться такой же."
   ]
  },
  {
   "cell_type": "markdown",
   "id": "cc645efd",
   "metadata": {},
   "source": [
    "Создадим функцию преобразования матрицы признаков."
   ]
  },
  {
   "cell_type": "code",
   "execution_count": 11,
   "id": "55b097e7",
   "metadata": {},
   "outputs": [],
   "source": [
    "def create_crypto_matrix(features):\n",
    "    try:  \n",
    "        np.random.seed(393)\n",
    "        n = features.shape[1]\n",
    "        random_matrix= np.random.randint(-10,10,(n,n))\n",
    "        random_matrix = LA.inv(random_matrix)\n",
    "        crypto_matrix = features@random_matrix\n",
    "        return crypto_matrix\n",
    "    except:\n",
    "        print ('Матрица является вырожденной')"
   ]
  },
  {
   "cell_type": "code",
   "execution_count": 12,
   "id": "93f9f440",
   "metadata": {},
   "outputs": [
    {
     "data": {
      "text/html": [
       "<div>\n",
       "<style scoped>\n",
       "    .dataframe tbody tr th:only-of-type {\n",
       "        vertical-align: middle;\n",
       "    }\n",
       "\n",
       "    .dataframe tbody tr th {\n",
       "        vertical-align: top;\n",
       "    }\n",
       "\n",
       "    .dataframe thead th {\n",
       "        text-align: right;\n",
       "    }\n",
       "</style>\n",
       "<table border=\"1\" class=\"dataframe\">\n",
       "  <thead>\n",
       "    <tr style=\"text-align: right;\">\n",
       "      <th></th>\n",
       "      <th>Пол</th>\n",
       "      <th>Возраст</th>\n",
       "      <th>Зарплата</th>\n",
       "      <th>Члены семьи</th>\n",
       "    </tr>\n",
       "  </thead>\n",
       "  <tbody>\n",
       "    <tr>\n",
       "      <td>0</td>\n",
       "      <td>1</td>\n",
       "      <td>41</td>\n",
       "      <td>49600</td>\n",
       "      <td>1</td>\n",
       "    </tr>\n",
       "    <tr>\n",
       "      <td>1</td>\n",
       "      <td>0</td>\n",
       "      <td>46</td>\n",
       "      <td>38000</td>\n",
       "      <td>1</td>\n",
       "    </tr>\n",
       "    <tr>\n",
       "      <td>2</td>\n",
       "      <td>0</td>\n",
       "      <td>29</td>\n",
       "      <td>21000</td>\n",
       "      <td>0</td>\n",
       "    </tr>\n",
       "    <tr>\n",
       "      <td>3</td>\n",
       "      <td>0</td>\n",
       "      <td>21</td>\n",
       "      <td>41700</td>\n",
       "      <td>2</td>\n",
       "    </tr>\n",
       "    <tr>\n",
       "      <td>4</td>\n",
       "      <td>1</td>\n",
       "      <td>28</td>\n",
       "      <td>26100</td>\n",
       "      <td>0</td>\n",
       "    </tr>\n",
       "  </tbody>\n",
       "</table>\n",
       "</div>"
      ],
      "text/plain": [
       "   Пол  Возраст  Зарплата  Члены семьи\n",
       "0    1       41     49600            1\n",
       "1    0       46     38000            1\n",
       "2    0       29     21000            0\n",
       "3    0       21     41700            2\n",
       "4    1       28     26100            0"
      ]
     },
     "metadata": {},
     "output_type": "display_data"
    },
    {
     "data": {
      "text/html": [
       "<div>\n",
       "<style scoped>\n",
       "    .dataframe tbody tr th:only-of-type {\n",
       "        vertical-align: middle;\n",
       "    }\n",
       "\n",
       "    .dataframe tbody tr th {\n",
       "        vertical-align: top;\n",
       "    }\n",
       "\n",
       "    .dataframe thead th {\n",
       "        text-align: right;\n",
       "    }\n",
       "</style>\n",
       "<table border=\"1\" class=\"dataframe\">\n",
       "  <thead>\n",
       "    <tr style=\"text-align: right;\">\n",
       "      <th></th>\n",
       "      <th>0</th>\n",
       "      <th>1</th>\n",
       "      <th>2</th>\n",
       "      <th>3</th>\n",
       "    </tr>\n",
       "  </thead>\n",
       "  <tbody>\n",
       "    <tr>\n",
       "      <td>0</td>\n",
       "      <td>1.00</td>\n",
       "      <td>1.19</td>\n",
       "      <td>0.98</td>\n",
       "      <td>-0.18</td>\n",
       "    </tr>\n",
       "    <tr>\n",
       "      <td>1</td>\n",
       "      <td>-1.00</td>\n",
       "      <td>1.78</td>\n",
       "      <td>-0.19</td>\n",
       "      <td>-0.18</td>\n",
       "    </tr>\n",
       "    <tr>\n",
       "      <td>2</td>\n",
       "      <td>-1.00</td>\n",
       "      <td>-0.23</td>\n",
       "      <td>-1.91</td>\n",
       "      <td>-1.09</td>\n",
       "    </tr>\n",
       "    <tr>\n",
       "      <td>3</td>\n",
       "      <td>-1.00</td>\n",
       "      <td>-1.18</td>\n",
       "      <td>0.18</td>\n",
       "      <td>0.74</td>\n",
       "    </tr>\n",
       "    <tr>\n",
       "      <td>4</td>\n",
       "      <td>1.00</td>\n",
       "      <td>-0.35</td>\n",
       "      <td>-1.40</td>\n",
       "      <td>-1.09</td>\n",
       "    </tr>\n",
       "  </tbody>\n",
       "</table>\n",
       "</div>"
      ],
      "text/plain": [
       "      0     1     2     3\n",
       "0  1.00  1.19  0.98 -0.18\n",
       "1 -1.00  1.78 -0.19 -0.18\n",
       "2 -1.00 -0.23 -1.91 -1.09\n",
       "3 -1.00 -1.18  0.18  0.74\n",
       "4  1.00 -0.35 -1.40 -1.09"
      ]
     },
     "metadata": {},
     "output_type": "display_data"
    },
    {
     "data": {
      "text/html": [
       "<div>\n",
       "<style scoped>\n",
       "    .dataframe tbody tr th:only-of-type {\n",
       "        vertical-align: middle;\n",
       "    }\n",
       "\n",
       "    .dataframe tbody tr th {\n",
       "        vertical-align: top;\n",
       "    }\n",
       "\n",
       "    .dataframe thead th {\n",
       "        text-align: right;\n",
       "    }\n",
       "</style>\n",
       "<table border=\"1\" class=\"dataframe\">\n",
       "  <thead>\n",
       "    <tr style=\"text-align: right;\">\n",
       "      <th></th>\n",
       "      <th>0</th>\n",
       "      <th>1</th>\n",
       "      <th>2</th>\n",
       "      <th>3</th>\n",
       "    </tr>\n",
       "  </thead>\n",
       "  <tbody>\n",
       "    <tr>\n",
       "      <td>0</td>\n",
       "      <td>-2,049.28</td>\n",
       "      <td>-5,275.52</td>\n",
       "      <td>-1,935.25</td>\n",
       "      <td>-1,897.40</td>\n",
       "    </tr>\n",
       "    <tr>\n",
       "      <td>1</td>\n",
       "      <td>-1,571.38</td>\n",
       "      <td>-4,043.00</td>\n",
       "      <td>-1,482.77</td>\n",
       "      <td>-1,453.23</td>\n",
       "    </tr>\n",
       "    <tr>\n",
       "      <td>2</td>\n",
       "      <td>-868.77</td>\n",
       "      <td>-2,234.55</td>\n",
       "      <td>-819.46</td>\n",
       "      <td>-803.03</td>\n",
       "    </tr>\n",
       "    <tr>\n",
       "      <td>3</td>\n",
       "      <td>-1,721.69</td>\n",
       "      <td>-4,434.07</td>\n",
       "      <td>-1,627.03</td>\n",
       "      <td>-1,595.48</td>\n",
       "    </tr>\n",
       "    <tr>\n",
       "      <td>4</td>\n",
       "      <td>-1,078.90</td>\n",
       "      <td>-2,776.61</td>\n",
       "      <td>-1,018.33</td>\n",
       "      <td>-998.30</td>\n",
       "    </tr>\n",
       "  </tbody>\n",
       "</table>\n",
       "</div>"
      ],
      "text/plain": [
       "          0         1         2         3\n",
       "0 -2,049.28 -5,275.52 -1,935.25 -1,897.40\n",
       "1 -1,571.38 -4,043.00 -1,482.77 -1,453.23\n",
       "2   -868.77 -2,234.55   -819.46   -803.03\n",
       "3 -1,721.69 -4,434.07 -1,627.03 -1,595.48\n",
       "4 -1,078.90 -2,776.61 -1,018.33   -998.30"
      ]
     },
     "metadata": {},
     "output_type": "display_data"
    }
   ],
   "source": [
    "display(features.head())\n",
    "display(pd.DataFrame(features_scaler).head())\n",
    "display(pd.DataFrame(create_crypto_matrix(features)).head())"
   ]
  },
  {
   "cell_type": "markdown",
   "id": "ab1a301f",
   "metadata": {},
   "source": [
    "**Вывод:** по порядку  сверху вниз идут текущий дата фрейм признаков, далее отмасштабированный и последний перемноженные на обратимую матрицу. Очевидно, что понять суть значений невозможно."
   ]
  },
  {
   "cell_type": "code",
   "execution_count": 13,
   "id": "6822ecad",
   "metadata": {},
   "outputs": [],
   "source": [
    "crypto_matrix = create_crypto_matrix(features)\n",
    "scaler_crypto = StandardScaler()\n",
    "scaler_crypto.fit(crypto_matrix)\n",
    "features_scaler_crypto = scaler_crypto.transform(crypto_matrix)\n",
    "features_train_crypto, features_test_crypto, target_train_crypto, target_test_crypto = train_test_split(features_scaler_crypto, target, test_size=0.25, random_state=393)\n"
   ]
  },
  {
   "cell_type": "code",
   "execution_count": 14,
   "id": "64788d92",
   "metadata": {},
   "outputs": [
    {
     "name": "stdout",
     "output_type": "stream",
     "text": [
      "R2 - score: 0.4157845318586437\n"
     ]
    }
   ],
   "source": [
    "line_regres_crypto = LinearRegression()\n",
    "line_regres_crypto.fit(features_train_crypto, target_train_crypto)\n",
    "prediction = line_regres_crypto.predict(features_test_crypto)\n",
    "r2 =  r2_score(target_test_crypto, prediction)\n",
    "print('R2 - score:',r2)"
   ]
  },
  {
   "cell_type": "markdown",
   "id": "bb8a3b90",
   "metadata": {},
   "source": [
    "**Вывод:** Метрика R2 до и после преобразования  составляет 0.415784531409, что говорит о том, используя  обратимую матрицу, как инструмент шифрования данных, качество линейной регресии при этом не меняется."
   ]
  },
  {
   "cell_type": "markdown",
   "id": "8e726a95",
   "metadata": {},
   "source": [
    "# Итог:\n",
    "По результатам работы:\n",
    "1. Сформировали алгоритм  шифрования  данных\n",
    "2. Качество модели после использования алгоритма осталось неизменным.\n",
    "3. Шифрование удалось, данные клиентов компании защищены"
   ]
  }
 ],
 "metadata": {
  "ExecuteTimeLog": [
   {
    "duration": 1422,
    "start_time": "2021-12-13T15:50:12.371Z"
   },
   {
    "duration": 36,
    "start_time": "2021-12-13T15:50:15.133Z"
   },
   {
    "duration": 13,
    "start_time": "2021-12-13T15:50:15.308Z"
   },
   {
    "duration": 5,
    "start_time": "2021-12-13T15:50:15.892Z"
   },
   {
    "duration": 33,
    "start_time": "2021-12-13T15:50:16.166Z"
   },
   {
    "duration": 7,
    "start_time": "2021-12-13T15:51:08.718Z"
   },
   {
    "duration": 69,
    "start_time": "2021-12-13T15:51:09.558Z"
   },
   {
    "duration": 7,
    "start_time": "2021-12-13T15:52:39.245Z"
   },
   {
    "duration": 6,
    "start_time": "2021-12-13T15:52:39.990Z"
   },
   {
    "duration": 8,
    "start_time": "2021-12-13T15:52:40.684Z"
   },
   {
    "duration": 5,
    "start_time": "2021-12-13T15:52:43.054Z"
   },
   {
    "duration": 23,
    "start_time": "2021-12-13T15:52:43.562Z"
   },
   {
    "duration": 14,
    "start_time": "2021-12-13T15:52:44.916Z"
   },
   {
    "duration": 13,
    "start_time": "2021-12-13T15:52:45.118Z"
   }
  ],
  "kernelspec": {
   "display_name": "Python 3 (ipykernel)",
   "language": "python",
   "name": "python3"
  },
  "language_info": {
   "codemirror_mode": {
    "name": "ipython",
    "version": 3
   },
   "file_extension": ".py",
   "mimetype": "text/x-python",
   "name": "python",
   "nbconvert_exporter": "python",
   "pygments_lexer": "ipython3",
   "version": "3.9.6"
  },
  "toc": {
   "base_numbering": 1,
   "nav_menu": {},
   "number_sections": true,
   "sideBar": true,
   "skip_h1_title": true,
   "title_cell": "Table of Contents",
   "title_sidebar": "Contents",
   "toc_cell": false,
   "toc_position": {},
   "toc_section_display": true,
   "toc_window_display": false
  }
 },
 "nbformat": 4,
 "nbformat_minor": 5
}
