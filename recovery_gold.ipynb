{
 "cells": [
  {
   "cell_type": "markdown",
   "metadata": {},
   "source": [
    "# Восстановление золота из руды"
   ]
  },
  {
   "cell_type": "markdown",
   "metadata": {},
   "source": [
    "**Задача** - подготовить прототип модели машинного обучения для «Цифры». Компания разрабатывает решения для эффективной работы промышленных предприятий.\n",
    "\n",
    "- Модель должна предсказать коэффициент восстановления золота из золотосодержащей руды. \n",
    "\n",
    "- Модель должна оптимизировать производство, чтобы не запускать предприятие с убыточными характеристиками.\n",
    "\n",
    "**План:**\n",
    "\n",
    "1. Подготовить данные и провести предобработку\n",
    "2. Провести исследовательский анализ данных\n",
    "3. Построить и обучить модель"
   ]
  },
  {
   "cell_type": "code",
   "execution_count": 1,
   "metadata": {},
   "outputs": [
    {
     "data": {
      "text/html": [
       "<style>.container { width:80% !important; }</style>"
      ],
      "text/plain": [
       "<IPython.core.display.HTML object>"
      ]
     },
     "metadata": {},
     "output_type": "display_data"
    }
   ],
   "source": [
    "import pandas as pd\n",
    "import glob\n",
    "from sklearn.metrics import mean_absolute_error \n",
    "import matplotlib\n",
    "import matplotlib.pyplot as plt\n",
    "import numpy as np\n",
    "import seaborn as sns\n",
    "from sklearn.preprocessing import StandardScaler\n",
    "from sklearn.ensemble import RandomForestRegressor\n",
    "from sklearn.metrics import mean_squared_error\n",
    "from sklearn.linear_model import LinearRegression\n",
    "from sklearn.tree import DecisionTreeRegressor\n",
    "from sklearn.metrics import r2_score\n",
    "from sklearn.model_selection import cross_val_score\n",
    "from sklearn.metrics import fbeta_score, make_scorer\n",
    "from sklearn.model_selection import GridSearchCV\n",
    "from sklearn.dummy import DummyRegressor\n",
    "\n",
    "sns.set_style(\"darkgrid\")\n",
    "pd.options.display.float_format = '{:,.2f}'.format\n",
    "matplotlib.style.use('ggplot')\n",
    "from IPython.core.display import display, HTML\n",
    "display(HTML(\"<style>.container { width:80% !important; }</style>\"))\n",
    "\n",
    "pd.set_option('display.max_columns', None)\n",
    "pd.set_option('display.max_rows', 10)\n"
   ]
  },
  {
   "cell_type": "markdown",
   "metadata": {},
   "source": [
    "## Подготовка данных"
   ]
  },
  {
   "cell_type": "code",
   "execution_count": 2,
   "metadata": {},
   "outputs": [
    {
     "data": {
      "text/plain": [
       "['/datasets/gold_recovery_full_new.csv',\n",
       " '/datasets/gold_recovery_test_new.csv',\n",
       " '/datasets/gold_recovery_train_new.csv']"
      ]
     },
     "execution_count": 2,
     "metadata": {},
     "output_type": "execute_result"
    }
   ],
   "source": [
    "data_set = []\n",
    "path = '/datasets/'\n",
    "filenames = glob.glob(path+\"gold_recovery*_new.csv\")\n",
    "for  i in filenames:\n",
    "    data_set.append(pd.read_csv(i))\n",
    "filenames"
   ]
  },
  {
   "cell_type": "code",
   "execution_count": 3,
   "metadata": {},
   "outputs": [],
   "source": [
    "gold_recovery_full_new = data_set[0]\n",
    "gold_recovery_test_new = data_set[1]\n",
    "gold_recovery_train_new = data_set[2]"
   ]
  },
  {
   "cell_type": "markdown",
   "metadata": {},
   "source": [
    "### Расчет эффективности обогащения "
   ]
  },
  {
   "cell_type": "markdown",
   "metadata": {},
   "source": [
    "Рассчитаем эффективноть обогащения на по формуле <br> <br>\n",
    "$recovery = \\dfrac{C*(F-T)}{F*(C-T)}*100$%\n",
    "\n",
    "- C — доля золота в концентрате после флотации/очистки -`rougher.output.concentrate_au`\n",
    "- F — доля золота в сырье/концентрате до флотации/очистки - `rougher.input.feed_au`\n",
    "- T — доля золота в отвальных хвостах после флотации/очистки -`rougher.output.tail_au`"
   ]
  },
  {
   "cell_type": "code",
   "execution_count": 4,
   "metadata": {},
   "outputs": [],
   "source": [
    "gold_recovery_train_new['recovery_train_calculate'] = (\n",
    "    (gold_recovery_train_new['rougher.output.concentrate_au']*(gold_recovery_train_new['rougher.input.feed_au']-gold_recovery_train_new['rougher.output.tail_au']))/\n",
    "    (gold_recovery_train_new['rougher.input.feed_au']*(gold_recovery_train_new['rougher.output.concentrate_au']-gold_recovery_train_new['rougher.output.tail_au']))*100\n",
    ")"
   ]
  },
  {
   "cell_type": "code",
   "execution_count": 5,
   "metadata": {},
   "outputs": [
    {
     "name": "stdout",
     "output_type": "stream",
     "text": [
      "Среднее абсолютное отклонение МАЕ - 0.00%\n"
     ]
    }
   ],
   "source": [
    "mae = mean_absolute_error (gold_recovery_train_new['rougher.output.recovery'],gold_recovery_train_new['recovery_train_calculate'])\n",
    "print('Среднее абсолютное отклонение МАЕ - {:.2%}'.format(mae))"
   ]
  },
  {
   "cell_type": "markdown",
   "metadata": {},
   "source": [
    "**Вывод:** Отклонений нет, все корректно посчитано"
   ]
  },
  {
   "cell_type": "markdown",
   "metadata": {},
   "source": [
    "### Оценка нулевых значений"
   ]
  },
  {
   "cell_type": "markdown",
   "metadata": {},
   "source": [
    "**Комментарий:** В шаге 2 Анализа данных, были выявлены аномальные нулевые значения концентратов металлов, целесообразно заменить данные на средние значения, так как имело быть место потеря данных. Для того чтобы модель обучалась на одинаковых признаках проведем корректироку данных на данном этапе. А на всех этапах, где были нули по концентратам, удалим  значения."
   ]
  },
  {
   "cell_type": "code",
   "execution_count": 6,
   "metadata": {},
   "outputs": [],
   "source": [
    "null_concentrate_list = gold_recovery_train_new[['final.output.concentrate_au','primary_cleaner.output.concentrate_au','rougher.output.concentrate_au','rougher.input.feed_au']] [(gold_recovery_train_new ['final.output.concentrate_au']== 0)&(gold_recovery_train_new ['primary_cleaner.output.concentrate_au']== 0)&(gold_recovery_train_new ['final.output.concentrate_au']== 0)].index\n",
    "gold_recovery_train_new.drop(index = null_concentrate_list, inplace = True)\n",
    "\n",
    "rougher_output_concentrate_au_list= gold_recovery_train_new[['final.output.concentrate_au','primary_cleaner.output.concentrate_au','rougher.output.concentrate_au','rougher.input.feed_au']][(gold_recovery_train_new ['rougher.output.concentrate_au']== 0)].index\n",
    "primary_cleaner_output_concentrate_au_list = gold_recovery_train_new[['final.output.concentrate_au','primary_cleaner.output.concentrate_au','rougher.output.concentrate_au','rougher.input.feed_au']][(gold_recovery_train_new ['primary_cleaner.output.concentrate_au']== 0)].index\n",
    "final_output_concentrate_au_list = gold_recovery_train_new[['final.output.concentrate_au','primary_cleaner.output.concentrate_au','rougher.output.concentrate_au','rougher.input.feed_au']][(gold_recovery_train_new ['final.output.concentrate_au']== 0)].index\n",
    "\n",
    "gold_recovery_train_new.loc[rougher_output_concentrate_au_list, 'rougher.output.concentrate_au']=gold_recovery_train_new['rougher.output.concentrate_au'].mean()\n",
    "gold_recovery_train_new.loc[primary_cleaner_output_concentrate_au_list, 'primary_cleaner.output.concentrate_au']=gold_recovery_train_new['primary_cleaner.output.concentrate_au'].mean()\n",
    "gold_recovery_train_new.loc[final_output_concentrate_au_list, 'final.output.concentrate_au']=gold_recovery_train_new['final.output.concentrate_au'].mean()"
   ]
  },
  {
   "cell_type": "markdown",
   "metadata": {},
   "source": [
    "### Оценка недоступных данных в тестовой выборке"
   ]
  },
  {
   "cell_type": "code",
   "execution_count": 7,
   "metadata": {},
   "outputs": [],
   "source": [
    "train_columns = gold_recovery_train_new.columns\n",
    "test_columns = gold_recovery_test_new.columns\n",
    "full_columns =gold_recovery_full_new.columns\n",
    "\n",
    "missing_columns_test = []\n",
    "for i in range(len(train_columns)):\n",
    "    if (train_columns[i] not in test_columns and 'output.recovery' not in train_columns[i]):\n",
    "        missing_columns_test.append(train_columns[i])\n",
    "# missing_columns_test   # посомтрим какие колонки отсутствуют в тесте, rougher.output.recover, final.output.recovery надо оставить как таргет"
   ]
  },
  {
   "cell_type": "markdown",
   "metadata": {},
   "source": [
    "**Комментарий:** на всех стадиях отсутствуют  выходные  параметры продуктов по концентратам, хвостов металлов. Исключим эти данные из трэйна шагом ниже. "
   ]
  },
  {
   "cell_type": "code",
   "execution_count": 8,
   "metadata": {},
   "outputs": [
    {
     "name": "stdout",
     "output_type": "stream",
     "text": [
      "<class 'pandas.core.frame.DataFrame'>\n",
      "Int64Index: 14147 entries, 0 to 14148\n",
      "Data columns (total 55 columns):\n",
      "date                                          14147 non-null object\n",
      "final.output.recovery                         14147 non-null float64\n",
      "primary_cleaner.input.sulfate                 14127 non-null float64\n",
      "primary_cleaner.input.depressant              14115 non-null float64\n",
      "primary_cleaner.input.feed_size               14147 non-null float64\n",
      "primary_cleaner.input.xanthate                14047 non-null float64\n",
      "primary_cleaner.state.floatbank8_a_air        14143 non-null float64\n",
      "primary_cleaner.state.floatbank8_a_level      14146 non-null float64\n",
      "primary_cleaner.state.floatbank8_b_air        14143 non-null float64\n",
      "primary_cleaner.state.floatbank8_b_level      14146 non-null float64\n",
      "primary_cleaner.state.floatbank8_c_air        14145 non-null float64\n",
      "primary_cleaner.state.floatbank8_c_level      14146 non-null float64\n",
      "primary_cleaner.state.floatbank8_d_air        14144 non-null float64\n",
      "primary_cleaner.state.floatbank8_d_level      14146 non-null float64\n",
      "rougher.input.feed_ag                         14147 non-null float64\n",
      "rougher.input.feed_pb                         14047 non-null float64\n",
      "rougher.input.feed_rate                       14139 non-null float64\n",
      "rougher.input.feed_size                       14003 non-null float64\n",
      "rougher.input.feed_sol                        14069 non-null float64\n",
      "rougher.input.feed_au                         14147 non-null float64\n",
      "rougher.input.floatbank10_sulfate             14118 non-null float64\n",
      "rougher.input.floatbank10_xanthate            14139 non-null float64\n",
      "rougher.input.floatbank11_sulfate             14111 non-null float64\n",
      "rougher.input.floatbank11_xanthate            13719 non-null float64\n",
      "rougher.output.recovery                       14147 non-null float64\n",
      "rougher.state.floatbank10_a_air               14146 non-null float64\n",
      "rougher.state.floatbank10_a_level             14146 non-null float64\n",
      "rougher.state.floatbank10_b_air               14146 non-null float64\n",
      "rougher.state.floatbank10_b_level             14146 non-null float64\n",
      "rougher.state.floatbank10_c_air               14146 non-null float64\n",
      "rougher.state.floatbank10_c_level             14146 non-null float64\n",
      "rougher.state.floatbank10_d_air               14147 non-null float64\n",
      "rougher.state.floatbank10_d_level             14147 non-null float64\n",
      "rougher.state.floatbank10_e_air               13711 non-null float64\n",
      "rougher.state.floatbank10_e_level             14147 non-null float64\n",
      "rougher.state.floatbank10_f_air               14147 non-null float64\n",
      "rougher.state.floatbank10_f_level             14147 non-null float64\n",
      "secondary_cleaner.state.floatbank2_a_air      13930 non-null float64\n",
      "secondary_cleaner.state.floatbank2_a_level    14146 non-null float64\n",
      "secondary_cleaner.state.floatbank2_b_air      14126 non-null float64\n",
      "secondary_cleaner.state.floatbank2_b_level    14146 non-null float64\n",
      "secondary_cleaner.state.floatbank3_a_air      14143 non-null float64\n",
      "secondary_cleaner.state.floatbank3_a_level    14146 non-null float64\n",
      "secondary_cleaner.state.floatbank3_b_air      14146 non-null float64\n",
      "secondary_cleaner.state.floatbank3_b_level    14146 non-null float64\n",
      "secondary_cleaner.state.floatbank4_a_air      14141 non-null float64\n",
      "secondary_cleaner.state.floatbank4_a_level    14146 non-null float64\n",
      "secondary_cleaner.state.floatbank4_b_air      14146 non-null float64\n",
      "secondary_cleaner.state.floatbank4_b_level    14146 non-null float64\n",
      "secondary_cleaner.state.floatbank5_a_air      14146 non-null float64\n",
      "secondary_cleaner.state.floatbank5_a_level    14146 non-null float64\n",
      "secondary_cleaner.state.floatbank5_b_air      14146 non-null float64\n",
      "secondary_cleaner.state.floatbank5_b_level    14146 non-null float64\n",
      "secondary_cleaner.state.floatbank6_a_air      14145 non-null float64\n",
      "secondary_cleaner.state.floatbank6_a_level    14146 non-null float64\n",
      "dtypes: float64(54), object(1)\n",
      "memory usage: 6.7+ MB\n"
     ]
    }
   ],
   "source": [
    "data_train = gold_recovery_train_new.drop(columns = missing_columns_test)\n",
    "data_train.info()"
   ]
  },
  {
   "cell_type": "markdown",
   "metadata": {},
   "source": [
    "**Комментарий:** также в тестовой выборке отсутствуют таргеты `rougher.output.recovery` и `final.output.recovery`, добавим из датафрейма `gold_recovery_full_new`. Выполним это действие шагом ниже. "
   ]
  },
  {
   "cell_type": "code",
   "execution_count": 9,
   "metadata": {},
   "outputs": [],
   "source": [
    "gold_recovery_test_new = pd.merge(gold_recovery_test_new, gold_recovery_full_new [['date','rougher.output.recovery','final.output.recovery']], how = 'inner', on = 'date')"
   ]
  },
  {
   "cell_type": "markdown",
   "metadata": {},
   "source": [
    "### Предобратока данных"
   ]
  },
  {
   "cell_type": "markdown",
   "metadata": {},
   "source": [
    "После изучения датафреймов и условия задачи можно сделать вывод, что соседние по времени параметры часто похожи. Целесообразно заменить пропущенные значения - NaN на соседние."
   ]
  },
  {
   "cell_type": "code",
   "execution_count": 10,
   "metadata": {},
   "outputs": [],
   "source": [
    "data_train = data_train.sort_values('date').fillna(method ='ffill')\n",
    "data_test = gold_recovery_test_new .sort_values('date').fillna(method ='ffill')"
   ]
  },
  {
   "cell_type": "markdown",
   "metadata": {},
   "source": [
    "## Анализ данных"
   ]
  },
  {
   "cell_type": "markdown",
   "metadata": {},
   "source": [
    "### Оценка изменения концентрации (Au,Ag,Pb) на всех этапах очистки"
   ]
  },
  {
   "cell_type": "code",
   "execution_count": 11,
   "metadata": {},
   "outputs": [],
   "source": [
    "data_concentration_metall = gold_recovery_full_new.loc[:,gold_recovery_full_new.columns.isin(missing_columns_test)]"
   ]
  },
  {
   "cell_type": "markdown",
   "metadata": {},
   "source": [
    "Для простоты поиска создами функцию  для просмотра всех столбцов с  упоминанием метелла, который ищем."
   ]
  },
  {
   "cell_type": "code",
   "execution_count": 12,
   "metadata": {},
   "outputs": [],
   "source": [
    "def find_columns(metall,columns):\n",
    "    metall_list = []\n",
    "    for i in range(len(columns)):\n",
    "        if metall in columns[i]:\n",
    "            metall_list.append(columns[i])\n",
    "    return metall_list"
   ]
  },
  {
   "cell_type": "markdown",
   "metadata": {},
   "source": [
    "Выберем необходимые столбцы для оценки изменения  концентраций металлов"
   ]
  },
  {
   "cell_type": "code",
   "execution_count": 13,
   "metadata": {},
   "outputs": [
    {
     "data": {
      "text/plain": [
       "['final.output.concentrate_au',\n",
       " 'final.output.tail_au',\n",
       " 'primary_cleaner.output.concentrate_au',\n",
       " 'primary_cleaner.output.tail_au',\n",
       " 'rougher.calculation.sulfate_to_au_concentrate',\n",
       " 'rougher.calculation.floatbank10_sulfate_to_au_feed',\n",
       " 'rougher.calculation.floatbank11_sulfate_to_au_feed',\n",
       " 'rougher.calculation.au_pb_ratio',\n",
       " 'rougher.input.feed_au',\n",
       " 'rougher.output.concentrate_au',\n",
       " 'rougher.output.tail_au',\n",
       " 'secondary_cleaner.output.tail_au']"
      ]
     },
     "execution_count": 13,
     "metadata": {},
     "output_type": "execute_result"
    }
   ],
   "source": [
    "columns_list = find_columns('au',full_columns)\n",
    "columns_list"
   ]
  },
  {
   "cell_type": "markdown",
   "metadata": {},
   "source": [
    "Осуществим выбор и консолидацию данных для простоты использования"
   ]
  },
  {
   "cell_type": "code",
   "execution_count": 14,
   "metadata": {},
   "outputs": [],
   "source": [
    "df_au = pd.DataFrame(gold_recovery_full_new, columns=['rougher.input.feed_au', 'rougher.output.concentrate_au','primary_cleaner.output.concentrate_au','final.output.concentrate_au'])\n",
    "df_ag = pd.DataFrame(gold_recovery_full_new, columns=['rougher.input.feed_ag', 'rougher.output.concentrate_ag','primary_cleaner.output.concentrate_ag','final.output.concentrate_ag'])\n",
    "df_pb = pd.DataFrame(gold_recovery_full_new, columns=['rougher.input.feed_pb', 'rougher.output.concentrate_pb','primary_cleaner.output.concentrate_pb','final.output.concentrate_pb'])\n",
    "df_au_ag_pb = [df_au,df_ag,df_pb]\n",
    "#df_au.loc[1]"
   ]
  },
  {
   "cell_type": "markdown",
   "metadata": {},
   "source": [
    "Построим  графики концентраций  сырья"
   ]
  },
  {
   "cell_type": "code",
   "execution_count": 15,
   "metadata": {},
   "outputs": [
    {
     "data": {
      "image/png": "[encoded data removed]",
      "text/plain": [
       "<Figure size 2520x360 with 3 Axes>"
      ]
     },
     "metadata": {},
     "output_type": "display_data"
    }
   ],
   "source": [
    "fig, axes = plt.subplots(1, 3,figsize=(35, 5));\n",
    "\n",
    "title_list = ['Частота изменения концентрации AU','Частота изменения концентрации AG','Частота изменения концентрации PB']\n",
    "color = ['g','deeppink','dodgerblue','gray']\n",
    "label = ['Сырье на входе','Концентрат после флотации','Концентрат после первичной очистки','Финальный концентрат вещества']\n",
    "\n",
    "for i in range(3):\n",
    "    for j in range(4):\n",
    "        sns.kdeplot(df_au_ag_pb[i][df_au_ag_pb[i].columns[j]], shade=True, color=color[j], label=label[j], alpha=.5,ax=axes[i])\n",
    "    axes[i].set_title(title_list[i], fontsize=22)\n",
    "    axes[i].set_xlabel('Количество вещества')\n",
    "    axes[i].legend()\n",
    "plt.show()"
   ]
  },
  {
   "cell_type": "markdown",
   "metadata": {},
   "source": [
    "**Вывод:** \n",
    "- Концентрация золота (AU) увеличивается на каждом этапе это и есть основная задача технологического процесса. \n",
    "- Концентрация серебра (AG) снижается после вторичной  очистки и свинца\n",
    "- Концентрация свинца (PB) становиться практически неизменной после первичной  очистки\n",
    "- Стоит обратить внимание на нулевые значения концентрата золота после стадий очистки, скорее всего, это аномальные значения. Проанлизировав данные решено заменить на среднее в шаге 1 в блока оценка нулевых значений."
   ]
  },
  {
   "cell_type": "markdown",
   "metadata": {},
   "source": [
    "### Оценим распределение размеров гранул сырья на обучающей и тестовой выборках. "
   ]
  },
  {
   "cell_type": "markdown",
   "metadata": {},
   "source": [
    "Исходим из того, что если распределения сильно отличаются друг от друга, оценка модели будет неправильной."
   ]
  },
  {
   "cell_type": "code",
   "execution_count": 16,
   "metadata": {},
   "outputs": [
    {
     "data": {
      "text/plain": [
       "['primary_cleaner.input.feed_size', 'rougher.input.feed_size']"
      ]
     },
     "metadata": {},
     "output_type": "display_data"
    },
    {
     "data": {
      "text/plain": [
       "['primary_cleaner.input.feed_size', 'rougher.input.feed_size']"
      ]
     },
     "metadata": {},
     "output_type": "display_data"
    }
   ],
   "source": [
    "display(find_columns('size',test_columns)) # посмотрим, где есть упоминание size\n",
    "display(find_columns('size',train_columns))"
   ]
  },
  {
   "cell_type": "markdown",
   "metadata": {},
   "source": [
    "Построим распредления по размеру гранул"
   ]
  },
  {
   "cell_type": "code",
   "execution_count": 17,
   "metadata": {},
   "outputs": [
    {
     "data": {
      "image/png": "[encoded data removed]",
      "text/plain": [
       "<Figure size 2160x360 with 2 Axes>"
      ]
     },
     "metadata": {},
     "output_type": "display_data"
    }
   ],
   "source": [
    "fig, axes = plt.subplots(1, 2,figsize=(30, 5));\n",
    "title_list = ['Размер гранул исходное сырье','Размер гранул после флотации']\n",
    "label = ['Размер гранул сырья на трэйне','Размер гранул сырья на тесте']\n",
    "\n",
    "sns.kdeplot(data_train['rougher.input.feed_size'],alpha=.5,shade=True,ax=axes[0],label=label[0])\n",
    "sns.kdeplot(data_test['rougher.input.feed_size'],alpha=.5,shade=True,ax=axes[0],label=label[1]) \n",
    "axes[0].set_title(title_list[0], fontsize=22)\n",
    "# axes[0].set_xlim(0, 150)\n",
    "axes[0].set_ylabel('Частота')\n",
    "axes[0].set_xlabel(None)\n",
    "axes[0].legend()\n",
    "\n",
    "sns.kdeplot(data_train['primary_cleaner.input.feed_size'],alpha=.5,shade=True,ax=axes[1],label=label[0])\n",
    "sns.kdeplot(data_test['primary_cleaner.input.feed_size'],alpha=.5,shade=True,ax=axes[1],label=label[1])\n",
    "axes[1].set_title(title_list[1], fontsize=22)\n",
    "# axes[1].set_xlim(4, 10)\n",
    "axes[1].set_ylabel('Частота')\n",
    "axes[1].set_xlabel(None)\n",
    "axes[1].legend()\n",
    "plt.show()"
   ]
  },
  {
   "cell_type": "markdown",
   "metadata": {},
   "source": [
    "**Вывод:** Распределение гранул исходного сырья похоже на нормальное со смещением влево как в обучающей. Размер гранул после  флотации имеет вид нормального распределения. Существует много выбросов после размера гранул 120.\n",
    "\n"
   ]
  },
  {
   "cell_type": "markdown",
   "metadata": {},
   "source": [
    "### Оценка суммарной концентрации всех веществ на разных стадиях: в сырье, в черновом и финальном концентратах."
   ]
  },
  {
   "cell_type": "code",
   "execution_count": 18,
   "metadata": {},
   "outputs": [
    {
     "data": {
      "text/plain": [
       "['final.output.concentrate_ag',\n",
       " 'final.output.concentrate_pb',\n",
       " 'final.output.concentrate_sol',\n",
       " 'final.output.concentrate_au',\n",
       " 'primary_cleaner.output.concentrate_ag',\n",
       " 'primary_cleaner.output.concentrate_pb',\n",
       " 'primary_cleaner.output.concentrate_sol',\n",
       " 'primary_cleaner.output.concentrate_au',\n",
       " 'rougher.calculation.sulfate_to_au_concentrate',\n",
       " 'rougher.output.concentrate_ag',\n",
       " 'rougher.output.concentrate_pb',\n",
       " 'rougher.output.concentrate_sol',\n",
       " 'rougher.output.concentrate_au']"
      ]
     },
     "metadata": {},
     "output_type": "display_data"
    }
   ],
   "source": [
    "display(find_columns('concentrate',full_columns)) # посмотрим , что есть из концентратов"
   ]
  },
  {
   "cell_type": "markdown",
   "metadata": {},
   "source": [
    "Просуммируем все полученные концентраты на всех этапах"
   ]
  },
  {
   "cell_type": "code",
   "execution_count": 19,
   "metadata": {},
   "outputs": [],
   "source": [
    "concentrate_metall_df=pd.DataFrame()\n",
    "concentrate_metall_df['final_output_concentratet_metall']= gold_recovery_full_new['final.output.concentrate_ag']+gold_recovery_full_new['final.output.concentrate_pb']+gold_recovery_full_new['final.output.concentrate_sol']+gold_recovery_full_new['final.output.concentrate_au']\n",
    "concentrate_metall_df['primary_cleaner_output_metall'] = gold_recovery_full_new['primary_cleaner.output.concentrate_ag']+gold_recovery_full_new['primary_cleaner.output.concentrate_pb']+gold_recovery_full_new['primary_cleaner.output.concentrate_sol']+gold_recovery_full_new['primary_cleaner.output.concentrate_au']\n",
    "concentrate_metall_df['rougher_output_concentrate_metall']= gold_recovery_full_new['rougher.output.concentrate_ag']+gold_recovery_full_new['rougher.output.concentrate_pb']+gold_recovery_full_new['rougher.output.concentrate_sol']+gold_recovery_full_new['rougher.output.concentrate_au']"
   ]
  },
  {
   "cell_type": "markdown",
   "metadata": {},
   "source": [
    "Построим график концентраций всех веществ на  разнчх стадиях"
   ]
  },
  {
   "cell_type": "code",
   "execution_count": 20,
   "metadata": {},
   "outputs": [
    {
     "data": {
      "image/png": "[encoded data removed]",
      "text/plain": [
       "<Figure size 1440x720 with 1 Axes>"
      ]
     },
     "metadata": {},
     "output_type": "display_data"
    }
   ],
   "source": [
    "plt.figure(figsize=(20,10))\n",
    "sns.kdeplot(concentrate_metall_df['rougher_output_concentrate_metall'],alpha=0.5,shade=True,label = 'Выход концентрата после флотации')\n",
    "sns.kdeplot(concentrate_metall_df['primary_cleaner_output_metall'],alpha=0.5,shade=True, label = 'Выход концентрата после первичной обработки')\n",
    "sns.kdeplot(concentrate_metall_df['final_output_concentratet_metall'],alpha=0.5,shade=True, label = 'Выход концентрата после вторичной обработки')\n",
    "plt.xlim(0, 95)\n",
    "plt.legend()\n",
    "plt.title(\"Концентрации всех веществ на разных стадиях\")\n",
    "plt.xlabel('Распределение концентрации веществ')\n",
    "plt.show()"
   ]
  },
  {
   "cell_type": "markdown",
   "metadata": {},
   "source": [
    "**Вывод:**  по результатам оценки данных были выявлены отсутстующие значения - NAN и нулевые значения.\n",
    "- нулевые значения были заменены на средние соответствующие значения, записаны в трейн \n",
    "- отсутстующие значения NAN были заменены на соседние значения, записаны в трейн "
   ]
  },
  {
   "cell_type": "markdown",
   "metadata": {},
   "source": [
    "## Модель"
   ]
  },
  {
   "cell_type": "markdown",
   "metadata": {},
   "source": [
    "### Сформируем обучающую и целевые выборки"
   ]
  },
  {
   "cell_type": "markdown",
   "metadata": {},
   "source": [
    "Выделим целевые векторы"
   ]
  },
  {
   "cell_type": "code",
   "execution_count": 21,
   "metadata": {},
   "outputs": [],
   "source": [
    "data_target_rougher = data_train['rougher.output.recovery']\n",
    "data_target_final = data_train['final.output.recovery']\n",
    "data_target_rougher_test = data_test['rougher.output.recovery']\n",
    "data_target_final_test = data_test['final.output.recovery']\n",
    "\n",
    "data_features_train = data_train.drop(['date','final.output.recovery','rougher.output.recovery'],axis =1)\n",
    "data_features_test = data_test.drop(['date','final.output.recovery','rougher.output.recovery'],axis =1) "
   ]
  },
  {
   "cell_type": "code",
   "execution_count": 22,
   "metadata": {},
   "outputs": [
    {
     "data": {
      "text/plain": [
       "Index(['date', 'primary_cleaner.input.sulfate',\n",
       "       'primary_cleaner.input.depressant', 'primary_cleaner.input.feed_size',\n",
       "       'primary_cleaner.input.xanthate',\n",
       "       'primary_cleaner.state.floatbank8_a_air',\n",
       "       'primary_cleaner.state.floatbank8_a_level',\n",
       "       'primary_cleaner.state.floatbank8_b_air',\n",
       "       'primary_cleaner.state.floatbank8_b_level',\n",
       "       'primary_cleaner.state.floatbank8_c_air',\n",
       "       'primary_cleaner.state.floatbank8_c_level',\n",
       "       'primary_cleaner.state.floatbank8_d_air',\n",
       "       'primary_cleaner.state.floatbank8_d_level', 'rougher.input.feed_ag',\n",
       "       'rougher.input.feed_pb', 'rougher.input.feed_rate',\n",
       "       'rougher.input.feed_size', 'rougher.input.feed_sol',\n",
       "       'rougher.input.feed_au', 'rougher.input.floatbank10_sulfate',\n",
       "       'rougher.input.floatbank10_xanthate',\n",
       "       'rougher.input.floatbank11_sulfate',\n",
       "       'rougher.input.floatbank11_xanthate', 'rougher.state.floatbank10_a_air',\n",
       "       'rougher.state.floatbank10_a_level', 'rougher.state.floatbank10_b_air',\n",
       "       'rougher.state.floatbank10_b_level', 'rougher.state.floatbank10_c_air',\n",
       "       'rougher.state.floatbank10_c_level', 'rougher.state.floatbank10_d_air',\n",
       "       'rougher.state.floatbank10_d_level', 'rougher.state.floatbank10_e_air',\n",
       "       'rougher.state.floatbank10_e_level', 'rougher.state.floatbank10_f_air',\n",
       "       'rougher.state.floatbank10_f_level',\n",
       "       'secondary_cleaner.state.floatbank2_a_air',\n",
       "       'secondary_cleaner.state.floatbank2_a_level',\n",
       "       'secondary_cleaner.state.floatbank2_b_air',\n",
       "       'secondary_cleaner.state.floatbank2_b_level',\n",
       "       'secondary_cleaner.state.floatbank3_a_air',\n",
       "       'secondary_cleaner.state.floatbank3_a_level',\n",
       "       'secondary_cleaner.state.floatbank3_b_air',\n",
       "       'secondary_cleaner.state.floatbank3_b_level',\n",
       "       'secondary_cleaner.state.floatbank4_a_air',\n",
       "       'secondary_cleaner.state.floatbank4_a_level',\n",
       "       'secondary_cleaner.state.floatbank4_b_air',\n",
       "       'secondary_cleaner.state.floatbank4_b_level',\n",
       "       'secondary_cleaner.state.floatbank5_a_air',\n",
       "       'secondary_cleaner.state.floatbank5_a_level',\n",
       "       'secondary_cleaner.state.floatbank5_b_air',\n",
       "       'secondary_cleaner.state.floatbank5_b_level',\n",
       "       'secondary_cleaner.state.floatbank6_a_air',\n",
       "       'secondary_cleaner.state.floatbank6_a_level', 'rougher.output.recovery',\n",
       "       'final.output.recovery'],\n",
       "      dtype='object')"
      ]
     },
     "execution_count": 22,
     "metadata": {},
     "output_type": "execute_result"
    }
   ],
   "source": [
    "data_test.columns\n"
   ]
  },
  {
   "cell_type": "markdown",
   "metadata": {},
   "source": [
    "### Создание функции для вычисления итогового sMAPE"
   ]
  },
  {
   "cell_type": "markdown",
   "metadata": {},
   "source": [
    "- sMAPE расчитаем по формуле."
   ]
  },
  {
   "cell_type": "markdown",
   "metadata": {},
   "source": [
    "$sMAPE = \\frac 1n \\sum_{i=1}^n \\frac{|y_i-y_i^{predict}|}{(|y_i|-|y_i^{predict}|)*\\left( \\frac12 \\right)}*100$%  <br>"
   ]
  },
  {
   "cell_type": "markdown",
   "metadata": {},
   "source": [
    " - Итоговое sMAPE расчитаем по формуле:<br><br> $Итоговое SMAPE = 0.25*sMAPE(rougher) + 0.75*sMAPE(final)$"
   ]
  },
  {
   "cell_type": "markdown",
   "metadata": {},
   "source": [
    "### Масштабирование данных"
   ]
  },
  {
   "cell_type": "markdown",
   "metadata": {},
   "source": [
    "Так как будем работать с линейной моделью и признаки имеют разный масштаб, то требуется масштабировать данные."
   ]
  },
  {
   "cell_type": "code",
   "execution_count": 23,
   "metadata": {},
   "outputs": [],
   "source": [
    "scaler_ffeatures_train = StandardScaler()\n",
    "scaler_data_features_test = StandardScaler()\n",
    "\n",
    "scaler_ffeatures_train.fit(data_features_train)\n",
    "scaler_data_features_test.fit(data_features_test)\n",
    "\n",
    "data_features_test = scaler_data_features_test.transform(data_features_test)\n",
    "data_features_train = scaler_ffeatures_train.transform(data_features_train)\n"
   ]
  },
  {
   "cell_type": "markdown",
   "metadata": {},
   "source": [
    "Создадим функцию метрики sMAPE"
   ]
  },
  {
   "cell_type": "code",
   "execution_count": 24,
   "metadata": {},
   "outputs": [],
   "source": [
    "def smape(target,predict):# функция  расчета  smae\n",
    "    target= pd.Series(target)\n",
    "    predict = pd.Series(predict)\n",
    "    \n",
    "    n= target.shape[0]\n",
    "    \n",
    "    smape=  (\n",
    "        (((target-predict).abs())/ \n",
    "        (((target).abs()+(predict).abs())/2)).sum()\n",
    "        /n\n",
    "                    )\n",
    "    return smape"
   ]
  },
  {
   "cell_type": "markdown",
   "metadata": {},
   "source": [
    "###  LinearRegression - линейная  регрессия"
   ]
  },
  {
   "cell_type": "code",
   "execution_count": 25,
   "metadata": {},
   "outputs": [
    {
     "name": "stdout",
     "output_type": "stream",
     "text": [
      "Итоговый sMAPE: 9.38%\n"
     ]
    }
   ],
   "source": [
    "model_rougher = LinearRegression().fit(data_features_train, data_target_rougher)\n",
    "predictions_rougher = model_rougher.predict(data_features_train)\n",
    "\n",
    "model_final = LinearRegression().fit(data_features_train, data_target_final)\n",
    "predictions_final = model_final.predict(data_features_train)\n",
    "\n",
    "itog_smape = 0.25 * smape(data_target_rougher,predictions_rougher)+0.75*smape(data_target_final,predictions_final)\n",
    "\n",
    "print ('Итоговый sMAPE: {:.2%}'.format(itog_smape))"
   ]
  },
  {
   "cell_type": "markdown",
   "metadata": {},
   "source": [
    "Создадим кастомный скорер"
   ]
  },
  {
   "cell_type": "code",
   "execution_count": 26,
   "metadata": {},
   "outputs": [
    {
     "data": {
      "text/plain": [
       "make_scorer(smape, greater_is_better=False)"
      ]
     },
     "execution_count": 26,
     "metadata": {},
     "output_type": "execute_result"
    }
   ],
   "source": [
    "smape_scorer = make_scorer(smape,greater_is_better=False)\n",
    "smape_scorer"
   ]
  },
  {
   "cell_type": "markdown",
   "metadata": {},
   "source": [
    "Проверим качество модели кросс-валидацией."
   ]
  },
  {
   "cell_type": "code",
   "execution_count": 27,
   "metadata": {},
   "outputs": [
    {
     "name": "stdout",
     "output_type": "stream",
     "text": [
      "Итоговая метрика sMAPE: 12.18%\n"
     ]
    }
   ],
   "source": [
    "smape_linear_regression_rougher = cross_val_score(model_rougher, data_features_train, np.array(data_target_final),cv=5, scoring = smape_scorer).mean()\n",
    "smape_linear_regression_final = cross_val_score(model_final,data_features_train, np.array(data_target_final), cv=5, scoring = smape_scorer).mean()\n",
    "smape_linear_regression_CV = 0.25 *smape_linear_regression_rougher + 0.75 * smape_linear_regression_rougher\n",
    "print ('Итоговая метрика sMAPE: {:.2%}'.format(-1*smape_linear_regression_CV))\n"
   ]
  },
  {
   "cell_type": "markdown",
   "metadata": {},
   "source": [
    "### RandomForestRegressor - случайный лес"
   ]
  },
  {
   "cell_type": "code",
   "execution_count": 28,
   "metadata": {},
   "outputs": [
    {
     "name": "stdout",
     "output_type": "stream",
     "text": [
      "Итоговый sMAPE: 10.46%\n"
     ]
    }
   ],
   "source": [
    "model_rougher_rfr = RandomForestRegressor(random_state=393,n_estimators=10,max_depth=1)\n",
    "model_rougher_rfr.fit(data_features_train, data_target_rougher) \n",
    "predictions_rougher_rfr  = model_rougher_rfr.predict(data_features_train)\n",
    "\n",
    "model_final_rfr = RandomForestRegressor(random_state=393,n_estimators=10,max_depth=1)\n",
    "model_final_rfr.fit(data_features_train, data_target_final) \n",
    "predictions_final_rfr  = model_final_rfr.predict(data_features_train)\n",
    "\n",
    "itog_smape_rfr = 0.25 * smape(data_target_rougher,predictions_rougher_rfr)+0.75*smape(data_target_final,predictions_final_rfr)\n",
    "print ('Итоговый sMAPE: {:.2%}'.format(itog_smape_rfr))"
   ]
  },
  {
   "cell_type": "markdown",
   "metadata": {},
   "source": [
    "Составим словарь для поиска лучших параметров модели"
   ]
  },
  {
   "cell_type": "code",
   "execution_count": 29,
   "metadata": {},
   "outputs": [],
   "source": [
    "parametrs = { 'n_estimators': range (10, 50, 10),\n",
    "              'max_depth': range (1,10, 5)}"
   ]
  },
  {
   "cell_type": "code",
   "execution_count": 30,
   "metadata": {
    "tags": []
   },
   "outputs": [
    {
     "name": "stdout",
     "output_type": "stream",
     "text": [
      "CPU times: user 1min 38s, sys: 0 ns, total: 1min 38s\n",
      "Wall time: 1min 38s\n"
     ]
    },
    {
     "data": {
      "text/plain": [
       "{'max_depth': 6, 'n_estimators': 40}"
      ]
     },
     "execution_count": 30,
     "metadata": {},
     "output_type": "execute_result"
    }
   ],
   "source": [
    "%%time\n",
    "clf = RandomForestRegressor(random_state= 393)\n",
    "grid = GridSearchCV(clf, parametrs, cv=4,scoring =smape_scorer )\n",
    "grid.fit(data_features_train, np.array(data_target_rougher))\n",
    "grid.best_params_"
   ]
  },
  {
   "cell_type": "code",
   "execution_count": 31,
   "metadata": {},
   "outputs": [
    {
     "name": "stdout",
     "output_type": "stream",
     "text": [
      "CPU times: user 1min 34s, sys: 90.6 ms, total: 1min 34s\n",
      "Wall time: 1min 35s\n"
     ]
    },
    {
     "data": {
      "text/plain": [
       "{'max_depth': 6, 'n_estimators': 30}"
      ]
     },
     "execution_count": 31,
     "metadata": {},
     "output_type": "execute_result"
    }
   ],
   "source": [
    "%%time\n",
    "clf = RandomForestRegressor(random_state= 393)\n",
    "grid2 = GridSearchCV(clf, parametrs, cv=4,scoring =smape_scorer)\n",
    "grid2.fit(data_features_train, np.array(data_target_final))\n",
    "grid2.best_params_"
   ]
  },
  {
   "cell_type": "code",
   "execution_count": 32,
   "metadata": {},
   "outputs": [
    {
     "name": "stdout",
     "output_type": "stream",
     "text": [
      "Итоговый sMAPE: 8.18%\n"
     ]
    }
   ],
   "source": [
    "model_rougher_rfr = RandomForestRegressor(random_state=393,n_estimators=60,max_depth=8)\n",
    "model_rougher_rfr.fit(data_features_train, data_target_rougher) \n",
    "predictions_rougher_rfr  = model_rougher_rfr.predict(data_features_train)\n",
    "\n",
    "model_final_rfr = RandomForestRegressor(random_state=393,n_estimators=40,max_depth=8)\n",
    "model_final_rfr.fit(data_features_train, data_target_final) \n",
    "predictions_final_rfr  = model_final_rfr.predict(data_features_train)\n",
    "\n",
    "itog_smape_rfr = 0.25 * smape(data_target_rougher,predictions_rougher_rfr)+0.75*smape(data_target_final,predictions_final_rfr)\n",
    "print ('Итоговый sMAPE: {:.2%}'.format(itog_smape_rfr))"
   ]
  },
  {
   "cell_type": "markdown",
   "metadata": {},
   "source": [
    "### Оценка лучшей модели. Проверка  на тестовой выборке. "
   ]
  },
  {
   "cell_type": "markdown",
   "metadata": {},
   "source": [
    "Наилучшие показатели метрики sMAPE показывает модель RandomForestRegressor. Проведем оценку на тестовой  выборке с  подобранными параметрами."
   ]
  },
  {
   "cell_type": "code",
   "execution_count": 33,
   "metadata": {},
   "outputs": [
    {
     "name": "stdout",
     "output_type": "stream",
     "text": [
      "Итоговый sMAPE: 4.50%\n"
     ]
    }
   ],
   "source": [
    "model_rougher_rfr = RandomForestRegressor(random_state=393,n_estimators=50,max_depth=6)\n",
    "model_rougher_rfr.fit(data_features_train, data_target_rougher) \n",
    "predictions_rougher_rfr  = model_rougher_rfr.predict(data_features_test)\n",
    "\n",
    "model_final_rfr = RandomForestRegressor(random_state=393,n_estimators=30,max_depth=6)\n",
    "model_final_rfr.fit(data_features_train, data_target_final) \n",
    "predictions_final_rfr  = model_final_rfr.predict(data_features_test)\n",
    "\n",
    "itog_smape_rfr = 0.25 * smape(data_target_rougher,predictions_rougher_rfr)+0.75*smape(data_target_final,predictions_final_rfr)\n",
    "print ('Итоговый sMAPE: {:.2%}'.format(itog_smape_rfr))"
   ]
  },
  {
   "cell_type": "markdown",
   "metadata": {},
   "source": [
    "**Вывод:** на тестовой выборке результаты метрики, чуть лучше, чем на трейне."
   ]
  },
  {
   "cell_type": "raw",
   "metadata": {},
   "source": [
    "dummy_regressor_rougher = DummyRegressor(strategy=\"median\")\n",
    "dummy_regressor_rougher.fit(X_train, y_train_rougher)\n",
    "dummy_rougher_pred = dummy_regressor_rougher.predict(X_test)\n",
    "smape_dummy_rougher = smape(y_test_rougher, dummy_rougher_pred)\n",
    "print(smape_dummy_rougher) \n",
    "<div class=\"alert alert-block alert-info\"> не знал или забыл, что такой есть DummyRegressor.Благодарю.🙏</div>\n",
    "И ДАЛЕЕ: ДЛЯ FINAL И ИТОГОВЫЙ"
   ]
  },
  {
   "cell_type": "markdown",
   "metadata": {},
   "source": [
    "### Оценка качества модели. Сравнение с константной моделью. "
   ]
  },
  {
   "cell_type": "markdown",
   "metadata": {},
   "source": [
    "Проведем сравнение с констатной моделью. В  качестве константы используем медианные значение "
   ]
  },
  {
   "cell_type": "code",
   "execution_count": 34,
   "metadata": {},
   "outputs": [
    {
     "name": "stdout",
     "output_type": "stream",
     "text": [
      "Итоговый sMAPE константной модели: 4.02%\n"
     ]
    }
   ],
   "source": [
    "dummy_regressor_rougher = DummyRegressor(strategy=\"median\")\n",
    "dummy_regressor_rougher.fit(data_features_train, data_target_rougher)\n",
    "dummy_rougher_pred = dummy_regressor_rougher.predict(data_features_test)\n",
    "\n",
    "dummy_regressor_final = DummyRegressor(strategy=\"median\")\n",
    "dummy_regressor_final.fit(data_features_train, data_target_final)\n",
    "dummy_final_pred = dummy_regressor_final.predict(data_features_test)\n",
    "\n",
    "itog_smape_median= 0.25 * smape(data_target_rougher, dummy_rougher_pred)+0.75*smape(data_target_final,dummy_final_pred)\n",
    "\n",
    "print('Итоговый sMAPE константной модели: {:.2%}'.format(itog_smape_median)) "
   ]
  },
  {
   "cell_type": "markdown",
   "metadata": {},
   "source": [
    "# Итоговый вывод: "
   ]
  },
  {
   "cell_type": "markdown",
   "metadata": {},
   "source": [
    "- По результатам проделанной работы рассмотрены  две модели  линейной  регресии и случайный лес. \n",
    "- Наиболее лучшая оценочная метрика sMAPE пока зала модель RandomForestRegressor - 4.51%\n",
    "- Сравненние с константной моделью, значение целевой метрики sMAPE проигрывает на 0.5 . Константная модель выглядит адекватнее выбранной, \"Увы и ах\".\n",
    "\n"
   ]
  }
 ],
 "metadata": {
  "ExecuteTimeLog": [
   {
    "duration": 1120,
    "start_time": "2021-11-28T13:59:38.169Z"
   },
   {
    "duration": 1659,
    "start_time": "2021-11-28T13:59:44.771Z"
   },
   {
    "duration": 3,
    "start_time": "2021-11-28T13:59:46.431Z"
   },
   {
    "duration": 8,
    "start_time": "2021-11-28T14:00:43.273Z"
   },
   {
    "duration": 5,
    "start_time": "2021-11-28T14:00:43.711Z"
   },
   {
    "duration": 28,
    "start_time": "2021-11-28T14:01:03.238Z"
   },
   {
    "duration": 3,
    "start_time": "2021-11-28T14:02:38.981Z"
   },
   {
    "duration": 14,
    "start_time": "2021-11-28T14:02:56.232Z"
   },
   {
    "duration": 13,
    "start_time": "2021-11-28T14:02:57.528Z"
   },
   {
    "duration": 22,
    "start_time": "2021-11-28T14:02:58.770Z"
   },
   {
    "duration": 5,
    "start_time": "2021-11-28T14:04:04.210Z"
   },
   {
    "duration": 3,
    "start_time": "2021-11-28T14:04:05.330Z"
   },
   {
    "duration": 3,
    "start_time": "2021-11-28T14:04:06.066Z"
   },
   {
    "duration": 6,
    "start_time": "2021-11-28T14:04:06.839Z"
   },
   {
    "duration": 979,
    "start_time": "2021-11-28T14:04:07.446Z"
   },
   {
    "duration": 5,
    "start_time": "2021-11-28T14:04:42.635Z"
   },
   {
    "duration": 639,
    "start_time": "2021-11-28T14:04:43.598Z"
   },
   {
    "duration": 3,
    "start_time": "2021-11-28T14:05:12.940Z"
   },
   {
    "duration": 8,
    "start_time": "2021-11-28T14:05:13.953Z"
   },
   {
    "duration": 438,
    "start_time": "2021-11-28T14:05:15.550Z"
   },
   {
    "duration": 9,
    "start_time": "2021-11-28T14:08:26.536Z"
   },
   {
    "duration": 4,
    "start_time": "2021-11-28T14:08:27.485Z"
   },
   {
    "duration": 22,
    "start_time": "2021-11-28T14:08:52.568Z"
   },
   {
    "duration": 3,
    "start_time": "2021-11-28T14:08:53.489Z"
   },
   {
    "duration": 621,
    "start_time": "2021-11-28T14:08:57.778Z"
   },
   {
    "duration": 4,
    "start_time": "2021-11-28T14:08:59.704Z"
   },
   {
    "duration": 3101,
    "start_time": "2021-11-28T14:09:00.893Z"
   },
   {
    "duration": 1111,
    "start_time": "2021-11-28T14:09:03.997Z"
   },
   {
    "duration": 3,
    "start_time": "2021-11-28T14:09:05.110Z"
   },
   {
    "duration": 95676,
    "start_time": "2021-11-28T14:09:05.114Z"
   },
   {
    "duration": 99015,
    "start_time": "2021-11-28T14:10:40.791Z"
   },
   {
    "duration": 14560,
    "start_time": "2021-11-28T14:12:19.808Z"
   },
   {
    "duration": 5024,
    "start_time": "2021-11-28T14:12:34.369Z"
   },
   {
    "duration": 304,
    "start_time": "2021-11-28T15:42:46.457Z"
   },
   {
    "duration": 1171,
    "start_time": "2021-11-28T15:42:54.330Z"
   },
   {
    "duration": 1747,
    "start_time": "2021-11-28T15:42:55.503Z"
   },
   {
    "duration": 2,
    "start_time": "2021-11-28T15:42:57.252Z"
   },
   {
    "duration": 13,
    "start_time": "2021-11-28T15:42:57.256Z"
   },
   {
    "duration": 4,
    "start_time": "2021-11-28T15:42:57.270Z"
   },
   {
    "duration": 31,
    "start_time": "2021-11-28T15:42:57.276Z"
   },
   {
    "duration": 3,
    "start_time": "2021-11-28T15:42:57.309Z"
   },
   {
    "duration": 38,
    "start_time": "2021-11-28T15:42:57.314Z"
   },
   {
    "duration": 15,
    "start_time": "2021-11-28T15:42:57.354Z"
   },
   {
    "duration": 23,
    "start_time": "2021-11-28T15:42:57.371Z"
   },
   {
    "duration": 6,
    "start_time": "2021-11-28T15:42:57.396Z"
   },
   {
    "duration": 9,
    "start_time": "2021-11-28T15:42:57.404Z"
   },
   {
    "duration": 7,
    "start_time": "2021-11-28T15:42:57.414Z"
   },
   {
    "duration": 27,
    "start_time": "2021-11-28T15:42:57.422Z"
   },
   {
    "duration": 1041,
    "start_time": "2021-11-28T15:42:57.450Z"
   },
   {
    "duration": 4,
    "start_time": "2021-11-28T15:42:58.493Z"
   },
   {
    "duration": 723,
    "start_time": "2021-11-28T15:42:58.499Z"
   },
   {
    "duration": 4,
    "start_time": "2021-11-28T15:42:59.223Z"
   },
   {
    "duration": 21,
    "start_time": "2021-11-28T15:42:59.228Z"
   },
   {
    "duration": 474,
    "start_time": "2021-11-28T15:42:59.250Z"
   },
   {
    "duration": 9,
    "start_time": "2021-11-28T15:42:59.726Z"
   },
   {
    "duration": 4,
    "start_time": "2021-11-28T15:42:59.745Z"
   },
   {
    "duration": 25,
    "start_time": "2021-11-28T15:42:59.751Z"
   },
   {
    "duration": 3,
    "start_time": "2021-11-28T15:42:59.778Z"
   },
   {
    "duration": 569,
    "start_time": "2021-11-28T15:42:59.782Z"
   },
   {
    "duration": 4,
    "start_time": "2021-11-28T15:43:00.353Z"
   },
   {
    "duration": 2586,
    "start_time": "2021-11-28T15:43:00.359Z"
   },
   {
    "duration": 1046,
    "start_time": "2021-11-28T15:43:02.948Z"
   },
   {
    "duration": 2,
    "start_time": "2021-11-28T15:43:03.996Z"
   },
   {
    "duration": 103277,
    "start_time": "2021-11-28T15:43:04.000Z"
   },
   {
    "duration": 97477,
    "start_time": "2021-11-28T15:44:47.279Z"
   },
   {
    "duration": 15186,
    "start_time": "2021-11-28T15:46:24.758Z"
   },
   {
    "duration": 5571,
    "start_time": "2021-11-28T15:46:39.946Z"
   },
   {
    "duration": 6413,
    "start_time": "2021-11-28T15:49:10.528Z"
   },
   {
    "duration": 4,
    "start_time": "2021-11-28T15:50:29.073Z"
   },
   {
    "duration": 4,
    "start_time": "2021-11-28T15:50:48.608Z"
   },
   {
    "duration": 4,
    "start_time": "2021-11-28T15:52:59.273Z"
   },
   {
    "duration": 3,
    "start_time": "2021-11-28T15:53:12.899Z"
   },
   {
    "duration": 340,
    "start_time": "2021-11-28T15:53:34.179Z"
   },
   {
    "duration": 272,
    "start_time": "2021-11-28T15:53:46.202Z"
   },
   {
    "duration": 4,
    "start_time": "2021-11-28T15:54:24.098Z"
   },
   {
    "duration": 4,
    "start_time": "2021-11-28T15:54:41.274Z"
   },
   {
    "duration": 4,
    "start_time": "2021-11-28T15:55:30.717Z"
   },
   {
    "duration": 4,
    "start_time": "2021-11-28T15:58:07.172Z"
   },
   {
    "duration": 31,
    "start_time": "2021-11-28T15:58:22.525Z"
   },
   {
    "duration": 5,
    "start_time": "2021-11-28T15:58:52.917Z"
   },
   {
    "duration": 7,
    "start_time": "2021-11-28T15:59:45.670Z"
   },
   {
    "duration": 5150,
    "start_time": "2021-11-28T16:00:00.733Z"
   },
   {
    "duration": 1146,
    "start_time": "2021-11-28T16:00:25.041Z"
   },
   {
    "duration": 1670,
    "start_time": "2021-11-28T16:00:26.189Z"
   },
   {
    "duration": 3,
    "start_time": "2021-11-28T16:00:27.860Z"
   },
   {
    "duration": 12,
    "start_time": "2021-11-28T16:00:27.864Z"
   },
   {
    "duration": 5,
    "start_time": "2021-11-28T16:00:27.877Z"
   },
   {
    "duration": 31,
    "start_time": "2021-11-28T16:00:27.883Z"
   },
   {
    "duration": 3,
    "start_time": "2021-11-28T16:00:27.916Z"
   },
   {
    "duration": 31,
    "start_time": "2021-11-28T16:00:27.922Z"
   },
   {
    "duration": 13,
    "start_time": "2021-11-28T16:00:27.955Z"
   },
   {
    "duration": 26,
    "start_time": "2021-11-28T16:00:27.970Z"
   },
   {
    "duration": 5,
    "start_time": "2021-11-28T16:00:27.997Z"
   },
   {
    "duration": 4,
    "start_time": "2021-11-28T16:00:28.004Z"
   },
   {
    "duration": 7,
    "start_time": "2021-11-28T16:00:28.010Z"
   },
   {
    "duration": 5,
    "start_time": "2021-11-28T16:00:28.044Z"
   },
   {
    "duration": 1043,
    "start_time": "2021-11-28T16:00:28.051Z"
   },
   {
    "duration": 5,
    "start_time": "2021-11-28T16:00:29.096Z"
   },
   {
    "duration": 799,
    "start_time": "2021-11-28T16:00:29.102Z"
   },
   {
    "duration": 4,
    "start_time": "2021-11-28T16:00:29.902Z"
   },
   {
    "duration": 36,
    "start_time": "2021-11-28T16:00:29.907Z"
   },
   {
    "duration": 479,
    "start_time": "2021-11-28T16:00:29.945Z"
   },
   {
    "duration": 9,
    "start_time": "2021-11-28T16:00:30.426Z"
   },
   {
    "duration": 46,
    "start_time": "2021-11-28T16:00:30.444Z"
   },
   {
    "duration": 37,
    "start_time": "2021-11-28T16:00:30.492Z"
   },
   {
    "duration": 12,
    "start_time": "2021-11-28T16:00:30.531Z"
   },
   {
    "duration": 400,
    "start_time": "2021-11-28T16:00:30.545Z"
   },
   {
    "duration": 5,
    "start_time": "2021-11-28T16:00:30.948Z"
   },
   {
    "duration": 2890,
    "start_time": "2021-11-28T16:00:30.955Z"
   },
   {
    "duration": 1033,
    "start_time": "2021-11-28T16:00:33.848Z"
   },
   {
    "duration": 4,
    "start_time": "2021-11-28T16:00:34.882Z"
   },
   {
    "duration": 101014,
    "start_time": "2021-11-28T16:00:34.888Z"
   },
   {
    "duration": 96302,
    "start_time": "2021-11-28T16:02:15.903Z"
   },
   {
    "duration": 14918,
    "start_time": "2021-11-28T16:03:52.206Z"
   },
   {
    "duration": 5018,
    "start_time": "2021-11-28T16:04:07.126Z"
   },
   {
    "duration": 4,
    "start_time": "2021-11-28T16:04:12.145Z"
   },
   {
    "duration": 15272,
    "start_time": "2021-11-28T16:04:30.803Z"
   },
   {
    "duration": 15191,
    "start_time": "2021-11-28T16:05:47.716Z"
   },
   {
    "duration": 5,
    "start_time": "2021-11-28T16:21:22.261Z"
   },
   {
    "duration": 8,
    "start_time": "2021-11-28T16:35:13.948Z"
   },
   {
    "duration": 764,
    "start_time": "2021-11-28T16:41:50.167Z"
   },
   {
    "duration": 9,
    "start_time": "2021-11-28T16:42:13.848Z"
   },
   {
    "duration": 9,
    "start_time": "2021-11-28T16:42:29.575Z"
   },
   {
    "duration": 10,
    "start_time": "2021-11-28T16:42:33.856Z"
   },
   {
    "duration": 10,
    "start_time": "2021-11-28T16:42:58.905Z"
   },
   {
    "duration": 108,
    "start_time": "2021-11-28T16:51:41.173Z"
   },
   {
    "duration": 3,
    "start_time": "2021-11-28T16:51:49.228Z"
   },
   {
    "duration": 1346994,
    "start_time": "2021-11-28T16:51:50.948Z"
   },
   {
    "duration": 1466,
    "start_time": "2021-11-28T17:14:52.583Z"
   },
   {
    "duration": 1039,
    "start_time": "2021-11-28T17:14:53.013Z"
   },
   {
    "duration": 1035,
    "start_time": "2021-11-28T17:14:53.018Z"
   },
   {
    "duration": 1032,
    "start_time": "2021-11-28T17:14:53.022Z"
   },
   {
    "duration": 1008,
    "start_time": "2021-11-28T17:14:53.047Z"
   },
   {
    "duration": 1006,
    "start_time": "2021-11-28T17:14:53.050Z"
   },
   {
    "duration": 1003,
    "start_time": "2021-11-28T17:14:53.054Z"
   },
   {
    "duration": 1001,
    "start_time": "2021-11-28T17:14:53.056Z"
   },
   {
    "duration": 999,
    "start_time": "2021-11-28T17:14:53.059Z"
   },
   {
    "duration": 998,
    "start_time": "2021-11-28T17:14:53.061Z"
   },
   {
    "duration": 996,
    "start_time": "2021-11-28T17:14:53.064Z"
   },
   {
    "duration": 994,
    "start_time": "2021-11-28T17:14:53.067Z"
   },
   {
    "duration": 990,
    "start_time": "2021-11-28T17:14:53.071Z"
   },
   {
    "duration": 988,
    "start_time": "2021-11-28T17:14:53.074Z"
   },
   {
    "duration": 986,
    "start_time": "2021-11-28T17:14:53.077Z"
   },
   {
    "duration": 983,
    "start_time": "2021-11-28T17:14:53.081Z"
   },
   {
    "duration": 981,
    "start_time": "2021-11-28T17:14:53.084Z"
   },
   {
    "duration": 978,
    "start_time": "2021-11-28T17:14:53.088Z"
   },
   {
    "duration": 976,
    "start_time": "2021-11-28T17:14:53.091Z"
   },
   {
    "duration": 974,
    "start_time": "2021-11-28T17:14:53.094Z"
   },
   {
    "duration": 972,
    "start_time": "2021-11-28T17:14:53.097Z"
   },
   {
    "duration": 970,
    "start_time": "2021-11-28T17:14:53.100Z"
   },
   {
    "duration": 967,
    "start_time": "2021-11-28T17:14:53.104Z"
   },
   {
    "duration": 966,
    "start_time": "2021-11-28T17:14:53.106Z"
   },
   {
    "duration": 955,
    "start_time": "2021-11-28T17:14:53.118Z"
   },
   {
    "duration": 949,
    "start_time": "2021-11-28T17:14:53.125Z"
   },
   {
    "duration": 935,
    "start_time": "2021-11-28T17:14:53.140Z"
   },
   {
    "duration": 931,
    "start_time": "2021-11-28T17:14:53.145Z"
   },
   {
    "duration": 928,
    "start_time": "2021-11-28T17:14:53.149Z"
   },
   {
    "duration": 918,
    "start_time": "2021-11-28T17:14:53.160Z"
   },
   {
    "duration": 912,
    "start_time": "2021-11-28T17:14:53.167Z"
   },
   {
    "duration": 903,
    "start_time": "2021-11-28T17:14:53.177Z"
   },
   {
    "duration": 901,
    "start_time": "2021-11-28T17:14:53.180Z"
   },
   {
    "duration": 897,
    "start_time": "2021-11-28T17:14:53.185Z"
   },
   {
    "duration": 93,
    "start_time": "2021-11-28T17:15:37.641Z"
   },
   {
    "duration": 95,
    "start_time": "2021-11-28T17:15:46.721Z"
   },
   {
    "duration": 92,
    "start_time": "2021-11-28T17:15:54.233Z"
   },
   {
    "duration": 1251,
    "start_time": "2021-11-28T17:16:17.230Z"
   },
   {
    "duration": 1673,
    "start_time": "2021-11-28T17:16:18.483Z"
   },
   {
    "duration": 2,
    "start_time": "2021-11-28T17:16:20.158Z"
   },
   {
    "duration": 20,
    "start_time": "2021-11-28T17:16:20.162Z"
   },
   {
    "duration": 5,
    "start_time": "2021-11-28T17:16:20.184Z"
   },
   {
    "duration": 37,
    "start_time": "2021-11-28T17:16:20.190Z"
   },
   {
    "duration": 3,
    "start_time": "2021-11-28T17:16:20.229Z"
   },
   {
    "duration": 24,
    "start_time": "2021-11-28T17:16:20.234Z"
   },
   {
    "duration": 15,
    "start_time": "2021-11-28T17:16:20.260Z"
   },
   {
    "duration": 23,
    "start_time": "2021-11-28T17:16:20.277Z"
   },
   {
    "duration": 4,
    "start_time": "2021-11-28T17:16:20.302Z"
   },
   {
    "duration": 13,
    "start_time": "2021-11-28T17:16:20.308Z"
   },
   {
    "duration": 23,
    "start_time": "2021-11-28T17:16:20.323Z"
   },
   {
    "duration": 29,
    "start_time": "2021-11-28T17:16:20.348Z"
   },
   {
    "duration": 1033,
    "start_time": "2021-11-28T17:16:20.378Z"
   },
   {
    "duration": 6,
    "start_time": "2021-11-28T17:16:21.413Z"
   },
   {
    "duration": 726,
    "start_time": "2021-11-28T17:16:21.420Z"
   },
   {
    "duration": 4,
    "start_time": "2021-11-28T17:16:22.148Z"
   },
   {
    "duration": 14,
    "start_time": "2021-11-28T17:16:22.154Z"
   },
   {
    "duration": 478,
    "start_time": "2021-11-28T17:16:22.170Z"
   },
   {
    "duration": 9,
    "start_time": "2021-11-28T17:16:22.650Z"
   },
   {
    "duration": 29,
    "start_time": "2021-11-28T17:16:22.660Z"
   },
   {
    "duration": 34,
    "start_time": "2021-11-28T17:16:22.692Z"
   },
   {
    "duration": 5,
    "start_time": "2021-11-28T17:16:22.728Z"
   },
   {
    "duration": 521,
    "start_time": "2021-11-28T17:16:22.735Z"
   },
   {
    "duration": 90,
    "start_time": "2021-11-28T17:16:23.258Z"
   },
   {
    "duration": 2997,
    "start_time": "2021-11-28T17:16:23.351Z"
   },
   {
    "duration": 1145,
    "start_time": "2021-11-28T17:16:26.351Z"
   },
   {
    "duration": 3,
    "start_time": "2021-11-28T17:16:27.498Z"
   },
   {
    "duration": 413419,
    "start_time": "2021-11-28T17:16:27.503Z"
   },
   {
    "duration": 395881,
    "start_time": "2021-11-28T17:23:20.924Z"
   },
   {
    "duration": 15041,
    "start_time": "2021-11-28T17:29:56.807Z"
   },
   {
    "duration": 15214,
    "start_time": "2021-11-28T17:30:11.850Z"
   },
   {
    "duration": 10,
    "start_time": "2021-11-28T17:30:27.066Z"
   },
   {
    "duration": 29657,
    "start_time": "2021-11-28T17:32:10.575Z"
   },
   {
    "duration": 32311,
    "start_time": "2021-11-28T17:37:14.780Z"
   },
   {
    "duration": 29909,
    "start_time": "2021-11-28T17:37:59.316Z"
   },
   {
    "duration": 32324,
    "start_time": "2021-11-28T17:38:55.437Z"
   },
   {
    "duration": 35058,
    "start_time": "2021-11-28T17:40:50.133Z"
   },
   {
    "duration": 22082,
    "start_time": "2021-11-28T17:41:48.806Z"
   },
   {
    "duration": 20198,
    "start_time": "2021-11-28T17:44:32.528Z"
   },
   {
    "duration": 25246,
    "start_time": "2021-11-28T17:45:44.072Z"
   },
   {
    "duration": 17545,
    "start_time": "2021-11-28T17:55:49.311Z"
   },
   {
    "duration": 1281,
    "start_time": "2021-11-28T17:58:32.637Z"
   },
   {
    "duration": 1708,
    "start_time": "2021-11-28T17:58:33.920Z"
   },
   {
    "duration": 2,
    "start_time": "2021-11-28T17:58:35.630Z"
   },
   {
    "duration": 32,
    "start_time": "2021-11-28T17:58:35.634Z"
   },
   {
    "duration": 20,
    "start_time": "2021-11-28T17:58:35.667Z"
   },
   {
    "duration": 45,
    "start_time": "2021-11-28T17:58:35.689Z"
   },
   {
    "duration": 3,
    "start_time": "2021-11-28T17:58:35.736Z"
   },
   {
    "duration": 47,
    "start_time": "2021-11-28T17:58:35.741Z"
   },
   {
    "duration": 40,
    "start_time": "2021-11-28T17:58:35.790Z"
   },
   {
    "duration": 34,
    "start_time": "2021-11-28T17:58:35.831Z"
   },
   {
    "duration": 9,
    "start_time": "2021-11-28T17:58:35.866Z"
   },
   {
    "duration": 21,
    "start_time": "2021-11-28T17:58:35.876Z"
   },
   {
    "duration": 21,
    "start_time": "2021-11-28T17:58:35.899Z"
   },
   {
    "duration": 25,
    "start_time": "2021-11-28T17:58:35.921Z"
   },
   {
    "duration": 1020,
    "start_time": "2021-11-28T17:58:35.947Z"
   },
   {
    "duration": 4,
    "start_time": "2021-11-28T17:58:36.969Z"
   },
   {
    "duration": 681,
    "start_time": "2021-11-28T17:58:36.975Z"
   },
   {
    "duration": 4,
    "start_time": "2021-11-28T17:58:37.658Z"
   },
   {
    "duration": 37,
    "start_time": "2021-11-28T17:58:37.664Z"
   },
   {
    "duration": 458,
    "start_time": "2021-11-28T17:58:37.702Z"
   },
   {
    "duration": 9,
    "start_time": "2021-11-28T17:58:38.162Z"
   },
   {
    "duration": 22,
    "start_time": "2021-11-28T17:58:38.173Z"
   },
   {
    "duration": 24,
    "start_time": "2021-11-28T17:58:38.199Z"
   },
   {
    "duration": 4,
    "start_time": "2021-11-28T17:58:38.225Z"
   },
   {
    "duration": 720,
    "start_time": "2021-11-28T17:58:38.231Z"
   },
   {
    "duration": 4,
    "start_time": "2021-11-28T17:58:38.953Z"
   },
   {
    "duration": 2589,
    "start_time": "2021-11-28T17:58:38.958Z"
   },
   {
    "duration": 1064,
    "start_time": "2021-11-28T17:58:41.549Z"
   },
   {
    "duration": 3,
    "start_time": "2021-11-28T17:58:42.614Z"
   },
   {
    "duration": 98894,
    "start_time": "2021-11-28T17:58:42.618Z"
   },
   {
    "duration": 95474,
    "start_time": "2021-11-28T18:00:21.514Z"
   },
   {
    "duration": 33583,
    "start_time": "2021-11-28T18:01:56.990Z"
   },
   {
    "duration": 20401,
    "start_time": "2021-11-28T18:02:30.575Z"
   },
   {
    "duration": 9,
    "start_time": "2021-11-28T18:02:50.978Z"
   }
  ],
  "kernelspec": {
   "display_name": "Python 3 (ipykernel)",
   "language": "python",
   "name": "python3"
  },
  "language_info": {
   "codemirror_mode": {
    "name": "ipython",
    "version": 3
   },
   "file_extension": ".py",
   "mimetype": "text/x-python",
   "name": "python",
   "nbconvert_exporter": "python",
   "pygments_lexer": "ipython3",
   "version": "3.9.6"
  },
  "toc": {
   "base_numbering": 1,
   "nav_menu": {},
   "number_sections": true,
   "sideBar": true,
   "skip_h1_title": true,
   "title_cell": "Содержание",
   "title_sidebar": "Contents",
   "toc_cell": false,
   "toc_position": {},
   "toc_section_display": true,
   "toc_window_display": false
  }
 },
 "nbformat": 4,
 "nbformat_minor": 4
}
